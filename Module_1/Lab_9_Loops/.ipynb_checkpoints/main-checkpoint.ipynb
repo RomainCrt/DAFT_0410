{
 "cells": [
  {
   "cell_type": "markdown",
   "metadata": {},
   "source": [
    "# Loops\n",
    "\n",
    "Complete the following set of exercises to solidify your knowledge for Loops."
   ]
  },
  {
   "cell_type": "markdown",
   "metadata": {},
   "source": [
    "#### 1. Print first 10 natural numbers using while loop"
   ]
  },
  {
   "cell_type": "code",
   "execution_count": 3,
   "metadata": {
    "collapsed": true
   },
   "outputs": [
    {
     "name": "stdout",
     "output_type": "stream",
     "text": [
      "1\n",
      "2\n",
      "3\n",
      "4\n",
      "5\n",
      "6\n",
      "7\n",
      "8\n",
      "9\n",
      "10\n"
     ]
    }
   ],
   "source": [
    "i=1\n",
    "while i<11:\n",
    "    print(i)\n",
    "    i += 1"
   ]
  },
  {
   "cell_type": "markdown",
   "metadata": {},
   "source": [
    "#### 2. Display numbers from a list using loop\n",
    "Write a program to display only those numbers from a list that satisfy the following conditions\n",
    "\n",
    "The number must be divisible by five\n",
    "\n",
    "If the number is greater than 150, then skip it and move to the next number\n",
    "\n",
    "If the number is greater than 500, then stop the loop\n",
    "\n",
    "numbers = [12, 75, 150, 180, 145, 525, 50]"
   ]
  },
  {
   "cell_type": "code",
   "execution_count": 22,
   "metadata": {},
   "outputs": [
    {
     "name": "stdout",
     "output_type": "stream",
     "text": [
      "75\n",
      "150\n",
      "145\n"
     ]
    }
   ],
   "source": [
    "numbers = [12, 75, 150, 180, 145, 525, 50]\n",
    "for i in numbers:\n",
    "    if i % 5 == 0:\n",
    "        if i >500:\n",
    "            break\n",
    "        if i > 150:\n",
    "            continue\n",
    "        print(i)"
   ]
  },
  {
   "cell_type": "markdown",
   "metadata": {},
   "source": [
    "#### 3.Write a Python program to check the validity of a password (input from users).\n",
    "\n",
    "Validation :\n",
    "\n",
    "At least 1 letter between [a-z] and 1 letter between [A-Z].\n",
    "\n",
    "At least 1 number between [0-9].\n",
    "\n",
    "At least 1 character from [$#@].\n",
    "\n",
    "Minimum length 6 characters.\n",
    "\n",
    "Maximum length 16 characters."
   ]
  },
  {
   "cell_type": "code",
   "execution_count": 21,
   "metadata": {},
   "outputs": [
    {
     "name": "stdout",
     "output_type": "stream",
     "text": [
      "Input Password ?jM4@kkk\n",
      "Password Ok\n"
     ]
    }
   ],
   "source": [
    "import re\n",
    "x = input('Input Password ?')\n",
    "pattern = '[a-z]'\n",
    "if re.findall(pattern, x) != []:\n",
    "    pattern = '[A-Z]'\n",
    "    if re.findall(pattern, x) != []:\n",
    "        pattern = '[0-9]'\n",
    "        if re.findall(pattern, x) != []:\n",
    "            pattern = '[$#@]'\n",
    "            if re.findall(pattern, x) != []:\n",
    "                if len(x)>5:\n",
    "                    if len(x)<17:\n",
    "                        print('Password Ok')\n",
    "                    else:\n",
    "                        print('Password maximum length 16 characters')\n",
    "                else:\n",
    "                    print('Password minimum length 6 characters.')\n",
    "            else:\n",
    "                print('Password need at least 1 character from [$#@].')\n",
    "        else:\n",
    "            print('Password need at least 1 character from [0-9].')\n",
    "    else:\n",
    "        print('Password need at least 1 character from [A-Z].')\n",
    "else:\n",
    "    print('Password need at least 1 character from [a-z].')\n",
    "    "
   ]
  },
  {
   "cell_type": "markdown",
   "metadata": {},
   "source": [
    "#### 4. Break the loop when x is 6, and see what happens with the else block"
   ]
  },
  {
   "cell_type": "code",
   "execution_count": 25,
   "metadata": {},
   "outputs": [
    {
     "name": "stdout",
     "output_type": "stream",
     "text": [
      "1\n",
      "2\n",
      "3\n",
      "4\n",
      "5\n",
      "6\n",
      "7\n",
      "8\n",
      "9\n",
      "10\n",
      "666\n"
     ]
    }
   ],
   "source": [
    "i=1\n",
    "while i<11:\n",
    "    print(i)\n",
    "    i += 1\n",
    "    if i == 6:\n",
    "        #break\n",
    "        pass\n",
    "else:\n",
    "    print('EOF')"
   ]
  },
  {
   "cell_type": "markdown",
   "metadata": {},
   "source": [
    "#### 5. Write a Python program to calculate the sum and average of n integer numbers (input from the user). Input 0 to finish.\n"
   ]
  },
  {
   "cell_type": "code",
   "execution_count": 36,
   "metadata": {},
   "outputs": [
    {
     "name": "stdout",
     "output_type": "stream",
     "text": [
      "int?:(type 0 to end)4\n",
      "int?:(type 0 to end)5\n",
      "int?:(type 0 to end)0\n",
      "Sum: 9\n",
      "Average: 4.5\n"
     ]
    }
   ],
   "source": [
    "import numpy as np\n",
    "nums = []\n",
    "x = int(input('int?:(type 0 to end)'))\n",
    "while x != 0:\n",
    "    nums.append(x)\n",
    "    x = int(input('int?:(type 0 to end)'))\n",
    "np_nums = np.array(nums)\n",
    "print('Sum:', np.sum(np_nums))\n",
    "print('Average:', np.average(np_nums))"
   ]
  },
  {
   "cell_type": "code",
   "execution_count": null,
   "metadata": {},
   "outputs": [],
   "source": []
  }
 ],
 "metadata": {
  "kernelspec": {
   "display_name": "Python 3 (ipykernel)",
   "language": "python",
   "name": "python3"
  },
  "language_info": {
   "codemirror_mode": {
    "name": "ipython",
    "version": 3
   },
   "file_extension": ".py",
   "mimetype": "text/x-python",
   "name": "python",
   "nbconvert_exporter": "python",
   "pygments_lexer": "ipython3",
   "version": "3.9.13"
  }
 },
 "nbformat": 4,
 "nbformat_minor": 2
}
