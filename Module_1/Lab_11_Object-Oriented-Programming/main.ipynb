{
 "cells": [
  {
   "cell_type": "code",
   "execution_count": 15,
   "id": "3e24b665",
   "metadata": {},
   "outputs": [
    {
     "name": "stdout",
     "output_type": "stream",
     "text": [
      "[2, 2, 4]\n"
     ]
    }
   ],
   "source": [
    "ar1 = [1, 1, 2, 3, 1, 2, 3, 4]\n",
    "ar2 = [1, 3]\n",
    "def Rem(r1,r2):\n",
    "    r3 = r1.copy()\n",
    "    for i in r1:\n",
    "        if i in r2:\n",
    "            r3.remove(i)\n",
    "    return(r3)\n",
    "print(Rem(ar1,ar2))"
   ]
  },
  {
   "cell_type": "code",
   "execution_count": 14,
   "id": "5b37cde0",
   "metadata": {},
   "outputs": [
    {
     "data": {
      "text/plain": [
       "[('1', 6), ('8', 6), ('4', 6)]"
      ]
     },
     "execution_count": 14,
     "metadata": {},
     "output_type": "execute_result"
    }
   ],
   "source": [
    "integers_list = [-18, -31, 81, -19, 111, -888]\n",
    "digits_list = [1, 8, 4]\n",
    "\n",
    "class List():\n",
    "    def countSpecDigits(self,ls1,ls2):\n",
    "        result = []\n",
    "        for i in ls2:\n",
    "            j=str(i)\n",
    "            freq = sum(j.count(j) for i in ls1)\n",
    "            result.append((j, freq))\n",
    "        return result\n",
    "    \n",
    "l = List()\n",
    "l.countSpecDigits(integers_list, digits_list)"
   ]
  },
  {
   "cell_type": "code",
   "execution_count": 27,
   "id": "0b94387d",
   "metadata": {},
   "outputs": [],
   "source": [
    "def orderedCount(MyStr):\n",
    "    nb = {}\n",
    "    for char in MyStr:\n",
    "        nb[char] = nb.get(char, 0) + 1\n",
    "    result = [[char, nb[char]] for char in MyStr if char in nb]\n",
    "\n",
    "    return result"
   ]
  },
  {
   "cell_type": "code",
   "execution_count": 28,
   "id": "3c1e492f",
   "metadata": {},
   "outputs": [
    {
     "name": "stdout",
     "output_type": "stream",
     "text": [
      "[['a', 5], ['b', 2], ['r', 2], ['a', 5], ['c', 1], ['a', 5], ['d', 1], ['a', 5], ['b', 2], ['r', 2], ['a', 5]]\n"
     ]
    }
   ],
   "source": [
    "input_str = \"abracadabra\"\n",
    "print(orderedCount(input_str))\n"
   ]
  },
  {
   "cell_type": "code",
   "execution_count": null,
   "id": "c5e41cb9",
   "metadata": {},
   "outputs": [],
   "source": []
  }
 ],
 "metadata": {
  "kernelspec": {
   "display_name": "Python 3 (ipykernel)",
   "language": "python",
   "name": "python3"
  },
  "language_info": {
   "codemirror_mode": {
    "name": "ipython",
    "version": 3
   },
   "file_extension": ".py",
   "mimetype": "text/x-python",
   "name": "python",
   "nbconvert_exporter": "python",
   "pygments_lexer": "ipython3",
   "version": "3.9.13"
  }
 },
 "nbformat": 4,
 "nbformat_minor": 5
}
