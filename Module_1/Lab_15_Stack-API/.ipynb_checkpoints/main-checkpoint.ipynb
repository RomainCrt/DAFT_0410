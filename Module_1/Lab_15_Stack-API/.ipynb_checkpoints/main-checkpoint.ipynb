{
 "cells": [
  {
   "cell_type": "markdown",
   "metadata": {},
   "source": [
    "# StackAPI\n",
    "\n",
    "#### Import the necessary libraries here:"
   ]
  },
  {
   "cell_type": "code",
   "execution_count": null,
   "metadata": {},
   "outputs": [],
   "source": [
    "# your code here\n",
    "from stackapi import StackAPI\n",
    "SITE = StackAPI('stackoverflow')\n",
    "comments = SITE.fetch('comments')"
   ]
  },
  {
   "cell_type": "code",
   "execution_count": null,
   "metadata": {},
   "outputs": [],
   "source": [
    "import pandas as pd\n",
    "import matplotlib.pyplot as plt\n",
    "import wbgapi as wb"
   ]
  },
  {
   "cell_type": "code",
   "execution_count": null,
   "metadata": {},
   "outputs": [],
   "source": [
    "print(type(wb.source.info()))\n",
    "print('source.info:',wb.source.info())\n",
    "print(wb.region.info())\n",
    "print(wb.series.info())"
   ]
  },
  {
   "cell_type": "code",
   "execution_count": null,
   "metadata": {},
   "outputs": [],
   "source": [
    "wb.series.info()"
   ]
  },
  {
   "cell_type": "code",
   "execution_count": null,
   "metadata": {
    "scrolled": false
   },
   "outputs": [],
   "source": [
    "wb.economy.info()"
   ]
  },
  {
   "cell_type": "code",
   "execution_count": null,
   "metadata": {},
   "outputs": [],
   "source": [
    "wb.series.info(q=\"gender\")"
   ]
  },
  {
   "cell_type": "code",
   "execution_count": null,
   "metadata": {},
   "outputs": [],
   "source": [
    "wb.series.info(q='business')"
   ]
  },
  {
   "cell_type": "code",
   "execution_count": null,
   "metadata": {},
   "outputs": [],
   "source": [
    "business = wb.data.DataFrame('IC.REG.DURS', wb.region.members('ECS'))\n",
    "\n",
    "ren = wb.data.DataFrame('IC.REG.DURS', ['FRA','UKR','EST'], time=range(2003,2019))\n",
    "\n",
    "ren"
   ]
  },
  {
   "cell_type": "code",
   "execution_count": null,
   "metadata": {},
   "outputs": [],
   "source": [
    "business.sort_values(by=['YR2019'],ascending=True)[:3]"
   ]
  },
  {
   "cell_type": "code",
   "execution_count": null,
   "metadata": {},
   "outputs": [],
   "source": [
    "ren = wb.data.DataFrame('IC.REG.DURS', ['FRA','UKR','EST'], time=range(2003,2019))\n",
    "\n",
    "ren.plot.bar()\n",
    "wb.data.DataFrame('IC.REG.DURS', ['FRA','UKR','EST'], time=range(2000,2019,3)).T.plot();\n",
    "\n",
    "\n",
    "business= wb.data.DataFrame('IC.REG.DURS', ['FRA','UKR','EST','UK','GER'])\n",
    "g5 = business.sort_values(by=['YR2019'],ascending=True)[:5]\n",
    "\n",
    "ax = business.T.plot(color='lightgray', legend=False)\n",
    "\n",
    "g5.T.plot(ax=ax, figsize=(30,10))\n"
   ]
  },
  {
   "cell_type": "markdown",
   "metadata": {},
   "source": [
    "#### Question 1: Find the questions and answers of last month."
   ]
  },
  {
   "cell_type": "code",
   "execution_count": 60,
   "metadata": {},
   "outputs": [
    {
     "name": "stdout",
     "output_type": "stream",
     "text": [
      "Q: How to enforce constructor signature for sub-classes?\n",
      "Q: How can I convert Intersystems Cache Global Objects to SQL or a more readable format?\n",
      "Q: Tailwind Elements Select component not working with Angular *ngFor\n",
      "Q: Logical comparison returning different result for same values\n",
      "Q: Issue with retrieving data from Graph API to PowerShell\n",
      "Q: Python O365 library detect encrypted Emails\n",
      "Q: How should I upload files to Android Automotive?\n",
      "Q: Integrating a Web Page into WordPress with Login\n",
      "Q: Flow pulse animation in jetpack compose\n",
      "Q: Selenium Webdriver in Python. How can I get table data after mouseover and perform()?\n",
      "Q: Vite-plugin-checker not recognizing errors when running the application\n",
      "Q: jinja2 exception: {% include nav.html with active_page=&quot;home&quot; %}\n",
      "Q: How can I stop myself circumventing app/website blockers on android 13?\n",
      "Q: passing parameters list in Dynamic SQL Query\n",
      "Q: How to defragment etcd database in Kubernetes cluster\n",
      "Q: Error module &#39;openai&#39; has no attribute &#39;Completition&#39;\n",
      "Q: Should I install peerDependencies?\n",
      "Q: To Pass Id in cURL post request in PHP\n",
      "Q: The python module i am importing in C++ with the Python/C API can’t import torch\n",
      "Q: What else goes in a Python src folder, according to actual or de facto standards?\n",
      "Q: How to calculate the distance from a point to a trapezoidal hexahedron?\n",
      "Q: How to patch the Kubernetes CR status which contains a list to append the values instead of inserting the new values and removing old items?\n",
      "Q: JSON SharePoint List Formatting - Multiple Conditions / ifs\n",
      "Q: Gradle task assembleRelease failed with exit code 1 error\n",
      "Q: cartesian group of two arrays when grouping in MongoDB\n",
      "Q: Are global variables actually global in their RAM share behavior?\n",
      "Q: How to stop a function after some work to run?\n",
      "Q: How to implement arithmetic operations in HP-35 calculator?\n",
      "Q: Unexpected failure when preparing tensor allocations: tensorflow/lite/kernels/reshape.cc:85 num_input_elements != num_output_elements (1200 != 0)\n",
      "Q: R: How to have an askme popup inside an rmarkdown document\n",
      "Q: How to use 2 virtual networks interface by 2 different application c#\n",
      "Q: Error still occurs even after registering the required dependency, what is wrong?\n",
      "Q: Webscraping in python ignoring some words\n",
      "Q: Getting different test accuracy when passing td.data.Dataset and when giving x and y values separately\n",
      "Q: Emiting values to slice-zone\n",
      "Q: Inner div does not respect css max height of outer div\n",
      "Q: Multiple errors when compiling a RPG ILE program\n",
      "Q: epoch timestamp breaks into months\n",
      "Q: I want to get total monthly sales in arrays by using laravel framework\n",
      "Q: How to add textbox [Input field] inside drop down for inserting more field which is not merge with dropdown?\n",
      "Q: SpringCloud Stream error-handler-definition doesn&#39;t work\n",
      "Q: Change the transparency of v-menu on hover and selected\n",
      "Q: Azure Functions Storage Queue configuration not working\n",
      "Q: Conditionally define color channel on multi-line graph\n",
      "Q: Trying to do a Splunk query for finding the number of same source IPs within a 10 minute window\n",
      "Q: Is there an option that can display all of may variables in one graph using ggplot?\n",
      "Q: questDB 7.1.1 java.lang.UnsupportedOperationException\n",
      "Q: C# deserialize KeyValuePair from JSON\n",
      "Q: How can i transform divs into buttons?\n",
      "Q: How to obtain the value of a property using the Environment API in Spring Boot\n",
      "Q: SQL Server database not able to update after restoration\n",
      "Q: Why does changing one object change another?\n",
      "Q: Next js doesn&#39;t run with SWC plugin / rust plugin\n",
      "Q: function call by function call with object in c++\n",
      "Q: Spring Boot on Firebase: Sign-in with redirect requires proxy\n",
      "Q: Codeigniter3: porting a website in a new hosting just the index method is visible\n",
      "Q: Centerline properties of a contour shape by using center of mass?\n",
      "Q: Making A Character Move To The Orders I Give It\n",
      "Q: Ruby some array elements in nested .each block become nil\n",
      "Q: Nintendo wii fit balance board\n",
      "Q: Hibernate ManyToMany JoinTable Error after Migration to Java 11\n",
      "Q: Could not locate the &#39;cplex&#39; executable, which is required for solver cplex\n",
      "Q: String expression calculation in excel\n",
      "Q: Type hint for class that can be **unpacked\n",
      "Q: Deploying a Filesystem API Connection goes well but doesn&#39;t work in logic app workflow\n",
      "Q: Powershell guid is not unique - How can I make it unique?\n",
      "Q: Unable to use tensorflow js\n",
      "Q: Best way to implement role based authorization for given situation\n",
      "Q: Sqlite3 &quot;or&quot;: syntax error on jupyter notebook\n",
      "Q: Processing csv file via pandas\n",
      "Q: how to charge for remaing days only in Zoho subscription with recurring addon when subscription created between of month\n",
      "Q: My mongodb inside ubuntu 22 runs twice? is it ok?\n",
      "Q: DatabaseError at /admin/core/profile/add/ No exception message supplied\n",
      "Q: How to make my extension to work and interact with site in the window?\n",
      "Q: Google search console Live Indexing failed with Server error (5xx)\n",
      "Q: Why is my Google Map not loading in my React application?\n",
      "Q: The PyQt5 custom widget opens in another window\n",
      "Q: azue sdk go - containers\n",
      "Q: Combining two MySQL queries into a single query\n",
      "Q: TypeError: &#39;int&#39; object is not callable in Python3.11 using the pytsk3 library\n",
      "Q: Android restarts activity although locales configuration changes are handled by app\n",
      "Q: scale fill gradient with fixed limits\n",
      "Q: View redirect not happening\n",
      "Q: Why maximize button get removed when I click or try to maximize window in PyQt5\n",
      "Q: How to change SVG icons in Java script\n",
      "Q: set models of a school in django\n",
      "Q: Binance - client.transfer_isolated_margin_to_spot FAIL\n",
      "Q: Why does my dictionary appear to have duplicate keys with custom __eq__ and __hash__ implementations?\n",
      "Q: Ways to restrict changes to a certain file\n",
      "Q: Problem with android app facebook ads campaign\n",
      "Q: How to determine that a given set of arcs form a cycle?\n",
      "Q: How to use subdomain routing when a base path is present (and with base path appended only to specific routes)?\n",
      "Q: (GAMS mcp model) Is it possible to change the end value of sets automatically in a loop when solving a model?\n",
      "Q: MAUI Navigation is Returning Null\n",
      "Q: I have a strange problem when trying to blend two overlapping surfaces (same depth)\n",
      "Q: total by rows of pivot table\n",
      "Q: SQL - Merge 2 queries into 1\n",
      "Q: ImportError: cannot import name &#39;safe_str_cmp&#39; from &#39;werkzeug.security&#39; because of flask_jwt_extended?\n",
      "Q: Getting Error: You cannot render a &lt;Router&gt; inside another &lt;Router&gt;. You should never have more than one in your app. Even I am using only one router\n",
      "Q: What is the best way to update ajax filter variables\n",
      "Q: What is the best way to update ajax filter variables\n",
      "Q: How to reduce the scroll width without reducing grid width\n",
      "Q: Create Cart object once user logs in\n",
      "Q: How to convert the SQL Row to Column with dynamic rows and column\n",
      "Q: Firebase Hosting shows application error but it works on localhost\n",
      "Q: Spring Boot 2 not triggering @CircuitBreaker of resilience4j when calling a servlet from service methods\n",
      "Q: Extending a list in Elvish shell (modifying $PATH)\n",
      "Q: Can&#39;t sum calculations with AlpineJS\n",
      "Q: How to implement async call for dependent task in java? Please read the scenario\n",
      "Q: Razor pages - dates values dont transfer to another page\n",
      "Q: how to exclude printing in bash a line that has only parent path and exclude all subdir paths\n",
      "Q: I&#39;m having a failure to upload images using Typora and PicGO\n",
      "Q: Typescript: Argument of type &#39;(_req: Request, res: Response, next: NextFunction) =&gt; void&#39; is not assignable to parameter of type &#39;PathParams&#39;\n",
      "Q: Discord bot doesn&#39;t show my server avatar\n",
      "Q: Converting Euler angles of object from room&#39;s to camera&#39;s coordinate system\n",
      "Q: Add react component in iframe in an angular application\n",
      "Q: Multiple knapsack problem with no solution but finding a way to remove item(s) that are preventing a solution\n",
      "Q: Run a list without macro\n",
      "Q: How to check conditions with CASL.js when defining rules as JSON Objects\n",
      "Q: Does geopandas to_crs() method access the internet for ESRI Information?\n",
      "Q: Is it Pythonic to import an external symbol imported into another module?\n",
      "Q: Discord.py app_command.Argument causing TypeError\n",
      "Q: Error: Can&#39;t walk dependency graph: Cannot find module &#39;@badeball/cypress-cucumber-preprocessor/steps&#39;\n",
      "Q: How to deserialize protobuffers with python\n",
      "Q: Avoiding ZeroDivisionError for Runge-Kutta 4(5) solver\n",
      "Q: Server lost connection to database\n",
      "Q: &#39;RegionProperties&#39; object has no attribute &#39;mean_intensity&#39;\n",
      "Q: Chunking a CLOB over a DB Link\n",
      "Q: TweenJS motionguide draw a curved line\n",
      "Q: Arduino Uno MQTT over USB\n",
      "Q: Tensorflow 2: how to apply a loss function to only one part of a model (in a multi-output model)?\n",
      "Q: Axon multiple db configuration\n",
      "Q: How to order properly Google chart y axis\n",
      "Q: a software built to calculate Mento Carlo reliability\n",
      "Q: phpMyAdmin 5.2 how to have multiple tabs with same session?\n",
      "Q: While taking pull from VS code.This conflict message pops up\n",
      "Q: Is it possible to put item in one table only if another item exists in another table atomically in DynamoDB?\n",
      "Q: PHP regex to validate specific phone number format\n",
      "Q: Notification.requestPermission() returns &quot;default&quot; but no prompt is actually shown\n",
      "Q: Leaflet Map Overlay Icon Blank\n",
      "Q: How do I fix buffer errors in while?\n",
      "Q: Unable to run unit tests in intellij after updating to JDK-17\n",
      "Q: What is the reason that Puppeteer breaks when going to a url?\n",
      "Q: Android EditText soft keyboard is not opening with VideoView\n",
      "Q: Converting coordinates from camera to robot\n",
      "Q: How to convert text format file to csv/xlsx format\n",
      "Q: register Publish Filter for IMessageScheduler\n",
      "Q: Resolving errors after upgrading from angular 8 to 15\n",
      "Q: Spring Boot 3 : SQL statements are not logged in console\n",
      "Q: How can combine several ref() elements in Vu3?\n",
      "Q: How to open the original image (not link) in the new tab by default in Sphinx/Markdown\n",
      "Q: How do I fix the hide/show script of object?\n",
      "Q: Unit testing a compnent that is getting data from Angular Replay Subject\n",
      "Q: How do I keep loki logs for only 7 days\n",
      "Q: Selenium crashes when there is another browser window open\n",
      "Q: Visual studio 2022 demanding dependencies of libary\n",
      "Q: Rolling up Values into Weekdays\n",
      "Q: GMT to IST format\n",
      "Q: When using while loop, pygame window is empty(black), without using while loop, pygame window freezes\n",
      "Q: Query graph db for two values belonging to same type of vertex\n",
      "Q: Quantlib: calling RelinkableYieldTermStructureHandle() from another function\n",
      "Q: why i can&#39;t read from the pipe in C?\n",
      "Q: How to restrict an app&#39;s login with a database?\n",
      "Q: How to not calculate a score if it&#39;s an invalid input\n",
      "Q: jOOQ like any, ignore case\n",
      "Q: How to validate object property must have all values in an array of object\n",
      "Q: Would anyone know what is wrong with my bash code? Files are turning out empty\n",
      "Q: Pure Pipe not getting cached on the component level\n",
      "Q: OpenSearch Dashboard: Normalize By Unit - How to achieve this aggregation similar to ELK\n",
      "Q: DynamoDB &quot;The provided key element does not match the schema error&quot;\n",
      "Q: In module, importing &lt;string&gt; after &lt;istream&gt; and &lt;iostream&gt; causes &quot;incomplete class type&quot;\n",
      "Q: How to write tensorboard events files without installing / importing TF or PyTorch?\n",
      "Q: run terraform in azure pipeline to deploy to another tenant\n",
      "Q: Any difference beside readability between Switch and enhanced switch?\n",
      "Q: How to split a dataframe column into more columns, conditional to another column value?\n",
      "Q: How to use Spring Security&#39;s RoleHierarchy with Vaadin?\n",
      "Q: declaring return type for an arrow functions with dynamic parameters\n",
      "Q: Nuxt2: Theme-class assigned to body disappears after routing\n",
      "Q: spring boot upgrade from 2.1.2 to 2.6.6\n",
      "Q: PHP &amp; MySQL | First value of an array is matching with the data in database but other are not matching\n",
      "Q: Get first observation of month in yfinance\n",
      "Q: Angular Material datepicker mat-datepicker sets input value backwards by 1 day for non BST timezones\n",
      "Q: Pass function pointer to run method for multithreading in Java\n",
      "Q: Missing table in PostgreSQL database\n",
      "Q: CS50 &quot;C&quot; loop incrementation with &quot;if&quot; condition produce wrong outcome\n",
      "Q: Select a value in another table with multiple values\n",
      "Q: Observer pattern using static events\n",
      "Q: drf performing serializer validations on default database\n",
      "Q: Question on overload non-member operator &lt;&lt; in a linkedlist class in c++98\n",
      "Q: Cross-Platform Template In C# For Windows, MacOS &amp; Linux\n",
      "Q: Ive Been trying to Download the .net framework on my Linux Mint Computer But its Stuck For 20 minutes now\n",
      "Q: Django Count in Annotate and Subquery are much slower than simply iterating over my items and filtering individualy\n",
      "Q: Google Play console showing app crash on Fragment$InstantiationException\n",
      "Q: .NET 7 HttpClient GetAsync() request empty headers value with basic authentication (Unauthorized)\n",
      "Q: segment fault when executing a cpp code using Qt and QTabWidget\n",
      "Q: Cant see my error ive been looking at this an researching for an hour. Im sorry i cant tell its something minor\n",
      "Q: how to pass input to each state of step functions?\n",
      "Q: How to choose value from &lt;ul&gt; &lt;li&gt; tags using Selenium Java?\n",
      "Q: How to allow multiple tabs of the same component while keeping its state?\n",
      "Q: Is there any method to do &quot;NullValueHandling.Ignore&quot; only for incoming requests and not for responses in Startup.cs file in .net core\n",
      "Q: Updating MongoDB with a nested object\n",
      "Q: How to search for one or more strings in a file using regex, and count the number of each string separately?\n",
      "Q: What is the difference between calling dict of a Pydantic model and passing it to the jsonable_encoder function?\n",
      "Q: SwiftUI - View freezes after navigating back from view with searchable modifier if keyboard is open\n",
      "Q: Docker conditional processing\n",
      "Q: Are there any good ways besides of CNN to detect Scratches and Cracks on the microchips?\n",
      "Q: Google Search still showing the old favicon\n",
      "Q: Regular expression to extract information from a list\n",
      "Q: Python Code Issue_Raspberry Pi 3 Model B + 4 Water Flow Sensors + IDLE Shell\n",
      "Q: VBA Automation Error: System Call Failed when passing Dictionary in Function with Application.Run\n",
      "Q: How can I visualize the epsilon-delta criterion in Python?\n",
      "Q: OpenSMTPD Config Issue - all emails from Local became Diagnostic-Code: SMTP; 550 Invalid recipient\n",
      "Q: How to use In-app updates in jetpack compose\n",
      "Q: Issue with Passing dockerbuildKit Secrets to Docker Using Devcontainer\n",
      "Q: linq2db CreateTempTableAsync throws &quot;unexpected existing transaction&quot;\n",
      "Q: How can we forget password without lambda function in node js\n",
      "Q: How to ignore NA&#39;s in dataframe\n",
      "Q: Flutter Like Button Animation Not Working After Adding Method\n",
      "Q: IDEA 2023.1 - cannot disable @NotNull generation?\n",
      "Q: Injecting HttpClient\n",
      "Q: app runs well in android studio but cannot be installed on my phone\n",
      "Q: ImportError: cannot import name &#39;notf&#39; from &#39;tensorboard.compat&#39; in google colab\n",
      "Q: R3F: Hooks can only be used within the Canvas component\n",
      "Q: Is there a way to combine two dataframes with different number of rows\n",
      "Q: How to create performance listener for MyBatis statements\n",
      "Q: GetConfigurationAsync for OpenIdConnectConfiguration returns Object reference not set exception\n",
      "Q: Is there some feasible optimization solution based on fuzzy matching of two Spark tables\n",
      "Q: I need the match function to look for a value, and if blank look for a different value\n",
      "Q: Getting `Your project requires a newer version of the Kotlin Gradle plugin.` even after updating the Version to latest\n",
      "Q: UnicodeEncodeError: &#39;ascii&#39; codec can&#39;t encode character &#39;\\xe1&#39; in position 56: ordinal not in range(128)\n",
      "Q: Is there a function on Databricks that allows displaying an R data frame interactively similarly to Spark&#39;s display()?\n",
      "Q: How to open an exe file and save the output result in txt format?\n",
      "Q: custom fetch() not receiving any response in office add-in,\n",
      "Q: Selecting a database to use per specific APIView in the Django application\n",
      "Q: How to change default &quot;create next app&quot; in Next js 13\n",
      "Q: Python Pandas Flattening JSON with keys, which are not equal\n",
      "Q: Error: Spark-Submit DAG cannot locate GCS Connector file in Airflow container\n",
      "Q: How can I make the &#39;Baut&#39; object stick randomly to both &#39;TempatBaut&#39; and &#39;TempatBaut2&#39;?\n",
      "Q: How to change container color on click when data is fetched from api in flutter?\n",
      "Q: MySQL: How to combine result from COUNT subquery with an EXCEPT query\n",
      "Q: I keep getting no module found error with setup.py\n",
      "Q: Firestore Bundle: Usage of namedQuery necessary?\n",
      "Q: Shade the first column of the table with &quot;grid.table&quot;\n",
      "Q: Visitor pattern without double dispatch\n",
      "Q: Functions Query string parameter on custom post type hides my wordpress nav menu\n",
      "Q: the meaning of &quot;o instanceof Point point&quot; in overrided equals function\n",
      "Q: Inno setup - star symbol on page wpPreparing\n",
      "Q: SNMPv3 Net-SNMP generate_Ku() function - how does it creates the hash?\n",
      "Q: Apache Camel 3.20 support of REST DSL with YAML?\n",
      "Q: CSS not working when creating and opening print page\n",
      "Q: Update Time Series date range in Colab\n",
      "Q: tensorflow object detection TF-TRT Warning: Could not find TensorRT\n",
      "Q: How to go not out of bounds when loading data from the end of an array into AVX/AVX2 registers?\n",
      "Q: I am looking for some sample Java code to convert rather complex Path expressions from no-namespace to an XPath with prefixes and namespaces\n",
      "Q: VSCode debugger stops on &quot;non-existing&quot; break points when stepping into an async function\n",
      "Q: The Localhost can&#39;t find or resolve the picture\n",
      "Q: terraform for_each and count logic not working\n",
      "Q: Batch inference using triton cuda shared memory\n",
      "Q: Why I cant delete Users in my Database with my View\n",
      "Q: Vee Validate async validation fires too often\n",
      "Q: openpyxl writing in a cell and copying previous format doesn&#39;t work: format is not applied\n",
      "Q: Is there any bulk translate or bulk translate import possibility for Polylang+Hyyan? (WooCommerce)\n",
      "Q: grid items expand in the &quot;x axis&quot; when text gets bigger\n",
      "Q: Remove Captcha verification on firebase phone auth in Android\n",
      "Q: Inferring object property type based on other property\n",
      "Q: Claiming or Completing Task, with a group assigned, in JBPM by a user\n",
      "Q: How to request write permission on the file system Android 13\n",
      "Q: Facing error while connecting Java app to SQLite server\n",
      "Q: CKEditor5: How to Insert HTML without breaking current element&#39;s margin\n",
      "Q: What and why does avro use additional type values?\n",
      "Q: What is the right formula if I&#39;m searching for a match in a multiple duplicate criteria?\n",
      "Q: Why CMake string list literals not working in if statement\n",
      "Q: Unexpected token p in JSON at position 0\n",
      "Q: Personal GitHub secrets for each dev who can push to repo\n",
      "Q: Fontawesome is not working as the icons are not showing in the page\n",
      "Q: Function in MySQL script giving error : function_name does not exist\n",
      "Q: Typescript ESM jest - knex issue\n",
      "Q: How to stop the learning process with PPO in stablelines?\n",
      "Q: Primereact&#39;s calendar component generates every month after 12th with non-unique key\n",
      "Q: Can I translate the web content in my WKwebview like the safari browser?\n",
      "Q: Some users in Azure AD can&#39;t get email in access_token\n",
      "Q: Create File within Finder [MacBook Pro M2]\n",
      "Q: com.ibm.ws.webcontainer.webapp.WebApp notifyServletContextDestroyed SRVE0285E: Exception caught while destroying context: {0} java.lang.NullPointerEx\n",
      "Q: Is there is a way to check the status of multiprocessing in python\n",
      "Q: Flutter Quick Actions: quick_action_getlaunchaction_no_activity\n",
      "Q: Recover a gitlab repository\n",
      "Q: Receiving warning in file.rename in R. How to resolve it?\n",
      "Q: How to collect a NodeJS app&#39;s logs (using PM2) so that they can be queried in Azure Monitor?\n",
      "Q: Is there a way to restrict parallel execution of the same function in Google Apps Script?\n",
      "Q: C:\\Users\\User_Name\\AppData\\Local\\Pub\\Cache\\bin file missing\n",
      "Q: Is there a way to read files from google cloud storage bucket using ConfigFactory.?\n",
      "Q: Creating REST api in databricks which would display delta tables information to the user?\n",
      "Q: Remove items from chart _yField in EXTJS 5\n",
      "Q: renaming a folder or copying it to local machine (and all contents) using gsutil-- Folder name has an asterisk (*) in the google bucket\n",
      "Q: Classification with missing values\n",
      "Q: Rclone and S3 SPaces: How to remove files older than X from my remote s3 space?\n",
      "Q: Spring Security Not Access to emails\n",
      "Q: Bootstrap. How to change $spacer variable?\n",
      "Q: ModuleNotFoundError when using importlib.import_module() in lambda function\n",
      "Q: How to integrate existing database tables into a Flask app with SQLAlchemy and Flask-Migrate?\n",
      "Q: Is that possible to control the polling rate of a mouse in USB host mode?\n",
      "Q: 3D Data preparation and data spliting for model training and testing\n",
      "Q: How to make permit template responsive in mobile\n",
      "Q: How can I format SQL with Spring Boot 3\n",
      "Q: promise is pending but the code is working properly\n",
      "Q: how to build back a splitted and updated string?\n",
      "Q: Symfony is injecting the wrong class as a dependency\n",
      "Q: How can I calculate the number of reads mapping to each gene for each sample? I need to create a file with the acc no. ,gene name ,no of read mapped\n",
      "Q: How can i achieve a thread-safe cancellation of the previous task?\n",
      "Q: mat-label animation error inside mat-form-field | Angular Material 15\n",
      "Q: How to select an element with a parent that has a following parent with a specific element? (:has)\n",
      "Q: Retrieving Image from Firebase to placing it into a pdf by appending src url to image tag\n",
      "Q: Infinispan cannot write cache to file - MarshallableUserObject - NotSerializableException\n",
      "Q: getting error javascript error: video_js_1 is not defined\n",
      "Q: unable to reset passwordbox input in UI after clearing control\n",
      "Q: Add splide.js to a Grapes.js template with react as front end and laravel as backend\n",
      "Q: GetServerSideProps doesn&#39;t seem to be called\n",
      "Q: Angular 14 complains that a property on my observable object does not exist\n",
      "Q: Is it valid to use aliased containers in `ranges::to`?\n",
      "Q: How to use Selenium to scrape video transcription\n",
      "Q: Every time i open a new page on my next js app and then make a change and compile the code it promts document undefined\n",
      "Q: In Javascript What is the real difference between alert (&quot;Hello&quot; + name) and alert (&#39;Hello ${name}&#39;)\n",
      "Q: RTK API Wrapper around Spotify Web API Node library as Cache\n",
      "Q: Huge val_loss in tensorflow loaded model\n",
      "Q: Play 360 video in react js?\n",
      "Q: True Async CRUD operations in LinqToDb library through ITable instances\n",
      "Q: React-Leaflet duplicate map on second MapContainer\n",
      "Q: Search through two different dataframes and merge them\n",
      "Q: How to integrate custom nginx ingress controller with L7 HTTP(S) loadbalancer in GKE\n",
      "Q: How to get list of boundary points after mesh triangulations\n",
      "Q: Is there an option in Pycaret to stop looking for best model if the current models achieve a desired performance\n",
      "Q: C# WPF | Heisenbug - Closing additional window from event will crash main window?\n",
      "Q: Parsing JSON in Kotlin Multiplatform : io.ktor.serialization.JsonConvertException: Illegal input\n",
      "Q: Apache activemq artemis v.2.28.0: How to set on demand whether a message has an expiration time or not?\n",
      "Q: How to convert seconds to HH:MM:SS in Flux?\n",
      "Q: Filter difference between two objects JS\n",
      "Q: certificate verify failed: unable to get local issuer certificate (_ssl.c:992)\n",
      "Q: How to Add a Style Object to Each Icon in the Array?\n",
      "Q: Cannot implement user roles in next-auth, &#39;user&#39; does not have identical modifiers\n",
      "Q: Is there a way to execute multiple UI.Vision macro at the same time (more than 2)\n",
      "Q: Detect that the client went offline while sending SSE events through Webflux\n",
      "Q: Error: CMySQLCursor.executemany() missing 1 required positional argument: &#39;seq_params&#39;\n",
      "Q: What is manifest.json? Does it go was request automatically?\n",
      "Q: How to set cookies in Nitro (Nuxt 3)?\n",
      "Q: How to redirect mobile users from a desktop homepage to a mobile version\n",
      "Q: How can i solve my text decoding problem?\n",
      "Q: Spring Boot 3 micrometer trace and span IDs not propagating outside controller\n",
      "Q: Getting 505 error with ugly messages while validating custom Enum annotation\n",
      "Q: Swift async await on Promise func that use SwiftyBluetooth\n",
      "Q: What should i learn to create Text To Speech AI for new language\n",
      "Q: Real-time peak detection in time series\n",
      "Q: CoreMl issue with xcode , multiple resources named &#39;coremldata.bin&#39; in target &#39;AppModule&#39;\n",
      "Q: How to set initial password in BaseX\n",
      "Q: Weird characters in Java folder\n",
      "Q: Ariflow - ExternalTaskMarker not clearing downstream\n",
      "Q: How to change SwiftUI&#39;s Slider value from Swift code\n",
      "Q: Warning &quot;This method should not be called on the main thread&quot; when loading Contacts\n",
      "Q: How to calc sum(saldo_out)?\n",
      "Q: Airflow: Cannot run dynamically mapped task manually\n",
      "Q: Select records from one table that are referenced by a column in same table\n",
      "Q: Scaling of input variables in neural networks in R and interpret the output\n",
      "Q: .net Protobuf Compiler can i prevent capitalizing first letter of proto file on the auto-generated class\n",
      "Q: Uploading an invoice for an Amazon order in the most straightforward way\n",
      "Q: How to subscribe to the event when the AutoCAD application is initialized and ready to work?\n",
      "Q: How to add a Custom CheckBox parameter in Jenkins?\n",
      "Q: Vscode uses the other interpreter which is not the one that I selected\n",
      "Q: Packaging an application into .app in MAC os\n",
      "Q: Could not able to attach the latest report generated by playwright to send an email\n",
      "Q: Adding multiple vertical lines on boxplot in seaborn\n",
      "Q: How do I test a scala ProcessBuilder with a URLBuilder?\n",
      "Q: in plotly, is there really no way to force a legend not to overlap the plot?\n",
      "Q: Disable/remove many infos when hoovering\n",
      "Q: How to use operating system ability of copy and paste using eclipse RCP?\n",
      "Q: How to block keyboard and mouse access except a few keys\n",
      "Q: Bypass prompt for a parameter to cmake in dockerfile for Ubuntu\n",
      "Q: how to prepare 3D data for training and testing the model\n",
      "Q: Visual Studio 2017 profiler does not show function names\n",
      "Q: No layers in the exported image of the MXD project using C#\n",
      "Q: Postgres service on windows timing out before DB starts\n",
      "Q: Finding count using if conditions\n",
      "Q: Invalid Output Tensor Index: 1\n",
      "Q: pytest-bdd need to use data table format in feature file a\n",
      "Q: web.config rewrite rule to update query string value in url\n",
      "Q: Is Google Cloud Storage object composition strongly consistent?\n",
      "Q: EKS IAM service role not resolving for iceberg table access which is in another aws account\n",
      "Q: in javax.servlet.annotation.HttpConstraint Annotation, what is the condition for no security constraint to be applied?\n",
      "Q: NEXT JS 13 &#39;use client&#39; gives unexpected error\n",
      "Q: While creating build of open-brush psp34 contacts I am getting &quot; Unknown opcode 192 error &quot;\n",
      "Q: Monte Carlo simulation in Power BI using Azure DevOps/Jira data\n",
      "Q: Unable to find a button element when crawling website\n",
      "Q: Failed to find Build Tools revision 30.0.3 in VS Code after running my flutter project I saw in my build tools folder the version is 33.0.2\n",
      "Q: modify the table to get the total from table to header\n",
      "Q: Can&#39;t remove tab whitespace (%09) from beginning and end of string made from an array or term IDs\n",
      "Q: Cannot hit test a render box with no size. error\n",
      "Q: Multiple p-values calculator for Multiple Chai-Squared Values\n",
      "Q: How to place exposed sort options as a dropdown above the grid? - Drupal 9 views\n",
      "Q: when returning a large json object but in the frontend i am getting undefined in c#\n",
      "Q: Gaussian elimination and NaNs as a result in octave\n",
      "Q: Swap texts within html\n",
      "Q: How to cancel address comment by $writememb?\n",
      "Q: Pine Script Strategy dont creates orders and Close-Orders when using Prices\n",
      "Q: how to configure IP whitelisting in ActiveMQ Artemis\n",
      "Q: How to make an event click only affect the icon that you are clicking\n",
      "Q: How to Enable M25P80 Flash Device Emulation on QEMU x86_x64\n",
      "Q: Is there a way to listen to button click events or know when a user has clicked a button in an externally loaded script?\n",
      "Q: TypeError: __init__() got multiple values for keyword argument &#39;shuffle&#39;\n",
      "Q: How to Upload Laravel project on Ionos server (Ubuntu)\n",
      "Q: How to delegate Spock Mock behavior to a real object with argument\n",
      "Q: I am testing paypal sandbox subscription in javascript sdk, but all subscriptions showing expired status. I can&#39;t change the status of subscriptions?\n",
      "Q: What is the correct workaround for handling of status code, content, meta and url on unfound pages (404)?\n",
      "Q: How to use TypeVar with dictionaries\n",
      "Q: Powershell: code error for replacing character in string\n",
      "Q: I can&#39;t scroll a window with Tkinter\n",
      "Q: Problems with multiple TCP connections to an stm32f207xx based server using LwIP&#39;s netconn API, freeRTOS and HAL libraries\n",
      "Q: How to have text content &quot;squeeze&quot; image but fill rest of screen\n",
      "Q: My application is throwing Gunicorn error:gunicorn.errors. HaltServer: &lt;HaltServer &#39;Worker failed to boot.&#39; 3\n",
      "Q: the excel program will not closing from vba code in access\n",
      "Q: Standarization reduces the performance of my regression\n",
      "Q: How should the get-function call be expressed within Firestore Security Rules?\n",
      "Q: doctrine not removing entity assertion constraints\n",
      "Q: Configuring EMR notebook with azurerepo\n",
      "Q: Empty cells/rows shows up in/below the bootstrap datatable header\n",
      "Q: Encoding YUV file (uncompressed video) to mp4 playable file using H264 encoding with ffmpeg c++ (NOT command line)\n",
      "Q: Why do Qt timers fire less frequently when not updating the GUI?\n",
      "Q: Applying different colours to line charts in Vega-Lite\n",
      "Q: Why do we need to assign value of onChanged inside setState.What will happen if i directly assign the value\n",
      "Q: How to animate U shaped dashed border?\n",
      "Q: Twitter Card Image not appearing on Gatsby\n",
      "Q: Elastic search find size of index for a subset of results\n",
      "Q: How to check if Firebase DynamicLink is already shortened and there is no need to shorten it again?\n",
      "Q: Stop WKWebView from opening link in external app\n",
      "Q: Terraform: Parse an input JSON and add matching key values to a list\n",
      "Q: Sapply Function in R: NA Introduced by coercion, but I have only numeric values\n",
      "Q: run azure pipeline from command line\n",
      "Q: Get a row from one table if all its child table rows matched with the search criteria?\n",
      "Q: To get data from other system, if data exist call get api else cretae new\n",
      "Q: Pandas Dataframe to GeoPandas Dataframe\n",
      "Q: I had made a C program but it is not working\n",
      "Q: I want to upload image to firebase With Nuxt JS\n",
      "Q: Can&#39;t receive messages in ActiveMQ Artemis through the JMX\n",
      "Q: How to fetch JSON API using swiftUI if the response received are inside two different arrays?\n",
      "Q: Chrome/Edge extension with current time as tab-title\n",
      "Q: Remove duplicates column on Max nan value\n",
      "Q: How does `KSComp` behave when using the options `lower_flag`, `ref`, `ref0` and `units` and `upper` at the same time?\n",
      "Q: AWS Codepipeline deploy execute changeset fail status ROLLBACK_COMPLETE\n",
      "Q: File not found with knitr::include_graphics in rmarkdown via RStudio when data and pdf-image present\n",
      "Q: How to visualise the trajectories after LCGA with lcmm package\n",
      "Q: RLayers RLayerVector no height\n",
      "Q: Changes from type declaration files are not getting reflected\n",
      "Q: Is there any alternative to cefsharp in C#? The latest version and cefsharp compiled by me and compiled by others cannot play mp4 video\n",
      "Q: Fill search value with current selection on focus\n",
      "Q: React fragment in decorator\n",
      "Q: How to eliminate flickering in a simple image viewer made with wxPython?\n",
      "Q: I am trying to upload an Excel file into big query to create a table and I am getting a &#39;Bad character (ASCII 0)&#39; error\n",
      "Q: Add trace in plotly if a condition is met\n",
      "Q: Nesting MUI tree with custom components in React\n",
      "Q: Python more efficient method than .apply()\n",
      "Q: Problems with php versions on xampp and vs code\n",
      "Q: opsworks-init: Agent installation failed, errors in dependency resolution\n",
      "Q: Invoke method with interface from string\n",
      "Q: How to combine column and bar chart on same axis in Highcharts?\n",
      "Q: Why cant my code behind page acces variables in View Model\n",
      "Q: Unable to show a network image in a Built Flutter web app\n",
      "Q: I&#39;m wondering how can I Fix file upload in Laravel\n",
      "Q: How to change a registration within a scope?\n",
      "Q: How to compare values between columns in 2 DataFrames in Python Pandas?\n",
      "Q: React - elements disappearing with useState\n",
      "Q: i am having issues with pub upgrade pub outdated and pub get and i am also receiving Flutter Warning\n",
      "Q: Open3d.geometry.VoxelGrid.get_voxel() return a negative value?\n",
      "Q: Explaining amortized analysis on dynamic array\n",
      "Q: Disable HomeMenuItems in ListViewMenu\n",
      "Q: How to use Hand Tracking to get landmarks with MediapipeUnityPlugins?\n",
      "Q: S3 notifications unable to find latest deployed version of Lambda\n",
      "Q: Piping into commander.js\n",
      "Q: Mgt Person card used in fluent UI list view auto selects the row when personcard is expanded\n",
      "Q: is it possible to active the pub when using fvm\n",
      "Q: AlertDialog in seperate class to use in entire project\n",
      "Q: Android Custom Keyboard view is displaced to top when dismissing\n",
      "Q: PHP error_log file delay in reporting errors\n",
      "Q: How to Design a Scheduler that Works on Documents updated between a fixed time Interval?\n",
      "Q: Alternative to TransactionScope (DTC) for .NET Core EntityFramework in a Linux Docker Container with a Windows Server Database (Multi-DB Commit Issue)\n",
      "Q: How to fill a column with random values in polars\n",
      "Q: Sorting list based on how big an int value is\n",
      "Q: laravel send user role into every route [using jetstream vuejs]\n",
      "Q: Elasticsearch nested-range query must_not\n",
      "Q: k8 cronjob docker/curlimages POST appends the headers to the Accept one\n",
      "Q: Modifying file in-place in Terraform\n",
      "Q: How to give space between text area and buttons?\n",
      "Q: problem in building image file with docker\n",
      "Q: Vertices and edges in apache age?\n",
      "Q: Show multiple figures by calling function repeatedly\n",
      "Q: Filter a dataframe based on combination of columns from another dataframe?\n",
      "Q: Network Graph D3 nodes collapse\n",
      "Q: How to skip the first start of kotlin StateFlow?\n",
      "Q: How to merge the empty header\n",
      "Q: How does active storage mapping works?\n",
      "Q: Issues with exporting data from SHP to Word (.docx) file\n",
      "Q: Github pages root folder\n",
      "Q: How to create an a table with an id from a sequence using jooq\n",
      "Q: Reactive webflux only reading single line\n"
     ]
    },
    {
     "data": {
      "text/plain": [
       "'A:'"
      ]
     },
     "metadata": {},
     "output_type": "display_data"
    },
    {
     "data": {
      "text/plain": [
       "'<blockquote>\\n<p>With REST, should I use PUT or PATCH to edit a secondary resource?</p>\\n</blockquote>\\n<p>Careful - <a href=\"https://datatracker.ietf.org/doc/html/rfc3986#section-3.5\" rel=\"nofollow noreferrer\">secondary resource</a> can be understood to mean something very different from what you are describing here.</p>\\n<hr />\\n<p>An important constraint in the REST architectural style is the <a href=\"https://www.ics.uci.edu/%7Efielding/pubs/dissertation/rest_arch_style.htm#sec_5_1_5\" rel=\"nofollow noreferrer\">uniform interface constraint</a>.  Among other things, this means that request semantics are the same for all target resources.</p>\\n<p>Therefore: PUT and PATCH messages that target <code>/users/1/car</code> should have the same semantics as PUT and PATCH messages that target <code>/users/1</code> should have the same semantics as PUT and PATCH message that target <code>/questions/76036040/with-rest-should-i-use-put-or-patch-to-edit-a-secondary-ressource</code>.</p>\\n<p>Specifically: we use PUT when the request body is a representation of our desired state for the target resource.  We use PATCH when the request body is a patch-document, which is to say a description of a set of changes that should be made to the target resource.</p>\\n<hr />\\n<blockquote>\\n<p>in this case, I do not know what is the entity, is it the user or is it the car? If it\\'s the car, then I believe I should use PUT, but if it is still the user then it should be PATCH.</p>\\n</blockquote>\\n<p>Doesn\\'t matter - PUT and PATCH are about representations of <em>resources</em>, not representations of <em>entities</em>.  Our REST API hides our domain entities behind a facade that looks like a web site; the semantics of the messages we are sending are expressed in the abstractions of the web site, not the underlying implementation.</p>\\n<hr />\\n<blockquote>\\n<p>So if my route is /users/1/car and changes the entirety of user 1 car, then it is PUT?</p>\\n</blockquote>\\n<p>If the target URI is /users/1/car, and the payload is a complete replacement representation of the /users/1/car resource, then the method should be PUT.</p>\\n<p>If the target URI is /users/1/car, and the payload is a patch-document that describes a set of changes to the representation of the /users/1/car resource, then the method should be PATCH.</p>\\n<p>The fact that there is also a /users/1 resource which may be impacted by the changes in /users/1/car is not relevant to the question.</p>\\n<p>Note that sending a PATCH to /users/1/car with a patch document that describes a set of changes to /users/1 is completely nonsensical (it is misleading to general purpose HTTP components who don\\'t know that the two resources are related to each other).</p>\\n'"
      ]
     },
     "metadata": {},
     "output_type": "display_data"
    },
    {
     "data": {
      "text/plain": [
       "'A:'"
      ]
     },
     "metadata": {},
     "output_type": "display_data"
    },
    {
     "data": {
      "text/plain": [
       "'<p>You have to define a persistent class that describes the global.  When the class is compiled it will create a corresponding SQL table for which you can use SQL against.</p>\\n'"
      ]
     },
     "metadata": {},
     "output_type": "display_data"
    },
    {
     "data": {
      "text/plain": [
       "'A:'"
      ]
     },
     "metadata": {},
     "output_type": "display_data"
    },
    {
     "data": {
      "text/plain": [
       "'<p>It seems you’re applying the <code>ngFor</code> in the wrong place. Apply it to the <code>option</code> and you should get the results that you’re looking for.</p>\\n'"
      ]
     },
     "metadata": {},
     "output_type": "display_data"
    },
    {
     "data": {
      "text/plain": [
       "'A:'"
      ]
     },
     "metadata": {},
     "output_type": "display_data"
    },
    {
     "data": {
      "text/plain": [
       "'<p>//app custom datepicker</p>\\n<pre><code>public partial class NullableDatePicker : DatePicker\\n{\\n    public event EventHandler&lt;NullableDateChangedEventArgs&gt; NullableDateChanged;\\n    public NullableDatePicker()\\n    {\\n        Format = &quot;d&quot;;\\n        FontSize = 12;\\n    }\\n    public string _originalFormat = null;\\n\\n    public static readonly BindableProperty PlaceHolderProperty =\\n        BindableProperty.Create(nameof(PlaceHolder), typeof(string), typeof(NullableDatePicker), &quot;/ . / . /&quot;);\\n\\n    public string PlaceHolder\\n    {\\n        get { return (string)GetValue(PlaceHolderProperty); }\\n        set\\n        {\\n            SetValue(PlaceHolderProperty, value);\\n        }\\n    }\\n\\n\\n    public static readonly BindableProperty NullableDateProperty =\\n    BindableProperty.Create(nameof(NullableDate), typeof(DateTime?), typeof(NullableDatePicker), null, defaultBindingMode: BindingMode.TwoWay, null, (b, o, n) =&gt;\\n    {\\n        var self = (NullableDatePicker)b;\\n        var oldValue = ((DateTime?)o)?.Date;\\n        var newValue = ((DateTime?)n)?.Date;\\n\\n        self.UpdateDate();\\n\\n        if (oldValue?.ToString() != newValue?.ToString())\\n            self.NullableDateChanged?.Invoke(self, new NullableDateChangedEventArgs((DateTime?)oldValue, (DateTime?)newValue));\\n    });\\n\\n    public DateTime? NullableDate\\n    {\\n        get { return (DateTime?)GetValue(NullableDateProperty); }\\n        set\\n        {\\n            SetValue(NullableDateProperty, value?.Date);\\n        }\\n    }\\n\\n    private void UpdateDate()\\n    {\\n        if (NullableDate.HasValue)\\n        {\\n            if (_originalFormat != null)\\n            {\\n                Format = _originalFormat;\\n            }\\n        }\\n        else\\n        {\\n            Format = PlaceHolder;\\n        }\\n    }\\n\\n    protected override void OnBindingContextChanged()\\n    {\\n        base.OnBindingContextChanged();\\n        if (BindingContext != null)\\n        {\\n            _originalFormat = Format;\\n            UpdateDate();\\n        }\\n    }\\n\\n    protected override void OnPropertyChanged(string propertyName = null)\\n    {\\n        base.OnPropertyChanged(propertyName);\\n\\n        if (propertyName == DateProperty.PropertyName || (propertyName == IsFocusedProperty.PropertyName &amp;&amp; !IsFocused &amp;&amp; (Date.ToString(&quot;d&quot;) == DateTime.Now.ToString(&quot;d&quot;))))\\n        {\\n            AssignValue();\\n        }\\n\\n        if (propertyName == NullableDateProperty.PropertyName &amp;&amp; NullableDate.HasValue)\\n        {\\n            Date = NullableDate.Value;\\n            if (Date.ToString(_originalFormat) == DateTime.Now.ToString(_originalFormat))\\n            {\\n                //this code was done because when date selected is the actual date the&quot;DateProperty&quot; does not raise  \\n                UpdateDate();\\n            }\\n        }\\n    }\\n\\n    public void CleanDate()\\n    {\\n        NullableDate = null;\\n        UpdateDate();\\n    }\\n\\n    public void AssignValue()\\n    {\\n        NullableDate = Date;\\n        UpdateDate();\\n    }\\n}\\n</code></pre>\\n<p>//android renderer</p>\\n<pre><code>public partial class NullableDatePickerRenderer : ViewRenderer&lt;NullableDatePicker, EditText&gt;\\n{\\n    DatePickerDialog _dialog;\\n    private bool _disposedValue;\\n\\n    public NullableDatePickerRenderer(Context context) : base(context)\\n    {\\n    }\\n\\n    protected override void OnElementChanged(ElementChangedEventArgs&lt;NullableDatePicker&gt; e)\\n    {\\n        base.OnElementChanged(e);\\n\\n        SetNativeControl(new EditText(Context));\\n\\n        if (Control == null || e.NewElement == null)\\n            return;\\n\\n        Control.Click += OnPickerClick;\\n        Control.Text = Element.Date.ToString(Element.Format);\\n        Control.KeyListener = null;\\n        Control.FocusChange += OnPickerFocusChange;\\n        Control.Enabled = Element.IsEnabled;\\n        Control.SetPadding(10, 0, 0, 5);\\n        Control.TextSize = 14;\\n    }\\n\\n    protected override void OnElementPropertyChanged(object sender, System.ComponentModel.PropertyChangedEventArgs e)\\n    {\\n        base.OnElementPropertyChanged(sender, e);\\n\\n        if (e.PropertyName == DatePicker.DateProperty.PropertyName || e.PropertyName == DatePicker.FormatProperty.PropertyName)\\n            SetDate(Element.Date);\\n    }\\n\\n    void OnPickerFocusChange(object sender, FocusChangeEventArgs e)\\n    {\\n        if (e.HasFocus)\\n        {\\n            ShowDatePicker();\\n        }\\n    }\\n\\n    protected override void Dispose(bool disposing)\\n    {\\n        if (Control != null &amp;&amp; !_disposedValue)\\n        {\\n            if (disposing)\\n            {\\n                Control.Click -= OnPickerClick;\\n                Control.FocusChange -= OnPickerFocusChange;\\n\\n                if (_dialog != null)\\n                {\\n                    _dialog.Hide();\\n                    _dialog.Dispose();\\n                    _dialog = null;\\n                }\\n            }\\n            _disposedValue = true;\\n        }\\n\\n        base.Dispose(disposing);\\n    }\\n\\n    void OnPickerClick(object sender, EventArgs e)\\n    {\\n        ShowDatePicker();\\n    }\\n\\n    void SetDate(DateTime date)\\n    {\\n        Control.Text = date.ToString(Element.Format);\\n        Element.Date = date.Date;\\n\\n    }\\n\\n    private void ShowDatePicker()\\n    {\\n        CreateDatePickerDialog(Element.Date.Year, Element.Date.Month - 1, Element.Date.Day);\\n        _dialog.Show();\\n    }\\n\\n    void CreateDatePickerDialog(int year, int month, int day)\\n    {\\n        NullableDatePicker view = Element;\\n        _dialog = new DatePickerDialog(Context, (o, e) =&gt;\\n        {\\n            view.Date = e.Date;\\n            ((IElementController)view).SetValueFromRenderer(VisualElement.IsFocusedProperty, false);\\n            Control.ClearFocus();\\n\\n            _dialog = null;\\n        }, year, month, day);\\n\\n        _dialog.SetButton(&quot;Done&quot;, (sender, e) =&gt;\\n        {\\n            SetDate(_dialog.DatePicker.DateTime);\\n            Element.Format = Element._originalFormat;\\n            Element.AssignValue();\\n        });\\n        _dialog.SetButton2(&quot;Clear&quot;, (sender, e) =&gt;\\n        {\\n            Element.CleanDate();\\n            Control.Text = Element.Format;\\n        });\\n    }\\n}\\n</code></pre>\\n<p>//ios renderer</p>\\n<pre><code>public partial class NullableDatePickerRenderer : ViewRenderer&lt;NullableDatePicker, UIView&gt;\\n{\\n    protected override void OnElementChanged(ElementChangedEventArgs&lt;NullableDatePicker&gt; e)\\n    {\\n        base.OnElementChanged(e);\\n\\n        if (e.NewElement != null &amp;&amp; this.Control != null)\\n        {\\n            this.AddClearButton();\\n\\n            //this.Control.BorderStyle = UITextBorderStyle.Line;\\n            Control.Layer.BorderColor = UIColor.LightGray.CGColor;\\n            Control.Layer.BorderWidth = 1;\\n\\n            if (DeviceInfo.Idiom == DeviceIdiom.Tablet)\\n            {\\n                //this.Control.Font = UIFont.SystemFontOfSize(25);\\n            }\\n        }\\n    }\\n\\n    private void AddClearButton()\\n    {\\n        var originalToolbar = this.Control.InputAccessoryView as UIToolbar;\\n\\n        if (originalToolbar != null &amp;&amp; originalToolbar.Items.Length &lt;= 2)\\n        {\\n            var clearButton = new UIBarButtonItem(&quot;Clear&quot;, UIBarButtonItemStyle.Plain, ((sender, ev) =&gt;\\n            {\\n                NullableDatePicker baseDatePicker = this.Element as NullableDatePicker;\\n                this.Element.Unfocus();\\n                this.Element.Date = DateTime.Now;\\n                baseDatePicker.CleanDate();\\n\\n            }));\\n\\n            var newItems = new List&lt;UIBarButtonItem&gt;();\\n            foreach (var item in originalToolbar.Items)\\n            {\\n                newItems.Add(item);\\n            }\\n\\n            newItems.Insert(0, clearButton);\\n\\n            originalToolbar.Items = newItems.ToArray();\\n            originalToolbar.SetNeedsDisplay();\\n        }\\n    }\\n}\\n</code></pre>\\n<p>add handlers in MauiProgram.cs</p>\\n<pre><code>...\\n    .ConfigureMauiHandlers(handlers =&gt;\\n                {\\n#if __ANDROID__\\n                    handlers.AddHandler(typeof(NullableDatePicker), typeof(MyApp.Platforms.Android.Renderers.NullableDatePickerRenderer));\\n#elif __IOS__\\n                    handlers.AddHandler(typeof(NullableDatePicker), typeof(MyApp.Platforms.iOS.Renderers.NullableDatePickerRenderer));\\n#elif WINDOWS10_0_17763_0_OR_GREATER\\n                    handlers.AddHandler(typeof(NullableTimePicker), typeof(MyApp.Platforms.Windows.Renderers.NullableDatePickerRenderer));\\n#endif\\n})\\n...\\n</code></pre>\\n<p>source: <a href=\"https://xamgirl.com/clearable-datepicker-in-xamarin-forms/\" rel=\"nofollow noreferrer\">https://xamgirl.com/clearable-datepicker-in-xamarin-forms/</a></p>\\n<p>The clear button works on android, I haven\\'t tested it fully on ios, I haven\\'t found a solution for windows yet.</p>\\n'"
      ]
     },
     "metadata": {},
     "output_type": "display_data"
    },
    {
     "data": {
      "text/plain": [
       "'A:'"
      ]
     },
     "metadata": {},
     "output_type": "display_data"
    },
    {
     "data": {
      "text/plain": [
       "'<p>You can use the email module</p>\\n<pre><code>import email\\n\\nmsg = email.message_from_string(message.body)\\nencryption_header = msg.get(&quot;Encryption&quot;)\\n\\nif encryption_header and encryption_header.lower() in [&quot;1&quot;, &quot;true&quot;]:\\n    print(&quot;encrypted&quot;)\\nelse:\\n    print(&quot;not encrypted.&quot;)\\n</code></pre>\\n'"
      ]
     },
     "metadata": {},
     "output_type": "display_data"
    },
    {
     "data": {
      "text/plain": [
       "'A:'"
      ]
     },
     "metadata": {},
     "output_type": "display_data"
    },
    {
     "data": {
      "text/plain": [
       "\"<p>You just need to include the wp_load.php file located at the root of your wordpress. If your custom file is also at the root of your wordpress, your code need to be like this:</p>\\n<pre><code>&lt;?php\\n\\nrequire_once('wp-load.php');\\n\\nif ( !is_user_logged_in() ) {\\nwp_redirect( wp_login_url() );\\nexit;\\n}\\n?&gt;\\n</code></pre>\\n\""
      ]
     },
     "metadata": {},
     "output_type": "display_data"
    },
    {
     "data": {
      "text/plain": [
       "'A:'"
      ]
     },
     "metadata": {},
     "output_type": "display_data"
    },
    {
     "data": {
      "text/plain": [
       "'<p>You are using Vue.js, you must also include it in the plugins.</p>\\n<p><strong>vite.config.ts</strong></p>\\n<pre class=\"lang-js prettyprint-override\"><code>import { defineConfig } from \\'vite\\';\\nimport vue from \\'@vitejs/plugin-vue\\';\\nimport checker from \\'vite-plugin-checker\\';\\n\\n// https://vitejs.dev/config/\\nexport default defineConfig({\\n  plugins: [\\n    vue(), // here - important for vue apps\\n    checker({\\n      typescript: true,\\n      vueTsc: true,\\n    }),\\n  ],\\n});\\n</code></pre>\\n'"
      ]
     },
     "metadata": {},
     "output_type": "display_data"
    },
    {
     "data": {
      "text/plain": [
       "'A:'"
      ]
     },
     "metadata": {},
     "output_type": "display_data"
    },
    {
     "data": {
      "text/plain": [
       "'<p>On Windows, as a temporary workaround, you can add an exception on your antivirus for the folder in which the Flutter SDK is installed:</p>\\n<p><strong>Windows Security</strong> &gt; <strong>Virus &amp; threat protection</strong> &gt; <em>Your antivirus</em> &gt; Add an exception.\\nSpecify the path to your Flutter SDK, e.g. &quot;C:\\\\flutter&quot;</p>\\n'"
      ]
     },
     "metadata": {},
     "output_type": "display_data"
    },
    {
     "data": {
      "text/plain": [
       "'A:'"
      ]
     },
     "metadata": {},
     "output_type": "display_data"
    },
    {
     "data": {
      "text/plain": [
       "'<p>In a correct <em><code>src</code>-layout</em> project, the only things that should be present in the <code>src</code> directory are the <em>top-level</em> <a href=\"https://packaging.python.org/en/latest/glossary/#term-Import-Package\" rel=\"nofollow noreferrer\"><em>import packages</em></a> and <em>top-level import modules</em> (<em>sub-packages</em> are in the sub-directories of the <em>top-level packages</em>, obviously).</p>\\n<p>By convention each <a href=\"https://packaging.python.org/en/latest/glossary/#term-Distribution-Package\" rel=\"nofollow noreferrer\"><em>distribution package</em></a> contains one and only one <em>top-level</em> <a href=\"https://packaging.python.org/en/latest/glossary/#term-Import-Package\" rel=\"nofollow noreferrer\"><em>import package</em></a> (or <em>top-level import module</em>). And I guess that this convention is the &quot;<em>de facto</em> standard&quot; that is asked for in the question.</p>\\n<p>In the case of the example shown in the question, if the project had both <code>src/mypkg</code> and <code>src/mypkg2</code> directories, then the project would have 2 <em>top-level import packages</em>, which is unconventional (but possible).</p>\\n<p>Famous example of project not following this convention is <a href=\"https://pypi.org/project/setuptools/\" rel=\"nofollow noreferrer\"><em>setuptools</em></a>, it has 2 top-level imports: <code>setuptools</code> and <a href=\"https://setuptools.pypa.io/en/latest/pkg_resources.html\" rel=\"nofollow noreferrer\"><code>pkg_resources</code></a>.</p>\\n<p>I do not know of any authoritative documentation that clarifies this specific point of the <code>src</code>-layout, the closest I can find is <a href=\"https://packaging.python.org/en/latest/discussions/src-layout-vs-flat-layout/\" rel=\"nofollow noreferrer\">&quot;<em>src layout vs flat layout</em>&quot; on the <em>Python Packaging User Guide</em></a>.</p>\\n'"
      ]
     },
     "metadata": {},
     "output_type": "display_data"
    },
    {
     "data": {
      "text/plain": [
       "'A:'"
      ]
     },
     "metadata": {},
     "output_type": "display_data"
    },
    {
     "data": {
      "text/plain": [
       "'<p>This is a two-step process. You are looking for the point on the solid that is closest to the origin of which the distance is trivial to calculate.</p>\\n<ol>\\n<li><p>Check each edge of the object to find the closest point. The closest point might be on either end of each edge, or somewhere in the middle. Here a link (<a href=\"https://www.geometrictools.com/Source/Distance3D.html#PointLinear\" rel=\"nofollow noreferrer\">https://www.geometrictools.com/Source/Distance3D.html#PointLinear</a>) to some sample C++ code to check point-to-line-segment distances.</p>\\n</li>\\n<li><p>Check each face of the object as an infinite plane. Again here is a link (<a href=\"https://www.geometrictools.com/Source/Distance3D.html#PointPlanar\" rel=\"nofollow noreferrer\">https://www.geometrictools.com/Source/Distance3D.html#PointPlanar</a>) to some sample C++ code to check point-to-hyperplane distances.</p>\\n</li>\\n</ol>\\n<p>You result is the minimum distance of the two steps above.</p>\\n'"
      ]
     },
     "metadata": {},
     "output_type": "display_data"
    },
    {
     "data": {
      "text/plain": [
       "'A:'"
      ]
     },
     "metadata": {},
     "output_type": "display_data"
    },
    {
     "data": {
      "text/plain": [
       "'<p><a href=\"https://i.stack.imgur.com/tSk1N.png\" rel=\"nofollow noreferrer\">android/build.gradle</a></p>\\n<p><a href=\"https://i.stack.imgur.com/3UXKC.png\" rel=\"nofollow noreferrer\">android/app/build.gradle-1</a></p>\\n<p><a href=\"https://i.stack.imgur.com/DmhRu.png\" rel=\"nofollow noreferrer\">android/app/build.gradl-2</a></p>\\n'"
      ]
     },
     "metadata": {},
     "output_type": "display_data"
    },
    {
     "data": {
      "text/plain": [
       "'A:'"
      ]
     },
     "metadata": {},
     "output_type": "display_data"
    },
    {
     "data": {
      "text/plain": [
       "'<p>For your <code>first error</code> which is <code>AndroidX must be enabled when Jetifier is enabled. To resolve, set android.useAndroidX=true in your gradle.properties file.</code></p>\\n<p>Add following two lines in <code>gradle.properties</code> file.</p>\\n<pre><code>android.useAndroidX=true\\nandroid.enableJetifier=true\\n</code></pre>\\n<p>For your <code>second error</code>, based on your error message <code>Could not get unknown property \\'ndkVersion\\' for extension \\'android\\' of type com.android.build.gradle.internal.dsl.BaseAppModuleExtension. </code>  you need to do the following:</p>\\n<p>Navigate to <code>android &gt;&gt; app &gt;&gt; build.gradle</code> and change your <code>flutter.ndkVersion</code> to the latest <strong>stable</strong> version. You can check the latest NDK stable version <a href=\"https://developer.android.com/ndk/downloads\" rel=\"nofollow noreferrer\">here</a></p>\\n<p><a href=\"https://i.stack.imgur.com/HWySN.png\" rel=\"nofollow noreferrer\"><img src=\"https://i.stack.imgur.com/HWySN.png\" alt=\"enter image description here\" /></a></p>\\n<p><a href=\"https://i.stack.imgur.com/GjJQC.png\" rel=\"nofollow noreferrer\"><img src=\"https://i.stack.imgur.com/GjJQC.png\" alt=\"enter image description here\" /></a></p>\\n'"
      ]
     },
     "metadata": {},
     "output_type": "display_data"
    },
    {
     "data": {
      "text/plain": [
       "'A:'"
      ]
     },
     "metadata": {},
     "output_type": "display_data"
    },
    {
     "data": {
      "text/plain": [
       "\"<p>Your question doesn't really make sense. Your code is single-threaded/synchronous code. There's no concurrency.</p>\\n<p>With synchronous code, there is only ever one thing happening at a time. Your MyClassB.work1() function runs beginning to end.</p>\\n<p>If you just want to skip the final call to <code>MyClassA.shared.work2(value: false)</code>\\n<code>if you ever called it with</code>value:true` from inside the loop, just change your break to a return:</p>\\n<pre><code>func work1() {\\n    \\n    for item in array {\\n        if (item == 2) {\\n            MyClassA.shared.work2(value: true)\\n            return // &lt;-- Change this line\\n        }\\n    }\\n    \\n    \\n    // I need stop function if I already send true value to MyClassA.shared.work2(value: true), if not i need to run next line of code.\\n    \\n    MyClassA.shared.work2(value: false)\\n    \\n}\\n</code></pre>\\n\""
      ]
     },
     "metadata": {},
     "output_type": "display_data"
    },
    {
     "data": {
      "text/plain": [
       "'A:'"
      ]
     },
     "metadata": {},
     "output_type": "display_data"
    },
    {
     "data": {
      "text/plain": [
       "'<p>as <a href=\"https://stackoverflow.com/users/12738750/lorem-ipsum\">lorem ipsum</a> said, instead of <code>break</code> use <code>return</code> the whole function will end there\\nbut also you can use this code instead of <code>for</code>:</p>\\n<pre><code>let doesArrayContainValue = array.reduce(false) { $0 || ($1 == 2) }\\nMyClassA.shared.work2(value: doesArrayContainValue)\\n</code></pre>\\n<p>this code is searching for value of 2. if array contains this value, than variable will be true. otherwise variable will be false</p>\\n<p>so now your function will be like this:</p>\\n<pre><code>func work1() {\\n    let doesArrayContainValue = array.reduce(false) { $0 || ($1 == 2) }\\n    MyClassA.shared.work2(value: doesArrayContainValue)\\n}\\n</code></pre>\\n<p>you can read more about reduce function <a href=\"https://developer.apple.com/documentation/swift/array/reduce(_:_:)\" rel=\"nofollow noreferrer\">here</a></p>\\n'"
      ]
     },
     "metadata": {},
     "output_type": "display_data"
    },
    {
     "data": {
      "text/plain": [
       "'A:'"
      ]
     },
     "metadata": {},
     "output_type": "display_data"
    },
    {
     "data": {
      "text/plain": [
       "'<p>This calculator uses so called RPN (Reverse Polish notation) to enter values and operators and then calculate a result. RPN is described here in <a href=\"https://en.wikipedia.org/wiki/Reverse_Polish_notation\" rel=\"nofollow noreferrer\">Wikipedia</a>.</p>\\n<p>And there you can read the most important element that you need: A so called <em><strong>stack</strong></em>.</p>\\n<p>This is a data container with a last-in / first-out property. New values are always pushed on top of the stack. And, you can only access and read the top element on the stack. Of course you can pop the top value from the stack. This will vanish then. Helper functions to determine the number of elements on the stack and others, are often also available.</p>\\n<p>The most important functions of a stack are:</p>\\n<ul>\\n<li><strong>push</strong> --&gt; Add an element to the top of the stack</li>\\n<li><strong>pop</strong> --&gt; remove an element from the top of the stack</li>\\n<li><strong>top</strong> --&gt; Read the top element. This is your <strong>peek</strong> function</li>\\n</ul>\\n<p>Please note: In most implementations pop does not return the value on top of the stack. It simply removes the top element. So, if you need to read the top element and then pop it, you need to call first the **top*-function and then <strong>pop</strong>.</p>\\n<p>Your chosen approach will unfortunately not be sufficient in most cases, because you have only a few elements: &quot;x&quot;, &quot;y&quot;, &quot;z&quot; and a &quot;t&quot;. This will not be sufficient for longer input strings, like for example:</p>\\n<pre><code>1 2 3 4 5 + + + +\\n</code></pre>\\n<p>So you need something more dynamic. Something that can &quot;grow&quot;. If you are allowed, you can use the existing C++ container <code>std::stack</code>, <code>std::vector</code>, <code>std::deque</code> or <code>std::list</code>. All those have the functionality that you need</p>\\n<pre><code>Your        \\nfunctions   std::stack  std::vector  std::deque  std::list\\n\\npush        push        push_back    push_back   push_back\\npop         pop         pop_back     pop_back    pop_back\\npeek        top         back         back        back\\nsize        size        size         size        size\\n</code></pre>\\n<p>If you are not allowed to use these, you have 2 possibilities to implement a &quot;stack&quot;</p>\\n<ul>\\n<li>Use something static container with a maximum stack size, like <code>std::array</code> or a C-Style array</li>\\n<li>Build some container with a dynamic memory management, using <code>new</code> and <code>delete</code></li>\\n</ul>\\n<p>As an example for a dynamic implementation, I show you a extremely simple linked list. Here we will always just look at the first element of the list. So, the first element is the stack top. This makes life really simple. Please see:</p>\\n<pre><code>#include &lt;initializer_list&gt;\\n#include &lt;iostream&gt;\\n#include &lt;string&gt;\\n\\n// Node class for a minimum singly linked list\\nstruct Node {\\n    std::string data{};     // Data part \\n    Node* next{};           // Link\\n};\\n\\n// Stack, implemented as singly linked list with only minimum necessary functions\\nclass Stack {\\n\\n    Node* head{};               // Head of singly linked list\\n    int numberOfElements{};     // Housekeeping. Stack size\\npublic:\\n    Stack() {};                 // Default constructor. Do nothing\\n    // Convenience function. Build stack from initailizer list\\n    Stack(const std::initializer_list&lt;std::string&gt;&amp; il) { for (const std::string&amp; i : il) push(i); }\\n\\n    // And destructor, will release memory\\n    ~Stack() {\\n        Node* temp = head;          // Start with the head\\n        while (temp) {              // Iterate along the list\\n            Node* toDelete = temp;  // Remember Node that must be deleted\\n            temp = temp-&gt;next;      // Goto next element\\n            delete toDelete;        // Delete Remebered Element\\n        }\\n    }\\n    void push(const std::string&amp; value) {    // Push a new element onto the stack. Insert at  beginning\\n        Node* temp = new Node;      // Allocate memory for a new node\\n        temp-&gt;data = value;         // Assign data part to new Node\\n        temp-&gt;next = head;          // This will be the new head, so, next will point to previous head\\n        head = temp;                // Set head pointer to new Node\\n        ++numberOfElements;         // Bookkeeping, incremenent size\\n    }\\n    void pop() {                    // Simply dlete the first element in the linked list\\n        if (head) {                 // If there is something in the list at all\\n            Node* temp = head;      // Remember current head Node\\n            head = head-&gt;next;      // New head will be the current heads next node\\n            delete temp;            // Delete old head\\n            --numberOfElements;     // Bookkeeping, decremenent size\\n        }\\n    };\\n    std::string top() const { return head ? head-&gt;data : &quot;&quot;; }   // Simply retun data from head node\\n    int size() const { return numberOfElements; }       // expose size to outside world \\n\\n    void print() {                          // Helper for printing debug output\\n        Node* temp = head;                  // We will iterate over the list beginning at the head\\n        while (temp) {                      // As long as we are not at the end of the list\\n            std::cout &lt;&lt; temp-&gt;data &lt;&lt; \\' \\'; // Show data\\n            temp = temp-&gt;next;              // And continue with next node\\n        }\\n        std::cout &lt;&lt; \\'\\\\n\\';\\n    }\\n};\\nint main() {\\n    Stack stack{ &quot;1&quot;, &quot;2&quot;, &quot;+&quot;};\\n    stack.print();\\n}\\n</code></pre>\\n<p>.</p>\\n<hr />\\n<p>a Second example would be a stack based on a static array. I will even use a C-Style array here. Please see the example below:</p>\\n<pre><code>#include &lt;initializer_list&gt;\\n#include &lt;iostream&gt;\\n#include &lt;string&gt;\\n\\n// Stack, implemented based on a static array\\nclass Stack {\\n    static constexpr int MaxStackSize = 256;\\n    std::string data[MaxStackSize]; \\n    int stackPointerTop{};                              // Index of top element\\npublic:\\n    Stack() {};                                         // Default constructor. Do nothing\\n    // Convenience function. Build stack from initailizer list\\n    Stack(const std::initializer_list&lt;std::string&gt;&amp; il) { for (const std::string&amp; i : il) push(i); }\\n\\n    void push(const std::string&amp; value) {               // Push a new element onto the stack. Insert at  beginning\\n        if (stackPointerTop &lt; (MaxStackSize - 1))       // Sanity check \\n            data[stackPointerTop++] = value;            // Append value at the end\\n    }\\n    void pop() {                                        // Simply delete last element\\n        if (stackPointerTop &gt; 0)                        // sanity check\\n            --stackPointerTop;                          // Leave data in array, just decrement stack pointer\\n    };\\n    // Return last element\\n    std::string top() const { return (stackPointerTop &gt; 0) ? data[stackPointerTop - 1] : &quot;&quot;;  }\\n    // And the number of elements on the stack\\n    int size() const { (stackPointerTop &gt; 0) ? stackPointerTop - 1 : 0; }  // expose size to outside world \\n\\n    void print() {                                      // Helper for printing debug output\\n        for (int i = 0; stackPointerTop; ++i) {\\n            std::cout &lt;&lt; top() &lt;&lt; \\' \\';\\n            pop();\\n        }\\n        std::cout &lt;&lt; \\'\\\\n\\';\\n    }\\n};\\nint main() {\\n    Stack stack{ &quot;1&quot;, &quot;2&quot;, &quot;+&quot; };\\n    stack.print();\\n}\\n\\n</code></pre>\\n<p>.</p>\\n<hr />\\n<p>Now, you may use any &quot;stack&quot;, basically the &quot;std::stack&quot; for your implementation.</p>\\n<p>But again, caveat. Your implementation will work only for 2 operand followed by an operator. if your line is &quot;1 2 3 + +&quot; it will no longer work and you would need to swap elements. After calculating 2 3 + you would need to replace the number 2 on the stack with 5. The stack would then look like 1 5 + and then the second reduction would take place.</p>\\n<p>But for your proposed input, your approach will work.</p>\\n<p>I will not write the code for you. But you will find tons of examples in the net. See for example <a href=\"https://gist.github.com/dvtate/19d1b67bd454073bf8c7d70b3e3cc79e\" rel=\"nofollow noreferrer\">here</a></p>\\n<p>If you have further questions, then please ask.</p>\\n'"
      ]
     },
     "metadata": {},
     "output_type": "display_data"
    },
    {
     "data": {
      "text/plain": [
       "'A:'"
      ]
     },
     "metadata": {},
     "output_type": "display_data"
    },
    {
     "data": {
      "text/plain": [
       "'<p>This code works:</p>\\n<pre><code>import mongomock\\nclient = mongomock.MongoClient()\\ndatabase = client.__getattr__(database_name)\\ncollection = database.__getattr__(collection_name)\\n</code></pre>\\n<p>You can define as many as client, database and collections you need at the same time.</p>\\n'"
      ]
     },
     "metadata": {},
     "output_type": "display_data"
    },
    {
     "data": {
      "text/plain": [
       "'A:'"
      ]
     },
     "metadata": {},
     "output_type": "display_data"
    },
    {
     "data": {
      "text/plain": [
       "'<p>One more alternative:</p>\\n<p>If the value is inheritable, and it is not set on the child directly. Then you could also assign it to parent with <code>attr()</code> and make do the inheritance do its thing.</p>\\n'"
      ]
     },
     "metadata": {},
     "output_type": "display_data"
    },
    {
     "data": {
      "text/plain": [
       "'A:'"
      ]
     },
     "metadata": {},
     "output_type": "display_data"
    },
    {
     "data": {
      "text/plain": [
       "'<p>Check the signature of <a href=\"https://learn.microsoft.com/en-us/dotnet/api/microsoft.extensions.dependencyinjection.servicecollectionserviceextensions.addsingleton?view=dotnet-plat-ext-7.0#microsoft-extensions-dependencyinjection-servicecollectionserviceextensions-addsingleton-2(microsoft-extensions-dependencyinjection-iservicecollection)\" rel=\"nofollow noreferrer\"><code>ServiceCollectionServiceExtensions.AddSingleton&lt;TService,TImplementation&gt;(IServiceCollection)</code></a>:</p>\\n<blockquote>\\n<p><code>TService</code> - The type of the service to add.<br />\\n<code>TImplementation</code> - The type of the implementation to use.</p>\\n</blockquote>\\n<p>You have registered <code>IFoo</code>, not <code>Foo</code> so resolve the interface:</p>\\n<pre class=\"lang-cs prettyprint-override\"><code>app.MapGet(&quot;/&quot;, ([FromServices] IFoo f) =&gt;\\n{\\n    f.Print();\\n    return &quot;Hello World!&quot;;\\n});\\n</code></pre>\\n<p>P.S.</p>\\n<p>You should be able to skip the <code>FromServicesAttribute</code>, i.e. <code>(IFoo f) =&gt; ...</code>.</p>\\n'"
      ]
     },
     "metadata": {},
     "output_type": "display_data"
    },
    {
     "data": {
      "text/plain": [
       "'A:'"
      ]
     },
     "metadata": {},
     "output_type": "display_data"
    },
    {
     "data": {
      "text/plain": [
       "\"<p>that's completely normal. During the first inference or forward pass your GPU has to allocate the necessary buffer memory for each output Tensor at each level (which costs time).</p>\\n\""
      ]
     },
     "metadata": {},
     "output_type": "display_data"
    },
    {
     "data": {
      "text/plain": [
       "'A:'"
      ]
     },
     "metadata": {},
     "output_type": "display_data"
    },
    {
     "data": {
      "text/plain": [
       "'<ul>\\n<li>Since you have only the <code>inside</code> dive inside the <code>outside</code> div, if you used flex box column with <code>flex: 1</code> for the <code>inside</code> div, the inside dive would take its parent height without overflowing.</li>\\n<li>This way scrolling will work fine and if the content isn\\'t overflowing, the <code>outside</code> div would shrink to the <code>content</code> div height.</li>\\n</ul>\\n<p>Feel free to test with different content heights, and if anything is unclear, ask in the comments.</p>\\n<p><div class=\"snippet\" data-lang=\"js\" data-hide=\"false\" data-console=\"true\" data-babel=\"false\">\\r\\n<div class=\"snippet-code\">\\r\\n<pre class=\"snippet-code-css lang-css prettyprint-override\"><code>.outside {\\n    max-height: 500px;\\n    /* Change */\\n    display: flex;\\n    flex-direction: column;\\n    /* Change */\\n    background-color: gray;\\n}\\n\\n.inside {\\n    overflow-y: scroll;\\n    /* Change */\\n    /* with flex: 1; and the only child div of \\'outside\\'\\n    is the \\'inside\\' dive, then the inside would \\n    take the full height of its parent without the need to \\n    put a fixed height to the parent dive \\'outside\\' */ \\n    flex: 1;\\n    /* Change */\\n    background-color: green;\\n    margin-right: 100px;\\n}\\n\\n.content {\\n    height: 2000px;\\n\\n    background-color: red;\\n    margin-right: 100px;\\n}</code></pre>\\r\\n<pre class=\"snippet-code-html lang-html prettyprint-override\"><code>&lt;html&gt;\\n    &lt;body style=\"overflow-y: hidden\"&gt;\\n        &lt;div class=\"outside\"&gt;\\n            &lt;div class=\"inside\"&gt;\\n                &lt;div class=\"content\"&gt;&lt;/div&gt;\\n            &lt;/div&gt;\\n        &lt;/div&gt;\\n    &lt;/body&gt;\\n&lt;/html&gt;</code></pre>\\r\\n</div>\\r\\n</div>\\r\\n</p>\\n'"
      ]
     },
     "metadata": {},
     "output_type": "display_data"
    },
    {
     "data": {
      "text/plain": [
       "'A:'"
      ]
     },
     "metadata": {},
     "output_type": "display_data"
    },
    {
     "data": {
      "text/plain": [
       "\"<p>So you are using IBM i v7.5, and programming like you are stuck at v6.1 so there are several things you want to do here. First, stop using fixed format code all together. You no longer need to code H, D, and P specs in fixed format. Second you no longer need <code>/Free</code> and <code>/End-Free</code>. Just put <code>**free</code> as the first line of your program. But, if you insist on a mix of fixed format and free format code, just omit the <code>**free</code> and code the lines. You still do not need <code>/Free</code> or <code>/End-Free</code>, the compiler can tell the difference and they just clutter the code.</p>\\n<p>So it should look like this:</p>\\n<pre><code>**free\\nctl-opt DatFmt(*iso) TimFmt(*iso)\\n        DftActGrp(*No) ActGrp(*New)\\n        Option(*NoDebugIo: *SrcStmt: *NoUnref)\\n        Main(main);  \\n\\n// Global variables (accessible to all sub procedures local to this pro \\ndcl-s Sum Packed(4,0) inz(0);\\n                 \\n// Main procedure\\ndcl-proc main;                       \\n   Sum = SubProcedure1(5:10);                                        \\n   dsply Sum;                                                        \\n   // *INLR = *ON; This is unnecessary\\nend-proc;                                                              \\n                                                           \\n// SubProcedure Begin                                                   \\ndcl-proc SubProcedure1;                                     \\n   dcl-pi *n Packed(4,0);\\n      num1 Packed(4,0) value;\\n      num2 Packed(4,0) value;\\n   end-pi;\\n \\n   return num1 + num2; \\nend-proc;\\n</code></pre>\\n<p>So lets look at this line by line:</p>\\n<pre><code>**free\\n</code></pre>\\n<p>This tells the compiler that the program is entirely free format, fixed format lines are not allowed, and that the cycle is not going to be involved. So, things that use or control the cycle like *INLR have no meaning. There is also no columnar importance at all for the code. Your code go from column 1 all the way to the end of the record line. There are no sequence or comment columns, and the record length can be greater than 80.</p>\\n<pre><code>ctl-opt DatFmt(*iso) TimFmt(*iso)\\n        DftActGrp(*No) ActGrp(*New)\\n        Option(*NoDebugIo: *SrcStmt: *NoUnref)\\n        Main(main); \\n</code></pre>\\n<p>This is what used to be the H spec. You can use this for every program, but modules will want <code>NoMain</code> instead of <code>Main()</code>. In addition you will want to use <code>ActGrp(*Caller)</code> for modules. I usually use the program name as the main procedure name. I don't remember why any more, just that I ran into some issues when I tried using <strong>main</strong> as the main procedure name. It doesn't cause compile or runtime issues but there is something else. It might just be a procedural for me, but I use the program name for the main procedure name now, and do not have any issues with that.</p>\\n<pre><code>dcl-s Sum Packed(4,0) inz(0);\\n</code></pre>\\n<p>This is the D spec for the global variable, the variable is defined and initialized all in one step. There is no longer a need for a prototype for procedures defined in the program source, so that is dropped.</p>\\n<pre><code>dcl-proc main;                       \\n   Sum = SubProcedure1(5:10);                                        \\n   dsply Sum; \\nend-proc; \\n</code></pre>\\n<p>The main procedure source is now enclosed is a procedure definition. I named it main here, but I usually name it after my program. Notice it starts with a <code>dcl-proc</code> and ends with <code>end-proc</code>.</p>\\n<pre><code>dcl-proc SubProcedure1;                                     \\n   dcl-pi *n Packed(4,0);\\n      num1 Packed(4,0) value;\\n      num2 Packed(4,0) value;\\n   end-pi;\\n \\n   return num1 + num2; \\nend-proc;\\n</code></pre>\\n<p>Finally, the sub-procedure definition starts with <code>dcl-proc</code> and ends with <code>end-proc</code> just like the main procedure. These are the P specs in fixed format, one with a B and the other with an E. You don't even need the intermediate declaration of sum  in this case because the expression is simple enough to just return the result.</p>\\n\""
      ]
     },
     "metadata": {},
     "output_type": "display_data"
    },
    {
     "data": {
      "text/plain": [
       "'A:'"
      ]
     },
     "metadata": {},
     "output_type": "display_data"
    },
    {
     "data": {
      "text/plain": [
       "'<p><div class=\"snippet\" data-lang=\"js\" data-hide=\"false\" data-console=\"true\" data-babel=\"false\">\\r\\n<div class=\"snippet-code\">\\r\\n<pre class=\"snippet-code-js lang-js prettyprint-override\"><code>  \\n\\n     const breakIntoMonths = (startEpoch, endEpoch) =&gt; {\\n      const monthArray = [];\\n      let currentMonthEpoch = new Date(startEpoch * 1000);\\n      let endEpochUnix = new Date(endEpoch * 1000);\\n      while (currentMonthEpoch &lt;= endEpochUnix) {\\n        const currentMonth = new Date(currentMonthEpoch).getMonth();\\n        const currentYear = new Date(currentMonthEpoch).getFullYear();\\n        const startOfMonth = new Date(currentYear, currentMonth, 0).getTime();\\n        let endOfMonth = new Date(currentYear, currentMonth + 1, 0).getTime();\\n        if (endOfMonth &gt; endEpochUnix) {\\n            endOfMonth = endEpochUnix;\\n        }\\n        monthArray.push({ start: startOfMonth / 1000, end: endOfMonth /1000 });\\n        currentMonthEpoch = new Date(currentYear, currentMonth + 1, 1).getTime();\\n      }\\n      return monthArray;\\n    }\\n    const perMonths = breakIntoMonths(1673676037, 1681887198);\\n    console.log(\\'months\\', perMonths);</code></pre>\\r\\n</div>\\r\\n</div>\\r\\n</p>\\n'"
      ]
     },
     "metadata": {},
     "output_type": "display_data"
    },
    {
     "data": {
      "text/plain": [
       "'A:'"
      ]
     },
     "metadata": {},
     "output_type": "display_data"
    },
    {
     "data": {
      "text/plain": [
       "'<p>I think <code>source-map-explorer</code> is NOT correct in this case.</p>\\n<p>My solution was to compare the <code>source-map-explorer</code> result with the one from <code>webpack-bundle-analyzer</code>:</p>\\n<pre><code>&gt; npm run build -- --stats\\n&gt; npx webpack-bundle-analyzer ./build/bundle-stats.json\\n</code></pre>\\n<p><em>(The feature is currently undocumented (documentation was removed), because the CRA team find the labelling of webpack-bundle-analyzer misleading, see: <a href=\"https://github.com/facebook/create-react-app/issues/4563\" rel=\"nofollow noreferrer\">https://github.com/facebook/create-react-app/issues/4563</a>)</em></p>\\n<p>In <code>webpack-bundle-analyzer</code> result I found that the same size was actually from:</p>\\n<ul>\\n<li><code>moment-timezone/data/packed/latest.json</code>.</li>\\n</ul>\\n<p>I guess <code>source-map-explorer</code> doesn\\'t work well with json files.</p>\\n'"
      ]
     },
     "metadata": {},
     "output_type": "display_data"
    },
    {
     "data": {
      "text/plain": [
       "'A:'"
      ]
     },
     "metadata": {},
     "output_type": "display_data"
    },
    {
     "data": {
      "text/plain": [
       "'<p>You could use a <a href=\"https://developer.mozilla.org/en-US/docs/Web/HTML/Element/datalist\" rel=\"nofollow noreferrer\"><code>datalist</code></a> element :</p>\\n<p><div class=\"snippet\" data-lang=\"js\" data-hide=\"false\" data-console=\"true\" data-babel=\"false\">\\r\\n<div class=\"snippet-code\">\\r\\n<pre class=\"snippet-code-html lang-html prettyprint-override\"><code>Address :            \\n&lt;input list=\"adress-list\" id=\"ddlAddress\" name=\"address\"&gt;\\n&lt;datalist id=\"adress-list\"&gt;\\n    &lt;option value=\"Casario\"&gt;\\n    &lt;option value=\"Casabella\"&gt;\\n    &lt;option value=\"Lodha heaven\"&gt;\\n&lt;/datalist&gt;</code></pre>\\r\\n</div>\\r\\n</div>\\r\\n</p>\\n'"
      ]
     },
     "metadata": {},
     "output_type": "display_data"
    },
    {
     "data": {
      "text/plain": [
       "'A:'"
      ]
     },
     "metadata": {},
     "output_type": "display_data"
    },
    {
     "data": {
      "text/plain": [
       "'<p><em><strong>Check the below steps to Configure Storage Queue in Azure Functions.</strong></em></p>\\n<p>While creating Azure Function <code>Queue Trigger</code>  we need to provide the <code>Queue name</code>.</p>\\n<p>It has to be same as the <code>Queue</code> name from the <code>Azure Portal</code> =&gt; <code>Storage Account</code>=&gt; <code>Queue</code></p>\\n<p><img src=\"https://i.stack.imgur.com/4z4zE.png\" alt=\"enter image description here\" /></p>\\n<p><img src=\"https://i.stack.imgur.com/VmJYT.png\" alt=\"enter image description here\" /></p>\\n<ul>\\n<li>Select the Azure Storage Account.</li>\\n</ul>\\n<p><img src=\"https://i.stack.imgur.com/gH6SC.png\" alt=\"enter image description here\" /></p>\\n<ul>\\n<li>Add the Storage Account connection string from <code>Storage Account</code> =&gt; <code>Access Keys</code>.</li>\\n</ul>\\n<p><img src=\"https://i.stack.imgur.com/hhiJh.png\" alt=\"enter image description here\" /></p>\\n<p>My <code>host.json</code>:</p>\\n<pre class=\"lang-cs prettyprint-override\"><code>{\\n  &quot;version&quot;: &quot;2.0&quot;,\\n  &quot;logging&quot;: {\\n    &quot;applicationInsights&quot;: {\\n      &quot;samplingSettings&quot;: {\\n        &quot;isEnabled&quot;: true,\\n        &quot;excludedTypes&quot;: &quot;Request&quot;\\n      }\\n    }\\n  },\\n  &quot;extensions&quot;: {\\n    &quot;queues&quot;: {\\n      &quot;maxPollingInterval&quot;: &quot;00:00:02&quot;,\\n      &quot;visibilityTimeout&quot;: &quot;00:00:30&quot;,\\n      &quot;batchSize&quot;: 1,\\n      &quot;maxDequeueCount&quot;: 2,\\n      &quot;newBatchThreshold&quot;: 1,\\n      &quot;messageEncoding&quot;: &quot;base64&quot;\\n    }\\n  }\\n}\\n</code></pre>\\n<p><em><strong>local.settings.json:</strong></em></p>\\n<pre class=\"lang-cs prettyprint-override\"><code>{\\n    &quot;IsEncrypted&quot;: false,\\n  &quot;Values&quot;: {\\n    &quot;AzureWebJobsStorage&quot;: &quot;UseDevelopmentStorage=true&quot;,\\n    &quot;FUNCTIONS_WORKER_RUNTIME&quot;: &quot;dotnet&quot;,\\n    &quot;ConnectionQueue&quot;: &quot;DefaultEndpointsProtocol=https;AccountName=harshithasa;AccountKey=****;EndpointSuffix=core.windows.net&quot;\\n  }\\n}\\n</code></pre>\\n<p><em><strong>Function1.cs:</strong></em></p>\\n<pre class=\"lang-cs prettyprint-override\"><code>using System;\\nusing Microsoft.Azure.WebJobs;\\nusing Microsoft.Azure.WebJobs.Host;\\nusing Microsoft.Extensions.Logging;\\n\\nnamespace FunctionApp1\\n{\\n    public class Function1\\n    {\\n        [FunctionName(&quot;Function1&quot;)]\\n        public void Run([QueueTrigger(&quot;harshuqueue&quot;, Connection = &quot;ConnectionQueue&quot;)]string myQueueItem, ILogger log)\\n        {\\n            log.LogInformation($&quot;C# Queue trigger function processed: {myQueueItem}&quot;);\\n\\n            throw new Exception(&quot;Test Exception&quot;);\\n        }\\n    }\\n}\\n</code></pre>\\n<ul>\\n<li>Place break point on the <code>QueueTrigger</code> function and Run the Application.</li>\\n<li>Now, add a message to the queue in the Storage Account and save.</li>\\n<li>You can see the breakpoint has hit the created Que Trigger Function.</li>\\n</ul>\\n<p><img src=\"https://i.stack.imgur.com/VhmIW.png\" alt=\"enter image description here\" /></p>\\n<p><img src=\"https://i.stack.imgur.com/U0z3d.png\" alt=\"enter image description here\" /></p>\\n<p><em><strong>Output:</strong></em></p>\\n<p><img src=\"https://i.stack.imgur.com/d1SFl.png\" alt=\"enter image description here\" /></p>\\n<ul>\\n<li>If the Queue Trigger successfully process the message, the message gets deleted in the Queue.</li>\\n</ul>\\n<p><img src=\"https://i.stack.imgur.com/JJGrs.png\" alt=\"enter image description here\" /></p>\\n<ul>\\n<li>The use of <code>maxDequeueCount</code> is , whenever an exception occurs the message is not processed and will be in the queue only.</li>\\n<li>The exception message will be logged as many times as the count of  <code>maxDequeueCount</code>.</li>\\n</ul>\\n<p><em><strong>Example:</strong></em></p>\\n<p>Iam setting the <code>maxDequeueCount</code> to 2 and raising an exception.</p>\\n<ul>\\n<li>Once the message execution count reaches the <code>MaxDequeueCount</code>,   the message will be sent to <code>Queue poison</code>.</li>\\n</ul>\\n<p><img src=\"https://i.stack.imgur.com/rZiRk.png\" alt=\"enter image description here\" /></p>\\n'"
      ]
     },
     "metadata": {},
     "output_type": "display_data"
    },
    {
     "data": {
      "text/plain": [
       "'A:'"
      ]
     },
     "metadata": {},
     "output_type": "display_data"
    },
    {
     "data": {
      "text/plain": [
       "'<p>Best I can do.</p>\\n<p><a href=\"https://i.stack.imgur.com/3FOki.png\" rel=\"nofollow noreferrer\"><img src=\"https://i.stack.imgur.com/3FOki.png\" alt=\"enter image description here\" /></a></p>\\n<pre><code>{\\n  &quot;$schema&quot;: &quot;https://vega.github.io/schema/vega-lite/v5.json&quot;,\\n  &quot;data&quot;: {\\n    &quot;values&quot;: [\\n      {&quot;y&quot;: -1, &quot;x&quot;: 1, &quot;name&quot;: &quot;north&quot;},\\n      {&quot;y&quot;: 2, &quot;x&quot;: 2, &quot;name&quot;: &quot;north&quot;},\\n      {&quot;y&quot;: 0, &quot;x&quot;: 3, &quot;name&quot;: &quot;north&quot;},\\n      {&quot;y&quot;: -3, &quot;x&quot;: 1, &quot;name&quot;: &quot;south&quot;},\\n      {&quot;y&quot;: 1, &quot;x&quot;: 2, &quot;name&quot;: &quot;south&quot;},\\n      {&quot;y&quot;: 4, &quot;x&quot;: 3, &quot;name&quot;: &quot;south&quot;}\\n    ]\\n  },\\n  &quot;encoding&quot;: {\\n    &quot;x&quot;: {&quot;field&quot;: &quot;x&quot;, &quot;type&quot;: &quot;quantitative&quot;},\\n    &quot;y&quot;: {\\n      &quot;aggregate&quot;: &quot;median&quot;,\\n      &quot;field&quot;: &quot;y&quot;,\\n      &quot;scale&quot;: {&quot;domain&quot;: [-10, 10]},\\n      &quot;type&quot;: &quot;quantitative&quot;\\n    }\\n  },\\n  &quot;height&quot;: &quot;container&quot;,\\n  &quot;layer&quot;: [\\n    {\\n      &quot;transform&quot;: [{&quot;filter&quot;: &quot;combine?true:false&quot;}],\\n      &quot;mark&quot;: {&quot;interpolate&quot;: &quot;basis&quot;, &quot;type&quot;: &quot;line&quot;},\\n      &quot;encoding&quot;: {&quot;color&quot;: {&quot;field&quot;: &quot;name&quot;}}\\n    },\\n    {\\n      &quot;transform&quot;: [{&quot;filter&quot;: &quot;combine?false:true&quot;}],\\n      &quot;mark&quot;: {\\n        &quot;interpolate&quot;: &quot;basis&quot;,\\n        &quot;type&quot;: &quot;line&quot;,\\n        &quot;color&quot;: &quot;red&quot;\\n      }\\n    }\\n  ],\\n  &quot;params&quot;: [{&quot;bind&quot;: {&quot;input&quot;: &quot;checkbox&quot;}, &quot;name&quot;: &quot;combine&quot;, &quot;value&quot;: true}],\\n  &quot;width&quot;: 300\\n}\\n</code></pre>\\n'"
      ]
     },
     "metadata": {},
     "output_type": "display_data"
    },
    {
     "data": {
      "text/plain": [
       "'A:'"
      ]
     },
     "metadata": {},
     "output_type": "display_data"
    },
    {
     "data": {
      "text/plain": [
       "\"<p>RichG's query did not work as written but it got me partially there. This works:</p>\\n<pre><code>index=&quot;*&quot;  srccountry!=&quot;Reserved&quot; | timechart span=10m count as ip_count by src_ip\\n</code></pre>\\n<p>But the &quot;where&quot; clause does not.</p>\\n\""
      ]
     },
     "metadata": {},
     "output_type": "display_data"
    },
    {
     "data": {
      "text/plain": [
       "'A:'"
      ]
     },
     "metadata": {},
     "output_type": "display_data"
    },
    {
     "data": {
      "text/plain": [
       "'<p>You mix a lot of different things here.</p>\\n<p>A <strong>button</strong> is a trigger to fire a script.</p>\\n<pre class=\"lang-html prettyprint-override\"><code>&lt;button&gt;Text of a button&lt;/button&gt;\\n</code></pre>\\n<p>You use this in combination with either <code>onclick</code> attribute or directly in JS with an <code>addEventListener</code> to fire a script.</p>\\n<p>A <strong>link</strong> connects another resource to your document.</p>\\n<pre class=\"lang-html prettyprint-override\"><code>&lt;head&gt;\\n  &lt;link rel=&quot;&quot; href=&quot;&quot;&gt;\\n&lt;/head&gt;\\n</code></pre>\\n<p>That connects another resource such as CSS, Favicons to your document.</p>\\n<p>An <strong>anchor</strong> directs to another resource.</p>\\n<pre class=\"lang-html prettyprint-override\"><code>&lt;a href=&quot;&quot;&gt;Anchor Text&lt;/a&gt;\\n</code></pre>\\n<p>that if clickd, will redirect you to another resource by either changing the current tab, opening a new tab or by downloading another resource.</p>\\n<p>A <strong>div</strong> is just an unspecific block-level container. If you want to use <code>href</code> to re-direct do another element you either want to use an anchor or you need JS to add an eventListener to redirect. Markup valid-wise you should use JS:</p>\\n<p><div class=\"snippet\" data-lang=\"js\" data-hide=\"false\" data-console=\"true\" data-babel=\"false\">\\r\\n<div class=\"snippet-code\">\\r\\n<pre class=\"snippet-code-html lang-html prettyprint-override\"><code>&lt;div class=\"mc-button full\"&gt;\\n  &lt;div onclick=\"location.href = \\'about1-19-3.html\\';\" class=\"title\"&gt;1.19.3&lt;/div&gt;\\n&lt;/div&gt;</code></pre>\\r\\n</div>\\r\\n</div>\\r\\n</p>\\n<p>However, with only <code>1.19.3</code> as content it mostlikely should be an <strong>anchor</strong>:</p>\\n<p><div class=\"snippet\" data-lang=\"js\" data-hide=\"false\" data-console=\"true\" data-babel=\"false\">\\r\\n<div class=\"snippet-code\">\\r\\n<pre class=\"snippet-code-html lang-html prettyprint-override\"><code>&lt;div class=\"mc-button full\"&gt;\\n  &lt;a href=\"about1-19-3.html\" class=\"title\"&gt;1.19.3&lt;/div&gt;\\n&lt;/div&gt;</code></pre>\\r\\n</div>\\r\\n</div>\\r\\n</p>\\n'"
      ]
     },
     "metadata": {},
     "output_type": "display_data"
    },
    {
     "data": {
      "text/plain": [
       "'A:'"
      ]
     },
     "metadata": {},
     "output_type": "display_data"
    },
    {
     "data": {
      "text/plain": [
       "\"<p>The <strong>problem</strong> is that your function <em>calling syntax</em>(<code>void show();</code>) is incorrect. By writing <code>void show();</code> you're actually declaring a global free function named <code>show</code> with no parameters and return type <code>void</code>.</p>\\n<p>The correct way to call would be to remove the <code>void</code>  as shown below:</p>\\n<pre><code>void folder()\\n{\\n//-v----------&gt;removed void from here   \\n   show();\\n}\\n</code></pre>\\n\""
      ]
     },
     "metadata": {},
     "output_type": "display_data"
    },
    {
     "data": {
      "text/plain": [
       "'A:'"
      ]
     },
     "metadata": {},
     "output_type": "display_data"
    },
    {
     "data": {
      "text/plain": [
       "'<p>To those of you running npm scripts that would like to perform an action before the process finishes through the script line definition without extra file definition you can just add a semicolon (checked on mac)</p>\\n<p>for example:</p>\\n<pre><code>&quot;start&quot;: &quot;npm run add-hosts-to-hosts-file &amp;&amp; npm run start ; npm run clear-hosts-from-hosts file&quot;,\\n</code></pre>\\n<p>this covers the scenario for Ctrl + C. Might also cover other cases.</p>\\n'"
      ]
     },
     "metadata": {},
     "output_type": "display_data"
    },
    {
     "data": {
      "text/plain": [
       "'A:'"
      ]
     },
     "metadata": {},
     "output_type": "display_data"
    },
    {
     "data": {
      "text/plain": [
       "'<p><code>each</code> yields the elements, not their indices, i.e. <code>n</code> becomes <code>3</code>, <code>4</code>, <code>-7</code>, <code>5</code> etc. Passing that value as an index via <code>arr[n]</code> doesn\\'t make much sense.</p>\\n<p>You can use <a href=\"https://ruby-doc.org/3.2.1/Enumerable.html#method-i-each_with_index\" rel=\"nofollow noreferrer\"><code>each_with_index</code></a> instead which yields both, the element and its index:</p>\\n<pre><code>def remove_sum_of_zero(arr)\\n  arr.each_with_index do |a, i|\\n    arr.each_with_index do |b, j|\\n      next if i == j\\n\\n      puts &quot;#{a} is being checked with #{b}&quot;\\n    end\\n  end\\nend\\n</code></pre>\\n<p>Or you can utilize <a href=\"https://ruby-doc.org/3.2.1/Array.html#method-i-permutation\" rel=\"nofollow noreferrer\"><code>permutation</code></a> which can yield all pairs:</p>\\n<pre><code>def remove_sum_of_zero(arr)\\n  arr.permutation(2) do |a, b|\\n    puts &quot;#{a} is being checked with #{b}&quot;\\n  end\\nend\\n</code></pre>\\n'"
      ]
     },
     "metadata": {},
     "output_type": "display_data"
    },
    {
     "data": {
      "text/plain": [
       "'A:'"
      ]
     },
     "metadata": {},
     "output_type": "display_data"
    },
    {
     "data": {
      "text/plain": [
       "'<p>cplex Change to cplex_direct ，The code is ready to run，why</p>\\n'"
      ]
     },
     "metadata": {},
     "output_type": "display_data"
    },
    {
     "data": {
      "text/plain": [
       "'A:'"
      ]
     },
     "metadata": {},
     "output_type": "display_data"
    },
    {
     "data": {
      "text/plain": [
       "'<p>If the string holds a valid calculation, <code>Application.Evaluate</code> will work. However, VBA assumes that numbers are using a decimal point, not a comma (comma is interpreted as parameter separator) - this is the reason you get an Error 2015.</p>\\n<p>So maybe use a function like this:</p>\\n<pre><code>Function CalculateFormula(ByVal f As String) \\n    f = Replace(f, &quot;,&quot;, &quot;.&quot;)\\n    CalculateFormula = Application.Evaluate(f)\\nEnd Function\\n</code></pre>\\n'"
      ]
     },
     "metadata": {},
     "output_type": "display_data"
    },
    {
     "data": {
      "text/plain": [
       "'A:'"
      ]
     },
     "metadata": {},
     "output_type": "display_data"
    },
    {
     "data": {
      "text/plain": [
       "\"<p>This is temporary solution. Find setupTest.js file and add this line</p>\\n<pre><code>global.__DEV__ = true;\\nglobal.Promise = jest.requireActual('promise');\\n</code></pre>\\n\""
      ]
     },
     "metadata": {},
     "output_type": "display_data"
    },
    {
     "data": {
      "text/plain": [
       "'A:'"
      ]
     },
     "metadata": {},
     "output_type": "display_data"
    },
    {
     "data": {
      "text/plain": [
       "\"<p>Mmmm Fudge</p>\\n<p>I replaced these 2...</p>\\n<pre><code>Public Function inc(ByRef int_ThisInteger As Long, Optional boo_UpdateSource As Boolean = True) As Long\\n\\n     inc = int_ThisInteger + 1\\n     \\n     If boo_UpdateSource Then int_ThisInteger = int_ThisInteger + 1\\n\\nEnd Function\\n\\nPublic Function Dec(ByRef int_ThisInteger As Long, Optional boo_UpdateSource As Boolean = True) As Long\\n\\n     Dec = int_ThisInteger - 1\\n     \\n     If boo_UpdateSource Then int_ThisInteger = int_ThisInteger - 1\\n\\nEnd Function\\n</code></pre>\\n<p>with...</p>\\n<pre><code>Public Function bao(ByRef ThisNumber As Variant _\\n                  , Optional ByVal ArithmaticOperator As enu_BasicArithmaticOperators = 0 _\\n                  , Optional ByVal HowMany As Variant = 1 _\\n                  , Optional ByVal WholeNumbersOnly As Boolean = True _\\n                  , Optional ByVal UpdateSource As Boolean = True) As Variant\\n                    \\n     On Error GoTo CatchAllErrorTrap\\n     \\n          Dim StartingValue As Double: StartingValue = Val(ThisNumber)\\n          Dim ThisMany As Double: ThisMany = Val(HowMany)\\n          \\n          Select Case ArithmaticOperator\\n               Case Is = bao_Addition\\xa0\\xa0\\xa0\\xa0\\xa0\\xa0\\xa0: bao = StartingValue + ThisMany\\n               Case Is = bao_Subtraction\\xa0\\xa0\\xa0\\xa0: bao = StartingValue - ThisMany\\n               Case Is = bao_Multiplication\\xa0: bao = StartingValue * ThisMany\\n               Case Is = bao_Division\\xa0\\xa0\\xa0\\xa0\\xa0\\xa0\\xa0: bao = StartingValue / ThisMany\\n               Case Is = bao_Perccentage\\xa0\\xa0\\xa0\\xa0: bao = ThisMany * StartingValue /     100\\n               Case Is = bao_Power\\xa0\\xa0\\xa0\\xa0\\xa0\\xa0\\xa0\\xa0\\xa0\\xa0: If ThisMany &gt;= 0 Then bao =     StartingValue ^ ThisMany Else Stop: End\\n               Case Is = bao_Root\\xa0\\xa0\\xa0\\xa0\\xa0\\xa0\\xa0\\xa0\\xa0\\xa0\\xa0: If ThisMany &gt;= 0 Then bao = StartingValue ^ (1 / ThisMany) Else Stop: End\\n               Case Else: Stop: End: ' undefined arithmetic operator\\n          End Select\\n          \\n          If WholeNumbersOnly Then bao = Round(bao, 0)\\n          bao = Trim(Str(bao))\\n          If UpdateSource Then ThisNumber = Val(bao)\\n          \\n          GoTo CommonExit\\n\\nCommonExit:\\n     On Error GoTo 0\\n     Exit Function\\n\\nCatchAllErrorTrap:\\n     Stop: ' take a moment to understand my mistake. chances are it is a type     conversion error\\n     bao = &quot;Error&quot;\\n     If UpdateSource Then ThisNumber = bao\\n     Resume CommonExit\\n\\nEnd Function\\n</code></pre>\\n<p>But only at the expense of...</p>\\n<pre><code>Public Enum enu_BasicArithmaticOperators\\n\\n     bao_Addition\\xa0\\xa0\\xa0\\xa0\\xa0\\xa0\\xa0 = 0\\n     bao_Subtraction\\xa0\\xa0\\xa0\\xa0 = 1\\n     bao_Multiplication\\xa0 = 2\\n     bao_Division\\xa0\\xa0\\xa0\\xa0\\xa0\\xa0\\xa0 = 3\\n     bao_Perccentage\\xa0\\xa0\\xa0\\xa0 = 4\\n     bao_Power\\xa0\\xa0\\xa0\\xa0\\xa0\\xa0\\xa0\\xa0\\xa0\\xa0 = 5\\n     bao_Root\\xa0\\xa0\\xa0\\xa0\\xa0\\xa0\\xa0\\xa0\\xa0\\xa0\\xa0 = 6\\n\\nEnd Enum\\n</code></pre>\\n<p>using the Block character asc(255)</p>\\n<pre><code>Debug.Print Application.Evaluate(&quot;2^27&quot;)\\n</code></pre>\\n<p>becomes</p>\\n<pre><code>debug.Print bao(2, bao_Power\\xa0\\xa0\\xa0\\xa0\\xa0\\xa0\\xa0\\xa0\\xa0\\xa0, 27)\\n</code></pre>\\n<p>But I like it. All a matter of taste. Now where did I put that fudge.</p>\\n<p>I agree with a previous contributor that sensible names negate the need to comment  everything.</p>\\n<p>Ian.</p>\\n\""
      ]
     },
     "metadata": {},
     "output_type": "display_data"
    },
    {
     "data": {
      "text/plain": [
       "'A:'"
      ]
     },
     "metadata": {},
     "output_type": "display_data"
    },
    {
     "data": {
      "text/plain": [
       "'<p>Theo is right. You have to expand the property Guid. NewGuid() creates an object with a single property. And to get to the value, this single property has to be expanded.</p>\\n<p>That will look like this:</p>\\n<pre><code>${env:TEMP}\\\\some_unique_file_$([guid]::NewGuid().Guid).json\\n</code></pre>\\n<p>Another possible approach is:</p>\\n<pre><code>${env:TEMP}\\\\some_unique_file_$((New-Guid).Guid).json\\n</code></pre>\\n<p>It is as fast, but maybe a little bit easier on the eyes ;)</p>\\n'"
      ]
     },
     "metadata": {},
     "output_type": "display_data"
    },
    {
     "data": {
      "text/plain": [
       "'A:'"
      ]
     },
     "metadata": {},
     "output_type": "display_data"
    },
    {
     "data": {
      "text/plain": [
       "'<p>@msrini-MSIT\\'s answer did it for me...</p>\\n<p><a href=\"https://i.stack.imgur.com/NaDTA.png\" rel=\"nofollow noreferrer\"><img src=\"https://i.stack.imgur.com/NaDTA.png\" alt=\"NSG config\" /></a></p>\\n'"
      ]
     },
     "metadata": {},
     "output_type": "display_data"
    },
    {
     "data": {
      "text/plain": [
       "'A:'"
      ]
     },
     "metadata": {},
     "output_type": "display_data"
    },
    {
     "data": {
      "text/plain": [
       "\"<p><strong>Using the cell command:</strong><br>\\nParsing for a single line doesn't seem to be good in the jupyter notebook.<br>\\nI recommend you make use of the cell command every time you execute the SQL command using the magic function in jupyter notebook.</p>\\n<pre><code>%%sql\\nSELECT &quot;Elementary, Middle, or High School&quot; FROM chicago_public_schools_data LIMIT 5;\\n</code></pre>\\n<p>This works and <code>%sql</code> doesn't because using <code>%sql</code> parses the line as:</p>\\n<pre><code>SELECT Elementary, Middle, or High School FROM chicago_public_schools_data LIMIT 5;\\n</code></pre>\\n<p>This will raise errors.</p>\\n\""
      ]
     },
     "metadata": {},
     "output_type": "display_data"
    },
    {
     "data": {
      "text/plain": [
       "'A:'"
      ]
     },
     "metadata": {},
     "output_type": "display_data"
    },
    {
     "data": {
      "text/plain": [
       "'<p>I wouldn\\'t use Pandas directly for the detangling of the different parts. You could try something like the following instead (assumption is that you want the header names in a list and <em>all</em> of the data in one dataframe):</p>\\n<pre class=\"lang-py prettyprint-override\"><code>import re\\nfrom io import StringIO\\n\\nre_header = re.compile(r&quot;^(?:\\\\d+\\\\.)+\\\\d*(.*)$&quot;)\\nheader_names, data_strings = [], []\\ndata_str = &quot;&quot;\\nwith open(&quot;dd.csv&quot;, &quot;r&quot;) as file:\\n    for line in file:\\n        if match := re_header.match(line):\\n            header_names.append(match.group(1))\\n            data_strings.append(&quot;&quot;)\\n        else:\\n            data_strings[-1] += line\\ndfs = (pd.read_csv(StringIO(string)) for string in data_strings)\\ndf = pd.concat(dfs, ignore_index=True).fillna(&quot;NA&quot;)\\n</code></pre>\\n<p>Result for the sample:</p>\\n<ul>\\n<li><p><code>header_names</code>: <code>[\\'Top Header\\', \\'Next Level\\']</code></p>\\n</li>\\n<li><p><code>df</code>:</p>\\n<pre class=\"lang-none prettyprint-override\"><code>   Attribute       Field Description   Table Column  Filter\\n0   Quarter  Fiscal Current Quarter  tableA   col1     A=B\\n1      Blah                    Blah    Blah   Blah    Blah\\n2      Blah                    Blah    Blah   Blah    Blah\\n3      Blah                    Blah    Blah   Blah    Blah\\n4      Blah                    Blah    Blah   Blah    Blah\\n</code></pre>\\n</li>\\n</ul>\\n'"
      ]
     },
     "metadata": {},
     "output_type": "display_data"
    },
    {
     "data": {
      "text/plain": [
       "'A:'"
      ]
     },
     "metadata": {},
     "output_type": "display_data"
    },
    {
     "data": {
      "text/plain": [
       "'<p>Use seek or rewind functions. See the links:</p>\\n<p><a href=\"https://doc.rust-lang.org/std/io/trait.Seek.html\" rel=\"nofollow noreferrer\">seek and rewind</a><br />\\n<a href=\"https://doc.rust-lang.org/rust-by-example/std_misc/file/read_lines.html\" rel=\"nofollow noreferrer\">rust-by-example</a><br />\\n<a href=\"https://web.mit.edu/rust-lang_v1.25/arch/amd64_ubuntu1404/share/doc/rust/html/std/io/trait.BufRead.html\" rel=\"nofollow noreferrer\">BufRead</a><br />\\n<a href=\"https://stackoverflow.com/questions/74667471/why-can-i-not-iterate-over-the-lines-of-a-file-after-counting-them\">why-can-i-not-iterate-over-the-lines-of-a-file-after-counting-them</a></p>\\n<pre><code>use std::path::Path;\\nuse std::fs;\\nuse std::io::{\\n    BufRead, \\n    BufReader, \\n    Seek, \\n    //SeekFrom,\\n};\\n\\nfn main() {\\n    fs::write(&quot;test.txt&quot;, b&quot;line1\\\\nline2\\\\nline3&quot;).unwrap();\\n    let path = Path::new(&quot;test.txt&quot;);\\n\\n    let mut file = match fs::File::open(path) {\\n        Ok(file) =&gt; file,\\n        Err(error) =&gt; {\\n            panic!(&quot;Failed to open file {path:?}\\\\n{error}&quot;);\\n        }\\n    };\\n\\n    // Count function consumes the Lines\\n    let lines_amount = BufReader::new(&amp;file).lines().count();\\n\\n    if lines_amount == 0 {\\n        panic!(&quot;The file has no lines&quot;);\\n    }\\n\\n    println!(&quot;lines_amount: {}&quot;, lines_amount);\\n\\n    // Reset files position to start\\n    // file.seek(SeekFrom::Start(0)).unwrap();\\n    file.rewind().unwrap();\\n\\n    for (i, line_result) in BufReader::new(&amp;file).lines().enumerate() {\\n        println!(&quot;{i}: {}&quot;, line_result.unwrap());\\n    }\\n}\\n</code></pre>\\n<p><a href=\"https://play.rust-lang.org/?version=stable&amp;mode=debug&amp;edition=2021&amp;gist=d4be7b00db52bf0aa7799dcd634fb5c2\" rel=\"nofollow noreferrer\">Rust Playgrond</a></p>\\n'"
      ]
     },
     "metadata": {},
     "output_type": "display_data"
    },
    {
     "data": {
      "text/plain": [
       "'A:'"
      ]
     },
     "metadata": {},
     "output_type": "display_data"
    },
    {
     "data": {
      "text/plain": [
       "'<p>This simple expression worked for me using Python:</p>\\n<p>-?\\\\d+(.\\\\d+)?</p>\\n<p>You can test it using <a href=\"https://regex101.com/\" rel=\"nofollow noreferrer\">https://regex101.com/</a></p>\\n<p><a href=\"https://i.stack.imgur.com/tL04d.png\" rel=\"nofollow noreferrer\">Example of some values tested</a></p>\\n'"
      ]
     },
     "metadata": {},
     "output_type": "display_data"
    },
    {
     "data": {
      "text/plain": [
       "'A:'"
      ]
     },
     "metadata": {},
     "output_type": "display_data"
    },
    {
     "data": {
      "text/plain": [
       "'<p>My dude, you did not call <code>show</code> inside <code>folder</code>, u just declared a global function <code>void show()</code> instead.</p>\\n'"
      ]
     },
     "metadata": {},
     "output_type": "display_data"
    },
    {
     "data": {
      "text/plain": [
       "'A:'"
      ]
     },
     "metadata": {},
     "output_type": "display_data"
    },
    {
     "data": {
      "text/plain": [
       "\"<p>Add the planets as child widgets of the <code>SolarSystem</code> widget, the way to do this is to pass self (<code>SolarSystem</code> instance) as the parent for each <code>Planet</code> instance, also remove the <code>self.p.show()</code> as it is not needed.</p>\\n<pre><code>class SolarSystem(QtWidgets.QWidget):\\n    space_objects: list[Planet]\\n\\n    def __init__(self, space_objects: list[list], *args, **kwargs):\\n        super().__init__(*args, **kwargs)\\n        self.space_objects = []\\n        for planet in space_objects:\\n            new_space_object = Planet(*planet, self)  # Pass 'self' as the parent\\n            self.space_objects.append(new_space_object)\\n        self.initUi()\\n        self.show()\\n\\n    def initUi(self):\\n        self.setGeometry(300, 300, 800, 700)\\n        for i in self.space_objects:\\n            self.p = i\\n            self.p.setGeometry(100, 100, 1000, 1000)\\n            # self.p.show()  # Remove this line\\n</code></pre>\\n\""
      ]
     },
     "metadata": {},
     "output_type": "display_data"
    },
    {
     "data": {
      "text/plain": [
       "'A:'"
      ]
     },
     "metadata": {},
     "output_type": "display_data"
    },
    {
     "data": {
      "text/plain": [
       "\"<p>You can run the two queries by combining them in to one variable like</p>\\n<pre><code>$sql = &quot;DELETE FROM control WHERE userName = 'Username';\\n        UPDATE control SET userName = REPLACE(REPLACE(REPLACE(userName,'\\\\&quot;',''),'\\\\&quot;',''),'=','')&quot;;\\n\\nif ($conn-&gt;multi_query($sql) === TRUE) {\\n    echo &quot;Query executed successfully&quot;;\\n} else {\\n    echo &quot;Error executing query: &quot; . $conn-&gt;error;\\n}\\n</code></pre>\\n\""
      ]
     },
     "metadata": {},
     "output_type": "display_data"
    },
    {
     "data": {
      "text/plain": [
       "'A:'"
      ]
     },
     "metadata": {},
     "output_type": "display_data"
    },
    {
     "data": {
      "text/plain": [
       "'<p>Here\\'s another approach:</p>\\n<pre class=\"lang-swift prettyprint-override\"><code>extension View {\\n    func stroke(color: Color, width: CGFloat) -&gt; some View {\\n        modifier(StrokeModifer(strokeSize: width, strokeColor: color))\\n    }\\n}\\n\\nstruct StrokeModifer: ViewModifier {\\n    private let id = UUID()\\n    var strokeSize: CGFloat = 1\\n    var strokeColor: Color = .blue\\n    \\n    func body(content: Content) -&gt; some View {\\n        content\\n            .foregroundColor(.black)\\n            .padding(strokeSize)\\n            .background(\\n                Rectangle()\\n                    .foregroundColor(strokeColor)\\n                    .mask(\\n                        Canvas { context, size in\\n                            context.addFilter(.alphaThreshold(min: 0.01))\\n                            context.drawLayer { ctx in\\n                                if let resolvedView = context.resolveSymbol(id: id) {\\n                                    ctx.draw(resolvedView, at: .init(x: size.width/2, y: size.height/2))\\n                                }\\n                            }\\n                        } symbols: {\\n                            content\\n                                .tag(id)\\n                                .blur(radius: strokeSize)\\n                        }\\n                    )\\n            )\\n    }\\n}\\n</code></pre>\\n'"
      ]
     },
     "metadata": {},
     "output_type": "display_data"
    },
    {
     "data": {
      "text/plain": [
       "'A:'"
      ]
     },
     "metadata": {},
     "output_type": "display_data"
    },
    {
     "data": {
      "text/plain": [
       "'<p>In my case I had to replace</p>\\n<p><code>docker run --rm -v $(shell pwd) -w /src kjconroy/sqlc generate</code></p>\\n<p>with</p>\\n<p><code>docker run --rm -v $(PWD):/src -w /src kjconroy/sqlc generate</code></p>\\n<p>in my make file</p>\\n'"
      ]
     },
     "metadata": {},
     "output_type": "display_data"
    },
    {
     "data": {
      "text/plain": [
       "'A:'"
      ]
     },
     "metadata": {},
     "output_type": "display_data"
    },
    {
     "data": {
      "text/plain": [
       "\"<p>I finally resolved my issue by rearranging my code like this :</p>\\n<ul>\\n<li><p>CustomFactory</p>\\n<pre><code>@ConditionalOnProperty(&quot;'${config.property}===a' or '${config.property}===b'&quot;)\\npublic class CustomFactory {\\n  private final SpecificActionResolver specificActionResolver;\\n\\n  @Value(&quot;${config.property}&quot;)\\n  private String property;\\n\\n  SpecificAction specificAction = specificActionResolver.get(property);\\n}\\n\\n</code></pre>\\n</li>\\n<li><p>I create a resolver class SpecificActionResolver</p>\\n<pre><code>public class SpecificActionResolver {\\n  public SpecificAction get(String property) {\\n     //Add logic to create specific bean here\\n     if (&quot;a&quot;.equals(property)) return new SpecificActionOnA();\\n     else if (&quot;b&quot;.equals(property)) return new SpecificActionOnB();\\n     return null;\\n  }\\n}\\n\\n</code></pre>\\n</li>\\n<li><p>I make my component <code>SpecificActionOnA</code> and <code>SpecificActionOnB</code> implement an interface <code>SpecificAction</code></p>\\n<pre><code>@Component\\n@ConditionalOnProperty(&quot;'${config.property}===a'&quot;)\\npublic class SpecificActionOnA implements SpecificAction {}\\n\\n@Component\\n@ConditionalOnProperty(&quot;'${config.property}===b'&quot;)\\npublic class SpecificActionOnB implements SpecificAction {}\\n</code></pre>\\n</li>\\n</ul>\\n\""
      ]
     },
     "metadata": {},
     "output_type": "display_data"
    },
    {
     "data": {
      "text/plain": [
       "'A:'"
      ]
     },
     "metadata": {},
     "output_type": "display_data"
    },
    {
     "data": {
      "text/plain": [
       "\"<p>I figured out that the problem was different on Windows and Linux due to differences in spacing. I had added too much margin to the <code>QVBoxLayout()</code> elements, causing them to overflow the screen. After reducing the margins and setting <code>window.showMaximized()</code>, it now takes up the full screen width and height, and it's working now.</p>\\n<p>Make sure to test the spacing on different operating systems, such as Windows, Linux, and MacOS. In my case, Windows took a 150-point margin to give me the correct result, but in Linux it overflowed, so I set it to 50-point and it fixed!</p>\\n\""
      ]
     },
     "metadata": {},
     "output_type": "display_data"
    },
    {
     "data": {
      "text/plain": [
       "'A:'"
      ]
     },
     "metadata": {},
     "output_type": "display_data"
    },
    {
     "data": {
      "text/plain": [
       "'<p>I can reproduce your issue and it is because using ajax request to send row data to controller will make the <code>return View(model)</code> from the controller becomes the ajax received the html content in the response. Like screenshot below. I have a get request in the screenshot, but it\\'s the same to use a post request.</p>\\n<p><a href=\"https://i.stack.imgur.com/pK6UL.png\" rel=\"nofollow noreferrer\"><img src=\"https://i.stack.imgur.com/pK6UL.png\" alt=\"enter image description here\" /></a></p>\\n<p>So the best solution is using form submit like the <a href=\"https://learn.microsoft.com/en-us/aspnet/core/tutorials/first-mvc-app/start-mvc?view=aspnetcore-7.0&amp;tabs=visual-studio\" rel=\"nofollow noreferrer\">asp.net core tutorial</a>.</p>\\n'"
      ]
     },
     "metadata": {},
     "output_type": "display_data"
    },
    {
     "data": {
      "text/plain": [
       "'A:'"
      ]
     },
     "metadata": {},
     "output_type": "display_data"
    },
    {
     "data": {
      "text/plain": [
       "'<h2>The problem: State objects\\' hashes change during their lifetime</h2>\\n<p>When you create your State objects, their <code>.data</code> is the <code>.buttons</code> of some Toy object.  Specifically, the two places where state objects are created are:</p>\\n<pre><code>init_state = State(data=self.toy.buttons)\\n</code></pre>\\n<p>and:</p>\\n<pre><code>new_state = State(self.toy.buttons)\\n</code></pre>\\n<p>Now, the <code>.buttons</code> of a <code>Toy</code> object is a list object, which is mutable. Crucially, that list is mutated when <code>toy.press()</code> is called.</p>\\n<p>So after invoking <code>toy.press()</code>, the value of <code>state.data</code> will be different for any state object that was created with a reference to that <code>Toy</code>\\'s <code>.buttons</code>. This means that <code>hash(state)</code> will also be different after invoking <code>toy.press()</code>.</p>\\n<p>As a minimal repro of this, you could do something like this:</p>\\n<pre><code>t = Toy()\\ns = State(data=t.buttons)\\nprint(&quot;Before .press()&quot;)\\nprint(f&quot;t.buttons: {t.buttons}&quot;)\\nprint(f&quot;s.data: {s.data}&quot;)\\nprint(f&quot;hash(s): {hash(s)}&quot;)\\nt.press((0,))\\nprint(&quot;After .press()&quot;)\\nprint(f&quot;t.buttons: {t.buttons}&quot;)\\nprint(f&quot;s.data: {s.data}&quot;)\\nprint(f&quot;hash(s): {hash(s)}&quot;)\\n</code></pre>\\n<p>This will demonstrate that <code>hash(s)</code> changes through the State object\\'s lifetime.</p>\\n<p>If an object\\'s hash changes during its life, that\\'s well established to cause issues with using the object as a dictionary key. See: <a href=\"https://stackoverflow.com/questions/23161035/what-happens-if-an-objects-hash-changes\">What happens if an object&#39;s __hash__ changes?</a></p>\\n<h2>Possible solutions</h2>\\n<p>To fix this, you could do one or both of two things:</p>\\n<ol>\\n<li><strong>Ensure State objects use a copy of the Toy\\'s data</strong></li>\\n</ol>\\n<p>This would involve creating state objects as:</p>\\n<p><code>State(data=self.toy.buttons.copy())</code></p>\\n<p>or perhaps better, converting to a tuple (guaranteed immutable):</p>\\n<p><code>State(data=tuple(self.toy.buttons))</code></p>\\n<ol start=\"2\">\\n<li><strong>Don\\'t mutate <code>self.buttons</code> in the Toy class</strong></li>\\n</ol>\\n<p>This would involve changing the implementation of <code>press()</code> so that it assigns a new list (or tuple) to <code>self.buttons</code> rather than modifying the existing <code>self.buttons</code> in place.</p>\\n<p>For example:</p>\\n<pre><code>def press(self, to_press):\\n  self.buttons = [(1-b) if i in to_press else b for i, b in enumerate(self.buttons)]\\n  self.spin()\\n</code></pre>\\n'"
      ]
     },
     "metadata": {},
     "output_type": "display_data"
    },
    {
     "data": {
      "text/plain": [
       "'A:'"
      ]
     },
     "metadata": {},
     "output_type": "display_data"
    },
    {
     "data": {
      "text/plain": [
       "\"<p>A simple, but non-optimal way to detect that an arc forms a loop is to keep an adjacency-list representation of the (so-far cycle-free) network in memory, say for example as a</p>\\n<pre><code> map&lt;node, list&lt;node&gt;&gt; arcs;\\n</code></pre>\\n<p>Whenever you add a new arc from a to b, you would:</p>\\n<pre><code> arcs[a].push_back(b); // add edge a-b to the network\\n test(b, a);           // call a DFS or BFS on 'b'; if 'a' found, a-b closes a loop\\n</code></pre>\\n<p>And the definition of test (in pseudo-C++, and using DFS, which is easier to implement than BFS, but which also may require expanding more nodes than BFS) could be:</p>\\n<pre><code>bool test(node current, node goal) {\\n  if (goal == current) return true; // loop found!\\n  for (node next in arcs[current]) if (test(next, goal)) return true;\\n  return false;\\n}\\n</code></pre>\\n<p>Since we know that the network was cycle-free before adding the edge <code>a-b</code>, after adding this edge any cycle must include <code>a</code>. Note that this only <em>detects</em> the existence of the cycle. To get the actual cycle, you would need to, for example, keep and update a <code>map&lt;node, node&gt; parents</code> where following an edge from <code>current</code> to <code>next</code> would result in <code>parents.set(next, current)</code>. When you encounter your goal node again, you can simply backtrack through its parents to reconstruct the cycle.</p>\\n\""
      ]
     },
     "metadata": {},
     "output_type": "display_data"
    },
    {
     "data": {
      "text/plain": [
       "'A:'"
      ]
     },
     "metadata": {},
     "output_type": "display_data"
    },
    {
     "data": {
      "text/plain": [
       "'<p>You usually have to &quot;melt&quot; (&quot;pivot&quot;, &quot;gather&quot;) your data to long format first. <code>dplyr::pivot_longer()</code> or <code>reshape2::melt()</code> are probably the easiest ways to do this.</p>\\n<pre class=\"lang-r prettyprint-override\"><code>dd &lt;- read.table(header= TRUE, text = &quot;\\nname     NPV Cost_Household Cost_Plant\\n11kWp 15746.          1932.     13865.\\n9kWp  13640.          2374.     11344.\\n5kWp   7537.          3134.      6302.\\n3kWp   4649.          3684.      3781.\\n&quot;)\\n</code></pre>\\n<p>I\\'m guessing this is what you want:</p>\\n<pre class=\"lang-r prettyprint-override\"><code>dd_long &lt;- dd  |&gt; pivot_longer(-name, names_to = &quot;var&quot;) |&gt;\\n    ## I would say you also want your names in numeric order?\\n    mutate(across(name, ~factor(., levels = gtools::mixedsort(unique(.)))))\\n\\nggplot(dd_long) +\\n  aes(x = name, y = value, fill = var) + \\n  geom_col(position = \\'dodge\\')\\n</code></pre>\\n<p><a href=\"https://i.stack.imgur.com/vNTTO.png\" rel=\"nofollow noreferrer\"><img src=\"https://i.stack.imgur.com/vNTTO.png\" alt=\"enter image description here\" /></a></p>\\n'"
      ]
     },
     "metadata": {},
     "output_type": "display_data"
    },
    {
     "data": {
      "text/plain": [
       "'A:'"
      ]
     },
     "metadata": {},
     "output_type": "display_data"
    },
    {
     "data": {
      "text/plain": [
       "\"<p>You must loop through each row in column A using VBA, evaluate each row's expression, and then enter the result in column B. To help you, consider this example.</p>\\n<p>Sub Values()\\nDim lastRow As Long\\nDim i As Long\\nDim formula As String\\nDim result As Variant</p>\\n<pre><code>lastRow = Range(&quot;A&quot; &amp; Rows.Count).End(xlUp).Row \\nFor i = 1 To lastRow \\n    formula = Range(&quot;A&quot; &amp; i).Value \\n    result = Evaluate(formula) \\n    Range(&quot;B&quot; &amp; i).Value = result \\nNext i\\n</code></pre>\\n<p>End Sub</p>\\n<p>I hope this helps.</p>\\n\""
      ]
     },
     "metadata": {},
     "output_type": "display_data"
    },
    {
     "data": {
      "text/plain": [
       "'A:'"
      ]
     },
     "metadata": {},
     "output_type": "display_data"
    },
    {
     "data": {
      "text/plain": [
       "'<p>You can accomplish this by combining \\'<code>group by</code>\\' and \\'<code>SUM()</code>\\' with multiple <code>case when clause</code> as shown below.</p>\\n<pre><code>select Case_,\\n       max(case when Queue = \\'Branch_Maker\\' then User_ end) as \\'Branch_Maker User\\',\\n       SUM(case when Queue = \\'Branch_Maker\\' then TAT end) as \\'Branch_Maker TAT\\',\\n       MAX(case when Queue = \\'Branch_Checker\\' then User_ end) as \\'Branch_Checker User\\',\\n       SUM(case when Queue = \\'Branch_Checker\\' then TAT end) as \\'Branch_Checker TAT\\',\\n       MAX(case when Queue = \\'Compliance\\' then User_ end) as \\'Compliance User\\',\\n       SUM(case when Queue = \\'Compliance\\' then TAT end) as \\'Compliance TAT\\'\\nfrom mytable\\ngroup by Case_, User_\\n</code></pre>\\n<p><a href=\"https://dbfiddle.uk/U5OEyo6e\" rel=\"nofollow noreferrer\">Demo here</a></p>\\n'"
      ]
     },
     "metadata": {},
     "output_type": "display_data"
    },
    {
     "data": {
      "text/plain": [
       "'A:'"
      ]
     },
     "metadata": {},
     "output_type": "display_data"
    },
    {
     "data": {
      "text/plain": [
       "'<p>Use the following syntax:</p>\\n<pre><code>paths=[/usr/local/bin $@paths /usr/local/sbin]\\n</code></pre>\\n<p>To add those 2 to the existing <code>$paths</code></p>\\n'"
      ]
     },
     "metadata": {},
     "output_type": "display_data"
    },
    {
     "data": {
      "text/plain": [
       "'A:'"
      ]
     },
     "metadata": {},
     "output_type": "display_data"
    },
    {
     "data": {
      "text/plain": [
       "\"<p>Just change <code>!=</code> to <code>==</code> in your existing command:</p>\\n<pre><code>$ cat file | sort | tac | awk '{sub(&quot;/[^/]+$&quot;,&quot;&quot;)} index(prev,$0&quot;/&quot;) == 1{print} {prev=$0}'\\nsrc/services/wam-controller/api\\nsrc/services/sam-agent\\nsrc/services/jam-controller\\n\\n$ cat t.log | sort | tac | awk '{sub(&quot;/[^/]+$&quot;,&quot;&quot;)} index(prev,$0&quot;/&quot;) == 1{print} {prev=$0}'\\nsrc/services/rams/store\\nsrc/services/rams\\nsrc/services\\n</code></pre>\\n\""
      ]
     },
     "metadata": {},
     "output_type": "display_data"
    },
    {
     "data": {
      "text/plain": [
       "'A:'"
      ]
     },
     "metadata": {},
     "output_type": "display_data"
    },
    {
     "data": {
      "text/plain": [
       "'<p>I experience the same/a similar issue in the &quot;Samsung Internet&quot; app on Android (current release). <code>Notification.requestPermission()</code> returns <code>default</code> but no prompt is actually shown.</p>\\n<p>This is my exact situation:</p>\\n<ul>\\n<li>I created and released a web application with PWA capabilities some months ago. Within the app, users can trigger the Notification permission prompt and - when accepting the permission prompt - get WebPush Notifications.</li>\\n<li>I installed the PWA on my Android mobile using the &quot;Samsung Internet&quot; app and  triggered/accepted the notification permission prompt.</li>\\n<li>Then I moved the web application to a new server. Since then <code>Notification.requestPermission()</code> returns <code>default</code> but no prompt is actually shown anymore.</li>\\n</ul>\\n<p>My code works as expected in the desktop versions of Edge, Chrome and Firefox (even after moving the web application to the new server), just not in the &quot;Samsung Internet&quot; app on Android.</p>\\n<p>As per my understanding, if notifications were already accepted, then <code>Notification.requestPermission()</code> should return <code>granted</code> and of course no prompt should be shown. And if notifications were already rejected, then <code>Notification.requestPermission()</code> should return <code>rejected</code> and of course no prompt should be shown neither. But since <code>Notification.requestPermission()</code> actually returns <code>default</code> (I verified this on my mobile!), I would expect the prompt to be shown in any case. Is this expectation correct or am I missing something? Any idea why the prompt is not shown on my mobile in this situation?</p>\\n<p><strong>Edit on April 19th, 2023:</strong>\\nAfter I completely uninstalled the PWA and cleared the website data from the &quot;Samsung Internet&quot; app and installed the PWA again, it worked again. But still I wonder why the promt was not shown even if the <code>Notification.requestPermission()</code> returned <code>default</code> ...?</p>\\n'"
      ]
     },
     "metadata": {},
     "output_type": "display_data"
    },
    {
     "data": {
      "text/plain": [
       "'A:'"
      ]
     },
     "metadata": {},
     "output_type": "display_data"
    },
    {
     "data": {
      "text/plain": [
       "'<p>First, it\\'s worth noting: your implementation is quite slow because it doesn\\'t take advantage of the fact that your bin capacity limits place lower and upper bounds on the number of bins used. Introducing this moved my feasibility check from &quot;multiple minutes so I decided to terminate it&quot; to 0.21 seconds.</p>\\n<p>Next: as @sascha says, you need to choose what you mean by an approximate solution and exactly how you mean to sacrifice items. I present one approach here which only needs to sacrifice one option and completes in 0.03 seconds. I do not have or-tools so I demonstrate in PuLP.</p>\\n<pre class=\"lang-py prettyprint-override\"><code>import pulp\\nimport numpy as np\\n\\nweights = np.array((\\n    1.   , 1.001, 1.09 , 1.002, 1.006, 1.007, 1.   , 0.674, 1.002,\\n    0.22 , 0.36 , 0.24 , 1.2  , 0.4  , 0.947, 0.987, 0.456))\\nitems = np.arange(len(weights))\\nbin_capacity_upper_limit = 3.3\\nbin_capacity_lower_limit = 2.7\\nabsolute_lower = round(np.ceil(weights.sum() / bin_capacity_upper_limit))\\nabsolute_upper = round(np.ceil(weights.sum() / bin_capacity_lower_limit))\\nbins = np.arange(absolute_upper)\\n\\n\\ndef prove_infeasible():\\n    solver = pulp.LpProblem(name=\\'chemical_knapsack_exact\\', sense=pulp.LpMinimize)\\n\\n    # x[i, j] = 1 if item i is packed in bin j.\\n    assignments = pulp.LpVariable.dicts(\\n        name=\\'assign\\', cat=pulp.LpBinary,\\n        indices=[(i, j) for i in items for j in bins])\\n\\n    # y[j] = 1 if bin j is used. All bins below the lower bound are used (those vars are fixed).\\n    bins_used = [\\n        pulp.LpVariable(\\n            name=f\\'bin_{j}\\', cat=pulp.LpBinary,\\n            lowBound=1 if j &lt; absolute_lower else 0)\\n        for j in bins]\\n\\n    for i in items:\\n        # Each item must be in exactly one bin.\\n        solver.addConstraint(\\n            name=f\\'assign_excl_{i}\\',\\n            constraint=pulp.lpSum([\\n                assignments[i, j]\\n                for j in bins\\n            ]) == 1)\\n\\n    for j in bins:\\n        # The amount packed in each bin cannot exceed its capacity.\\n        weight = pulp.lpDot(weights,\\n            [assignments[i, j] for i in items])\\n        used = bins_used[j]\\n        solver.addConstraint(\\n            name=f\\'weight_hi_{j}\\',\\n            constraint=weight &lt;= used*bin_capacity_upper_limit)\\n        solver.addConstraint(\\n            name=f\\'weight_lo_{j}\\',\\n            constraint=weight &gt;= used*bin_capacity_lower_limit)\\n\\n    # Objective: minimize the number of bins used.\\n    solver.objective = pulp.lpSum(bins_used)\\n    solver.solve()\\n    assert solver.status == pulp.LpStatusInfeasible\\n\\n\\ndef solve_approximate():\\n    &quot;&quot;&quot;\\n    Preserve as exact the originally intended number of bins, and the lower and upper capacity\\n    limits. This implies that absolute_upper is still true.\\n\\n    Sacrifice some items to achieve feasibility. This means that absolute_lower is no longer true\\n    because some of the weights may be unused.\\n    &quot;&quot;&quot;\\n\\n    solver = pulp.LpProblem(name=\\'chemical_knapsack_approx\\', sense=pulp.LpMaximize)\\n\\n    # x[i, j] = 1 if item i is packed in bin j.\\n    assignments = pulp.LpVariable.dicts(\\n        name=\\'assign\\', cat=pulp.LpBinary,\\n        indices=[(i, j) for i in items for j in bins])\\n\\n    # y[j] = 1 if bin j is used.\\n    bins_used = pulp.LpVariable.dicts(\\n        name=f\\'bin\\', cat=pulp.LpBinary, indices=bins)\\n\\n    for i in items:\\n        # Each item must be in up to one bin.\\n        solver.addConstraint(\\n            name=f\\'assign_excl_{i}\\',\\n            constraint=pulp.lpSum([\\n                assignments[i, j]\\n                for j in bins\\n            ]) &lt;= 1)\\n\\n    for j in bins:\\n        # The amount packed in each bin cannot exceed its capacity.\\n        weight = pulp.lpDot(weights,\\n            [assignments[i, j] for i in items])\\n        used = bins_used[j]\\n        solver.addConstraint(\\n            name=f\\'weight_hi_{j}\\',\\n            constraint=weight &lt;= used*bin_capacity_upper_limit)\\n        solver.addConstraint(\\n            name=f\\'weight_lo_{j}\\',\\n            constraint=weight &gt;= used*bin_capacity_lower_limit)\\n\\n    # Objective: minimize the number of bins used and maximize the number of items packed.\\n    # Tweak value and cost to taste.\\n    item_value = 1\\n    bin_cost = 1\\n    solver.objective = item_value*pulp.lpSum(assignments.values()) - bin_cost*pulp.lpSum(bins_used)\\n\\n    print(solver)\\n    solver.solve()\\n    assert solver.status == pulp.LpStatusOptimal\\n\\n    for j in bins:\\n        assigned = np.array([assignments[i,j].value() for i in items], dtype=int)\\n        print(f\\'Bin {j} is\\', \\'  used,\\' if bins_used[j].value() else \\'unused,\\',\\n              f\\'{assigned.sum()} items, {assigned.dot(weights):.4f} weight\\')\\n    for i in items:\\n        bin_idx = next((j for j in bins if assignments[i,j].value()), None)\\n        print(f\\'Item {i} is\\', \\'unused\\' if bin_idx is None else f\\'in bin {bin_idx}\\')\\n\\n\\nprove_infeasible()\\nsolve_approximate()\\n</code></pre>\\n<pre class=\"lang-none prettyprint-override\"><code>Welcome to the CBC MILP Solver \\nVersion: 2.10.3 \\nBuild Date: Dec 15 2019 \\n...\\nResult - Problem proven infeasible\\n\\nNo feasible solution found\\nEnumerated nodes:               0\\nTotal iterations:               1931\\nTime (CPU seconds):             0.21\\nTime (Wallclock seconds):       0.21\\n\\nchemical_knapsack_approx:\\nMAXIMIZE\\n1*assign_(0,_0) + ... + 1*assign_(9,_3) + 1*assign_(9,_4) + 1*assign_(9,_5) + -1*bin_0 + -1*bin_1 + -1*bin_2 + -1*bin_3 + -1*bin_4 + -1*bin_5 + 0\\nSUBJECT TO\\nassign_excl_0: assign_(0,_0) + assign_(0,_1) + assign_(0,_2) + assign_(0,_3)\\n + assign_(0,_4) + assign_(0,_5) &lt;= 1\\n...\\nweight_hi_0: assign_(0,_0) + 1.001 assign_(1,_0) + 0.36 assign_(10,_0)\\n + 0.24 assign_(11,_0) + 1.2 assign_(12,_0) + 0.4 assign_(13,_0)\\n + 0.947 assign_(14,_0) + 0.987 assign_(15,_0) + 0.456 assign_(16,_0)\\n + 1.09 assign_(2,_0) + 1.002 assign_(3,_0) + 1.006 assign_(4,_0)\\n + 1.007 assign_(5,_0) + assign_(6,_0) + 0.674 assign_(7,_0)\\n + 1.002 assign_(8,_0) + 0.22 assign_(9,_0) - 3.3 bin_0 &lt;= 0\\n\\nweight_lo_0: assign_(0,_0) + 1.001 assign_(1,_0) + 0.36 assign_(10,_0)\\n + 0.24 assign_(11,_0) + 1.2 assign_(12,_0) + 0.4 assign_(13,_0)\\n + 0.947 assign_(14,_0) + 0.987 assign_(15,_0) + 0.456 assign_(16,_0)\\n + 1.09 assign_(2,_0) + 1.002 assign_(3,_0) + 1.006 assign_(4,_0)\\n + 1.007 assign_(5,_0) + assign_(6,_0) + 0.674 assign_(7,_0)\\n + 1.002 assign_(8,_0) + 0.22 assign_(9,_0) - 2.7 bin_0 &gt;= 0\\n...\\nResult - Optimal solution found\\n\\nObjective value:                12.00000000\\nEnumerated nodes:               0\\nTotal iterations:               0\\nTime (CPU seconds):             0.03\\nTime (Wallclock seconds):       0.03\\n\\nBin 0 is   used, 3 items, 3.0780 weight\\nBin 1 is   used, 4 items, 3.1740 weight\\nBin 2 is unused, 0 items, 0.0000 weight\\nBin 3 is   used, 4 items, 3.0760 weight\\nBin 4 is unused, 0 items, 0.0000 weight\\nBin 5 is   used, 5 items, 3.2580 weight\\nItem 0 is in bin 3\\nItem 1 is in bin 0\\nItem 2 is in bin 0\\nItem 3 is in bin 5\\nItem 4 is unused\\nItem 5 is in bin 1\\nItem 6 is in bin 1\\nItem 7 is in bin 3\\nItem 8 is in bin 3\\nItem 9 is in bin 1\\nItem 10 is in bin 5\\nItem 11 is in bin 5\\nItem 12 is in bin 5\\nItem 13 is in bin 3\\nItem 14 is in bin 1\\nItem 15 is in bin 0\\nItem 16 is in bin 5\\n</code></pre>\\n'"
      ]
     },
     "metadata": {},
     "output_type": "display_data"
    },
    {
     "data": {
      "text/plain": [
       "'A:'"
      ]
     },
     "metadata": {},
     "output_type": "display_data"
    },
    {
     "data": {
      "text/plain": [
       "'<p>You don\\'t have to use <code>@app_commands.Argument()</code> to create a command parameter, it is enough with adding it in the function header:</p>\\n<pre><code>@tree.command(name=&quot;mycommandname&quot;, guild = discord.Object(id = MyDiscordGuild))\\nasync def mycommandname(interaction: discord.Interaction, new_parameter_1: str, new_parameter_2: str, new_parameter_3: str = &quot;&quot;):\\n\\n    await interaction.response.send_message(content=&quot;Validation message&quot;, delete_after=60)\\n</code></pre>\\n<p>Notes:</p>\\n<ol>\\n<li><p>Parameter names can\\'t contain upper case or spaces.</p>\\n</li>\\n<li><p>In order to make a parameter optional, define a default value in the function header (<code>new_parameter_3: str = &quot;&quot;</code>).</p>\\n</li>\\n<li><p>Reminder that you need to <a href=\"https://discordpy.readthedocs.io/en/stable/interactions/api.html?highlight=tree%20sync#discord.app_commands.CommandTree.sync\" rel=\"nofollow noreferrer\"><code>sync()</code></a> the tree for the changes to be applied.</p>\\n</li>\\n<li><p>You can additionally use <a href=\"https://discordpy.readthedocs.io/en/stable/interactions/api.html?highlight=app_commands%20describe#discord.app_commands.describe\" rel=\"nofollow noreferrer\"><code>@app_commands.describe()</code></a> to describe the parameter:</p>\\n</li>\\n</ol>\\n<pre><code>@tree.command(name=&quot;mycommandname&quot;, guild = discord.Object(id = MyDiscordGuild))\\n@app_commands.describe(new_parameter_1=&quot;Description for parameter 1&quot;)\\n@app_commands.describe(new_parameter_2=&quot;Description for parameter 2&quot;)\\n@app_commands.describe(new_parameter_3=&quot;Description for parameter 3&quot;)\\nasync def mycommandname(interaction: discord.Interaction, new_parameter_1: str, new_parameter_2: str, new_parameter_3: str = &quot;&quot;):\\n    await interaction.response.send_message(&quot;a&quot;)\\n</code></pre>\\n<p><a href=\"https://i.stack.imgur.com/6vLwC.png\" rel=\"nofollow noreferrer\"><img src=\"https://i.stack.imgur.com/6vLwC.png\" alt=\"enter image description here\" /></a></p>\\n'"
      ]
     },
     "metadata": {},
     "output_type": "display_data"
    },
    {
     "data": {
      "text/plain": [
       "'A:'"
      ]
     },
     "metadata": {},
     "output_type": "display_data"
    },
    {
     "data": {
      "text/plain": [
       "'<pre><code>&lt;div class=&quot;mc-button full&quot;&gt;\\n  &lt;div type=&quot;button&quot; href=&quot;about1-19-3.html&quot; class=&quot;title&quot;&gt;1.19.3&lt;/div&gt;\\n&lt;/div&gt;`\\n</code></pre>\\n<p>This should be converted into something like this...</p>\\n<pre><code>&lt;div class=&quot;mc-button full&quot;&gt;\\n  &lt;button type=&quot;submit&quot; @onclick=&quot;location.href(&quot;/about1-19-3.html&quot;)&quot; class=&quot;title&quot;&gt;1.19.3&lt;/div&gt;\\n&lt;/div&gt;`\\n</code></pre>\\n<p>Or something like this...</p>\\n<pre><code>&lt;div class=&quot;mc-button full&quot;&gt;\\n  &lt;a href=&quot;/about1-19-3.html&quot; class=&quot;title&quot;&gt;1.19.3&lt;/a&gt;\\n&lt;/div&gt;`\\n</code></pre>\\n'"
      ]
     },
     "metadata": {},
     "output_type": "display_data"
    },
    {
     "data": {
      "text/plain": [
       "'A:'"
      ]
     },
     "metadata": {},
     "output_type": "display_data"
    },
    {
     "data": {
      "text/plain": [
       "'<p>Probably, you had an old version of the package <code>@badeball/cypress-cucumber-preprocessor</code>.</p>\\n<p>Because right now, the import is:</p>\\n<pre><code>import {\\n  DataTable,\\n  Given,\\n  Then,\\n  When,\\n} from &quot;@badeball/cypress-cucumber-preprocessor&quot;;\\n</code></pre>\\n'"
      ]
     },
     "metadata": {},
     "output_type": "display_data"
    },
    {
     "data": {
      "text/plain": [
       "'A:'"
      ]
     },
     "metadata": {},
     "output_type": "display_data"
    },
    {
     "data": {
      "text/plain": [
       "\"<h3>First variant</h3>\\n<p>There is no optimal, &quot;first principles&quot; step size selection strategy, so to have a reasonable one has to be sufficient. So as a first improvement make a division by zero impossible, use in the delta computation</p>\\n<pre><code>(epsilon/(1e-2*epsilon + R))\\n</code></pre>\\n<p>This will put in a ceiling in the step factor.</p>\\n<h3>Second variant</h3>\\n<p>You have a treatment for when the error is larger than permitted.</p>\\n<p>However, what is missing is a treatment for when the error is drastically smaller than the error tolerance. So insert a line</p>\\n<pre><code>if 32*R &lt; epsilon: h *= 2\\n</code></pre>\\n<p>at the end of the &quot;accept&quot; block. This is for instance important when the solution converges towards an equilibrium as then you want to increase the step size (up to the stability border for explicit methods).</p>\\n<h3>PS</h3>\\n<p>To reduce the amount or severity of catastrophic cancellation you might want to compute the error using the linear combination of the k's with the differences of the step coefficients.</p>\\n\""
      ]
     },
     "metadata": {},
     "output_type": "display_data"
    },
    {
     "data": {
      "text/plain": [
       "'A:'"
      ]
     },
     "metadata": {},
     "output_type": "display_data"
    },
    {
     "data": {
      "text/plain": [
       "'<p>hey can you share some more insights on how to resolve this issue.. Ig i am stuck at the same point</p>\\n'"
      ]
     },
     "metadata": {},
     "output_type": "display_data"
    },
    {
     "data": {
      "text/plain": [
       "'A:'"
      ]
     },
     "metadata": {},
     "output_type": "display_data"
    },
    {
     "data": {
      "text/plain": [
       "\"<p>Are you sure you haven't accidentally upgraded your scikit-image version? The property was renamed <code>intensity_mean</code> in 0.19.</p>\\n\""
      ]
     },
     "metadata": {},
     "output_type": "display_data"
    },
    {
     "data": {
      "text/plain": [
       "'A:'"
      ]
     },
     "metadata": {},
     "output_type": "display_data"
    },
    {
     "data": {
      "text/plain": [
       "'<p>You have register the service, but you ask for the wrong type. Try this instead, as you register type Foo as an implementation of the interface IFoo.</p>\\n<pre><code>app.MapGet(&quot;/&quot;, ([FromServices] IFoo f) =&gt;\\n{\\n    f.Print();\\n    return &quot;Hello World!&quot;;\\n});\\n</code></pre>\\n'"
      ]
     },
     "metadata": {},
     "output_type": "display_data"
    },
    {
     "data": {
      "text/plain": [
       "'A:'"
      ]
     },
     "metadata": {},
     "output_type": "display_data"
    },
    {
     "data": {
      "text/plain": [
       "\"<p>Please show your view code. If you even have a join, Oracle does not know from which table to take the ROWID from. You may need to rewrite it to use subqueries and have only one table in the top level FROM clause.</p>\\n<p>I have done the same thing you are doing - create a procedure that chunks LOBs for faster processing over dblinks. I did it differently though, I placed the procedure on the remote database, and I pass in a collection of ROWIDs. The procedure reads the CLOBs into a local collection, converts them to BLOBs, compresses them, then chunks them out into a collection of RAW, returns that collection as an OUT parameter to the caller, which is a procedure on the local database. That procedure reverses the process, reassembles the BLOBs from the collection of RAW, decompresses, converts to CLOBs, then updates the target table with the CLOB values. For the same reason you have encountered, I also do not support pulling from a complex view, because my code needs the ROWIDs from the source. But the solution is to rewrite the view so that it only has one table at the top level, all other joins being done by subquery.</p>\\n<p>I also have a first-pass mechanism that pulls as VARCHAR2(4000) (via CAST) any CLOB that is under that size. That's much faster than pulling them as CLOBs. But that still requires the ROWID.</p>\\n<p>Also I should note that while this gave me considerable performance gains 10+ years ago over Oracle's native LOB-over-dblink back in the days of 10g-11g, in recent versions I have found that they've tweaked their internal processing and native LOB transfers are much faster now, so it may not longer be worth this kind of hacky workaround.</p>\\n<p>Update: after seeing your view, I see you have a ROWID (aliased as row_id) exposed explicitly in your view. Just use that... query against row_id instead of rowid.</p>\\n<pre><code>execute immediate \\n            'select dbms_lob.substr@' ||p_dblink|| '(' ||p_clob_col|| ', ' ||c_chunk_size\\n         || ', ' ||v_pos|| ') from ' ||v_remote_table|| '@' ||p_dblink|| ' where row_id = :rid '\\n        into v_chunk using p_rid;\\n</code></pre>\\n\""
      ]
     },
     "metadata": {},
     "output_type": "display_data"
    },
    {
     "data": {
      "text/plain": [
       "'A:'"
      ]
     },
     "metadata": {},
     "output_type": "display_data"
    },
    {
     "data": {
      "text/plain": [
       "'<p>Unless your Arduino is acting as a USB-Ethernet adaptor this will <strong>NOT</strong> work. The PubSub client needs an active TCP stack to work, it can not just send &quot;MQTT Packets&quot; over USB.</p>\\n<p>While technically possible to send MQTT packets between 2 devices over nearly any 2 way connection, you would have to write the whole client side and the whole broker/usb2broker bridge side from yourself.</p>\\n<p>A much better option here is to just remove ALL the MQTT code from the Arduino code and write the sensor readings to the serial out and write a short Python script to read those in and then publish them to a MQTT broker.</p>\\n'"
      ]
     },
     "metadata": {},
     "output_type": "display_data"
    },
    {
     "data": {
      "text/plain": [
       "'A:'"
      ]
     },
     "metadata": {},
     "output_type": "display_data"
    },
    {
     "data": {
      "text/plain": [
       "\"<p>It seems this problem only exists when I use the 'duplicate tab' option in my browser. Opening a new tab and then navigating to the phpMyAdmin URL works correctly, so that will do.</p>\\n\""
      ]
     },
     "metadata": {},
     "output_type": "display_data"
    },
    {
     "data": {
      "text/plain": [
       "'A:'"
      ]
     },
     "metadata": {},
     "output_type": "display_data"
    },
    {
     "data": {
      "text/plain": [
       "'<p>You can do this using <a href=\"https://docs.aws.amazon.com/amazondynamodb/latest/APIReference/API_TransactWriteItems.html\" rel=\"nofollow noreferrer\">TransactWriteItems</a> which is available on all SDKs.</p>\\n<p>You use a <a href=\"https://docs.aws.amazon.com/amazondynamodb/latest/APIReference/API_TransactWriteItem.html#DDB-Type-TransactWriteItem-Put\" rel=\"nofollow noreferrer\">Put</a> to put the item and then you place a <a href=\"https://docs.aws.amazon.com/amazondynamodb/latest/APIReference/API_TransactWriteItem.html#DDB-Type-TransactWriteItem-ConditionCheck\" rel=\"nofollow noreferrer\">ConditionCheck</a> on the item you want to place your condition on.</p>\\n<p>This allows you to do both in a single ACID compliant transaction.</p>\\n'"
      ]
     },
     "metadata": {},
     "output_type": "display_data"
    },
    {
     "data": {
      "text/plain": [
       "'A:'"
      ]
     },
     "metadata": {},
     "output_type": "display_data"
    },
    {
     "data": {
      "text/plain": [
       "'<p>The question is also weather ngrxis right tool for the job. You know when people got a hammer every problem looks like a nail.</p>\\n'"
      ]
     },
     "metadata": {},
     "output_type": "display_data"
    },
    {
     "data": {
      "text/plain": [
       "'A:'"
      ]
     },
     "metadata": {},
     "output_type": "display_data"
    },
    {
     "data": {
      "text/plain": [
       "'<p>Are you calling <code>SchedulePublish</code> or <code>ScheduleSend</code>? Either way, you may need to add a filter for <code>SendContext&lt;T&gt;</code> and add it in additional to the publish filter, since the message scheduler may be using send to schedule the message –\\xa0depending upon how you configured the message scheduler.</p>\\n'"
      ]
     },
     "metadata": {},
     "output_type": "display_data"
    },
    {
     "data": {
      "text/plain": [
       "'A:'"
      ]
     },
     "metadata": {},
     "output_type": "display_data"
    },
    {
     "data": {
      "text/plain": [
       "'<p>For looping over multiple items, use <a href=\"https://vuejs.org/guide/essentials/template-refs.html#refs-inside-v-for\" rel=\"nofollow noreferrer\">refs inside v-for</a>.</p>\\n<p>For joining multiple separate <code>refs</code>, use <a href=\"https://vuejs.org/api/reactivity-core.html#reactive\" rel=\"nofollow noreferrer\">reactive()</a>:</p>\\n<ul>\\n<li><strong>in <code>&lt;script&gt;</code></strong></li>\\n</ul>\\n<pre class=\"lang-html prettyprint-override\"><code>&lt;script&gt;\\nimport { reactive, toRefs } from \\'vue\\'\\n\\nexport default defineComponent({\\n  setup() {\\n    const state = reactive({\\n      el1: null,\\n      el2: null,\\n      el3: null\\n    })\\n    return toRefs(state)\\n    // or return { ...toRefs(state), /* moreStuff */ }\\n\\n  }\\n})\\n&lt;/script&gt;\\n</code></pre>\\n<ul>\\n<li><strong>in <code>&lt;script setup&gt;</code></strong></li>\\n</ul>\\n<p>You have 2 options:</p>\\n<ol>\\n<li>do not extract (use them as <code>state.el1</code>, <code>state.el2</code> in <code>&lt;template /&gt;</code>)</li>\\n</ol>\\n<pre class=\"lang-html prettyprint-override\"><code>&lt;script setup&gt;\\nconst state = reactive({\\n  el1: null,\\n  el2: null,\\n  el3: null\\n})\\nonMounted(() =&gt; {\\n  console.log(state.el1)\\n})\\n&lt;/script&gt;\\n&lt;template&gt;\\n  &lt;h1 ref=&quot;state.el1&quot;&gt;&lt;/h1&gt;\\n  &lt;h1 ref=&quot;state.el2&quot;&gt;&lt;/h1&gt;\\n  &lt;h1 ref=&quot;state.el3&quot;&gt;&lt;/h1&gt;\\n&lt;/template&gt;\\n</code></pre>\\n<ol start=\"2\">\\n<li>extract them (using <code>toRefs</code>) - Con: you have to specify each ref when extracting:</li>\\n</ol>\\n<pre class=\"lang-html prettyprint-override\"><code>&lt;script setup&gt;\\nimport { reactive, toRefs, onMounted } from \\'vue\\'\\nconst state = reactive({\\n  el1: null,\\n  el2: null,\\n  el3: null\\n})\\nconst { el1, el2, el3 } = toRefs(state)\\nonMounted(() =&gt; {\\n  console.log(el1.value)\\n  console.log(state.el2)\\n})\\n&lt;/script&gt;\\n</code></pre>\\n<p>The bigger advantage of using <code>reactive</code> is that you no longer need to use <code>.value</code> inside the <code>script</code> (Use <code>state.el1</code> in both <code>&lt;script&gt;</code> and <code>&lt;template&gt;</code>.</p>\\n'"
      ]
     },
     "metadata": {},
     "output_type": "display_data"
    },
    {
     "data": {
      "text/plain": [
       "'A:'"
      ]
     },
     "metadata": {},
     "output_type": "display_data"
    },
    {
     "data": {
      "text/plain": [
       "\"<p>The problem is that you read the &quot;command&quot; character by character. If you input two invalid characters the first <code>scanf(&quot; %c&quot;, &amp;op)</code> call will read the first, but the second invalid input is still in the buffer to be read by the next call.</p>\\n<p>As I advised in a comment, use <code>fgets</code> to read whole lines, and then e.g. <code>sscanf</code> to parse the input:</p>\\n<pre><code>char buffer[256];  // No need to skimp on space\\n\\nif (!fgets(buffer, sizeof buffer, stdin))\\n{\\n    // Failed to read input\\n    // TODO: Handle this case\\n}\\n\\nif (sscanf(&quot; %c&quot;, &amp;op) != 1)\\n{\\n    // Invalid input\\n    // TODO: Handle this case\\n}\\n</code></pre>\\n<p>It's more code, but it will be more robust and safer than your current code.</p>\\n<p>Do something similar for the numeric input.</p>\\n<p>I also suggest you put these in separate functions, which makes it easier to read the code, to test it and to debug it when needed.</p>\\n<hr />\\n<p>Please note that while the code describe above will make your input handling better and safer, it's not perfect.</p>\\n<p>An obnoxious user could input a line longer than 255 characters, in which case we're basically back where we started, where you get left over input in the buffers.</p>\\n<p>To be really safe from it you should check if the last character in the input from <code>fgets</code> is a newline, and if not then tell the user about the invalid input and use <code>fgets</code> (of perhaps even just <code>fgetc</code>) in a loop until you have read the newline.</p>\\n\""
      ]
     },
     "metadata": {},
     "output_type": "display_data"
    },
    {
     "data": {
      "text/plain": [
       "'A:'"
      ]
     },
     "metadata": {},
     "output_type": "display_data"
    },
    {
     "data": {
      "text/plain": [
       "'<p>Pundit documents this in <a href=\"https://rubydoc.info/gems/pundit#additional-context\" rel=\"nofollow noreferrer\">Additional Context</a> section of the readme.</p>\\n<p>Instead of user instance you can pass pundit user context object which would hold user instance and extra session context like 2FA authentication status.</p>\\n<pre class=\"lang-rb prettyprint-override\"><code>class UserContext\\n  attr_reader :user, :second_factor_authenticated\\n\\n  def initialize(user, second_factor_authenticated)\\n    @user = user\\n    @second_factor_authenticated = second_factor_authenticated\\n  end\\nend\\n\\nclass ApplicationController\\n  include Pundit::Authorization\\n\\n  def pundit_user\\n    second_factor_authenticated = session[:_2fa] == \\'success\\'\\n    UserContext.new(current_user, second_factor_authenticated)\\n  end\\nend\\n</code></pre>\\n<p>Then in policy classes rename your <code>user</code> attribute to <code>context</code> and refer to user instance through <code>context.user</code> and 2FA status through <code>context.second_factor_authenticated</code>.</p>\\n<p>So to answer the question - seven years later it is still perfectly acceptable solution.</p>\\n<p>Given you\\'re using Devise an alternative could be adding ephemeral attribute <code>second_factor_authenticated</code> to user class and implementing your own <a href=\"https://github.com/heartcombo/devise/blob/8593801130f2df94a50863b5db535c272b00efe1/lib/devise/models/authenticatable.rb#L237-L239\" rel=\"nofollow noreferrer\"><code>.serialize_into_session</code></a> / <a href=\"https://github.com/heartcombo/devise/blob/8593801130f2df94a50863b5db535c272b00efe1/lib/devise/models/authenticatable.rb#L241-L244\" rel=\"nofollow noreferrer\"><code>.serialize_from_session</code></a> to store it as part of user &quot;vector&quot; (by default it\\'s only user id + auth salt).</p>\\n'"
      ]
     },
     "metadata": {},
     "output_type": "display_data"
    },
    {
     "data": {
      "text/plain": [
       "'A:'"
      ]
     },
     "metadata": {},
     "output_type": "display_data"
    },
    {
     "data": {
      "text/plain": [
       "'<p>You are disabling your gameObject to make it disappear (using <code>gameObject.SetActive(false);</code>) , this also stops all the scripts attached to it. Your code will not bo able to run the Update() function anymore while disabled and it will never appear. You need to run this code from another object or not disable the whole gameObject</p>\\n'"
      ]
     },
     "metadata": {},
     "output_type": "display_data"
    },
    {
     "data": {
      "text/plain": [
       "'A:'"
      ]
     },
     "metadata": {},
     "output_type": "display_data"
    },
    {
     "data": {
      "text/plain": [
       "\"<p>You have to mock the <code>EmployeeService</code> for it to have the data you want.</p>\\n<p>This is not a complete answer but should hopefully get you started.</p>\\n<p>Follow comments with !!:</p>\\n<pre><code>describe('SalaryComponent', () =&gt; {\\n  let component: SalaryComponent;\\n  let fixture: ComponentFixture&lt;SalaryComponent&gt;;\\n  // !! Declare a mock for EmployeeService\\n  let mockEmployeeService: jasmine.SpyObj&lt;EmployeeService&gt;;\\n\\n  beforeEach(async () =&gt; {\\n    // !! Assign the mock\\n    mockEmployeeService = jasmine.createSpyObj&lt;EmployeeService&gt;('EmployeeService', {}, { currentEmployeeSub: of({ /* Mock Employee model here */ }) });\\n    // !! Look into jasmine.createSpyObj, the first string argument is optional \\n    // and for debugging purposes. The 2nd argument can be an object or an array\\n    // where you can mock public methods and the 3rd argument is an object\\n    // where you can mock public instance variables as we did here.\\n    await TestBed.configureTestingModule({\\n      imports: [],\\n      declarations: [],\\n      providers: [\\n        // !! Provide the mock\\n        { provide: EmployeeService, useValue: mockEmployeeService }, \\n      ],\\n    })\\n      .compileComponents();\\n  });\\n\\n  beforeEach(() =&gt; {\\n    fixture = TestBed.createComponent(SalaryComponent);\\n    component = fixture.componentInstance;\\n  });\\n\\n  fit('should show drop down if there is employee data', async ()  =&gt; {\\n    fixture.detectChanges();\\n    await fixture.whenStable();\\n  \\n    component.employee = {\\n      name: 'John Doe',\\n      age: 23,\\n      qualifications: [],\\n      address: {},\\n    }\\n\\n    fixture.detectChanges();\\n    await fixture.whenStable();\\n\\n    const hostElement: HTMLElement = fixture.nativeElement;\\n    const dropDown: HTMLInputElement = hostElement.querySelector(\\n      'dropdown[name=&quot;employee&quot;]'\\n    );\\n\\n    expect(dropDown).toBeTruthy();\\n  } \\n}\\n</code></pre>\\n\""
      ]
     },
     "metadata": {},
     "output_type": "display_data"
    },
    {
     "data": {
      "text/plain": [
       "'A:'"
      ]
     },
     "metadata": {},
     "output_type": "display_data"
    },
    {
     "data": {
      "text/plain": [
       "'<p>To set the retention period you need the following configuration:</p>\\n<pre><code>...\\n# Configures the compactor component which compacts index shards for performance\\ncompactor:\\n  # Activate custom retention (default=false)\\n  retention_enabled: true\\n...\\n# Configures limits per-tenant or globally\\nlimits_config:\\n  # Retention to apply for the store, if the retention is enabled on the compactor side (default=744h)\\n  retention_period: 2m\\n...\\n</code></pre>\\n'"
      ]
     },
     "metadata": {},
     "output_type": "display_data"
    },
    {
     "data": {
      "text/plain": [
       "'A:'"
      ]
     },
     "metadata": {},
     "output_type": "display_data"
    },
    {
     "data": {
      "text/plain": [
       "'<p>I guess you can do something like this.</p>\\n<pre><code>functions.auth.user().onCreate((user) =&gt; {\\n  if(!user.isAnonymous){\\n    //create an instance in firestore\\n    // ... \\n  }\\n});\\n</code></pre>\\n'"
      ]
     },
     "metadata": {},
     "output_type": "display_data"
    },
    {
     "data": {
      "text/plain": [
       "'A:'"
      ]
     },
     "metadata": {},
     "output_type": "display_data"
    },
    {
     "data": {
      "text/plain": [
       "'<p>Your library is not self-contained, that is, you were to include a file relative to the library path, but this relative path is being searched for in the application path at runtime. A solution would be to create a folder in your application for your library, create a GLFW folder inside that and copy the glfw3.h file into the GLFW folder. That would save you from a lot of headaches.</p>\\n'"
      ]
     },
     "metadata": {},
     "output_type": "display_data"
    },
    {
     "data": {
      "text/plain": [
       "'A:'"
      ]
     },
     "metadata": {},
     "output_type": "display_data"
    },
    {
     "data": {
      "text/plain": [
       "\"<p>One option might be to simply add a custom column for ReportingDay and then aggregate by that in a subsequent step.</p>\\n<pre><code>with date_cur_month as(\\nselect convert(datetime, convert(varchar(6), getdate(), 112) + '01', 112) as dt\\nunion all\\nselect dateadd(day, 1, dt) as dt\\n  from date_cur_month\\n  where datepart(month, dateadd(day, 1, dt)) = datepart(month, getdate()))\\nprior_result AS ( \\nselect convert(nvarchar(8), d.dt, 3) as date\\n     , sum(sum(ci.C_PRETAXTOTAL)) OVER (Order by CAST(d.dt AS date)) AS RunningTotal\\n  from [T_SALESORDER] ci \\n    right outer join date_cur_month d on cast(ci.C_DATE as date) = d.dt\\n  where C_SALESREP = '8602832427308'\\n  group by d.dt\\n)\\nselect \\nCASE \\n  WHEN DATEPART(WEEKDAY, date) IN('Saturday','Sunday') \\n  THEN 'Monday' \\n  ELSE DATEPART(WEEKDAY, date) \\nEND AS ReportingDay, SUM(RunningTotal) AS SUM_RunningTotal\\nFROM prior_result\\nGROUP BY \\nCASE \\n  WHEN DATEPART(WEEKDAY, date) IN('Saturday','Sunday') \\n  THEN 'Monday' \\n  ELSE DATEPART(WEEKDAY, date) \\nEND\\n</code></pre>\\n\""
      ]
     },
     "metadata": {},
     "output_type": "display_data"
    },
    {
     "data": {
      "text/plain": [
       "'A:'"
      ]
     },
     "metadata": {},
     "output_type": "display_data"
    },
    {
     "data": {
      "text/plain": [
       "\"<p>Based on the SQL example, the equivalent Gremlin would be:</p>\\n<pre><code>g.V().has('Parts', '~id',within( 'ABCD','PQRS')).values()\\n</code></pre>\\n<p>However, if <code>~Id</code> is the actual vertex ID, then you can just do:</p>\\n<pre><code>V().hasId('ABCD','PQRS').values()\\n</code></pre>\\n\""
      ]
     },
     "metadata": {},
     "output_type": "display_data"
    },
    {
     "data": {
      "text/plain": [
       "'A:'"
      ]
     },
     "metadata": {},
     "output_type": "display_data"
    },
    {
     "data": {
      "text/plain": [
       "\"<p>An appContextProvider function need to be construct first like below for example</p>\\n<pre><code>import { useReducer, createContext, useMemo } from 'react';\\nimport { initialState, contextReducer } from 'yourOwnReducer';\\n\\nconst AppContext = createContext();\\n\\nfunction AppContextProvider({ children }) { \\nconst [state, dispatch] = useReducer(contextReducer, initialState);\\nconst value = useMemo(() =&gt; [state, dispatch], [state]);\\n\\nreturn &lt;AppContext.Provider value={value}&gt;{children} \\n&lt;/AppContext.Provider&gt;;\\n}\\n\\nexport default AppContextProvider;\\n</code></pre>\\n<p>then wrap the app component with the function after importing it</p>\\n<pre><code>import React from &quot;react&quot;;\\nimport { BrowserRouter, Route, Routes } from &quot;react-router-dom&quot;;\\nimport { createRoot } from &quot;react-dom/client&quot;;\\n\\nimport App from &quot;./app&quot;;\\n\\nimport AppContextProvider from &quot;./AppContextProvider&quot;;\\n\\nconst root = createRoot(document.getElementById(&quot;root&quot;));\\n\\nroot.render(\\n  &lt;React.StrictMode&gt;\\n   &lt;BrowserRouter&gt;\\n    &lt;AppContextProvider&gt;\\n     &lt;Routes&gt;\\n      &lt;Route path=&quot;/*&quot; element={&lt;App /&gt;} /&gt;\\n     &lt;/Routes&gt;\\n    &lt;/AppContextProvider&gt;\\n  &lt;/BrowserRouter&gt;\\n &lt;/React.StrictMode&gt;\\n);\\n</code></pre>\\n\""
      ]
     },
     "metadata": {},
     "output_type": "display_data"
    },
    {
     "data": {
      "text/plain": [
       "'A:'"
      ]
     },
     "metadata": {},
     "output_type": "display_data"
    },
    {
     "data": {
      "text/plain": [
       "\"<p>That's just the way Python works:</p>\\n<pre><code>&gt;&gt;&gt; def init():\\n...     global x\\n...     x = 1\\n... \\n&gt;&gt;&gt; x\\nTraceback (most recent call last):\\n  File &quot;&lt;stdin&gt;&quot;, line 1, in &lt;module&gt;\\nNameError: name 'x' is not defined\\n</code></pre>\\n<p>The <code>init()</code> function needs to be executed, not just declared, for the global to be initialized.</p>\\n<p>However, if I can make a suggestion, I don't think that's a sound design.  Instead of making it a global, I would return <code>yts</code> from the <code>bootstrap</code> function.  You can either call <code>bootstrap</code> from <code>getrate</code>, or call it externally and pass <code>yts</code> to <code>getrate</code> as an additional argument.</p>\\n\""
      ]
     },
     "metadata": {},
     "output_type": "display_data"
    },
    {
     "data": {
      "text/plain": [
       "'A:'"
      ]
     },
     "metadata": {},
     "output_type": "display_data"
    },
    {
     "data": {
      "text/plain": [
       "\"<blockquote>\\n<p><code>if (close(fd3[1]) == -1 || close(fd3[0]) == -1 || close(fd4[1]) == -1 || close(fd4[0]) == -1)</code></p>\\n</blockquote>\\n<p>Look at that code, if you close both file descriptors <em>in the same pipe,</em> then <strong>you cannot use the pipe at all!!!</strong>  And you are doing it for both, pipe <code>fd3</code> and pipe <code>fd4</code>.</p>\\n<p>You have to close only the file descriptors you are not going to use, the write descriptor in the pipe you are using to read, and the read descriptor in the pipe you will use to write.  This means that you never close both descriptors in any pipe you are going to use.  This is done in the child (as the <code>case 0:</code> label was selected, so in the parent you can only write from one descriptor and read in the other (or none, as soon as you close just one descriptor, the pipe will not be able to be written or will return 0 immediately from a read in notice of EOF)  Anyway the short circuit in the close makes that only you left one open if any of the closes fail, which is something that normally will not happen ---all of them succeed with 0 return)</p>\\n<p>If you are going to use e.g. <code>fd3</code> for output in the child and <code>fd4</code> for input, then you should, in this order,  <code>close(fd3[0]); close(fd4[1]);</code>, then <code>dup2(1, fd3[1]); dup2(0, fd4[0]);</code> to do the actual redirection to standard input and standard output, and finally you can then <code>close(fd3[1]); close(fd4[0]);</code>, you can do all the close()s at the end, but never (the ones mentioned above) before doing the actual redirection (the dups).  Now you can call <code>exec*(2)</code> in the child to load the child program.</p>\\n<p>In the parent you don't need to do any redirection, just close the descriptors you are not using (so as <code>fd3[1]</code> and <code>fd4[0]</code> are used in the child, you should close them in the parent with <code>close(fd3[1]); close(fd4[0]);</code> (this is important, as if you don't close them you will not receive the <code>EOF</code> from the other side, and will always block for input in the reading file descriptor), then write to your child on <code>write(fd4[1], ...);</code> and <code>read(fd3[0], ...);</code>.  you can reassing <code>int write_to_child_fd = fd4[1], read_from_child_fd = fd3[0];</code> to make your code more readable, if possible (but as a normal reasignment has been done and not a <code>dup2</code> call, don't close them until you are finished talking to your child, or you will not be able to use them after that.</p>\\n<p>A final note, you don't have to use this complicated example to illustrate your problem, probably you could also figure how things have to be done and create a small function to do the fork, the redirection and finally get the two descriptors out of the system.</p>\\n<p>This way you have to solve the problem for just one process, something like:</p>\\n<pre><code>#define F(_fmt) &quot;%s:%d:%s: &quot; _fmt, __FILE__, __LINE__, __func__\\n\\n#define ERR_TAIL(_etfmt, ...) fprintf(stderr, _etfmt, ##__VA_ARGS__)\\n#define ERR(_ecod, _efmt, ...) do {        \\\\\\n        ERR_TAIL(F(_efmt), ##__VA_ARGS__); \\\\\\n        if (_ecod) {                       \\\\\\n            exit(_ecod);                   \\\\\\n        }                                  \\\\\\n    } while (0) \\n\\npid_t spawn_process(int fd[2], char *args[])\\n{\\n    int fd_down[2], fd_up[2];\\n    int res = pipe(fd_down);\\n    if (res &lt; 0)\\n        ERR(1, &quot;pipe: down: %s\\\\n&quot;, strerror(errno));\\n    res = pipe(fd_up);\\n    if (res &lt; 0)\\n        ERR(1, &quot;pipe: up: %s\\\\n&quot;, strerror(errno));\\n    pid_t child_pid = fork();\\n    switch(child_pid) {\\n    case -1: /* fork error */\\n        ERR(1, &quot;fork: %s\\\\n&quot;, strerror(errno));\\n    case 0: /* child process */\\n        dup2(0, fd_down[0]); dup2(1, fd_up[1]);\\n        /* now we can close all file descriptors as the pipes have\\n         * been successfully redirected to stdin and stdout */\\n        close(fd_down[0]); close(fd_down[1]); close(fd_up[0]); close(fd_up[1]);\\n        execlp(args[0], args);\\n        ERR(1, &quot;execlp: %s\\\\n&quot;, strerror(errno));\\n    default: /* parent */\\n\\n        /* to be used in the calling code */\\n        fd[0] = fd_up[0]; fd[1] = fd_down[1];\\n\\n        /* very important, see text below */\\n        close(fd_up[1]); close(fd_down[0]);\\n        return child_pid;\\n    } /* switch */\\n    /* NOT REACHED */\\n}\\n</code></pre>\\n<p>the importance of closing the unused descriptors in the parent process is because if you don't do it, when the communication between parent and child ends, and the child dies. the parent gets indefinitely blocked in a read, and can block in a write (once the pipe buffer fills) because there's still a side open in the other direction and so, the kernel will not signal the end of file for the reading side, nor will <code>SIGPIPE</code> the parent if it tries to write on a dead child.  So always be careful to close the pipe ends you will not use.</p>\\n<p>The code above will be used as a function that will return the two file descriptors in array <code>fd</code>, will exec the program passed in the argument list, and will return the children's pid in case of success.</p>\\n<p>In case of failure, the program simply exits with the exit code passed in the <code>ERR()</code> macro call.  But this behaviour can easily be changed if desired.</p>\\n\""
      ]
     },
     "metadata": {},
     "output_type": "display_data"
    },
    {
     "data": {
      "text/plain": [
       "'A:'"
      ]
     },
     "metadata": {},
     "output_type": "display_data"
    },
    {
     "data": {
      "text/plain": [
       "'<p>From what i understand you need to know how to link the login page with the data base. This should be common knowledge that you should connect the database tables with the Spring app and from the front-end send http requests to the spring app. There are plenty of tutorials on youtube on how to do that and i think Amigoscode explains it best.\\nTo limit the access with a login page you need to create a form on your page, retrieve the data from the form, then call the method from the Spring app that gives you the person by name or by email depending on what you ask in the form then compare the password from the form with the password from the user retrieved from the database.\\nThere should also be noted that you need to use a framework like react to code all the front end because the html will not be enough.\\nThis is a snipped on how I implemented the request.</p>\\n<pre><code>const response = await fetch(\\n      //the port should be 8080 if you use spring `http://localhost:8080/pathToControllerClass/IdentifierToDifferentiateMethods/${parameterFromTheForm}`\\n    );\\n// and this is how you should handle the verification\\nconst data = await response.json();\\n    if (response.ok &amp;&amp; name === data.name &amp;&amp; pass === data.password) {\\n      authContext.login();\\n      handleLogin(data.id);\\n      props.onFormSwitch(&quot;home&quot;);\\n    }\\n</code></pre>\\n'"
      ]
     },
     "metadata": {},
     "output_type": "display_data"
    },
    {
     "data": {
      "text/plain": [
       "'A:'"
      ]
     },
     "metadata": {},
     "output_type": "display_data"
    },
    {
     "data": {
      "text/plain": [
       "\"<p>You've commented on the code for notification. Please uncomment it, that will do the job</p>\\n<pre><code>   ## dart: PermissionGroup.notification\\n   # 'PERMISSION_NOTIFICATIONS=1',\\n</code></pre>\\n<ul>\\n<li>Also if your [androidSdkInt] &lt;= 33 (Android Version &lt;= 12) the\\nlocation permission is auto-granted</li>\\n</ul>\\n\""
      ]
     },
     "metadata": {},
     "output_type": "display_data"
    },
    {
     "data": {
      "text/plain": [
       "'A:'"
      ]
     },
     "metadata": {},
     "output_type": "display_data"
    },
    {
     "data": {
      "text/plain": [
       "'<p>So I stumbled on the same issue, but a switched my ISP and it fixed the problem for me. This would be a fast fix, As mentioned earlier by other answers, this is a DNS issue, switching my ISP led to a change in the DNS server address, which was enough.</p>\\n'"
      ]
     },
     "metadata": {},
     "output_type": "display_data"
    },
    {
     "data": {
      "text/plain": [
       "'A:'"
      ]
     },
     "metadata": {},
     "output_type": "display_data"
    },
    {
     "data": {
      "text/plain": [
       "'<p>Do you mean something like this?</p>\\n<pre><code>import sys\\n\\nscore = int(input(&quot;Score: &quot;))\\nif score &gt; 5:\\n    sys.exit(&quot;Score too high.&quot;)\\nelse:\\n    print(score)\\n</code></pre>\\n<p>It starts with asking a user for input and converts the variable to an integer and sets that value to <code>score</code>, then checks if the provided <code>score</code> is higher than 5, if yes exit, else print out the score</p>\\n'"
      ]
     },
     "metadata": {},
     "output_type": "display_data"
    },
    {
     "data": {
      "text/plain": [
       "'A:'"
      ]
     },
     "metadata": {},
     "output_type": "display_data"
    },
    {
     "data": {
      "text/plain": [
       "'<p>rolling_codes answer worked!</p>\\n<p>My only edit would be.</p>\\n<p>Prior to step 1:</p>\\n<p>Product -&gt; Scheme -&gt; Edit Scheme...</p>\\n<p>[Using Xcode v14.3]</p>\\n'"
      ]
     },
     "metadata": {},
     "output_type": "display_data"
    },
    {
     "data": {
      "text/plain": [
       "'A:'"
      ]
     },
     "metadata": {},
     "output_type": "display_data"
    },
    {
     "data": {
      "text/plain": [
       "'<p>Here is an aws-sample <a href=\"https://github.com/aws-samples/amazon-textract-large-scale-selectable-pdf/tree/main\" rel=\"nofollow noreferrer\">repo</a> using Python to create searchable pdfs similar to the Java link you posted.</p>\\n'"
      ]
     },
     "metadata": {},
     "output_type": "display_data"
    },
    {
     "data": {
      "text/plain": [
       "'A:'"
      ]
     },
     "metadata": {},
     "output_type": "display_data"
    },
    {
     "data": {
      "text/plain": [
       "'<p>Here is an example policy that grants the necessary permissions to perform the cloudformation:CreateChangeSet action on the aws-ses-serverless-dev CloudFormation stack:</p>\\n<pre><code>{\\n    &quot;Version&quot;: &quot;2012-10-17&quot;,\\n    &quot;Statement&quot;: [\\n        {\\n            &quot;Sid&quot;: &quot;AllowCreateChangeSet&quot;,\\n            &quot;Effect&quot;: &quot;Allow&quot;,\\n            &quot;Action&quot;: &quot;cloudformation:CreateChangeSet&quot;,\\n            &quot;Resource&quot;: &quot;arn:aws:cloudformation:us-east-1:030198164798:stack/aws-ses-serverless-dev/*&quot;\\n        }\\n    ]\\n}\\n</code></pre>\\n<p>You can add this policy to the ses-smtp-user.20230320-141906 IAM user by following these steps:</p>\\n<ol>\\n<li><p>Open the AWS Management Console and go to the IAM service.</p>\\n</li>\\n<li><p>List In the left sidebar, click on &quot;Users&quot; and find the<br />\\nses-smtp-user.20230320-141906 user.</p>\\n</li>\\n<li><p>Click on the user to open its<br />\\ndetails page. Click on the &quot;Permissions&quot; tab.</p>\\n</li>\\n<li><p>Click on the &quot;Add<br />\\ninline policy&quot; button to create a new policy.</p>\\n</li>\\n<li><p>In the policy editor,\\nselect the &quot;JSON&quot; tab and paste the example policy shown above.\\nClick    on the &quot;Review policy&quot; button to review the policy.</p>\\n</li>\\n<li><p>Give the policy a    name and click on the &quot;Create policy&quot; button to\\ncreate the policy and    attach it to the user.</p>\\n</li>\\n</ol>\\n<p>After adding the policy to the ses-smtp-user.20230320-141906 IAM user, try deploying your Serverless stack again and see if the issue will resolved.</p>\\n'"
      ]
     },
     "metadata": {},
     "output_type": "display_data"
    },
    {
     "data": {
      "text/plain": [
       "'A:'"
      ]
     },
     "metadata": {},
     "output_type": "display_data"
    },
    {
     "data": {
      "text/plain": [
       "'<p>The issue is you are trying to do a GetItem using only the partition key value. To do a GetItem you must provide the full primary key which is Partition and sort key values. In your case <code>name</code> and <code>version</code> are required.</p>\\n<p>If you only know the Partition key, they you must perform <a href=\"https://docs.aws.amazon.com/amazondynamodb/latest/APIReference/API_Query.html\" rel=\"nofollow noreferrer\">Query</a> operation.</p>\\n<p>You must provide the name of the partition key attribute and a single value for that attribute. Query returns all items with that partition key value</p>\\n'"
      ]
     },
     "metadata": {},
     "output_type": "display_data"
    },
    {
     "data": {
      "text/plain": [
       "'A:'"
      ]
     },
     "metadata": {},
     "output_type": "display_data"
    },
    {
     "data": {
      "text/plain": [
       "'<p>That\\'s not the compiler\\'s fault. It\\'s the <em><strong>Intellisense</strong></em>, the corresponding static syntax checker, that cannot recognize it as correct. You can normally compile it(as I\\'ve copied your code and compiled it on my VS2019) and run the generated program, but your IDE prompts frustrating spurious red squiggles and an error list. As illustrated in <a href=\"https://developercommunity.visualstudio.com/t/When-importing-a-C20-module-or-header-/1550846\" rel=\"nofollow noreferrer\">Known issues with IntelliSense for C++20 modules</a>, you may code like:</p>\\n<pre class=\"lang-cpp prettyprint-override\"><code>#ifdef __INTELLISENSE__\\n#include &lt;iostream&gt;\\n#else\\nimport &lt;iostream&gt;;\\n#endif\\n</code></pre>\\n<p>to get the Intellisense to work.</p>\\n<p>Now, the auto-completion of module code and Intellisense in Visual Studio is surprisingly unsatisfying. I recommend you not to use <em>modules</em> on formal occasions currently.</p>\\n<p>FYI, this is in fact not the standard way to import the standard library but the &quot;dialect&quot; of msvc. The only uniform way adopted is <code>import std</code> in C++23.</p>\\n'"
      ]
     },
     "metadata": {},
     "output_type": "display_data"
    },
    {
     "data": {
      "text/plain": [
       "'A:'"
      ]
     },
     "metadata": {},
     "output_type": "display_data"
    },
    {
     "data": {
      "text/plain": [
       "'<p>These are 2 different things:</p>\\n<ol>\\n<li><strong>Duplicates in sys_file</strong> (database table) where the uid is different but identifier and storage are the same. This is an inconsistency and should not normally happen. It might have occurred due to unproper handling of files or previous bugs. This should be fixed ASAP.</li>\\n<li>Duplicates where the <strong>file content is the same</strong>, but path different. Ideally, this should not happen but it is not so easy to fix: The files may be in different locations in the file system where some editors may have permission to one, but not the other. It makes sense to clean it up, if possible. But this must not always be a problem in itself.</li>\\n</ol>\\n<hr />\\n<p>For both situations one should be very careful not to make the situation worse. In general, follow these recommendations to prevent problems and inconsistencies with files in TYPO3:</p>\\n<ul>\\n<li>Ideally use only TYPO3 functionality when handling files, do not just add, rename or remove them directly on the filesystem (unless you know what you are doing). The reason is that there is an entry in the DB sys_file for every file and this should be updated if files are changed. This happens automatically if you use TYPO3 functionality.</li>\\n<li>before removing files and / or sys_file entries, check if there are references to this file</li>\\n</ul>\\n<h2>1a. Check for sys_file duplicates</h2>\\n<ul>\\n<li>make sure you check for storage as well. Even if you have only one storage (fileadmin), an additional system storage (storage=0) may exist for files which are handled by TYPO3 but are not in fileadmin</li>\\n<li>remember that DB queries are usually case insensitive</li>\\n</ul>\\n<p>query 1:</p>\\n<pre><code>SELECT storage,MAX(identifier),COUNT(*) \\n  FROM sys_file\\n    GROUP BY md5(identifier),storage \\n    HAVING COUNT(*) &gt; 1 \\n  ORDER BY storage,MAX(identifier);\\n</code></pre>\\n<p>Alternative (should work as well, if identifier_hash is correct. Since there are already inconsistencies, it seams a good idea not to just rely on this, but make sure):</p>\\n<p>query 2:</p>\\n<pre><code>SELECT storage,identifier,count(*) AS c \\n  FROM sys_file \\n  GROUP BY identifier,storage,identifier_hash \\n  HAVING count(*) &gt; 1\\n  ORDER BY storage,identifier;\\n</code></pre>\\n<p>If query 1 and 2 return different number of results, there are reasons to believe <code>indentifier_hash</code> is not always correct and this should be fixed as well.</p>\\n<h2>1b. Fix the sys_file duplicates</h2>\\n<p>There is an extension <code>elementareteilchen/unduplicator</code>, but please look at my <a href=\"https://github.com/ElementareTeilchen/unduplicator/issues/2\" rel=\"nofollow noreferrer\">issue</a> first and carefully check if this will work on your system:</p>\\n<ul>\\n<li><a href=\"https://github.com/ElementareTeilchen/unduplicator\" rel=\"nofollow noreferrer\">https://github.com/ElementareTeilchen/unduplicator</a></li>\\n</ul>\\n<h2>2. Fix content duplicates</h2>\\n<p>In the comments, someone suggested <a href=\"https://github.com/fabarea/media\" rel=\"nofollow noreferrer\">https://github.com/fabarea/media</a>.\\nI do not have any experience with this.</p>\\n<p>Important is to fix the sys_file duplicates (if there are any) first (or change the DB query so that entries with different uid, but same storage and identifier are not considered).</p>\\n<p>A possible approach might be:</p>\\n<p>You can search for content duplicates by searching for entries with different uid but same hash <code>sys_file.sha1</code>:</p>\\n<pre><code>SELECT f1.uid,f2.uid,f1.sha1,f2.sha1,f1.storage,f1.identifier,f2.storage,f2.identifier\\n  FROM sys_file f1 \\n    INNER JOIN sys_file f2 \\n      ON f1.sha1=f2.sha1\\n  WHERE f1.uid != f2.uid\\n     and BINARY f1.identifier != BINARY f2.identifier;\\n</code></pre>\\n<p>A safe solution which is relatively easy to implement is to only remove the duplicates which have no references. Use TYPO3 functionality to get the references.</p>\\n'"
      ]
     },
     "metadata": {},
     "output_type": "display_data"
    },
    {
     "data": {
      "text/plain": [
       "'A:'"
      ]
     },
     "metadata": {},
     "output_type": "display_data"
    },
    {
     "data": {
      "text/plain": [
       "'<p>Check the following:</p>\\n<p>You need to do <code>az login</code>\\nLogin with the credentials and</p>\\n<p>Set subscription  for the tenant B</p>\\n<pre><code>az account set --subscription &lt;desiredSubscriptionId&gt;\\n</code></pre>\\n<p><a href=\"https://i.stack.imgur.com/z5Eez.png\" rel=\"nofollow noreferrer\"><img src=\"https://i.stack.imgur.com/z5Eez.png\" alt=\"enter image description here\" /></a></p>\\n<p>You can give <code>az login --allow-no-subscriptions</code> gives tenant level access.</p>\\n<p>Since you are using a service principal to authenticate with tenantB, make sure the service principal has the necessary permissions in tenant B to access the subscription. Assign  the service principal the &quot;Contributor&quot; role or higher tenantB subscription.</p>\\n<p>Additionally check the  subscription ID is correct in the Terraform code.</p>\\n<p>Without subscription being correctly given you will be facing subscription errors.</p>\\n<pre><code>Status=404 Code=&quot;SubscriptionNotFound&quot; Message=&quot;The subscription \\'fx0\\' could not be found.&quot;xx\\n</code></pre>\\n<p><a href=\"https://i.stack.imgur.com/j9NJr.png\" rel=\"nofollow noreferrer\"><img src=\"https://i.stack.imgur.com/j9NJr.png\" alt=\"enter image description here\" /></a></p>\\n<p>With wrong tenant  you may face errors as :Error building ARM Config: please ensure you have installed Azure CLI version</p>\\n<p>In that case run the below command to set correct tenant where proper permissions like contributor are given .</p>\\n<pre><code>az login --tenant TENANT_ID\\n</code></pre>\\n<p>Assin contributor role using terraform .</p>\\n<pre><code>resource &quot;azurerm_role_assignment&quot; &quot;example&quot; {\\n  scope              = &quot;/subscriptions/${var.tenantB_subscription_id}&quot;\\n  role_definition_id = &quot;/subscriptions/${var.tenantB_subscription_id}/providers/Microsoft.Authorization/roleDefinitions/${var.role_definition_id}&quot;   or // azurerm_role_definition.Contributor.id\\n  principal_id       = var.tenantA_service_principal_id\\n}\\n</code></pre>\\n<p>or you can do it through Azure cli</p>\\n<pre><code>az role assignment create --assignee-object-id &lt;ServiceprincipleObjectId&gt; --assignee-principal-type ServicePrincipal --role Reader --scope /subscriptions/subscrptionIdoFtenantB/resourceGroups/MyResourceGroup --name &lt;Idofrole&gt;\\n</code></pre>\\n<p><a href=\"https://i.stack.imgur.com/XEUpV.png\" rel=\"nofollow noreferrer\"><img src=\"https://i.stack.imgur.com/XEUpV.png\" alt=\"enter image description here\" /></a></p>\\n<p>Then try to run <strong><code>terraform init</code></strong> &gt; <code>terraform plan</code> or <code>terraform apply</code></p>\\n'"
      ]
     },
     "metadata": {},
     "output_type": "display_data"
    },
    {
     "data": {
      "text/plain": [
       "'A:'"
      ]
     },
     "metadata": {},
     "output_type": "display_data"
    },
    {
     "data": {
      "text/plain": [
       "'<p>A more holistic answer.</p>\\n<ul>\\n<li>In Android: If [androidSdkInt] &lt;= 33 (Android Version &lt;= 12) it is auto-granted, for Android Verion &gt;12 handle it the same way as above answer says</li>\\n<li>In iOS: Same as the above answer</li>\\n</ul>\\n'"
      ]
     },
     "metadata": {},
     "output_type": "display_data"
    },
    {
     "data": {
      "text/plain": [
       "'A:'"
      ]
     },
     "metadata": {},
     "output_type": "display_data"
    },
    {
     "data": {
      "text/plain": [
       "'<p>It turns out, that the approach using the expression handler doesn\\'t make sense, as the <code>@RoleAllowed</code>-annotations are checked using <code>ViewAccessChecker</code>. As this class uses <code>HttpServletRequest#isUserInRole(...)</code> to check the roles, an approach is to make use of an <code>RoleHierarchyAuthoritiesMapper</code> in the corresponding <code>AuthenticationProvider</code> or in your <code>LdapAuthoritiesPopulator</code>.</p>\\n<pre class=\"lang-java prettyprint-override\"><code>@Bean\\n@Conditional(DummyUserCondition.class)\\npublic DaoAuthenticationProvider dummyUserAuthenticationProvider(\\n        InMemoryUserDetailsManager dummyUserDetailsService, RoleHierarchy roleHierarchy) {\\n    var provider = new DaoAuthenticationProvider();\\n    provider.setUserDetailsService(dummyUserDetailsService);\\n    provider.setAuthoritiesMapper(new RoleHierarchyAuthoritiesMapper(roleHierarchy));\\n    return provider;\\n}\\n</code></pre>\\n<p>see <a href=\"https://github.com/vaadin/flow/issues/16621#issuecomment-1514625986\" rel=\"nofollow noreferrer\">https://github.com/vaadin/flow/issues/16621#issuecomment-1514625986</a></p>\\n'"
      ]
     },
     "metadata": {},
     "output_type": "display_data"
    },
    {
     "data": {
      "text/plain": [
       "'A:'"
      ]
     },
     "metadata": {},
     "output_type": "display_data"
    },
    {
     "data": {
      "text/plain": [
       "'<p>The best way to include a <a href=\"https://itsfalconb.blogspot.com/2023/04/best-gaming-keyboards-in-2023-to.html\" rel=\"nofollow noreferrer\">keyboard</a> in a game depends on the type of game and the desired user experience. Here are some general tips to consider:</p>\\n<p>Provide customizable key bindings: Allowing players to customize the keyboard bindings can help them tailor the controls to their preferences and improve their gameplay experience.</p>\\n<p>Use intuitive keys: Use standard and intuitive keys that are easy to remember and identify. Avoid using obscure keys that may be unfamiliar to players or require excessive finger stretching.</p>\\n<p>Provide visual feedback: Provide visual feedback when keys are pressed to help players understand the game\\'s input and make sure their commands are recognized.</p>\\n<p>Support multiple keyboard layouts: Make sure the game can support multiple keyboard layouts for players from different regions.</p>\\n<p>Test the keyboard integration: Test the keyboard integration thoroughly to make sure it is responsive, accurate, and reliable. Consider conducting usability tests with players to get feedback and improve the integration. <a href=\"https://itsfalconb.blogspot.com/\" rel=\"nofollow noreferrer\">link</a></p>\\n'"
      ]
     },
     "metadata": {},
     "output_type": "display_data"
    },
    {
     "data": {
      "text/plain": [
       "'A:'"
      ]
     },
     "metadata": {},
     "output_type": "display_data"
    },
    {
     "data": {
      "text/plain": [
       "'<p>Shown in the example below two cases, in <code>v-for</code> and through a function <code>:ref</code>(if you need to combine elements without a loop):</p>\\n<p><a href=\"https://play.vuejs.org/#eNqNj7FugzAQhl/l5CUgURCwpYDUB+jSNc4QpUexZGzLNizI795zEiCVOmSxdP7u++9uYR/G5POE7Mgad7XCeHDoJ9NxJUajrYcFLPYZaPWpJ+XxGwL0Vo9wIOvwzhUAV1etnAcp6GnhVGZQZVCfCe7gC3tHkLKS0zkltEIvvET3D94mJkkKbQdLnBUdLTGX+idZY/P5IieM0l++J+8dIY3RTXG/la6kwuNo5MUjVQDNUML81mvbciaIgFC3/TmLy9HnOpWzblng1hJCUwzlQ7dbzPEuoIzbPy1jJjckKFNKKJ/E6hWhIqF6CPUrQk1CTUJTbGey8AsFCahz\" rel=\"nofollow noreferrer\">Vue SFC Playground</a></p>\\n<p>Docs: <a href=\"https://vuejs.org/guide/essentials/template-refs.html#refs-inside-v-for\" rel=\"nofollow noreferrer\"><code>Refs inside v-for</code></a> and <a href=\"https://vuejs.org/guide/essentials/template-refs.html#function-refs\" rel=\"nofollow noreferrer\"><code>Function Refs</code></a>.</p>\\n<pre><code>&lt;script setup&gt;\\nimport { ref, onMounted } from \\'vue\\';\\n  \\nconst list = [1, 2, 3];\\nconst listRefs = ref([]);\\n\\nconst titlesRefs = ref([]);\\n\\nonMounted(() =&gt; {\\n  console.log(listRefs.value);\\n  console.log(titlesRefs.value);\\n})\\n\\n&lt;/script&gt;\\n\\n&lt;template&gt;\\n  &lt;h1 v-for=&quot;item in list&quot; ref=&quot;listRefs&quot;&gt;{{ item }}&lt;/h1&gt;\\n  &lt;hr&gt;\\n  &lt;h1 :ref=&quot;el =&gt; titlesRefs.push(el)&quot;&gt;1&lt;/h1&gt;\\n  &lt;h2 :ref=&quot;el =&gt; titlesRefs.push(el)&quot;&gt;2&lt;/h2&gt;\\n  &lt;h3 :ref=&quot;el =&gt; titlesRefs.push(el)&quot;&gt;3&lt;/h3&gt;\\n&lt;/template&gt;\\n</code></pre>\\n'"
      ]
     },
     "metadata": {},
     "output_type": "display_data"
    },
    {
     "data": {
      "text/plain": [
       "'A:'"
      ]
     },
     "metadata": {},
     "output_type": "display_data"
    },
    {
     "data": {
      "text/plain": [
       "'<p>For those who come here with the similar issue received during sonarqube task:</p>\\n<pre><code>Unable to find method \\'\\'java.io.File org.gradle.api.tasks.testing.JUnitXmlReport.getDestination()\\'\\'\\n\\'java.io.Fileorg.gradle.api.tasks.testing.JUnitXmlReport.getDestination()\\'\\n</code></pre>\\n<p>In my case the root cause was in versions incompatibility (between gradle and sonarqube).</p>\\n<p>I upgraded gradle version to 8.0.2 and the error has been thrown. After reading documentation I found out that for gradle 8.0.x versions there is a new compatible sonarqube version. After upgrding the sonarqube version to <code>4.0.0.2929</code> it started working properly again.</p>\\n<p>You can find more information here:</p>\\n<ul>\\n<li><a href=\"https://github.com/SonarSource/sonar-scanner-gradle/releases/tag/4.0\" rel=\"nofollow noreferrer\">Small release note in GitHub</a></li>\\n<li><a href=\"https://sonarsource.atlassian.net/browse/SONARGRADL-108?jql=project%20%3D%2010137%20AND%20fixVersion%20%3D%2014039\" rel=\"nofollow noreferrer\">Release notes in Jira</a></li>\\n</ul>\\n'"
      ]
     },
     "metadata": {},
     "output_type": "display_data"
    },
    {
     "data": {
      "text/plain": [
       "'A:'"
      ]
     },
     "metadata": {},
     "output_type": "display_data"
    },
    {
     "data": {
      "text/plain": [
       "'<p>The reason why you\\'re seeing those errors is because there\\'s no such overload accepting a <a href=\"https://www.jooq.org/javadoc/latest/org.jooq/org/jooq/QuantifiedSelect.html\" rel=\"nofollow noreferrer\"><code>QuantifiedSelect</code></a> with the <a href=\"https://www.jooq.org/javadoc/latest/org.jooq/org/jooq/Field.html#likeIgnoreCase(org.jooq.Field)\" rel=\"nofollow noreferrer\"><code>likeIgnoreCase()</code></a> predicate. I\\'ve added a feature request for this:\\n<a href=\"https://github.com/jOOQ/jOOQ/issues/14958\" rel=\"nofollow noreferrer\">#14958</a></p>\\n<p>You can easily emulate it yourself:</p>\\n<pre class=\"lang-kotlin prettyprint-override\"><code>private fun Condition.andProjectIn(projects: Collection&lt;String&gt;): Condition = \\n    when {\\n        projects.isNotEmpty() -&gt; this.and(DSL.or(\\n            projects.map { p -&gt; FOO.PROJECT_NAME.likeIgnoreCase(p) }.toList()\\n        ))\\n        else -&gt; this\\n    }\\n</code></pre>\\n'"
      ]
     },
     "metadata": {},
     "output_type": "display_data"
    },
    {
     "data": {
      "text/plain": [
       "'A:'"
      ]
     },
     "metadata": {},
     "output_type": "display_data"
    },
    {
     "data": {
      "text/plain": [
       "\"<p>Tried to print your dataframe at <code>monthly</code> intervals, all data on the first day. Perhaps the market is still closed and this is the reason ..? True, if you look at the daily data, then the <code>first day</code> in January is the <code>second number</code>.</p>\\n<p>I can suggest taking daily data and <code>grouping</code> them by <code>year, month</code> and using <code>aggregate('first')</code> to take the first value.</p>\\n<pre><code>import pandas as pd\\nimport yfinance as yf\\nfrom pandas_datareader import data as wb\\n\\n\\nyf.pdr_override()\\n\\ndf = wb.get_data_yahoo('^BVSP',\\n                       start='2019-10-03',\\n                       end='2020-05-01',\\n                       interval='1d')['Adj Close']\\n\\ndf = df.reset_index()\\ndf = df.groupby([df['Date'].dt.year, df['Date'].dt.month]).aggregate('first')\\ndf = df.set_index('Date')\\n</code></pre>\\n\""
      ]
     },
     "metadata": {},
     "output_type": "display_data"
    },
    {
     "data": {
      "text/plain": [
       "'A:'"
      ]
     },
     "metadata": {},
     "output_type": "display_data"
    },
    {
     "data": {
      "text/plain": [
       "\"<p>I have concerns about your code, but here's a bit of syntatic sugar that I think handles your immediate problem.  Note that in Java a &quot;pointer&quot; is often just a SAM -- a class with a Single Abstract Method.  In this case I just used Runnable for the SAM.</p>\\n<pre><code>public class RunnableLooper implements Runnable {\\n   \\n   private State someState;\\n   private Runnable runMe;\\n\\n   public RunnableLooper( State someState, Runnable runMe ) {\\n      this.someState = someState;\\n      this.runMe = runMe;\\n   }\\n   \\n   @Override\\n   public void run() {\\n      // stuff\\n      runMe.run();\\n      // etc.\\n   }\\n   \\n   public static void main( String[] args ) {\\n      State menu = new MenuState();\\n      State.setState(menu);\\n      State.getState().init();\\n\\n      RunnableLooper runLoopA = new RunnableLooper( menu, menu::tick );\\n      RunnableLooper runLoopB = new RunnableLooper( menu, menu::render );\\n      \\n      Thread t1 = new Thread( runLoopA );\\n      t1.start();\\n      Thread t2 = new Thread( runLoopB );\\n      t2.start();\\n   }\\n}\\n\\nclass State {\\n   public void tick(){}\\n   public void render(){}\\n}\\n</code></pre>\\n<p>If you have an older version of Java that doesn't support method references (<code>state::render</code>), then you'll have to manually make a pair of anonymous classes that do the same thing.</p>\\n<pre><code>   public static void main( String[] args ) {\\n      State state = new State();\\n      Runnable tick = new Runnable() {\\n         @Override\\n         public void run() {\\n            state.tick();\\n         }\\n      };\\n      Runnable render = new Runnable() {\\n         @Override\\n         public void run() {\\n            state.render();\\n         }\\n      };\\n      RunnableLooper runLoopA = new RunnableLooper( state, tick );\\n      RunnableLooper runLoopB = new RunnableLooper( state, render );\\n</code></pre>\\n\""
      ]
     },
     "metadata": {},
     "output_type": "display_data"
    },
    {
     "data": {
      "text/plain": [
       "'A:'"
      ]
     },
     "metadata": {},
     "output_type": "display_data"
    },
    {
     "data": {
      "text/plain": [
       "'<p>Up front, try each of these:</p>\\n<pre class=\"lang-r prettyprint-override\"><code>dbGetQuery(con, \\'select * from &quot;abc&quot;.&quot;ABC_01&quot;\\')\\ndbGetQuery(con, \\'select * from &quot;ABC&quot;.&quot;ABC_01&quot;\\')\\n</code></pre>\\n<p>My path of exploration:</p>\\n<pre class=\"lang-r prettyprint-override\"><code>DBI::dbExecute(db, &quot;create schema ABC&quot;)\\ndbWriteTable(db, Id(schema=&quot;ABC&quot;,table=&quot;ABC_01&quot;), mtcars, create=TRUE, append=FALSE)\\n# Error: nanodbc/nanodbc.cpp:1691: 3F000: ERROR: schema &quot;ABC&quot; does not exist;\\n# Error while executing the query   RROR: schema &quot;ABC&quot; does not exist;\\n# Error while executing the query \\ndbWriteTable(db, Id(schema=&quot;abc&quot;,table=&quot;ABC_01&quot;), mtcars, create=TRUE, append=FALSE)\\n### (no error)\\ndbGetQuery(db, &quot;select distinct table_schema, table_name from information_schema.columns where table_name ilike \\'%abc%\\'&quot;)\\n#   table_schema table_name\\n# 1          abc     ABC_01\\n</code></pre>\\n<p>First hint: often databases disregard the case when we are not explicit about it. In this case, while I <em>think</em> I created schema <code>ABC</code>, postgres silently downcased it.</p>\\n<p>From there,</p>\\n<pre class=\"lang-r prettyprint-override\"><code>dbGetQuery(db, &quot;select * from ABC_01 limit 2&quot;)\\n# Error: nanodbc/nanodbc.cpp:1752: 42P01: ERROR: relation &quot;abc_01&quot; does not exist;\\n# Error while preparing parameters   RROR: relation &quot;abc_01&quot; does not exist;\\n# Error while preparing parameters \\n# &lt;SQL&gt; \\'select * from ABC_01 limit 2\\'\\ndbGetQuery(db, \\'select * from ABC.ABC_01 limit 2\\')\\n# Error: nanodbc/nanodbc.cpp:1752: 42P01: ERROR: relation &quot;abc.abc_01&quot; does not exist;\\n# Error while preparing parameters   RROR: relation &quot;abc.abc_01&quot; does not exist;\\n# Error while preparing parameters \\n# &lt;SQL&gt; \\'select * from ABC.ABC_01 limit 2\\'\\ndbGetQuery(db, \\'select * from abc.ABC_01 limit 2\\')\\n# Error: nanodbc/nanodbc.cpp:1752: 42P01: ERROR: relation &quot;abc.abc_01&quot; does not exist;\\n# Error while preparing parameters   RROR: relation &quot;abc.abc_01&quot; does not exist;\\n# Error while preparing parameters \\n# &lt;SQL&gt; \\'select * from abc.ABC_01 limit 2\\'\\n\\ndbGetQuery(db, \\'select * from &quot;abc&quot;.&quot;ABC_01&quot; limit 2\\')\\n#       row_names mpg cyl disp  hp drat    wt  qsec vs am gear carb\\n# 1     Mazda RX4  21   6  160 110  3.9 2.620 16.46  0  1    4    4\\n# 2 Mazda RX4 Wag  21   6  160 110  3.9 2.875 17.02  0  1    4    4\\n</code></pre>\\n<p>Further:</p>\\n<pre class=\"lang-r prettyprint-override\"><code>dbExecute(db, \\'drop table &quot;ABC&quot;.&quot;ABC_01&quot;\\')\\ndbExecute(db, \\'drop schema &quot;ABC&quot;\\')\\ndbExecute(db, \\'create schema &quot;ABC&quot;\\')\\ndbWriteTable(db, Id(schema=&quot;ABC&quot;,table=&quot;ABC_01&quot;), mtcars, create=TRUE, append=FALSE)\\ndbGetQuery(db, &quot;select * from ABC.ABC_01 limit 2&quot;)\\n# Error: nanodbc/nanodbc.cpp:1752: 42P01: ERROR: relation &quot;abc.abc_01&quot; does not exist;\\n# Error while preparing parameters   RROR: relation &quot;abc.abc_01&quot; does not exist;\\n# Error while preparing parameters \\n# &lt;SQL&gt; \\'select * from ABC.ABC_01 limit 2\\'\\ndbGetQuery(db, \\'select * from &quot;ABC&quot;.&quot;ABC_01&quot; limit 2\\')\\n#       row_names mpg cyl disp  hp drat    wt  qsec vs am gear carb\\n# 1     Mazda RX4  21   6  160 110  3.9 2.620 16.46  0  1    4    4\\n# 2 Mazda RX4 Wag  21   6  160 110  3.9 2.875 17.02  0  1    4    4\\n\\ndbGetQuery(db, &quot;select distinct table_schema, table_name from information_schema.columns where table_name ilike \\'%abc%\\'&quot;)\\n#   table_schema table_name\\n# 1          ABC     ABC_01\\n</code></pre>\\n'"
      ]
     },
     "metadata": {},
     "output_type": "display_data"
    },
    {
     "data": {
      "text/plain": [
       "'A:'"
      ]
     },
     "metadata": {},
     "output_type": "display_data"
    },
    {
     "data": {
      "text/plain": [
       "'<p>The first code <em>uses</em> the value of <code>k</code>, such that <code>preferences[i][j] == k</code> may not be true; the second <code>assigns</code> <code>k</code> a value (forcing <code>preferences[i][j] == k</code> to be true).</p>\\n'"
      ]
     },
     "metadata": {},
     "output_type": "display_data"
    },
    {
     "data": {
      "text/plain": [
       "'A:'"
      ]
     },
     "metadata": {},
     "output_type": "display_data"
    },
    {
     "data": {
      "text/plain": [
       "'<p>I think you can use <code>GROUP BY</code> functionality here like this:</p>\\n<pre><code> Document.objects.filter(batch__project__completion_date__isnull=True).values(\\'batch__project\\').annotate(doc_count= Count(\\'pk\\')).values(\\'batch__project\\',\\'doc_count\\')\\n</code></pre>\\n<p>More information on <a href=\"https://docs.djangoproject.com/en/4.2/topics/db/aggregation/\" rel=\"nofollow noreferrer\">documentation</a></p>\\n<p>Regarding the performance issue, there is no straight answer on why the performance is slow. Because (at least) the simple annotation makes single DB call, where others make more DB hits. There could be an issue with Database itself, maybe it has indexing issues (which needs debugging). I would recommend looking into this <a href=\"https://docs.djangoproject.com/en/4.1/topics/db/optimization/#don-t-overuse-contains-count-and-exists\" rel=\"nofollow noreferrer\">documentation</a> regarding how to debug and optimize database related issues.</p>\\n'"
      ]
     },
     "metadata": {},
     "output_type": "display_data"
    },
    {
     "data": {
      "text/plain": [
       "'A:'"
      ]
     },
     "metadata": {},
     "output_type": "display_data"
    },
    {
     "data": {
      "text/plain": [
       "'<h1>Nvim with netrwPlugin</h1>\\n<p>The original question relates to <code>vim</code>, but I was searching for the same question for implementing the modern <code>Nvim</code> API for the same request.</p>\\n<h2>Here are the steps that I followed</h2>\\n<ol>\\n<li><p>Ensure that you have already loaded the <code>netrwPlugin</code> (I think some package managers by default, remove this plugin at startup). In my case I used <code>lazy-nvim</code> and I have in the config: <code>disabled_plugins = {&quot;gzip&quot;, &quot;matchit&quot;, &quot;matchparen&quot;, &quot;netrwPlugin&quot;,&quot;tarPlugin&quot;,&quot;tohtml&quot;, &quot;tutor&quot;, &quot;zipPlugin&quot;}</code></p>\\n</li>\\n<li><p>Use the <code>nvim_create_autocmd</code></p>\\n</li>\\n</ol>\\n<pre class=\"lang-lua prettyprint-override\"><code>-- Moder Lua auto-command for launching netrwPlugin which shipped with the nvim\\nlocal mygroup = vim.api.nvim_create_augroup(&quot;loading_netrwPlugin&quot;, {clear = true})\\nvim.api.nvim_create_autocmd({&quot;VimEnter&quot;}, {\\n  pattern = {&quot;*&quot;},\\n  command  = &quot;:silent! Explore&quot;,\\n  group = mygroup\\n})\\n\\n</code></pre>\\n<ol start=\"3\">\\n<li>Put it in your <code>init.lua</code> file.</li>\\n</ol>\\n<p>Or, simply use:</p>\\n<pre class=\"lang-lua prettyprint-override\"><code>vim.cmd([[\\naugroup loading_netrwPlugin\\nautocmd!\\nautocmd VimEnter * :silent! Explore\\naugroup END\\n]])\\n\\n\\n</code></pre>\\n<h2>Correction</h2>\\n<p>When I enter <code>nvim</code>, it should launch the <code>netrwPlugin</code> if I pass a file_name, it should automatically open the filename, the correct code for the above is</p>\\n<pre class=\"lang-lua prettyprint-override\"><code>local mygroup = vim.api.nvim_create_augroup(&quot;loading_netrwPlugin&quot;, {clear = true})\\nvim.api.nvim_create_autocmd({&quot;VimEnter&quot;}, {\\n  pattern = {&quot;*&quot;},\\n  callback = function()\\n    local current_file = vim.fn.expand(&quot;%&quot;)\\n    if current_file ~= &quot;&quot; then\\n      vim.cmd(&quot;:silent! edit &quot; .. current_file)\\n    else\\n      vim.cmd(&quot;:silent! Explore&quot;)\\n    end\\n  end,\\n  group = mygroup\\n})\\n\\n</code></pre>\\n'"
      ]
     },
     "metadata": {},
     "output_type": "display_data"
    },
    {
     "data": {
      "text/plain": [
       "'A:'"
      ]
     },
     "metadata": {},
     "output_type": "display_data"
    },
    {
     "data": {
      "text/plain": [
       "'<p>For anyone running into the same issue, the sticky state can be achieved by implementing <code>RouteReuseStrategy</code>. You can find an exemple <a href=\"https://samerabdelkafi.wordpress.com/2020/12/14/angular-rout-with-sticky-state/\" rel=\"nofollow noreferrer\">here</a>.</p>\\n<p>I thought that this approach would not work with multiple instances of the same component but it actually does. You just need to tweak the implementation a little bit :</p>\\n<ul>\\n<li>Declare <code>this.router.routeReuseStrategy.shouldReuseRoute = () =&gt; false;</code> in the constuctor of your component so a new component is loaded even if the route doesn\\'t change.</li>\\n<li>Stored routes are kept in a map. In the article above, the keys of this map are the different routes. I added my tabId to the key so I can have different entries for the same route/component, depending on the tab I want to access. Exemple below :</li>\\n</ul>\\n<p>CacheRouteReuseStrategy</p>\\n<pre><code>    @Injectable()\\n    export class CacheRouteReuseStrategy implements RouteReuseStrategy {\\n\\n        constructor(private linkService : LinkService) {\\n        }\\n\\n        shouldDetach(route: ActivatedRouteSnapshot): boolean {\\n            return true;\\n        }\\n\\n        store(route: ActivatedRouteSnapshot, handle: DetachedRouteHandle): void {\\n            // If previous route and active route are the same, handle is null.\\n            // In that case, we don\\'t want to update the store (we don\\'t want to set a null object for the route and loose informations)\\n            if (handle != null &amp;&amp; this.linkService.previousLink != null){\\n                this.linkService.storedRoutes.set(route.routeConfig?.path + this.linkService.previousLink.tabId, handle);\\n            }\\n        }\\n\\n        shouldAttach(route: ActivatedRouteSnapshot): boolean {\\n            if (this.linkService.activeLink != null) {\\n                return !!route.routeConfig &amp;&amp; !!this.linkService.storedRoutes.get(&lt;string&gt;route.routeConfig.path + this.linkService.activeLink.tabId);\\n            } else {\\n                return false;\\n            }\\n        }\\n\\n        retrieve(route: ActivatedRouteSnapshot): DetachedRouteHandle {\\n        // @ts-ignore\\n            return this.linkService.storedRoutes.get(route.routeConfig.path + this.linkService.activeLink.tabId);\\n        }\\n\\n        shouldReuseRoute(future: ActivatedRouteSnapshot, curr: ActivatedRouteSnapshot): boolean {\\n            return future.routeConfig === curr.routeConfig;\\n        }\\n\\n    }\\n</code></pre>\\n<p>I have a service called LinkService to keep track of the route I\\'m leaving (<em>previousLink</em>) and the route I\\'m trying to accesss (<em>activeLink</em>). previousLink is the object I want to add to the store when leaving a route and activeLink I want to get from the store when accessing a route.</p>\\n<pre><code>    @Injectable({\\n      providedIn: \\'root\\'\\n    })\\n    export class LinkService {\\n      links: LinkModel[];\\n      activeLink: LinkModel;\\n      previousLink: LinkModel;\\n      storedRoutes = new Map&lt;string, DetachedRouteHandle&gt;();\\n    }\\n    \\n    export interface LinkModel {\\n      route: string,\\n      parameters: string | null,\\n      tabId: string,\\n      tabTitle: string\\n    }\\n</code></pre>\\n<p>These informations are updated by another service called TabService. What it doest is pretty straightforward (create, change et remove tab logic) but I can post it later if anyone needs it.</p>\\n'"
      ]
     },
     "metadata": {},
     "output_type": "display_data"
    },
    {
     "data": {
      "text/plain": [
       "'A:'"
      ]
     },
     "metadata": {},
     "output_type": "display_data"
    },
    {
     "data": {
      "text/plain": [
       "\"<p>Just another variant is using <code>numpy</code> and its <code>count_nonzero</code> method. Since there's no need to separate the data into lines, let's assume it's all in <code>data</code>:</p>\\n<pre><code>import numpy as np\\n# count non-empty strings along axis 0 (the matches for each word)\\ncount = np.count_nonzero(np.array(re.findall(Pattern, data)), 0)\\n</code></pre>\\n\""
      ]
     },
     "metadata": {},
     "output_type": "display_data"
    },
    {
     "data": {
      "text/plain": [
       "'A:'"
      ]
     },
     "metadata": {},
     "output_type": "display_data"
    },
    {
     "data": {
      "text/plain": [
       "\"<p>Try the following and let me know if that's what you were trying to achieve :)</p>\\n<pre><code>&lt;template&gt;\\n  &lt;div&gt;\\n    &lt;h1 ref=&quot;el1&quot;&gt;Element 1&lt;/h1&gt;\\n    &lt;h1 ref=&quot;el2&quot;&gt;Element 2&lt;/h1&gt;\\n    &lt;h1 ref=&quot;el3&quot;&gt;Element 3&lt;/h1&gt;\\n  &lt;/div&gt;\\n&lt;/template&gt;\\n\\n&lt;script setup&gt;\\nimport { reactive, toRefs, ref } from 'vue';\\n\\nconst state = reactive({\\n  el1: ref(),\\n  el2: ref(),\\n  el3: ref(),\\n});\\n\\nconst { el1, el2, el3 } = toRefs(state);\\n\\nconsole.log(el1, el2, el3);\\n// ObjectRefImpl\\xa0{_object: Proxy(Object), _key: 'el1', _defaultValue: undefined, __v_isRef: true}\\n// ObjectRefImpl\\xa0{_object: Proxy(Object), _key: 'el2', _defaultValue: undefined, __v_isRef: true}\\n// ObjectRefImpl\\xa0{_object: Proxy(Object), _key: 'el3', _defaultValue: undefined, __v_isRef: true}\\n&lt;/script&gt;\\n</code></pre>\\n\""
      ]
     },
     "metadata": {},
     "output_type": "display_data"
    },
    {
     "data": {
      "text/plain": [
       "'A:'"
      ]
     },
     "metadata": {},
     "output_type": "display_data"
    },
    {
     "data": {
      "text/plain": [
       "'<p>If you store <code>Address</code> in varchar field in the form of <code>city:zipCode</code> (example: <code>Delhi:110001</code>) then the following solution may help.</p>\\n<pre><code>CriteriaQuery&lt;Employee&gt; query = criteriaBuilder.createQuery(Employee.class);\\nRoot&lt;Employee&gt; employee = query.from(Employee.class);\\nquery.select(employee).where(\\n    criteriaBuilder.or(\\n        criteriaBuilder.like(employee.get(&quot;address&quot;).as(String.class), &quot;Delhi:%&quot;),\\n        criteriaBuilder.like(employee.get(&quot;address&quot;).as(String.class), &quot;Mumbai:%&quot;)\\n    )\\n);\\n</code></pre>\\n<p>Note: the main idea here is that you should represent <code>address</code> field as plain string when building criteria.</p>\\n'"
      ]
     },
     "metadata": {},
     "output_type": "display_data"
    },
    {
     "data": {
      "text/plain": [
       "'A:'"
      ]
     },
     "metadata": {},
     "output_type": "display_data"
    },
    {
     "data": {
      "text/plain": [
       "'<p>The issue seems to be solved, but I encountered the same error and in my case the problem was the <code>$incrementing</code> property of the model, which in case of a model that extends Pivot class is set to <code>false</code>.\\nSetting it to <code>true</code> solved my issue.</p>\\n<p>For reference: <a href=\"https://stackoverflow.com/q/76042186/9338657\">Laravel sync with database transactions</a></p>\\n'"
      ]
     },
     "metadata": {},
     "output_type": "display_data"
    },
    {
     "data": {
      "text/plain": [
       "'A:'"
      ]
     },
     "metadata": {},
     "output_type": "display_data"
    },
    {
     "data": {
      "text/plain": [
       "'<p>The following does the job and looks like this:</p>\\n<p><a href=\"https://i.stack.imgur.com/OsMbo.png\" rel=\"nofollow noreferrer\"><img src=\"https://i.stack.imgur.com/OsMbo.png\" alt=\"enter image description here\" /></a></p>\\n<pre class=\"lang-py prettyprint-override\"><code>import matplotlib.pyplot as plt\\nimport numpy as np\\nfrom ipywidgets import interact, FloatSlider\\n\\ndef f(x):\\n    return np.sin(x)\\n\\ndef plot_epsilon_delta(epsilon, delta):\\n    # Define the limit point L\\n    L = 0\\n\\n    # Define the range of x values and the point c\\n    xmin, xmax = -5, 5\\n    c = 0\\n\\n    # Create the plot\\n    fig, ax = plt.subplots(figsize=(8, 6))\\n\\n    # Plot the function and the limit point\\n    x = np.linspace(xmin, xmax, 1000)\\n    y = f(x)\\n    ax.plot(x, y, label=\\'f(x)\\')\\n    ax.axhline(L, color=\\'k\\', linestyle=\\'--\\', label=\\'Limit L\\')\\n\\n    # Plot the horizontal lines at L +/- epsilon\\n    ax.axhline(L + epsilon, color=\\'r\\', linestyle=\\'--\\', label=\\'L + epsilon\\')\\n    ax.axhline(L - epsilon, color=\\'r\\', linestyle=\\'--\\', label=\\'L - epsilon\\')\\n\\n    # Plot the vertical line at c\\n    ax.axvline(c, color=\\'g\\', linestyle=\\'--\\', label=\\'x approaches c\\')\\n\\n    # Plot the buffer zone around c\\n    ax.axvline(c + delta, color=\\'b\\', linestyle=\\'--\\', label=\\'c + delta\\')\\n    ax.axvline(c - delta, color=\\'b\\', linestyle=\\'--\\', label=\\'c - delta\\')\\n\\n    # Plot the region where |f(x) - L| &lt; epsilon\\n    x_region = np.linspace(c - delta, c + delta, 100)\\n    y_region = f(x_region)\\n    ax.fill_between(x_region, L - epsilon, L + epsilon, where=np.abs(y_region - L) &lt; epsilon, alpha=0.3, color=\\'gray\\', label=\\'|f(x) - L| &lt; epsilon\\')\\n\\n    # Set the plot title and axis labels\\n    ax.set_title(\\'Epsilon-Delta Criterion\\')\\n    ax.set_xlabel(\\'x\\')\\n    ax.set_ylabel(\\'f(x)\\')\\n\\n    # Add a legend to the plot\\n    ax.legend()\\n\\n    plt.show()\\n\\n# Create sliders for epsilon and delta\\nepsilon_slider = FloatSlider(min=0.1, max=1.0, step=0.1, value=0.5, description=\\'Epsilon:\\')\\ndelta_slider = FloatSlider(min=0.1, max=1.0, step=0.1, value=0.5, description=\\'Delta:\\')\\n\\n# Create the interactive plot\\ninteract(plot_epsilon_delta, epsilon=epsilon_slider, delta=delta_slider)\\n</code></pre>\\n'"
      ]
     },
     "metadata": {},
     "output_type": "display_data"
    },
    {
     "data": {
      "text/plain": [
       "'A:'"
      ]
     },
     "metadata": {},
     "output_type": "display_data"
    },
    {
     "data": {
      "text/plain": [
       "'<p>There still seem to be a lot of people having trouble getting bootstrap 5 to run in Nuxt 3 so first of as reference here is a starter project that has it all running:</p>\\n<p><a href=\"https://github.com/maxvanweenen/Nuxt-3-bootstrap-5-starter\" rel=\"nofollow noreferrer\">https://github.com/maxvanweenen/Nuxt-3-bootstrap-5-starter</a></p>\\n<p>Most people get bootstrap 5 css to work, but not the JS. The most important step to get this working is including both bootstrap and Popper in your installation:</p>\\n<pre><code>npm i --save bootstrap @popperjs/core\\n</code></pre>\\n<p>and then registering it as a plugin by making a \\'plugins\\' directory in the root of your project and adding a file like \\'useBootstrap.client.ts\\' (the \\'client\\' part will tell Nuxt to not use this on the server side).</p>\\n<pre><code>// useBootstrap.client.ts    \\nimport * as bootstrap from \\'bootstrap\\'\\n\\nexport default defineNuxtPlugin(() =&gt; {\\n    return {\\n        provide: {\\n            bootstrap: bootstrap\\n        }\\n    }\\n})\\n</code></pre>\\n<p>Now you only need to add the css to the nuxt config:</p>\\n<pre><code>export default defineNuxtConfig({\\ncss: [\\n    \\'~/assets/scss/main.scss\\'\\n]\\n</code></pre>\\n<p>})</p>\\n<p>And create a main.scss within assets/scss.</p>\\n<p>Some extra important information:</p>\\n<p>Installation of fibers is not mentioned in bootstrap documentation but synchronous compilation with sass (2x speed increase) is enabled automatically when fibers is installed. so it is recommended to run:</p>\\n<pre><code>npm install fibers\\n</code></pre>\\n<p>Also if you want to customise or add theme colors in this setup you will do that like this:</p>\\n<pre><code>// set theme colors\\n$primary: #ce2127;\\n$dark: #212121;\\n$theme1: #33a8d1;\\n\\n// add custom colors to the bootstrap theme\\n$custom-theme-colors: (\\n        &quot;theme1&quot;: $theme1,\\n        &quot;white&quot;: $white\\n);\\n\\n// fix for bootstrap transposing colors\\n$theme-colors: map-merge($theme-colors, $custom-theme-colors);\\n$theme-colors-rgb: map-loop($theme-colors, to-rgb, &quot;$value&quot;);\\n</code></pre>\\n<p>If anybody has still any trouble getting it to run after this let me know!</p>\\n'"
      ]
     },
     "metadata": {},
     "output_type": "display_data"
    },
    {
     "data": {
      "text/plain": [
       "'A:'"
      ]
     },
     "metadata": {},
     "output_type": "display_data"
    },
    {
     "data": {
      "text/plain": [
       "'<p>This absolutely works, but only when appending a required asterisk on the path, as per our docs - <a href=\"https://learn.microsoft.com/en-us/powershell/module/microsoft.powershell.management/get-childitem?view=powershell-7.3#example-4-get-child-items-using-the-include-parameter\" rel=\"nofollow noreferrer\">https://learn.microsoft.com/en-us/powershell/module/microsoft.powershell.management/get-childitem?view=powershell-7.3#example-4-get-child-items-using-the-include-parameter</a></p>\\n<pre><code>Foreach($file in (Get-ChildItem -path &quot;$TmpDirectory\\\\Icons\\\\*&quot; -Include &quot;*.ico&quot;,&quot;*.msc&quot;)) {Move-Item $file &quot;C:\\\\Windows\\\\System32\\\\&quot;}\\n</code></pre>\\n'"
      ]
     },
     "metadata": {},
     "output_type": "display_data"
    },
    {
     "data": {
      "text/plain": [
       "'A:'"
      ]
     },
     "metadata": {},
     "output_type": "display_data"
    },
    {
     "data": {
      "text/plain": [
       "'<p>I encounter the same issue. Anyone that found a solution?</p>\\n'"
      ]
     },
     "metadata": {},
     "output_type": "display_data"
    },
    {
     "data": {
      "text/plain": [
       "'A:'"
      ]
     },
     "metadata": {},
     "output_type": "display_data"
    },
    {
     "data": {
      "text/plain": [
       "'<h2>Bash 4.2+</h2>\\n<pre class=\"lang-bash prettyprint-override\"><code>if [[ -v $MY_VARIABLE ]]; then\\n    echo &quot;MY_VARIABLE is set&quot;\\nfi\\n</code></pre>\\n<h2>Older Versions(MacOS)</h2>\\n<pre class=\"lang-bash prettyprint-override\"><code>if [[ -n ${MY_VARIABLE+set} ]]; then\\n    echo &quot;MY_VARIABLE is set&quot;\\nelse\\n</code></pre>\\n'"
      ]
     },
     "metadata": {},
     "output_type": "display_data"
    },
    {
     "data": {
      "text/plain": [
       "'A:'"
      ]
     },
     "metadata": {},
     "output_type": "display_data"
    },
    {
     "data": {
      "text/plain": [
       "'<p>After thoroughly debugging and analyzing the code, I discovered that the Like Button was functioning smoothly when I commented out the line <code>notifyListeners()</code> in the <code>toggleFavorite()</code> method.</p>\\n<p>However, when I uncommented <code>notifyListeners()</code> in the <code>toggleFavorite()</code> method, it triggered a rebuild of the UI by notifying the listeners of the state change, which should reflect the updated state of the favorites list. This behaviour somehow affected the like-button action.</p>\\n<p>Further investigation revealed that the issue was with the <code>onLikeButtonTapped()</code> method, which was initially defined inside the <code>MyAppState</code> class, a subclass of <code>ChangeNotifier</code>. Moving the <code>onLikeButtonTapped()</code> method outside the <code>MyAppState</code> class and defined inside its widget class resolved the problem.</p>\\n<p>It is important to carefully review the placement and accessibility of methods when working with ChangeNotifier and notifyListeners() in Flutter apps. By identifying the root cause and luck, I was able to resolve the issue.</p>\\n'"
      ]
     },
     "metadata": {},
     "output_type": "display_data"
    },
    {
     "data": {
      "text/plain": [
       "'A:'"
      ]
     },
     "metadata": {},
     "output_type": "display_data"
    },
    {
     "data": {
      "text/plain": [
       "\"<p>Just state the relationship you want to retrive as parameter on the load method,</p>\\n<pre><code> $invoice = $this-&gt;find($id);\\n $userId = Auth::user()-&gt;id; // $userId = 2\\n $request = array_merge($request, ['user_updated_id' =&gt; $userId]);\\n $invoice-&gt;fill($request);\\n $invoice-&gt;save();\\n $invoice-&gt;load('userUpdated');//this relation ship\\n</code></pre>\\n<p>you can even call nested relationships, for example if you want a user and his contacts, provided inside user model you stated the relationship with contacts\\nyou can do as below</p>\\n<pre><code>$invoice-&gt;load('user.contact'); //and this was just an example\\n</code></pre>\\n\""
      ]
     },
     "metadata": {},
     "output_type": "display_data"
    },
    {
     "data": {
      "text/plain": [
       "'A:'"
      ]
     },
     "metadata": {},
     "output_type": "display_data"
    },
    {
     "data": {
      "text/plain": [
       "'<p>There should be an &quot;annotate&quot; option when you press a gear icon upon invoking the refactoring:</p>\\n<p><a href=\"https://i.stack.imgur.com/RibfQ.png\" rel=\"nofollow noreferrer\"><img src=\"https://i.stack.imgur.com/RibfQ.png\" alt=\"enter image description here\" /></a></p>\\n<p>Note that this option should appear only when possible, meaning any sufficient library should be present in the project and set in the Nullability settings for generation.</p>\\n<p>But it seems to be not present at least in <a href=\"https://youtrack.jetbrains.com/issue/IDEA-318385\" rel=\"nofollow noreferrer\">one case</a>.\\nYou can attach your sample project in the comments of this bug if it doesn\\'t cover your case.</p>\\n'"
      ]
     },
     "metadata": {},
     "output_type": "display_data"
    },
    {
     "data": {
      "text/plain": [
       "'A:'"
      ]
     },
     "metadata": {},
     "output_type": "display_data"
    },
    {
     "data": {
      "text/plain": [
       "'<p>If the company network is outside AWS cloud besides making the load balancer private by setting up the scheme property to &quot;internal&quot;, you will need to set up a vpn between you company network and the AWS VPC + subnetwork where the jenkins EC2 instance is located.</p>\\n<p><a href=\"https://docs.aws.amazon.com/elasticloadbalancing/latest/classic/elb-internal-load-balancers.html\" rel=\"nofollow noreferrer\">https://docs.aws.amazon.com/elasticloadbalancing/latest/classic/elb-internal-load-balancers.html</a>\\n<a href=\"https://aws.amazon.com/es/vpn/\" rel=\"nofollow noreferrer\">https://aws.amazon.com/es/vpn/</a></p>\\n'"
      ]
     },
     "metadata": {},
     "output_type": "display_data"
    },
    {
     "data": {
      "text/plain": [
       "'A:'"
      ]
     },
     "metadata": {},
     "output_type": "display_data"
    },
    {
     "data": {
      "text/plain": [
       "'<p>As the error says, you are currently calling a react-three-fiber hook not within the Canvas component. You could wrap your text cube in its own component and call <code>useFrame</code> there:</p>\\n<pre><code>const TextCube = () =&gt; {\\n\\n  const textRef = useRef();\\n\\n  useFrame(\\n    (state) =&gt;\\n      (textRef.current.position.x = Math.sin(state.clock.elapsedTime) * 2)\\n  );\\n\\n  return (\\n        &lt;mesh&gt;\\n          &lt;boxGeometry /&gt;\\n          &lt;meshStandardMaterial&gt;\\n            &lt;RenderTexture attach=&quot;map&quot;&gt;\\n              &lt;PerspectiveCamera makeDefault position={[0, 0, 5]} /&gt;\\n              &lt;color attach=&quot;background&quot; args={[&quot;#dc9dcd&quot;]} /&gt;\\n              &lt;Text ref={textRef} fontSize={3} color=&quot;#555&quot;&gt;\\n                hello\\n              &lt;/Text&gt;\\n            &lt;/RenderTexture&gt;\\n          &lt;/meshStandardMaterial&gt;\\n        &lt;/mesh&gt;\\n  );\\n};\\n</code></pre>\\n<p>Then use it in your Test component like this:</p>\\n<pre><code>const Test = () =&gt; {\\n  return (\\n    &lt;Container&gt;\\n      &lt;Canvas&gt;\\n        &lt;TextCube /&gt;\\n      &lt;/Canvas&gt;\\n    &lt;/Container&gt;\\n  );\\n};\\n</code></pre>\\n<p>This should to the trick!</p>\\n'"
      ]
     },
     "metadata": {},
     "output_type": "display_data"
    },
    {
     "data": {
      "text/plain": [
       "'A:'"
      ]
     },
     "metadata": {},
     "output_type": "display_data"
    },
    {
     "data": {
      "text/plain": [
       "'<p>I only did a quick test, but a custom interceptor (a.k.a. plugin) like the following should do the job.</p>\\n<p>The message is logged only when 1) the log level is DEBUG or finer and 2) the execution time exceeds the value of the constant <code>THRESHOLD_NANOS</code>.</p>\\n<pre class=\"lang-java prettyprint-override\"><code>import java.text.MessageFormat;\\n\\nimport org.apache.ibatis.executor.Executor;\\nimport org.apache.ibatis.logging.Log;\\nimport org.apache.ibatis.logging.LogFactory;\\nimport org.apache.ibatis.mapping.MappedStatement;\\nimport org.apache.ibatis.plugin.Interceptor;\\nimport org.apache.ibatis.plugin.Intercepts;\\nimport org.apache.ibatis.plugin.Invocation;\\nimport org.apache.ibatis.plugin.Signature;\\nimport org.apache.ibatis.session.ResultHandler;\\nimport org.apache.ibatis.session.RowBounds;\\n\\n@Intercepts({\\n  @Signature(\\n      type = Executor.class,\\n      method = &quot;update&quot;,\\n      args = { MappedStatement.class, Object.class }),\\n  @Signature(\\n      type = Executor.class,\\n      method = &quot;query&quot;,\\n      args = { MappedStatement.class, Object.class,\\n        RowBounds.class, ResultHandler.class })\\n})\\npublic class LogExecutionTimeInterceptor implements Interceptor {\\n\\n  private static final Log log = LogFactory.getLog(LogExecutionTimeInterceptor.class);\\n\\n  private static final long THRESHOLD_NANOS = 0L;\\n\\n  @Override\\n  public Object intercept(Invocation invocation) throws Throwable {\\n    long before = System.nanoTime();\\n    Object result = invocation.proceed();\\n    long duration = System.nanoTime() - before;\\n\\n    if (duration &gt; THRESHOLD_NANOS &amp;&amp; log.isDebugEnabled()) {\\n      MappedStatement mappedStatement = (MappedStatement) invocation.getArgs()[0];\\n      log.debug(MessageFormat.format(\\n          &quot;Statement {0} took {1} nano seconds&quot;, mappedStatement.getId(), duration));\\n    }\\n    return result;\\n  }\\n\\n}\\n</code></pre>\\n<p>To register the interceptor...</p>\\n<ol>\\n<li>with XML configuration</li>\\n</ol>\\n<pre class=\"lang-xml prettyprint-override\"><code>&lt;plugins&gt;\\n  &lt;plugin\\n      interceptor=&quot;xxx.yyy.LogExecutionTimeInterceptor&quot; /&gt;\\n&lt;/plugins&gt;\\n</code></pre>\\n<ol start=\"2\">\\n<li>with <a href=\"https://mybatis.org/spring-boot-starter/mybatis-spring-boot-autoconfigure/\" rel=\"nofollow noreferrer\">mybatis-spring-boot-starter</a></li>\\n</ol>\\n<pre class=\"lang-java prettyprint-override\"><code>@Bean\\nInterceptor getLogExecutionTimeInterceptor() {\\n  return new LogExecutionTimeInterceptor();\\n}\\n</code></pre>\\n'"
      ]
     },
     "metadata": {},
     "output_type": "display_data"
    },
    {
     "data": {
      "text/plain": [
       "'A:'"
      ]
     },
     "metadata": {},
     "output_type": "display_data"
    },
    {
     "data": {
      "text/plain": [
       "\"<p>i think the find function is best suited than match to get the correct row</p>\\n<pre><code>Private Sub BTN02_Update_Click()\\n\\nDim sh As Worksheet\\nDim lrowempid As Long, lrowposid As Long\\nDim foundID As Range, empidrng As Range, posidrng As Range\\n\\nIf Me.TB01_EmployeeID = &quot;&quot; Then\\n    MsgBox &quot;Select the record to update.&quot;\\n    Exit Sub\\nEnd If\\n\\nSet sh = ThisWorkbook.Sheets(&quot;Employee Data&quot;)\\nlrowempid = sh.Cells(Rows.Count, &quot;A&quot;).End(xlUp).Row'last row column A\\nlrowposid = sh.Cells(Rows.Count, &quot;E&quot;).End(xlUp).Row'last row column E\\nSet empidrng = sh.Range(&quot;A2:A&quot; &amp; lrowempid)  'edit A2 to A1 if no header\\nSet posidrng = sh.Range(&quot;E2:E&quot; &amp; lrowposid)  'edit E2 to E1 if no header\\n\\nSet foundID = empidrng.Find(Me.TB01_EmployeeID.Value, LookIn:=xlValues)\\nIf foundID Is Nothing Then\\n'edit correct name of position id text box\\n    Set foundID = posidrng.Find(Me.TB04_PostitionID.Value, LookIn:=xlValues)\\nEnd If\\nIf foundID Is Nothing Then\\n    MsgBox &quot;Employee or Position ID not found.&quot;\\n    Exit Sub\\nEnd If\\n    \\nsh.Range(&quot;A&quot; &amp; foundID.Row).Value = Me.TB01_EmployeeID\\nsh.Range(&quot;B&quot; &amp; foundID.Row).Value = Me.TB02_FirstName\\nsh.Range(&quot;C&quot; &amp; foundID.Row).Value = Me.TB03_LastName\\nsh.Range(&quot;D&quot; &amp; foundID.Row).Value = Me.CB01_Postition\\nsh.Range(&quot;E&quot; &amp; foundID.Row).Value = Me.TB04_PostitionID\\nsh.Range(&quot;F&quot; &amp; foundID.Row).Value = Me.TB05_HireDate\\nsh.Range(&quot;G&quot; &amp; foundID.Row).Value = Me.CB02_PayType\\nsh.Range(&quot;H&quot; &amp; foundID.Row).Value = Me.CB03_Status\\nsh.Range(&quot;I&quot; &amp; foundID.Row).Value = Me.CB04_Shift\\nsh.Range(&quot;J&quot; &amp; foundID.Row).Value = Me.CB05_Supervisor\\nsh.Range(&quot;K&quot; &amp; foundID.Row).Value = Me.CB06_Department\\nsh.Range(&quot;L&quot; &amp; foundID.Row).Value = Me.CB07_DepartmentCode\\nsh.Range(&quot;M&quot; &amp; foundID.Row).Value = Me.TB06_Birthday\\nsh.Range(&quot;N&quot; &amp; foundID.Row).Value = Me.CB08_ShirtSize\\nsh.Range(&quot;O&quot; &amp; foundID.Row).Value = Me.CB09_Veteran\\n\\nMe.TB01_EmployeeID.Value = &quot;&quot;\\nMe.TB02_FirstName.Value = &quot;&quot;\\nMe.TB03_LastName.Value = &quot;&quot;\\nMe.CB01_Postition.Value = &quot;&quot;\\nMe.TB04_PostitionID.Value = &quot;&quot;\\nMe.TB05_HireDate.Value = &quot;&quot;\\nMe.CB02_PayType.Value = &quot;&quot;\\nMe.CB03_Status.Value = &quot;&quot;\\nMe.CB04_Shift.Value = &quot;&quot;\\nMe.CB05_Supervisor.Value = &quot;&quot;\\nMe.CB06_Department.Value = &quot;&quot;\\nMe.CB07_DepartmentCode.Value = &quot;&quot;\\nMe.TB06_Birthday.Value = &quot;&quot;\\nMe.CB08_ShirtSize.Value = &quot;&quot;\\nMe.CB09_Veteran.Value = &quot;&quot;\\n\\nMsgBox &quot;Record Updated&quot;\\n</code></pre>\\n<p>End Sub</p>\\n\""
      ]
     },
     "metadata": {},
     "output_type": "display_data"
    },
    {
     "data": {
      "text/plain": [
       "'A:'"
      ]
     },
     "metadata": {},
     "output_type": "display_data"
    },
    {
     "data": {
      "text/plain": [
       "\"<p>This is a problem with PHP namespaces. Joomla is encourage the use of namespaces in J4 a lot more. The context where you are calling the PDF constructor is within namespace 'Mycomp\\\\Component\\\\Mycomp\\\\Administrator\\\\Model', FPDF doesn't use namespaces though. So add a backslash to your constructor call and it should work again:</p>\\n<pre><code> $pdf=new \\\\PDF('P','mm','A4');\\n</code></pre>\\n\""
      ]
     },
     "metadata": {},
     "output_type": "display_data"
    },
    {
     "data": {
      "text/plain": [
       "'A:'"
      ]
     },
     "metadata": {},
     "output_type": "display_data"
    },
    {
     "data": {
      "text/plain": [
       "'<p>Even I got the same problem solution doesnt work for me :(((</p>\\n'"
      ]
     },
     "metadata": {},
     "output_type": "display_data"
    },
    {
     "data": {
      "text/plain": [
       "'A:'"
      ]
     },
     "metadata": {},
     "output_type": "display_data"
    },
    {
     "data": {
      "text/plain": [
       "'<p>in my .net 6 app I had to register the CodePagesEncodingProvider.Instance first and then use the 850 Encoding.</p>\\n<pre><code>string zipPath = @&quot;C:\\\\Users\\\\x\\\\Desktop\\\\zipTest.zip&quot;;\\nstring extractPath = @&quot;C:\\\\Users\\\\x\\\\Desktop\\\\test&quot;;\\nEncoding.RegisterProvider(CodePagesEncodingProvider.Instance); // Register the encoding provider for the appropriate code page\\nZipFile.ExtractToDirectory(zipPath, extractPath, System.Text.Encoding.GetEncoding(850));\\n</code></pre>\\n'"
      ]
     },
     "metadata": {},
     "output_type": "display_data"
    },
    {
     "data": {
      "text/plain": [
       "'A:'"
      ]
     },
     "metadata": {},
     "output_type": "display_data"
    },
    {
     "data": {
      "text/plain": [
       "'<p>It is really easy to do in NEXT JS 13.</p>\\n<p><strong>For Static Routes -</strong></p>\\n<p>In your <em>page.tsx</em> file <strong>create and export</strong> a new <strong>variable</strong> <code>metadata</code></p>\\n<pre><code>export const metadata = {\\n  title: &quot;My new title&quot;,\\n  description: &quot;My description&quot;,\\n}\\n</code></pre>\\n<p><strong>For Dynamic Routes -</strong></p>\\n<p>In your <em>page.tsx</em> file <strong>create and export</strong> a new <strong>function</strong> <code>generateMetadata()</code>. You can also access the <code>id</code> of the <strong>dynamic route</strong>.</p>\\n<pre><code>export async function generateMetadata({params}: {params: { id: string }}) {\\n  return(\\n    title: `page ${params.id}`,\\n  )\\n}\\n</code></pre>\\n<p>If the code above feels hard to read, that\\'s because of <code>typescript</code>.</p>\\n<p>Anyways I\\'d recommmend you to watch this video by Vercel - <a href=\"https://youtu.be/gSSsZReIFRk?t=702\" rel=\"nofollow noreferrer\">https://youtu.be/gSSsZReIFRk?t=702</a></p>\\n<p>It was really helpful for me! Hope it helps you too!😊</p>\\n'"
      ]
     },
     "metadata": {},
     "output_type": "display_data"
    },
    {
     "data": {
      "text/plain": [
       "'A:'"
      ]
     },
     "metadata": {},
     "output_type": "display_data"
    },
    {
     "data": {
      "text/plain": [
       "'<pre><code>$ brew install cocoapods\\n</code></pre>\\n<p>worked for me.</p>\\n'"
      ]
     },
     "metadata": {},
     "output_type": "display_data"
    },
    {
     "data": {
      "text/plain": [
       "'A:'"
      ]
     },
     "metadata": {},
     "output_type": "display_data"
    },
    {
     "data": {
      "text/plain": [
       "'<p>Solved - whilst I copied the JAR file into the image, I did not mount the volume within the relevant service properly (in this case airflow-scheduler). Once I added the mount to the service within the docker-compose file, the file was recognized.\\nSide note, previously whilst debugging the issue, I copied the file manually to the container with the <code>docker cp</code>, however, it seems that while the command worked airflow could still not access the file - therefore he too one would need to set a mount of the file/directory manually as well.</p>\\n'"
      ]
     },
     "metadata": {},
     "output_type": "display_data"
    },
    {
     "data": {
      "text/plain": [
       "'A:'"
      ]
     },
     "metadata": {},
     "output_type": "display_data"
    },
    {
     "data": {
      "text/plain": [
       "'<p>You can use the gameObject tags for this.</p>\\n<p>Create a gameObject tag called &quot;Obeng&quot; and another tag called &quot;TargetOfBaut&quot;. In the Obeng gameObject, set the tag to &quot;Obeng&quot;, and in the TempatBaut and TempatBaut2 gameObjects set their tag to &quot;TargetOfBaut&quot;. Using this to tags you can control how to stick the Baut gameObject</p>\\n<pre><code>private void OnTriggerEnter(Collider other)\\n{\\n    if (other.gameObject.tag == &quot;Obeng&quot;)\\n    {\\n        baut_masih_di_obeng = true;\\n    }\\n    else if (other.gameObject.tag == &quot;TargetOfBaut&quot;)\\n    {\\n        sudah_ditempat_baut = true;\\n    }\\n}\\n\\nprivate void OnTriggerExit(Collider other)\\n{\\n    if (other.gameObject.tag == &quot;Obeng&quot;)\\n    {\\n        baut_masih_di_obeng = false;\\n    }\\n    else if (other.gameObject.tag == &quot;TargetOfBaut&quot;)\\n    {\\n        sudah_ditempat_baut = false;\\n    }\\n}\\n\\nprivate void OnTriggerStay(Collider other)\\n{\\n    if (other.gameObject.tag == &quot;Obeng&quot; &amp;&amp; !this.sudah_ditempat_baut)\\n    {\\n        Baut.position = Obeng.position;\\n        Baut.rotation = Obeng.rotation;\\n    }\\n    else if (other.gameObject.tag == &quot;TargetOfBaut&quot;)\\n    {\\n        Baut.position = other.gameObject.position;\\n        Baut.rotation = other.gameObject.rotation;\\n    }\\n}\\n</code></pre>\\n'"
      ]
     },
     "metadata": {},
     "output_type": "display_data"
    },
    {
     "data": {
      "text/plain": [
       "'A:'"
      ]
     },
     "metadata": {},
     "output_type": "display_data"
    },
    {
     "data": {
      "text/plain": [
       "'<p>You have to have an item to hold the value of the selected item and change the color according to the selected item value.</p>\\n<p>Below is en example:</p>\\n<p><div class=\"snippet\" data-lang=\"js\" data-hide=\"false\" data-console=\"true\" data-babel=\"false\">\\r\\n<div class=\"snippet-code\">\\r\\n<pre class=\"snippet-code-html lang-html prettyprint-override\"><code>class HomePage extends StatefulWidget {\\n  const HomePage({super.key});\\n\\n  @override\\n  State&lt;HomePage&gt; createState() =&gt; _HomePageState();\\n}\\n\\nclass _HomePageState extends State&lt;HomePage&gt; {\\n  int selectedItemID = 0;\\n  List&lt;Map&lt;String, dynamic&gt;&gt; items = [];\\n\\n  @override\\n  void initState() {\\n    super.initState();\\n    getDataFromAPI();\\n  }\\n\\n  Future&lt;void&gt; getDataFromAPI() async {\\n    await Future.delayed(const Duration(seconds: 2));\\n    setState(() {\\n      items = [\\n        {\\n          \"id\": 1,\\n          \"title\": \"Item 1\",\\n        },\\n        {\\n          \"id\": 2,\\n          \"title\": \"Item 2\",\\n        },\\n        {\\n          \"id\": 3,\\n          \"title\": \"Item 3\",\\n        },\\n      ];\\n    });\\n  }\\n\\n  @override\\n  Widget build(BuildContext context) {\\n    return Scaffold(\\n      body: SizedBox(\\n        width: double.maxFinite,\\n        child: Column(\\n          mainAxisAlignment: MainAxisAlignment.center,\\n          crossAxisAlignment: CrossAxisAlignment.center,\\n          children: items\\n              .map(\\n                (e) =&gt; Container(\\n                  height: 50,\\n                  margin: const EdgeInsets.only(bottom: 10),\\n                  color: e[\"id\"] == selectedItemID ? Colors.red : Colors.white,\\n                  child: TextButton(\\n                    onPressed: () {\\n                      setState(() {\\n                        selectedItemID = e[\"id\"];\\n                      });\\n                    },\\n                    child: Text(\\n                      e[\"title\"],\\n                      style: TextStyle(\\n                        color: e[\"id\"] == selectedItemID\\n                            ? Colors.white\\n                            : Colors.black,\\n                      ),\\n                    ),\\n                  ),\\n                ),\\n              )\\n              .toList(),\\n        ),\\n      ),\\n    );\\n  }\\n}</code></pre>\\r\\n</div>\\r\\n</div>\\r\\n</p>\\n<p><a href=\"https://i.stack.imgur.com/MUNNb.png\" rel=\"nofollow noreferrer\"><img src=\"https://i.stack.imgur.com/MUNNb.png\" alt=\"enter image description here\" /></a></p>\\n'"
      ]
     },
     "metadata": {},
     "output_type": "display_data"
    },
    {
     "data": {
      "text/plain": [
       "'A:'"
      ]
     },
     "metadata": {},
     "output_type": "display_data"
    },
    {
     "data": {
      "text/plain": [
       "'<p>You can break the authors field into two lines by inserting the LaTeX keyword <code>\\\\AND</code> in the affiliation field of the author before the break. To this end, you need to wrap the affiliation field in apostrophes e.g. <code>\\'affiliation: \\'University of life and more \\\\AND\\'</code>. The result will look like this:</p>\\n<p><a href=\"https://i.stack.imgur.com/4B29Q.png\" rel=\"nofollow noreferrer\"><img src=\"https://i.stack.imgur.com/4B29Q.png\" alt=\"Header of JSS paper with four authors and break after the second\" /></a></p>\\n<p>Here is a working minimal example:</p>\\n<pre><code>---\\ndocumentclass: jss\\nauthor:\\n  - name: Main author\\n    affiliation: University of life and more\\n    address: &gt;\\n      First line\\n      Second line\\n    email: me@university.edu\\n    url: http://rstudio.com\\n  - name: second author\\n    affiliation: \\'University of life and more \\\\AND\\'\\n  - name: Third Author\\n    affiliation: University of life and more\\n  - name: Fourth Author\\n    affiliation: University of life and more\\ntitle:\\n  formatted: &quot;super interesting r package called \\\\\\\\pkg{TheSuperPackage}&quot;\\n  short:     &quot;\\\\\\\\pkg{TheSuperPackage}: This is exiting&quot;\\nabstract: &gt;\\n  We present a package that will solve your life\\nkeywords:\\n  # at least one keyword must be supplied\\n  formatted: [ &quot;\\\\\\\\pkg{TheSuperPackage}&quot;, Life, &quot;\\\\\\\\proglang{R}&quot;]\\n  plain:     [keywords, not capitalized, life]\\npreamble: &gt;\\n  \\\\usepackage{amsmath}\\nbiblio-style: jss\\noutput:\\n  rticles::jss_article\\n---\\n\\n\\n```{r, echo=FALSE, warning=FALSE, message=FALSE}\\nlibrary(rticles)\\nlibrary(rmarkdown)\\nlibrary(yaml)\\n```\\n\\n```{r, echo=FALSE, warning=FALSE}\\nlibrary(knitr)\\nopts_chunk$set(prompt=TRUE)\\noptions(replace.assign=TRUE, width=90, prompt=&quot;R&gt; &quot;)\\n```\\n\\n# Introduction\\n\\nThis template demonstrates some of the basic latex you\\'ll need to know to create a JSS article.\\n</code></pre>\\n'"
      ]
     },
     "metadata": {},
     "output_type": "display_data"
    },
    {
     "data": {
      "text/plain": [
       "'A:'"
      ]
     },
     "metadata": {},
     "output_type": "display_data"
    },
    {
     "data": {
      "text/plain": [
       "'<p>Those numbers are the row names (you can see them with <code>grid.table(iris[1:4,1:4]))</code>, and so you need to change the relevant theme elements, which are the <code>rowhead</code> parameters.</p>\\n<p>For example,</p>\\n<pre><code>library(gridExtra)\\n\\n# New theme paramters\\nmyt &lt;- ttheme_default(\\n         rowhead = list(fg_params=list(col=&quot;white&quot;),\\n                        bg_params=list(fill=&quot;red&quot;)))\\n\\ngrid::grid.newpage()\\ngrid.table(iris[1:4,1:4], theme=myt)\\n</code></pre>\\n<p>Details can be found in the <a href=\"https://cran.r-project.org/web/packages/gridExtra/vignettes/tableGrob.html\" rel=\"nofollow noreferrer\">package vignette</a></p>\\n<hr />\\n<p>From comments;</p>\\n<p>Is it possible to put in the upper left square, X\\\\Y  and keep the shading in the first column?</p>\\n<p>There are a few ways to do this. First, grab the row names and form a <code>tableGrob</code> and format this how you would like, the second join to the <code>tableGrob</code> with the data (note that the rows names are now suppressed with <code>rows=NULL</code>). e.g.</p>\\n<pre><code># row names &amp; formatting\\nrs = tableGrob(data.frame(&quot;x\\\\\\\\y&quot;=rownames(iris)[1:4]), rows=NULL, \\n               theme=ttheme_default(core=list(bg_params=list(fill=&quot;grey70&quot;))))\\n\\n# combine and draw\\ngrid::grid.draw(\\n         gtable_combine(rs, tableGrob(iris[1:4, 1:4], rows=NULL))\\n         ) \\n</code></pre>\\n'"
      ]
     },
     "metadata": {},
     "output_type": "display_data"
    },
    {
     "data": {
      "text/plain": [
       "'A:'"
      ]
     },
     "metadata": {},
     "output_type": "display_data"
    },
    {
     "data": {
      "text/plain": [
       "'<p>This is called &quot;Pattern matching for instanceof&quot;.</p>\\n<p>I am going to assume you know the previous syntax which would be.</p>\\n<pre><code>if( !(o instanceof Point) ) return;\\n\\nPoint point = (Point)o;\\n\\nreturn x == point.x &amp;&amp; y == point.y;\\n</code></pre>\\n<p>As of java 16 there is a new syntax that is supposed to be a bit more concise.</p>\\n<pre><code>if( !(o instanceof Point point) ) return;\\n\\nreturn x == point.x &amp;&amp; y == point.y;\\n</code></pre>\\n<p>Instead of casting and creating a local variable, you can declare the variable within the instanceof statement.</p>\\n<p>The scope of the pattern variable is described as &quot;flow scoping&quot; in <a href=\"https://openjdk.org/jeps/394\" rel=\"nofollow noreferrer\">JEP 394</a> which can be a bit non-intuitive. <a href=\"https://docs.oracle.com/en/java/javase/17/language/pattern-matching-instanceof-operator.html\" rel=\"nofollow noreferrer\">Pattern Matching for instanceof</a> has more examples.</p>\\n'"
      ]
     },
     "metadata": {},
     "output_type": "display_data"
    },
    {
     "data": {
      "text/plain": [
       "'A:'"
      ]
     },
     "metadata": {},
     "output_type": "display_data"
    },
    {
     "data": {
      "text/plain": [
       "'<p>Another solution is to use <code>pg.raw(\\'...\\')</code></p>\\n<pre class=\"lang-js prettyprint-override\"><code>table.specificType(&quot;test&quot;, &quot;text[]&quot;).defaultTo(pg.raw(`\\'{}\\'::text[]`))\\n</code></pre>\\n'"
      ]
     },
     "metadata": {},
     "output_type": "display_data"
    },
    {
     "data": {
      "text/plain": [
       "'A:'"
      ]
     },
     "metadata": {},
     "output_type": "display_data"
    },
    {
     "data": {
      "text/plain": [
       "\"<p>Gotcha, it's <code>WizardForm.PreparingLabel</code>:</p>\\n<pre><code>procedure CurPageChanged(CurPage: Integer);\\nvar RichViewer: TRichEditViewer;\\nbegin\\n  log('CurPageChanged - CurPage: ' + IntToStr(CurPage));      \\n  log('CurPageChanged - PreparingLabel: ' + WizardForm.PreparingLabel.Caption);\\n  log('CurPageChanged - PreparingLabel visible: ' + BoolToStr(WizardForm.PreparingLabel.Visible));\\n...\\n</code></pre>\\n<p>log:</p>\\n<pre><code>2023-04-19 14:13:20.254   CurPageChanged - CurPage: 11\\n2023-04-19 14:13:20.254   CurPageChanged - PreparingLabel: *\\n2023-04-19 14:13:20.254   CurPageChanged - PreparingLabel visible: True\\n</code></pre>\\n<p>Solved with:</p>\\n<pre><code>procedure CurPageChanged(CurPage: Integer);\\nbegin\\n  if CurPage = wpPreparing then\\n    begin\\n      WizardForm.PreparingLabel.Caption := CustomMessage('Preparing');\\n    end;\\nend;\\n</code></pre>\\n<p>with custom message:</p>\\n<pre><code>[CustomMessages]\\nCzech.Preparing=Probíhá příprava instalace, čekejte prosím.\\nSlovak.Preparing=Prebieha príprava inštalácie, čakajte prosím.\\n</code></pre>\\n\""
      ]
     },
     "metadata": {},
     "output_type": "display_data"
    },
    {
     "data": {
      "text/plain": [
       "'A:'"
      ]
     },
     "metadata": {},
     "output_type": "display_data"
    },
    {
     "data": {
      "text/plain": [
       "'<p>I write the same code but delete printWindow.close() to see the output</p>\\n<p><div class=\"snippet\" data-lang=\"js\" data-hide=\"false\" data-console=\"true\" data-babel=\"false\">\\r\\n<div class=\"snippet-code\">\\r\\n<pre class=\"snippet-code-js lang-js prettyprint-override\"><code>        function test(){\\n            let printWindow = window.open(\\'\\', \\'Print\\', \\'height=600,width=800\\');\\n            printWindow.document.write(\\'&lt;html&gt;&lt;head&gt;&lt;title&gt;Print&lt;/title&gt;\\');\\n            printWindow.document.write(\\'&lt;link rel=\"stylesheet\" href=\"./css/mystylesheet.css\" type=\"text/css\" /&gt;\\');\\n            printWindow.document.write(\\'&lt;/head&gt;&lt;body&gt;\\');\\n            printWindow.document.write(\\'&lt;p id=\"test\"&gt;Hello&lt;/p&gt;\\');\\n            printWindow.document.close();\\n            printWindow.focus();\\n            printWindow.print();\\n        }</code></pre>\\r\\n<pre class=\"snippet-code-css lang-css prettyprint-override\"><code>#test {\\n  color: green;\\n}\\n\\nh1{\\n  color: red;\\n}</code></pre>\\r\\n<pre class=\"snippet-code-html lang-html prettyprint-override\"><code>&lt;h1 href=\"#\" onclick=\"test()\"&gt;test&lt;/h1&gt;</code></pre>\\r\\n</div>\\r\\n</div>\\r\\n</p>\\n<p>this the result when I clicked on \\'test\\' word:\\n<a href=\"https://i.stack.imgur.com/F9Qq6.png\" rel=\"nofollow noreferrer\">result image</a></p>\\n<p><strong>So make sure that you put the right path to the css file</strong></p>\\n'"
      ]
     },
     "metadata": {},
     "output_type": "display_data"
    },
    {
     "data": {
      "text/plain": [
       "'A:'"
      ]
     },
     "metadata": {},
     "output_type": "display_data"
    },
    {
     "data": {
      "text/plain": [
       "'<p>Try using <code>wslview</code> instead of <code>xdg-open</code>, it works in Windows 10 wsl.</p>\\n<p>Install with:</p>\\n<pre><code>sudo apt install wslu\\n</code></pre>\\n<p>source: <a href=\"https://manpages.ubuntu.com/manpages/impish/man1/wslview.1.html\" rel=\"nofollow noreferrer\">https://manpages.ubuntu.com/manpages/impish/man1/wslview.1.html</a></p>\\n'"
      ]
     },
     "metadata": {},
     "output_type": "display_data"
    },
    {
     "data": {
      "text/plain": [
       "'A:'"
      ]
     },
     "metadata": {},
     "output_type": "display_data"
    },
    {
     "data": {
      "text/plain": [
       "'<p>I had to delete the pvc of postgresql of previous airflow helm install. After that i could install the new one.</p>\\n'"
      ]
     },
     "metadata": {},
     "output_type": "display_data"
    },
    {
     "data": {
      "text/plain": [
       "'A:'"
      ]
     },
     "metadata": {},
     "output_type": "display_data"
    },
    {
     "data": {
      "text/plain": [
       "'<p>For object detection, OpenCV library is a good option. Try that once.</p>\\n'"
      ]
     },
     "metadata": {},
     "output_type": "display_data"
    },
    {
     "data": {
      "text/plain": [
       "'A:'"
      ]
     },
     "metadata": {},
     "output_type": "display_data"
    },
    {
     "data": {
      "text/plain": [
       "\"<p>Another Implentation</p>\\n<pre><code>        var rng = RandomNumberGenerator.Create();\\n        var bytes = new byte[32];\\n        rng.GetBytes(bytes);\\n\\n        // It is recommended to use a URL-safe string as code_verifier.\\n        // See section 4 of RFC 7636 for more details.\\n        var code_verifier = Convert.ToBase64String(bytes)\\n            .TrimEnd('=')\\n            .Replace('+', '-')\\n            .Replace('/', '_');\\n\\n        var code_challenge = string.Empty;\\n        using (var sha256 = SHA256.Create())\\n        {\\n            var challengeBytes = sha256.ComputeHash(Encoding.UTF8.GetBytes(code_verifier));\\n            code_challenge = Convert.ToBase64String(challengeBytes)\\n                .TrimEnd('=')\\n                .Replace('+', '-')\\n                .Replace('/', '_');\\n        }\\n</code></pre>\\n\""
      ]
     },
     "metadata": {},
     "output_type": "display_data"
    },
    {
     "data": {
      "text/plain": [
       "'A:'"
      ]
     },
     "metadata": {},
     "output_type": "display_data"
    },
    {
     "data": {
      "text/plain": [
       "'<p>This has tripped me up on two IoT related projects where small UDP payloads less than 12 bytes are dropped during the routing from edge device to server and vice versa from certain types of Azure resources.</p>\\n<p>This article here suggests the route cause on Win and Linux OS hosts is related to the network interface and the issue has been patched. If you have access to the resource network settings (on an Azure Container Instance I dont) you can also amend the NIC properties to drop checksum.</p>\\n<p>Ref\\n<a href=\"https://github.com/microsoft/WSL/issues/8610\" rel=\"nofollow noreferrer\">https://github.com/microsoft/WSL/issues/8610</a></p>\\n<p>We found padding UDP packets to 12 bytes in both cases mitigated the issue.</p>\\n<p>Solutions:</p>\\n<ul>\\n<li>Patch OS to latest version</li>\\n<li>Pad UDP packets to 12 bytes</li>\\n<li>Amend NIC properties to disbale checksum (have not tried this)</li>\\n</ul>\\n'"
      ]
     },
     "metadata": {},
     "output_type": "display_data"
    },
    {
     "data": {
      "text/plain": [
       "'A:'"
      ]
     },
     "metadata": {},
     "output_type": "display_data"
    },
    {
     "data": {
      "text/plain": [
       "'<p>The answer seems to be <em>yes</em>, the Bundle data is merged with the local Firestore cache.</p>\\n<p>The code below queries the local Firestore cache successfully.</p>\\n<p>An official confirmation would have been nice, I assume it is working reliably.</p>\\n<pre class=\"lang-dart prettyprint-override\"><code>FirebaseFirestore.instance.disableNetwork();\\n\\nawait db.loadBundle(resp.body);\\n\\nconst result = await db.collection(\\'stories\\').get();\\n</code></pre>\\n'"
      ]
     },
     "metadata": {},
     "output_type": "display_data"
    },
    {
     "data": {
      "text/plain": [
       "'A:'"
      ]
     },
     "metadata": {},
     "output_type": "display_data"
    },
    {
     "data": {
      "text/plain": [
       "'<p>This attempt is just broken in so many ways so let me show how you actually do this in Rails 7:</p>\\n<pre class=\"lang-rb prettyprint-override\"><code>Rails.application.routes.draw do\\n  resources :users\\n\\n  get \\'home/about\\' # wut is this?\\n  root \\'home#index\\'\\nend\\n</code></pre>\\n<p>This creates <a href=\"https://guides.rubyonrails.org/routing.html#resource-routing-the-rails-default\" rel=\"nofollow noreferrer\">the idomiatically correct routes</a>. To destroy a user you send a DELETE request to the member path (<code>/users/:id</code>):</p>\\n<pre class=\"lang-rb prettyprint-override\"><code>class UsersController &lt; ApplicationController\\n  before_action :set_user, only: [:show, :edit, :update :destroy]\\n\\n  # GET /users\\n  # this is what you\\'re calling &quot;listuser&quot;.\\n  def index\\n    @users = User.all\\n  end\\n\\n  # DELETE /users/:id\\n  def destroy\\n    @user.destroy\\n    redirect_to action: :index\\n  end\\n\\n  # ...\\n\\n  private \\n\\n  def set_user\\n    @user = User.find(params[:id])\\n  end\\nend\\n</code></pre>\\n<pre><code>&lt;h1&gt;All Users&lt;/h1&gt;\\n\\n&lt;table class=&quot;table&quot;&gt;\\n  ...\\n  &lt;tbody&gt;\\n    &lt;% @users.each do |user| %&gt;\\n    &lt;tr&gt;\\n      ...\\n      &lt;td&gt;&lt;%= button_to(\\'Delete\\', user, method: :delete, data: { turbo_confirm: \\'Are you sure?\\' }) %&gt;&lt;/td&gt;\\n      &lt;td&gt;&lt;%= link_to(\\'Edit\\', user) %&gt;&lt;/td&gt;\\n    &lt;/tr&gt;\\n    &lt;% end%&gt;\\n  &lt;/tbody&gt;\\n&lt;/table&gt;\\n</code></pre>\\n<p>When you follow the conventions you can just pass a model instance to <code>link_to</code>, <code>button_to</code>, or <code>form_with</code> and it will deduce the route automatically. <code>button_to</code> creates an actual form so it does not rely on javascript to function (the confirmation still does though). The <code>method</code> option here still works the same as in previous versions of Rails.</p>\\n<p>In Rails 7 Turbo replaces the old Rails Unobtrusive Javascript Driver (UJS). While Turbo provides replacements for the functionality provided by Rails UJS the data attributes used are <code>data-turbo-method</code> and <code>data-turbo-confirm</code>.</p>\\n<pre><code>&lt;%= link_to(user, data: { turbo_method: :delete, turbo_confirm: \\'Are you sure?\\' }) %&gt;\\n</code></pre>\\n'"
      ]
     },
     "metadata": {},
     "output_type": "display_data"
    },
    {
     "data": {
      "text/plain": [
       "'A:'"
      ]
     },
     "metadata": {},
     "output_type": "display_data"
    },
    {
     "data": {
      "text/plain": [
       "'<p>There is a solution in ViewModel, with property binded on <code>TabControll.SelectedItem</code>. In setter raise it has bean changed (do not change storage), but using <code>Dispatcher.BeginInvoke</code> (not directly), then view akcept change back...</p>\\n<pre><code>private int selectedTabIndex;\\npublic int SelectedTabIndex {\\n    get =&gt; selectedTabIndex;\\n    set {\\n        if(!TabCanBeChanged(value)) {\\n            System.Windows.Application.Current.Dispatcher.BeginInvoke(\\n                System.Windows.Threading.DispatcherPriority.Normal,\\n                new Action(() =&gt; RaisePropertyChanged(nameof(SelectedTabIndex)))\\n            );\\n        } else\\n            selectedTabIndex = value;\\n    }\\n}\\n</code></pre>\\n'"
      ]
     },
     "metadata": {},
     "output_type": "display_data"
    },
    {
     "data": {
      "text/plain": [
       "'A:'"
      ]
     },
     "metadata": {},
     "output_type": "display_data"
    },
    {
     "data": {
      "text/plain": [
       "'<pre><code>lifecycle-viewmodel-ktx-2.6.1\\n</code></pre>\\n<p>down</p>\\n<pre><code>lifecycle-viewmodel-ktx-2.5.1\\n</code></pre>\\n<p>I managed to get it working by lowering the dependency values.</p>\\n'"
      ]
     },
     "metadata": {},
     "output_type": "display_data"
    },
    {
     "data": {
      "text/plain": [
       "'A:'"
      ]
     },
     "metadata": {},
     "output_type": "display_data"
    },
    {
     "data": {
      "text/plain": [
       "\"<p>For me it was KRM's situation; Removing &quot;...Name = ...&quot; from the route specifications solved it.\\nWhat a stupid issue.\\nI've made a seperate comment because I can't comment directly on another's comment with less than 50 reputation..</p>\\n\""
      ]
     },
     "metadata": {},
     "output_type": "display_data"
    },
    {
     "data": {
      "text/plain": [
       "'A:'"
      ]
     },
     "metadata": {},
     "output_type": "display_data"
    },
    {
     "data": {
      "text/plain": [
       "\"<p>You can use Java Bean Validation (JSR-380) annotations to declare validation constraints on the values. The <code>@Positive</code> annotation will require the value to be larger than 0, so in your case you want to use <code>@Min(0)</code> instead:</p>\\n<pre><code>data class Foo(@field:Min(0) var x: Long)\\n</code></pre>\\n<p>Note that it is still possible to create invalid instances, so you need to actually validate the value afterwards (manually, or using AOP and <code>@Valid</code>, depending on which framework you use):</p>\\n<pre><code>val foo = Foo(-10)\\nval validator = Validation.buildDefaultValidatorFactory().validator\\nval validationExceptions = validator.validate(foo)\\n</code></pre>\\n<p>When everything is correct, the <code>validationExceptions</code> will be empty, otherwise you'll get a list of all violations, as demonstrated with this JUnit test:</p>\\n<pre><code>class ValidationTest {\\n\\n    @Test\\n    fun `should validate data class`() {\\n        val foo = Foo(-10)\\n\\n        val validationExceptions = validator.validate(foo)\\n        Assertions.assertThat(validationExceptions).isNotEmpty();\\n        Assertions.assertThat(validationExceptions\\n            .map { &quot;${it.propertyPath}: ${it.message}&quot; })\\n            .containsExactly(&quot;x: must be greater than or equal to 0&quot;);\\n    }\\n}\\n</code></pre>\\n<p>When validating the value, you probably want to throw a cumulative <code>ValidationException</code>:</p>\\n<pre><code>if (validationExceptions.isNotEmpty())\\n    throw ValidationException(validationExceptions.joinToString(&quot;\\\\n&quot;)\\n    { &quot;${it.propertyPath}: ${it.message}&quot; })\\n</code></pre>\\n<p>Which here would result in:</p>\\n<blockquote>\\n<p>javax.validation.ValidationException: x: must be greater than or equal to 0</p>\\n</blockquote>\\n\""
      ]
     },
     "metadata": {},
     "output_type": "display_data"
    },
    {
     "data": {
      "text/plain": [
       "'A:'"
      ]
     },
     "metadata": {},
     "output_type": "display_data"
    },
    {
     "data": {
      "text/plain": [
       "'<p>You have typo in yor syntax, just change &quot;grid-template-colums&quot; to  &quot;grid-template-columns&quot;</p>\\n'"
      ]
     },
     "metadata": {},
     "output_type": "display_data"
    },
    {
     "data": {
      "text/plain": [
       "'A:'"
      ]
     },
     "metadata": {},
     "output_type": "display_data"
    },
    {
     "data": {
      "text/plain": [
       "'<p>I must thank u at the first, because I got the idea from your question. And in my case, I used Guice too. so,I modified Guice persist to adopt to jakarta and use these two dependences blow, then my problem is solved:</p>\\n<pre><code>&lt;dependency&gt;\\n  &lt;groupId&gt;org.datanucleus&lt;/groupId&gt;\\n  &lt;artifactId&gt;jakarta.persistence&lt;/artifactId&gt;\\n  &lt;version&gt;3.1.0&lt;/version&gt;\\n&lt;/dependency&gt;\\n&lt;dependency&gt;\\n  &lt;groupId&gt;org.eclipse.persistence&lt;/groupId&gt;\\n  &lt;artifactId&gt;eclipselink&lt;/artifactId&gt;\\n  &lt;version&gt;4.0.1&lt;/version&gt;\\n&lt;/dependency&gt;\\n</code></pre>\\n'"
      ]
     },
     "metadata": {},
     "output_type": "display_data"
    },
    {
     "data": {
      "text/plain": [
       "'A:'"
      ]
     },
     "metadata": {},
     "output_type": "display_data"
    },
    {
     "data": {
      "text/plain": [
       "'<p>Something like this will work:</p>\\n<pre><code>String filePath = properties.getProperty(&quot;DO.LIB.LOC&quot;);\\nString fileName = (String) request.getParameter(&quot;read&quot;);\\n\\nif(filePath==null || fileName==null) return;\\nPath path = Paths.get(filePath).normalize().resolve(fileName);\\nString finalPath = path.toString();\\n</code></pre>\\n'"
      ]
     },
     "metadata": {},
     "output_type": "display_data"
    },
    {
     "data": {
      "text/plain": [
       "'A:'"
      ]
     },
     "metadata": {},
     "output_type": "display_data"
    },
    {
     "data": {
      "text/plain": [
       "'<p>The most trivial solution would be to obtain and configure a repository-wide &quot;machine&quot; or &quot;bot&quot; token and configure that as a repository secret, using it to pass to the appropriate job step.</p>\\n<p>Alternatively, you let your developers configure a pre-push hook, so they can run the tool that now runs in CI locally instead. This requires configuration and discipline for each repository and developer.</p>\\n<p>The worst solution, but the one you seem to be aiming at, would be to configure <em>each</em> developer\\'s token as repository secret, including their name, e.g. <code>TOOL_TOKEN_MATTHIAS</code>.</p>\\n<p>Then on push, you obtain the <code>github.event.pusher.name</code>, and [using format()]](<a href=\"https://stackoverflow.com/questions/61255989/dynamically-retrieve-github-actions-secret\">Dynamically retrieve GitHub Actions secret</a>), look up the appropriate secret, something like this:</p>\\n<pre><code>secrets[format(\\'TOOL_TOKEN_{0}\\', github.event.pusher.name)]\\n</code></pre>\\n<p>This too will require configuration and discipline, and is fragile.</p>\\n'"
      ]
     },
     "metadata": {},
     "output_type": "display_data"
    },
    {
     "data": {
      "text/plain": [
       "'A:'"
      ]
     },
     "metadata": {},
     "output_type": "display_data"
    },
    {
     "data": {
      "text/plain": [
       "\"<p>You can use the http package in Flutter to make an HTTP GET request to the API endpoint, and then parse the JSON response using the dart:convert library's <code>jsonDecode</code> function. Here's an example:</p>\\n<pre><code>import 'package:http/http.dart' as http;\\nimport 'dart:convert';\\n\\nfinal response = await http.get(Uri.parse('https://example.com/api/data'));\\nfinal jsonData = jsonDecode(response.body);\\n</code></pre>\\n\""
      ]
     },
     "metadata": {},
     "output_type": "display_data"
    },
    {
     "data": {
      "text/plain": [
       "'A:'"
      ]
     },
     "metadata": {},
     "output_type": "display_data"
    },
    {
     "data": {
      "text/plain": [
       "\"<p>Someone here gave you -1 because your question is not accurate. I will assume that you want to <strong>create a new empty file with the Finder</strong> to further fill it with some content. Here's how it's done.</p>\\n<pre><code>tell application &quot;Finder&quot;\\n    make new file at desktop with properties {name:&quot;emptyFile.html&quot;}\\nend tell\\n</code></pre>\\n<p><strong>NOTE</strong>: you can indicate any other name extension (like &quot;.txt&quot;) instead.</p>\\n<p>Also, the desktop is default location, so you can to not indicate the location in the case you need create new file on it. Oneliner for this case:</p>\\n<pre><code>tell application &quot;Finder&quot; to make new file with properties {name:&quot;empty.txt&quot;}\\n</code></pre>\\n\""
      ]
     },
     "metadata": {},
     "output_type": "display_data"
    },
    {
     "data": {
      "text/plain": [
       "'A:'"
      ]
     },
     "metadata": {},
     "output_type": "display_data"
    },
    {
     "data": {
      "text/plain": [
       "'<p>You can use is_alive() method -</p>\\n<pre><code>p = multiprocessing.Process(target=worker, args=(value,))\\np.start()\\n\\nwhile p.is_alive():\\n    print(&quot;still running...&quot;)\\n    print(f&quot;process Value: {value.value}&quot;)\\n    multiprocessing.active_children()\\n</code></pre>\\n<p>Then you can use <code>ps aux | grep python_file.py</code>, too see the process status</p>\\n'"
      ]
     },
     "metadata": {},
     "output_type": "display_data"
    },
    {
     "data": {
      "text/plain": [
       "'A:'"
      ]
     },
     "metadata": {},
     "output_type": "display_data"
    },
    {
     "data": {
      "text/plain": [
       "'<p>I deployed one node.js Application inside the Linux VM like below:-</p>\\n<p>My <strong>node.js code</strong>:-</p>\\n<pre class=\"lang-js prettyprint-override\"><code>// app.js\\nconst http = require(\\'http\\');\\n\\nconst server = http.createServer((req, res) =&gt; {\\n  res.writeHead(200, {\\'Content-Type\\': \\'text/plain\\'});\\n  res.end(\\'Hello, world!\\');\\n});\\n\\nconst PORT = process.env.PORT || 3000;\\n\\nserver.listen(PORT, () =&gt; {\\n  console.log(`Server listening on port ${PORT}`);\\n});\\n</code></pre>\\n<p><em><strong>Created one app.js file and added this code inside it like below:-</strong></em></p>\\n<p><img src=\"https://i.imgur.com/aNmQC3V.png\" alt=\"enter image description here\" /></p>\\n<p>Started my node.js app on Linux VM like below:-</p>\\n<p><strong>Command:-</strong></p>\\n<pre class=\"lang-js prettyprint-override\"><code>node app.js\\n</code></pre>\\n<p><img src=\"https://i.imgur.com/xDrpAQ4.png\" alt=\"enter image description here\" /></p>\\n<p>I installed Pm2 and ran my nodejs application with Pm2 like below:-</p>\\n<p><strong>Command:-</strong></p>\\n<pre class=\"lang-bash prettyprint-override\"><code>sudo npm install -g pm2\\n</code></pre>\\n<p><strong>Run the app with pm2:-</strong></p>\\n<pre class=\"lang-bash prettyprint-override\"><code>pm2 start app.js\\n</code></pre>\\n<p><strong>Output:-</strong></p>\\n<p><img src=\"https://i.imgur.com/Fr4sbuq.png\" alt=\"enter image description here\" /></p>\\n<p><img src=\"https://i.imgur.com/eUkFElx.png\" alt=\"enter image description here\" /></p>\\n<p><strong>Got Pm2 logs like below:-</strong></p>\\n<pre><code>pm2 logs\\n</code></pre>\\n<p><strong>Output:-</strong></p>\\n<p><img src=\"https://i.imgur.com/fEqXG7Y.png\" alt=\"enter image description here\" /></p>\\n<p>Now, Visited my Log analytics workspace and added my VM in the Monitoring agent  by creating a Data collection rule like below:-</p>\\n<p><img src=\"https://i.imgur.com/0gMaaJS.png\" alt=\"enter image description here\" /></p>\\n<p>Add Data source with the below code:-</p>\\n<pre><code>\\\\root\\\\.pm2\\\\logs\\\\*.log\\n</code></pre>\\n<p><img src=\"https://i.imgur.com/xnQJ57g.png\" alt=\"enter image description here\" /></p>\\n<p>Added the Linux  syslogs and Performance counter like below:-</p>\\n<p><img src=\"https://i.imgur.com/uyYJ8kD.png\" alt=\"enter image description here\" /></p>\\n<p>The Linux syslog only writes the below options:-</p>\\n<p><img src=\"https://i.imgur.com/fiF0gci.png\" alt=\"enter image description here\" /></p>\\n<p>And Performance counters are used to get Linux VM\\'s metrics like below:-</p>\\n<p><img src=\"https://i.imgur.com/XR0GqsQ.png\" alt=\"enter image description here\" /></p>\\n<p>I also tried adding custom pm2 log file oath in performance counter but it did not write the pm2 logs in Log analytics table, refer below:-</p>\\n<p><img src=\"https://i.imgur.com/IQq4jhr.png\" alt=\"enter image description here\" /></p>\\n<p>Both options does not include any custom method to include pm2 logs. As an alternative you can open your log file in your Linux VM and then copy it to your local machine and create a custom table in Log analytics with Pm2 logs like below:-</p>\\n<p><strong>Command :-</strong></p>\\n<pre class=\"lang-bash prettyprint-override\"><code>nano app-error.log\\n</code></pre>\\n<p><strong>Output:-</strong></p>\\n<p><img src=\"https://i.imgur.com/P4Ss5at.png\" alt=\"enter image description here\" /></p>\\n<p><img src=\"https://i.imgur.com/P0GiiOx.png\" alt=\"enter image description here\" /></p>\\n<p><img src=\"https://i.imgur.com/NCzoJpR.png\" alt=\"enter image description here\" /></p>\\n<p><img src=\"https://i.imgur.com/CAXDcEw.png\" alt=\"enter image description here\" /></p>\\n<p><img src=\"https://i.imgur.com/O2Ri5er.png\" alt=\"enter image description here\" /></p>\\n<p><img src=\"https://i.imgur.com/ybHhYVl.png\" alt=\"enter image description here\" /></p>\\n<p>You can also create custom table with Data collection rule by selecting Custom as a platform like below:-</p>\\n<p><img src=\"https://i.imgur.com/90TWx6Q.png\" alt=\"enter image description here\" /></p>\\n'"
      ]
     },
     "metadata": {},
     "output_type": "display_data"
    },
    {
     "data": {
      "text/plain": [
       "'A:'"
      ]
     },
     "metadata": {},
     "output_type": "display_data"
    },
    {
     "data": {
      "text/plain": [
       "'<p>In Databricks there is no REST Api to get data in delta table, but we can get data of delta table using Databricks jobs.</p>\\n<p>Follow below steps,</p>\\n<p>First, create a notebook in databricks which gets data in delta table and returns the data in Json format.\\nAdd below code in your notebook, alter accordingly to your table.</p>\\n<pre><code>df = spark.sql(&quot;SELECT  *  FROM test&quot;)\\nj_son = df.toJSON()\\n\\nres=&quot;&quot;\\nfor i in j_son.collect():\\n    res = res + &quot;,&quot; + i\\n\\ndbutils.notebook.exit(&quot;[&quot;+res[1:]+&quot;]&quot;)\\n</code></pre>\\n<p>Then create a job using this notebook.</p>\\n<p><img src=\"https://i.imgur.com/9vCnold.png\" alt=\"enter image description here\" /></p>\\n<p>In the next page create the task name, select the path to notebook and your cluster on which it needs to be run.\\nThen hit on create.</p>\\n<p><img src=\"https://i.imgur.com/TrOOYgV.png\" alt=\"enter image description here\" /></p>\\n<p>After creating you will get details as below, copy the job id.</p>\\n<p><img src=\"https://i.imgur.com/45M1qLE.png\" alt=\"enter image description here\" /></p>\\n<p>This is the job in databricks provides API\\'s for running job, getting results of that particular job.</p>\\n<p><a href=\"https://docs.databricks.com/dev-tools/api/latest/jobs.html#\" rel=\"nofollow noreferrer\">For more information follow this documentation.</a>`</p>\\n<p>Next create an backed server where the API request raised to databricks job.\\nI\\'ve used javascript and expressJs framework.</p>\\n<p>In visual code open new folder and execute below command in terminal. Make sure you have <code>nodeJs</code> installed in your system.</p>\\n<pre><code>npm install express axios cors\\n</code></pre>\\n<p>You will get the project structure as below in your folder.</p>\\n<p><img src=\"https://i.imgur.com/8wkM7Vs.png\" alt=\"enter image description here\" /></p>\\n<p>Next, create .js file, mine it\\'s <code>btst.js</code>.\\nAfter creating, add below code in that file.</p>\\n<pre><code>const  express = require(\\'express\\');\\nconst  axios = require(\\'axios\\');\\nconst  cors = require(\\'cors\\');\\nconst  app = express();\\n\\napp.use(cors({\\norigin:\\'*\\'\\n}));\\n\\nconst  port = 5000;\\n\\n// Set the access token for authentication\\nconst  token = \\'your databricks token\\';\\n\\n// Set the base URL for the Databricks REST API\\nconst  baseUrl = \\'https://your databricks host/api/2.1/\\';\\n\\napp.get(\\'/runjob\\', async  function(req, res) {\\ntry {\\nconst  headers = {\\n\\'Authorization\\':  `Bearer ${token}`,\\n\\'Content-Type\\':  \\'application/json\\'\\n}\\n\\nfunction  sleep(ms) {\\nreturn  new  Promise(resolve  =&gt;  setTimeout(resolve, ms));\\n}\\n\\nconst  requestBody = {\\njob_id:  &quot;1121949406005982&quot;\\n};\\nconst  response = await  axios.post(`${baseUrl}jobs/run-now/`, requestBody, { headers });\\nconsole.log(`run id : ${response.data.run_id}`)\\nconsole.log(&quot;job is running...&quot;)\\nconst  t_res = await  axios.get(`${baseUrl}jobs/runs/get?run_id=${response.data.run_id}`,{ headers })\\ntask_id = t_res.data.tasks[0].run_id\\nconsole.log(`task id : ${task_id}`)\\nawait  sleep(15000)\\nconst  d_res = await  axios.get(`${baseUrl}jobs/runs/get-output?run_id=${task_id}`,{ headers })\\nj_res = JSON.parse(d_res.data.notebook_output.result)\\nconsole.log(j_res)\\nres.send(j_res);\\n} catch (error) {\\nconsole.log(error)\\nres.status(500).send(`Error1.......${error}`);\\n}\\n});\\n\\napp.listen(port, () =&gt; {\\nconsole.log(`Server listening at http://localhost:${port}`);\\n});\\n</code></pre>\\n<p>Here you paste the job id  you copied earlier in databricks.</p>\\n<p><img src=\"https://i.imgur.com/ex8Md5N.png\" alt=\"enter image description here\" />\\nThen execute below command in terminal.</p>\\n<pre><code>node yourfilename.js\\n</code></pre>\\n<p>In my case it is</p>\\n<pre><code>node btst.js\\n</code></pre>\\n<p>Then your server will be running at <code>http://localhost:5000</code>.</p>\\n<p>You send <code>GET</code> request to this url in browser or using postman at endpoint.\\n<code>http://localhost:5000/runjob</code>, you will get the data in json format so you can use it anywhere.\\nThis is the below result, it takes 15 seconds to display because after sending post request to jobs it needs to run the task, it takes about 10-15 seconds.\\n<img src=\"https://i.imgur.com/ifIBRZY.png\" alt=\"enter image description here\" /></p>\\n<p>and data in databricks table is\\n<img src=\"https://i.imgur.com/NPwtB5r.png\" alt=\"enter image description here\" /></p>\\n'"
      ]
     },
     "metadata": {},
     "output_type": "display_data"
    },
    {
     "data": {
      "text/plain": [
       "'A:'"
      ]
     },
     "metadata": {},
     "output_type": "display_data"
    },
    {
     "data": {
      "text/plain": [
       "'<p>As <a href=\"https://getbootstrap.com/docs/5.3/customize/sass/#variable-defaults\" rel=\"nofollow noreferrer\">stated in the Bootstrap 5 docs</a>,</p>\\n<blockquote>\\n<p>Variable overrides must come after our functions are imported, but before the rest of the imports.</p>\\n</blockquote>\\n<p>So changing the <code>$spacer</code> value should be simply:</p>\\n<pre><code>// required\\n@import &quot;functions&quot;;\\n\\n// default variable overrides\\n$spacer: 5rem;\\n\\n// individual imports or bootstrap entirely\\n@import &quot;bootstrap&quot;;\\n</code></pre>\\n<p><a href=\"https://codeply.com/p/pjmV67jI4T\" rel=\"nofollow noreferrer\">SASS demo</a></p>\\n'"
      ]
     },
     "metadata": {},
     "output_type": "display_data"
    },
    {
     "data": {
      "text/plain": [
       "'A:'"
      ]
     },
     "metadata": {},
     "output_type": "display_data"
    },
    {
     "data": {
      "text/plain": [
       "'<p>With the <code>at</code> method, the optional chaining and nullish coalescing operators, you can do:</p>\\n<p><div class=\"snippet\" data-lang=\"js\" data-hide=\"false\" data-console=\"true\" data-babel=\"false\">\\r\\n<div class=\"snippet-code\">\\r\\n<pre class=\"snippet-code-js lang-js prettyprint-override\"><code>const lastElement = array =&gt; array?.at?.(-1) ?? null;\\n\\n// demo\\nconsole.log(lastElement([1,2,3])); // 3\\nconsole.log(lastElement([])); // null\\nconsole.log(lastElement(42)); // null\\nconsole.log(lastElement()); // null</code></pre>\\r\\n</div>\\r\\n</div>\\r\\n</p>\\n'"
      ]
     },
     "metadata": {},
     "output_type": "display_data"
    },
    {
     "data": {
      "text/plain": [
       "'A:'"
      ]
     },
     "metadata": {},
     "output_type": "display_data"
    },
    {
     "data": {
      "text/plain": [
       "'<p>There are some security considerations when changing <code>post_max_size</code> setting.</p>\\n<p>See below example and solution.</p>\\n<p><strong>But</strong> unlike said in the other answer(s),\\nyour Server\\'s or Client\\'s bandwidth does NOT need to be increased,\\nat least not if it is already enough for your targeted user count.</p>\\n<h2>Example <sup>(for security issue)</sup></h2>\\n<h4>Assume given:</h4>\\n<ul>\\n<li><p>Server\\'s storage capacity is <code>100 GB</code>.</p>\\n</li>\\n<li><p>Server\\'s <code>php.ini</code> allows <code>950M</code>, like OP mentioned.</p>\\n</li>\\n<li><p>Server\\'s PHP script limits each user to have 1 GB free storage.</p>\\n</li>\\n</ul>\\n<h4>When:</h4>\\n<ul>\\n<li><p>A single attacker tries uploading 100 files, each with <code>950 MB</code> size.</p>\\n</li>\\n<li><p>The first of said files finishes uploading.</p>\\n</li>\\n<li><p>Which ends/ fills allowed 1 GB.</p>\\n</li>\\n</ul>\\n<h4>Then:</h4>\\n<ul>\\n<li><p>Because the PHP script runs <em>ONLY AFTER</em> the entire file is posted (uploaded).</p>\\n</li>\\n<li><p>The remaining 99 files will each continue being posted (uploaded),\\nwhich probably causes out-of-storage issues for Server.</p>\\n</li>\\n<li><p>Finally, if server did not yet crash due to out-of-storage issues,\\nsaid PHP script runs and checks the 1 GB limit,\\nhence deletes newly uploaded files.</p>\\n</li>\\n</ul>\\n<h2>Solution</h2>\\n<p>The default <code>8M</code> value of <code>post_max_size</code> is more than enough,\\nactually, maybe lower that to <code>3M</code>;</p>\\n<p><strong>Because</strong>, the <code>post_max_size</code> limit is checked BEFORE upload completes,\\nand whenever that limit is reached, your PHP script runs instantly,\\nwhich allows your script to handle limit error(s).</p>\\n<p><strong>Hence</strong>, instead of increasing <code>post_max_size</code>, try something like:</p>\\n<ul>\\n<li><p>Implement &quot;chunk uploading&quot;, using <code>JavaScript</code> (or even <code>WebAssembly</code>).</p>\\n<blockquote>\\n<p>For anything that takes more than your <code>post_max_size</code> limit.</p>\\n</blockquote>\\n</li>\\n<li><p>This allows PHP script to cancel the operation without much overhead.</p>\\n<blockquote>\\n<p>Because each chunk contains only around <code>8 MB</code> or <code>3 MB</code> of the file.</p>\\n</blockquote>\\n</li>\\n<li><p>Finally, maybe even suspend user\\'s access <em>AFTER</em> they retry too many times.</p>\\n</li>\\n</ul>\\n<blockquote>\\n<p><strong>Note</strong> that haveing lower <code>upload_max_filesize</code> does NOT give same benefits,\\nas that limit is checked <em>only after</em> an entire file finishes uploading.</p>\\n</blockquote>\\n<p><strong>See also:</strong></p>\\n<ul>\\n<li><a href=\"https://github.com/pionl/laravel-chunk-upload\" rel=\"nofollow noreferrer\">Laravel-chunk-upload</a></li>\\n<li><a href=\"https://github.com/dropzone/dropzone\" rel=\"nofollow noreferrer\">DropZone-JS</a></li>\\n<li><a href=\"https://github.com/ankitpokhrel/tus-php\" rel=\"nofollow noreferrer\">TUS-PHP</a>\\n(or it\\'s <a href=\"https://github.com/OneOffTech/laravel-tus-upload\" rel=\"nofollow noreferrer\">Laravel-port</a>)</li>\\n</ul>\\n'"
      ]
     },
     "metadata": {},
     "output_type": "display_data"
    },
    {
     "data": {
      "text/plain": [
       "'A:'"
      ]
     },
     "metadata": {},
     "output_type": "display_data"
    },
    {
     "data": {
      "text/plain": [
       "'<p>The full property path is <code>spring.jpa.properties.hibernate.format_sql</code>, so you simply have to move it one level down in your application.yml:</p>\\n<pre><code>spring:\\n  jpa:\\n    properties:\\n      hibernate:\\n        format_sql: true\\n</code></pre>\\n<p>However this approach (logging to standard output) <a href=\"https://www.baeldung.com/sql-logging-spring-boot#1-to-standard-output\" rel=\"nofollow noreferrer\">is not recommend here!</a></p>\\n'"
      ]
     },
     "metadata": {},
     "output_type": "display_data"
    },
    {
     "data": {
      "text/plain": [
       "'A:'"
      ]
     },
     "metadata": {},
     "output_type": "display_data"
    },
    {
     "data": {
      "text/plain": [
       "'<p>In the <code>db.getUserByEmail()</code> function, try removing the <code>return</code> statement with <code>reject</code> and <code>resolve</code>.</p>\\n'"
      ]
     },
     "metadata": {},
     "output_type": "display_data"
    },
    {
     "data": {
      "text/plain": [
       "'A:'"
      ]
     },
     "metadata": {},
     "output_type": "display_data"
    },
    {
     "data": {
      "text/plain": [
       "\"<p>You can add another list where to store the modified values (here called 'new_array'), and then using the <code>join</code> method to join everything together again</p>\\n<pre><code>comando = '/bin/curl http://111.111.111.111:1111/ -X POST -d &quot;a=a&amp;b=b&quot;'\\nnew = []\\n\\n\\nfor i in comando.split('/'):\\n    a = re.search(r'\\\\b[^\\\\W\\\\d_]+\\\\b', i)\\n    if a:\\n        randomIndex = int(random.random() * a.end())\\n        randomChar = i[randomIndex]  \\n        new.append(i.replace(randomChar, '?'))\\n    else:\\n        new.append(i)\\n\\nprint('/'.join(new))\\n</code></pre>\\n\""
      ]
     },
     "metadata": {},
     "output_type": "display_data"
    },
    {
     "data": {
      "text/plain": [
       "'A:'"
      ]
     },
     "metadata": {},
     "output_type": "display_data"
    },
    {
     "data": {
      "text/plain": [
       "\"<p>Solution from @RomkaLTU not worked because loaders order wasn't correct. This loaders ordering working in my case.</p>\\n<pre><code> const path = require(&quot;path&quot;);\\n \\n const loader = {\\n   loader: &quot;sass-resources-loader&quot;,\\n   options: {\\n     resources: path.resolve(__dirname, &quot;./src/assets/styles/main.scss&quot;),\\n   },\\n };\\n \\n module.exports = defineConfig({\\n   configureWebpack: {\\n     module: {\\n       rules: [\\n         {\\n           test: /\\\\.scss$/,\\n           use: [&quot;sass-loader&quot;, loader],\\n         },\\n       ],\\n     },\\n   },\\n });\\n\\n</code></pre>\\n\""
      ]
     },
     "metadata": {},
     "output_type": "display_data"
    },
    {
     "data": {
      "text/plain": [
       "'A:'"
      ]
     },
     "metadata": {},
     "output_type": "display_data"
    },
    {
     "data": {
      "text/plain": [
       "\"<p>There is no way to select previous siblings e.g. <code>.parent.cell-rich</code> in CSS. With +,~ operators you can only select next sibling/s. If you don't want to add extra classnames, you can try using JS to achieve that.</p>\\n\""
      ]
     },
     "metadata": {},
     "output_type": "display_data"
    },
    {
     "data": {
      "text/plain": [
       "'A:'"
      ]
     },
     "metadata": {},
     "output_type": "display_data"
    },
    {
     "data": {
      "text/plain": [
       "\"<p>There is actually another option in addition to installing and importing the library in preview.js as mentioned in the other post from @edin0x.</p>\\n<p>You can create the file .storybook/preview-header.html. Here you could just import font awesome via URL. This might be especially useful in case you don't want or can't use the lib specific FontAwesomeIcon component and instead want to use plain html or you want to include a pro kit.</p>\\n<pre><code>&lt;script src=&quot;https://kit.fontawesome.com/xxxx.js&quot; crossorigin=&quot;anonymous&quot;&gt;&lt;/script&gt;\\n</code></pre>\\n<p>Consequently, you can just use the html snippet like this:</p>\\n<pre><code>&lt;i class=&quot;fa-solid fa-angle-down&quot;&gt;&lt;/i&gt;\\n</code></pre>\\n\""
      ]
     },
     "metadata": {},
     "output_type": "display_data"
    },
    {
     "data": {
      "text/plain": [
       "'A:'"
      ]
     },
     "metadata": {},
     "output_type": "display_data"
    },
    {
     "data": {
      "text/plain": [
       "\"<p>Yes, you can, But you need to make sure that the values are properly enclosed in the datasets</p>\\n<p>One of the world around is you can create a binary feature, which indicates whether the value is missing or not</p>\\n<pre><code>from pyspark.ml.feature import Imputer, VectorAssembler, SQLTransformer\\n\\ndf = spark.read.csv(&quot;ataset.csv&quot;, header=True, inferSchema=True)\\n\\nfor col in df.columns:\\n    if df.where(F.col(col).isNull()).count() &gt; 0:\\n        df = df.withColumn(col+&quot;_is_missing&quot;, F.when(F.col(col).isNull(), 1).otherwise(0))\\n\\ninputCols = [col for col in df.columns if col != 'target']\\nva = VectorAssembler(inputCols=inputCols, outputCol=&quot;features&quot;)\\n\\nrf = RandomForestClassifier(featuresCol=&quot;features&quot;, labelCol=&quot;target&quot;)\\n\\npipeline = Pipeline(stages=[va, rf])\\n\\ntrain, test = df.randomSplit([0.7, 0.3], seed=123)\\n\\nmodel = pipeline.fit(train)\\n\\npredictions = model.transform(test)\\n\\nevaluator = BinaryClassificationEvaluator(rawPredictionCol=&quot;rawPrediction&quot;, labelCol=&quot;target&quot;)\\nauc = evaluator.evaluate(predictions)\\nprint(&quot;AUC: {:.3f}&quot;.format(auc))\\n</code></pre>\\n\""
      ]
     },
     "metadata": {},
     "output_type": "display_data"
    },
    {
     "data": {
      "text/plain": [
       "'A:'"
      ]
     },
     "metadata": {},
     "output_type": "display_data"
    },
    {
     "data": {
      "text/plain": [
       "'<p>This code worked for me try this:</p>\\n<pre><code>const Home = ({ allPosts }) =&gt; {\\n  return (\\n    &lt;div&gt;\\n      {allPosts.map((post, index) =&gt; (\\n        &lt;p key={index}&gt;\\n          &lt;span&gt;{index + 1}: &lt;/span&gt;\\n          {post}\\n        &lt;/p&gt;\\n      ))}\\n    &lt;/div&gt;\\n  );\\n};\\n\\nexport default Home;\\n\\nexport const getServerSideProps = async () =&gt; {\\n  const res = await fetch(\\'https://jsonplaceholder.typicode.com/posts\\');\\n  let allPosts = await res.json();\\n\\n  return {\\n    props: {\\n      allPosts: allPosts.map((post) =&gt; post.title),\\n    },\\n  };\\n};\\n</code></pre>\\n<p><a href=\"https://i.stack.imgur.com/3Ucxs.png\" rel=\"nofollow noreferrer\">Screenshot example</a></p>\\n'"
      ]
     },
     "metadata": {},
     "output_type": "display_data"
    },
    {
     "data": {
      "text/plain": [
       "'A:'"
      ]
     },
     "metadata": {},
     "output_type": "display_data"
    },
    {
     "data": {
      "text/plain": [
       "\"<p>You don't need to use selenium for this. You can simply use <strong>requests</strong> &amp; <strong>bs4</strong>.</p>\\n<p>Here is how:</p>\\n<pre><code>import requests\\nfrom bs4 import BeautifulSoup\\n\\ndata = requests.get(&quot;https://www.luyennghetienganh.com/learn-by-listening-level-1/1060-learn-english-by-listening-level-1-unit-001.html&quot;)\\nsoup = BeautifulSoup(data.text, 'html.parser')\\ntranscripts = soup.find('div', {&quot;class&quot;: &quot;rabbit-lyrics lyric-1 col-1&quot;}).text.strip().split('\\\\n')\\n\\neng_sub = transcripts[0::2]\\nprint(eng_sub)\\n\\n</code></pre>\\n<p>end_sub:</p>\\n<pre><code>['[00:00.04] First Snow Fall ', 'Today is November 26th.', 'It snowed all day today.', 'The snow is beautiful.', 'The snow finally stopped.', 'My sister and I are excited.', &quot;My Mom doesn't like the snow.&quot;, 'My Mom has to shovel the drive way.', 'My sister and I get to play.', 'I put on my hat and mittens.', 'My Mom puts on my scarf.', 'My Mom zippers my jacket.', 'My sister puts on her hat and mittens.', 'My Mom puts on her scarf.', 'My Mom zippers her jacket.', 'My sister and I go outside.', 'We begin to make a snow man.', 'My Mom starts to shovel the snow.', 'My sister and I make snow angels.', 'My sister and I throw snowballs.', 'It starts to snow again.', 'We go inside for hot chocolate.']\\n</code></pre>\\n<p>[Update]</p>\\n<p>Using <strong>Selenium</strong> only:</p>\\n<pre><code>from selenium.webdriver import Chrome\\nfrom selenium.webdriver.common.by import By\\n\\ndriver = Chrome()\\ndriver.get(&quot;https://www.luyennghetienganh.com/learn-by-listening-level-1/1060-learn-english-by-listening-level-1-unit-001.html&quot;)\\n\\ncontainer = driver.find_elements(By.CSS_SELECTOR, 'div.rabbit-lyrics__line')\\neng_sub = [i.get_attribute('innerHTML') for i in container]\\nprint(eng_sub)\\n</code></pre>\\n<p>end_sub:</p>\\n<pre><code>[' First Snow Fall', 'Today is November 26th.', 'It snowed all day today.', 'The snow is beautiful.', 'The snow finally stopped.', 'My sister and I are excited.', &quot;My Mom doesn't like the snow.&quot;, 'My Mom has to shovel the drive way.', 'My sister and I get to play.', 'I put on my hat and mittens.', 'My Mom puts on my scarf.', 'My Mom zippers my jacket.', 'My sister puts on her hat and mittens.', 'My Mom puts on her scarf.', 'My Mom zippers her jacket.', 'My sister and I go outside.', 'We begin to make a snow man.', 'My Mom starts to shovel the snow.', 'My sister and I make snow angels.', 'My sister and I throw snowballs.', 'It starts to snow again.', 'We go inside for hot chocolate.']\\n</code></pre>\\n\""
      ]
     },
     "metadata": {},
     "output_type": "display_data"
    },
    {
     "data": {
      "text/plain": [
       "'A:'"
      ]
     },
     "metadata": {},
     "output_type": "display_data"
    },
    {
     "data": {
      "text/plain": [
       "'<p>Well made that loop for layers anyways.. Here is my code for it :)</p>\\n<pre><code>export const SecondMap = ({map}) =&gt; {\\nconst [layers, setLayers] = useState([])\\n\\nuseEffect(() =&gt; {\\n    if (!map) return;\\n    let wmsLayers = []\\n\\n    for (const prop in map.target._layers) {\\n        if (map.target._layers[prop].wmsParams) {\\n            const wmsLayer = {\\n                url: map.target._layers[prop]._url,\\n                layers: map.target._layers[prop].options.layers\\n            }\\n\\n            wmsLayers.push(wmsLayer)\\n        }\\n    }\\n\\n    setLayers(wmsLayers)\\n}, [])\\n\\nconst handleWMSLayers = () =&gt; {\\n    return layers.map((l =&gt; {\\n        return &lt;WMSTileLayer url={l.url} layers={`${l.layers}`} /&gt;\\n    }))\\n}\\n\\nreturn (\\n    &lt;div&gt;\\n        &lt;MapContainer&gt;\\n            {handleWMSLayers()}\\n        &lt;/MapContainer&gt;\\n    &lt;/div&gt;\\n)}\\n</code></pre>\\n'"
      ]
     },
     "metadata": {},
     "output_type": "display_data"
    },
    {
     "data": {
      "text/plain": [
       "'A:'"
      ]
     },
     "metadata": {},
     "output_type": "display_data"
    },
    {
     "data": {
      "text/plain": [
       "'<p>Try:</p>\\n<pre><code>df1_df2_merged = pd.merge(\\n    df1[[&quot;type&quot;, &quot;P_val&quot;, &quot;V_val&quot;, &quot;C_PP_val&quot;]].rename(columns {&quot;C_PP_val&quot;:&quot;C_val&quot;}),\\n    df2,\\n    how=&quot;left&quot;,\\n    on=[&quot;type&quot;, &quot;P_val&quot;, &quot;C_val&quot;]\\n)\\n\\n# Output\\n\\n    type    P_val   V_val   C_val   PP_val\\n0   A   1   25.50   1   35.50\\n1   A   1   22.30   2   41.20\\n2   A   2   33.20   1   35.20\\n3   A   2   31.10   2   31.10\\n4   A   3   21.40   1   21.40\\n5   A   3   32.60   2   32.60\\n6   A   3   35.40   3   35.40\\n7   B   1   23.80   2   13.12\\n8   B   1   13.12   3   16.30\\n9   B   2   19.30   1   19.30\\n10  B   2   21.72   2   21.72\\n11  B   3   33.30   1   33.30\\n12  B   3   19.32   2   19.32\\n13  B   3   22.50   2   19.32\\n</code></pre>\\n'"
      ]
     },
     "metadata": {},
     "output_type": "display_data"
    },
    {
     "data": {
      "text/plain": [
       "'A:'"
      ]
     },
     "metadata": {},
     "output_type": "display_data"
    },
    {
     "data": {
      "text/plain": [
       "\"<p>In your example, the matches are all static strings, so you can just use them as dictionary keys for a Counter object.</p>\\n<pre><code>import re\\nfrom collections import Counter\\n\\ncount = Counter()\\nfor line in lines:\\n    for match in re.finditer(Pattern, line):\\n        count.update(match.group(0))\\n\\nfor k in count.keys():\\n    print(f&quot;{c[k]} occurrences of {k}&quot;)\\n</code></pre>\\n<p>Part of the useful changes here is using <code>re.finditer()</code> instead of <code>re.findall</code> which returns a proper <code>re.Match</code> object from which you can extract the matching string with <code>.group(0)</code> as well as various other attributes, should you wish to.</p>\\n<p>If you need to extract matches which could contain variations, like <code>r&quot;c[ei]*ling&quot;</code> or <code>r&quot;\\\\d+&quot;</code>, you can't use the matched strings as dictionary keys (because then the <code>Counter</code> would count each unique string as a separate entity; so you would get &quot;12 occurrences of 123&quot; and &quot;1 occurrence of 234&quot; instead of &quot;13 occurrences of <code>\\\\d+</code>&quot;); in that case, I would perhaps try to use named subgroups.</p>\\n<pre><code>    for match in re.finditer(r&quot;(?P&lt;ceiling&gt;c[ei]*ling)|(?P&lt;number&gt;\\\\d+)&quot;, line):\\n        matches = match.groupdict()\\n        for key in matches.keys():\\n            if matches[key] is not None:\\n                count.update(key)\\n</code></pre>\\n\""
      ]
     },
     "metadata": {},
     "output_type": "display_data"
    },
    {
     "data": {
      "text/plain": [
       "'A:'"
      ]
     },
     "metadata": {},
     "output_type": "display_data"
    },
    {
     "data": {
      "text/plain": [
       "\"<p>Install <code>@react-native-firebase/app</code> and <code>@react-native-firebase/messaging</code>.</p>\\n<p>Open <code>Podfile</code> in <code>ios</code> diectory and add these lines:</p>\\n<pre><code>pod 'Firebase', :modular_headers =&gt; true\\npod 'FirebaseCoreInternal', :modular_headers =&gt; true\\npod 'GoogleUtilities', :modular_headers =&gt; true\\npod 'FirebaseCore', :modular_headers =&gt; true\\n</code></pre>\\n<p>in between</p>\\n<pre><code>flags = get_default_flags()\\n</code></pre>\\n<p>and</p>\\n<pre><code>use_react_native!(\\n</code></pre>\\n<p>Then, delete <code>podfile.lock</code>.</p>\\n<p>In your terminal inside your project root directory, run the following commands:</p>\\n<pre><code>cd ios\\npod deintegrate\\npod cache clean --all\\nnpm cache verify\\nyarn cache clean\\npod install --repo-update\\n</code></pre>\\n<p>Next, clean build folder under <code>XCode -&gt; Product -&gt; Clean Build Folder</code>.</p>\\n<p>Run your app once from within XCode. You can then subsequently run your app from the terminal.</p>\\n<p>=====================</p>\\n<p>If for some reason you encounter this error</p>\\n<pre><code>&quot;No Firebase App '[DEFAULT]' has been created - call firebase.initialzeApp()&quot;\\n</code></pre>\\n<p>open <code>AppDelegate.mm</code> add and this</p>\\n<pre><code>#import &lt;Firebase.h&gt;\\n</code></pre>\\n<p>below</p>\\n<pre><code>#import &lt;React/RCTRootView.h&gt;\\n</code></pre>\\n<p>Search for a block of code containing <code>didFinishLaunchingWithOptions</code> and add the code below at the beginning of the code block</p>\\n<pre><code>if ([FIRApp defaultApp] == nil) {\\n  [FIRApp configure];\\n}\\n</code></pre>\\n<p>So, you would have something like this</p>\\n<pre><code>- (BOOL)application:(UIApplication *)application didFinishLaunchingWithOptions:(NSDictionary *)launchOptions\\n{\\n  # Firebase configuration\\n  if ([FIRApp defaultApp] == nil) {\\n    [FIRApp configure];\\n  }\\n  \\n  # rest of the code below which you shouldn't touch \\n  # unless you absolutely know what you are doing\\n  ...\\n</code></pre>\\n<p>This should send the error packing.</p>\\n<p>Cheers!!!</p>\\n\""
      ]
     },
     "metadata": {},
     "output_type": "display_data"
    },
    {
     "data": {
      "text/plain": [
       "'A:'"
      ]
     },
     "metadata": {},
     "output_type": "display_data"
    },
    {
     "data": {
      "text/plain": [
       "'<p>Besides coercing your fractional number to a float (<code>q * 1.0</code>, which annoyingly depends on the global parameter<code>realprecision</code>), you can also use <code>printf</code> with standard C semantics:</p>\\n<pre><code>          ? q = 300000000000/13;\\n          ? printf(&quot;%f&quot;, q) \\n          23076923076.923076923076923076923076923\\n          ? printf(&quot;%e&quot;, q)   \\n          2.3076923076923076923076923076923076923 e10\\n          ? printf(&quot;.3e&quot;, q)  \\\\\\\\ 3 digits after decimal point\\n          2.308 e10\\n</code></pre>\\n<p>(see <code>??printf</code> for lots of options). You can also use <code>Strprintf</code> (same options) to convert from rational instead of printing.</p>\\n'"
      ]
     },
     "metadata": {},
     "output_type": "display_data"
    },
    {
     "data": {
      "text/plain": [
       "'A:'"
      ]
     },
     "metadata": {},
     "output_type": "display_data"
    },
    {
     "data": {
      "text/plain": [
       "'<p>For Ingress resource you can define the ingress class to be gce, the Ingress Resource uses the Google Cloud GCLB L7 load balancer to serve traffic.</p>\\n<pre><code>annotations: kubernetes.io/ingress.class: gce\\n</code></pre>\\n<p>For more information you can refer the Google Cloud <a href=\"https://cloud.google.com/community/tutorials/nginx-ingress-gke\" rel=\"nofollow noreferrer\">documentation</a></p>\\n'"
      ]
     },
     "metadata": {},
     "output_type": "display_data"
    },
    {
     "data": {
      "text/plain": [
       "'A:'"
      ]
     },
     "metadata": {},
     "output_type": "display_data"
    },
    {
     "data": {
      "text/plain": [
       "'<p>The fix was to add</p>\\n<p><strong>id(&quot;kotlinx-serialization&quot;)</strong> e.g.</p>\\n<pre><code>plugins {\\n    kotlin(&quot;multiplatform&quot;)\\n    id(&quot;com.android.library&quot;)\\n    id(&quot;kotlinx-serialization&quot;)\\n}\\n</code></pre>\\n<p>To the shared build.gradle.kts file.  I find this odd as it was added to the Project level one as shown below.</p>\\n<p><strong>kotlin(&quot;plugin.serialization&quot;) version &quot;1.8.10&quot;</strong></p>\\n'"
      ]
     },
     "metadata": {},
     "output_type": "display_data"
    },
    {
     "data": {
      "text/plain": [
       "'A:'"
      ]
     },
     "metadata": {},
     "output_type": "display_data"
    },
    {
     "data": {
      "text/plain": [
       "'<p>You\\'re attempting to use the <a href=\"https://docs.oracle.com/javaee/7/api/javax/jms/Message.html#setJMSExpiration-long-\" rel=\"nofollow noreferrer\"><code>setJMSExpiration()</code></a> method, but this is not allowed and will have no impact on the message. The JavaDoc for this method states:</p>\\n<blockquote>\\n<p>This method is for use by JMS providers only to set this field when a message is sent. This message cannot be used by clients to configure the expiration time of the message. This method is public to allow a JMS provider to set this field when sending a message whose implementation is not its own.</p>\\n</blockquote>\\n<p>Instead you should use the <a href=\"https://docs.oracle.com/javaee/7/api/javax/jms/MessageProducer.html#setTimeToLive-long-\" rel=\"nofollow noreferrer\"><code>setTimeToLive()</code></a> method on the corresponding <code>MessageProducer</code> or <a href=\"https://docs.oracle.com/javaee/7/api/javax/jms/JMSProducer.html#setTimeToLive-long-\" rel=\"nofollow noreferrer\"><code>JMSProducer</code></a>.</p>\\n'"
      ]
     },
     "metadata": {},
     "output_type": "display_data"
    },
    {
     "data": {
      "text/plain": [
       "'A:'"
      ]
     },
     "metadata": {},
     "output_type": "display_data"
    },
    {
     "data": {
      "text/plain": [
       "'<p>You could create a <a href=\"https://developer.mozilla.org/en-US/docs/Web/JavaScript/Reference/Global_Objects/Map\" rel=\"nofollow noreferrer\"><code>Map</code></a> from <code>oldData</code> using a combination of <code>affiliateid</code> and <code>artnr</code> as the key, and then iterate <code>newData</code> in your <code>FilterObjectDiff</code> function, checking</p>\\n<ol>\\n<li>If the new <code>affiliateid</code>/<code>artnr</code> combination exists in <code>oldData</code>; and</li>\\n<li>If it does, if the stock level is the same</li>\\n</ol>\\n<p>If neither of these cases are true, then the <code>newData</code> needs to update the DB.</p>\\n<p>We use a <code>Map</code> as lookup time is <code>O(1)</code> and thus the lookup time for all of <code>newData</code> is <code>O(n)</code> where <code>n</code> is the length of <code>newData</code>.</p>\\n<p><div class=\"snippet\" data-lang=\"js\" data-hide=\"false\" data-console=\"true\" data-babel=\"false\">\\r\\n<div class=\"snippet-code\">\\r\\n<pre class=\"snippet-code-js lang-js prettyprint-override\"><code>let oldData = [\\n  { artnr: 12, affiliateid: 1, stock: 10 },\\n  { artnr: 12, affiliateid: 2, stock: 15 },\\n  { artnr: 12, affiliateid: 3, stock: 1 },\\n  { artnr: 13, affiliateid: 2, stock: 2 }\\n]\\nlet newData = [\\n  { artnr: 12, affiliateid: 1, stock: 11 },\\n  { artnr: 12, affiliateid: 2, stock: 20 },\\n  { artnr: 12, affiliateid: 3, stock: 1 },\\n  { artnr: 13, affiliateid: 1, stock: 1 },\\n  { artnr: 13, affiliateid: 2, stock: 2 }\\n]\\n\\noldMap = new Map(oldData.map(o =&gt; [`${o.artnr}-${o.affiliateid}`, o.stock ]))\\n\\nconst FilterObjectDiff = (newData) =&gt; newData\\n  .filter(o =&gt; (s = oldMap.get(`${o.artnr}-${o.affiliateid}`)) ?\\n          s != o.stock :\\n          true)\\n          \\nconsole.log(FilterObjectDiff(newData))</code></pre>\\r\\n</div>\\r\\n</div>\\r\\n</p>\\n'"
      ]
     },
     "metadata": {},
     "output_type": "display_data"
    },
    {
     "data": {
      "text/plain": [
       "'A:'"
      ]
     },
     "metadata": {},
     "output_type": "display_data"
    },
    {
     "data": {
      "text/plain": [
       "'<pre><code>using System;\\nusing System.Collections.Generic;\\nusing System.Text.Json;\\n\\npublic class Program\\n{\\n    public class Subscription\\n    {\\n        public bool HasRead { get; set; } = true;\\n        public string TimeStamp { get; set; } = &quot;&quot;;\\n    }\\n\\n    public static void Main()\\n    {\\n        // this input format is a requirement. It cannot be changed.\\n        string json = @&quot;\\n          {\\n            &quot;&quot;305FDF11-25E7-43DE-B09D-DFFC17C79599&quot;&quot;: {\\n              &quot;&quot;hasRead&quot;&quot;: &quot;&quot;true&quot;&quot;,\\n              &quot;&quot;Timestamp&quot;&quot;: &quot;&quot;XXX&quot;&quot;\\n            }\\n          }\\n        &quot;;\\n\\n        // deserialize the JSON string into a dictionary\\n        var dict = JsonSerializer.Deserialize&lt;Dictionary&lt;string, Subscription&gt;&gt;(json,\\n            new JsonSerializerOptions(JsonSerializerDefaults.Web));\\n\\n        // iterate over the dictionary and print each key-value pair\\n        foreach (var kvp in dict)\\n        {\\n            Console.WriteLine($&quot;Key: {kvp.Key}&quot;);\\n            Console.WriteLine($&quot;HasRead: {kvp.Value.HasRead}&quot;);\\n            Console.WriteLine($&quot;TimeStamp: {kvp.Value.TimeStamp}&quot;);\\n        }\\n    }\\n}\\n</code></pre>\\n'"
      ]
     },
     "metadata": {},
     "output_type": "display_data"
    },
    {
     "data": {
      "text/plain": [
       "'A:'"
      ]
     },
     "metadata": {},
     "output_type": "display_data"
    },
    {
     "data": {
      "text/plain": [
       "'<p>In Typescript the following modifiers are known:</p>\\n<ul>\\n<li><code>public</code></li>\\n<li><code>protected</code></li>\\n<li><code>private</code></li>\\n<li><code>readonly</code></li>\\n</ul>\\n<p>Read more here: <a href=\"https://www.tutorialsteacher.com/typescript/data-modifiers\" rel=\"nofollow noreferrer\">https://www.tutorialsteacher.com/typescript/data-modifiers</a></p>\\n<p>The error message warns you that you have several declarations of <code>user</code> and they contradict each-other in their access modifier. A rule of thumb about access modifiers is that they are what you specify and, if you do not specify an access modifier for a resource, then everything in a <code>class</code> is <code>public</code> by default and everything in a <code>module</code> is <code>private</code> by default, except you are using the <code>export</code> keyword for it.</p>\\n<p>In order to fix your issue, you will need to keep the above in mind and revisit all the declarations of <code>user</code> in place and make sure they are compatible in terms of their access modifier.</p>\\n'"
      ]
     },
     "metadata": {},
     "output_type": "display_data"
    },
    {
     "data": {
      "text/plain": [
       "'A:'"
      ]
     },
     "metadata": {},
     "output_type": "display_data"
    },
    {
     "data": {
      "text/plain": [
       "'<p>The array is not mutating.</p>\\n<p><code>arr.each</code> does not iterate thru the <em>indexes</em> of an array. It iterates thru the <em>array</em>. Thus, when (say) <code>n</code> passes thru the value <code>-7</code> and you say <code>arr[n]</code>, you are looking for <code>arr[-7]</code> which does not exist.</p>\\n<p>You probably meant something like</p>\\n<pre class=\"lang-rb prettyprint-override\"><code>numArr = [3, 4, -7, 5, -6, 6]\\n\\ndef remove_sum_of_zero(arr)\\n  arr.each_index do |n|\\n    arr.each_index do |x|\\n      unless arr.index(n) == arr.index(x)\\n        puts &quot;#{arr[n]} is being checked with #{arr[x]}&quot; \\n      end\\n    end\\n  end\\nend\\n\\nremove_sum_of_zero(numArr)\\n</code></pre>\\n'"
      ]
     },
     "metadata": {},
     "output_type": "display_data"
    },
    {
     "data": {
      "text/plain": [
       "'A:'"
      ]
     },
     "metadata": {},
     "output_type": "display_data"
    },
    {
     "data": {
      "text/plain": [
       "'<p>We can use type <strong>Dictionary&lt;String,Subscription&gt;</strong> to achieve it.</p>\\n<pre><code>using System.Text.Json;\\n\\nclass JsonTest\\n{\\n    public class Subscription\\n    {\\n        public bool HasRead { get; set; } = true;\\n        public string TimeStamp { get; set; } = &quot;&quot;;\\n    }\\n    public static void Main()\\n    {\\n        string json = @&quot;\\n             {\\n                 &quot;&quot;305FDF11-25E7-43DE-B09D-DFFC17C79599&quot;&quot;: {\\n                      &quot;&quot;hasRead&quot;&quot;: &quot;&quot;true&quot;&quot;,\\n                      &quot;&quot;TimeStamp&quot;&quot;: &quot;&quot;XXX&quot;&quot;\\n                  }\\n             }\\n             &quot;;\\n\\n        var deser = JsonSerializer.Deserialize&lt;Dictionary&lt;string, Subscription&gt;&gt;(json);\\n        foreach(var key in deser.Keys)\\n        {\\n            Subscription subscription = deser[key];\\n            Console.WriteLine($&quot;Key:{key} HasRead:{subscription.HasRead} TimeStamp:{subscription.TimeStamp}&quot;);\\n        }\\n    }\\n}\\n</code></pre>\\n<p>I tried to print all values.\\nOutput is :-</p>\\n<pre><code>Key:305FDF11-25E7-43DE-B09D-DFFC17C79599 HasRead:True TimeStamp:XXX\\n</code></pre>\\n<p>Note :- We should try to match case in json and class properties. Else, We will get null/default values. I have modified <strong>Timestamp</strong> to <strong>TimeStamp</strong> in JSON string.</p>\\n'"
      ]
     },
     "metadata": {},
     "output_type": "display_data"
    },
    {
     "data": {
      "text/plain": [
       "'A:'"
      ]
     },
     "metadata": {},
     "output_type": "display_data"
    },
    {
     "data": {
      "text/plain": [
       "\"<p>You need to execute different SQL queries one by one but with <code>executemany()</code> you execute the same SQL query multiple times.</p>\\n<p>Modify your code like this</p>\\n<pre><code>def init_db():\\n    _, mycursor = mysql_connector()\\n\\n    with current_app.open_resource('schema.sql') as f:\\n        # Split the file content by semicolon and filter out empty lines\\n        sql_commands = [cmd.strip() for cmd in f.read().decode('utf8').split(';') if cmd.strip()]\\n\\n        for cmd in sql_commands:\\n            mycursor.execute(cmd)\\n</code></pre>\\n\""
      ]
     },
     "metadata": {},
     "output_type": "display_data"
    },
    {
     "data": {
      "text/plain": [
       "'A:'"
      ]
     },
     "metadata": {},
     "output_type": "display_data"
    },
    {
     "data": {
      "text/plain": [
       "'<p>You can use this snippet in your desktop version. This will put the custom code in the footer of your theme and all mobile users will be redirected to the mobile version of your site. Just put this in functions.php of your theme to make it work</p>\\n<pre class=\"lang-php prettyprint-override\"><code>function custom_footer_script() {\\n    ?&gt;\\n    &lt;script&gt;\\n      var loc = window.location;\\n      if(/Android|webOS|iPhone|iPad|iPod|BlackBerry|IEMobile|Opera Mini/i.test(navigator.userAgent) &amp;&amp;\\n        loc.pathname.indexOf(\\'/mobile-\\') === -1) {\\n           loc.href = loc.origin + \\'/mobile-\\' + loc.pathname.substr(1, loc.pathname.length);\\n      }\\n    &lt;/script&gt;\\n    &lt;?php\\n}\\nadd_action( \\'wp_footer\\', \\'custom_footer_script\\' );\\n\\n</code></pre>\\n'"
      ]
     },
     "metadata": {},
     "output_type": "display_data"
    },
    {
     "data": {
      "text/plain": [
       "'A:'"
      ]
     },
     "metadata": {},
     "output_type": "display_data"
    },
    {
     "data": {
      "text/plain": [
       "'<p>I don\\'t think you can use <code>@RestController</code> and <code>@Validated</code> annotations on the interface level as they are intended for the class level:</p>\\n<p><a href=\"https://docs.spring.io/spring-framework/docs/current/javadoc-api/org/springframework/web/bind/annotation/RestController.html\" rel=\"nofollow noreferrer\">https://docs.spring.io/spring-framework/docs/current/javadoc-api/org/springframework/web/bind/annotation/RestController.html</a></p>\\n<p><a href=\"https://docs.spring.io/spring-framework/docs/current/javadoc-api/org/springframework/validation/annotation/Validated.html\" rel=\"nofollow noreferrer\">https://docs.spring.io/spring-framework/docs/current/javadoc-api/org/springframework/validation/annotation/Validated.html</a></p>\\n<p>If you move them to ReferenceDataServiceImpl then the issue should be resolved.\\nActually it\\'s reasonable to move <code>@RequestMapping</code> to the class level as well, unless you really need multiple implementations of your controller. (It is actually possible to define this at interface level <a href=\"https://github.com/spring-projects/spring-framework/wiki/What%27s-New-in-Spring-Framework-5.x#general-web-revision-1\" rel=\"nofollow noreferrer\">since Spring 5</a> but is does not mean that is always makes sense).</p>\\n<p>P.S. Even though it is not related to your error, I would also make the following improvements in your code:</p>\\n<ul>\\n<li>Remove <code>@ResponseBody</code> annotation (as <code>@RestController</code> already includes it)</li>\\n<li>Rename <code>ReferenceDataService</code> to <code>ReferenceDataController</code> as typically service level is not what produces external APIs but what is called from the controller level.</li>\\n</ul>\\n'"
      ]
     },
     "metadata": {},
     "output_type": "display_data"
    },
    {
     "data": {
      "text/plain": [
       "'A:'"
      ]
     },
     "metadata": {},
     "output_type": "display_data"
    },
    {
     "data": {
      "text/plain": [
       "'<p>After Spending hours on internet here is <strong>SIMPLE SOLUTION</strong> from <a href=\"https://github.com/thebergamo/react-native-fbsdk-next/issues/96\" rel=\"nofollow noreferrer\">github</a></p>\\n<p>The issue was in the <strong>AppDelegate.m</strong> file in - (BOOL)application:(UIApplication *)application didFinishLaunchingWithOptions:(NSDictionary *)launchOptions I added</p>\\n<pre><code>[[FBSDKApplicationDelegate sharedInstance] application:application\\n                           didFinishLaunchingWithOptions:launchOptions];\\n</code></pre>\\n<p>just before <strong>return yes</strong></p>\\n'"
      ]
     },
     "metadata": {},
     "output_type": "display_data"
    },
    {
     "data": {
      "text/plain": [
       "'A:'"
      ]
     },
     "metadata": {},
     "output_type": "display_data"
    },
    {
     "data": {
      "text/plain": [
       "'<p>Here is the solution i found. In the updated playgrounds app there is no more need for .mlmodelc files. The app can compile the .mlmodel files</p>\\n'"
      ]
     },
     "metadata": {},
     "output_type": "display_data"
    },
    {
     "data": {
      "text/plain": [
       "'A:'"
      ]
     },
     "metadata": {},
     "output_type": "display_data"
    },
    {
     "data": {
      "text/plain": [
       "'<p>I had installed rust (which installs rustc and cargo) like so:</p>\\n<pre><code>conda activate my_env\\nconda install rust=1.67.1 -c conda-forge\\n</code></pre>\\n<p>you may be able to just install rust-src as such (but I haven\\'t tried yet) - but it is a package <a href=\"https://anaconda.org/conda-forge/rust-src/files\" rel=\"nofollow noreferrer\">https://anaconda.org/conda-forge/rust-src/files</a>:</p>\\n<pre><code>conda activate my_env\\nconda install rust-src=1.67.1 -c conda-forge\\n</code></pre>\\n<p>Alternatively, a more programatic take on @maciek\\'s answer:</p>\\n<p>try looking at their .toml files by version such as <a href=\"http://static.rust-lang.org/dist/channel-rust-1.13.0.toml\" rel=\"nofollow noreferrer\">http://static.rust-lang.org/dist/channel-rust-1.13.0.toml</a> or <a href=\"http://static.rust-lang.org/dist/channel-rust-1.67.1.toml\" rel=\"nofollow noreferrer\">http://static.rust-lang.org/dist/channel-rust-1.67.1.toml</a> etc. and find the rust-src download link\\n(ref: <a href=\"https://github.com/rust-lang/rust-forge/issues/215#issuecomment-488328424\" rel=\"nofollow noreferrer\">https://github.com/rust-lang/rust-forge/issues/215#issuecomment-488328424</a>)</p>\\n<p>We can do this part programatically too:</p>\\n<pre class=\"lang-bash prettyprint-override\"><code>brew tap 4rbor/tq &amp;&amp; brew install tq\\nwget http://static.rust-lang.org/dist/channel-rust-1.67.1.toml\\nRUST_SRC_URL=$(tq -f channel-rust-1.67.1.toml \\'pkg.rust-src.target.*.url\\')\\n</code></pre>\\n<p>Then:</p>\\n<pre class=\"lang-bash prettyprint-override\"><code>cd ~/miniconda/envs/my_env/\\nwget -c $RUST_SRC_URL -O - | tar -xz\\ncp -r rust-src-1.67.1/rust-src/lib/rustlib lib\\n</code></pre>\\n'"
      ]
     },
     "metadata": {},
     "output_type": "display_data"
    },
    {
     "data": {
      "text/plain": [
       "'A:'"
      ]
     },
     "metadata": {},
     "output_type": "display_data"
    },
    {
     "data": {
      "text/plain": [
       "\"<p>Solution based on <code>@matt</code> comment. Thanks!</p>\\n<p>Removed <code>async</code> from the <code>fetchAllContacts</code> method, removed <code>Task.init</code> and <code>await</code> from the <code>fetchAllContacts</code> calls and enclosed the do catch in a <code>DispatchQueue.global().async</code> method and it got rid of the warning.</p>\\n<pre><code>struct ContactsView: View {\\n        @State private var contacts:[CNContact] = []\\n        @State private var restrictedAccess = true\\n        @State private var restrictedAccessMessage = &quot;Restricted Access!&quot;\\n        @State private var showLoadingContactsErrorAlert = false\\n            \\n        var body: some View {\\n            NavigationView {\\n                VStack {               \\n                    List {\\n                        ForEach(contacts, id:\\\\.self) { contact in\\n                            VStack{\\n                                HStack{\\n                                    Text(&quot;\\\\(contact.givenName)&quot;)\\n                                    Text(&quot;\\\\(contact.familyName)&quot;)\\n                                        .fontWeight(.bold)\\n                                    Spacer()\\n                                }\\n                                HStack{\\n                                    Text(contact.phoneNumbers.first?.value.stringValue ?? &quot;&quot;)\\n                                    Spacer()\\n                                }\\n                            }\\n                            .foregroundColor(.label)\\n                        }\\n                    }\\n                    .onAppear{\\n                        checkAccessToContacts()\\n                    }\\n                }\\n            }\\n        }\\n        \\n        func checkAccessToContacts(){\\n            let authStatus = CNContactStore.authorizationStatus(for: .contacts)\\n            switch authStatus {\\n            case .restricted:\\n                restrictedAccessMessage = &quot;The app doesn't have access to your contacts, check parental controls and make sure you give the app access.&quot;\\n                return\\n            case .denied:\\n                restrictedAccessMessage = &quot;You previously denied this app to access contacts. To grant access, go into Settings&quot;\\n                    return\\n            case .notDetermined:\\n                restrictedAccess = false\\n                requestAccess()\\n            case .authorized:\\n                restrictedAccess = false\\n                fetchAllContacts()\\n            default:\\n                print(&quot;Not determined.&quot;)\\n                requestAccess()\\n            }\\n        }\\n        \\n        func requestAccess(){\\n            CNContactStore().requestAccess(for: .contacts) { success, error in\\n                if !success {\\n                    print(&quot;Not authorized to access contacts. Error = \\\\(String(describing: error))&quot;)\\n                    showLoadingContactsErrorAlert = true\\n                    return\\n                }\\n                restrictedAccess = false\\n                fetchAllContacts()\\n            }\\n        }\\n        \\n        func fetchAllContacts(){\\n            let store = CNContactStore()\\n            let keys = [CNContactGivenNameKey, CNContactPhoneNumbersKey, CNContactFamilyNameKey] as [CNKeyDescriptor]\\n            let fetchRequest = CNContactFetchRequest(keysToFetch: keys)\\n            DispatchQueue.global().async{\\n                do{\\n                    try store.enumerateContacts(with: fetchRequest, usingBlock: { contact, result in\\n                        // add all contacts to the contacts array\\n                        self.contacts.append(contact)\\n                    })\\n                }catch let error{\\n                    print (&quot;Error \\\\(error)&quot;)\\n                }\\n            }\\n        }\\n    }\\n</code></pre>\\n\""
      ]
     },
     "metadata": {},
     "output_type": "display_data"
    },
    {
     "data": {
      "text/plain": [
       "'A:'"
      ]
     },
     "metadata": {},
     "output_type": "display_data"
    },
    {
     "data": {
      "text/plain": [
       "'<p>You can create implementation of Interceptor interface and register it as a plugin in configuration file.</p>\\n'"
      ]
     },
     "metadata": {},
     "output_type": "display_data"
    },
    {
     "data": {
      "text/plain": [
       "'A:'"
      ]
     },
     "metadata": {},
     "output_type": "display_data"
    },
    {
     "data": {
      "text/plain": [
       "'<p>It can be done using the <code>recursive cte</code> since you have rows connected recursively :</p>\\n<pre><code>with cte(ID, NAME, VERSION, VERSION_ID) as (\\n  select ID, NAME, VERSION, VERSION_ID\\n  from mytable \\n  where NAME = \\'Test1\\' and VERSION = \\'C\\'\\n  UNION ALL\\n  SELECT t.ID, t.NAME, t.VERSION, t.VERSION_ID\\n  FROM mytable t\\n  inner join cte c on c.VERSION_ID = t.ID\\n)\\nselect ID, NAME, VERSION\\nfrom cte\\nwhere VERSION &lt;&gt; \\'C\\'\\norder by ID;\\n</code></pre>\\n<p>Result :</p>\\n<pre><code>ID  NAME    VERSION\\n1   Test1   A\\n2   Test1   B\\n</code></pre>\\n<p><a href=\"https://dbfiddle.uk/RRbt5BxS\" rel=\"nofollow noreferrer\">Demo here</a></p>\\n'"
      ]
     },
     "metadata": {},
     "output_type": "display_data"
    },
    {
     "data": {
      "text/plain": [
       "'A:'"
      ]
     },
     "metadata": {},
     "output_type": "display_data"
    },
    {
     "data": {
      "text/plain": [
       "'<p>The protocol buffers compiler (which <em>Grpc.Tools</em> uses) will always generate C# files with Pascal-case names (i.e. first letter capitalized). There are no options to stop this from happening. (See <a href=\"https://github.com/protocolbuffers/protobuf/blob/e5679c01e8f47e8a5e7172444676bda1c2ada875/src/google/protobuf/compiler/csharp/names.cc#L63\" rel=\"nofollow noreferrer\">names.cc</a> for where it is done in the compiler).</p>\\n'"
      ]
     },
     "metadata": {},
     "output_type": "display_data"
    },
    {
     "data": {
      "text/plain": [
       "'A:'"
      ]
     },
     "metadata": {},
     "output_type": "display_data"
    },
    {
     "data": {
      "text/plain": [
       "'<p>You can subscribe to the <a href=\"https://help.autodesk.com/view/OARX/2023/ENU/?guid=OARX-ManagedRefGuide-Autodesk_AutoCAD_ApplicationServices_Core_Application_Idle\" rel=\"nofollow noreferrer\"><code>Application.Idle</code></a> event.</p>\\n'"
      ]
     },
     "metadata": {},
     "output_type": "display_data"
    },
    {
     "data": {
      "text/plain": [
       "'A:'"
      ]
     },
     "metadata": {},
     "output_type": "display_data"
    },
    {
     "data": {
      "text/plain": [
       "'<p>In UIKit - iOS 16+ fraction detent can be implemented like this:</p>\\n<pre><code>viewControllerToShow.modalPresentationStyle = .formSheet    \\nlet sheet = viewControllerToShow.sheetPresentationController\\nlet multiplier = 0.25    \\nlet fraction = UISheetPresentationController.Detent.custom { context in \\n    // height is the view.frame.height of the view controller which presents this bottom sheet\\n    height * multiplier\\n}\\nsheet?.detents = [fraction]\\n</code></pre>\\n'"
      ]
     },
     "metadata": {},
     "output_type": "display_data"
    },
    {
     "data": {
      "text/plain": [
       "'A:'"
      ]
     },
     "metadata": {},
     "output_type": "display_data"
    },
    {
     "data": {
      "text/plain": [
       "\"<p>You can use <code>merge</code> but the result is not a one-to-one relation:</p>\\n<pre><code>cols = df2.columns.tolist() + ['V_val']\\nout = df2.merge(df1, left_on=['type', 'P_val', 'C_val'],\\n                right_on=['type', 'P_val', 'C_PP_val'],\\n                suffixes=(None, '_1'), how='left')[cols]\\nprint(out)\\n\\n# Output\\n   type  P_val  C_val  PP_val  V_val\\n0     A      1      1   35.50  25.50\\n1     A      1      2   41.20  22.30\\n2     A      1      3   32.10    NaN  # no match\\n3     A      1      4   37.60    NaN  # no match\\n4     A      2      1   35.20  33.20\\n5     A      2      2   31.10  31.10\\n6     A      2      3   25.50    NaN  # no match\\n7     A      3      1   21.40  21.40\\n8     A      3      2   32.60  32.60\\n9     A      3      3   35.40  35.40\\n10    A      3      4  126.70    NaN  # no match\\n11    B      1      1   23.80    NaN  # no match\\n12    B      1      2   13.12  23.80\\n13    B      1      3   16.30  13.12\\n14    B      1      4   25.12    NaN  # no match\\n15    B      2      1   19.30  19.30\\n16    B      2      2   21.72  21.72\\n17    B      3      1   33.30  33.30\\n18    B      3      2   19.32  19.32  # dupe\\n19    B      3      2   19.32  22.50  # dupe\\n20    B      3      3   22.50    NaN  # no match\\n</code></pre>\\n\""
      ]
     },
     "metadata": {},
     "output_type": "display_data"
    },
    {
     "data": {
      "text/plain": [
       "'A:'"
      ]
     },
     "metadata": {},
     "output_type": "display_data"
    },
    {
     "data": {
      "text/plain": [
       "'<p>Even though I had CORS in my project already, I encountered an error with the &quot;network error&quot; flag in axios because I was passing custom headers into axios before the post data.</p>\\n<p>The post data in axios should always be the second argument, then the custom headers last.</p>\\n'"
      ]
     },
     "metadata": {},
     "output_type": "display_data"
    },
    {
     "data": {
      "text/plain": [
       "'A:'"
      ]
     },
     "metadata": {},
     "output_type": "display_data"
    },
    {
     "data": {
      "text/plain": [
       "\"<p>You're right that the y parameter in the legend dictionary sets the y coordinate in the middle rather than the top. Workarounds I can think of are manual - setting a fixed height or calculating the height for the plot and adjusting the y value accordingly.</p>\\n\""
      ]
     },
     "metadata": {},
     "output_type": "display_data"
    },
    {
     "data": {
      "text/plain": [
       "'A:'"
      ]
     },
     "metadata": {},
     "output_type": "display_data"
    },
    {
     "data": {
      "text/plain": [
       "'<p>Adjust suggestion priority: You can also adjust the priority of suggestions in VS Code so that the most relevant suggestions appear first. To do this, go to Settings and search for &quot;<em>editor.suggestSelection</em>&quot;. Change the value to &quot;<em>recentlyUsed</em>&quot; to prioritize suggestions you have recently used, or &quot;first&quot; to prioritize suggestions based on the current document.</p>\\n'"
      ]
     },
     "metadata": {},
     "output_type": "display_data"
    },
    {
     "data": {
      "text/plain": [
       "'A:'"
      ]
     },
     "metadata": {},
     "output_type": "display_data"
    },
    {
     "data": {
      "text/plain": [
       "'<p>I got a solution, which was not written in all of the internet, and that is:</p>\\n<ol>\\n<li>Reset VS settings by opening <code>Developer Command Prompt for VS 2017</code> &gt;\\nrun <code>devenv /ResetSettings</code>.</li>\\n<li>Check if there’s any setting/limitation\\nfor your machine, such as for CPU, for GPU, for Memory, by clicking the <em>settings icon</em> under the relevant tool under <em>Available Tools</em> in the <em>Performance Profiler</em> page.</li>\\n<li>Try to create a new solution and copy your sample code to this new solution then test again, this is useful for narrowing down this issue.</li>\\n</ol>\\n'"
      ]
     },
     "metadata": {},
     "output_type": "display_data"
    },
    {
     "data": {
      "text/plain": [
       "'A:'"
      ]
     },
     "metadata": {},
     "output_type": "display_data"
    },
    {
     "data": {
      "text/plain": [
       "'<p>You can create a simple shell script to update all the outdated NuGet packages for your solution or project. Here\\'s a script that you can use:</p>\\n<pre class=\"lang-bash prettyprint-override\"><code>#!/bin/bash\\n\\n# Check if dotnet CLI is installed\\nif ! command -v dotnet &amp;&gt; /dev/null\\nthen\\n    echo &quot;dotnet CLI could not be found. Please install it and try again.&quot;\\n    exit 1\\nfi\\n\\n# Function to update packages in a project\\nupdate_packages() {\\n    project_file=$1\\n\\n    echo &quot;Updating packages for $project_file...&quot;\\n\\n    # Get a list of outdated packages and their current versions\\n    outdated_packages=$(dotnet list $project_file package --outdated | awk \\'/&gt;/{print $2}\\')\\n\\n    # Check if there are any outdated packages\\n    if [ -z &quot;$outdated_packages&quot; ]; then\\n        echo &quot;No outdated packages found in $project_file.&quot;\\n        return\\n    fi\\n\\n    for package in $outdated_packages; do\\n        echo &quot;Updating $package...&quot;\\n\\n        # Update the package to the latest version\\n        dotnet add $project_file package $package\\n    done\\n}\\n\\n# Find all .csproj files in the current directory and subdirectories\\nproject_files=$(find . -name &quot;*.csproj&quot;)\\n\\nfor project_file in $project_files; do\\n    update_packages &quot;$project_file&quot;\\ndone\\n\\necho &quot;All outdated packages have been updated.&quot;\\n\\n</code></pre>\\n<p>You can save in some place which are in your $PATH Variable, make it executable with chmod +x update_packages.sh, and run it in the root folder of your .NET Core solution. This script will update all outdated packages for each .csproj file found in your solution.</p>\\n'"
      ]
     },
     "metadata": {},
     "output_type": "display_data"
    },
    {
     "data": {
      "text/plain": [
       "'A:'"
      ]
     },
     "metadata": {},
     "output_type": "display_data"
    },
    {
     "data": {
      "text/plain": [
       "'<p>django-model-utils package provides a similar functionality via the <a href=\"https://django-model-utils.readthedocs.io/en/4.1.1/managers.html#joinmanager\" rel=\"nofollow noreferrer\"><code>JoinManager</code></a>.</p>\\n<p>Unfortunately it requires that the <code>huge_array</code> of IDs is also provided as a queryset. If that doesn\\'t work, you can take a look at the <a href=\"https://github.com/jazzband/django-model-utils/blob/4.1.1/model_utils/managers.py#L307\" rel=\"nofollow noreferrer\">implementation</a> and try to adjust it to your own use case.</p>\\n'"
      ]
     },
     "metadata": {},
     "output_type": "display_data"
    },
    {
     "data": {
      "text/plain": [
       "'A:'"
      ]
     },
     "metadata": {},
     "output_type": "display_data"
    },
    {
     "data": {
      "text/plain": [
       "'<p>The question is pretty old, but still alive today.</p>\\n<p>Things have changed a lot over the time.</p>\\n<p>Easiest solution in 2023 is run Docker Desktop for Windows eventually on WSL.</p>\\n<p>First, you can run <code>wsl --install</code> in a privileged powershell and you get a full linux kernel inside windows. See <a href=\"https://learn.microsoft.com/en-us/windows/wsl/install\" rel=\"nofollow noreferrer\">https://learn.microsoft.com/en-us/windows/wsl/install</a></p>\\n<p>Then, if you install first WSL and then Docker Desktop, then docker runs natively in the linux kernel inside windows. See <a href=\"https://docs.docker.com/desktop/windows/wsl/\" rel=\"nofollow noreferrer\">https://docs.docker.com/desktop/windows/wsl/</a></p>\\n<p>I have friends that run web-apps I have developed with apache, PHP, symfony MySQL and all, and I just tell them the <code>docker run</code> command they need (provided they have my image) and that\\'s all.</p>\\n<p>Usually the setup for my friends is:</p>\\n<ul>\\n<li>Create volumes for persisting data</li>\\n<li>Create a network (so all my stuff runs isolated from other things they run)</li>\\n<li><code>docker run</code> some backing services (like MySQL that uses the volume, etc.)</li>\\n<li><code>docker run</code> the applications.</li>\\n</ul>\\n<p>I have managed to guide <strong>easily</strong> to <strong>multiple</strong> friends that are <strong>non-tech</strong> and they succeeded.</p>\\n<p>To pass them the image I don\\'t share any repository. I pass them a binary and we use <code>docker load</code> <a href=\"https://docs.docker.com/engine/reference/commandline/load/\" rel=\"nofollow noreferrer\">https://docs.docker.com/engine/reference/commandline/load/</a> to pass them in the image I want them to run.</p>\\n<p>About the &quot;configuration&quot; of the image, I pass all via env-vars so no need to recompile anything. Same setup, same image runs for N friends. Just each one runs a <code>docker run</code> with different <code>-e</code> params.</p>\\n<p>Docker Desktop for Windows inside WSL runs nealy bare-metal speed. Nearly zero overhead. I run about 20 containers on bootup in my laptop and it works like a charm.</p>\\n<p>Hope this helps!</p>\\n'"
      ]
     },
     "metadata": {},
     "output_type": "display_data"
    },
    {
     "data": {
      "text/plain": [
       "'A:'"
      ]
     },
     "metadata": {},
     "output_type": "display_data"
    },
    {
     "data": {
      "text/plain": [
       "'<p>When Version C is not the last you need to get first the Version_ID from that Version, and get all Number that are lower</p>\\n<pre><code>SELECT [ID], [NAME], [VERSION]\\n  FROM\\n  Table1 t1 WHERE [NAME] = \\'test1\\' AND COALESCE([VERSION_ID],0) &lt; (SELECT COALESCE([VERSION_ID],0) FROM \\n  Table1 WHERE [VERSION] = \\'C\\' AND [NAME] = t1.[Name])\\n  ORDER BY [VERSION_ID]\\n</code></pre>\\n<div class=\"s-table-container\">\\n<table class=\"s-table\">\\n<thead>\\n<tr>\\n<th style=\"text-align: right;\">ID</th>\\n<th style=\"text-align: left;\">NAME</th>\\n<th style=\"text-align: left;\">VERSION</th>\\n</tr>\\n</thead>\\n<tbody>\\n<tr>\\n<td style=\"text-align: right;\">1</td>\\n<td style=\"text-align: left;\">Test1</td>\\n<td style=\"text-align: left;\">A</td>\\n</tr>\\n<tr>\\n<td style=\"text-align: right;\">2</td>\\n<td style=\"text-align: left;\">Test1</td>\\n<td style=\"text-align: left;\">B</td>\\n</tr>\\n</tbody>\\n</table>\\n</div>\\n<p><a href=\"https://dbfiddle.uk/kQybA-kn\" rel=\"nofollow noreferrer\">fiddle</a></p>\\n'"
      ]
     },
     "metadata": {},
     "output_type": "display_data"
    },
    {
     "data": {
      "text/plain": [
       "'A:'"
      ]
     },
     "metadata": {},
     "output_type": "display_data"
    },
    {
     "data": {
      "text/plain": [
       "'<p>You have two issues.</p>\\n<p>1)</p>\\n<pre><code>      string json = @&quot;\\n      {\\n        &quot;&quot;305FDF11-25E7-43DE-B09D-DFFC17C79599&quot;&quot;: {\\n          &quot;&quot;hasRead&quot;&quot;: &quot;&quot;true&quot;&quot;,\\n          &quot;&quot;Timestamp&quot;&quot;: &quot;&quot;XXX&quot;&quot;\\n        }\\n      }\\n    &quot;;\\n</code></pre>\\n<p><code>true</code> is surrounded by quotes. By default that will not deserialise to a boolean but a string. You can change the type of <code>HasRead</code> in the <code>Subscription</code> class to fix the issue. If you want a boolean property then you could add something like:</p>\\n<pre><code>public bool HasReadBool =&gt; bool.Parse(HasRead);\\n</code></pre>\\n<ol start=\"2\">\\n<li></li>\\n</ol>\\n<p>You cannot deserialise directly to a <code>KeyValuePair</code> as that has named <code>Key</code> and <code>Value</code> properties. Instead you can deserialise to a <code>Dictionary</code>:</p>\\n<pre><code> var deser = JsonSerializer.Deserialize&lt;Dictionary&lt;string, Subscription&gt;&gt;(json,\\n        new JsonSerializerOptions(JsonSerializerDefaults.Web));\\n</code></pre>\\n<p>If you want to get a <code>KeyValuePair</code> you can do this: <code>var kvp = deser.First()</code></p>\\n'"
      ]
     },
     "metadata": {},
     "output_type": "display_data"
    },
    {
     "data": {
      "text/plain": [
       "'A:'"
      ]
     },
     "metadata": {},
     "output_type": "display_data"
    },
    {
     "data": {
      "text/plain": [
       "'<p>It was very simple go to your sdk folder in the terminal with the help of &quot;cd&quot; </p>\\n<p>then run the following command: sdkmanager &quot;build-tools;30.0.3&quot;.</p>\\n<p>this will install the version 30.03.3 of build tools .Then press f5 and run your main.dart file .</p>\\n'"
      ]
     },
     "metadata": {},
     "output_type": "display_data"
    },
    {
     "data": {
      "text/plain": [
       "'A:'"
      ]
     },
     "metadata": {},
     "output_type": "display_data"
    },
    {
     "data": {
      "text/plain": [
       "'<pre><code>    #include &lt;stdio.h&gt;\\n    #include &lt;stdlib.h&gt;\\n    #include &lt;string.h&gt;\\n    #include &lt;zip.h&gt;\\n    \\n// apt-get install libzip-dev\\n// gcc source.c -lzip\\n    \\n    int main(){\\n       const char * path  = &quot;archive.zip&quot;;\\n       const char * file     = &quot;message&quot;;\\n       const char * data      = &quot;Hello World!&quot;;\\n    \\n       int error = 0;\\n       struct zip *archive = zip_open(path, ZIP_CREATE, &amp;error);\\n       if(error){\\n          printf(&quot;could not open or create archive\\\\n&quot;);\\n          return -1;\\n       }\\n       struct zip_source *source = zip_source_buffer(archive, data, strlen(data), 0);\\n       if(source == NULL){\\n          printf(&quot;failed to create source buffer. %s\\\\n&quot;,zip_strerror(archive));\\n          return -1;\\n       }\\n    \\n       int index = (int)zip_file_add(archive, file, source, ZIP_FL_OVERWRITE);\\n       if(index &lt; 0){\\n          printf(&quot;failed to add file to archive: %s\\\\n&quot;,zip_strerror(archive));\\n          return -1;\\n       }\\n    \\n       //zip_source_free(source);\\n       zip_close(archive);\\n    \\n       return 0;\\n    \\n    }\\n</code></pre>\\n'"
      ]
     },
     "metadata": {},
     "output_type": "display_data"
    },
    {
     "data": {
      "text/plain": [
       "'A:'"
      ]
     },
     "metadata": {},
     "output_type": "display_data"
    },
    {
     "data": {
      "text/plain": [
       "'<p>Seems like the drawer has <code>Expanded</code> widget with no any parent of type row or column.</p>\\n<p>If you replace the Expanded widget with Sizedbox with width and height, it should work.</p>\\n<p>Also, you can remove the <code>Drawer</code> widget.</p>\\n<p>Example:</p>\\n<p><div class=\"snippet\" data-lang=\"js\" data-hide=\"false\" data-console=\"true\" data-babel=\"false\">\\r\\n<div class=\"snippet-code\">\\r\\n<pre class=\"snippet-code-html lang-html prettyprint-override\"><code>Scaffold(\\n  drawer: const menuDrawer()\\n)\\n\\nWidget menuDrawer() {\\n  return Sizedbox(\\n      width: 250,\\n      height: double.maxFinite,\\n      child: ...\\n  );\\n}</code></pre>\\r\\n</div>\\r\\n</div>\\r\\n</p>\\n'"
      ]
     },
     "metadata": {},
     "output_type": "display_data"
    },
    {
     "data": {
      "text/plain": [
       "'A:'"
      ]
     },
     "metadata": {},
     "output_type": "display_data"
    },
    {
     "data": {
      "text/plain": [
       "\"<p>According to IEEE Std 1800-2017, section 21.5 <em>Writing memory array data to a file</em>:</p>\\n<blockquote>\\n<p>The $writememb and $writememh system tasks can be used to dump memory\\narray (see 7.4.4) contents to files that are readable by $readmemb and\\n$readmemh , respectively.</p>\\n</blockquote>\\n<p>The file contents that you get with the address comply with the standard since the addresses are inside comments (<code>//</code>).</p>\\n<p>This behavior seems to be unique to the <code>iverilog</code> simulator.  I don't see comments when I use <code>$writememb</code> with other simulators.</p>\\n<p>You can try to contact the <code>iverilog</code> developers to see if there is an option to disable comments.</p>\\n<p>Or, you can try using other simulators.</p>\\n<p>Or, you can write to an output file using <code>$fopen</code> and related functions.</p>\\n<p>Or, you can post-process the output files to remove the comments using your favorite software language.  If you are on a unix-like OS:</p>\\n<pre><code>grep -v // file.txt &gt; new.txt\\n</code></pre>\\n\""
      ]
     },
     "metadata": {},
     "output_type": "display_data"
    },
    {
     "data": {
      "text/plain": [
       "'A:'"
      ]
     },
     "metadata": {},
     "output_type": "display_data"
    },
    {
     "data": {
      "text/plain": [
       "'<pre><code>var float slPrice = strategy.position_avg_price * 0.95\\nvar float tpPrice = strategy.position_avg_price * 1.1\\n</code></pre>\\n<p><a href=\"https://www.tradingview.com/pine-script-reference/v5/#op_var\" rel=\"nofollow noreferrer\">https://www.tradingview.com/pine-script-reference/v5/#op_var</a></p>\\n<p>For the first bar <code>strategy.position_avg_price</code> will be <code>NaN</code>, because there is no open position. And <code>var</code> variable statement makes it to store this value, until it will not be reassigned.</p>\\n<p>This will be correct statement in your case:</p>\\n<pre><code>slPrice = strategy.position_avg_price * 0.95\\ntpPrice = strategy.position_avg_price * 1.1\\n\\nif close &lt;= slPrice\\n    strategy.close(\\'buy\\', comment=\\'SL\\')\\n\\nelse if close &gt;= tpPrice\\n    strategy.close(\\'buy\\', comment=\\'TP\\')\\n</code></pre>\\n'"
      ]
     },
     "metadata": {},
     "output_type": "display_data"
    },
    {
     "data": {
      "text/plain": [
       "'A:'"
      ]
     },
     "metadata": {},
     "output_type": "display_data"
    },
    {
     "data": {
      "text/plain": [
       "\"<p>ActiveMQ Artemis doesn't support IP restrictions for messaging clients.</p>\\n<p>I recommend leveraging a firewall solution for your platform (e.g. <code>iptables</code> or <code>nftables</code> on Linux).</p>\\n\""
      ]
     },
     "metadata": {},
     "output_type": "display_data"
    },
    {
     "data": {
      "text/plain": [
       "'A:'"
      ]
     },
     "metadata": {},
     "output_type": "display_data"
    },
    {
     "data": {
      "text/plain": [
       "'<p>Thanks my friend! It worked as a charm! :)</p>\\n'"
      ]
     },
     "metadata": {},
     "output_type": "display_data"
    },
    {
     "data": {
      "text/plain": [
       "'A:'"
      ]
     },
     "metadata": {},
     "output_type": "display_data"
    },
    {
     "data": {
      "text/plain": [
       "\"<p>QEMU doesn't support letting you create that kind of device for an x86-64 guest. The M25P80 device emulation is an SPI device, which must be connected to a controller which has an SSI bus. All the emulated SSI controllers in QEMU are hardwired into board models, mostly Arm ones. There is no &quot;SSI controller on a PCI card&quot; or similar model which would let you plug a controller into an x86-64 machine type and then plug the M25P80 into that controller.</p>\\n<p>This is a specific case of a more general aspect of QEMU's design: it is not a &quot;bag of lego bricks&quot; set of device models that you can then freely connect together however you like. It's a set of models of specific machine types (eg x86 PC, Arm board using an aspeed SoC). Some of those machine types support particular kinds of pluggable devices, like the way the PC machine type supports pluggable PCI devices. But as an end-user the only flexibility you have is plugging in the pluggable device types to machine types that support that device type. There is an analogy with real hardware -- if you own a PC, you can plug in a new PCI graphics card, but you don't typically try to solder new chips onto the motherboard.</p>\\n\""
      ]
     },
     "metadata": {},
     "output_type": "display_data"
    },
    {
     "data": {
      "text/plain": [
       "'A:'"
      ]
     },
     "metadata": {},
     "output_type": "display_data"
    },
    {
     "data": {
      "text/plain": [
       "\"<p>In general, in Typescript you can pass as an argument an object which has more properties than the type which is expected in the function itself.</p>\\n<p>For example - in this code there is no error:</p>\\n<pre><code>type Employee = {\\n    name: string;\\n    salary: number;\\n}\\n\\nfunction foo(person: Employee){\\n    console.log('hi')\\n}\\n\\nconst bigObj = {\\n    name: &quot;f&quot;,\\n    salary: 1,\\n    add: 2\\n}\\n\\nfoo(bigObj)\\n</code></pre>\\n\""
      ]
     },
     "metadata": {},
     "output_type": "display_data"
    },
    {
     "data": {
      "text/plain": [
       "'A:'"
      ]
     },
     "metadata": {},
     "output_type": "display_data"
    },
    {
     "data": {
      "text/plain": [
       "'<p>Have you installed the php-mysql extension on the server?</p>\\n<p>To install php-mysql, run this:</p>\\n<pre><code>apt-get install \\n</code></pre>\\n'"
      ]
     },
     "metadata": {},
     "output_type": "display_data"
    },
    {
     "data": {
      "text/plain": [
       "'A:'"
      ]
     },
     "metadata": {},
     "output_type": "display_data"
    },
    {
     "data": {
      "text/plain": [
       "'<p>It is because your environment path of python is set to &quot;F:\\\\python \\\\python 310\\\\ python.exe&quot;. You have to replace this path with the path you want in your Operation System environment path.</p>\\n'"
      ]
     },
     "metadata": {},
     "output_type": "display_data"
    },
    {
     "data": {
      "text/plain": [
       "'A:'"
      ]
     },
     "metadata": {},
     "output_type": "display_data"
    },
    {
     "data": {
      "text/plain": [
       "'<p>I recreated simplified Groovy versions of your Java classes without any references to Spring or Lombok, because the latter are irrelevant for your question.</p>\\n<ul>\\n<li>The first problem is your method stubbing syntax for the mock in general.</li>\\n<li>The second is that you need to learn how to <a href=\"https://spockframework.org/spock/docs/2.4-M1/all_in_one.html#_computing_return_values\" rel=\"nofollow noreferrer\">access mock method arguments</a> when stubbing.</li>\\n<li>The third is that you tried to stub method <code>getDataFromTable</code>, which does not exist in <code>TableConfig</code>. You cannot stub a <code>Table</code> method in <code>TableConfig</code>. Please be more careful to actually stub methods which really exist in the class to be mocked/stubbed.</li>\\n</ul>\\n<pre class=\"lang-java prettyprint-override\"><code>package de.scrum_master.stackoverflow.q76038114\\n\\nimport spock.lang.Specification\\n\\nclass TableTest extends Specification {\\n  def configDo = new ConfigDO()\\n  def mockTableConfig = Mock(TableConfig) {\\n    getTableData(_) &gt;&gt; { args -&gt; configDo.tableDataMap[args[0]] }\\n  }\\n\\n  def test() {\\n    given:\\n    def table = new Table(mockTableConfig)\\n\\n    expect:\\n    table.getDataFromTable(\\'foo\\') == \\'Hello world!\\'\\n    table.getDataFromTable(\\'bar\\') == \\'These are just test data.\\'\\n  }\\n}\\n</code></pre>\\n<pre class=\"lang-java prettyprint-override\"><code>package de.scrum_master.stackoverflow.q76038114\\n\\nclass Table {\\n  private final TableConfig tableConfig\\n\\n  Table(TableConfig config) {\\n    this.tableConfig = config\\n  }\\n\\n  String getDataFromTable(String tableName) {\\n    return tableConfig.getTableData(tableName)\\n  }\\n}\\n</code></pre>\\n<pre class=\"lang-java prettyprint-override\"><code>package de.scrum_master.stackoverflow.q76038114\\n\\nclass TableConfig {\\n  private final ConfigDO configDo\\n\\n  TableConfig(ConfigDO config) {\\n    this.configDo = config\\n  }\\n\\n  String getTableData(String tableName) {\\n    return configDo.getTableMap().get(tableName)\\n  }\\n}\\n</code></pre>\\n<pre class=\"lang-java prettyprint-override\"><code>package de.scrum_master.stackoverflow.q76038114\\n\\nclass ConfigDO {\\n  private final Map&lt;String, String&gt; tableDataMap = [\\n    foo: \\'Hello world!\\',\\n    bar: \\'These are just test data.\\'\\n  ]\\n\\n  Map&lt;String, String&gt; getTableDataMap() {\\n    return tableDataMap\\n  }\\n}\\n</code></pre>\\n<p>Try it in the <a href=\"https://gwc-experiment.appspot.com/?codez=https://gwc-experiment.appspot.com/?g=groovy_2_5&amp;codez=eJyFUsFO4zAQvecrZk9JJLBAi3ZRRXtZtNoLy4HeqgqZdBIMiZ21py0S6r_vxHHSpC1wsz3z5r3nebXMXmWBsELhMruuHivpCK1wxAWzQZuXZiv-_fxx8f368vIqilRVG0vgapO9ilLqQjzUmKlcZZKU0VGUldI5mMunEufoCPCNUK8cjNrgPQLmzCEzOlfFrYEpaNzCr_Z6n6ShXjGNn9VWuO2OX5LBU-pnARRI_vVWkkweU5jN4B2kLRycz3oaQV3LnawXTXVxsVzCjifsokBJrDrpp6oN6ok_-loDD1o9W3IgMI18L76xW2pxHiNYXkP725qqBca5MXEK0ynEf7AsDWyNLVff4k8xT9IGzPwZHbI_hJc1_3IjGlbcLGLvZTdahDdTW7WRhJArLUsYfirtz438lmvYkI1-mp6VEzRaStvQ_eIDWaULOJIf3j30r6ywG2iR1lYPZYjRNveAE96ChmOHXZb65ffe2kpy0DCyN8jlR972-r7w1YevA3H2krS5feisl3Zsi8E3LeFZEDODYapZ8cKzc74mB9k68wUO0eSLAC0bq6eYhr69jRMrDLXg6D8OnWyw\" rel=\"nofollow noreferrer\">Groovy Web Console</a>.</p>\\n'"
      ]
     },
     "metadata": {},
     "output_type": "display_data"
    },
    {
     "data": {
      "text/plain": [
       "'A:'"
      ]
     },
     "metadata": {},
     "output_type": "display_data"
    },
    {
     "data": {
      "text/plain": [
       "\"<p>Awesome, that you are stepping into the world of PowerShell :)</p>\\n<p>Here is an optimized version of the script. It gets all files recursively from the $RootFolder that are older than 2 days.\\nThen those files are copied to the new directory by replacing the drive letter.</p>\\n<pre><code>$RootFolder = &quot;H:\\\\route\\\\Backup\\\\Full_Backups&quot;\\n\\n$files = Get-ChildItem -Path $RootFolder -Recurse -File | Where-Object CreationTime -lt $threshold\\n\\nforeach ($file in $files) {\\n  $file | Copy-Item -Destination $PSItem.FullName.Replace('H:\\\\', 'T:\\\\')\\n}\\n</code></pre>\\n<p>What can be of great help sometimes is the cmdlet &quot;Get-Member&quot;. Whenever you have objects at hand, you can always do &quot;| gm&quot;, which is the alias for Get-Member. This will show you the object type and all properties and methods an object has.</p>\\n<p>Your initial problem was, that you tried to do a string replace on an array of objects. By doing the replace on $SubFolders.FullName, you do the replace on the string property of the objects.</p>\\n<p>Hope that helps!</p>\\n<p>Have fun with PowerShell!</p>\\n\""
      ]
     },
     "metadata": {},
     "output_type": "display_data"
    },
    {
     "data": {
      "text/plain": [
       "'A:'"
      ]
     },
     "metadata": {},
     "output_type": "display_data"
    },
    {
     "data": {
      "text/plain": [
       "\"<p>Use the <code>ScrolledText</code> widget instead.</p>\\n<pre><code>from tkinter.scrolledtext import ScrolledText\\n\\nself.pantalla = ScrolledText(self.frame, width=50, height=10, background=&quot;lightgoldenrod4&quot;,\\n                         cursor=&quot;arrow&quot;)\\n\\n# Window colocation\\nself.pantalla.grid(row=0, column=0, columnspan=15, padx=(5, 5), pady=0, sticky='WSNE')\\nself.pantalla.grid_propagate(False)\\n</code></pre>\\n\""
      ]
     },
     "metadata": {},
     "output_type": "display_data"
    },
    {
     "data": {
      "text/plain": [
       "'A:'"
      ]
     },
     "metadata": {},
     "output_type": "display_data"
    },
    {
     "data": {
      "text/plain": [
       "\"<p>First of all, your JSON does not conform to default serialization of <code>KeyValuePair&lt;string, Subscription&gt;</code>, I'd recommend switching the type to <code>Dictionary&lt;string, Subscription&gt;</code>. As well, default JSON deserializer is unable to deserialize your JSON. I'd recommend using <code>Newtonsoft.Json</code></p>\\n<pre><code>using Newtonsoft.Json;\\n\\nstring json = @&quot;\\n          {\\n            &quot;&quot;305FDF11-25E7-43DE-B09D-DFFC17C79599&quot;&quot;: {\\n              &quot;&quot;hasRead&quot;&quot;: &quot;&quot;true&quot;&quot;,\\n              &quot;&quot;Timestamp&quot;&quot;: &quot;&quot;XXX&quot;&quot;\\n            }\\n          }\\n        &quot;;\\n\\nvar deserialized = JsonConvert.DeserializeObject&lt;Dictionary&lt;string, Subscription&gt;&gt;(json);\\nvar subscription = deserialized[&quot;305FDF11-25E7-43DE-B09D-DFFC17C79599&quot;];\\nConsole.WriteLine($&quot;Subscription timestamp is {subscription.TimeStamp}&quot;);\\n</code></pre>\\n<p>Like this you'd get output of <code>Subscription timestamp is XXX</code>.</p>\\n\""
      ]
     },
     "metadata": {},
     "output_type": "display_data"
    },
    {
     "data": {
      "text/plain": [
       "'A:'"
      ]
     },
     "metadata": {},
     "output_type": "display_data"
    },
    {
     "data": {
      "text/plain": [
       "\"<p>Try:</p>\\n<pre><code>Sub test()\\n\\nDim xlApp As Object\\nDim wb As Workbook\\nDim ws As Worksheet\\n\\nSet xlApp = CreateObject(&quot;Excel.Application&quot;)\\n\\nWith xlApp\\n    .Application.ScreenUpdating = True\\n    .Visible = True\\nEnd With\\n\\nSet wb = xlApp.Workbooks.Open(&quot;D:\\\\Users\\\\XXXX\\\\XXXX\\\\XXXX.xlsx&quot;)\\nSet ws = wb.Worksheets(&quot;Sheet1&quot;)\\n\\n'Delete lines\\nws.Rows(&quot;4:7&quot;).EntireRow.Delete\\n\\n'Save &amp; close workbook\\nwb.Close SaveChanges:=True\\n\\n'Close application\\nxlApp.Quit\\n\\nEnd Sub\\n</code></pre>\\n\""
      ]
     },
     "metadata": {},
     "output_type": "display_data"
    },
    {
     "data": {
      "text/plain": [
       "'A:'"
      ]
     },
     "metadata": {},
     "output_type": "display_data"
    },
    {
     "data": {
      "text/plain": [
       "'<p>You can use lib &quot;Renko&quot; to get renko-chart and also get renko-blocks and then convert to ohlc-dataframe\\ncode:</p>\\n<pre><code># !pip install renko yfinance\\nfrom renko import Renko\\nimport yfinance as yf\\nticker = &quot;AAPL&quot;\\nohlcv_data = yf.download(ticker, period=&quot;1y&quot;)\\nohlcv_data.columns = ohlcv_data.columns.str.lower()\\nrenko = Renko(brick_size=5, data=ohlcv_data.close)\\nrenko.create_renko()\\nrenko_ohlc = pd.DataFrame(renko.bricks)\\n# fill nan\\nmask_upL = renko_ohlc[renko_ohlc.type == \\'up\\'].low.isna()\\nmask_upL = mask_upL[mask_upL == True].index\\nmask_downL = renko_ohlc[renko_ohlc.type == \\'down\\'].low.isna()\\nmask_downL = mask_downL[mask_downL == True].index\\nmask_upH = renko_ohlc[renko_ohlc.type == \\'up\\'].high.isna()\\nmask_upH = mask_upH[mask_upH == True].index\\nmask_downH = renko_ohlc[renko_ohlc.type == \\'down\\'].high.isna()\\nmask_downH = mask_downH[mask_downH == True].index\\nrenko_ohlc.loc[mask_upL, \\'low\\'] = renko_ohlc.loc[mask_upL, \\'open\\']\\nrenko_ohlc.loc[mask_downL, \\'low\\'] = renko_ohlc.loc[mask_downL, \\'close\\']\\nrenko_ohlc.loc[mask_upH, \\'high\\'] = renko_ohlc.loc[mask_upH, \\'close\\']\\nrenko_ohlc.loc[mask_downH, \\'high\\'] = renko_ohlc.loc[mask_downH, \\'open\\']\\nrenko_ohlc = renko_ohlc[1:]\\nprint(renko_ohlc)\\nrenko.draw_chart()\\n</code></pre>\\n<p>Output chart:\\n<a href=\"https://i.stack.imgur.com/ZLNXB.png\" rel=\"nofollow noreferrer\"><img src=\"https://i.stack.imgur.com/ZLNXB.png\" alt=\"enter image description here\" /></a>\\nOutput ohlc-dataframe:\\n<a href=\"https://i.stack.imgur.com/xvxxt.png\" rel=\"nofollow noreferrer\"><img src=\"https://i.stack.imgur.com/xvxxt.png\" alt=\"enter image description here\" /></a></p>\\n'"
      ]
     },
     "metadata": {},
     "output_type": "display_data"
    },
    {
     "data": {
      "text/plain": [
       "'A:'"
      ]
     },
     "metadata": {},
     "output_type": "display_data"
    },
    {
     "data": {
      "text/plain": [
       "'<ul>\\n<li><p>your domain must start with https (ssl).</p>\\n</li>\\n<li><p>must add your domain to google: <a href=\"https://console.cloud.google.com/apis/credentials\" rel=\"nofollow noreferrer\">https://console.cloud.google.com/apis/credentials</a> [OAuth 2.0 Client IDs]</p>\\n</li>\\n</ul>\\n'"
      ]
     },
     "metadata": {},
     "output_type": "display_data"
    },
    {
     "data": {
      "text/plain": [
       "'A:'"
      ]
     },
     "metadata": {},
     "output_type": "display_data"
    },
    {
     "data": {
      "text/plain": [
       "\"<p>Since the input file contains raw video, we don't really have to use <code>avformat_open_input</code> - we may simply read the input video frames using <code>fread</code>.<br />\\n(Allocate AVFrame size 1920x1080 YUV420p pixel format, read Y, read U, read V...).</p>\\n<p>If we really want to use <code>avformat_open_input</code> with raw input video, we must set the size and pixel format by setting the <code>AVDictionary **options</code> argument.</p>\\n<p>The <code>options</code> are the equivalent to setting <code>-pixel_format yuv420p</code> and <code>-video_size 1920x1080</code> in the FFplay command:</p>\\n<p><code>ffplay -f rawvideo -pixel_format yuv420p -video_size 1920x1080</code></p>\\n<hr />\\n<p>Example for setting <code>options</code> and calling <code>avformat_open_input</code>:</p>\\n<pre><code>AVDictionary* options = NULL;\\nav_dict_set(&amp;options, &quot;video_size&quot;, &quot;1920x1080&quot;, 0); //Equivalent to -video_size 1920x1080 \\nav_dict_set(&amp;options,&quot;pixel_format&quot;, &quot;yuv420p&quot;,0); //Equivalent to -pixel_format yuv420p\\nav_dict_set(&amp;options, &quot;vcodec&quot;, &quot;rawvideo&quot;, 0); //Equivalent to -vcodec rawvideo\\n\\navformat_open_input(&amp;ifmt_ctx, &quot;input.yuv&quot;, NULL, &amp;options)\\n</code></pre>\\n<hr />\\n<p>Example for reading the video frames and passing through the decoding sequence:</p>\\n<pre><code>extern &quot;C&quot; {\\n#include &lt;libavcodec/avcodec.h&gt;\\n#include &lt;libavformat/avformat.h&gt;\\n}\\n\\n#include &lt;stdio.h&gt;\\n\\n//Build raw input video file:\\n//ffmpeg -y -f lavfi -i testsrc=size=1920x1080:rate=1:duration=10 -pix_fmt yuv420p -f rawvideo input.yuv\\n\\nint main(int argc, char** argv) {\\n\\n    int ret;\\n    char errbuf[100];\\n\\n    AVFormatContext* ifmt_ctx = avformat_alloc_context();\\n\\n    AVDictionary* options = NULL;\\n    //av_dict_set(&amp;options, &quot;framerate&quot;, &quot;30&quot;, 0);\\n    av_dict_set(&amp;options, &quot;video_size&quot;, &quot;1920x1080&quot;, 0);\\n    av_dict_set(&amp;options,&quot;pixel_format&quot;, &quot;yuv420p&quot;,0);\\n    av_dict_set(&amp;options, &quot;vcodec&quot;, &quot;rawvideo&quot;, 0);\\n\\n    if ((ret = avformat_open_input(&amp;ifmt_ctx, &quot;input.yuv&quot;, NULL, &amp;options)) &lt; 0) {\\n        av_strerror(ret, errbuf, sizeof(errbuf));\\n        fprintf(stderr, &quot;Unable to open err=%s\\\\n&quot;, errbuf);\\n    }\\n\\n    //Raw video doesn't contain any stream information.\\n    //if ((ret = avformat_find_stream_info(ifmt_ctx, 0)) &lt; 0) {\\n    //    fprintf(stderr, &quot;Failed to retrieve input stream information&quot;);\\n    //}\\n    \\n    const AVCodec *pCodec = avcodec_find_decoder(AV_CODEC_ID_RAWVIDEO); //Get pointer to rawvideo codec.\\n\\n    AVCodecContext *pCodecContext = avcodec_alloc_context3(pCodec); //Allocate codec context.\\n\\n    //Fill the codec context based on the values from the codec parameters.\\n    AVStream *vid_stream = ifmt_ctx-&gt;streams[0];\\n    avcodec_parameters_to_context(pCodecContext, vid_stream-&gt;codecpar);\\n\\n    avcodec_open2(pCodecContext, pCodec, NULL); //Open the codec\\n\\n    //Allocate memory for packet and frame\\n    AVPacket *pPacket = av_packet_alloc();\\n    AVFrame *pFrame = av_frame_alloc();\\n\\n    //Read video frames and pass through the decoder.\\n    //Note: Since the video is rawvideo, we don't really have to pass it through the decoder.\\n    while (av_read_frame(ifmt_ctx, pPacket) &gt;= 0) \\n    {\\n        //The video is not encoded - passing through the decoder is simply copy the data.\\n        avcodec_send_packet(pCodecContext, pPacket);    //Supply raw packet data as input to the &quot;decoder&quot;.\\n        avcodec_receive_frame(pCodecContext, pFrame);   //Return decoded output data from the &quot;decoder&quot;.\\n    }\\n    \\n    avcodec_free_context(&amp;pCodecContext);\\n    avformat_free_context(ifmt_ctx);\\n    av_frame_free(&amp;pFrame);\\n    av_packet_free(&amp;pPacket);\\n\\n    return 0;\\n}\\n</code></pre>\\n<hr />\\n<p>Notes:</p>\\n<ul>\\n<li>For simplicity, the above code sample doesn't check for errors.</li>\\n<li>Passing the raw video through the &quot;decoder&quot; is a simple data copy.<br />\\nReading the data from the file directly to <code>AVFrame</code>, is probably more efficient (saves memory copies).</li>\\n<li>In case we are reading the data using <code>fread</code>, may we have to read it row by row (it is not guarantied that the data is going to be continues in memory).<br />\\nUsing the current version of FFmpeg, frame width of <code>1920</code> is continues in memory (Y plane is continues, U plane is continues and V plane is continues).</li>\\n</ul>\\n\""
      ]
     },
     "metadata": {},
     "output_type": "display_data"
    },
    {
     "data": {
      "text/plain": [
       "'A:'"
      ]
     },
     "metadata": {},
     "output_type": "display_data"
    },
    {
     "data": {
      "text/plain": [
       "'<p>You have to be cautious about using a <code>QTimer</code> with a zero interval. If you don\\'t call a waiting function in the signal handler, it will result in a high CPU usage due to a busy loop. (It can be nearly 100%.)</p>\\n<p>In MacOS, you can see that by calling the <code>app.exec()</code> without calling the <code>main_window.timer.stop()</code>.</p>\\n<p>And why does the <code>QTest.qWait()</code> not result in a high CPU usage on MacOS? The <a href=\"https://github.com/qt/qtbase/blob/v6.5.0/src/corelib/kernel/qtestsupport_core.cpp#L85\" rel=\"nofollow noreferrer\"><code>QTest::qWait()</code></a> calls the <a href=\"https://github.com/qt/qtbase/blob/v6.5.0/src/corelib/kernel/qcoreapplication.cpp#L1381\" rel=\"nofollow noreferrer\"><code>QCoreApplication::processEvents()</code></a>, which runs a loop calling the <a href=\"https://github.com/qt/qtbase/blob/v6.5.0/src/corelib/kernel/qeventdispatcher_cf.mm#L328\" rel=\"nofollow noreferrer\"><code>QEventDispatcherCoreFoundation::processEvents()</code></a>, which calls <code>CFRunLoopRunInMode()</code> one more time and returns <code>false</code>. So, the <code>QTest.qWait()</code> will call the <code>QTestPrivate::qSleep()</code> less frequently if you update the UI in the signal handler. (Updating the UI may cause new events are enqueued into the event queue.)</p>\\n<p>I think this behavior in MacOS is a side effect. What about reporting this <a href=\"https://bugreports.qt.io/projects/QTBUG/issues\" rel=\"nofollow noreferrer\">here</a>?</p>\\n'"
      ]
     },
     "metadata": {},
     "output_type": "display_data"
    },
    {
     "data": {
      "text/plain": [
       "'A:'"
      ]
     },
     "metadata": {},
     "output_type": "display_data"
    },
    {
     "data": {
      "text/plain": [
       "'<p>Try this.</p>\\n<p>Stroke resolve has been set to independent.</p>\\n<p><a href=\"https://i.stack.imgur.com/85Qlg.png\" rel=\"nofollow noreferrer\"><img src=\"https://i.stack.imgur.com/85Qlg.png\" alt=\"enter image description here\" /></a></p>\\n<pre><code>{\\n  &quot;$schema&quot;: &quot;https://vega.github.io/schema/vega-lite/v5.json&quot;,\\n  &quot;data&quot;: {\\n    &quot;values&quot;: [\\n      {\\n        &quot;Site&quot;: 7,\\n        &quot;Fin Year&quot;: 2023,\\n        &quot;Financial Month Nr&quot;: 1,\\n        &quot;Financial Month&quot;: &quot;Oct&quot;,\\n        &quot;KPI Name&quot;: &quot;Elec from Renewables&quot;,\\n        &quot;KPI Sort&quot;: 2,\\n        &quot;Usage CY&quot;: 21.68,\\n        &quot;Usage PY&quot;: 23.42,\\n        &quot;Target&quot;: 21.89,\\n        &quot;Production CY&quot;: 4768196,\\n        &quot;Production PY&quot;: 5145233\\n      },\\n      {\\n        &quot;Site&quot;: 7,\\n        &quot;Fin Year&quot;: 2023,\\n        &quot;Financial Month Nr&quot;: 1,\\n        &quot;Financial Month&quot;: &quot;Oct&quot;,\\n        &quot;KPI Name&quot;: &quot;Elec from Non-Renewables&quot;,\\n        &quot;KPI Sort&quot;: 1,\\n        &quot;Usage CY&quot;: 101.07,\\n        &quot;Usage PY&quot;: 55.14,\\n        &quot;Target&quot;: 51.53,\\n        &quot;Production CY&quot;: 4768196,\\n        &quot;Production PY&quot;: 5145233\\n      },\\n      {\\n        &quot;Site&quot;: 7,\\n        &quot;Fin Year&quot;: 2023,\\n        &quot;Financial Month Nr&quot;: 2,\\n        &quot;Financial Month&quot;: &quot;Nov&quot;,\\n        &quot;KPI Name&quot;: &quot;Elec from Renewables&quot;,\\n        &quot;KPI Sort&quot;: 2,\\n        &quot;Usage CY&quot;: 20.14,\\n        &quot;Usage PY&quot;: 27.57,\\n        &quot;Target&quot;: 25.77,\\n        &quot;Production CY&quot;: 5425327,\\n        &quot;Production PY&quot;: 5044930\\n      },\\n      {\\n        &quot;Site&quot;: 7,\\n        &quot;Fin Year&quot;: 2023,\\n        &quot;Financial Month Nr&quot;: 2,\\n        &quot;Financial Month&quot;: &quot;Nov&quot;,\\n        &quot;KPI Name&quot;: &quot;Elec from Non-Renewables&quot;,\\n        &quot;KPI Sort&quot;: 1,\\n        &quot;Usage CY&quot;: 82.12,\\n        &quot;Usage PY&quot;: 67.23,\\n        &quot;Target&quot;: 62.83,\\n        &quot;Production CY&quot;: 5425327,\\n        &quot;Production PY&quot;: 5044930\\n      },\\n      {\\n        &quot;Site&quot;: 7,\\n        &quot;Fin Year&quot;: 2023,\\n        &quot;Financial Month Nr&quot;: 3,\\n        &quot;Financial Month&quot;: &quot;Dec&quot;,\\n        &quot;KPI Name&quot;: &quot;Elec from Renewables&quot;,\\n        &quot;KPI Sort&quot;: 2,\\n        &quot;Usage CY&quot;: 45.15,\\n        &quot;Usage PY&quot;: 44.36,\\n        &quot;Target&quot;: 41.45,\\n        &quot;Production CY&quot;: 4612380,\\n        &quot;Production PY&quot;: 3746604\\n      },\\n      {\\n        &quot;Site&quot;: 7,\\n        &quot;Fin Year&quot;: 2023,\\n        &quot;Financial Month Nr&quot;: 3,\\n        &quot;Financial Month&quot;: &quot;Dec&quot;,\\n        &quot;KPI Name&quot;: &quot;Elec from Non-Renewables&quot;,\\n        &quot;KPI Sort&quot;: 1,\\n        &quot;Usage CY&quot;: 108.51,\\n        &quot;Usage PY&quot;: 93.61,\\n        &quot;Target&quot;: 87.48,\\n        &quot;Production CY&quot;: 4612380,\\n        &quot;Production PY&quot;: 3746604\\n      },\\n      {\\n        &quot;Site&quot;: 7,\\n        &quot;Fin Year&quot;: 2023,\\n        &quot;Financial Month Nr&quot;: 4,\\n        &quot;Financial Month&quot;: &quot;Jan&quot;,\\n        &quot;KPI Name&quot;: &quot;Elec from Renewables&quot;,\\n        &quot;KPI Sort&quot;: 2,\\n        &quot;Usage CY&quot;: 39.93,\\n        &quot;Usage PY&quot;: 58.3,\\n        &quot;Target&quot;: 54.48,\\n        &quot;Production CY&quot;: 3190793,\\n        &quot;Production PY&quot;: 2938725\\n      },\\n      {\\n        &quot;Site&quot;: 7,\\n        &quot;Fin Year&quot;: 2023,\\n        &quot;Financial Month Nr&quot;: 4,\\n        &quot;Financial Month&quot;: &quot;Jan&quot;,\\n        &quot;KPI Name&quot;: &quot;Elec from Non-Renewables&quot;,\\n        &quot;KPI Sort&quot;: 1,\\n        &quot;Usage CY&quot;: 97.38,\\n        &quot;Usage PY&quot;: 111.09,\\n        &quot;Target&quot;: 103.81,\\n        &quot;Production CY&quot;: 3190793,\\n        &quot;Production PY&quot;: 2938725\\n      },\\n      {\\n        &quot;Site&quot;: 7,\\n        &quot;Fin Year&quot;: 2023,\\n        &quot;Financial Month Nr&quot;: 5,\\n        &quot;Financial Month&quot;: &quot;Feb&quot;,\\n        &quot;KPI Name&quot;: &quot;Elec from Renewables&quot;,\\n        &quot;KPI Sort&quot;: 2,\\n        &quot;Usage CY&quot;: 31.19,\\n        &quot;Usage PY&quot;: 41.06,\\n        &quot;Target&quot;: 38.37,\\n        &quot;Production CY&quot;: 3768347,\\n        &quot;Production PY&quot;: 3175390\\n      },\\n      {\\n        &quot;Site&quot;: 7,\\n        &quot;Fin Year&quot;: 2023,\\n        &quot;Financial Month Nr&quot;: 5,\\n        &quot;Financial Month&quot;: &quot;Feb&quot;,\\n        &quot;KPI Name&quot;: &quot;Elec from Non-Renewables&quot;,\\n        &quot;KPI Sort&quot;: 1,\\n        &quot;Usage CY&quot;: 103.53,\\n        &quot;Usage PY&quot;: 115.71,\\n        &quot;Target&quot;: 108.13,\\n        &quot;Production CY&quot;: 3768347,\\n        &quot;Production PY&quot;: 3175390\\n      },\\n      {\\n        &quot;Site&quot;: 7,\\n        &quot;Fin Year&quot;: 2023,\\n        &quot;Financial Month Nr&quot;: 6,\\n        &quot;Financial Month&quot;: &quot;Mar&quot;,\\n        &quot;KPI Name&quot;: &quot;Elec from Renewables&quot;,\\n        &quot;KPI Sort&quot;: 2,\\n        &quot;Usage CY&quot;: &quot;&quot;,\\n        &quot;Usage PY&quot;: 24.33,\\n        &quot;Target&quot;: 22.73,\\n        &quot;Production CY&quot;: &quot;&quot;,\\n        &quot;Production PY&quot;: 4686034\\n      },\\n      {\\n        &quot;Site&quot;: 7,\\n        &quot;Fin Year&quot;: 2023,\\n        &quot;Financial Month Nr&quot;: 6,\\n        &quot;Financial Month&quot;: &quot;Mar&quot;,\\n        &quot;KPI Name&quot;: &quot;Elec from Non-Renewables&quot;,\\n        &quot;KPI Sort&quot;: 1,\\n        &quot;Usage CY&quot;: &quot;&quot;,\\n        &quot;Usage PY&quot;: 99.38,\\n        &quot;Target&quot;: 92.87,\\n        &quot;Production CY&quot;: &quot;&quot;,\\n        &quot;Production PY&quot;: 4686034\\n      },\\n      {\\n        &quot;Site&quot;: 7,\\n        &quot;Fin Year&quot;: 2023,\\n        &quot;Financial Month Nr&quot;: 7,\\n        &quot;Financial Month&quot;: &quot;Apr&quot;,\\n        &quot;KPI Name&quot;: &quot;Elec from Renewables&quot;,\\n        &quot;KPI Sort&quot;: 2,\\n        &quot;Usage CY&quot;: &quot;&quot;,\\n        &quot;Usage PY&quot;: 28.84,\\n        &quot;Target&quot;: 26.95,\\n        &quot;Production CY&quot;: &quot;&quot;,\\n        &quot;Production PY&quot;: 2916675\\n      },\\n      {\\n        &quot;Site&quot;: 7,\\n        &quot;Fin Year&quot;: 2023,\\n        &quot;Financial Month Nr&quot;: 7,\\n        &quot;Financial Month&quot;: &quot;Apr&quot;,\\n        &quot;KPI Name&quot;: &quot;Elec from Non-Renewables&quot;,\\n        &quot;KPI Sort&quot;: 1,\\n        &quot;Usage CY&quot;: &quot;&quot;,\\n        &quot;Usage PY&quot;: 159.67,\\n        &quot;Target&quot;: 149.21,\\n        &quot;Production CY&quot;: &quot;&quot;,\\n        &quot;Production PY&quot;: 2916675\\n      },\\n      {\\n        &quot;Site&quot;: 7,\\n        &quot;Fin Year&quot;: 2023,\\n        &quot;Financial Month Nr&quot;: 8,\\n        &quot;Financial Month&quot;: &quot;May&quot;,\\n        &quot;KPI Name&quot;: &quot;Elec from Non-Renewables&quot;,\\n        &quot;KPI Sort&quot;: 1,\\n        &quot;Usage CY&quot;: &quot;&quot;,\\n        &quot;Usage PY&quot;: 149.29,\\n        &quot;Target&quot;: 139.51,\\n        &quot;Production CY&quot;: &quot;&quot;,\\n        &quot;Production PY&quot;: 2436180\\n      },\\n      {\\n        &quot;Site&quot;: 7,\\n        &quot;Fin Year&quot;: 2023,\\n        &quot;Financial Month Nr&quot;: 8,\\n        &quot;Financial Month&quot;: &quot;May&quot;,\\n        &quot;KPI Name&quot;: &quot;Elec from Renewables&quot;,\\n        &quot;KPI Sort&quot;: 2,\\n        &quot;Usage CY&quot;: &quot;&quot;,\\n        &quot;Usage PY&quot;: 22.58,\\n        &quot;Target&quot;: 21.1,\\n        &quot;Production CY&quot;: &quot;&quot;,\\n        &quot;Production PY&quot;: 2436180\\n      },\\n      {\\n        &quot;Site&quot;: 7,\\n        &quot;Fin Year&quot;: 2023,\\n        &quot;Financial Month Nr&quot;: 9,\\n        &quot;Financial Month&quot;: &quot;Jun&quot;,\\n        &quot;KPI Name&quot;: &quot;Elec from Renewables&quot;,\\n        &quot;KPI Sort&quot;: 2,\\n        &quot;Usage CY&quot;: &quot;&quot;,\\n        &quot;Usage PY&quot;: 16.31,\\n        &quot;Target&quot;: 15.24,\\n        &quot;Production CY&quot;: &quot;&quot;,\\n        &quot;Production PY&quot;: 3307022\\n      },\\n      {\\n        &quot;Site&quot;: 7,\\n        &quot;Fin Year&quot;: 2023,\\n        &quot;Financial Month Nr&quot;: 9,\\n        &quot;Financial Month&quot;: &quot;Jun&quot;,\\n        &quot;KPI Name&quot;: &quot;Elec from Non-Renewables&quot;,\\n        &quot;KPI Sort&quot;: 1,\\n        &quot;Usage CY&quot;: &quot;&quot;,\\n        &quot;Usage PY&quot;: 114.53,\\n        &quot;Target&quot;: 107.02,\\n        &quot;Production CY&quot;: &quot;&quot;,\\n        &quot;Production PY&quot;: 3307022\\n      },\\n      {\\n        &quot;Site&quot;: 7,\\n        &quot;Fin Year&quot;: 2023,\\n        &quot;Financial Month Nr&quot;: 10,\\n        &quot;Financial Month&quot;: &quot;Jul&quot;,\\n        &quot;KPI Name&quot;: &quot;Elec from Non-Renewables&quot;,\\n        &quot;KPI Sort&quot;: 1,\\n        &quot;Usage CY&quot;: &quot;&quot;,\\n        &quot;Usage PY&quot;: 136.08,\\n        &quot;Target&quot;: 127.17,\\n        &quot;Production CY&quot;: &quot;&quot;,\\n        &quot;Production PY&quot;: 2783133\\n      },\\n      {\\n        &quot;Site&quot;: 7,\\n        &quot;Fin Year&quot;: 2023,\\n        &quot;Financial Month Nr&quot;: 10,\\n        &quot;Financial Month&quot;: &quot;Jul&quot;,\\n        &quot;KPI Name&quot;: &quot;Elec from Renewables&quot;,\\n        &quot;KPI Sort&quot;: 2,\\n        &quot;Usage CY&quot;: &quot;&quot;,\\n        &quot;Usage PY&quot;: 17.78,\\n        &quot;Target&quot;: 16.61,\\n        &quot;Production CY&quot;: &quot;&quot;,\\n        &quot;Production PY&quot;: 2783133\\n      },\\n      {\\n        &quot;Site&quot;: 7,\\n        &quot;Fin Year&quot;: 2023,\\n        &quot;Financial Month Nr&quot;: 11,\\n        &quot;Financial Month&quot;: &quot;Aug&quot;,\\n        &quot;KPI Name&quot;: &quot;Elec from Renewables&quot;,\\n        &quot;KPI Sort&quot;: 2,\\n        &quot;Usage CY&quot;: &quot;&quot;,\\n        &quot;Usage PY&quot;: 21.4,\\n        &quot;Target&quot;: 20,\\n        &quot;Production CY&quot;: &quot;&quot;,\\n        &quot;Production PY&quot;: 3485137\\n      },\\n      {\\n        &quot;Site&quot;: 7,\\n        &quot;Fin Year&quot;: 2023,\\n        &quot;Financial Month Nr&quot;: 11,\\n        &quot;Financial Month&quot;: &quot;Aug&quot;,\\n        &quot;KPI Name&quot;: &quot;Elec from Non-Renewables&quot;,\\n        &quot;KPI Sort&quot;: 1,\\n        &quot;Usage CY&quot;: &quot;&quot;,\\n        &quot;Usage PY&quot;: 128.52,\\n        &quot;Target&quot;: 120.1,\\n        &quot;Production CY&quot;: &quot;&quot;,\\n        &quot;Production PY&quot;: 3485137\\n      },\\n      {\\n        &quot;Site&quot;: 7,\\n        &quot;Fin Year&quot;: 2023,\\n        &quot;Financial Month Nr&quot;: 12,\\n        &quot;Financial Month&quot;: &quot;Sep&quot;,\\n        &quot;KPI Name&quot;: &quot;Elec from Renewables&quot;,\\n        &quot;KPI Sort&quot;: 2,\\n        &quot;Usage CY&quot;: &quot;&quot;,\\n        &quot;Usage PY&quot;: 15.86,\\n        &quot;Target&quot;: 14.82,\\n        &quot;Production CY&quot;: &quot;&quot;,\\n        &quot;Production PY&quot;: 4529008\\n      },\\n      {\\n        &quot;Site&quot;: 7,\\n        &quot;Fin Year&quot;: 2023,\\n        &quot;Financial Month Nr&quot;: 12,\\n        &quot;Financial Month&quot;: &quot;Sep&quot;,\\n        &quot;KPI Name&quot;: &quot;Elec from Non-Renewables&quot;,\\n        &quot;KPI Sort&quot;: 1,\\n        &quot;Usage CY&quot;: &quot;&quot;,\\n        &quot;Usage PY&quot;: 99.09,\\n        &quot;Target&quot;: 92.6,\\n        &quot;Production CY&quot;: &quot;&quot;,\\n        &quot;Production PY&quot;: &quot;&quot;\\n      }\\n    ]\\n  },\\n  &quot;transform&quot;: [\\n    {&quot;calculate&quot;: &quot;\\'Production Current FY\\'&quot;, &quot;as&quot;: &quot;Production CY Legend&quot;},\\n    {&quot;calculate&quot;: &quot;\\'Production Prior FY\\'&quot;, &quot;as&quot;: &quot;Production PY Legend&quot;},\\n    {&quot;calculate&quot;: &quot;\\'Electricity Target\\'&quot;, &quot;as&quot;: &quot;Target Legend&quot;},\\n    {&quot;calculate&quot;: &quot;datum[\\'KPI Name\\'] + \\' PY\\'&quot;, &quot;as&quot;: &quot;CategoryPY&quot;},\\n    {&quot;calculate&quot;: &quot;datum[\\'KPI Name\\'] + \\' CY\\'&quot;, &quot;as&quot;: &quot;CategoryCY&quot;}\\n  ],\\n  &quot;height&quot;: 300,\\n  &quot;width&quot;: 600,\\n  &quot;config&quot;: {\\n    &quot;legend&quot;: {\\n      &quot;orient&quot;: &quot;bottom&quot;,\\n      &quot;columns&quot;: 2,\\n      &quot;layout&quot;: {&quot;bottom&quot;: {&quot;anchor&quot;: &quot;middle&quot;}}\\n    }\\n  },\\n  &quot;layer&quot;: [\\n    {\\n      &quot;layer&quot;: [\\n        {\\n          &quot;name&quot;: &quot;Electricity CY&quot;,\\n          &quot;mark&quot;: {&quot;type&quot;: &quot;bar&quot;, &quot;xOffset&quot;: 0, &quot;size&quot;: 10, &quot;tooltip&quot;: true},\\n          &quot;encoding&quot;: {\\n            &quot;x&quot;: {\\n              &quot;field&quot;: &quot;Financial Month Nr&quot;,\\n              &quot;type&quot;: &quot;ordinal&quot;,\\n              &quot;axis&quot;: {&quot;labelAngle&quot;: 0}\\n            },\\n            &quot;y&quot;: {\\n              &quot;field&quot;: &quot;Usage CY&quot;,\\n              &quot;type&quot;: &quot;quantitative&quot;,\\n              &quot;title&quot;: &quot;Electricity Intensity (kWh / ton Production)&quot;\\n            },\\n            &quot;color&quot;: {\\n              &quot;field&quot;: &quot;CategoryCY&quot;,\\n              &quot;type&quot;: &quot;nominal&quot;,\\n              &quot;scale&quot;: {\\n                &quot;domain&quot;: [\\n                  &quot;Elec from Renewables PY&quot;,\\n                  &quot;Elec from Non-Renewables PY&quot;,\\n                  &quot;Elec from Renewables CY&quot;,\\n                  &quot;Elec from Non-Renewables CY&quot;\\n                ],\\n                &quot;range&quot;: [&quot;#4496BC&quot;, &quot;#5AC8FA&quot;, &quot;#39A34B&quot;, &quot;#4CD964&quot;]\\n              },\\n              &quot;legend&quot;: {&quot;title&quot;: &quot;&quot;}\\n            },\\n            &quot;order&quot;: {&quot;field&quot;: [&quot;CategoryCY&quot;], &quot;order&quot;: [&quot;ascending&quot;]}\\n          }\\n        },\\n        {\\n          &quot;name&quot;: &quot;Electricity PY&quot;,\\n          &quot;mark&quot;: {&quot;type&quot;: &quot;bar&quot;, &quot;xOffset&quot;: -11, &quot;size&quot;: 10, &quot;tooltip&quot;: true},\\n          &quot;encoding&quot;: {\\n            &quot;x&quot;: {\\n              &quot;field&quot;: &quot;Financial Month Nr&quot;,\\n              &quot;type&quot;: &quot;ordinal&quot;,\\n              &quot;axis&quot;: {&quot;labelAngle&quot;: 0}\\n            },\\n            &quot;y&quot;: {&quot;field&quot;: &quot;Usage PY&quot;, &quot;type&quot;: &quot;quantitative&quot;, &quot;axis&quot;: null},\\n            &quot;color&quot;: {\\n              &quot;field&quot;: &quot;CategoryPY&quot;,\\n              &quot;type&quot;: &quot;nominal&quot;,\\n              &quot;scale&quot;: {\\n                &quot;domain&quot;: [\\n                  &quot;Elec from Renewables PY&quot;,\\n                  &quot;Elec from Non-Renewables PY&quot;,\\n                  &quot;Elec from Renewables CY&quot;,\\n                  &quot;Elec from Non-Renewables CY&quot;\\n                ],\\n                &quot;range&quot;: [&quot;#4496BC&quot;, &quot;#5AC8FA&quot;, &quot;#39A34B&quot;, &quot;#4CD964&quot;]\\n              },\\n              &quot;legend&quot;: {&quot;title&quot;: &quot;&quot;}\\n            },\\n            &quot;order&quot;: {&quot;field&quot;: [&quot;CategoryPY&quot;], &quot;order&quot;: [&quot;ascending&quot;]}\\n          }\\n        },\\n        {\\n          &quot;name&quot;: &quot;TARGET&quot;,\\n          &quot;mark&quot;: {\\n            &quot;type&quot;: &quot;bar&quot;,\\n            &quot;xOffset&quot;: 11,\\n            &quot;size&quot;: 10,\\n            &quot;color&quot;: &quot;#FFCC00&quot;,\\n            &quot;tooltip&quot;: true\\n          },\\n          &quot;encoding&quot;: {\\n            &quot;x&quot;: {\\n              &quot;field&quot;: &quot;Financial Month Nr&quot;,\\n              &quot;type&quot;: &quot;ordinal&quot;,\\n              &quot;axis&quot;: {&quot;labelAngle&quot;: 0}\\n            },\\n            &quot;y&quot;: {\\n              &quot;aggregate&quot;: &quot;sum&quot;,\\n              &quot;field&quot;: &quot;Target&quot;,\\n              &quot;type&quot;: &quot;quantitative&quot;,\\n              &quot;axis&quot;: null\\n            },\\n            &quot;fill&quot;: {\\n              &quot;field&quot;: &quot;Target Legend&quot;,\\n              &quot;scale&quot;: {&quot;range&quot;: [&quot;#FFCC00&quot;]},\\n              &quot;legend&quot;: {&quot;title&quot;: &quot;&quot;}\\n            }\\n          }\\n        }\\n      ],\\n      &quot;resolve&quot;: {&quot;scale&quot;: {&quot;y&quot;: &quot;shared&quot;}, &quot;axis&quot;: {&quot;y&quot;: &quot;independent&quot;}}\\n    },\\n    {\\n      &quot;layer&quot;: [\\n        {\\n          &quot;name&quot;: &quot;Production CY&quot;,\\n          &quot;mark&quot;: {&quot;type&quot;: &quot;line&quot;, &quot;tooltip&quot;: true},\\n          &quot;encoding&quot;: {\\n            &quot;x&quot;: {&quot;field&quot;: &quot;Financial Month Nr&quot;, &quot;type&quot;: &quot;ordinal&quot;},\\n            &quot;y&quot;: {\\n              &quot;field&quot;: &quot;Production CY&quot;,\\n              &quot;type&quot;: &quot;quantitative&quot;,\\n              &quot;title&quot;: &quot;Production (ton)&quot;\\n            },\\n            &quot;stroke&quot;: {\\n              &quot;field&quot;: &quot;Production CY Legend&quot;,\\n              &quot;scale&quot;: {&quot;range&quot;: [&quot;black&quot;]},\\n              &quot;legend&quot;: {&quot;title&quot;: &quot;&quot;}\\n            }\\n          }\\n        },\\n        {\\n          &quot;name&quot;: &quot;Production PY&quot;,\\n          &quot;mark&quot;: {&quot;type&quot;: &quot;line&quot;, &quot;tooltip&quot;: true},\\n          &quot;encoding&quot;: {\\n            &quot;x&quot;: {&quot;field&quot;: &quot;Financial Month Nr&quot;, &quot;type&quot;: &quot;ordinal&quot;},\\n            &quot;y&quot;: {\\n              &quot;aggregate&quot;: &quot;sum&quot;,\\n              &quot;field&quot;: &quot;Production PY&quot;,\\n              &quot;type&quot;: &quot;quantitative&quot;,\\n              &quot;axis&quot;: null\\n            },\\n            &quot;stroke&quot;: {\\n              &quot;field&quot;: &quot;Production PY Legend&quot;,\\n              &quot;scale&quot;: {&quot;range&quot;: [&quot;red&quot;]},\\n              &quot;legend&quot;: {&quot;title&quot;: &quot;&quot;}\\n            }\\n          }\\n        }\\n      ],\\n      &quot;resolve&quot;: {&quot;scale&quot;: {&quot;y&quot;: &quot;independent&quot;, &quot;stroke&quot;: &quot;independent&quot;}}\\n    }\\n  ]\\n}\\n</code></pre>\\n'"
      ]
     },
     "metadata": {},
     "output_type": "display_data"
    },
    {
     "data": {
      "text/plain": [
       "'A:'"
      ]
     },
     "metadata": {},
     "output_type": "display_data"
    },
    {
     "data": {
      "text/plain": [
       "'<p>The default serialization of type KeyValuePair&lt;string, Subscription&gt; looks like this:</p>\\n<pre><code>{\\n    &quot;key&quot;:\\n      &quot;305FDF11-25E7-43DE-B09D-DFFC17C79599&quot;,\\n    &quot;value&quot;:{\\n     &quot;hasRead&quot;:true,\\n     &quot;timeStamp&quot;:&quot;XXX&quot;\\n    }\\n}\\n</code></pre>\\n<p>To change this behavior you need to write your own converter derrived from JsonConverter class.\\nAlso note that <strong>true</strong> value should be without quotes.</p>\\n'"
      ]
     },
     "metadata": {},
     "output_type": "display_data"
    },
    {
     "data": {
      "text/plain": [
       "'A:'"
      ]
     },
     "metadata": {},
     "output_type": "display_data"
    },
    {
     "data": {
      "text/plain": [
       "'<p>Using the function setState forces the ui to rebuild which will show the changes to screen but not using it does nothing</p>\\n'"
      ]
     },
     "metadata": {},
     "output_type": "display_data"
    },
    {
     "data": {
      "text/plain": [
       "'A:'"
      ]
     },
     "metadata": {},
     "output_type": "display_data"
    },
    {
     "data": {
      "text/plain": [
       "'<p>Create SVG curved line, if you are not familiar with SVG\\'s you can draw it in Illustrator, Inkscape or any other SVG editor and export it.</p>\\n<p>Add stroke-dasharray property to your SVG. <code>stroke-dasharray: 15, 10;</code> means each line is 15px width with 5px gap between. <code>stroke-dashoffset: 0</code> is starting position and <code>stroke-dashoffset: -25</code> in dash animation is how much stroke will be moved (25px = 15 + 10), set it to sum of gap and stroke width to avoid jumps.</p>\\n<p><div class=\"snippet\" data-lang=\"js\" data-hide=\"false\" data-console=\"true\" data-babel=\"false\">\\r\\n<div class=\"snippet-code\">\\r\\n<pre class=\"snippet-code-css lang-css prettyprint-override\"><code>svg {\\n  stroke-dasharray: 15, 10;\\n  stroke-dashoffset: 0;\\n  animation: dash 1s linear infinite;\\n}\\n\\n@keyframes dash {\\n  to {\\n    stroke-dashoffset: -25;\\n  }\\n}\\n\\npath {\\n  stroke: #000;\\n  fill: transparent;\\n  stroke-width: 2;\\n}</code></pre>\\r\\n<pre class=\"snippet-code-html lang-html prettyprint-override\"><code>&lt;svg&gt;\\n  &lt;path d=\"M50,50 Q100,100 150,50\" /&gt;\\n&lt;/svg&gt;</code></pre>\\r\\n</div>\\r\\n</div>\\r\\n</p>\\n'"
      ]
     },
     "metadata": {},
     "output_type": "display_data"
    },
    {
     "data": {
      "text/plain": [
       "'A:'"
      ]
     },
     "metadata": {},
     "output_type": "display_data"
    },
    {
     "data": {
      "text/plain": [
       "'<pre><code>import FirebaseDynamicLinks\\n\\nlet url = URL(string:\\n&quot;https://joyone.page.link/pXJG7y5kLPgxoTyg6?title=Klub+Innowator%C3%B3w+OPZZ&quot;)\\nlet prefix = &quot;https://joyone.page.link&quot; if url?.pathComponents.count\\n== 1 {\\n    print(&quot;The provided URL is already a short link: \\\\(url!)&quot;) } else {\\n    DynamicLinkComponents(link: url, domainURIPrefix: prefix)?.shorten { [weak self] url, _, error in\\n        print(url) // https://joyone.page.link/wZiUKDego5EmFY6VA\\n        print(error) // nil\\n    } }\\n</code></pre>\\n'"
      ]
     },
     "metadata": {},
     "output_type": "display_data"
    },
    {
     "data": {
      "text/plain": [
       "'A:'"
      ]
     },
     "metadata": {},
     "output_type": "display_data"
    },
    {
     "data": {
      "text/plain": [
       "'<p>Only works in Material version 15 or higher, please check your version</p>\\n'"
      ]
     },
     "metadata": {},
     "output_type": "display_data"
    },
    {
     "data": {
      "text/plain": [
       "'A:'"
      ]
     },
     "metadata": {},
     "output_type": "display_data"
    },
    {
     "data": {
      "text/plain": [
       "'<pre><code>*{\\n    box-sizing: border-box;\\n    margin: 0;\\n    padding: 0;    \\n }\\n</code></pre>\\n'"
      ]
     },
     "metadata": {},
     "output_type": "display_data"
    },
    {
     "data": {
      "text/plain": [
       "'A:'"
      ]
     },
     "metadata": {},
     "output_type": "display_data"
    },
    {
     "data": {
      "text/plain": [
       "'<p>You need to use Path Mappings in the server config, even though there isn\\'t a remote server per se running if using Valet. It is stopping here because the server.php is located in the .composer directory of your home, way out of the project scope. If you check use path mappings and put the root project as the absolute path on server it should work (worked for me). Hope this helps someone.</p>\\n<p><a href=\"https://i.stack.imgur.com/ikEYf.png\" rel=\"nofollow noreferrer\"><img src=\"https://i.stack.imgur.com/ikEYf.png\" alt=\"enter image description here\" /></a></p>\\n'"
      ]
     },
     "metadata": {},
     "output_type": "display_data"
    },
    {
     "data": {
      "text/plain": [
       "'A:'"
      ]
     },
     "metadata": {},
     "output_type": "display_data"
    },
    {
     "data": {
      "text/plain": [
       "'<p>If I get it right you want rows containing both \\'R1\\' and \\'R2\\' for the same FK_COL referencing to table 1 PK_COL.</p>\\n<pre class=\"lang-sql prettyprint-override\"><code>WITH        --  Sample data\\n    tbl_1 (PK_COL, SEQ) AS\\n        (   Select 10, 1 From Dual Union All\\n            Select 20, 2 From Dual Union All\\n            Select 30, 7 From Dual          \\n            \\n        ),\\n    tbl_2 (PK_COL, FK_COL, DETAILS) AS\\n        (   Select 100, 10, \\'R1\\' From Dual Union All\\n            Select 101, 10, \\'R2\\' From Dual Union All\\n            Select 103, 20, \\'R1\\' From Dual Union All\\n            Select 104, 30, \\'R4\\' From Dual Union All\\n            Select 105, 30, \\'R2\\' From Dual \\n        )\\n--\\n--   Main SQL    \\nSelect  PK_COL, FK_COL, DETAILS, SEQ\\nFrom    ( Select    t2.PK_COL, t2.FK_COL, t2.DETAILS, t1.SEQ,\\n                  LISTAGG(DISTINCT t2.DETAILS, \\', \\') WITHIN GROUP (Order By t2.DETAILS) Over(Partition By t1.PK_COL) &quot;LIST_DETAILS&quot;\\n          From  tbl_1 t1\\n          Inner Join tbl_2 t2 ON(t2.FK_COL = t1.PK_COL)\\n        )\\nWhere LIST_DETAILS = \\'R1, R2\\'\\n--\\n-- R e s u l t :\\n    PK_COL     FK_COL DETAILS        SEQ\\n---------- ---------- ------- ----------\\n       100         10 R1               1\\n       101         10 R2               1\\n</code></pre>\\n'"
      ]
     },
     "metadata": {},
     "output_type": "display_data"
    },
    {
     "data": {
      "text/plain": [
       "'A:'"
      ]
     },
     "metadata": {},
     "output_type": "display_data"
    },
    {
     "data": {
      "text/plain": [
       "'<p>you need to pass the address of a to scanf()\\n(i.e) use <code>scanf(&quot;%d&quot;,&amp;a)</code></p>\\n'"
      ]
     },
     "metadata": {},
     "output_type": "display_data"
    },
    {
     "data": {
      "text/plain": [
       "'A:'"
      ]
     },
     "metadata": {},
     "output_type": "display_data"
    },
    {
     "data": {
      "text/plain": [
       "'<blockquote>\\n<p>How do I set up my Nuxt JS project to submit both images and text files to Firebase?</p>\\n</blockquote>\\n<p>As you already mentioned, you are able to connect to the firebase. Then to submit the files to Firebase, You can check with this <a href=\"https://levelup.gitconnected.com/upload-files-to-firebase-cloud-storage-using-vue-js-and-node-js-9b61ea3c77df\" rel=\"nofollow noreferrer\">Documentation-1</a>, which states you need to import the exported bucket from <code>firebase.js</code> to <code>index.js</code>.  After doing this step you need to Build the frontend to select the file to upload. You can check with the above mentioned Documentation which clearly describes the step by step process for uploading files to Firebase with Nuxt JS.</p>\\n<p>Also check with this <a href=\"https://medium.com/@choolakejay/upload-images-to-firebase-storage-with-vue-js-afb914566d9\" rel=\"nofollow noreferrer\">Documentation-2</a> which explains clearly on how to submit the images to Firebase using the Nuxt JS.</p>\\n'"
      ]
     },
     "metadata": {},
     "output_type": "display_data"
    },
    {
     "data": {
      "text/plain": [
       "'A:'"
      ]
     },
     "metadata": {},
     "output_type": "display_data"
    },
    {
     "data": {
      "text/plain": [
       "\"<p>It appears you're attempting to use JMX MBean ObjectNames from ActiveMQ &quot;Classic&quot; in ActiveMQ Artemis. That won't work. The management API in ActiveMQ Artemis is different from ActiveMQ &quot;Classic.&quot;</p>\\n\""
      ]
     },
     "metadata": {},
     "output_type": "display_data"
    },
    {
     "data": {
      "text/plain": [
       "'A:'"
      ]
     },
     "metadata": {},
     "output_type": "display_data"
    },
    {
     "data": {
      "text/plain": [
       "'<p>You should change your DTO as</p>\\n<pre><code> struct EventListing: Codable {\\n    var status: Bool\\n    var message: String\\n    var data: Event2\\n    \\n}\\nstruct Event2: Codable {\\n    var upcoming: [Event]\\n    var past: [Event]\\n    \\n}\\n\\nstruct Event: Codable, Identifiable {\\n    var id: String // Add this property to conform to Identifiable\\n    var title: String\\n    var startDate: Date\\n    var endDate: Date\\n    var imageURL: URL?\\n    var isChargeable: Bool\\n    \\n    enum CodingKeys: String, CodingKey {\\n        case id = &quot;event_id&quot;\\n        case title = &quot;event_title&quot;\\n        case startDate = &quot;event_start_date&quot;\\n        case endDate = &quot;event_end_date&quot;\\n        case imageURL = &quot;event_img&quot;\\n        case isChargeable = &quot;event_chargable_or_not&quot;\\n    }\\n} \\n</code></pre>\\n<p>in your codes i can not see the data part but that should be like these. After change code please check the url is correct and data is coming correctly.</p>\\n'"
      ]
     },
     "metadata": {},
     "output_type": "display_data"
    },
    {
     "data": {
      "text/plain": [
       "'A:'"
      ]
     },
     "metadata": {},
     "output_type": "display_data"
    },
    {
     "data": {
      "text/plain": [
       "'<p>you can use the <code>chrome.tabs</code> API to get the current tab and update its title with the current time.</p>\\n<p>Here\\'s a sample code snippet that you can use as a starting point:</p>\\n<pre class=\"lang-js prettyprint-override\"><code>//\\xa0background.js\\n\\nfunction\\xa0updateTabTitle(tabId)\\xa0{\\n\\xa0\\xa0chrome.tabs.get(tabId,\\xa0function(tab)\\xa0{\\n\\xa0\\xa0\\xa0\\xa0var\\xa0currentTime\\xa0=\\xa0new\\xa0Date().toLocaleTimeString();\\n\\xa0\\xa0\\xa0\\xa0var\\xa0newTitle\\xa0=\\xa0currentTime\\xa0+\\xa0&quot;\\xa0-\\xa0&quot;\\xa0+\\xa0tab.title;\\n\\xa0\\xa0\\xa0\\xa0chrome.tabs.executeScript(tabId,\\xa0{code:\\xa0&quot;document.title\\xa0=\\xa0\\'&quot;\\xa0+\\xa0newTitle\\xa0+\\xa0&quot;\\';&quot;});\\n\\xa0\\xa0});\\n}\\n\\nchrome.tabs.onUpdated.addListener(function(tabId,\\xa0changeInfo,\\xa0tab)\\xa0{\\n\\xa0\\xa0if\\xa0(changeInfo.status\\xa0==\\xa0&quot;complete&quot;)\\xa0{\\n\\xa0\\xa0\\xa0\\xa0updateTabTitle(tabId);\\n\\xa0\\xa0}\\n});\\n</code></pre>\\n<p>This code listens for the <code>tabs.onUpdated</code> event, which is fired when a tab is updated (e.g. when a page finishes loading). When this event is fired, the <code>updateTabTitle</code> function is called with the <code>tabId</code> of the updated tab. This function gets the current time, constructs a new title string with the current time and the original tab title, and updates the tab\\'s title using <code>chrome.tabs.executeScript</code>.</p>\\n<p>Note that this code only updates the tab title when the page finishes loading. If you want to update the title more frequently (e.g. every second), you can use <code>setInterval</code> to call <code>updateTabTitle</code> at regular intervals.</p>\\n<p>Also note that in manifest v3, the <code>chrome.tabs.executeScript</code> method requires the <code>scripting</code> permission to be explicitly granted in the manifest file. Here\\'s an example of how to include this permission in your manifest:</p>\\n<pre class=\"lang-json prettyprint-override\"><code>{\\n\\xa0\\xa0&quot;name&quot;:\\xa0&quot;My\\xa0Extension&quot;,\\n\\xa0\\xa0&quot;version&quot;:\\xa0&quot;1.0&quot;,\\n\\xa0\\xa0&quot;manifest_version&quot;:\\xa03,\\n\\xa0\\xa0&quot;background&quot;:\\xa0{\\n\\xa0\\xa0\\xa0\\xa0&quot;service_worker&quot;:\\xa0&quot;background.js&quot;\\n\\xa0\\xa0},\\n\\xa0\\xa0&quot;permissions&quot;:\\xa0[\\n\\xa0\\xa0\\xa0\\xa0&quot;tabs&quot;,\\n\\xa0\\xa0\\xa0\\xa0&quot;scripting&quot;\\n\\xa0\\xa0]\\n}\\n</code></pre>\\n<p>For more information on the <code>chrome.tabs</code> API and the <code>scripting</code> permission, see the following links:</p>\\n<ul>\\n<li><a href=\"https://developer.chrome.com/docs/extensions/reference/tabs/\" rel=\"nofollow noreferrer\">chrome.tabs API documentation</a></li>\\n<li><a href=\"https://developer.chrome.com/docs/extensions/mv3/declare_permissions/#scripting\" rel=\"nofollow noreferrer\">scripting permission documentation</a></li>\\n</ul>\\n'"
      ]
     },
     "metadata": {},
     "output_type": "display_data"
    },
    {
     "data": {
      "text/plain": [
       "'A:'"
      ]
     },
     "metadata": {},
     "output_type": "display_data"
    },
    {
     "data": {
      "text/plain": [
       "\"<p>localStorage is not updated, so it works like <code>x-show=&quot;undefined == 'hi'&quot;</code>. you can detect localStorage updates (or put a function every time you update it) and update x-show.</p>\\n\""
      ]
     },
     "metadata": {},
     "output_type": "display_data"
    },
    {
     "data": {
      "text/plain": [
       "'A:'"
      ]
     },
     "metadata": {},
     "output_type": "display_data"
    },
    {
     "data": {
      "text/plain": [
       "'<p>The issue is that the path set via <code>root.dir</code> sets the working directory for the code chunks. However, for images the root path is the path of the <code>Rmd</code>. See <a href=\"https://bookdown.org/yihui/rmarkdown-cookbook/working-directory.html#working-directory\" rel=\"nofollow noreferrer\">The working directory for R code chunks</a>. One option which worked for me would be to use an absolute file path by wrapping your relative path in <code>normalizePath()</code> and setting <code>rel_path=FALSE</code>.</p>\\n<pre><code>```\\n---\\ntitle: &quot;TTT&quot;\\nauthor: &quot;aaa&quot;\\ndate: &quot;2023&quot;\\noutput: beamer_presentation\\n---\\n\\n\\n```{r setup, include=FALSE}\\nknitr::opts_knit$set(root.dir = r&quot;[C:\\\\Users\\\\xxx\\\\Desktop\\\\islr\\\\data]&quot;)\\nknitr::opts_chunk$set(\\n  message = FALSE, \\n  warning = FALSE,\\n  fig.align = &quot;center&quot;\\n)\\nlibrary(knitr)\\n```\\n\\n## data input\\n\\n```{r}\\nad = read.csv(&quot;mtcars.csv&quot;,row.names=1)\\nhead(ad)\\n```\\n\\n## image input\\n\\n```{r}\\ninclude_graphics(normalizePath(&quot;../fig/2-1.pdf&quot;), rel_path = FALSE)\\n```\\n</code></pre>\\n<p><a href=\"https://i.stack.imgur.com/ntTuU.png\" rel=\"nofollow noreferrer\"><img src=\"https://i.stack.imgur.com/ntTuU.png\" alt=\"enter image description here\" /></a></p>\\n'"
      ]
     },
     "metadata": {},
     "output_type": "display_data"
    },
    {
     "data": {
      "text/plain": [
       "'A:'"
      ]
     },
     "metadata": {},
     "output_type": "display_data"
    },
    {
     "data": {
      "text/plain": [
       "'<p>Java provides the Iterator interface for iterate through complex data structures like stack, map and lists.\\nyou might have to refactor your code to use the iterator interface.</p>\\n<pre><code>Iterator&lt;Character&gt; iterator = stack.iterator();\\nwhile(iterator.hasNext()){\\nsb.append(stack.pop());\\n}\\n</code></pre>\\n'"
      ]
     },
     "metadata": {},
     "output_type": "display_data"
    },
    {
     "data": {
      "text/plain": [
       "'A:'"
      ]
     },
     "metadata": {},
     "output_type": "display_data"
    },
    {
     "data": {
      "text/plain": [
       "'<p>In windows powershell, linux and other shell scripts you can use <code>tee</code> command. The most basic usage of the <code>tee</code> command is to display the standard output(<code>stdout</code>) of a program and write it in a file.</p>\\n<p>The syntax for the <code>tee</code> command is as follows:</p>\\n<pre><code>[command] | tee [options] [filename]\\n</code></pre>\\n<p><strong>EXAMPLE:</strong></p>\\n<p>The following command prints the console output on the terminal and save it to <em>myTest.txt</em></p>\\n<pre><code>ls | tee test.txt\\n</code></pre>\\n<p>Here <code>ls</code> command gives the list of all files or directories under the current path</p>\\n<p>OR</p>\\n<pre><code>df -h | tee disk_usage.txt\\n</code></pre>\\n<p>Here the <code>df</code> command gives the available disk space on the file system. The output is piped to the tee command, which displays the output to the terminal and writes it to the file <em>disk_usage.txt</em>.</p>\\n<p><strong>Append to File</strong></p>\\n<p>By default, the tee command will overwrite the specified file. Use the <code>-a (--append)</code> option to append the output to the file :</p>\\n<pre><code>ls | tee -a file.out\\n</code></pre>\\n<p>You can also check this useful <a href=\"https://linuxize.com/post/linux-tee-command/?utm_content=cmp-true\" rel=\"nofollow noreferrer\">link</a> that I used as a reference.</p>\\n'"
      ]
     },
     "metadata": {},
     "output_type": "display_data"
    },
    {
     "data": {
      "text/plain": [
       "'A:'"
      ]
     },
     "metadata": {},
     "output_type": "display_data"
    },
    {
     "data": {
      "text/plain": [
       "'<p>Use <code>v-model</code> to get the selected value.</p>\\n<p><div class=\"snippet\" data-lang=\"js\" data-hide=\"false\" data-console=\"true\" data-babel=\"false\">\\r\\n<div class=\"snippet-code\">\\r\\n<pre class=\"snippet-code-js lang-js prettyprint-override\"><code>const { createApp, ref } = Vue;\\n\\nconst App = { \\n  data() {\\n    return {\\n      options: [\\'Address 1\\', \\'Address 2\\', \\'Address 3\\'],\\n      checkoutStore: { selectedAddress: null }\\n    }\\n  }\\n}\\nconst app = createApp(App)\\napp.component(\\'v-select\\', window[\\'vue-select\\']);\\napp.mount(\\'#app\\')</code></pre>\\r\\n<pre class=\"snippet-code-css lang-css prettyprint-override\"><code>#app { line-height: 2; }\\n[v-cloak] { display: none; }</code></pre>\\r\\n<pre class=\"snippet-code-html lang-html prettyprint-override\"><code>&lt;div id=\"app\" v-cloak&gt;\\n   checkoutStore.selectedAddress: {{ checkoutStore.selectedAddress}}\\n  &lt;v-select :options=\"options\" v-model=\"checkoutStore.selectedAddress\"&gt;&lt;/v-select&gt;\\n&lt;/div&gt;\\n&lt;!-- include VueJS first --&gt;\\n&lt;script src=\"https://unpkg.com/vue@3/dist/vue.global.prod.js\"&gt;&lt;/script&gt;\\n&lt;!-- use the latest vue-select release --&gt;\\n&lt;script src=\"https://unpkg.com/vue-select@4.0.0-beta.6\"&gt;&lt;/script&gt;\\n&lt;link rel=\"stylesheet\" href=\"https://unpkg.com/vue-select@latest/dist/vue-select.css\"&gt;</code></pre>\\r\\n</div>\\r\\n</div>\\r\\n</p>\\n'"
      ]
     },
     "metadata": {},
     "output_type": "display_data"
    },
    {
     "data": {
      "text/plain": [
       "'A:'"
      ]
     },
     "metadata": {},
     "output_type": "display_data"
    },
    {
     "data": {
      "text/plain": [
       "\"<p>I would rework it a bit:</p>\\n<pre><code>import wx\\nimport os\\nimport glob\\n\\nclass MyFrame(wx.Frame):\\n    def __init__(self, parent):\\n        super().__init__(parent, title=&quot;Image Viewer&quot;, size=(800, 600))\\n        self.panel = wx.Panel(self)\\n\\n        self.panel.Bind(wx.EVT_PAINT, self.on_paint)\\n        self.panel.Bind(wx.EVT_ERASE_BACKGROUND, self.on_erase)\\n\\n        self.images = []\\n        self.image_index = -1\\n        self.image = None\\n\\n        self.Bind(wx.EVT_KEY_DOWN, self.on_key_down)\\n        self.Bind(wx.EVT_SIZE, self.on_size)\\n        self.SetFocus()\\n\\n    def on_key_down(self, event):\\n        keycode = event.GetKeyCode()\\n        if keycode == wx.WXK_LEFT:\\n            if self.image_index &gt; 0:\\n                self.image_index -= 1\\n                image_path = self.images[self.image_index]\\n                self.display_image(image_path)\\n        elif keycode == wx.WXK_RIGHT:\\n            if self.image_index &lt; len(self.images) - 1:\\n                self.image_index += 1\\n                image_path = self.images[self.image_index]\\n                self.display_image(image_path)\\n        event.Skip()\\n\\n    def on_size(self, event):\\n        self.panel.Refresh()\\n        event.Skip()\\n\\n    def display_image(self, path):\\n        self.image = wx.Image(path, wx.BITMAP_TYPE_ANY)\\n        self.panel.Refresh()\\n\\n    def on_paint(self, event):\\n        if not self.image:\\n            return  # No image\\n        \\n        # Resize the image to fit the window size\\n        window_width, window_height = self.panel.GetClientSize()\\n        image_width, image_height = self.image.GetSize()\\n        scale = min(window_width / image_width, window_height / image_height)\\n        new_width = int(image_width * scale)\\n        new_height = int(image_height * scale)\\n        image = self.image.Scale(new_width, new_height, wx.IMAGE_QUALITY_HIGH)\\n\\n        bitmap = wx.Bitmap(image)\\n        dc = wx.ClientDC(self.panel)\\n        x0 = (window_width - new_width) // 2\\n        y0 = (window_height - new_height) // 2\\n        x1 = x0 + new_width\\n        y1 = y0 + new_height\\n\\n        dc.SetPen(wx.Pen(self.panel.GetBackgroundColour()))\\n        dc.SetBrush(wx.Brush(self.panel.GetBackgroundColour()))\\n        if x0 &gt; 0:\\n            dc.DrawRectangle(0, 0, x0, window_height)\\n        if x1 &lt; window_width:\\n            dc.DrawRectangle(x1, 0, window_width-x1, window_height)\\n        if y0 &gt; 0:\\n            dc.DrawRectangle(x0, 0, new_width, y0)\\n        if y1 &lt; window_height:\\n            dc.DrawRectangle(x0, y1, new_width, window_height-y1)\\n\\n        dc.DrawBitmap(bitmap, x0, y0, True)\\n            \\n    def on_erase(self, event):\\n        pass\\n\\n    def load_images(self, filename):\\n        supported_extensions = ('*.jpg', '*.jpeg', '*.png', '*.bmp', '*.gif')\\n        self.images = []\\n        for ext in supported_extensions:\\n            self.images.extend(sorted(glob.glob(os.path.join(os.path.dirname(filename), ext), recursive=True)))\\n        if filename in self.images:\\n            self.image_index = self.images.index(filename)\\n        else:\\n            raise FileNotFoundError(f&quot;Specified image not found: {filename}&quot;)\\n\\n    def select_image(self):\\n        wildcard = &quot;Image files (*.jpg;*.jpeg;*.png;*.bmp;*.gif)|*.jpg;*.jpeg;*.png;*.bmp;*.gif&quot;\\n        dialog = wx.FileDialog(self, &quot;Open image&quot;, wildcard=wildcard, style=wx.FD_OPEN)\\n\\n        if dialog.ShowModal() == wx.ID_OK:\\n            image_path = dialog.GetPath()\\n            self.load_images(image_path)\\n            self.display_image(image_path)\\n\\n        dialog.Destroy()\\n\\nif __name__ == '__main__':\\n    app = wx.App()\\n    frame = MyFrame(None)\\n    frame.Show()\\n\\n    frame.select_image()\\n\\n    app.MainLoop()\\n</code></pre>\\n<p>Major Changes:</p>\\n<ul>\\n<li>I block the redraw of the window background (see the empty OnErase handler)</li>\\n<li>The OnSize handler only calls Refresh</li>\\n<li>I only load the image once in the display_image function</li>\\n<li>I erase the background of the window using dc.DrawRectangle</li>\\n<li>I draw the background of the window only where it is not covered by the picture</li>\\n</ul>\\n\""
      ]
     },
     "metadata": {},
     "output_type": "display_data"
    },
    {
     "data": {
      "text/plain": [
       "'A:'"
      ]
     },
     "metadata": {},
     "output_type": "display_data"
    },
    {
     "data": {
      "text/plain": [
       "'<p>With a lambda function and instead using vectorized operations you could do that, for your case <code>pd.DateOffset</code> to add months directly to the date column would be good.</p>\\n<pre><code>import pandas as pd\\n\\ndata = {\\n    &quot;startDate&quot;: pd.date_range(start=&quot;2020-01-01&quot;, periods=10, freq=&quot;MS&quot;),\\n    &quot;projectedMonth&quot;: [1, 2, 3, 4, 5, 6, 7, 8, 9, 10],\\n}\\nsnapshots = pd.DataFrame(data)\\n\\nsnapshots[&quot;End_Date&quot;] = snapshots.apply(lambda row: row[&quot;startDate&quot;] + pd.DateOffset(months=row[&quot;projectedMonth&quot;]), axis=1)\\n\\ntoday = pd.Timestamp.today()\\nfiltered_snapshots = snapshots[snapshots[&quot;End_Date&quot;] &lt;= today]\\n\\nprint(filtered_snapshots)\\n</code></pre>\\n'"
      ]
     },
     "metadata": {},
     "output_type": "display_data"
    },
    {
     "data": {
      "text/plain": [
       "'A:'"
      ]
     },
     "metadata": {},
     "output_type": "display_data"
    },
    {
     "data": {
      "text/plain": [
       "'<p>If want to find all previous version till current version then you can do it using recursive query. MySQL recursive CTE <a href=\"https://dev.mysql.com/doc/refman/8.0/en/with.html#common-table-expressions-recursive\" rel=\"nofollow noreferrer\">link</a>.</p>\\n'"
      ]
     },
     "metadata": {},
     "output_type": "display_data"
    },
    {
     "data": {
      "text/plain": [
       "'A:'"
      ]
     },
     "metadata": {},
     "output_type": "display_data"
    },
    {
     "data": {
      "text/plain": [
       "'<p>You could try <a href=\"https://github.com/a914-gowtham/compose-ratingbar\" rel=\"nofollow noreferrer\">this library</a></p>\\n<p>Add in project build.gradle:</p>\\n<pre><code>repositories {\\n    maven { url \\'https://jitpack.io\\' }\\n}\\n</code></pre>\\n<p>App build.gradle</p>\\n<pre><code>dependencies {\\n   implementation \\'com.github.a914-gowtham:compose-ratingbar:1.2.5\\'\\n}\\n\\n</code></pre>\\n<p>Usage</p>\\n<pre><code>   import androidx.compose.runtime.*\\n\\n   var rating: Float by remember { mutableStateOf(initialRating) }\\n\\n   RatingBar(\\n       value = rating,\\n       config = RatingBarConfig()\\n           .style(RatingBarStyle.HighLighted),\\n       onValueChange = {\\n           rating = it\\n       },\\n       onRatingChanged = {\\n           Log.d(&quot;TAG&quot;, &quot;onRatingChanged: $it&quot;)\\n       }\\n   )\\n</code></pre>\\n'"
      ]
     },
     "metadata": {},
     "output_type": "display_data"
    },
    {
     "data": {
      "text/plain": [
       "'A:'"
      ]
     },
     "metadata": {},
     "output_type": "display_data"
    },
    {
     "data": {
      "text/plain": [
       "'<p>On my side, the problem had been solved by adding the following command alias to ensure to run my locally installed AWS CDK Toolkit:</p>\\n<pre><code>alias cdk=&quot;npx aws-cdk&quot;\\n</code></pre>\\n<p>More info here: <a href=\"https://docs.aws.amazon.com/cdk/v2/guide/troubleshooting.html\" rel=\"nofollow noreferrer\">https://docs.aws.amazon.com/cdk/v2/guide/troubleshooting.html</a></p>\\n'"
      ]
     },
     "metadata": {},
     "output_type": "display_data"
    },
    {
     "data": {
      "text/plain": [
       "'A:'"
      ]
     },
     "metadata": {},
     "output_type": "display_data"
    },
    {
     "data": {
      "text/plain": [
       "\"<p>Here is how I implemented dark mode in React MUI 5. I made a custom hook and fully supported three modes: &quot;light,&quot; &quot;dark,&quot; and &quot;system.&quot;</p>\\n<p>Hope this helps someone looking for a similar answer. :)</p>\\n<pre><code>// ColorModeContext.js\\n\\nimport React from &quot;react&quot;;\\n\\nexport const ColorModeContext = React.createContext({\\n  colorMode: &quot;system&quot;,\\n  toggleColorMode: () =&gt; {},\\n});\\n\\n</code></pre>\\n<pre><code>// useThemeSwitcher.js\\n\\nimport React from &quot;react&quot;;\\nimport { createTheme, useMediaQuery } from &quot;@mui/material&quot;;\\nimport theme from &quot;configs/Theme&quot;;\\nimport { Light, Dark } from &quot;configs/Palette&quot;;\\n\\nconst useThemeSwitcher = () =&gt; {\\n  const prefersDarkMode = useMediaQuery(&quot;(prefers-color-scheme: dark)&quot;) ? &quot;dark&quot; : &quot;light&quot;; // Get user browser scheme\\n  const [mode, setMode] = React.useState(localStorage.getItem(&quot;theme&quot;) || prefersDarkMode);\\n\\n  const colorMode = React.useMemo(\\n    () =&gt; ({\\n      toggleColorMode: (selected) =&gt; {\\n        setMode(selected === &quot;system&quot; ? prefersDarkMode : selected);\\n      },\\n    }),\\n    [prefersDarkMode]\\n  );\\n\\n  const newTheme = React.useMemo(() =&gt; {\\n    const themeMode = localStorage.getItem(&quot;theme&quot;) === &quot;system&quot; ? prefersDarkMode : mode;\\n\\n    return createTheme({\\n      ...theme,\\n      palette: {\\n        mode: themeMode,\\n        ...(themeMode === &quot;dark&quot; ? Dark : Light), // Your custom light and dark palette\\n      },\\n    });\\n  }, [mode, prefersDarkMode]);\\n\\n  return { newTheme, colorMode };\\n};\\n\\nexport default useThemeSwitcher;\\n\\n</code></pre>\\n<pre><code>// App.js\\n\\nimport React from &quot;react&quot;;\\nimport CssBaseline from &quot;@mui/material/CssBaseline&quot;;\\nimport { ThemeProvider, StyledEngineProvider } from &quot;@mui/material/styles&quot;;\\nimport Root from &quot;./Root&quot;;\\n\\nimport { ColorModeContext } from &quot;ColorModeContext&quot;;\\nimport useThemeSwitcher from &quot;hooks/useThemeSwitcher&quot;;\\n\\nconst App = () =&gt; {\\n  const { newTheme, colorMode } = useThemeSwitcher();\\n  return (\\n    /* Provide Redux store */\\n    &lt;StyledEngineProvider injectFirst&gt;\\n      &lt;ColorModeContext.Provider value={colorMode}&gt;\\n        &lt;ThemeProvider theme={newTheme}&gt;\\n          &lt;CssBaseline /&gt;\\n          &lt;Root /&gt;\\n        &lt;/ThemeProvider&gt;\\n      &lt;/ColorModeContext.Provider&gt;\\n    &lt;/StyledEngineProvider&gt;\\n  );\\n};\\n\\nexport default App;\\n\\n</code></pre>\\n<pre><code>// ThemeSwitcher.js\\n\\nimport React from &quot;react&quot;;\\nimport { Divider, MenuItem } from &quot;@mui/material&quot;;\\nimport { useTheme } from &quot;@mui/material/styles&quot;;\\nimport Brightness4Icon from &quot;@mui/icons-material/Brightness4&quot;;\\nimport Brightness7Icon from &quot;@mui/icons-material/Brightness7&quot;;\\nimport { ColorModeContext } from &quot;ColorModeContext&quot;;\\nimport Popover from '@mui/material/Popover';\\n\\nconst ThemeSwitcher = () =&gt; {\\n  const theme = useTheme();\\n  const { toggleColorMode } = React.useContext(ColorModeContext);\\n\\n\\n  const [anchorEl, setAnchorEl] = React.useState(null);\\n\\n  const handleClick = (event) =&gt; {\\n    setAnchorEl(event.currentTarget);\\n  };\\n\\n  const handleClose = () =&gt; {\\n    setAnchorEl(null);\\n  };\\n\\n  const open = Boolean(anchorEl);\\n  const id = open ? 'simple-popover' : undefined;\\n\\n  const switchMode = (mode) =&gt; {\\n    toggleColorMode(mode);\\n    localStorage.setItem(&quot;theme&quot;, mode);\\n  };\\n\\n  React.useEffect(() =&gt; {\\n    if (!localStorage.getItem(&quot;theme&quot;)) {\\n      localStorage.setItem(&quot;theme&quot;, &quot;system&quot;);\\n    }\\n  }, []);\\n\\n  return (\\n&lt;&gt;\\n      &lt;Button aria-describedby={id} variant=&quot;contained&quot; onClick={handleClick}&gt;\\n        theme.palette.mode === &quot;dark&quot; ? (\\n          &lt;Brightness7Icon sx={{ fill: &quot;#fff&quot; }} /&gt;\\n        ) : (\\n          &lt;Brightness4Icon sx={{ fill: &quot;#000&quot; }} /&gt;\\n        )Ï\\n      &lt;/Button&gt;\\n\\n      &lt;Popover\\n        id={id}\\n        open={open}\\n        anchorEl={anchorEl}\\n        onClose={handleClose}\\n        anchorOrigin={{\\n          vertical: 'bottom',\\n          horizontal: 'left',\\n        }}\\n      &gt;\\n      &lt;MenuItem onClick={() =&gt; switchMode(&quot;light&quot;)}&gt;Light&lt;/MenuItem&gt;\\n\\n      &lt;Divider sx={{ mb: &quot;0.5rem&quot;, borderBottom: &quot;thin dashed rgba(145, 158, 171, 0.24)&quot; }} /&gt;\\n\\n      &lt;MenuItem onClick={() =&gt; switchMode(&quot;dark&quot;)}&gt;Dark&lt;/MenuItem&gt;\\n\\n      &lt;Divider sx={{ mt: &quot;0.5rem&quot;, borderBottom: &quot;thin dashed rgba(145, 158, 171, 0.24)&quot; }} /&gt;\\n\\n      &lt;MenuItem onClick={() =&gt; switchMode(&quot;system&quot;)}&gt;System&lt;/MenuItem&gt;\\n    &lt;/Popover&gt;\\n&lt;/&gt;\\n  );\\n};\\n\\nexport default ThemeSwitcher;\\n\\n</code></pre>\\n\""
      ]
     },
     "metadata": {},
     "output_type": "display_data"
    },
    {
     "data": {
      "text/plain": [
       "'A:'"
      ]
     },
     "metadata": {},
     "output_type": "display_data"
    },
    {
     "data": {
      "text/plain": [
       "'<p>In order to collect all reviews, you can use <a href=\"https://serpapi.com/google-maps-reviews-api\" rel=\"nofollow noreferrer\">Google Maps Reviews API</a> from SerpApi. This is a paid API with a free plan that processes blocks and parses data on its backend..</p>\\n<p>In order to extract the reviews of a particular company, we need to define the <a href=\"https://serpapi.com/google-maps-reviews-api#api-parameters-search-query-data-id\" rel=\"nofollow noreferrer\">data_id</a> parameter, which is a unique ID for a specific place.</p>\\n<p>This can be done using <a href=\"https://serpapi.com/maps-local-results\" rel=\"nofollow noreferrer\">Google Maps Local Results API</a> by parsing local results. Before parsing, you need to specify the GPS coordinates (<a href=\"https://serpapi.com/maps-local-results#api-parameters-ll\" rel=\"nofollow noreferrer\"><code>ll</code> parameter</a>) which you can get from Google Maps URL in your browser, and the search query itself (<a href=\"https://serpapi.com/maps-local-results#api-parameters-q\" rel=\"nofollow noreferrer\"><code>q</code> parameter</a>):</p>\\n<pre class=\"lang-py prettyprint-override\"><code>params = {\\n    \\'api_key\\': \\'...\\',                       # https://serpapi.com/manage-api-key\\n    \\'engine\\': \\'google_maps\\',                # SerpApi search engine \\n    \\'q\\': \\'starbucks\\',                       # query\\n    \\'ll\\': \\'@40.7544356,-73.9645094,13.25z\\', # GPS coordinates NY, USA\\n    \\'type\\': \\'search\\',                       # list of results for the query\\n    \\'hl\\': \\'en\\',                             # language\\n    \\'start\\': 0,                             # pagination\\n}\\n\\nsearch = GoogleSearch(params)               # where data extraction happens on the backend\\nresults = search.get_dict()                 # JSON -&gt; Python dict\\n\\nlocal_results_data = [\\n    (result[\\'title\\'], result[\\'data_id\\']) \\n    for result in results[\\'local_results\\']\\n]\\n</code></pre>\\n<p>Next, having the <code>data_id</code> parameter, we extract reviews from all found places at the given coordinates with a given search query.</p>\\n<p>Check full code in <a href=\"https://replit.com/@denisskopa/scrape-review-google-maps-serpapi\" rel=\"nofollow noreferrer\">online IDE</a>.</p>\\n<pre class=\"lang-py prettyprint-override\"><code>from serpapi import GoogleSearch\\nfrom urllib.parse import urlsplit, parse_qsl\\nimport json\\n\\nparams = {\\n    \\'api_key\\': \\'...\\',                       # https://serpapi.com/manage-api-key\\n    \\'engine\\': \\'google_maps\\',                # SerpApi search engine \\n    \\'q\\': \\'starbucks\\',                       # query\\n    \\'ll\\': \\'@40.7544356,-73.9645094,13.25z\\', # GPS coordinates NY, USA\\n    \\'type\\': \\'search\\',                       # list of results for the query\\n    \\'hl\\': \\'en\\',                             # language\\n    \\'start\\': 0,                             # pagination\\n}\\n\\nsearch = GoogleSearch(params)               # where data extraction happens on the backend\\nresults = search.get_dict()                 # JSON -&gt; Python dict\\n\\nlocal_results_data = [\\n    (result[\\'title\\'], result[\\'data_id\\']) \\n    for result in results[\\'local_results\\']\\n]\\n\\n# find all reviews\\nreviews_results = []\\n\\nfor title, data_id in local_results_data:\\n    params = {\\n        \\'api_key\\': \\'...\\',                   # https://serpapi.com/manage-api-key\\n        \\'engine\\': \\'google_maps_reviews\\',    # SerpApi search engine\\n        \\'sort_by\\': \\'qualityScore\\',          # most relevant reviews\\n        \\'hl\\': \\'en\\',                         # language\\n        \\'data_id\\': data_id                  # place result\\n    }\\n    \\n    search = GoogleSearch(params)\\n    \\n    reviews = []\\n    \\n    # pagination\\n    while True:\\n        new_reviews_page_result = search.get_dict()\\n        \\n        reviews.extend(new_reviews_page_result[\\'reviews\\'])\\n        \\n        if new_reviews_page_result.get(\\'serpapi_pagination\\').get(\\'next\\') and new_reviews_page_result.get(\\'serpapi_pagination\\').get(\\'next_page_token\\'):\\n            search.params_dict.update(dict(parse_qsl(urlsplit(new_reviews_page_result.get(\\'serpapi_pagination\\', {}).get(\\'next\\')).query)))\\n        else:\\n            break\\n               \\n    reviews_results.append({\\n        \\'title\\': title,\\n        \\'reviews\\': reviews\\n    })\\n\\nprint(json.dumps(reviews_results, indent=2, ensure_ascii=False))\\n</code></pre>\\n<p>Example output:</p>\\n<pre class=\"lang-json prettyprint-override\"><code>[\\n    {\\n        &quot;link&quot;: &quot;https://www.google.com/maps/reviews/data=!4m8!14m7!1m6!2m5!1sChZDSUhNMG9nS0VJQ0FnSUQwOHJTMEh3EAE!2m1!1s0x0:0xcecfdcfdd996050d!3m1!1s2@1:CIHM0ogKEICAgID08rS0Hw%7CCgwI6fPn7QUQuMb-rwE%7C?hl=en-US&quot;,\\n        &quot;user&quot;: {\\n          &quot;name&quot;: &quot;Frank M.S. Paco&quot;,\\n          &quot;link&quot;: &quot;https://www.google.com/maps/contrib/103539821233289265391?hl=en-US&amp;sa=X&amp;ved=2ahUKEwiM84fhz7P-AhXAFFkFHSv8CQEQvvQBegUIARCtAQ&quot;,\\n          &quot;thumbnail&quot;: &quot;https://lh3.googleusercontent.com/a-/ACB-R5Q_MMVbTlYa5sgQXs-NW0NphsMylIeFZKlok2ipAw=s40-c-c0x00000000-cc-rp-mo-br100&quot;,\\n          &quot;reviews&quot;: 12,\\n          &quot;photos&quot;: 3\\n        },\\n        &quot;rating&quot;: 5.0,\\n        &quot;date&quot;: &quot;3 years ago&quot;,\\n        &quot;snippet&quot;: &quot;&quot;\\n    },\\n    other output ...\\n]\\n</code></pre>\\n<p>You can read <a href=\"https://serpapi.com/blog/using-google-maps-reviews-api-from-serpapi/\" rel=\"nofollow noreferrer\">Using Google Maps Reviews API from SerpApi</a> blog post or <a href=\"https://www.youtube.com/watch?v=jqoNHXiGeZA\" rel=\"nofollow noreferrer\">Web Scraping Google Maps Place Result with SerpApi</a> video for a better understanding of the code.</p>\\n<blockquote>\\n<p>Disclaimer, I work for SerpApi.</p>\\n</blockquote>\\n'"
      ]
     },
     "metadata": {},
     "output_type": "display_data"
    },
    {
     "data": {
      "text/plain": [
       "'A:'"
      ]
     },
     "metadata": {},
     "output_type": "display_data"
    },
    {
     "data": {
      "text/plain": [
       "'<p>I would argue putting your generic argument in the method and not in the interface declaration, i.e:</p>\\n<pre><code>public interface IConversionStrategy\\n{\\n    TDto? Deserialise&lt;TDto&gt;(string data);\\n}\\n</code></pre>\\n<p>This lets you keep a simple dictionary of stragegies:</p>\\n<pre><code>var myStragegies = new Dictionary&lt;string, IConversionStrategy&gt;(){\\n                      {&quot;json&quot;,new JsonStrategy()}, \\n                      {&quot;xml&quot;,new XmlStrategy()}};\\n</code></pre>\\n<p>That give you an easy way to lookup the implementation from a string. And you avoid the need to keep one strategy per type, unless you want that for some reason.</p>\\n<p>My preference is making the key part of the interface, and select the strategy/serializer based on some part of the data, like the filename, not configuration. For example:</p>\\n<pre><code>public interface IConversionStrategy\\n{\\n    string Name {get;}\\n    TDto? Deserialise&lt;TDto&gt;(string data);\\n}\\n...\\npublic static IConversionStrategy? SelectFromExtension(this IEnumerable&lt;IConversionStrategy&gt; strategies, string fileName)\\n{\\n     return strategies.FirstOrDefault(s =&gt; fileName.EndsWith(s.Name, StringComparison.InvariantCultureIgnoreCase));\\n}\\n</code></pre>\\n<p>I would also consider making the input a Stream instead of a string, with extension methods doing the string to stream conversion.</p>\\n'"
      ]
     },
     "metadata": {},
     "output_type": "display_data"
    },
    {
     "data": {
      "text/plain": [
       "'A:'"
      ]
     },
     "metadata": {},
     "output_type": "display_data"
    },
    {
     "data": {
      "text/plain": [
       "\"<p><strong>Update</strong></p>\\n<p>I notice that you use the following code in code behind to add a Completed event to an Entry，</p>\\n<pre><code>email.Completed += (object sender, EventArgs e) =&gt;\\n{\\n    Password.Focus();\\n };\\n</code></pre>\\n<p>But in your xaml, you set  <code>x:Name=&quot;Email&quot;</code></p>\\n<pre><code> &lt;Entry x:Name=&quot;Email&quot; Text=&quot;{Binding Email}&quot; \\n</code></pre>\\n<p>So you know it's case sensitive. The <strong>email</strong> in code behind refers to the Entry (with x:Name=&quot;email&quot;) set in xaml instead of email property in ViewModel. That's why you got <em>&quot;email does not exist in the current context&quot;</em>.</p>\\n<p>By the way, if you want to access the ViewModel variables from code behind, you could use:</p>\\n<pre><code>var password = vm.Password;\\n</code></pre>\\n<p>============<strong>Origin answer</strong>======</p>\\n<p>You have done most of the work. But capitalization conventions and some details should be paid more attention to, as ToolmakerSteve mentioned.</p>\\n<p>In the ViewModel, you define the Email property in this way:</p>\\n<pre><code>    private string Email;\\n    public string email\\n    {\\n        get { return Email; }\\n        set\\n        {\\n            Email = value;\\n            PropertyChanged(this, new PropertyChangedEventArgs(&quot;Email&quot;));\\n        }\\n    }\\n</code></pre>\\n<p>That means <strong>Email</strong> string is a <strong>private</strong> variable and only in the same class can access it.</p>\\n<p>If an outside class want to access it, it can be done with properties. That's <strong>email</strong> property in your code. So other class can only access the Email string through email property, to be explicit, through\\ngetter in email property.</p>\\n<p>Another is capitalization conventions. Usually we set the private field to lower case while the property name to upper case.</p>\\n<p>To conclude, you may change email property to this:</p>\\n<pre><code>    private string email;\\n    public string Email\\n    {\\n        get { return email; }\\n        set\\n        {\\n            email = value;\\n            PropertyChanged(this, new PropertyChangedEventArgs(nameof(Email)));\\n        }\\n    }\\n</code></pre>\\n<p>Hope it works.</p>\\n\""
      ]
     },
     "metadata": {},
     "output_type": "display_data"
    },
    {
     "data": {
      "text/plain": [
       "'A:'"
      ]
     },
     "metadata": {},
     "output_type": "display_data"
    },
    {
     "data": {
      "text/plain": [
       "'<p>also, by clicking on the &quot;XML Source&quot; tab of your report, you can see details about that error when you check the scroll bar to the right. You will see a red marking where the error orrucres <br>\\n<a href=\"https://i.stack.imgur.com/MYxfG.png\" rel=\"nofollow noreferrer\"><img src=\"https://i.stack.imgur.com/MYxfG.png\" alt=\"enter image description here\" /></a>\\ni would recommend the answer of Luke. in most cases this will help (clearing bindings and refeshing them). note: by clearing the bindings, you will loose BIRT-made data and aggregations. so be carefull</p>\\n'"
      ]
     },
     "metadata": {},
     "output_type": "display_data"
    },
    {
     "data": {
      "text/plain": [
       "'A:'"
      ]
     },
     "metadata": {},
     "output_type": "display_data"
    },
    {
     "data": {
      "text/plain": [
       "\"<p>You can use <code>findall</code> and count occurrences at the end.\\nFor example:</p>\\n<pre><code>import re\\ncount1=0\\ncount2=0\\ncount3=0\\ndata = &quot;String1 String2 String2 String3\\\\nString1 String1\\\\nString3&quot;\\nPattern=r'(?i)(\\\\bString1\\\\b)|(\\\\bString2\\\\b)|(\\\\bString3\\\\b)'\\nlines = data.split('\\\\n')\\nall_matches = []\\ni = 0\\nwhile i!=len(lines): \\n    match=re.findall(Pattern, lines[i])\\n    all_matches.extend(match)\\n    i += 1\\ncount1 = len([el for el in all_matches if el[0] == 'String1'])\\ncount2 = len([el for el in all_matches if el[1] == 'String2'])\\ncount3 = len([el for el in all_matches if el[2] == 'String3'])\\n    \\nprint(count1, count2, count3)\\n</code></pre>\\n<p><strong>Note</strong>: <code>findall</code> will return a list of tuples, where first item of tuple corresponds to the first group, and so on.</p>\\n<p><code>all_matches</code> will be list of tuples, each tuple is of the shape <code>(matched item for string1, matched item for string2, matched item for string3)</code>\\nif there isn't a matched, it  will be <code>''</code>\\n,something like that:</p>\\n<pre><code>[('String1', '', ''), ('', 'String2', ''), ('', 'String2', ''), ...]\\n</code></pre>\\n<p>In calculating <code>count1</code> for example, we are creating a list of elements which match String1(The condition here as we saw, that first element of the tuple equals 'String1') as follows:</p>\\n<pre><code>first_group = [el for el in all_matches if el[0] == 'String1']\\n</code></pre>\\n<p>then we return its length as the value of count1length of those elements:</p>\\n<pre><code>count1 = len(first_group)\\n</code></pre>\\n\""
      ]
     },
     "metadata": {},
     "output_type": "display_data"
    },
    {
     "data": {
      "text/plain": [
       "'A:'"
      ]
     },
     "metadata": {},
     "output_type": "display_data"
    },
    {
     "data": {
      "text/plain": [
       "'<p>You can take advantage of <a href=\"https://docs.python.org/3/whatsnew/3.8.html#assignment-expressions\" rel=\"nofollow noreferrer\"><code>assignment expressions</code></a> (since python 3.8) and builtin <a href=\"https://docs.python.org/3/library/functions.html#next\" rel=\"nofollow noreferrer\"><code>next</code></a> method on generator expression:</p>\\n<pre><code>df = pd.DataFrame([[s, w] for w in df2[\\'col_x\\']\\n                   if (s := next((x for x in df1[\\'col1\\'] if x in w), None))])\\nprint(df)\\n</code></pre>\\n<hr />\\n<pre><code>        0        1\\n0   APPLE  APPLEXX\\n1  BANANA   BANANA\\n</code></pre>\\n<hr />\\n<p>For older python versions use the following generator function:</p>\\n<pre><code>def match_gen(s1, s2):\\n    for word in s1:\\n        match = next((x for x in s2 if x in word), None)\\n        if match:\\n            yield (match, word)\\n\\ndf = pd.DataFrame(match_gen(df2[\\'col_x\\'], df1[\\'col1\\']))\\n</code></pre>\\n'"
      ]
     },
     "metadata": {},
     "output_type": "display_data"
    },
    {
     "data": {
      "text/plain": [
       "'A:'"
      ]
     },
     "metadata": {},
     "output_type": "display_data"
    },
    {
     "data": {
      "text/plain": [
       "\"<p>First, use next command</p>\\n<pre><code>sudo apachectl stop\\n</code></pre>\\n<p>Second, use the <strong>start</strong> button and it's gonna work.</p>\\n\""
      ]
     },
     "metadata": {},
     "output_type": "display_data"
    },
    {
     "data": {
      "text/plain": [
       "'A:'"
      ]
     },
     "metadata": {},
     "output_type": "display_data"
    },
    {
     "data": {
      "text/plain": [
       "\"<p><strong>EDIT</strong>: The solution below works, but is not the optimal solution. Check the other answer.</p>\\n<p>As new to React, I don't understand why this is the way it is, but I found the answer.</p>\\n<p>For some reason the <code>setMessages([...messages, botMessage]);</code> can't see the updated <code>messages</code> state array given by <code>setMessages([...messages, userMessage]);</code> three lines prior (when a user message is sent).</p>\\n<p>The solution is to add both messages, when the bot message arrives like, so the <code>handleInputSubmit</code> becomes:</p>\\n<pre><code>const handleInputSubmit = async (e) =&gt; {\\n    e.preventDefault();\\n    setLoading(true);\\n    const userMessage = { type: &quot;user&quot;, text: inputValue };\\n    setMessages([...messages, userMessage]);\\n    setInputValue(&quot;&quot;);\\n    const botMessage = await getBotMessage(inputValue);\\n    setMessages([...messages, userMessage, botMessage]); // &lt;-- This fixes it.\\n    setLoading(false);\\n  };\\n</code></pre>\\n<p>If anyone can explain or provide a link to documentation explaining this, I would very much appreciate it.</p>\\n\""
      ]
     },
     "metadata": {},
     "output_type": "display_data"
    },
    {
     "data": {
      "text/plain": [
       "'A:'"
      ]
     },
     "metadata": {},
     "output_type": "display_data"
    },
    {
     "data": {
      "text/plain": [
       "'<p>First of all both are warnings so you can ignore them unless you experience stuff not working.</p>\\n<p>the first one is easy to fix. Just follow the advice and add /Users/stevesmith/flutter/bin to the front of your path.</p>\\n<p>You can read more here: <a href=\"https://github.com/flutter/flutter/issues/115651\" rel=\"nofollow noreferrer\">https://github.com/flutter/flutter/issues/115651</a></p>\\n<p>The second warns you that packages cannot be updated because of dependencies. Its always a good idea to do this unless you explicitly know you can update a package safely.</p>\\n'"
      ]
     },
     "metadata": {},
     "output_type": "display_data"
    },
    {
     "data": {
      "text/plain": [
       "'A:'"
      ]
     },
     "metadata": {},
     "output_type": "display_data"
    },
    {
     "data": {
      "text/plain": [
       "'<p>Amortized analysis can be a bit tricky to understand...</p>\\n<p>In the case of a dynamic array that resizes when it becomes half full, the worst-case cost of an individual APPEND or DELETE operation is O(n) because it may require copying all n elements to a new array. However, the key insight of amortized analysis is that not every operation will trigger this worst-case scenario.</p>\\n<p>In fact, for every APPEND operation that requires a resize, there are at most log(n) previous APPEND operations that did not trigger a resize. This is because each resize doubles the size of the array, and so after k resizes the array has size 2^k. Since each resize occurs when the array is half full, we can solve for k such that n &lt;= 2^(k-1), or k &gt;= log(n).</p>\\n<p>So, for a sequence of m APPEND operations, the total cost is at most O(m log n). This is because the worst-case cost of each APPEND operation is O(n), but only a logarithmic number of APPEND operations require this worst-case cost. Similarly, for a sequence of m DELETE operations, the total cost is at most O(m log n) because each DELETE operation simply marks an element as deleted and does not trigger a resize.</p>\\n<p>Therefore, the amortized cost per operation in this sequence is O(log n), which is much better than the worst-case cost of O(n). This means that on average, each operation is much cheaper than O(n).</p>\\n<p>I hope this helps!</p>\\n<p>-- ADICIONAL EXAMPLE [edit] --</p>\\n<p>For example, consider a sequence of n APPEND operations on an initially empty dynamic array. The first APPEND operation will not trigger a resize, so the array will have size 1. The second APPEND operation will not trigger a resize either, so the array will have size 2. The third APPEND operation will trigger a resize with cost O(2) to create a new array of size 4 and copy the 2 elements over. The fourth APPEND operation will not trigger a resize, so the array will have size 3. The fifth APPEND operation will not trigger a resize, so the array will have size 4. The sixth APPEND operation will not trigger a resize, so the array will have size 5. The seventh APPEND operation will trigger a resize with cost O(4) to create a new array of size 8 and copy the 5 elements over. And so on.</p>\\n<p>As you can see, the number of resizes is much smaller than n, and the cost of each resize is also much smaller than n. Therefore, the total cost of the sequence of n APPEND operations is much less than O(n^2), and the amortized cost per operation is much less than O(n).</p>\\n'"
      ]
     },
     "metadata": {},
     "output_type": "display_data"
    },
    {
     "data": {
      "text/plain": [
       "'A:'"
      ]
     },
     "metadata": {},
     "output_type": "display_data"
    },
    {
     "data": {
      "text/plain": [
       "\"<blockquote>\\n<p>HTML CODE:</p>\\n</blockquote>\\n<pre><code>&lt;ion-input #inputId&gt;&lt;/ion-input&gt;\\n</code></pre>\\n<p>TS CODE:</p>\\n<pre><code>import { Component, OnInit, ViewChild } from '@angular/core';\\nimport {  IonInput } from '@ionic/angular';\\nexport class LoginPage implements OnInit {\\n\\n  @ViewChild('inputId', {  static: false })  inputElement: IonInput;\\n\\n  ngAfterViewInit() {\\n      setTimeout(() =&gt; {\\n         this.inputElement.setFocus();\\n    }, 400);\\n  }`\\n</code></pre>\\n\""
      ]
     },
     "metadata": {},
     "output_type": "display_data"
    },
    {
     "data": {
      "text/plain": [
       "'A:'"
      ]
     },
     "metadata": {},
     "output_type": "display_data"
    },
    {
     "data": {
      "text/plain": [
       "\"<p>Others already commented: you can rely upon having just one copy being accessed by all threads, as long as you don't explicitly make it thread-local.</p>\\n<p>As for the thread race problems, please be aware, that its not only the compiler optimizing to different instruction ordering, but also memory and register caching, that will trick you. <strong>Do not expect the volatile modifier to solve those problems</strong> ... it also does not guarantee proper behavior in all situations.</p>\\n<p>There are good (short and understandable) articles about <strong>memory fencing / memory barrier</strong> in wikipedia and standard libs also have some things available for you: search for &quot;<strong>Atomic operations library</strong>&quot;</p>\\n\""
      ]
     },
     "metadata": {},
     "output_type": "display_data"
    },
    {
     "data": {
      "text/plain": [
       "'A:'"
      ]
     },
     "metadata": {},
     "output_type": "display_data"
    },
    {
     "data": {
      "text/plain": [
       "'<p>I\\'ve created a sample repository using a native Flutter implementation that can help to understand how the native way works. The sample app implements Fido2ApiClient: <a href=\"https://github.com/corbado/example-passkeys-api-flutter\" rel=\"nofollow noreferrer\">https://github.com/corbado/example-passkeys-api-flutter</a></p>\\n'"
      ]
     },
     "metadata": {},
     "output_type": "display_data"
    },
    {
     "data": {
      "text/plain": [
       "'A:'"
      ]
     },
     "metadata": {},
     "output_type": "display_data"
    },
    {
     "data": {
      "text/plain": [
       "'<p>The arguments of your <code>OnPoseLandmarks()</code> function are not matching the ones required by the OnPoseLandmarksOutput event.\\nThe correct call is:</p>\\n<pre><code>poseTrackingGraph.OnPoseLandmarksOutput += OnPoseLandmarks;\\n</code></pre>\\n<p>The correct method to call is:</p>\\n<pre><code>private void OnPoseLandmarks(object stream, OutputEventArgs&lt;NormalizedLandmarkList&gt; eventArgs)\\n{\\n   // DO YOUR THING\\n}\\n</code></pre>\\n'"
      ]
     },
     "metadata": {},
     "output_type": "display_data"
    },
    {
     "data": {
      "text/plain": [
       "'A:'"
      ]
     },
     "metadata": {},
     "output_type": "display_data"
    },
    {
     "data": {
      "text/plain": [
       "\"<p>I know this question is a little bit old, but I faced the same problem as you and almost give up from the project.</p>\\n<p>So, for me the problem was because I was setting the name of the schema on DataSource configuration, and when the typeorm run the migration he tries to connect with the default schema setted on DataSource configuration, and as it doesn't exists the connection fails and when i changed the schema name from DataSource to public, as it already exists the migrations runned successfully.</p>\\n<p>I ho this answer can help you.</p>\\n\""
      ]
     },
     "metadata": {},
     "output_type": "display_data"
    },
    {
     "data": {
      "text/plain": [
       "'A:'"
      ]
     },
     "metadata": {},
     "output_type": "display_data"
    },
    {
     "data": {
      "text/plain": [
       "'<pre><code>&lt;div className=&quot;personprofile&quot; onMouseDown={(event)=&gt;{event.preventDefault()}}&gt;\\n  &lt;Person\\n    userId={id}\\n    personCardInteraction={PersonCardInteraction.hover}\\n    fallbackDetails = {personDetails}\\n    onClick={(event)=&gt;{event.preventDefault()}}\\n  &gt;\\n    &lt;CustomPersonCard template=&quot;person-card&quot; /&gt;\\n  &lt;/Person&gt;\\n&lt;/div&gt;\\n</code></pre>\\n'"
      ]
     },
     "metadata": {},
     "output_type": "display_data"
    },
    {
     "data": {
      "text/plain": [
       "'A:'"
      ]
     },
     "metadata": {},
     "output_type": "display_data"
    },
    {
     "data": {
      "text/plain": [
       "'<p><code>pub</code> is not the valid command. You should use <code>flutter pub &lt;command&gt;</code></p>\\n<p>As per <code>fvm</code> doc, you just have to prefix the command with <code>fvm</code></p>\\n<p>Example:</p>\\n<pre><code>flutter pub get\\n</code></pre>\\n<p>becomes</p>\\n<pre><code>fvm flutter pub get\\n</code></pre>\\n'"
      ]
     },
     "metadata": {},
     "output_type": "display_data"
    },
    {
     "data": {
      "text/plain": [
       "'A:'"
      ]
     },
     "metadata": {},
     "output_type": "display_data"
    },
    {
     "data": {
      "text/plain": [
       "\"<p>Sure! To use this Textbox component as a reference with react-popper, you'll need to use <code>React.forwardRef</code> to create a new component that passes the <code>ref</code> to the underlying <code>input</code> element. Here's an example of how you can do it:</p>\\n<pre><code>import React, { useEffect, useRef, forwardRef } from 'react';\\n\\nconst Textbox = forwardRef(({\\n  autofocus,\\n  ...props\\n}, ref) =&gt; {\\n  // handle auto-focus\\n  const node = useRef(null);\\n  useEffect(() =&gt; {\\n    if (autofocus) {\\n      // focus &amp; select the whole text\\n      node.current.focus();\\n      node.current.setSelectionRange(0, 9999);\\n    }\\n  }, [autofocus]);\\n\\n  return (\\n    &lt;input\\n      type=&quot;text&quot;\\n      ref={ref || node}\\n      {...props}\\n    /&gt;\\n  );\\n});\\n\\nexport default Textbox;\\n</code></pre>\\n<p>Here, we're using <code>forwardRef</code> to create a new component that accepts a <code>ref</code> as a prop, and passes it along to the underlying <code>input</code> element. We're also using <code>useRef</code> to create a local ref that we can use to access the <code>input</code> element if no <code>ref</code> prop is provided.</p>\\n<p>Note that we've added a default value of <code>null</code> to the <code>useRef</code> call, and we're passing <code>[autofocus]</code> to the <code>useEffect</code> hook to avoid a missing dependency warning.</p>\\n<p>With this setup, you should be able to use the <code>Textbox</code> component as a reference with react-popper like so:</p>\\n<pre><code>import { usePopper } from 'react-popper';\\nimport Textbox from './Textbox';\\n\\nfunction MyComponent() {\\n  const [referenceElement, setReferenceElement] = useState(null);\\n  const [popperElement, setPopperElement] = useState(null);\\n  const { styles, attributes } = usePopper(referenceElement, popperElement);\\n\\n  return (\\n    &lt;&gt;\\n      &lt;Textbox ref={setReferenceElement} /&gt;\\n      &lt;div ref={setPopperElement} style={styles.popper} {...attributes.popper}&gt;\\n        ...\\n      &lt;/div&gt;\\n    &lt;/&gt;\\n  );\\n}\\n</code></pre>\\n<p>Here, we're passing the <code>setReferenceElement</code> function to the <code>ref</code> prop of the <code>Textbox</code> component, which allows us to access the <code>input</code> element later on with <code>referenceElement</code>. We're also passing the <code>setPopperElement</code> function to a <code>div</code> element that we want to position relative to the <code>input</code> element using react-popper. We're using the <code>usePopper</code> hook to calculate the positioning of the <code>div</code>, and we're applying the resulting <code>styles</code> and <code>attributes</code> to the <code>div</code> using spread syntax.</p>\\n\""
      ]
     },
     "metadata": {},
     "output_type": "display_data"
    },
    {
     "data": {
      "text/plain": [
       "'A:'"
      ]
     },
     "metadata": {},
     "output_type": "display_data"
    },
    {
     "data": {
      "text/plain": [
       "'<p>Quarto has been added to shinyapps.io. If you redeploy your application it will be added to your path.</p>\\n'"
      ]
     },
     "metadata": {},
     "output_type": "display_data"
    },
    {
     "data": {
      "text/plain": [
       "'A:'"
      ]
     },
     "metadata": {},
     "output_type": "display_data"
    },
    {
     "data": {
      "text/plain": [
       "'<p>Adjust your code.</p>\\n<pre class=\"lang-cpp prettyprint-override\"><code>// ...\\nMainWindow::MainWindow(QWidget *parent)\\n    : QMainWindow(parent)\\n{\\n    initialize_tabs();\\n    initialize_window();\\n    initialize_menus();\\n}\\n// ...\\n</code></pre>\\n<p>One of the cause of the segmentation error is because of using of undeclared/unallocated variables. From your example, you have first initialize the window <em>before</em> your tab is getting initialized. This results: the program first fires the windows up, but then it discovers that the tab widget has a <code>nullptr</code> with its <code>QTabWidget::currentWidget()</code> because of it\\'s not initialized, allocated, and any widget-inserted. Then, because the <code>nullptr</code> attribute cannot actually <em>do</em> anything, so the <code>zsh</code> throws the segmentational error.</p>\\n'"
      ]
     },
     "metadata": {},
     "output_type": "display_data"
    },
    {
     "data": {
      "text/plain": [
       "'A:'"
      ]
     },
     "metadata": {},
     "output_type": "display_data"
    },
    {
     "data": {
      "text/plain": [
       "'<p>First get the number of rows of your dataframe:</p>\\n<pre><code>row_n = df.select(pl.count()).collect().items()\\n</code></pre>\\n<p>Then create a random list of that size using random:</p>\\n<pre><code>to_add = random.sample(range(0, 10), row_n)\\n</code></pre>\\n<p>And finally add it to your dataframe:</p>\\n<pre><code>df.with_column(pl.Series(name=&quot;new_col&quot;, values=to_add))\\n</code></pre>\\n'"
      ]
     },
     "metadata": {},
     "output_type": "display_data"
    },
    {
     "data": {
      "text/plain": [
       "'A:'"
      ]
     },
     "metadata": {},
     "output_type": "display_data"
    },
    {
     "data": {
      "text/plain": [
       "'<pre class=\"lang-py prettyprint-override\"><code>lst = [\\'random:35:eee\\', \\'gop:1245:random\\', \\'random3:100000:efa\\']\\nlst.sort(key=lambda x: int(x.split(&quot;:&quot;)[1]))\\n</code></pre>\\n<p>I recommend using lambda function</p>\\n'"
      ]
     },
     "metadata": {},
     "output_type": "display_data"
    },
    {
     "data": {
      "text/plain": [
       "'A:'"
      ]
     },
     "metadata": {},
     "output_type": "display_data"
    },
    {
     "data": {
      "text/plain": [
       "'<p>I used <a href=\"https://inertiajs.com/shared-data\" rel=\"nofollow noreferrer\">https://inertiajs.com/shared-data</a>.</p>\\n<pre><code>\\n    /**\\n     * Defines the props that are shared by default.\\n     *\\n     * @see https://inertiajs.com/shared-data\\n     * @param  \\\\Illuminate\\\\Http\\\\Request  $request\\n     * @return array\\n     */\\n    public function share(Request $request): array\\n    {\\n        return array_merge(parent::share($request), [\\n            \\'isAdmin\\' =&gt; auth()-&gt;user()-&gt;hasRole(\\'admin\\')\\n        ]);\\n    }\\n</code></pre>\\n<pre><code>&lt;!-- Navigation Links --&gt;\\n&lt;div v-if=&quot;$page.props.isAdmin&quot; class=&quot;hidden space-x-8 sm:-my-px sm:ml-10 sm:flex max-w-xl md:max-w-7xl flex-wrap justify-around&quot;&gt;\\n&lt;NavLink :href=&quot;route(\\'dashboard\\')&quot; :active=&quot;route().current(\\'dashboard\\')&quot;&gt;\\n                                    Dashboard\\n&lt;/NavLink&gt;\\n&lt;/div&gt;\\n</code></pre>\\n'"
      ]
     },
     "metadata": {},
     "output_type": "display_data"
    },
    {
     "data": {
      "text/plain": [
       "'A:'"
      ]
     },
     "metadata": {},
     "output_type": "display_data"
    },
    {
     "data": {
      "text/plain": [
       "'<p>Finaly got it:</p>\\n<pre><code>&quot;bool&quot; : {\\n    \\n    &quot;must_not&quot; : [\\n      {\\n        &quot;range&quot; : {\\n          &quot;plazos.fechainicio&quot; : {\\n            &quot;from&quot; : &quot;19/04/2023&quot;,\\n            &quot;to&quot; : null,\\n            &quot;include_lower&quot; : true,\\n            &quot;include_upper&quot; : true,\\n            &quot;boost&quot; : 1.0\\n            \\n          }\\n        }\\n      },\\n      {\\n        &quot;range&quot; : {\\n          &quot;plazos.fechafin&quot; : {\\n            &quot;from&quot; : null,\\n            &quot;to&quot; : &quot;19/04/2023&quot;,\\n            &quot;include_lower&quot; : true,\\n            &quot;include_upper&quot; : true,\\n            &quot;boost&quot; : 1.0\\n            \\n          }\\n        }\\n      }\\n    ],\\n    &quot;should&quot;: [\\n      {\\n        &quot;range&quot;: {\\n          &quot;plazos.fechainicio&quot; : {\\n            &quot;from&quot; : null,\\n            &quot;to&quot; : &quot;19/04/2023&quot;,\\n            &quot;include_lower&quot; : false,\\n            &quot;include_upper&quot; : false,\\n            &quot;boost&quot; : 1.0\\n            \\n          }\\n        }\\n        \\n      },\\n      {\\n      &quot;range&quot;: {\\n          &quot;plazos.fechafin&quot; : {\\n            &quot;from&quot; : &quot;19/04/2023&quot;,\\n            &quot;to&quot; : null,\\n            &quot;include_lower&quot; : false,\\n            &quot;include_upper&quot; : false,\\n            &quot;boost&quot; : 1.0\\n            \\n          }\\n        }\\n      }\\n    ], \\n    &quot;adjust_pure_negative&quot; : true,\\n    &quot;boost&quot; : 1.0,\\n    &quot;minimum_should_match&quot;: 2\\n    \\n    \\n  }\\n</code></pre>\\n<p>Hope this could help!</p>\\n'"
      ]
     },
     "metadata": {},
     "output_type": "display_data"
    },
    {
     "data": {
      "text/plain": [
       "'A:'"
      ]
     },
     "metadata": {},
     "output_type": "display_data"
    },
    {
     "data": {
      "text/plain": [
       "'<p>The vertices and edges in Apache Age are stored in tables. Each vertex type has a corresponding table, and each edge type has a corresponding edge table. The columns in these tables correspond to the properties of the vertices and edges. The properties can be of different data types such as integer, float, text, boolean, and date.</p>\\n<p>You can retrieve vertices and edges by the following commands:</p>\\n<p>To retrieve all the vertices\\nSELECT * FROM vertex-type;</p>\\n<p>To retrieve all the edges of a particular edge type:\\nSELECT * FROM edge-type;</p>\\n<p>To retrieve all the vertices of a particular type:\\nSELECT * FROM vertex-type WHERE property = property-value;</p>\\n'"
      ]
     },
     "metadata": {},
     "output_type": "display_data"
    },
    {
     "data": {
      "text/plain": [
       "'A:'"
      ]
     },
     "metadata": {},
     "output_type": "display_data"
    },
    {
     "data": {
      "text/plain": [
       "'<p>In Spyder, go to Tools&gt;Preferences&gt;IPython console&gt;Graphics backend</p>\\n<p>Choose &quot;Inline&quot;</p>\\n<p>Rather than popping out the plots will appear in the plots pane. But you will see each of them, not just the last.</p>\\n<p>Or you might consider using a Jupyter notebook which would have the same effect.</p>\\n'"
      ]
     },
     "metadata": {},
     "output_type": "display_data"
    },
    {
     "data": {
      "text/plain": [
       "'A:'"
      ]
     },
     "metadata": {},
     "output_type": "display_data"
    },
    {
     "data": {
      "text/plain": [
       "'<p><strong>Create a new group with empty <code>header</code> and unique <code>accessor</code>.</strong></p>\\n<pre class=\"lang-js prettyprint-override\"><code>export const Columns = [\\n    {\\n        Header: &quot;Id&quot;,\\n        columns: [\\n            {\\n                Header: \\'Id1\\',\\n                accessor: \\'id\\'\\n            },\\n            {\\n                Header: \\'Id2\\',\\n            },\\n        ]\\n    },\\n    {\\n        Header: &quot;&quot;, // empty header (if have got unique accessor)\\n        accessor: \\'global-header\\', // important unique id for enable empty header\\n        columns: [\\n          {\\n              Header: &quot;First Name&quot;,\\n              accessor: \\'first_name\\',\\n              colSpan: 2\\n          },\\n          {\\n              Header: &quot;Last Name&quot;,\\n              accessor: \\'last_name\\'\\n          },\\n          {\\n              Header: &quot;Email&quot;,\\n              accessor: \\'email\\'\\n          },\\n          {\\n              Header: &quot;Gender&quot;,\\n              accessor: \\'gender\\'\\n          }\\n       ]\\n    }\\n]\\n</code></pre>\\n'"
      ]
     },
     "metadata": {},
     "output_type": "display_data"
    },
    {
     "data": {
      "text/plain": [
       "'A:'"
      ]
     },
     "metadata": {},
     "output_type": "display_data"
    },
    {
     "data": {
      "text/plain": [
       "'<p><strong>you will need to do the following:</strong></p>\\n<ul>\\n<li><p>Rename the repository to the desired name. For example, if your repository is currently named &quot;my-repo&quot;, you should rename it to &quot;docs&quot;.</p>\\n</li>\\n<li><p>Move all of the content in your repository into a subdirectory named &quot;docs&quot;. You can do this by creating a new folder named &quot;docs&quot; in your repository and moving all of your content into it.</p>\\n</li>\\n<li><p>Commit and push these changes to GitHub.</p>\\n</li>\\n<li><p>In your repository settings, go to the &quot;Options&quot; tab and scroll down to the &quot;GitHub Pages&quot; section.</p>\\n</li>\\n<li><p>Under &quot;Source&quot;, select &quot;master branch /docs folder&quot;.</p>\\n</li>\\n<li><p>Click &quot;Save&quot;.</p>\\n</li>\\n<li><p>Wait a few minutes for the changes to take effect. Your site should now be available at .github.io//.</p>\\n<p>Note that it may take a few minutes for the changes to propagate, so\\nyour site may not be immediately available at the new URL.</p>\\n</li>\\n</ul>\\n'"
      ]
     },
     "metadata": {},
     "output_type": "display_data"
    },
    {
     "data": {
      "text/plain": [
       "'A:'"
      ]
     },
     "metadata": {},
     "output_type": "display_data"
    },
    {
     "data": {
      "text/plain": [
       "'<p>jOOQ doesn\\'t have any equivalent for the PostgreSQL specific <code>::regclass</code> cast, but perhaps, you don\\'t need that? I would have:</p>\\n<ul>\\n<li>Generated code for at least <code>SEQ</code> (though that\\'s optional)</li>\\n<li>Then used <a href=\"https://www.jooq.org/javadoc/dev/org.jooq/org/jooq/Sequence.html#nextval()\" rel=\"nofollow noreferrer\"><code>Sequence.nextval()</code></a></li>\\n</ul>\\n<p>Like this:</p>\\n<pre class=\"lang-java prettyprint-override\"><code>create.createTable(&quot;SETTINGS&quot;)\\n      .column(&quot;id&quot;, INTEGER.notNull().defaultValue(SEQ.nextval()))\\n      .execute();\\n</code></pre>\\n<p>If, for some reason, you cannot use the code generator in this case, you can construct a sequence by name using <a href=\"https://www.jooq.org/javadoc/latest/org.jooq/org/jooq/impl/DSL.html#sequence(org.jooq.Name)\" rel=\"nofollow noreferrer\"><code>DSL.sequence(Name)</code></a></p>\\n<pre class=\"lang-java prettyprint-override\"><code>create.createTable(&quot;SETTINGS&quot;)\\n      .column(&quot;id&quot;, INTEGER.notNull().defaultValue(\\n           sequence(name(&quot;seq&quot;), INTEGER).nextval()))\\n      .execute();\\n</code></pre>\\n<p>I\\'m not sure if that\\'s strictly better than just using a <a href=\"https://www.jooq.org/doc/latest/manual/sql-building/plain-sql-templating/\" rel=\"nofollow noreferrer\">plain SQL template</a> like you did, but I guess you wanted to avoid templates and use only jOOQ API?</p>\\n'"
      ]
     },
     "metadata": {},
     "output_type": "display_data"
    },
    {
     "data": {
      "text/plain": [
       "'A:'"
      ]
     },
     "metadata": {},
     "output_type": "display_data"
    },
    {
     "data": {
      "text/plain": [
       "\"<p>I know this is an old question, but it didn't seem to have a satisfactory answer yet - here is an example code inspired from the poster's edit which does the job:</p>\\n<pre><code>data_to_plot = randn(10,2); % 2 columns of random numbers, each column will be shown in a boxplot\\nthese_colours = [[0.9290 0.6940 0.1250];[0.4940 0.1840 0.5560]]; % yellow and purple\\n    \\n% This will plot the boxplot outlines in the desired colours\\nthese_boxes = boxplot(data_to_plot,  'Colors',  these_colours);\\n\\n%% This is where we fill the inside of boxes:\\n% This gets the box object references\\nbox_objects = findobj(gca, 'Tag', 'Box');\\n% and for each of them creates a 'patch' object of the same colour as the\\n% box object\\nfor j=1:length(box_objects)\\n    % note: the FaceAlpha parameter sets the transparency of the patch\\n    patch(get(box_objects(j),'XData'),get(box_objects(j),'YData'),'y', ...\\n    'FaceAlpha',.5,'FaceColor', get(box_objects(j), 'Color'), ...\\n    'EdgeColor', get(box_objects(j), 'Color'));\\nend\\n%%\\n    \\n% Bonus: if you want to change other attributes of the box, for example the\\n% line width:\\nset(these_boxes(1:6,:), 'LineWidth', 2);\\n</code></pre>\\n<p>Hope this helps! - Leonos</p>\\n\""
      ]
     },
     "metadata": {},
     "output_type": "display_data"
    },
    {
     "data": {
      "text/plain": [
       "'A:'"
      ]
     },
     "metadata": {},
     "output_type": "display_data"
    },
    {
     "data": {
      "text/plain": [
       "\"<p>The issue with the current implementation is that the scaling and moving code is being executed within the Update() function, which is called once per frame. This means that for each frame that the object is selected, the scaling and moving code will be executed again, causing unexpected behavior.</p>\\n<p>To fix this issue, you can use a coroutine to handle the scaling and moving animation over a period of time, and then reset the object to its default values once the animation is complete.</p>\\n<p>Here's an updated version of the ScaleOnHit script with the coroutine implementation:</p>\\n<pre><code>using System.Collections;\\nusing System.Collections.Generic;\\nusing UnityEngine;\\n\\npublic class ScaleOnHit : MonoBehaviour\\n{\\n    public Camera arCamera; // Reference to the AR camera in the scene\\n[SerializeField] private string selectableTag = &quot;Selectable&quot;;\\n\\npublic Vector3 targetScale = new Vector3(0.02f, 0.02f, 0.02f);\\npublic Vector3 defaultScale = new Vector3(0.008f, 0.008f, 0.008f);\\npublic float duration = 2.0f;\\npublic float moveY = 0.01f;\\npublic AnimationCurve curve;\\nprivate Transform _selection;\\nprivate bool isScaling = false;\\n\\nvoid Update()\\n{\\n    RaycastHit hit;\\n    Ray ray = new Ray(arCamera.transform.position, arCamera.transform.forward); // Create a ray from the AR camera position in the direction it's facing\\n\\n    if (Physics.Raycast(ray, out hit)) // Check if the ray hits an object\\n    {\\n        GameObject store = hit.collider.gameObject;\\n\\n        var selection = hit.transform;\\n\\n        if (selection.CompareTag(selectableTag))\\n        {\\n            if (hit.transform.position.y &lt; -1.0f || hit.transform.position.y &gt; -0.5f)\\n            {\\n                selection.position = new Vector3(\\n                   hit.transform.position.x,\\n                   hit.transform.position.y + moveY,\\n                   hit.transform.position.z);\\n            }\\n\\n            if (_selection != selection &amp;&amp; !isScaling)\\n            {\\n                StartCoroutine(ScaleAndMoveObject(selection));\\n            }\\n\\n            _selection = selection;\\n        }\\n    }\\n    else if (_selection != null &amp;&amp; !isScaling)\\n    {\\n        StartCoroutine(ResetObject());\\n    }\\n}\\n\\nprivate IEnumerator ScaleAndMoveObject(Transform selection)\\n{\\n    isScaling = true;\\n\\n    float timeElapsed = 0f;\\n    Vector3 startingScale = selection.localScale;\\n    Vector3 targetPosition = new Vector3(selection.position.x, selection.position.y + moveY, selection.position.z);\\n\\n    while (timeElapsed &lt; duration)\\n    {\\n        float t = timeElapsed / duration;\\n        var easing = curve.Evaluate(t);\\n        selection.localScale = Vector3.Lerp(startingScale, targetScale, easing);\\n        selection.position = Vector3.Lerp(selection.position, targetPosition, easing);\\n        timeElapsed += Time.deltaTime;\\n        yield return null;\\n    }\\n\\n    isScaling = false;\\n}\\n\\nprivate IEnumerator ResetObject()\\n{\\n    isScaling = true;\\n\\n    float timeElapsed = 0f;\\n    Vector3 startingScale = _selection.localScale;\\n    Vector3 startingPosition = _selection.position;\\n\\n    while (timeElapsed &lt; duration)\\n    {\\n        float t = timeElapsed / duration;\\n        var easing = curve.Evaluate(t);\\n        _selection.localScale = Vector3.Lerp(startingScale, defaultScale, easing);\\n        _selection.position = Vector3.Lerp(startingPosition, new Vector3(startingPosition.x, startingPosition.y - moveY, startingPosition.z), easing);\\n        timeElapsed += Time.deltaTime;\\n        yield return null;\\n    }\\n\\n    _selection = null;\\n    isScaling = false;\\n}\\n</code></pre>\\n<p>}</p>\\n\""
      ]
     },
     "metadata": {},
     "output_type": "display_data"
    },
    {
     "data": {
      "text/plain": [
       "'A:'"
      ]
     },
     "metadata": {},
     "output_type": "display_data"
    },
    {
     "data": {
      "text/plain": [
       "\"<p>I didn't manage to get the Python executable to work. Therefore I switched the approach to using C# instead of Python, using the 'Npgsql' library.</p>\\n\""
      ]
     },
     "metadata": {},
     "output_type": "display_data"
    },
    {
     "data": {
      "text/plain": [
       "'A:'"
      ]
     },
     "metadata": {},
     "output_type": "display_data"
    },
    {
     "data": {
      "text/plain": [
       "\"<p>Is this within scope?</p>\\n<pre><code>a = &quot;/path/to/workdir/&quot;\\nwith open(f&quot;{a}myfile.txt&quot;, 'w+') as f:\\n    f.write(page.text)\\n</code></pre>\\n<p>The <code>w+</code> simply creates the file if it doesn't already exist.  Just remove the <code>+</code> if you're sure the file will always exist.</p>\\n\""
      ]
     },
     "metadata": {},
     "output_type": "display_data"
    },
    {
     "data": {
      "text/plain": [
       "'A:'"
      ]
     },
     "metadata": {},
     "output_type": "display_data"
    },
    {
     "data": {
      "text/plain": [
       "\"<p>If you check the help for <code>predict.tree</code> you will see there is no argument <code>subset</code>. Unfortunately, R gives no warning in this case because <code>predict.tree</code> can take arguments from or to other methods. Basically you could pass anything to it.</p>\\n<p>You can subset the data beforehand, like you did. Why would you want to subset via predict?</p>\\n<p>Here is the help file:</p>\\n<pre><code>predict.tree                 package:tree                 R Documentation\\n\\nPredictions from a Fitted Tree Object\\n\\nDescription:\\n\\n     Returns a vector of predicted responses from a fitted tree object.\\n\\nUsage:\\n\\n     ## S3 method for class 'tree'\\n     predict(object, newdata = list(),\\n             type = c(&quot;vector&quot;, &quot;tree&quot;, &quot;class&quot;, &quot;where&quot;), \\n             split = FALSE, nwts, eps = 1e-3, ...)\\n    \\nArguments: \\n\\n  object: fitted model object of class ‘tree’.  This is assumed to be the\\n          result of some function that produces an object with the same\\n          named components as that returned by the ‘tree’ function.\\n\\n newdata: data frame containing the values at which predictions are\\n          required.  The predictors referred to in the right side of\\n          ‘formula(object)’ must be present by name in ‘newdata’.  If\\n          missing, fitted values are returned.\\n\\n    type: character string denoting whether the predictions are returned\\n          as a vector (default) or as a tree object.\\n\\n   split: governs the handling of missing values. If false, cases with\\n          missing values are dropped down the tree until a leaf is reached\\n          or a node for which the attribute is missing, and that node is\\n          used for prediction. If ‘split = TRUE’ cases with missing\\n          attributes are split into fractional cases and dropped down each\\n          side of the split.  The predicted values are averaged over the\\n          fractions to give the prediction.\\n\\n    nwts: weights for the ‘newdata’ cases, used when predicting a tree.\\n\\n     eps: a lower bound for the probabilities, used if events of predicted\\n          probability zero occur in ‘newdata’ when predicting a tree.\\n\\n     ...: further arguments passed to or from other methods.\\n</code></pre>\\n\""
      ]
     },
     "metadata": {},
     "output_type": "display_data"
    },
    {
     "data": {
      "text/plain": [
       "'A:'"
      ]
     },
     "metadata": {},
     "output_type": "display_data"
    },
    {
     "data": {
      "text/plain": [
       "\"<p>If you want code to run when the file is imported but <em>not</em> when it is run directly, <code>if __name__ != &quot;__main__&quot;</code> is perfectly fine. You're doing the opposite of the usual <code>if __name__ == &quot;__main__&quot;: main()</code> thing after all.</p>\\n\""
      ]
     },
     "metadata": {},
     "output_type": "display_data"
    },
    {
     "data": {
      "text/plain": [
       "'A:'"
      ]
     },
     "metadata": {},
     "output_type": "display_data"
    },
    {
     "data": {
      "text/plain": [
       "'<p>Says we have model</p>\\n<pre class=\"lang-rb prettyprint-override\"><code>class MyFirstModel &lt; ApplicationRecord\\n  has_one_attached :my_attachment\\nend\\n</code></pre>\\n<p>And we decide to attach some file to first Post</p>\\n<pre class=\"lang-rb prettyprint-override\"><code>MyFirstModel.first.my_attachment.attach(io: File.open(&quot;/path/to/my_first.file&quot;), filename: &quot;my_first.file&quot;)\\n</code></pre>\\n<p>Now let\\'s check it</p>\\n<pre class=\"lang-rb prettyprint-override\"><code>blob = ActiveStorage::Blob.last\\n\\nblob.key\\n# =&gt; &quot;7zs2snslr8ehnhlcz0c7dzz96k98&quot;\\n\\nblob.filename.to_s\\n# =&gt; &quot;my_first.file&quot;\\n</code></pre>\\n<p>And we can find this file</p>\\n<pre class=\"lang-rb prettyprint-override\"><code>active_storage_config = Rails.configuration.active_storage\\nstorage_root_dir = active_storage_config.service_configurations[active_storage_config.service.to_s][&quot;root&quot;]\\n\\nDir[File.join(storage_root_dir, &quot;**&quot;, &quot;*&quot;, blob.key)]\\n# =&gt; [&quot;/path_to_app/storage/7z/s2/7zs2snslr8ehnhlcz0c7dzz96k98&quot;]\\n</code></pre>\\n<p>You can define some method</p>\\n<pre class=\"lang-rb prettyprint-override\"><code>def find_filepath_by_blob(blob)\\n  active_storage_config = Rails.configuration.active_storage\\n  storage_root_dir = active_storage_config.service_configurations[active_storage_config.service.to_s][&quot;root&quot;]\\n\\n  Dir[File.join(storage_root_dir, &quot;**&quot;, &quot;*&quot;, blob.key)].first\\nend\\n</code></pre>\\n<p>This way we can find all files</p>\\n<pre class=\"lang-rb prettyprint-override\"><code>ActiveStorage::Attachment.includes(:blob).find_each do |attachment|\\n  blob = attachment.blob\\n\\n  puts &lt;&lt;~INFO\\n    Attachment ID: #{attachment.id}\\n    Attachment model: #{attachment.record_type}\\n    Attachment model ID: #{attachment.record_id}\\n    Filepath: #{find_filepath_by_blob(blob)}\\n    Filename: #{blob.filename}\\n\\n  INFO\\nend\\n\\n# will print\\n#\\n# Attachment ID: 1\\n# Attachment model: MyFirstModel\\n# Attachment model ID: 1\\n# Filepath: /path_to_app/storage/7z/s2/7zs2snslr8ehnhlcz0c7dzz96k98\\n# Filename: my_first.file\\n#\\n# Attachment ID: 3\\n# Attachment model: MyOtherModel\\n# Attachment model ID: 22\\n# Filepath: /path_to_app/storage/sv/yb/svybg3pr5kme2uxzkiupjqykxrr5\\n# Filename: some.file\\n</code></pre>\\n<p>Of course you can make what you want instead just printing this info. For example upload to some cloud</p>\\n'"
      ]
     },
     "metadata": {},
     "output_type": "display_data"
    },
    {
     "data": {
      "text/plain": [
       "'A:'"
      ]
     },
     "metadata": {},
     "output_type": "display_data"
    },
    {
     "data": {
      "text/plain": [
       "\"<p>I would recommend to use the pandas module which enables to handle csv data efficiently in Python. For instance, the following code solves your problem:</p>\\n<pre><code>import pandas as pd\\n\\n# Read the CSV file into a pandas dataframe\\ndf = pd.read_csv('data.csv')\\n\\n# Clean up the date column\\ndf['date'] = pd.to_datetime(df['date'], errors='coerce')\\n\\n# Remove rows with missing dates\\ndf.dropna(subset=['date'], inplace=True)\\n</code></pre>\\n<p>Please note that this does not anylonger check whether your date is in format &quot;YYYY-MM-DD&quot; but in any format which is suitable for dates. Since this is more flexible, it might be an advantage. Otherwise, you can simply modify the code to your needs.</p>\\n\""
      ]
     },
     "metadata": {},
     "output_type": "display_data"
    },
    {
     "data": {
      "text/plain": [
       "'A:'"
      ]
     },
     "metadata": {},
     "output_type": "display_data"
    },
    {
     "data": {
      "text/plain": [
       "\"<p>These bits are not implented!<br />\\nAn input change on <code>PORTB&lt;7:4&gt;</code> or <code>PORTC&lt;2:0&gt;</code> sets\\nflag bit, <code>IOCIF</code> of the <code>INTCON</code> register. The interrupt\\ncan be enabled/disabled by setting/clearing enable bit,\\n<code>IOCIE</code> of the <code>INTCON</code> register. Pins must also be\\nindividually enabled with the <code>IOCB</code>/<code>IOCC</code> register.<br />\\nSee section 10.11 in the datasheet.<br />\\nSo you can't work with <code>RBIF</code> flag use <code>IOCIF</code> instead. Same thing with <code>RBIE</code> flag which should be replaced by <code>IOCIE</code>.</p>\\n\""
      ]
     },
     "metadata": {},
     "output_type": "display_data"
    },
    {
     "data": {
      "text/plain": [
       "'A:'"
      ]
     },
     "metadata": {},
     "output_type": "display_data"
    },
    {
     "data": {
      "text/plain": [
       "'<p>I have just come across a similar issue, where suddenly a lot of reports stopped working on a server.  after a lot of head scratching i found a resolution was to  open the report in design view, and re-locate the database by creating a new connection...</p>\\n<p>after this the reports worked fine... hope this helps someone.</p>\\n'"
      ]
     },
     "metadata": {},
     "output_type": "display_data"
    },
    {
     "data": {
      "text/plain": [
       "'A:'"
      ]
     },
     "metadata": {},
     "output_type": "display_data"
    },
    {
     "data": {
      "text/plain": [
       "'<p><code>list.sort</code> method and <code>sorted</code> builtin both have <code>key</code> argument where you can pass the function that takes the single element and gets what you want to use for comparison.</p>\\n<p>So let\\'s write the key function:</p>\\n<pre class=\"lang-py prettyprint-override\"><code>def get_int_from_elem(elem):\\n    parts = elem.split(&quot;:&quot;)\\n    num = int(parts[1])\\n    return num\\n</code></pre>\\n<p>It can be also an inline lambda: <code>lambda e: int(e.split(&quot;:&quot;)[1])</code> but I wanted to show the full form for readability.</p>\\n<p>So let\\'s say your list is named <code>my_list</code></p>\\n<p>If you want to change the current list, use the method. Remember the methods that change stuff in-place return None, so you don\\'t save result of those:</p>\\n<pre class=\"lang-py prettyprint-override\"><code>my_list.sort(key=get_int_from_elem)\\nprint(my_list)\\n</code></pre>\\n<p>Or if you want a copy (my_list) doesn\\'t get changed, use <code>sorted</code> and save the result:</p>\\n<pre class=\"lang-py prettyprint-override\"><code>new_list = sorted(my_list, key=get_int_from_elem)\\nprint(new_list)\\n</code></pre>\\n'"
      ]
     },
     "metadata": {},
     "output_type": "display_data"
    },
    {
     "data": {
      "text/plain": [
       "'A:'"
      ]
     },
     "metadata": {},
     "output_type": "display_data"
    },
    {
     "data": {
      "text/plain": [
       "'<p>You cannot call hook outside a react component</p>\\n<p>You can wrap <code>useSnackbar</code> as new hook</p>\\n<pre class=\"lang-js prettyprint-override\"><code>import { useSnackbar } from \\'notistack\\'\\n\\nconst useToast = () =&gt; {\\n  const SnackBar = useSnackbar();\\n\\n  const Toast = useCallback((message, snackProps) =&gt; SnackBar.enqueueSnackbar(message, {\\n    autoHideDuration: 2000,\\n    ...snackProps\\n  })), [SnackBar])\\n\\n  const Success = useCallback((message) =&gt; Toast(message, {\\n    variant: \\'success\\'\\n  }), [Toast])\\n\\n  const Warning = useCallback((message) =&gt; Toast(message, {\\n    variant: \\'warning\\'\\n  }), [Toast])\\n\\n  const Info = useCallback((message) =&gt; Toast(message, {\\n    variant: \\'info\\'\\n  }), [Toast])\\n\\n  const Error = useCallback((message) =&gt; Toast(message, {\\n    variant: \\'error\\'\\n  }), [Toast])\\n\\n  return {\\n    Toast,\\n    Success,\\n    Warning,\\n    Info,\\n    Error,\\n  }\\n}\\n</code></pre>\\n<p>You can use it like this</p>\\n<pre class=\"lang-js prettyprint-override\"><code>const OtherComponent = () =&gt; {\\n  const { Success } = useToast()\\n\\n  // You can call it here Success(&quot;message&quot;)\\n}\\n</code></pre>\\n'"
      ]
     },
     "metadata": {},
     "output_type": "display_data"
    },
    {
     "data": {
      "text/plain": [
       "'A:'"
      ]
     },
     "metadata": {},
     "output_type": "display_data"
    },
    {
     "data": {
      "text/plain": [
       "'<p>Can the user who solved with Authohotkey share their solution?</p>\\n'"
      ]
     },
     "metadata": {},
     "output_type": "display_data"
    },
    {
     "data": {
      "text/plain": [
       "'A:'"
      ]
     },
     "metadata": {},
     "output_type": "display_data"
    },
    {
     "data": {
      "text/plain": [
       "'<p>I am using expo dev-client for my app, the mistake i made was to install expo-location package after the build for development. I rebuilt and it updated my packages in the development build.</p>\\n'"
      ]
     },
     "metadata": {},
     "output_type": "display_data"
    },
    {
     "data": {
      "text/plain": [
       "'A:'"
      ]
     },
     "metadata": {},
     "output_type": "display_data"
    },
    {
     "data": {
      "text/plain": [
       "\"<p>There's no compelling reason why <code>_prApplication</code> must be a <code>weak_ptr</code>. It can be, but that's not going to accomplish anything notable, on its own. It just gets in the way. Either way you get a pointer to the object that owns the <code>Application</code>, except that a <code>weak_ptr</code> requires more finger practice to use.</p>\\n<p>It is more important to either delete or have a user-defined move constructor for <code>Application</code>. An instance of <code>Application</code>, as shown, can be moved, making the<code>_prApplication</code> pointer invalid.</p>\\n\""
      ]
     },
     "metadata": {},
     "output_type": "display_data"
    },
    {
     "data": {
      "text/plain": [
       "'A:'"
      ]
     },
     "metadata": {},
     "output_type": "display_data"
    },
    {
     "data": {
      "text/plain": [
       "'<p><code>for file in glob(workdirpath)</code> here is not relevant - you use it when you want to do something for each file in directory.</p>\\n<p>Your problem is that you have wrong filename - <code>f&quot;{workdir}.txt&quot;</code> is file with same name as folder, not file inside folder. Try something like <code>f&quot;{workdirpath}/filename.txt</code>. Slash <code>/</code> means file is inside directory.</p>\\n<p>So simplest probably would be:</p>\\n<pre class=\"lang-py prettyprint-override\"><code>workdirpath = os.path.dirname(self.finfo.local_file_path)\\nwith open(f&quot;{workdirpath}/filename.txt&quot;, \\'w+\\') as f:\\n    f.write(page.text)\\n</code></pre>\\n<p>However to deal with differences between platforms and to check if directory exists it\\'s good to use <code>pathlib</code>, which is installed together with python by default. With pathlib:</p>\\n<pre class=\"lang-py prettyprint-override\"><code>from pathlib import Path\\n\\n# Get directory.\\nworkdirpath = Path(self.finfo.local_file_path)\\n\\n# Only proceed if it\\'s directory and it exists.\\nif workdirpath.is_dir():\\n   filepath = workdirpath / &quot;filename.txt&quot; # / operator combines Paths.\\n\\n   # Open (create) file for writing.\\n   with filepath.open(&quot;w+&quot;, encoding =&quot;utf-8&quot;) as f:\\n      f.write(page.text)\\n</code></pre>\\n'"
      ]
     },
     "metadata": {},
     "output_type": "display_data"
    },
    {
     "data": {
      "text/plain": [
       "'A:'"
      ]
     },
     "metadata": {},
     "output_type": "display_data"
    },
    {
     "data": {
      "text/plain": [
       "'<p>you can use <a href=\"https://github.com/souzomain/Packer\" rel=\"nofollow noreferrer\">https://github.com/souzomain/Packer</a>\\nThis library serializes data and returns a buffer, you can study using the code.</p>\\n<p>example:</p>\\n<pre class=\"lang-c prettyprint-override\"><code>PPACKER protocol = packer_init();\\npacker_add_data(protocol, yourstructure, sizeof(yourstructure));\\nsend(fd, protocol-&gt;buffer, protocol-&gt;offset, 0); //use the buffer and the size\\npacker_free(protocol);\\n</code></pre>\\n<p>you can get the returns using</p>\\n<pre class=\"lang-c prettyprint-override\"><code>recv(fd, buffer, size, 0);\\nsize_t offset = 0;\\nyourstructure data = (yourstructure *)packer_get_data(buffer, sizeof(yourstructure), &amp;offset);\\n</code></pre>\\n'"
      ]
     },
     "metadata": {},
     "output_type": "display_data"
    },
    {
     "data": {
      "text/plain": [
       "'A:'"
      ]
     },
     "metadata": {},
     "output_type": "display_data"
    },
    {
     "data": {
      "text/plain": [
       "\"<p>You can do that with a very simple dart program. It would read the file, jsonDecode it, recursively find the correct key, and add the desired amount to each date value. OR you could solve it in dart using a regex, which is even simpler:</p>\\n<pre><code>String data = File('your_json_file').readAsStringSync();\\nRegExp pattern = RegExp(r'&quot;date&quot;:\\\\s*(\\\\d+)');\\nString newData = data.replaceAllMapped(pattern, (m) {\\n  int value = int.parse(m.group(1)!);\\n  int newValue = value + 864000000;\\n  return '&quot;date&quot;: $newValue';\\n});\\n\\nFile('edited_json_file').writeAsStringSync(newData);\\n</code></pre>\\n<p>You could do the same with a simple <code>sed</code> command:</p>\\n<pre><code>sed -E 's/&quot;date&quot;: ([0-9]+)/&quot;date&quot;: \\\\1+864000000/g' your_json_file &gt; edited_json_file\\n</code></pre>\\n\""
      ]
     },
     "metadata": {},
     "output_type": "display_data"
    },
    {
     "data": {
      "text/plain": [
       "'A:'"
      ]
     },
     "metadata": {},
     "output_type": "display_data"
    },
    {
     "data": {
      "text/plain": [
       "'<p>You would generally prefer to use graph databases when the data is highly inter-connected. The reason for this is that you can draw a relationship between any two entities (specifically called nodes/vertices in terms of graph databases) and thus query those relationships easily.\\nAnother point to consider is that graph databases are schema-less and thus you can avoid the overhead caused by join queries in relational databases. Moreover, changing any property does not require you to alter the entire schema (as in case of RDBMS).</p>\\n<p>I hope it helps!</p>\\n<p><strong>References</strong></p>\\n<ul>\\n<li><a href=\"https://dev.to/zainabsaad/why-use-graph-database-26b\" rel=\"nofollow noreferrer\">Why use graph databases</a></li>\\n<li><a href=\"https://dev.to/zainabsaad/why-use-apache-age-4ep0\" rel=\"nofollow noreferrer\">Why use Apache AGE</a></li>\\n</ul>\\n'"
      ]
     },
     "metadata": {},
     "output_type": "display_data"
    },
    {
     "data": {
      "text/plain": [
       "'A:'"
      ]
     },
     "metadata": {},
     "output_type": "display_data"
    },
    {
     "data": {
      "text/plain": [
       "'<p>To go through all the pages and collect the data you need you can use <a href=\"https://python.plainenglish.io/pagination-techniques-to-scrape-data-from-any-website-in-python-779cd32bd514#5a76\" rel=\"nofollow noreferrer\">non-token based pagination</a> with using <code>while</code> loop. It will go through all of them, no matter how many pages there are. Meaning that it\\'s not a hardcoded (<code>for i in range(&lt;value&gt;)</code>) way of paginating.</p>\\n<p>Also, keep in mind that request and <code>soup</code> must be inside the <code>while</code> loop to update HTML response results by a new page.</p>\\n<p>Pagination is possible as long as the next button exists (determined by the presence of a button selector on the page, in our case the CSS selector <code>.d6cvqb a[id=pnnext]</code>, you need to increase the value of <code>[&quot;start&quot;]</code> by <code>10</code> to access the next page, if present, otherwise, we need to exit the while loop:</p>\\n<pre class=\"lang-py prettyprint-override\"><code>if soup.select_one(\\'.d6cvqb a[id=pnnext]\\'):\\n    params[&quot;start&quot;] += 10\\nelse:\\n    break\\n</code></pre>\\n<p>Check full code in the <a href=\"https://replit.com/@denisskopa/scrape-google-search-page-limit-bs4#main.py\" rel=\"nofollow noreferrer\">online IDE</a>.</p>\\n<pre class=\"lang-py prettyprint-override\"><code>from bs4 import BeautifulSoup\\nimport requests, json, lxml\\n\\n# https://docs.python-requests.org/en/master/user/quickstart/#passing-parameters-in-urls\\nparams = {\\n    &quot;q&quot;: &quot;cars&quot;,         # query example\\n    &quot;hl&quot;: &quot;en&quot;,          # language\\n    &quot;gl&quot;: &quot;uk&quot;,          # country of the search, UK -&gt; United Kingdom\\n    &quot;start&quot;: 0,          # number page by default up to 0\\n    #&quot;num&quot;: 100          # parameter defines the maximum number of results to return.\\n}\\n\\n# https://docs.python-requests.org/en/master/user/quickstart/#custom-headers\\nheaders = {\\n    &quot;User-Agent&quot;: &quot;Mozilla/5.0 (Windows NT 6.1; Win64; x64) AppleWebKit/537.36 (KHTML, like Gecko) Chrome/108.0.0.0 Safari/537.36&quot;\\n}\\n\\npage_limit = 10                # page limit for example\\n\\npage_num = 0\\n\\ndata = []\\n\\n# pagination\\nwhile True:\\n    page_num += 1\\n    print(f&quot;page: {page_num}&quot;)\\n        \\n    html = requests.get(&quot;https://www.google.com/search&quot;, params=params, headers=headers, timeout=30)\\n    soup = BeautifulSoup(html.text, \\'lxml\\')\\n    \\n    for result in soup.select(&quot;.tF2Cxc&quot;):\\n        title = result.select_one(&quot;.DKV0Md&quot;).text\\n        try:\\n           snippet = result.select_one(&quot;.lEBKkf span&quot;).text\\n        except:\\n           snippet = None\\n        links = result.select_one(&quot;.yuRUbf a&quot;)[&quot;href&quot;]\\n      \\n        data.append({\\n          &quot;title&quot;: title,\\n          &quot;snippet&quot;: snippet,\\n          &quot;links&quot;: links\\n        })\\n\\n    # condition for exiting the loop when the page limit is reached\\n    if page_num == page_limit:\\n        break\\n\\n    # condition for exiting the loop in the absence of the next page button\\n    if soup.select_one(&quot;.d6cvqb a[id=pnnext]&quot;):\\n        params[&quot;start&quot;] += 10\\n    else:\\n        break\\nprint(json.dumps(data, indent=2, ensure_ascii=False))\\n</code></pre>\\n<p>Example output:</p>\\n<pre class=\"lang-json prettyprint-override\"><code>[\\n  {\\n    &quot;title&quot;: &quot;Cars (2006) - IMDb&quot;,\\n    &quot;snippet&quot;: &quot;On the way to the biggest race of his life, a hotshot rookie race car gets stranded in a rundown town, and learns that winning isn\\'t everything in life.&quot;,\\n    &quot;links&quot;: &quot;https://www.imdb.com/title/tt0317219/&quot;\\n  },\\n  {\\n    &quot;title&quot;: &quot;Cars (film) - Wikipedia&quot;,\\n    &quot;snippet&quot;: &quot;Cars is a 2006 American computer-animated sports comedy film produced by Pixar Animation Studios and released by Walt Disney Pictures. The film was directed ...&quot;,\\n    &quot;links&quot;: &quot;https://en.wikipedia.org/wiki/Cars_(film)&quot;\\n  },\\n  {\\n    &quot;title&quot;: &quot;Cars - Rotten Tomatoes&quot;,\\n    &quot;snippet&quot;: &quot;Cars offers visual treats that more than compensate for its somewhat thinly written story, adding up to a satisfying diversion for younger viewers.&quot;,\\n    &quot;links&quot;: &quot;https://www.rottentomatoes.com/m/cars&quot;\\n  },\\n  other results ...\\n]\\n</code></pre>\\n<hr />\\n<p>Also you can use <a href=\"https://serpapi.com/search-api\" rel=\"nofollow noreferrer\">Google Search Engine Results API</a> from SerpApi. It\\'s a paid API with a free plan.</p>\\n<p>The difference is that it will bypass blocks (including CAPTCHA) from Google, no need to create the parser and maintain it.</p>\\n<p>Code example:</p>\\n<pre class=\"lang-py prettyprint-override\"><code>from serpapi import GoogleSearch\\nfrom urllib.parse import urlsplit, parse_qsl\\nimport json, os\\n\\nparams = {\\n  &quot;api_key&quot;: &quot;...&quot;,                  # serpapi key from https://serpapi.com/manage-api-key\\n  &quot;engine&quot;: &quot;google&quot;,                # serpapi parser engine\\n  &quot;q&quot;: &quot;cars&quot;,                       # search query\\n  &quot;gl&quot;: &quot;uk&quot;,                        # country of the search, UK -&gt; United Kingdom\\n  &quot;num&quot;: &quot;100&quot;                       # number of results per page (100 per page in this case)\\n  # other search parameters: https://serpapi.com/search-api#api-parameters\\n}\\n\\nsearch = GoogleSearch(params)      # where data extraction happens\\n\\npage_limit = 10\\norganic_results_data = []\\npage_num = 0\\n\\nwhile True:\\n    results = search.get_dict()    # JSON -&gt; Python dictionary\\n    \\n    page_num += 1\\n    \\n    for result in results[&quot;organic_results&quot;]:\\n        organic_results_data.append({\\n            &quot;title&quot;: result.get(&quot;title&quot;),\\n            &quot;snippet&quot;: result.get(&quot;snippet&quot;),\\n            &quot;link&quot;: result.get(&quot;link&quot;)\\n        })\\n\\n    if page_num == page_limit:\\n        break\\n      \\n    if &quot;next_link&quot; in results.get(&quot;serpapi_pagination&quot;, []):\\n        search.params_dict.update(dict(parse_qsl(urlsplit(results.get(&quot;serpapi_pagination&quot;).get(&quot;next_link&quot;)).query)))\\n    else:\\n        break\\n    \\nprint(json.dumps(organic_results_data, indent=2, ensure_ascii=False))\\n</code></pre>\\n<p>Output:</p>\\n<pre class=\"lang-json prettyprint-override\"><code>[\\n  {\\n    &quot;title&quot;: &quot;Rally Cars - Page 30 - Google Books result&quot;,\\n    &quot;snippet&quot;: &quot;Some people say rally car drivers are the most skilled racers in the world. Roger Clark, a British rally legend of the 1970s, describes sliding his car down ...&quot;,\\n    &quot;link&quot;: &quot;https://books.google.co.uk/books?id=uIOlAgAAQBAJ&amp;pg=PA30&amp;lpg=PA30&amp;dq=cars&amp;source=bl&amp;ots=9vDWFi0bHD&amp;sig=ACfU3U1d4R-ShepjsTtWN-b9SDYkW1sTDQ&amp;hl=en&amp;sa=X&amp;ved=2ahUKEwjPv9axu_b8AhX9LFkFHbBaB8c4yAEQ6AF6BAgcEAM&quot;\\n  },\\n  {\\n    &quot;title&quot;: &quot;Independent Sports Cars - Page 5 - Google Books result&quot;,\\n    &quot;snippet&quot;: &quot;The big three American auto makers produced sports and sports-like cars beginning with GMs Corvette and Fords Thunderbird in 1954. Folowed by the Mustang, ...&quot;,\\n    &quot;link&quot;: &quot;https://books.google.co.uk/books?id=HolUDwAAQBAJ&amp;pg=PA5&amp;lpg=PA5&amp;dq=cars&amp;source=bl&amp;ots=yDaDtQSyW1&amp;sig=ACfU3U11nHeRTwLFORGMHHzWjaVHnbLK3Q&amp;hl=en&amp;sa=X&amp;ved=2ahUKEwjPv9axu_b8AhX9LFkFHbBaB8c4yAEQ6AF6BAgaEAM&quot;\\n  }\\n  other results...\\n]\\n</code></pre>\\n'"
      ]
     },
     "metadata": {},
     "output_type": "display_data"
    },
    {
     "data": {
      "text/plain": [
       "'A:'"
      ]
     },
     "metadata": {},
     "output_type": "display_data"
    },
    {
     "data": {
      "text/plain": [
       "'<p>This is an other way to do it using <code>JSON_VALUE</code> and <code>OPENJSON</code></p>\\n<pre><code>SELECT JSON_VALUE ( j.value , \\'$.DocumentFormStatus\\' ) as DocumentFormStatus,\\n       JSON_VALUE ( j.value , \\'$.DocumentType\\' ) as DocumentType\\nFROM LWDocs\\nCROSS APPLY OPENJSON(LWDocs.DMDetails) as j\\n</code></pre>\\n<p><a href=\"https://dbfiddle.uk/QkoL0SVX\" rel=\"nofollow noreferrer\">Demo here</a></p>\\n'"
      ]
     },
     "metadata": {},
     "output_type": "display_data"
    },
    {
     "data": {
      "text/plain": [
       "'A:'"
      ]
     },
     "metadata": {},
     "output_type": "display_data"
    },
    {
     "data": {
      "text/plain": [
       "'<h1>Short answer</h1>\\n<p>Removing all deprecated code in order to migrate to Joomla 4 is not necessary. According to <a href=\"https://www.joomla.org/announcements/release-news/5868-joomla-5-panta-rhei-the-follow-up.html\" rel=\"nofollow noreferrer\">joomla.org announcement on Joomla 5</a> no deprecated code will be removed in Joomla 5.0, so we have at least till Joomla 6.0 until this code get removed.</p>\\n<h1>Long answer</h1>\\n<p>The <a href=\"https://www.joomla.org/announcements/release-news/5863-joomla-5-0-bold-in-one-year-but-can-we-do-it.html\" rel=\"nofollow noreferrer\">original plans</a> to remove deprecated code in Joomla 5 as announced  <a href=\"https://www.joomla.org/announcements/release-news/5868-joomla-5-panta-rhei-the-follow-up.html\" rel=\"nofollow noreferrer\">were abandoned</a>.\\nDeprecated code annotations where finally improved in Joomla 4.3 including small examples which statement(s) to use instead. In your case for BaseController:</p>\\n<pre><code> /**\\n * Method to get a singleton controller instance.\\n *\\n [...]\\n *\\n * @deprecated  4.3 will be removed in 6.0\\n *              Get the controller through the MVCFactory instead\\n *              Example: Factory::getApplication()-&gt;bootComponent($option)-&gt;getMVCFactory()-&gt;createController(...);\\n *\\n * @throws      \\\\Exception if the controller cannot be loaded.\\n */\\npublic static function getInstance($prefix, $config = [])\\n</code></pre>\\n<p>As far as I know the solution does not work with legacy components, since the createController() method in <a href=\"https://github.com/joomla/joomla-cms/blob/5.0-dev/libraries/src/MVC/Factory/LegacyFactory.php\" rel=\"nofollow noreferrer\">Joomla\\\\CMS\\\\MVC\\\\Factory\\\\LegacyFactory (J5-dev)</a> doesn\\'t (and probably won\\'t) support the creation of legacy controllers:</p>\\n<pre><code>public function createController($name, $prefix, array $config, CMSApplicationInterface $app, Input $input)\\n{\\n    throw new \\\\BadFunctionCallException(\\'Legacy controller creation not supported.\\');\\n}\\n</code></pre>\\n<p>So cleaning up the calls to</p>\\n<pre><code>$controller = BaseController::getInstance($prefix);\\n</code></pre>\\n<p>will be on the list for Joomla 6 migration.</p>\\n<p>For Tables, Models and Views the new code examples from the comments (since Joomla 4.3) do work also with legacy extensions.</p>\\n'"
      ]
     },
     "metadata": {},
     "output_type": "display_data"
    },
    {
     "data": {
      "text/plain": [
       "'A:'"
      ]
     },
     "metadata": {},
     "output_type": "display_data"
    },
    {
     "data": {
      "text/plain": [
       "'<p>Us simple <code>EXISTS</code> here:</p>\\n<pre class=\"lang-sql prettyprint-override\"><code>SELECT ID,  NAME,   VERSION\\nFROM my_table t1\\nWHERE EXISTS (\\n  SELECT 1\\n  FROM my_table t2\\n  WHERE t2.VERSION_ID = t1.ID\\n)\\n</code></pre>\\n<p>It does what it says: checks if for current row exists row with <code>VERSION_ID</code> containing current <code>ID</code>.</p>\\n'"
      ]
     },
     "metadata": {},
     "output_type": "display_data"
    },
    {
     "data": {
      "text/plain": [
       "'A:'"
      ]
     },
     "metadata": {},
     "output_type": "display_data"
    },
    {
     "data": {
      "text/plain": [
       "'<p>Declare the class this way:</p>\\n<pre><code>class Foo( @field:Positive var x: Long)\\n</code></pre>\\n'"
      ]
     },
     "metadata": {},
     "output_type": "display_data"
    },
    {
     "data": {
      "text/plain": [
       "'A:'"
      ]
     },
     "metadata": {},
     "output_type": "display_data"
    },
    {
     "data": {
      "text/plain": [
       "'<p>enable actionbar backbutton in onCreate()</p>\\n<pre><code> if (getSupportActionBar() != null){\\n            getSupportActionBar().setDisplayHomeAsUpEnabled(true);\\n            getSupportActionBar().setTitle(&quot;Streaks&quot;);\\n        }\\n</code></pre>\\n<p>override backbuttonPressed method</p>\\n<pre><code>@Override\\n    public void onBackPressed() {\\n        super.onBackPressed();\\n    }\\n</code></pre>\\n<p>override method</p>\\n<pre><code> @Override\\n    public boolean onOptionsItemSelected(@NonNull MenuItem item) {\\n        onBackPressed();\\n        return true;\\n    }\\n</code></pre>\\n'"
      ]
     },
     "metadata": {},
     "output_type": "display_data"
    },
    {
     "data": {
      "text/plain": [
       "'A:'"
      ]
     },
     "metadata": {},
     "output_type": "display_data"
    },
    {
     "data": {
      "text/plain": [
       "'<p>It might happen if one or the <a href=\"https://jmeter.apache.org/usermanual/component_reference.html#Response_Assertion\" rel=\"nofollow noreferrer\">Response Assertions</a> you\\'re using has &quot;Ignore status&quot; box ticked</p>\\n<p>If this is the case - just untick it and the &quot;API&quot; will be marked as failed in case of the assertion failure.</p>\\n<p><a href=\"https://i.stack.imgur.com/N6iur.gif\" rel=\"nofollow noreferrer\"><img src=\"https://i.stack.imgur.com/N6iur.gif\" alt=\"enter image description here\" /></a></p>\\n<p>If Response Assertion is not flexible enough for implementing your pass/fail criteria take a look at <a href=\"https://jmeter.apache.org/usermanual/component_reference.html#JSR223_Assertion\" rel=\"nofollow noreferrer\">JSR223 Assertion</a> which gives you the full power of <a href=\"https://groovy-lang.org/\" rel=\"nofollow noreferrer\">Groovy language</a> and you will be able to come up with any condition you can think of.</p>\\n<p>The JMeter API classes you might want to use:</p>\\n<ul>\\n<li><code>prev</code> - stands for the <strong>prev</strong>ious <a href=\"https://jmeter.apache.org/api/org/apache/jmeter/samplers/SampleResult.html\" rel=\"nofollow noreferrer\">SampleResult</a></li>\\n<li><code>AssertionResult</code> - just an <a href=\"https://jmeter.apache.org/api/org/apache/jmeter/assertions/AssertionResult.html\" rel=\"nofollow noreferrer\">AssertionResult</a></li>\\n</ul>\\n<p>Minimal assertion example:</p>\\n<pre><code>def response = prev.getResponseDataAsString()\\n\\nif (!response.contains(\\'foo\\')) {\\n    AssertionResult.setFailure(true)\\n    AssertionResult.setFailureMessage(\\'Failed to find &quot;foo&quot; text in the response\\')\\n}\\n</code></pre>\\n<p>More information: <a href=\"https://www.blazemeter.com/blog/jmeter-java-classes\" rel=\"nofollow noreferrer\">Top 8 JMeter Java Classes You Should Be Using with Groovy</a></p>\\n'"
      ]
     },
     "metadata": {},
     "output_type": "display_data"
    },
    {
     "data": {
      "text/plain": [
       "'A:'"
      ]
     },
     "metadata": {},
     "output_type": "display_data"
    },
    {
     "data": {
      "text/plain": [
       "'<p>You can try</p>\\n<pre><code>pip install torchtext==0.14.0 --no-deps\\n</code></pre>\\n<p>It depends on Pytorch <code>1.13.0</code> and you already have <code>1.13.1</code> installed so it should work fine.</p>\\n<p>If it does not work, you will most probably need to downgrade Pytorch</p>\\n<pre><code>pip3 install -U torch==1.13.0+cu117 torchtext==0.14.0 --extra-index-url https://download.pytorch.org/whl/cu117\\n</code></pre>\\n'"
      ]
     },
     "metadata": {},
     "output_type": "display_data"
    },
    {
     "data": {
      "text/plain": [
       "'A:'"
      ]
     },
     "metadata": {},
     "output_type": "display_data"
    },
    {
     "data": {
      "text/plain": [
       "\"<p>adding <code>height:'100%'</code> on parent element solved the problem for me.</p>\\n<p>Give <code>height:'100%'</code> to the view where you are rendering this component.</p>\\n\""
      ]
     },
     "metadata": {},
     "output_type": "display_data"
    },
    {
     "data": {
      "text/plain": [
       "'A:'"
      ]
     },
     "metadata": {},
     "output_type": "display_data"
    },
    {
     "data": {
      "text/plain": [
       "'<p>This one runs in O(n) time but you need to have at least one array in the list.</p>\\n<pre><code>int lengthOfLongest = intArrayList.Max(arr =&gt; arr.Length);\\n// For the array\\nint[] longestArray = intArrayList.First(arr =&gt; arr.Length == lengthOfLongest);\\n// For the index\\nint indexOfLongest = intArrayList.FindIndex(arr =&gt; arr.Length == lengthOfLongest);\\n</code></pre>\\n'"
      ]
     },
     "metadata": {},
     "output_type": "display_data"
    },
    {
     "data": {
      "text/plain": [
       "'A:'"
      ]
     },
     "metadata": {},
     "output_type": "display_data"
    },
    {
     "data": {
      "text/plain": [
       "'<p>You would have to assign the string to the <code>Label.Content</code> property:</p>\\n<pre><code>this.Label.Content = &quot;Some text&quot;;\\n</code></pre>\\n<p>Because the text is expected to change, the <code>Label</code> is not recommended as it would yield bad performance. Usually you would use a <code>TextBlock</code> instead:</p>\\n<pre><code>this.TextBlock.Text = &quot;Some changing text&quot;;\\n</code></pre>\\n<p>But <code>TextBlock</code> doesn\\'t perform well when it holds long text or multi-line text.</p>\\n<p>Instead you should use a <code>ListBox</code> to display a read-only text list or multi-line text.<br />\\nThe recommended solution looks as follows:</p>\\n<p><strong>MainWindow.xaml</strong></p>\\n<pre class=\"lang-xml prettyprint-override\"><code>&lt;Window&gt;\\n  &lt;ListBox ItemsSource=&quot;{Binding ProgressTextLines}&quot;\\n           IsHitTestVisible=&quot;False&quot;&gt;\\n    &lt;ListBox.ItemContainerStyle&gt;\\n      &lt;Style TargetType=&quot;ListBoxItem&quot;&gt;\\n        &lt;Setter Property=&quot;IsHitTestVisible&quot;\\n                Value=&quot;False&quot; /&gt;\\n        &lt;Setter Property=&quot;Template&quot;&gt;\\n          &lt;Setter.Value&gt;\\n            &lt;ControlTemplate TargetType=&quot;ListBoxItem&quot;&gt;\\n              &lt;ContentPresenter /&gt;\\n            &lt;/ControlTemplate&gt;\\n          &lt;/Setter.Value&gt;\\n        &lt;/Setter&gt;\\n      &lt;/Style&gt;\\n    &lt;/ListBox.ItemContainerStyle&gt;\\n  &lt;/ListBox&gt;\\n&lt;/Window&gt;\\n</code></pre>\\n<p><strong>MainWindow.xaml.cs</strong></p>\\n<pre class=\"lang-cs prettyprint-override\"><code>partial class MainWindow : Window\\n{\\n  public ObservableCollection&lt;string&gt; ProgressTextLines { get; }\\n\\n  public MainWindow()\\n  {\\n    InitializeComponent();\\n\\n    this.ProgressTextLines = new ObservableCollection&lt;string&gt;();\\n    this.DataContext = this;\\n  }\\n\\n  private void AppendProgressTextLine(string textLine)\\n    =&gt; this.ProgressTextLines.Add(textLine);\\n\\n  private void ClearProgressTextLines()\\n    =&gt; this.ProgressTextLines.Clear();\\n} \\n</code></pre>\\n'"
      ]
     },
     "metadata": {},
     "output_type": "display_data"
    },
    {
     "data": {
      "text/plain": [
       "'A:'"
      ]
     },
     "metadata": {},
     "output_type": "display_data"
    },
    {
     "data": {
      "text/plain": [
       "'<pre><code>import json\\nimport requests\\n\\nGITHUB_API = &quot;https://api.github.com/search/repositories&quot;\\nTOKEN = &quot;Your Github Token&quot;\\n\\nheaders = {&quot;Authorization&quot;: f&quot;token {TOKEN}&quot;}\\n\\n\\ndef get_repositories_with_min_stars(min_stars):\\n    page = 1\\n    params = {\\n        &quot;q&quot;: f&quot;stars:&gt;={min_stars}&quot;,\\n        &quot;sort&quot;: &quot;stars&quot;,\\n        &quot;order&quot;: &quot;desc&quot;,\\n        &quot;page&quot;: page,\\n        &quot;per_page&quot;: 100,\\n    }\\n    response = requests.get(GITHUB_API, headers=headers, params=params)\\n    if response.status_code != 200:\\n        return 0\\n\\n    data = json.loads(response.text)\\n    return data[&quot;total_count&quot;]\\n\\n\\nrepositories = get_repositories_with_min_stars(20)\\nprint(&quot;Number of repositories with more than equal to 20 stars:&quot;, repositories)\\n</code></pre>\\n'"
      ]
     },
     "metadata": {},
     "output_type": "display_data"
    },
    {
     "data": {
      "text/plain": [
       "'A:'"
      ]
     },
     "metadata": {},
     "output_type": "display_data"
    },
    {
     "data": {
      "text/plain": [
       "'<p>When an App Service sends outbound traffic, it uses one of the default outbound IP addresses for egress traffic to public endpoints. If you want to customize the outbound address of your applications on an App Service, you can add a NAT gateway to your subnet.</p>\\n<p>You can control the IP address of outbound traffic from your app by using <a href=\"https://learn.microsoft.com/en-us/azure/app-service/overview-vnet-integration\" rel=\"nofollow noreferrer\">regional VNet integration</a> together with a virtual network NAT gateway to direct traffic through a static public IP address.</p>\\n<p>But NAT gateway provides outbound internet connectivity for one or more subnets of a virtual network and Inbound initiated traffic is not affected by the addition of NAT gateway.</p>\\n<p>Refer : <a href=\"https://learn.microsoft.com/en-us/azure/virtual-network/nat-gateway/nat-gateway-resource\" rel=\"nofollow noreferrer\">https://learn.microsoft.com/en-us/azure/virtual-network/nat-gateway/nat-gateway-resource</a></p>\\n<p>Also <a href=\"https://learn.microsoft.com/en-us/azure/app-service/networking/app-gateway-with-service-endpoints\" rel=\"nofollow noreferrer\">Azure Application Gateway</a> is a web traffic load balancer that enables you to manage traffic to your web applications, which means it provides inbound connectivity to your webapps to clarify App GW is only for inbound and Outbound is not possible.</p>\\n<p>As per your question on-</p>\\n<blockquote>\\n<p>is it possible to use the same public IP of Azure Application Gateway\\nfor inbound and outbound traffic?</p>\\n</blockquote>\\n<p>This is not possible as each resource would have their own Public IP.</p>\\n<p>Also see detailed explanation here : <a href=\"https://learn.microsoft.com/en-us/answers/questions/1112079/use-case-of-nat-gateway-application-gateway\" rel=\"nofollow noreferrer\">Use case of NAT gateway + application gateway</a></p>\\n'"
      ]
     },
     "metadata": {},
     "output_type": "display_data"
    },
    {
     "data": {
      "text/plain": [
       "'A:'"
      ]
     },
     "metadata": {},
     "output_type": "display_data"
    },
    {
     "data": {
      "text/plain": [
       "\"<p>You can try:</p>\\n<pre><code>When (&quot;User enters the incorrect value {string} for the field {string} in the form&quot;, \\n(accountname:string, fieldClass:'account'|'database'|'email'|'password') =&gt; {  \\n       cy.xpath(`//input[@class=&quot;${fieldClass}&quot;]`).type(`${accountname}`);\\n    }\\n);\\n</code></pre>\\n\""
      ]
     },
     "metadata": {},
     "output_type": "display_data"
    },
    {
     "data": {
      "text/plain": [
       "'A:'"
      ]
     },
     "metadata": {},
     "output_type": "display_data"
    },
    {
     "data": {
      "text/plain": [
       "\"<p>Your <code>Main</code> class seems to be trying to be two things:</p>\\n<ol>\\n<li>Something that has a <code>foo</code> method</li>\\n<li>Something that builds an object that has a <em>working</em> <code>foo</code> method.</li>\\n</ol>\\n<p>These should probably be two separate classes.</p>\\n<pre><code>from dataclasses import dataclass\\nfrom typing import Optional\\n\\n\\nclass Child:\\n    def print_foo(self) -&gt; None:\\n        print(&quot;foo&quot;)\\n\\n\\n@dataclass\\nclass Main:\\n    child: Child\\n\\n    def foo(self) -&gt; None:\\n        self.child.print_foo()\\n\\n\\n@dataclass\\nclass MainBuilder:\\n    child: Optional[Child] = None\\n    \\n    def set_child(self) -&gt; None:\\n        self.child = Child()\\n\\n    def build(self) -&gt; Main:\\n        if self.child is None:\\n            raise ValueError(&quot;Child not yet available&quot;)\\n\\n        # Type narrowing: if we reach this line,\\n        # we can assume self.child is not None,\\n        # and thus assume its type is Child, not Optional[Child]\\n        return Main(self.child)\\n</code></pre>\\n<p>Now you can start by instantiating a <code>MainBuilder</code> object, with <code>set_child</code> replacing the old <code>initialise</code> method.</p>\\n<pre><code>mb = MainBuilder()\\nmb.set_child()\\n</code></pre>\\n<p>You create a <code>Main</code> object not by calling <code>Main</code> directly, but by calling <code>mb.build</code>, which will raise an exception if you don't yet have a child. Once you have a <code>Main</code> object, then it is guaranteed to be ready to call <code>foo</code>.</p>\\n<pre><code>main = mb.build()\\nmain.foo()\\n</code></pre>\\n<p>You <em>can</em> instantiate <code>Main</code> directly, but now a <code>Child</code> argument to <code>Main.__init__</code> is defined and not optional.</p>\\n<pre><code>main2 = Main(Child())\\n</code></pre>\\n\""
      ]
     },
     "metadata": {},
     "output_type": "display_data"
    },
    {
     "data": {
      "text/plain": [
       "'A:'"
      ]
     },
     "metadata": {},
     "output_type": "display_data"
    },
    {
     "data": {
      "text/plain": [
       "\"<p>It seems like the import statement you're using is attempting to import a module named &quot;appwrite&quot; from the node_modules folder, but it's not finding it. Here are a few things you can try:</p>\\n<ol>\\n<li>Make sure you have installed the &quot;appwrite&quot; package correctly. From\\nthe command line, navigate to the root directory of your project and\\nrun &quot;npm install appwrite&quot; to install the package. Then check the\\nnode_modules folder to make sure the package has been installed.</li>\\n<li>Check that you're running a version of Node.js that supports ES6\\nmodule syntax. ES6 modules were introduced in Node.js v13.2.0. If\\nyou're running an earlier version, you may need to upgrade.</li>\\n<li>Try adding a file extension to the import statement. For example, if\\nthe module you're trying to import is in a file named &quot;appwrite.js&quot;,\\ntry changing the import statement to:</li>\\n</ol>\\n<p><code>import { Client, Account, ID } from './appwrite.js';</code></p>\\n<p>Make sure you're using the correct file name and extension for the module you're trying to import.</p>\\n<p>I hope one of these suggestions helps resolve the issue!</p>\\n\""
      ]
     },
     "metadata": {},
     "output_type": "display_data"
    },
    {
     "data": {
      "text/plain": [
       "'A:'"
      ]
     },
     "metadata": {},
     "output_type": "display_data"
    },
    {
     "data": {
      "text/plain": [
       "'<p>Sounds like you actually want <a href=\"https://docs.python.org/3.11/library/multiprocessing.shared_memory.html#module-multiprocessing.shared_memory\" rel=\"nofollow noreferrer\"><code>multiprocessing</code> shared memory</a> to coordinate which subprocess can access a given GPU.</p>\\n<p>Here\\'s a simple toy example where 4 processes with 10 jobs to do compete over 2 GPUs. It uses a lock and a shared memory array; each process marks itself as the owner of a given GPU by writing its PID into the first free &quot;slot&quot; of the GPU array.</p>\\n<p>For a more production-ready example, you would need to add some error tolerance (e.g. ensure the workers always release their GPUs, etc.)</p>\\n<pre><code>import multiprocessing\\nimport os\\nimport random\\nimport time\\nfrom dataclasses import dataclass\\n\\n\\n@dataclass\\nclass SharedVariables:\\n    gpu_pool_lock: multiprocessing.Lock\\n    gpu_array: multiprocessing.Array\\n\\n    def get_free_gpu(self):\\n        with self.gpu_pool_lock:\\n            for gpu_id, pid in enumerate(self.gpu_array):\\n                if pid == 0:\\n                    self.gpu_array[gpu_id] = os.getpid()\\n                    return gpu_id\\n            return None\\n\\n    def release_gpu(self, gpu_id):\\n        with self.gpu_pool_lock:\\n            assert self.gpu_array[gpu_id] == os.getpid()\\n            self.gpu_array[gpu_id] = 0\\n\\n\\nshared_variables: SharedVariables\\n\\n\\ndef init_worker(shv: SharedVariables):\\n    global shared_variables\\n    shared_variables = shv\\n\\n\\ndef do_work(x):\\n    print(f&quot;Worker {os.getpid()} starting work {x}&quot;)\\n    gpu_id = None\\n    while gpu_id is None:\\n        gpu_id = shared_variables.get_free_gpu()\\n        time.sleep(0.5)\\n    print(f&quot;Worker {os.getpid()} got gpu {gpu_id}&quot;)\\n    time.sleep(random.uniform(2, 4))\\n    shared_variables.release_gpu(gpu_id)\\n    print(f&quot;Worker {os.getpid()} released gpu {gpu_id}&quot;)\\n    time.sleep(0.5)\\n\\n\\ndef main():\\n    num_gpus = 2\\n    shared_variables = SharedVariables(\\n        gpu_pool_lock=multiprocessing.Lock(),\\n        gpu_array=(multiprocessing.Array(&quot;i&quot;, [0] * num_gpus)),\\n    )\\n    with multiprocessing.Pool(\\n        4,\\n        initializer=init_worker,\\n        initargs=(shared_variables,),\\n    ) as pool:\\n        res = [pool.apply_async(do_work, args=(x,)) for x in range(10)]\\n        while not (all(r.ready() for r in res)):\\n            print(&quot;Main: GPUs in use:&quot;, shared_variables.gpu_array[:])\\n            time.sleep(0.5)\\n\\n\\nif __name__ == &quot;__main__&quot;:\\n    main()\\n</code></pre>\\n<p>An example output would be</p>\\n<pre><code>Main: GPUs in use: [0, 0]\\nWorker 41543 starting work 0\\nWorker 41542 starting work 1\\nWorker 41541 starting work 2\\nWorker 41544 starting work 3\\nMain: GPUs in use: [41543, 41542]\\nWorker 41543 got gpu 0\\nWorker 41542 got gpu 1\\nMain: GPUs in use: [41543, 41542]\\nMain: GPUs in use: [41543, 41542]\\nMain: GPUs in use: [41543, 41542]\\nMain: GPUs in use: [41543, 41542]\\nMain: GPUs in use: [41543, 41542]\\nWorker 41542 released gpu 1\\nMain: GPUs in use: [41543, 0]\\nWorker 41542 starting work 4\\nWorker 41543 released gpu 0\\nMain: GPUs in use: [0, 41544]\\nWorker 41544 got gpu 1\\nWorker 41543 starting work 5\\nMain: GPUs in use: [41541, 41544]\\nWorker 41541 got gpu 0\\nMain: GPUs in use: [41541, 41544]\\n</code></pre>\\n<p>etc.</p>\\n'"
      ]
     },
     "metadata": {},
     "output_type": "display_data"
    },
    {
     "data": {
      "text/plain": [
       "'A:'"
      ]
     },
     "metadata": {},
     "output_type": "display_data"
    },
    {
     "data": {
      "text/plain": [
       "'<p>There are a few issues with the code provided:</p>\\n<p>The <code>results</code> object used in <code>init()</code> method is not defined. You need to receive <code>results</code> as a parameter in <code>onResults(results)</code> method and assign it to <code>this.results</code>. So, update <code>onResults</code> method to:</p>\\n<pre><code>onResults(results) {\\n    this.results = results;\\n    if (!results.poseLandmarks) {\\n        this.grid.updateLandmarks([]);\\n        return;\\n    }\\n}\\n</code></pre>\\n<p>Secondly <code>canvasCtx</code> is not defined in <code>drawConnectors</code> and <code>drawLandmarks</code> methods. You should use <code>this.canvasCtx</code> instead. So, update these two methods in <code>init()</code> method to:</p>\\n<pre><code>drawConnectors(this.canvasCtx, this.results.poseLandmarks, POSE_CONNECTIONS, {\\n    color: &quot;#00FF00&quot;,\\n    lineWidth: 4,\\n});\\n\\ndrawLandmarks(this.canvasCtx, this.results.poseLandmarks, {\\n    color: &quot;#FF0000&quot;,\\n    lineWidth: 2,\\n});\\n</code></pre>\\n'"
      ]
     },
     "metadata": {},
     "output_type": "display_data"
    },
    {
     "data": {
      "text/plain": [
       "'A:'"
      ]
     },
     "metadata": {},
     "output_type": "display_data"
    },
    {
     "data": {
      "text/plain": [
       "'<p>The ESI tag generated by Symfony is only used when a gateway cache is able to handle it. See this part of the <a href=\"https://symfony.com/doc/current/http_cache/esi.html#using-esi-in-symfony\" rel=\"nofollow noreferrer\">documentation</a> :</p>\\n<p><code>When using the default render() function (or setting the renderer to inline), Symfony merges the included page content into the main one before sending the response to the client. But if you use the esi renderer (i.e. call render_esi()) and if Symfony detects that it\\'s talking to a gateway cache that supports ESI, it generates an ESI include tag. But if there is no gateway cache or if it does not support ESI, Symfony will just merge the included page content within the main one as it would have done if you had used render().</code></p>\\n<p>Symfony also provides some informations about gateway caches <a href=\"https://symfony.com/doc/current/http_cache.html#symfony-reverse-proxy\" rel=\"nofollow noreferrer\">here</a>.</p>\\n<p>Therefore, you could try to enable the Symfony reverse proxy with this option, to quickly test if the ESI tag on your request works.</p>\\n<pre class=\"lang-yaml prettyprint-override\"><code>framework:\\n    http_cache: true\\n</code></pre>\\n'"
      ]
     },
     "metadata": {},
     "output_type": "display_data"
    },
    {
     "data": {
      "text/plain": [
       "'A:'"
      ]
     },
     "metadata": {},
     "output_type": "display_data"
    },
    {
     "data": {
      "text/plain": [
       "\"<p>At the first you should convert your opencv image to qpixlemap format with this code :</p>\\n<pre><code>def convert_cv_qt(self, cv_img):\\n    rgb_image = cv.cvtColor(cv_img, cv.COLOR_BGR2RGB)\\n    h, w, ch = rgb_image.shape\\n    bytes_per_line = ch * w\\n    convert_to_Qt_format = QtGui.QImage(rgb_image.data, w, h, bytes_per_line, QtGui.QImage.Format.Format_RGB888)\\n    p = convert_to_Qt_format.scaled(cv_img.shape[0], cv_img.shape[1], Qt.AspectRatioMode.KeepAspectRatio)\\n    return QPixmap.fromImage(p)\\n</code></pre>\\n<p>and then you can insert your image to qtable like this :</p>\\n<pre><code>qt_img = convert_cv_qt(cv_img)\\n\\nrowPosition = table.rowCount()\\ntable.insertRow(rowPosition)\\ntable.setItem(rowPosition, 0, QTableWidgetItem('(My Text)'))\\ntable.setItem(rowPosition, 1, QTableWidgetItem('datetime(2019, 5, 4)'))\\ntable.setCellWidget(rowPosition, 2,self.getImageLabel(qt_img))\\n</code></pre>\\n\""
      ]
     },
     "metadata": {},
     "output_type": "display_data"
    },
    {
     "data": {
      "text/plain": [
       "'A:'"
      ]
     },
     "metadata": {},
     "output_type": "display_data"
    },
    {
     "data": {
      "text/plain": [
       "'<p>Try the of([...]) operator instead of the from([...]) in your simulation inside the service.</p>\\n<p>More info: <a href=\"https://stackoverflow.com/questions/42704552/of-vs-from-operator\">&#39;of&#39; vs &#39;from&#39; operator</a></p>\\n<blockquote>\\n<p>It is important to note the difference between of and from when passing an array-like structure (including strings):</p>\\n<p>Observable.of([1, 2, 3]).subscribe(x =&gt; console.log(x));\\nwould print the whole array at once.</p>\\n<p>On the other hand,\\nObservable.from([1, 2, 3]).subscribe(x =&gt; console.log(x));\\nprints the elements 1 by 1.</p>\\n<p>For strings the behaviour is the same, but at character level.</p>\\n</blockquote>\\n<p>If you want to resolve multiple values you can use rxjs operators to put them together and resolve once:</p>\\n<pre class=\"lang-js prettyprint-override\"><code>@Injectable()\\nexport class ProductService{\\n  products = [...]; // array of products\\n  categories = [...]; // array of categories\\n  getProducts(){\\n    return of(this.products);   \\n  }\\n  getCategories(){\\n    return of(this.categories);   \\n  }\\n}\\n\\n@Injectable()\\nexport class ProductRouteGuardService{\\n  constructor(private productService : ProductService) { }\\n  resolve(){\\n    return forkJoin([\\n      this.productService.getProducts()\\n        .pipe(map(products =&gt; products)),             \\n      this.productService.getCategories()\\n       .pipe(map(categories =&gt; categories))]);\\n  }\\n}\\n</code></pre>\\n'"
      ]
     },
     "metadata": {},
     "output_type": "display_data"
    },
    {
     "data": {
      "text/plain": [
       "'A:'"
      ]
     },
     "metadata": {},
     "output_type": "display_data"
    },
    {
     "data": {
      "text/plain": [
       "'<p><a href=\"https://stackoverflow.com/a/76051833/45375\">Nawad-sama\\'s answer offers a potential solution</a> - don\\'t try to write directly to <code>C:\\\\</code> - but let me address the error cause:</p>\\n<p>The error isn\\'t caused by a lack of permissions (though you may run into permission issues later), it is caused by <strong>an - ultimately inconsequential - bug in <em>Windows PowerShell</em></strong>, which has since been fixed in <a href=\"https://github.com/PowerShell/PowerShell/blob/master/README.md\" rel=\"nofollow noreferrer\"><em>PowerShell (Core) 7+</em></a></p>\\n<p>While <strong>it never makes sense to try to create a drive\\'s <em>root</em> directory</strong> - if the drive is accessible, it by definition already has a root drive - the addition of the <code>-Force</code> switch to <a href=\"https://learn.microsoft.com/powershell/module/microsoft.powershell.management/new-item\" rel=\"nofollow noreferrer\"><code>New-Item</code></a> <code>-ItemType Directory</code> should return information about the <em>existing</em> root drive (in the form of a <a href=\"https://learn.microsoft.com/en-US/dotnet/api/System.IO.DirectoryInfo\" rel=\"nofollow noreferrer\"><code>System.IO.DirectoryInfo</code></a> instance; that is what now happens in PowerShell (Core) 7+).</p>\\n<p>Due to the bug, you get an obscure error message instead (<code>The path is not of a legal form.</code>)</p>\\n'"
      ]
     },
     "metadata": {},
     "output_type": "display_data"
    },
    {
     "data": {
      "text/plain": [
       "'A:'"
      ]
     },
     "metadata": {},
     "output_type": "display_data"
    },
    {
     "data": {
      "text/plain": [
       "'<p>I have created this by html css and JS,\\nYou can find code below</p>\\n<p><div class=\"snippet\" data-lang=\"js\" data-hide=\"false\" data-console=\"true\" data-babel=\"false\">\\r\\n<div class=\"snippet-code\">\\r\\n<pre class=\"snippet-code-css lang-css prettyprint-override\"><code>.rating-guage{\\n    position: relative;\\n    margin: auto;\\n    display: flex;\\n    /* text-align: center; */\\n    align-items: center;\\n    justify-content: center;\\n}\\np.Unlikely {\\n    position: absolute;\\n    bottom: -40px;\\n    /* left: 0; */\\n    /* right: 0; */\\n    margin-left: -200px;\\n    color:#4F4F4F;\\n}\\np.likely {\\n    position: absolute;\\n    bottom: -40px;\\n    /* left: 0; */\\n    /* right: 0; */\\n    margin-right: -200px;\\n    color:#4F4F4F;\\n}\\n.rating-circle {\\n    position: relative;\\n    width: 300px;\\n    height: 300px;\\n    border-radius: 50%;\\n    background-color: #fff;\\n    display: flex;\\n    align-items: center;\\n    justify-content: center;\\n    font-size: 18px;\\n    overflow: hidden;\\n  }\\n  \\n  .selected-rating{\\n    position: absolute;\\n    display: flex;\\n    z-index: 1;\\n    font-size: 50px;\\n    font-weight: bold;\\n    align-items: center;\\n    justify-content: center;\\n    background: #fff;\\n    color: #999999;\\n    width: 200px;\\n    height: 200px;\\n    border-radius: 50%;\\n    top: 50%;\\n    left: 50%;\\n    transform: translate(-50%,-50%);\\n  }\\n  .rating-scale {\\n    position: relative;\\n    width: 100%;\\n    height: 100%;\\n    display: flex;\\n    flex-wrap: wrap;\\n    align-items: center;\\n    justify-content: center;\\n  }\\n  \\n  .rating-tab {\\n    position: absolute;\\n    width: 25%;\\n    height: 25%;\\n    border-radius: 0;\\n    display: flex;\\n    justify-content: center;\\n    align-items: center;\\n    font-weight: bold;\\n    cursor: pointer;\\n    border:2px solid #fff;\\n    transition: all 0.2s ease-in-out;\\n  } \\n  \\n  \\n  .rating-tab:hover,.rating-tab.active {\\n    filter: drop-shadow(4px 2px 7px black);\\n    border: 2px solid #fff;\\n    transition: all 0.2s ease-in-out;\\n    font-weight: 700;\\n  }\\n\\n  .rating-tab span{\\n    position: absolute;\\n    top: 50%;\\n    left: 55%;\\n  }\\n\\n  .red {\\n    background-color: #EA463D;\\n    color: #fff;\\n  }\\n  \\n  .yellow {\\n    background-color: #FBC402;\\n    color: #000;\\n  }\\n  \\n  .green {\\n    background-color: #0FB478;\\n    color: #fff;\\n  }\\n  .transparent {\\n    background-color: #fff;\\n    color: #fff;\\n  }\\n  \\n  /*Child 1*/\\n  .rating-tab:nth-child(1) {\\n    transform: rotate(130deg) translate(125px) rotate(-20deg);\\n  }\\n  .rating-tab:nth-child(1):hover,.rating-tab.active:nth-child(1) {\\n    transform: rotate(130deg) translate(125px) rotate(-20deg) scale(1.1);\\n  }\\n  .rating-tab:nth-child(1):hover span {\\n    transform: translate(-50%,-100%) rotate(250deg) scale(1.1);\\n  }\\n  .rating-tab:nth-child(1) span{\\n    transform: translate(-50%,-100%) rotate(250deg);\\n  }\\n\\n  /*Child 2*/\\n  .rating-tab:nth-child(2) {\\n    transform: rotate(155deg) translate(125px) rotate(-20deg);\\n  }\\n  .rating-tab:nth-child(2):hover,.rating-tab.active:nth-child(2) {\\n    transform: rotate(155deg) translate(125px) rotate(-20deg) scale(1.1);\\n  }\\n  .rating-tab:nth-child(2):hover span {\\n    transform: translate(-50%,-100%) rotate(230deg) scale(1.1);\\n  }\\n  .rating-tab:nth-child(2) span{\\n    transform: translate(-50%,-100%) rotate(230deg);\\n  }\\n\\n\\n  /*Child 3*/\\n  .rating-tab:nth-child(3) {\\n    transform: rotate(183deg) translate(125px) rotate(-20deg);\\n  }\\n  .rating-tab:nth-child(3):hover,.rating-tab.active:nth-child(3) {\\n    transform: rotate(183deg) translate(125px) rotate(-20deg) scale(1.1);\\n  }\\n  .rating-tab:nth-child(3):hover span {\\n    transform: translate(-50%,-100%) rotate(205deg) scale(1.1);\\n  }\\n  .rating-tab:nth-child(3) span{\\n    transform: translate(-50%,-100%) rotate(205deg);\\n  }\\n\\n\\n  /*Child 4*/\\n  .rating-tab:nth-child(4) {\\n    transform: rotate(213deg) translate(125px) rotate(-20deg);\\n  }\\n  .rating-tab:nth-child(4):hover,.rating-tab.active:nth-child(4) {\\n    transform: rotate(213deg) translate(125px) rotate(-20deg) scale(1.1);\\n  }\\n  .rating-tab:nth-child(4):hover span {\\n    transform: translate(-50%,-100%) rotate(170deg) scale(1.1);\\n  }\\n  .rating-tab:nth-child(4) span{\\n    transform: translate(-50%,-100%) rotate(170deg);\\n  }\\n\\n  /*Child 5*/\\n  .rating-tab:nth-child(5) {\\n    transform: rotate(240deg) translate(125px) rotate(-20deg);\\n  }\\n  .rating-tab:nth-child(5):hover,.rating-tab.active:nth-child(5) {\\n    transform: rotate(240deg) translate(125px) rotate(-20deg) scale(1.1);\\n  }\\n  .rating-tab:nth-child(5):hover span {\\n    transform: translate(-50%,-100%) rotate(140deg) scale(1.1);\\n  }\\n  .rating-tab:nth-child(5) span{\\n    transform: translate(-50%,-100%) rotate(140deg);\\n  }\\n\\n  /*Child 6*/\\n  .rating-tab:nth-child(6) {\\n    transform: rotate(270deg) translate(125px) rotate(-20deg);\\n  }\\n  .rating-tab:nth-child(6):hover,.rating-tab.active:nth-child(6) {\\n    transform: rotate(270deg) translate(125px) rotate(-20deg) scale(1.1);\\n  }\\n  .rating-tab:nth-child(6):hover span {\\n    transform: translate(-50%,-100%) rotate(110deg) scale(1.1);\\n  }\\n  .rating-tab:nth-child(6) span{\\n    transform: translate(-50%,-100%) rotate(110deg);\\n  }\\n\\n  /*Child 7*/\\n  .rating-tab:nth-child(7) {\\n    transform: rotate(300deg) translate(125px) rotate(-20deg);\\n  }\\n  .rating-tab:nth-child(7):hover,.rating-tab.active:nth-child(7) {\\n    transform: rotate(300deg) translate(125px) rotate(-20deg) scale(1.1);\\n  }\\n  .rating-tab:nth-child(7):hover span {\\n    transform: translate(-50%,-100%) rotate(80deg) scale(1.1);\\n  }\\n  .rating-tab:nth-child(7) span{\\n    transform: translate(-50%,-100%) rotate(80deg);\\n  }\\n\\n  /*Child 8*/\\n  .rating-tab:nth-child(8) {\\n    transform: rotate(330deg) translate(125px) rotate(-20deg);\\n  } \\n  .rating-tab:nth-child(8):hover,.rating-tab.active:nth-child(8) {\\n    transform: rotate(330deg) translate(125px) rotate(-20deg) scale(1.1);\\n  }\\n  .rating-tab:nth-child(8):hover span {\\n    transform: translate(-50%,-100%) rotate(50deg) scale(1.1);\\n  }\\n  .rating-tab:nth-child(8) span{\\n    transform: translate(-50%,-100%) rotate(50deg);\\n  }\\n  /*Child 9*/\\n  .rating-tab:nth-child(9) {\\n    transform: rotate(0deg) translate(125px) rotate(-20deg);\\n  }\\n  .rating-tab:nth-child(9):hover,.rating-tab.active:nth-child(9) {\\n    transform: rotate(0deg) translate(125px) rotate(-20deg) scale(1.1);\\n  }\\n  .rating-tab:nth-child(9):hover span {\\n    transform: translate(-50%,-100%) rotate(20deg) scale(1.1);\\n  }\\n  .rating-tab:nth-child(9) span{\\n    transform: translate(-50%,-100%) rotate(20deg);\\n  }\\n  \\n  /*Child 10*/\\n  .rating-tab:nth-child(10) {\\n    transform: rotate(30deg) translate(125px) rotate(-20deg);\\n  }\\n  .rating-tab:nth-child(10):hover,.rating-tab.active:nth-child(10) {\\n    transform: rotate(30deg) translate(125px) rotate(-20deg) scale(1.1);\\n  }\\n  .rating-tab:nth-child(10):hover span {\\n    transform: translate(-50%,-100%) rotate(-10deg) scale(1.1);\\n  }\\n  .rating-tab:nth-child(10) span{\\n    transform: translate(-50%,-100%) rotate(-10deg);\\n  }\\n  \\n  /*Child 11*/\\n  .rating-tab:nth-child(11) {\\n    transform: rotate(60deg) translate(125px) rotate(-20deg);\\n  }\\n  .rating-tab:nth-child(11):hover,.rating-tab.active:nth-child(11) {\\n    transform: rotate(60deg) translate(125px) rotate(-20deg) scale(1.1);\\n    filter: drop-shadow(30px 2px 7px black);\\n  }\\n  .rating-tab:nth-child(11):hover span {\\n    transform: translate(-50%,-100%) rotate(-40deg) scale(1.1);\\n  }\\n  .rating-tab:nth-child(11) span{\\n    transform: translate(-50%,-100%) rotate(-40deg);\\n  }\\n  \\n  /*Child 12*/\\n  .rating-tab:nth-child(12) {\\n    transform: rotate(82deg) translate(125px) rotate(-10deg);\\n    border: 0;\\n    width: 40%;\\n    height: 15%;\\n    cursor: default;\\n    pointer-events: none;\\n  }\\n  .rating-tab:nth-child(12):hover{\\n    filter:none;\\n    border: 0px solid #fff;\\n  }</code></pre>\\r\\n<pre class=\"snippet-code-html lang-html prettyprint-override\"><code>&lt;div class=\"rating-guage\"&gt;\\n  &lt;p class=\"Unlikely\"&gt;Extremly Unlikely&lt;/p&gt;\\n  &lt;p class=\"likely\"&gt;Extremly Likely&lt;/p&gt;\\n      &lt;div class=\"rating-circle\"&gt;\\n        &lt;div class=\"\"&gt;&lt;span class=\"selected-rating\"&gt;5&lt;/span&gt;&lt;/div&gt;\\n        &lt;div class=\"rating-scale \"&gt;\\n          &lt;div class=\"rating-tab red\"&gt;&lt;span&gt;0&lt;/span&gt;&lt;/div&gt;\\n          &lt;div class=\"rating-tab red\"&gt;&lt;span&gt;1&lt;/span&gt;&lt;/div&gt;\\n          &lt;div class=\"rating-tab red\"&gt;&lt;span&gt;2&lt;/span&gt;&lt;/div&gt;\\n          &lt;div class=\"rating-tab red\"&gt;&lt;span&gt;3&lt;/span&gt;&lt;/div&gt;\\n          &lt;div class=\"rating-tab red\"&gt;&lt;span&gt;4&lt;/span&gt;&lt;/div&gt;\\n          &lt;div class=\"rating-tab red\"&gt;&lt;span&gt;5&lt;/span&gt;&lt;/div&gt;\\n          &lt;div class=\"rating-tab red\"&gt;&lt;span&gt;6&lt;/span&gt;&lt;/div&gt;\\n          &lt;div class=\"rating-tab yellow\"&gt;&lt;span&gt;7&lt;/span&gt;&lt;/div&gt;\\n          &lt;div class=\"rating-tab yellow\"&gt;&lt;span&gt;8&lt;/span&gt;&lt;/div&gt;\\n          &lt;div class=\"rating-tab green\"&gt;&lt;span&gt;9&lt;/span&gt;&lt;/div&gt;\\n          &lt;div class=\"rating-tab green\"&gt;&lt;span&gt;10&lt;/span&gt;&lt;/div&gt;\\n          &lt;div class=\"rating-tab transparent\"&gt;&lt;/div&gt;\\n        &lt;/div&gt;\\n      &lt;/div&gt;  \\n&lt;/div&gt; </code></pre>\\r\\n</div>\\r\\n</div>\\r\\n</p>\\n'"
      ]
     },
     "metadata": {},
     "output_type": "display_data"
    },
    {
     "data": {
      "text/plain": [
       "'A:'"
      ]
     },
     "metadata": {},
     "output_type": "display_data"
    },
    {
     "data": {
      "text/plain": [
       "'<p>The problem is that when the command is executed, Maya is trying to delete the UI element while it\\'s still being used, causing the crash. You pretty much had it figured out.  Here\\'s your the code with <code>evalDeferred</code> executing the deleteUI expression.</p>\\n<pre class=\"lang-py prettyprint-override\"><code>import maya.cmds as cmds\\nimport functools\\n\\nclass MayaWindow():\\n    def __init__(self):\\n        self.WINDOW_NAME = &quot;Maya Window&quot;\\n        if cmds.window(self.WINDOW_NAME, exists=True):\\n            cmds.deleteUI(self.WINDOW_NAME, window=True)\\n        self.window = cmds.window(self.WINDOW_NAME)\\n\\n        #-- Create some buttons that need to be deleted with a popupmenu\\n        cmds.frameLayout(label=\\'Buttons\\')\\n        for i in range(10):\\n            button = cmds.button(label=str(i))\\n            cmds.popupMenu()\\n            cmds.menuItem(label=\\'Delete Button\\', command=functools.partial(self.deleteButton, button))\\n\\n        cmds.showWindow(self.window)\\n    \\n    def deleteButton(self, button, *args):\\n        print(&quot;Execute some code...&quot;)\\n\\n        print(&quot;Now delete the button please..&quot;)\\n        cmds.evalDeferred(lambda: cmds.deleteUI(button, control=True)) # &lt;&lt;-- This should no longer crash Maya\\n\\nMayaWindow()\\n</code></pre>\\n'"
      ]
     },
     "metadata": {},
     "output_type": "display_data"
    },
    {
     "data": {
      "text/plain": [
       "'A:'"
      ]
     },
     "metadata": {},
     "output_type": "display_data"
    },
    {
     "data": {
      "text/plain": [
       "'<p>You have the explanation in <a href=\"https://react.dev/reference/react/useState#setstate-caveats\" rel=\"nofollow noreferrer\">official documentation here</a>:</p>\\n<blockquote>\\n<p>The set function only updates the state variable for the next render.\\nIf you read the state variable after calling the set function, you\\nwill still get the old value that was on the screen before your call.</p>\\n</blockquote>\\n<p>Your call to <code>setMessages</code> doesn\\'t result in your <code>message</code> variable being immediately updated. If you think about it, it makes total sense as <code>messages</code> is defined as a <code>const</code>, so it can never be reassigned! On the next re-render, you\\'ll have a fresh new <code>messages</code> with the updated value.</p>\\n<p>So your second call to <code>setMessages</code> is adding <code>botMessage</code> to the original array, effectively replacing <code>userMessage</code>.</p>\\n<p>Something you could try is using <a href=\"https://react.dev/reference/react/useState#updating-state-based-on-the-previous-state\" rel=\"nofollow noreferrer\">updater functions</a> like:</p>\\n<pre><code>setMessages(prevState =&gt; [...prevState, userMessage]);\\n...\\nsetMessages(prevState =&gt; [...prevState, botMessage]);\\n</code></pre>\\n<p>Updater functions are also executed on the next re-render, but they are applied in queue and always receive the most recent value of your state variable, so both elements will be properly added.</p>\\n'"
      ]
     },
     "metadata": {},
     "output_type": "display_data"
    },
    {
     "data": {
      "text/plain": [
       "'A:'"
      ]
     },
     "metadata": {},
     "output_type": "display_data"
    },
    {
     "data": {
      "text/plain": [
       "\"<p>I highly suspect that this is caused by the number of values evaluated: the pdf is discretized into n x l steps, where n is the number of points that are used to discretize the kernel (i.e. how many to describe the kernel appropriately? this can be changed, I think it defaults to about 50) and l is how often the kernel fits into the PDF -&gt; that's the problem.</p>\\n<p>For the convolution, the evaluated kernel will slide over the PDF evaluated points. But the later will need to be evaluated at about 10^7 * 50 ~ 10^8 or 10^9 points. That's a lot! That itself, I assume, should still barely work, somewhere in the GB region maybe, maximum. (The interpolation and your datapoints add a bit, but let's neglect that). But combining with the other convolution and the need for a numerical integral most likely just kills everything in the end (not expactly sure, but let's say, 10^9 points for a convolution are a lot).</p>\\n<p>But then, it could also be a problem within zfit that amplifies it.</p>\\n<p>So to go forward, I would suggest: can you reduce the resolution of your Kernel? i.e. 5 points only for example?\\nAlternatively, to cross-check, you could try with other convolution methods in Python; I do suspect that memory will be a bottleneck (a the convolution in zfit uses already the highly optimized TF convolution), just to test manually.</p>\\n<p>(Also, make sure to use the linear interpolation, in case that isn't the default yet in the ConvPDF)</p>\\n<p>Just to mention the most elegant of all: can you do the convolution analytically, using mathematica/sympy? If so, you've won! Because you could implement your custom PDF with nearly 0 memory footprint!</p>\\n\""
      ]
     },
     "metadata": {},
     "output_type": "display_data"
    },
    {
     "data": {
      "text/plain": [
       "'A:'"
      ]
     },
     "metadata": {},
     "output_type": "display_data"
    },
    {
     "data": {
      "text/plain": [
       "\"<p>Not a truly async solution, but a better workaround:</p>\\n<p>I struggled with long startup times and got tired of it yesterday. A profiling revealed 30 seconds wait time on <code>.GetAwaiter().GetResult()</code>.</p>\\n<p>There is a property <code>IssuerSigningKeyResolver</code> which can be used instead of <code>IssuerSigningKeys</code>. It's not async, but can be exploited to achieve the same result:</p>\\n<p>Call <code>secretManager.GetKeys()</code>, but do not wait for it. Assign the result somewhere. The task is started and will run in the background.</p>\\n<p>Move the waiting to the delegate. Immediate benefit is that your startup code no longer has to wait for the lookup. But your users will, if they are unlucky. The task will most likely finish before the first user arrives.</p>\\n<pre><code>var keyLoader = secretManager.GetKeys(); // Move call to here\\n\\nservices\\n  .AddAuthentication()\\n  .AddJwtBearer(DomainConstants.MyAuthenticationScheme, async options =&gt;\\n    {\\n       options.TokenValidationParameters = new TokenValidationParameters\\n        {\\n          IssuerSigningKeyResolver = (...) =&gt; // parameters may be ignored\\n          {\\n            var keys = await keyloader.GetAwaiter().GetResult(); // wait for it\\n            var signingKeys = ...\\n            return signingKeys;\\n          },\\n          ...\\n        }\\n     });\\n</code></pre>\\n<p>My solution is more complex, but this is the essence of it.</p>\\n\""
      ]
     },
     "metadata": {},
     "output_type": "display_data"
    },
    {
     "data": {
      "text/plain": [
       "'A:'"
      ]
     },
     "metadata": {},
     "output_type": "display_data"
    },
    {
     "data": {
      "text/plain": [
       "\"<p>I'm using Laravel 10, in this time being, and I resolve this when renaming my index.blade.php into different file name such as home.blade.php</p>\\n<p>I tried using:</p>\\n<pre><code>php artisan optimize:clear\\n</code></pre>\\n<p>Seems it doesn't work, so I renamed <code>index.blade.php</code> into <code>home.blade.php</code></p>\\n<p>And on the controller</p>\\n<p>I replaced:</p>\\n<pre><code>public function showIndex()\\n{\\n    return view('index');\\n}\\n</code></pre>\\n<p>Into:</p>\\n<pre><code>public function showIndex()\\n{\\n    return view('home');\\n}\\n</code></pre>\\n<p>And inside the route on <code>web.php</code>:\\nIn my case it's:</p>\\n<pre><code>Route::view('/', [HomeController::class, 'showIndex'])-&gt;name('home.index');\\n</code></pre>\\n<p>I hope this works as a solution to this error.</p>\\n\""
      ]
     },
     "metadata": {},
     "output_type": "display_data"
    },
    {
     "data": {
      "text/plain": [
       "'A:'"
      ]
     },
     "metadata": {},
     "output_type": "display_data"
    },
    {
     "data": {
      "text/plain": [
       "'<p>did you tried to copy/paste the package from another pc with vs studio installed ?</p>\\n'"
      ]
     },
     "metadata": {},
     "output_type": "display_data"
    },
    {
     "data": {
      "text/plain": [
       "'A:'"
      ]
     },
     "metadata": {},
     "output_type": "display_data"
    },
    {
     "data": {
      "text/plain": [
       "\"<p>This might be what you want:</p>\\n<pre><code>$ cat file | sort | tac | awk '{sub(&quot;/[^/]+$&quot;,&quot;&quot;)} index(prev,$0&quot;/&quot;) != 1{print} {prev=$0}'\\nsrc/services/wam-controller/api/server\\nsrc/services/wam-controller/api/client\\nsrc/services/sam-agent/server\\nsrc/services/sam-agent/certs\\nsrc/services/sam-agent/auth\\nsrc/services/jam-controller/client\\nsrc/services/jam-controller/api\\n</code></pre>\\n<p>Replace <code>cat file</code> with <code>find src/services/ -type f -name 'BUILD.bazel'</code> to give this input:</p>\\n<pre><code>$ cat file\\nsrc/services/sam-agent/BUILD.bazel\\nsrc/services/sam-agent/auth/BUILD.bazel\\nsrc/services/sam-agent/certs/BUILD.bazel\\nsrc/services/sam-agent/server/BUILD.bazel\\nsrc/services/jam-controller/BUILD.bazel\\nsrc/services/jam-controller/api/BUILD.bazel\\nsrc/services/jam-controller/client/BUILD.bazel\\nsrc/services/wam-controller/api/BUILD.bazel\\nsrc/services/wam-controller/api/client/BUILD.bazel\\nsrc/services/wam-controller/api/server/BUILD.bazel\\n</code></pre>\\n<p>The above assumes that none of your directory/file names contain newlines.</p>\\n\""
      ]
     },
     "metadata": {},
     "output_type": "display_data"
    },
    {
     "data": {
      "text/plain": [
       "'A:'"
      ]
     },
     "metadata": {},
     "output_type": "display_data"
    },
    {
     "data": {
      "text/plain": [
       "\"<p>Email enumeration protection only makes sense for apps where self-serve-signups are disabled (ie. Every user must be created by an admin).</p>\\n<p>If this wasn't the case, what should happen when a user tries to create an account with an already registered e-mail? Since the account cannot be created, en error must occur. If you try to obscure the error but it happens every time with that e-mail and not others, then what's happening would be obvious for an attacker.</p>\\n\""
      ]
     },
     "metadata": {},
     "output_type": "display_data"
    },
    {
     "data": {
      "text/plain": [
       "'A:'"
      ]
     },
     "metadata": {},
     "output_type": "display_data"
    },
    {
     "data": {
      "text/plain": [
       "'<p>If your <code>dob</code> column is consecutive, you can try to forward fill the <code>dob</code> column</p>\\n<pre class=\"lang-py prettyprint-override\"><code>df[\\'GID\\'] = df.groupby([df[\\'fname\\'].str[:2], df[\\'last_name\\'].str[:2], df[\\'dob\\'].ffill()]).ngroup()\\n</code></pre>\\n'"
      ]
     },
     "metadata": {},
     "output_type": "display_data"
    },
    {
     "data": {
      "text/plain": [
       "'A:'"
      ]
     },
     "metadata": {},
     "output_type": "display_data"
    },
    {
     "data": {
      "text/plain": [
       "'<p>Simply you need to use PATCH request since this is a partial resource update. If you consider above example your employee table will have a foreign key from department table.</p>\\n<pre><code>1 employee can have only 1 department -&gt; 1:1\\n1 department can have many employees  -&gt; 1:m\\n</code></pre>\\n<p>So, this will be a one to many mapping, you need to have a foreign key in employee table which is coming from department table. Usually when we update entire resource, we used PUT but here we only need to update department Id. Unlike PUT Request, PATCH does partial update e.g. Fields that need to be updated by the client, only that field is updated without modifying the other field. So, your answer should be PATCH.</p>\\n'"
      ]
     },
     "metadata": {},
     "output_type": "display_data"
    },
    {
     "data": {
      "text/plain": [
       "'A:'"
      ]
     },
     "metadata": {},
     "output_type": "display_data"
    },
    {
     "data": {
      "text/plain": [
       "'<pre><code>decoration: BoxDecoration(\\n      border: Border(\\n        top: BorderSide(width: 16.0, color: Colors.lightBlue.shade600),\\n        bottom: BorderSide(width: 16.0, color: Colors.lightBlue.shade900),\\n      ),\\n      color: Colors.white,\\n    ),\\n</code></pre>\\n'"
      ]
     },
     "metadata": {},
     "output_type": "display_data"
    },
    {
     "data": {
      "text/plain": [
       "'A:'"
      ]
     },
     "metadata": {},
     "output_type": "display_data"
    },
    {
     "data": {
      "text/plain": [
       "'<p>I have troubles to understand the generation of the A1 part . Could you help?</p>\\n<p>If I understand correctly, I need to:</p>\\n<p>1/ Compose the credentials part of A1 as a string: &quot;chris:elwood.innosoft.com:secret&quot;</p>\\n<p>2/ generate the MD5 hash as an array of bytes:\\n[-21, 90, 117, 0, 83, -28, -46, -61, 74, -88, 75, -68, -101, 11, 110, -25]</p>\\n<p>3/ Generate the string with the rest of A1:\\n&quot;:OA6MG9tEQGm2hh:OA6MHXh6VqTrRk&quot;</p>\\n<p>Then convert it as an array of bytes:\\n[58, 79, 65, 54, 77, 71, 57, 116, 69, 81, 71, 109, 50, 104, 104, 58, 79, 65, 54, 77, 72, 88, 104, 54, 86, 113, 84, 114, 82, 107]</p>\\n<p>4/ Concatenate the 2 bytes arrays:</p>\\n<p>[-21, 90, 117, 0, 83, -28, -46, -61, 74, -88, 75, -68, -101, 11, 110, -25, 58, 79, 65, 54, 77, 71, 57, 116, 69, 81, 71, 109, 50, 104, 104, 58, 79, 65, 54, 77, 72, 88, 104, 54, 86, 113, 84, 114, 82, 107]</p>\\n<p>5/ Convert it to an HEX string (or do I need to MD5 hash again the whole lot)?\\neb5a750053e4d2c34aa84bbc9b0b6ee73a4f41364d4739744551476d3268683a4f41364d4858683656715472526b</p>\\n<p>Help !\\nThanks in advance\\nLaurent</p>\\n'"
      ]
     },
     "metadata": {},
     "output_type": "display_data"
    },
    {
     "data": {
      "text/plain": [
       "'A:'"
      ]
     },
     "metadata": {},
     "output_type": "display_data"
    },
    {
     "data": {
      "text/plain": [
       "'<p>you can create a jsconfig.json file at your root folder and add these compiler option. <strong>chekJs</strong> will check the javascript errors and <strong>jsx</strong> will check the errors inside the jsx. Well this worked for me as i was also not getting any highlights but with these options it worked for me.</p>\\n<pre><code>{\\n  &quot;compilerOptions&quot;: {\\n   &quot;checkJs&quot;: true,\\n    &quot;jsx&quot;: &quot;react&quot;,\\n\\n      // these are just imports configuratoins\\n    &quot;baseUrl&quot;: &quot;.&quot;,\\n    &quot;paths&quot;: {\\n     &quot;@src/*&quot;: [&quot;src/*&quot;],\\n     &quot;@components/*&quot;: [&quot;src/components/*&quot;],\\n     &quot;@pages/*&quot;: [&quot;src/pages/*&quot;],\\n    &quot;@assets/*&quot;: [&quot;src/assets/*&quot;]\\n    }\\n  }\\n}\\n</code></pre>\\n'"
      ]
     },
     "metadata": {},
     "output_type": "display_data"
    },
    {
     "data": {
      "text/plain": [
       "'A:'"
      ]
     },
     "metadata": {},
     "output_type": "display_data"
    },
    {
     "data": {
      "text/plain": [
       "'<p>The <code>Factory</code> seems to be a nested class of <code>CheckDocument</code>. So it will be organized like this:</p>\\n<pre class=\"lang-java prettyprint-override\"><code>public class CheckDocument {\\n\\n    static class Factory {\\n         public CheckDocument newInstance() {\\n              return new CheckDocument();\\n         }\\n    }\\n}\\n</code></pre>\\n<p>You can manage the class accessibility with the <code>public</code> modifier.</p>\\n'"
      ]
     },
     "metadata": {},
     "output_type": "display_data"
    },
    {
     "data": {
      "text/plain": [
       "'A:'"
      ]
     },
     "metadata": {},
     "output_type": "display_data"
    },
    {
     "data": {
      "text/plain": [
       "\"<p>You'll need dynamic SQL for that.</p>\\n<p>Tables:</p>\\n<pre><code>SQL&gt; create table table_a (id, c_descr, c_sql) as\\n  2    (select 1, 'EMP' , 'select count(*) from emp'  from dual union all\\n  3     select 2, 'DEPT', 'select count(*) from dept' from dual);\\n\\nTable created.\\n\\nSQL&gt; create table table_b (c_descr varchar2(20), result number);\\n\\nTable created.\\n</code></pre>\\n<p>Procedure:</p>\\n<pre><code>SQL&gt; declare\\n  2    l_str table_a.c_sql%type;\\n  3    l_cnt number;\\n  4  begin\\n  5    for cur_r in (select c_descr, c_sql from table_a) loop\\n  6      execute immediate cur_r.c_sql into l_cnt;\\n  7      insert into table_b (c_descr, result) values (cur_r.c_descr, l_cnt);\\n  8    end loop;\\n  9  end;\\n 10  /\\n\\nPL/SQL procedure successfully completed.\\n</code></pre>\\n<p>Result:</p>\\n<pre><code>SQL&gt; select * from table_b;\\n\\nC_DESCR                  RESULT\\n-------------------- ----------\\nEMP                          14\\nDEPT                          4\\n\\nSQL&gt;\\n</code></pre>\\n<hr />\\n<p>If <code>select</code> statements really contain <code>group by</code> clauses, then result isn't just a single value, but set of them. For example:</p>\\n<pre><code>SQL&gt; select count(*) from emp group by deptno;\\n\\n  COUNT(*)\\n----------\\n         5\\n         6\\n         3\\n\\nSQL&gt;\\n</code></pre>\\n<p>In that case, it is still dynamic SQL, but this time target of the <code>into</code> clause isn't scalar variable but collection:</p>\\n<pre><code>SQL&gt; create table table_a (id, c_descr, c_sql) as\\n  2    select 3, 'EMP', 'select count(*) from emp group by deptno' from dual;\\n\\nTable created.\\n\\nSQL&gt; create table table_b (c_descr varchar2(20), result number);\\n\\nTable created.\\n</code></pre>\\n<p>Procedure:</p>\\n<pre><code>SQL&gt; declare\\n  2    l_str table_a.c_sql%type;\\n  3    l_coll sys.odcinumberlist;\\n  4  begin\\n  5    for cur_r in (select c_descr, c_sql from table_a) loop\\n  6      execute immediate cur_r.c_sql bulk collect into l_coll;\\n  7      insert into table_b (c_descr, result)\\n  8        select cur_r.c_descr, column_value\\n  9          from table(l_coll);\\n 10    end loop;\\n 11  end;\\n 12  /\\n\\nPL/SQL procedure successfully completed.\\n</code></pre>\\n<p>Result:</p>\\n<pre><code>SQL&gt; select * from table_b;\\n\\nC_DESCR                  RESULT\\n-------------------- ----------\\nEMP                           5\\nEMP                           6\\nEMP                           3\\n\\nSQL&gt;\\n</code></pre>\\n<hr />\\n<p><strong>[EDIT, based on your comment]</strong></p>\\n<p>Sure, you can &quot;concatenate&quot; result when query returns more than a single row (and you don't want to insert several rows into <code>table_B</code>, which is what my previous example does). In that case, one option is to use <code>listagg</code> function. Also, <code>result</code> column of <code>table_b</code> can't be <code>number</code> any more.</p>\\n<pre><code>SQL&gt; select * from table_a;\\n\\n        ID C_D C_SQL\\n---------- --- ----------------------------------------\\n         3 EMP select count(*) from emp group by deptno\\n\\nSQL&gt; alter table table_b modify result varchar2(20);\\n\\nTable altered.\\n\\nSQL&gt; declare\\n  2    l_str table_a.c_sql%type;\\n  3    l_coll sys.odcinumberlist;\\n  4  begin\\n  5    for cur_r in (select c_descr, c_sql from table_a) loop\\n  6      execute immediate cur_r.c_sql bulk collect into l_coll;\\n  7      insert into table_b (c_descr, result)\\n  8        select cur_r.c_descr, listagg(column_value, ', ') within group (order by null)\\n  9          from table(l_coll);\\n 10    end loop;\\n 11  end;\\n 12  /\\n\\nPL/SQL procedure successfully completed.\\n\\nSQL&gt; select * from table_b;\\n\\nC_DESCR              RESULT\\n-------------------- --------------------\\nEMP                  5, 6, 3\\n\\nSQL&gt;\\n</code></pre>\\n<hr />\\n<p><strong>[Yet another edit, based on a new comment]</strong></p>\\n<p>If you'd want to include additional column(s) into query, the simplest option is to pre-concatenate them in <code>select</code> statement. Something like this:</p>\\n<pre><code>SQL&gt; select * from table_a;\\n\\n        ID C_D C_SQL\\n---------- --- -------------------------------------------------------\\n         3 EMP select count(*) ||'-'|| deptno from emp group by deptno\\n</code></pre>\\n<p><code>l_coll</code> is now <code>sys.odcivarchar2list</code> (previously, it was <code>sys.odcinumberlist</code> as it contained numbers only):</p>\\n<pre><code>SQL&gt; declare\\n  2    l_coll sys.odcivarchar2list;\\n  3  begin\\n  4    for cur_r in (select c_descr, c_sql from table_a) loop\\n  5      execute immediate cur_r.c_sql bulk collect into l_coll;\\n  6      insert into table_b (c_descr, result)\\n  7        select cur_r.c_descr, listagg(column_value, ', ') within group (order by null)\\n  8          from table(l_coll);\\n  9    end loop;\\n 10  end;\\n 11  /\\n\\nPL/SQL procedure successfully completed.\\n</code></pre>\\n<p>Result:</p>\\n<pre><code>SQL&gt; select * from table_b;\\n\\nC_DESCR              RESULT\\n-------------------- ----------------------------------------\\nEMP                  3-10, 5-20, 6-30\\n\\nSQL&gt;\\n</code></pre>\\n\""
      ]
     },
     "metadata": {},
     "output_type": "display_data"
    },
    {
     "data": {
      "text/plain": [
       "'A:'"
      ]
     },
     "metadata": {},
     "output_type": "display_data"
    },
    {
     "data": {
      "text/plain": [
       "'<p>As I mentioned in the comments its not really possible to sort the order of the SettingsPropertyCollection since its using an hashtable.</p>\\n<p>Thank you guys for your replys.</p>\\n'"
      ]
     },
     "metadata": {},
     "output_type": "display_data"
    },
    {
     "data": {
      "text/plain": [
       "'A:'"
      ]
     },
     "metadata": {},
     "output_type": "display_data"
    },
    {
     "data": {
      "text/plain": [
       "'<pre><code>onSubmit={(values)=&gt;{\\n            const {confirmPassword,...data}=values;\\n            console.warn(data)\\n        }}\\n        \\n</code></pre>\\n'"
      ]
     },
     "metadata": {},
     "output_type": "display_data"
    },
    {
     "data": {
      "text/plain": [
       "'A:'"
      ]
     },
     "metadata": {},
     "output_type": "display_data"
    },
    {
     "data": {
      "text/plain": [
       "'<p>Had this issue when moving from a requirement.txt file to using Poetry.</p>\\n<p>If you want to run the command in windows using cmd you can run it as a .bat file:</p>\\n<pre><code>for /f &quot;tokens=*&quot; %%i in (requirements.txt) do (\\n    poetry add %%i\\n)\\n</code></pre>\\n'"
      ]
     },
     "metadata": {},
     "output_type": "display_data"
    },
    {
     "data": {
      "text/plain": [
       "'A:'"
      ]
     },
     "metadata": {},
     "output_type": "display_data"
    },
    {
     "data": {
      "text/plain": [
       "'<p>You can get CSS syntax highlighting in IntelliJ Community Edition via <a href=\"https://plugins.jetbrains.com/plugin/7221-textmate-bundles\" rel=\"nofollow noreferrer\">TextMate Bundles</a> plugin. The plugin is built-in in modern versions of IDEA and has built-in CSS bundle but to make it work you have to remove CSS from <code>Recognized File Types</code>:</p>\\n<ul>\\n<li>Go to <code>Settings &gt; Editor &gt; File Types &gt; CSS (syntax highlighting only)</code></li>\\n<li>Remove <code>*.css</code> from <code>File name patterns</code>\\n<a href=\"https://i.stack.imgur.com/sXPtN.png\" rel=\"nofollow noreferrer\"><img src=\"https://i.stack.imgur.com/sXPtN.png\" alt=\"Settings &gt; Editor &gt; File Types &gt; CSS (syntax highlighting only)\" /></a></li>\\n</ul>\\n<p>Before:\\n<a href=\"https://i.stack.imgur.com/JwyAc.png\" rel=\"nofollow noreferrer\"><img src=\"https://i.stack.imgur.com/JwyAc.png\" alt=\"Default CSS syntax highlighting in IntelliJ Community Edition\" /></a></p>\\n<p>After:\\n<a href=\"https://i.stack.imgur.com/eXbbo.png\" rel=\"nofollow noreferrer\"><img src=\"https://i.stack.imgur.com/eXbbo.png\" alt=\"TextMate syntax highlighting for CSS in IntelliJ Community Edition\" /></a></p>\\n'"
      ]
     },
     "metadata": {},
     "output_type": "display_data"
    },
    {
     "data": {
      "text/plain": [
       "'A:'"
      ]
     },
     "metadata": {},
     "output_type": "display_data"
    },
    {
     "data": {
      "text/plain": [
       "'<p>Once you declare a table alias, you must, from that point on, always refer to columns from that table via the table alias:</p>\\n<pre><code>SELECT\\n      ds.id\\n    , ds.ActivityDay AS dsActvityDay\\n    , ds.StepTotal\\n    , dc.id\\n    , dc.ActivityDay AS dcActvityDay\\n    , dc.Calories\\nFROM PUBLIC.dailySteps AS ds\\nLEFT JOIN PUBLIC.dailyCalories AS dc ON ds.ActivityDay = dc.ActivityDay\\n</code></pre>\\n<p>nb: use the aliases in the join conditions also.</p>\\n'"
      ]
     },
     "metadata": {},
     "output_type": "display_data"
    },
    {
     "data": {
      "text/plain": [
       "'A:'"
      ]
     },
     "metadata": {},
     "output_type": "display_data"
    },
    {
     "data": {
      "text/plain": [
       "'<p>As per the Vuetify library, we couldn\\'t expect a change event to trigger.</p>\\n<p>VSelect</p>\\n<pre><code> component offer @update:modelValue event to listen to options modifications. \\n\\n\\n&lt;template&gt;\\n  &lt;v-app&gt;\\n   &lt;VCol v-for=&quot;data in datas&quot; :key=&quot;data.id&quot;&gt;\\n     &lt;VSelect\\n       chips\\n       label=&quot;Testing&quot;\\n             v-model=&quot;data.status&quot;\\n      :items=&quot;data.items&quot;\\n      @update:modelValue=&quot;onValueChange&quot;\\n     &gt;&lt;/VSelect&gt;\\n   &lt;/VCol&gt;\\n  &lt;/v-app&gt;\\n&lt;/template&gt;\\n\\n&lt;script setup&gt;\\nimport { ref } from \\'vue\\'\\n\\nconst datas = ref([{id: 1, status: 1, items:[1,2,3]}, {id:2,  status: 2, items:[1,2,3]}, {id:3,  status: 3, items:[1,2,3]}]);\\n  \\nfunction onValueChange(v) {\\n  console.log(&quot;Value updated &quot;, v)\\n}\\n&lt;/script&gt;\\n</code></pre>\\n<p>You can find same at below Vuetify playground.</p>\\n<p><a href=\"https://play.vuetifyjs.com/#eNqlVE1v4jAQ/SsjXwpSPhbYU5ZWrPgJu+oFc3CTAbxNbMt2sqoQ/33HdmCB9lCpyiEznjfz5j1H2RzZT2OKoUdWsaXHzrTC4xNXAMshF8bEEJbPa93CkO+0feSsEV6AVBDejjOoXvFtPC5kw1nqCV2/sMXajylAfZDGXbJWvGBLfb/Rean2nHHFfXiIqNNNrMWZzgvfE9G5s5K0qLswhuR/cdUbOsYqTngWbY8E1CpG64NQe7xgn5bluOGosgwyk/jyrH5ZXrlCqautNB4c+j6UZWe09XAEizs4wc7qDh7IzocArrVyPtkEjwEx2RxlU8Esg6QphlFAtZll82yxPWUQIPMMLhCKP4IsriAU30K20x9BBle7XtVeagU3FkyGKRwDIGyoWyxavZ9wFhGQDGyAswyGKVenYEKSTYJZxpLmvBOm+OO0oi8nzuJjgS6jStPDGXkRcs4O3htXlWXdKGqjy5GDLRT6UpmuXBGstL3yssO80d1qUSyKb7lozUEUs3nZSOev6wW6Ln+x+q9DS9No1Ss+L3dvn+AckUQ1K2bfE8V4ltO36QLHu9klEQ5oc4uqQYv2s9ru2j7Ud4d5pzGsQZdxoitopXp1d+7XLjq/OW/7NfFxWhi1TYxr3Z3/E+yUsdv9qZ4Gse0/q/5syg==\" rel=\"nofollow noreferrer\">https://play.vuetifyjs.com/#eNqlVE1v4jAQ/SsjXwpSPhbYU5ZWrPgJu+oFc3CTAbxNbMt2sqoQ/33HdmCB9lCpyiEznjfz5j1H2RzZT2OKoUdWsaXHzrTC4xNXAMshF8bEEJbPa93CkO+0feSsEV6AVBDejjOoXvFtPC5kw1nqCV2/sMXajylAfZDGXbJWvGBLfb/Rean2nHHFfXiIqNNNrMWZzgvfE9G5s5K0qLswhuR/cdUbOsYqTngWbY8E1CpG64NQe7xgn5bluOGosgwyk/jyrH5ZXrlCqautNB4c+j6UZWe09XAEizs4wc7qDh7IzocArrVyPtkEjwEx2RxlU8Esg6QphlFAtZll82yxPWUQIPMMLhCKP4IsriAU30K20x9BBle7XtVeagU3FkyGKRwDIGyoWyxavZ9wFhGQDGyAswyGKVenYEKSTYJZxpLmvBOm+OO0oi8nzuJjgS6jStPDGXkRcs4O3htXlWXdKGqjy5GDLRT6UpmuXBGstL3yssO80d1qUSyKb7lozUEUs3nZSOev6wW6Ln+x+q9DS9No1Ss+L3dvn+AckUQ1K2bfE8V4ltO36QLHu9klEQ5oc4uqQYv2s9ru2j7Ud4d5pzGsQZdxoitopXp1d+7XLjq/OW/7NfFxWhi1TYxr3Z3/E+yUsdv9qZ4Gse0/q/5syg==</a></p>\\n'"
      ]
     },
     "metadata": {},
     "output_type": "display_data"
    },
    {
     "data": {
      "text/plain": [
       "'A:'"
      ]
     },
     "metadata": {},
     "output_type": "display_data"
    },
    {
     "data": {
      "text/plain": [
       "'<p>I was using Azure SQL DB so I followed suggestion on -https://learn.microsoft.com/en-us/answers/questions/1109311/i-want-to-scaffold-dbcontext-efcore-in-net-6-web-a</p>\\n'"
      ]
     },
     "metadata": {},
     "output_type": "display_data"
    },
    {
     "data": {
      "text/plain": [
       "'A:'"
      ]
     },
     "metadata": {},
     "output_type": "display_data"
    },
    {
     "data": {
      "text/plain": [
       "\"<p>Exception has occurred.\\n_AssertionError ('package:flutter/src/material/bottom_navigation_bar.dart': Failed assertion: line 205 pos 9: 'items.every((BottomNavigationBarItem item) =&gt; item.label != null)': Every item must have a non-null label)</p>\\n\""
      ]
     },
     "metadata": {},
     "output_type": "display_data"
    },
    {
     "data": {
      "text/plain": [
       "'A:'"
      ]
     },
     "metadata": {},
     "output_type": "display_data"
    },
    {
     "data": {
      "text/plain": [
       "'<p>In SSMS 18, you can use for multiple selection the next occurrence: <code>Alt</code> + <code>Shift</code> + <code>.</code></p>\\n'"
      ]
     },
     "metadata": {},
     "output_type": "display_data"
    },
    {
     "data": {
      "text/plain": [
       "'A:'"
      ]
     },
     "metadata": {},
     "output_type": "display_data"
    },
    {
     "data": {
      "text/plain": [
       "'<p>You just have the false impression that the file were truncated, since you look at its content before it has been closed or flushed.</p>\\n'"
      ]
     },
     "metadata": {},
     "output_type": "display_data"
    },
    {
     "data": {
      "text/plain": [
       "'A:'"
      ]
     },
     "metadata": {},
     "output_type": "display_data"
    },
    {
     "data": {
      "text/plain": [
       "'<p>You can identify sequences of the same values with run length encoding. <code>vctrs::vec_identify_runs()</code>, <code>dplyr::consecutive_id()</code>, or <code>data.table::rleid()</code> return to what run a value belongs, which makes a good grouping variable in your case.</p>\\n<pre class=\"lang-r prettyprint-override\"><code>library(ggplot2)\\n\\ndf &lt;- data.frame(\\n  x = factor(1:20),\\n  y = sample(c(-1, 0, 1), 20, replace = TRUE)\\n)\\n\\nggplot(df, aes(x, y)) +\\n  geom_point() +\\n  geom_line(aes(group = vctrs::vec_identify_runs(y)),\\n            colour = &quot;red&quot;)\\n</code></pre>\\n<p><img src=\"https://i.imgur.com/BWoJeBO.png\" alt=\"\" /></p>\\n<p><sup>Created on 2023-04-19 with <a href=\"https://reprex.tidyverse.org\" rel=\"nofollow noreferrer\">reprex v2.0.2</a></sup></p>\\n'"
      ]
     },
     "metadata": {},
     "output_type": "display_data"
    },
    {
     "data": {
      "text/plain": [
       "'A:'"
      ]
     },
     "metadata": {},
     "output_type": "display_data"
    },
    {
     "data": {
      "text/plain": [
       "'<p>I hope this helps, Add angular.json as shown in the photo  <a href=\"https://i.stack.imgur.com/kYzzF.png\" rel=\"nofollow noreferrer\">enter image description here</a></p>\\n'"
      ]
     },
     "metadata": {},
     "output_type": "display_data"
    },
    {
     "data": {
      "text/plain": [
       "'A:'"
      ]
     },
     "metadata": {},
     "output_type": "display_data"
    },
    {
     "data": {
      "text/plain": [
       "\"<p>To generate a number and character sequence in Java from a range of <code>A-F</code> and <code>1-11</code>, you can use this function <code>generateAirplaneSeats</code> which takes the number of rows and the number of airplane seats per row as method parameters, and then returns an array of strings representing airplane seats:</p>\\n<pre><code>public static String[] generateAirplaneSeats(final int numberRows, final int numberSeatsPerRow) {\\n        String[] airplaneSeats = new String[numberRows * numberSeatsPerRow];\\n\\n        for(int row = 1; row &lt;= numberRows; row++) {\\n            for(int seat = 0; seat &lt; numberSeatsPerRow; seat++) {\\n                char airplaneSeatLetter = getAirplaneSeatLetter(seat);\\n                String airplaneSeatNumber = getAirplaneSeatNumber(row, airplaneSeatLetter);\\n                airplaneSeats[(row - 1) * numberSeatsPerRow + seat] = airplaneSeatNumber;\\n            }\\n        }\\n\\n        return airplaneSeats;\\n    }\\n</code></pre>\\n<p>Where the function <code>getAirplaneSeatLetter</code> takes a airplane seat index as a method parameter and then returns the appropriate airplane seat letter.</p>\\n<p>For example, if the seat index is <code>0</code>, it means that it corresponds to the first seat in a row, which would be seat <code>A</code>. Therefore, the function <code>getAirplaneSeatLetter(0)</code> would return the character <code>A</code>.</p>\\n<pre><code>    public static char getAirplaneSeatLetter(final int seatIndex) {\\n        return (char) ('A' + seatIndex);\\n    }\\n</code></pre>\\n<p>Where the function<code>getAirplaneSeatNumber</code> takes a row number and a airplane seat letter as method parameters and then returns the appropriate airplane seat number.</p>\\n<p>For example, if the row number is <code>1</code> and the airplane seat letter is <code>A</code>, that corresponds to the first seat in the first row, which would be seat <code>1A</code>. Therefore, the function <code>getAirplaneSeatNumber(1, 'A')</code> would return the string <code>1A</code>.</p>\\n<pre><code>    public static String getAirplaneSeatNumber(final int row, final char airplaneSeatLetter) {\\n        return row + String.valueOf(airplaneSeatLetter);\\n    }\\n</code></pre>\\n\""
      ]
     },
     "metadata": {},
     "output_type": "display_data"
    },
    {
     "data": {
      "text/plain": [
       "'A:'"
      ]
     },
     "metadata": {},
     "output_type": "display_data"
    },
    {
     "data": {
      "text/plain": [
       "'<p>value of window function can only be accessed after thwe query has run, so using a second CTE will do the trick</p>\\n<pre><code>with my_table (id, student, category, score)\\nas (values \\n(1, \\'Alex\\', \\'A\\', 11),\\n(2, \\'Alex\\', \\'D\\', 4),\\n(2, \\'Alex\\', \\'B\\', 50),\\n(2, \\'Alex\\', \\'C\\', 83),\\n(2, \\'Alex\\', \\'D\\', 5),\\n(3, \\'Bill\\', \\'A\\', 81),\\n(6, \\'Carl\\', \\'C\\', 5),\\n(7, \\'Carl\\', \\'D\\', 2),\\n(7, \\'Carl\\', \\'B\\', 21),\\n(7, \\'Carl\\', \\'A\\', 55),\\n(7, \\'Carl\\', \\'A\\', 86),\\n(7, \\'Carl\\', \\'D\\', 10)\\n),\\nCTE2 as (select *,\\n     row_number() over (partition by student order by random()) as row_sort\\nfrom my_table)\\nSELECT id, student, category, score\\n  FROM CTE2\\nWHERE row_sort &lt;= 2\\n</code></pre>\\n<div class=\"s-table-container\">\\n<table class=\"s-table\">\\n<thead>\\n<tr>\\n<th style=\"text-align: right;\">id</th>\\n<th style=\"text-align: left;\">student</th>\\n<th style=\"text-align: left;\">category</th>\\n<th style=\"text-align: right;\">score</th>\\n</tr>\\n</thead>\\n<tbody>\\n<tr>\\n<td style=\"text-align: right;\">2</td>\\n<td style=\"text-align: left;\">Alex</td>\\n<td style=\"text-align: left;\">C</td>\\n<td style=\"text-align: right;\">83</td>\\n</tr>\\n<tr>\\n<td style=\"text-align: right;\">2</td>\\n<td style=\"text-align: left;\">Alex</td>\\n<td style=\"text-align: left;\">D</td>\\n<td style=\"text-align: right;\">5</td>\\n</tr>\\n<tr>\\n<td style=\"text-align: right;\">3</td>\\n<td style=\"text-align: left;\">Bill</td>\\n<td style=\"text-align: left;\">A</td>\\n<td style=\"text-align: right;\">81</td>\\n</tr>\\n<tr>\\n<td style=\"text-align: right;\">7</td>\\n<td style=\"text-align: left;\">Carl</td>\\n<td style=\"text-align: left;\">A</td>\\n<td style=\"text-align: right;\">86</td>\\n</tr>\\n<tr>\\n<td style=\"text-align: right;\">7</td>\\n<td style=\"text-align: left;\">Carl</td>\\n<td style=\"text-align: left;\">B</td>\\n<td style=\"text-align: right;\">21</td>\\n</tr>\\n</tbody>\\n</table>\\n</div>\\n<blockquote>\\n<pre><code>SELECT 5\\n</code></pre>\\n</blockquote>\\n<p><a href=\"https://dbfiddle.uk/SMZrngWg\" rel=\"nofollow noreferrer\">fiddle</a></p>\\n'"
      ]
     },
     "metadata": {},
     "output_type": "display_data"
    },
    {
     "data": {
      "text/plain": [
       "'A:'"
      ]
     },
     "metadata": {},
     "output_type": "display_data"
    },
    {
     "data": {
      "text/plain": [
       "'<pre><code>Select * from (\\nSelect *,Row_Number() Over(Order By ID ASC) RN From Table \\n) as vw\\nwhere RN &gt;10\\n</code></pre>\\n'"
      ]
     },
     "metadata": {},
     "output_type": "display_data"
    },
    {
     "data": {
      "text/plain": [
       "'A:'"
      ]
     },
     "metadata": {},
     "output_type": "display_data"
    },
    {
     "data": {
      "text/plain": [
       "'<p>The <code>getMovieList()</code> function is called asynchronously, which means that the default behaviour of the <code>&lt;a&gt;</code> link is called before the function is executed.</p>\\n<p>Use <code>event.preventDefault();</code> in the event handler, and change the <code>href</code> manually from the function body.</p>\\n<p><div class=\"snippet\" data-lang=\"js\" data-hide=\"false\" data-console=\"true\" data-babel=\"false\">\\r\\n<div class=\"snippet-code\">\\r\\n<pre class=\"snippet-code-js lang-js prettyprint-override\"><code>function getMovieList() {\\n  alert(\\'movie list\\');\\n  location.href=\"index.html\";\\n  }</code></pre>\\r\\n<pre class=\"snippet-code-html lang-html prettyprint-override\"><code>&lt;li&gt;\\n   &lt;a href=\"index.html\" onclick=\"event.preventDefault();getMovieList()\"&gt;language&lt;/a&gt;\\n&lt;/li&gt;</code></pre>\\r\\n</div>\\r\\n</div>\\r\\n</p>\\n'"
      ]
     },
     "metadata": {},
     "output_type": "display_data"
    },
    {
     "data": {
      "text/plain": [
       "'A:'"
      ]
     },
     "metadata": {},
     "output_type": "display_data"
    },
    {
     "data": {
      "text/plain": [
       "'<p>Just one more query to the above.</p>\\n<p>les say the current state of my app is &quot;Developer Rejected&quot;</p>\\n<p>Can i make changes store meta data and resubmit the same build version which i had rejected ?</p>\\n<p>Answers would be helpful</p>\\n'"
      ]
     },
     "metadata": {},
     "output_type": "display_data"
    },
    {
     "data": {
      "text/plain": [
       "'A:'"
      ]
     },
     "metadata": {},
     "output_type": "display_data"
    },
    {
     "data": {
      "text/plain": [
       "'<p>In Windows, no external tools needed, just powershell:</p>\\n<p>Import cert file to variable $cert</p>\\n<pre><code>$path = &quot;path-to-file&quot;\\n$cert = New-Object Security.Cryptography.X509Certificates.X509Certificate2([string]$path)\\n</code></pre>\\n<p>To view all content of certificate, type</p>\\n<pre><code>$cert | select *\\n</code></pre>\\n<p>Should work for other cert extensions as well.</p>\\n'"
      ]
     },
     "metadata": {},
     "output_type": "display_data"
    },
    {
     "data": {
      "text/plain": [
       "'A:'"
      ]
     },
     "metadata": {},
     "output_type": "display_data"
    },
    {
     "data": {
      "text/plain": [
       "'<p>I updated my visual studio 2022 and Visual studio now shows all android devices.</p>\\n'"
      ]
     },
     "metadata": {},
     "output_type": "display_data"
    },
    {
     "data": {
      "text/plain": [
       "'A:'"
      ]
     },
     "metadata": {},
     "output_type": "display_data"
    },
    {
     "data": {
      "text/plain": [
       "\"<p>You could try:</p>\\n<pre><code>Sub Copy()\\n\\nDim ws As Worksheet\\nDim LastRowSource As Long, LastRowDestination As Long\\n\\n'Loop all worksheets\\nFor Each ws In ThisWorkbook.Worksheets\\n    With ws\\n    'Check worksheet name. Do not copy from worksheet named &quot;All Lets&quot;. &quot;All Lets&quot; is the destination\\n        If .Name &lt;&gt; &quot;All Lets&quot; Then\\n            'Find the last row of the source worksheet\\n            LastRowSource = .Cells(.Rows.Count, &quot;A&quot;).End(xlUp).Row\\n            'Check if the last row is greater than 1, this means that it has data\\n            If LastRowSource &gt; 1 Then\\n                With ThisWorkbook.Worksheets(&quot;All Lets&quot;)\\n                    'Find the last row of the destination worksheet\\n                    LastRowDestination = .Cells(.Rows.Count, &quot;A&quot;).End(xlUp).Row\\n                    'Copy &amp; paste the data in the next empty cell\\n                    ws.Range(&quot;A2:A&quot; &amp; LastRowSource).Copy .Range(&quot;A&quot; &amp; LastRowDestination + 1)\\n                End With\\n            End If\\n        End If\\n    End With\\nNext\\n\\nEnd Sub\\n</code></pre>\\n\""
      ]
     },
     "metadata": {},
     "output_type": "display_data"
    },
    {
     "data": {
      "text/plain": [
       "'A:'"
      ]
     },
     "metadata": {},
     "output_type": "display_data"
    },
    {
     "data": {
      "text/plain": [
       "'<p>I installed the most recent template a couple of days ago. Turns out this is based on version 6.0.13. After updating it to 6.2.2 it now works.</p>\\n'"
      ]
     },
     "metadata": {},
     "output_type": "display_data"
    },
    {
     "data": {
      "text/plain": [
       "'A:'"
      ]
     },
     "metadata": {},
     "output_type": "display_data"
    },
    {
     "data": {
      "text/plain": [
       "'<p>Running mysql_upgrade.exe found in \\\\xampp\\\\mysql\\\\bin fixed the issue for me.</p>\\n'"
      ]
     },
     "metadata": {},
     "output_type": "display_data"
    },
    {
     "data": {
      "text/plain": [
       "'A:'"
      ]
     },
     "metadata": {},
     "output_type": "display_data"
    },
    {
     "data": {
      "text/plain": [
       "\"<p>You should make the method with the type <code>TDto</code>, now you're using <code>JsonStrategy&lt;TDto&gt;</code></p>\\n<pre><code>var dtoType = strategyType.GetGenericArguments()[0];\\nMethodInfo generic = method.MakeGenericMethod(new Type[] { dtoType });\\n</code></pre>\\n\""
      ]
     },
     "metadata": {},
     "output_type": "display_data"
    },
    {
     "data": {
      "text/plain": [
       "'A:'"
      ]
     },
     "metadata": {},
     "output_type": "display_data"
    },
    {
     "data": {
      "text/plain": [
       "'<p>The answer that Michael gave tells you what data type should you use in your Spring app and you can either create a list of LocalDateTime values to store all the available times or you can implement that rather in your front-end because it would be a lot easier to have an array of hours from your open time until your closing time and retrieving the existing appointments only showing the hours that the doctor is available. After all the implementation would be a lot easier in the front-end assuming you implement one.</p>\\n'"
      ]
     },
     "metadata": {},
     "output_type": "display_data"
    },
    {
     "data": {
      "text/plain": [
       "'A:'"
      ]
     },
     "metadata": {},
     "output_type": "display_data"
    },
    {
     "data": {
      "text/plain": [
       "'<p>I have react-native 0.69.6, node v14.21.3, xcode 14.3 and M1 Chip Mac.</p>\\n<p>First i created this clean.js script and added it to scripts folder to be able to clean the code.</p>\\n<p><div class=\"snippet\" data-lang=\"js\" data-hide=\"false\" data-console=\"true\" data-babel=\"false\">\\r\\n<div class=\"snippet-code\">\\r\\n<pre class=\"snippet-code-js lang-js prettyprint-override\"><code>const exec = require(\\'shell-utils\\').exec\\nconst path = require(\\'os\\').tmpdir()\\n\\nrun()\\n\\nfunction run() {\\n  exec.killPort(8081)\\n  exec.execSync(`watchman watch-del-all || true`)\\n  exec.execSync(\\n    `rm -rf ios/build &amp;&amp; (killall Xcode || true) &amp;&amp; cd ios &amp;&amp; xcrun -k &amp;&amp; xcodebuild -alltargets clean &amp;&amp; cd ..`\\n  )\\n  exec.execSync(`rm -rf node_modules`)\\n  exec.execSync(`rm -rf ~/.rncache`)\\n  exec.execSync(`rm -rf \"$(getconf DARWIN_USER_CACHE_DIR)/org.llvm.clang/ModuleCache\"`)\\n  exec.execSync(`rm -rf \"$(getconf DARWIN_USER_CACHE_DIR)/org.llvm.clang.$(whoami)/ModuleCache\"`)\\n  exec.execSync(`rm -rf ~/Library/Developer/Xcode/DerivedData/`)\\n  exec.execSync(`rm -fr ~/Library/Caches/com.apple.dt.Xcode/`)\\n  exec.execSync(`rm -rf ios/DerivedData/*`)\\n  exec.execSync(`rm -rf ios/Pods`)\\n  exec.execSync(`rm -rf ios/build`)\\n  exec.execSync(`rm -rf android/build`)\\n  exec.execSync(`rm -rf lib/android/build`)\\n  exec.execSync(`rm -rf android/app/build`)\\n  exec.execSync(`rm -rf lib/android/app/build`)\\n  exec.execSync(`rm -rf ${path}/react-native-packager-cache-*`)\\n  exec.execSync(`rm -rf ${path}/metro-*`)\\n  exec.execSync(`rm -rf ${path}/react-*`)\\n  exec.execSync(`rm -rf ${path}/haste-*`)\\n  exec.execSync(`npm i`)\\n}</code></pre>\\r\\n</div>\\r\\n</div>\\r\\n</p>\\n<p>I added this code to package.json into scripts</p>\\n<pre><code>&quot;clean&quot;: &quot;node ./scripts/clean&quot;,\\n</code></pre>\\n<p>I run this script via <code>npm run clean</code></p>\\n<p>then <code>cd ios/</code> and <code>pod install</code></p>\\n<p>After this clean up I restarted my computer and resolved this issue.</p>\\n'"
      ]
     },
     "metadata": {},
     "output_type": "display_data"
    },
    {
     "data": {
      "text/plain": [
       "'A:'"
      ]
     },
     "metadata": {},
     "output_type": "display_data"
    },
    {
     "data": {
      "text/plain": [
       "'<p>Wrap your select into outer one and add <code>where row_sort&lt;=2</code>:</p>\\n<pre class=\"lang-sql prettyprint-override\"><code>select id, student, category, score\\n  from(\\nselect *,\\n     row_number() over (partition by student order by random()) as row_sort\\nfrom my_table) inner_t\\nwhere row_sort&lt;=2\\n</code></pre>\\n<p>Demo <a href=\"https://dbfiddle.uk/56ajjc09\" rel=\"nofollow noreferrer\">here</a>.</p>\\n<div class=\"s-table-container\">\\n<table class=\"s-table\">\\n<thead>\\n<tr>\\n<th>id</th>\\n<th>student</th>\\n<th>category</th>\\n<th>score</th>\\n</tr>\\n</thead>\\n<tbody>\\n<tr>\\n<td>2</td>\\n<td>Alex</td>\\n<td>D</td>\\n<td>5</td>\\n</tr>\\n<tr>\\n<td>2</td>\\n<td>Alex</td>\\n<td>B</td>\\n<td>50</td>\\n</tr>\\n<tr>\\n<td>3</td>\\n<td>Bill</td>\\n<td>A</td>\\n<td>81</td>\\n</tr>\\n<tr>\\n<td>7</td>\\n<td>Carl</td>\\n<td>D</td>\\n<td>10</td>\\n</tr>\\n<tr>\\n<td>7</td>\\n<td>Carl</td>\\n<td>A</td>\\n<td>55</td>\\n</tr>\\n</tbody>\\n</table>\\n</div>'"
      ]
     },
     "metadata": {},
     "output_type": "display_data"
    },
    {
     "data": {
      "text/plain": [
       "'A:'"
      ]
     },
     "metadata": {},
     "output_type": "display_data"
    },
    {
     "data": {
      "text/plain": [
       "'<p>According to my tests, LazyColumn will <strong>NOT</strong> recompose items as long as you provide the key, even if the it\\'s from <code>State&lt;List&lt;T&gt;</code>.</p>\\n<p>My test sample:</p>\\n<pre class=\"lang-kotlin prettyprint-override\"><code>\\nclass MainActivity : ComponentActivity() {\\n    override fun onCreate(savedInstanceState: Bundle?) {\\n        super.onCreate(savedInstanceState)\\n        setContent {\\n            TestSampleTheme {\\n                // A surface container using the \\'background\\' color from the theme\\n                Surface(\\n                    modifier = Modifier.fillMaxSize(),\\n                    color = MaterialTheme.colorScheme.background\\n                ) {\\n                    val vm: SimpleViewModel = viewModel()\\n                    val list by vm.list.collectAsState()\\n                    SimplePage(\\n                        list = list,\\n                        onClick = {\\n                            vm.add()\\n                            vm.shuffle()\\n                        },\\n                    )\\n                }\\n            }\\n        }\\n    }\\n}\\n\\n@OptIn(ExperimentalFoundationApi::class)\\n@Composable\\nfun SimplePage(\\n    list: List&lt;Int&gt;,\\n    onClick: () -&gt; Unit,\\n) {\\n\\n    Column(\\n        verticalArrangement = Arrangement.Center,\\n        horizontalAlignment = Alignment.CenterHorizontally,\\n    ) {\\n        LazyColumn(\\n        ) {\\n            items(\\n                list,\\n                key = { it }\\n            ) {\\n                Text(\\n                    modifier = Modifier.animateItemPlacement(),\\n                    text = it.toString()\\n                )\\n            }\\n        }\\n        Button(onClick = onClick) {\\n        }\\n    }\\n\\n}\\n\\nclass SimpleViewModel : ViewModel() {\\n    //    val list = MutableStateFlow(listOf(1, 5, 8, 3, 7, 6))\\n    val list = MutableStateFlow(listOf(0))\\n\\n    fun shuffle() = list.update {\\n        it.toMutableList().apply {\\n            shuffle()\\n        }\\n    }\\n\\n    fun add() = list.update {\\n        it.toMutableList().apply {\\n            add(max() + 1)\\n        }\\n    }\\n}\\n\\n</code></pre>\\n<p>Here, <code>Modifier.animateItemPlacement()</code> only works when you ensure unique <code>key</code> other than positional. And <code>key</code> itself ensures no recomposition for the same item. <a href=\"https://stackoverflow.com/a/70596559/13519865\">https://stackoverflow.com/a/70596559/13519865</a></p>\\n<p><a href=\"https://stackoverflow.com/a/68794279/13519865\">https://stackoverflow.com/a/68794279/13519865</a></p>\\n<p>Finally, <code>animateItemPlacement</code> works, thus key used nicely.</p>\\n<p>So, we can safely assume that we can use <code>State&lt;List&lt;T&gt;</code> for it\\'s Flow operation benefits without thinking much about recomposition cost.</p>\\n'"
      ]
     },
     "metadata": {},
     "output_type": "display_data"
    },
    {
     "data": {
      "text/plain": [
       "'A:'"
      ]
     },
     "metadata": {},
     "output_type": "display_data"
    },
    {
     "data": {
      "text/plain": [
       "'<p>I will answer with my thoughts and what I understood from your comments, as comments section will not be enough to describe what I need to say.</p>\\n<p>I hope this can give you some hints.</p>\\n<p>If you have multiple recipes that you want to collect all packages together, or you want to specify some recipes and collect all source files used, then this can be a big work to do, let me give some ideas and then comment on this answer for more clarification:</p>\\n<p>If you want to collect only the final packages (rpm, ipk, deb), you can just develop a simple script that runs inside <code>tmp/deploy/&lt;package_type&gt;</code> and collect the packages. If you want to do it from inside Yocto, then you can use the <code>${WORKDIR}/oe-rootfs-repo</code> folder of your image recipe, it has all packages used to construct the rootfs. Maybe a <code>prepend</code> on <code>do_roofs</code> or other task that zip that full directory.</p>\\n<p>Now, if you want to collect all source files, this will get more harder, as sources vary: from git, local, svn, ftp, .. ?\\nYou need to:</p>\\n<ol>\\n<li>Loop through all recipes of your final image</li>\\n<li>Get <code>WORKDIR</code> of each one</li>\\n<li>Extract the sources unpacked there in a common place for all recipes</li>\\n</ol>\\n'"
      ]
     },
     "metadata": {},
     "output_type": "display_data"
    },
    {
     "data": {
      "text/plain": [
       "'A:'"
      ]
     },
     "metadata": {},
     "output_type": "display_data"
    },
    {
     "data": {
      "text/plain": [
       "'<p>One way to achieve this functionality is to mock the RetryContext class and then register the mocked instance of RetryContext class to RetrySynchronizationManager.</p>\\n<p>You can register as below in your set up method</p>\\n<pre><code>@Before\\npublic void setUp() {\\n    RetryContext retryContext = Mockito.mock(RetryContext.class);\\n    RetrySynchronizationManager.register(retryContext);\\n}\\n</code></pre>\\n<p>Doing such you will be able to get the retry count without any Null Pointer Exception.</p>\\n'"
      ]
     },
     "metadata": {},
     "output_type": "display_data"
    },
    {
     "data": {
      "text/plain": [
       "'A:'"
      ]
     },
     "metadata": {},
     "output_type": "display_data"
    },
    {
     "data": {
      "text/plain": [
       "'<p>For reads, and assuming the start of the overall vector is aligned, one simply reads the entire SIMD block and ignores the undesired elements. The hardware design is such that if the first byte of a block is readable, all bytes of the block are readable (because the pages used to map and protect memory are aligned to boundaries at least as large as the SIMD block alignments).</p>\\n<p>For writes, there is no canonical answer; there are multiple options depending on circumstances, including:</p>\\n<ul>\\n<li>Require the calling software to provide padding so that whole-block stores can always be performed even if only one element is used in the last block.</li>\\n<li>Use an instruction that stores with a mask to specify which elements are updated.</li>\\n<li>Write code separate from the main loop to handle the last block using instructions for scalar elements or partial blocks (e.g., 16-byte SIMD instructions instead of 32-byte instructions).</li>\\n<li>Use an unaligned store to store a whole block that ends where the destination vector ends. This will overlap elements in the prior block, so they can either be stored twice (if the computation permits) or merged (load, permute as necessary, store). (This also requires taking care to handle the case where the entire vector is less than a full block.)</li>\\n<li>If the application is single-threaded (so it is known no other code that could be writing to the same block is executing), read the last block, merge in the changed elements, and write the last block.</li>\\n</ul>\\n'"
      ]
     },
     "metadata": {},
     "output_type": "display_data"
    },
    {
     "data": {
      "text/plain": [
       "'A:'"
      ]
     },
     "metadata": {},
     "output_type": "display_data"
    },
    {
     "data": {
      "text/plain": [
       "'<p>Try <code>TreeifyTask</code> <a href=\"https://github.com/intuit/TreeifyTask\" rel=\"nofollow noreferrer\">GithubLinkHere</a></p>\\n<p>You can create root and sub tasks those can be executed in an order sequentially or in parallel. The handle is from the root node.</p>\\n<p>Usage: Create root task and child tasks</p>\\n<pre><code>ITaskNode rootTask = new TaskNode(&quot;root&quot;);\\n\\nITaskNode childTask_1 = new TaskNode(&quot;Task-1&quot;);\\nITaskNode childTask_2 = new TaskNode(&quot;Task-2&quot;);\\n\\nrootTask.AddChild(childTask_1);\\nrootTask.AddChild(childTask_2);\\n</code></pre>\\n<p>Usage: Set actions to child tasks</p>\\n<pre><code>childTask_1.SetAction(async (reporter, cancellationToken) =&gt; {\\n    // Simple delay function.\\n    reporter.ReportProgress(TaskStatus.InProgress, 10, &quot;Started...&quot;);\\n    await Task.Delay(1000);\\n    reporter.ReportProgress(TaskStatus.InProgress, 100, &quot;Finished...&quot;);\\n});\\n\\nchildTask_2.SetAction(async (reporter, cancellationToken) =&gt; {\\n    // Simple delay function.\\n    reporter.ReportProgress(TaskStatus.InProgress, 5, &quot;Started...&quot;);\\n    await Task.Delay(2500);\\n    reporter.ReportProgress(TaskStatus.InProgress, 100, &quot;Finished...&quot;);\\n});\\n</code></pre>\\n<p>Usage: Subscribe to Root node</p>\\n<pre><code>// Before starting the execution, you need to subscribe for progress report.\\nrootTask.Reporting += (object sender, ProgressReportingEventArgs eventArgs) =&gt; {\\n    eventArgs.ProgressValue; // -&gt; this will represent the overall progress\\n};\\n</code></pre>\\n<p>Usage: Start execution</p>\\n<pre><code>// Create and pass the cancellation token\\nvar tokenSource = new CancellationTokenSource();\\nvar token = tokenSource.Token;\\n\\n// Start the execution concurrently\\nrootTask.ExecuteConcurrently(cancellationToken: token, throwOnError: true);\\n\\n\\n// OR\\n\\n// Start the execution in series\\nrootTask.ExecuteInSeries(cancellationToken: token, throwOnError: true);\\n</code></pre>\\n<p>Error handling is easy as <code>Execute*</code> methods throw exception with entire tree structure. Here the <code>ID</code> plays a role and it helps to to debug quickly.</p>\\n'"
      ]
     },
     "metadata": {},
     "output_type": "display_data"
    },
    {
     "data": {
      "text/plain": [
       "'A:'"
      ]
     },
     "metadata": {},
     "output_type": "display_data"
    },
    {
     "data": {
      "text/plain": [
       "'<p>I had a similar problem. Try:</p>\\n<pre><code>data &quot;template_cloudinit_config&quot; &quot;this&quot; {\\n  gzip          = false\\n  base64_encode = true\\n\\n  part {\\n    content = &quot;${data.template_file.this.rendered}&quot;\\n  }\\n}\\n\\ndata &quot;template_file&quot; &quot;this&quot; {\\n  template = &quot;${file(&quot;${path.module}/foobar.file&quot;)}&quot;\\n  vars  = local.user_data\\n}\\n\\nlocals {\\n  # Gather variables for ec2:user_data\\n  user_data = {\\n    FOO = &quot;foo&quot;\\n    BAR = &quot;bar&quot;\\n    BAZ = &quot;baz&quot;\\n  }\\n}\\n</code></pre>\\n'"
      ]
     },
     "metadata": {},
     "output_type": "display_data"
    },
    {
     "data": {
      "text/plain": [
       "'A:'"
      ]
     },
     "metadata": {},
     "output_type": "display_data"
    },
    {
     "data": {
      "text/plain": [
       "'<p>Get counts of assets per name where assets match our set, then subset:</p>\\n<pre><code>assets &lt;- c(&quot;car&quot;, &quot;house&quot;)\\nx &lt;- table(df[ df$var1 %in% assets, &quot;name&quot;])\\n\\ndf[ df$name %in% names(x)[ x &gt;= length(assets) ], ]\\n#     name  var1\\n# 1    Jay   car\\n# 2    Jay house\\n# 5 Ashley   car\\n# 6 Ashley house\\n</code></pre>\\n'"
      ]
     },
     "metadata": {},
     "output_type": "display_data"
    },
    {
     "data": {
      "text/plain": [
       "'A:'"
      ]
     },
     "metadata": {},
     "output_type": "display_data"
    },
    {
     "data": {
      "text/plain": [
       "'<p>As this use <a href=\"/questions/tagged/bash\" class=\"post-tag\" title=\"show questions tagged &#39;bash&#39;\" aria-label=\"show questions tagged &#39;bash&#39;\" rel=\"tag\" aria-labelledby=\"tag-bash-tooltip-container\">bash</a>, with some bashisms, you could do this <strong>a lot quicker</strong>, by <em>reducing <strong>forks</strong></em>:</p>\\n<pre><code>enddate=\\'2023-05-15\\'\\nstartdate=\\'2022-12-27\\'\\nd1=\\n{ read -r ist;read -r ien;}&lt; &lt;(date -f - &lt;&lt;&lt;&quot;$startdate&quot;$\\'\\\\n\\'&quot;$enddate&quot; +%s)\\ndeclare -a result=()\\nfor (( i= sta;i&lt;=(86400*4+ end) ;i+=86400*7)) ;do\\n    printf -v result[${#result[@]}] \\'%(%F)T\\' $i\\n    printf -v result[${#result[@]}] \\'%(%F)T\\' $((i+3*86400))\\ndone\\n</code></pre>\\n<p>Then</p>\\n<pre><code>printf \\'%s\\\\n\\' &quot;${result[@]}&quot; | cat -n | column \\n     1  2022-12-27          15  2023-02-14          29  2023-04-04\\n     2  2022-12-30          16  2023-02-17          30  2023-04-07\\n ...\\n    13  2023-02-07          27  2023-03-28          41  2023-05-16\\n    14  2023-02-10          28  2023-03-31          42  2023-05-19\\n</code></pre>\\n<p>There is only 1 fork to <code>date</code> for converting both <code>startdate</code> and <code>enddate</code> to <em><code>UNIX EPOCH</code></em> in seconds.</p>\\n<ul>\\n<li><p><code>printf \\'%(...)T\\'</code> is a bashism for convetiong  <em><code>UNIX EPOCH</code></em> in strings.</p>\\n</li>\\n<li><p>and <code>printf -v variable[${#variable[@]}}] ...</code> will add an elemtent to <code>variable</code> array.</p>\\n</li>\\n</ul>\\n<p>On my raspberry pi, this gone in 0,09 seconds while doing 40 forks take more than 1 second.</p>\\n'"
      ]
     },
     "metadata": {},
     "output_type": "display_data"
    },
    {
     "data": {
      "text/plain": [
       "'A:'"
      ]
     },
     "metadata": {},
     "output_type": "display_data"
    },
    {
     "data": {
      "text/plain": [
       "'<p>The good news is that the doc that you linked isn\\'t the full list of databases that are supported.</p>\\n<p>polars uses two database connection libraries (or engines):</p>\\n<ol>\\n<li><p><a href=\"https://github.com/sfu-db/connector-x\" rel=\"nofollow noreferrer\">connectorx</a></p>\\n</li>\\n<li><p><a href=\"https://arrow.apache.org/adbc/0.1.0/driver/cpp/index.html\" rel=\"nofollow noreferrer\">Apache Arrow adbc</a></p>\\n</li>\\n</ol>\\n<p>The bad news is that neither of those seems to support Athena. For the time being your best bet is probably to continue to use pandas for athena queries and then use <code>pl.from_pandas(...)</code></p>\\n'"
      ]
     },
     "metadata": {},
     "output_type": "display_data"
    },
    {
     "data": {
      "text/plain": [
       "'A:'"
      ]
     },
     "metadata": {},
     "output_type": "display_data"
    },
    {
     "data": {
      "text/plain": [
       "'<p>Your solution almost correct, try this :</p>\\n<p>This is for start date :</p>\\n<pre><code>SELECT DATE_FORMAT(STR_TO_DATE(CONCAT(\\'01 \\', \\'Sep 2021\\'),\\'%d %b %Y\\'),\\'%Y-%m-%d\\') as startdate\\n</code></pre>\\n<p>This for <code>end date</code>, we take the converted date by <code>STR_TO_DATE</code> then apply <code>LAST_DAY</code> on it</p>\\n<pre><code>SELECT DATE_FORMAT(LAST_DAY(STR_TO_DATE(CONCAT(\\'01 \\', \\'Sep 2021\\'),\\'%d %b %Y\\')),\\'%Y-%m-%d\\') as enddate\\n</code></pre>\\n<p><a href=\"https://dbfiddle.uk/QcpscuSk\" rel=\"nofollow noreferrer\">Demo here</a></p>\\n'"
      ]
     },
     "metadata": {},
     "output_type": "display_data"
    },
    {
     "data": {
      "text/plain": [
       "'A:'"
      ]
     },
     "metadata": {},
     "output_type": "display_data"
    },
    {
     "data": {
      "text/plain": [
       "'<p>These nested for loops contain a bug</p>\\n<pre><code>for(int i=0;i&lt;rows;i++)\\n    for(int j=0;j&lt;cols;j++)\\n        *(*(matrix+j)+i) = rand() % 20;\\n</code></pre>\\n<p>The pointer <code>matrix</code> points to an array of pointers that in turn point to &quot;rows&quot;. So the expression <code>matrix + i</code> points to the <code>i-th</code> &quot;row&quot;. However instead you are using the index <code>j</code>.</p>\\n<p>That is you need to write</p>\\n<pre><code>*(*(matrix+i)+j) = rand() % 20;\\n</code></pre>\\n<p>instead of</p>\\n<pre><code>*(*(matrix+j)+i) = rand() % 20;\\n</code></pre>\\n<p>Otherwise when the value of <code>cols</code> is greater than the value of <code>rows</code> the expression <code>matrix + j</code> can access memory outside the allocated array of pointers (rows).</p>\\n<p>The same problem exists in this call of printf</p>\\n<pre><code> printf(&quot;%d\\\\t&quot;,*(*(matrix + j) + i));\\n</code></pre>\\n<p>where you have to write</p>\\n<pre><code> printf(&quot;%d\\\\t&quot;,*(*(matrix + i) + j));\\n</code></pre>\\n<p>That is you need actually to access an element <code>matrix[i][j]</code>. This expression may be rewritten like</p>\\n<pre><code>( *( matrix + i ) )[j]\\n</code></pre>\\n<p>that in turn may be rewritten like</p>\\n<pre><code>*( *( matrix + i ) + j )\\n</code></pre>\\n<p>Or in other way it may be rewritten like</p>\\n<pre><code>*( matrix[i] + j )\\n</code></pre>\\n<p>and then</p>\\n<pre><code>*( *( matrix + i ) + j )\\n</code></pre>\\n<p>To raise your interest to the subscript operator investigate these equivalent expressions to access elements of a two-dimensional array declared for example like</p>\\n<pre><code>T a[M][N];\\n</code></pre>\\n<p>The expressions are</p>\\n<pre><code>a[i][j]\\ni[a][j]\\nj[a[i]]\\nj[i[a]]\\n*( *( a + i ) + j )\\n*( a[i] + j )\\n*( i[a] + j )\\n( *( a + i ) )[j]\\nj[*( a + i ) ]\\n</code></pre>\\n'"
      ]
     },
     "metadata": {},
     "output_type": "display_data"
    },
    {
     "data": {
      "text/plain": [
       "'A:'"
      ]
     },
     "metadata": {},
     "output_type": "display_data"
    },
    {
     "data": {
      "text/plain": [
       "\"<pre><code>$('#save_product').click(function(e){\\n    var skuInput = $.trim($('#sku').val());\\n    var skuExists = false;\\n    $('.sku-validator-dvd').each(function() {\\n        if (skuInput === $(this).text()) {\\n            skuExists = true;\\n        }\\n    });\\n    if (skuExists) {\\n        alert('This sku already exists');\\n    }\\n});\\n</code></pre>\\n<p>Try this</p>\\n\""
      ]
     },
     "metadata": {},
     "output_type": "display_data"
    },
    {
     "data": {
      "text/plain": [
       "'A:'"
      ]
     },
     "metadata": {},
     "output_type": "display_data"
    },
    {
     "data": {
      "text/plain": [
       "'<p>Using your table created with package expss:</p>\\n<pre><code>totals &lt;- table(df$TB4)\\ntotals &lt;- c(sum(totals), totals)\\nnames(t1) &lt;- c(&quot;row_labels&quot;, paste0(names(t1)[-1], &quot; (total = &quot;,totals,&quot;)&quot;))\\n</code></pre>\\n'"
      ]
     },
     "metadata": {},
     "output_type": "display_data"
    },
    {
     "data": {
      "text/plain": [
       "'A:'"
      ]
     },
     "metadata": {},
     "output_type": "display_data"
    },
    {
     "data": {
      "text/plain": [
       "'<p>Try this:</p>\\n<pre><code>library(tidyverse)\\ndf %&gt;%\\n  # for each `name`...\\n  group_by(name) %&gt;%\\n  # ...paste all `var1` values together:\\n  mutate(temp = str_c(var1, collapse = &quot;,&quot;)) %&gt;%\\n  # filter rows of value combinations of interest:\\n  filter(temp == &quot;car,house&quot;) %&gt;%\\n  # remove `temp`:\\n  select(-temp)\\n</code></pre>\\n<p><strong>EDIT</strong>:</p>\\n<p>Picking up on a comment by @zx8754, you can first <code>arrange</code> the values in <code>var1</code> in alphabetic order:</p>\\n<pre><code>df %&gt;%\\n  group_by(name) %&gt;%\\n  arrange(var1) %&gt;%\\n  mutate(temp = str_c(var1, collapse = &quot;,&quot;)) %&gt;%\\n  filter(temp == &quot;car,house&quot;) %&gt;%\\n  select(-temp)\\n</code></pre>\\n'"
      ]
     },
     "metadata": {},
     "output_type": "display_data"
    },
    {
     "data": {
      "text/plain": [
       "'A:'"
      ]
     },
     "metadata": {},
     "output_type": "display_data"
    },
    {
     "data": {
      "text/plain": [
       "'<p>Here is the solution of this problem:</p>\\n<pre><code>apiVersion: v1\\nkind: Pod\\nmetadata:\\n  name: myapp-pod\\n  labels:\\n    app.kubernetes.io/name: MyApp\\nspec:\\n  initContainers:\\n  - name: volume-permissions\\n    image: busybox\\n    command: [&quot;/bin/sh&quot;]\\n    args: [&quot;-c&quot;, &quot;chmod -R 755 /data &amp;&amp; chown 1000:1000 /data&quot;]\\n    volumeMounts:\\n    - name: my-volume\\n      mountPath: /data\\n  containers:\\n  - name: my-container\\n    image: nginx\\n    volumeMounts:\\n    - name: my-volume\\n      mountPath: /data\\n  volumes:\\n  - name: my-volume\\n    hostPath:\\n      path: /data\\n</code></pre>\\n'"
      ]
     },
     "metadata": {},
     "output_type": "display_data"
    },
    {
     "data": {
      "text/plain": [
       "'A:'"
      ]
     },
     "metadata": {},
     "output_type": "display_data"
    },
    {
     "data": {
      "text/plain": [
       "'<p>Show wont work on this situation because <strong>Update</strong> method wont work on <em>gameobject.Setactive = false</em></p>\\n<p>Instead you can use</p>\\n<pre><code>myGameObject.GetComponent&lt;Renderer&gt;().enabled = false\\n</code></pre>\\n<p>This will disable renderer component.</p>\\n<p>Renderer should be renamed with either <em>MeshRenderer</em> or <em>SpriteRenderer</em> etc.</p>\\n'"
      ]
     },
     "metadata": {},
     "output_type": "display_data"
    },
    {
     "data": {
      "text/plain": [
       "'A:'"
      ]
     },
     "metadata": {},
     "output_type": "display_data"
    },
    {
     "data": {
      "text/plain": [
       "'<p>Putting in answer form. As @avinashjha said: the default service account from project <code>A</code> needs to have the role <code>Artifact Registry Reader</code> in project <code>B</code>. This allows for the default service account to oauth and pull the docker image from the registry.</p>\\n'"
      ]
     },
     "metadata": {},
     "output_type": "display_data"
    },
    {
     "data": {
      "text/plain": [
       "'A:'"
      ]
     },
     "metadata": {},
     "output_type": "display_data"
    },
    {
     "data": {
      "text/plain": [
       "'<p>I am yet to find a way to do this directly only by using InboxSDK but there is a workaround which can help you get shorter descriptive text from the email which is seen on the inbox list.</p>\\n<pre class=\"lang-js prettyprint-override\"><code>InboxSDK.load(\\'1.0\\', \\'YOUR_APP_ID\\').then(function(sdk) {\\n  sdk.Lists.registerThreadRowViewHandler(function(threadRowView) {\\n    var threadElement = threadRowView.getElement();\\n    var descriptiveText = threadElement.textContent;\\n    // do something based on the text\\n  });\\n});\\n</code></pre>\\n<p>I will update the answer if I am able to a better solution.</p>\\n'"
      ]
     },
     "metadata": {},
     "output_type": "display_data"
    },
    {
     "data": {
      "text/plain": [
       "'A:'"
      ]
     },
     "metadata": {},
     "output_type": "display_data"
    },
    {
     "data": {
      "text/plain": [
       "\"<p>What is not clean about:</p>\\n<pre><code>this.checkService = serviceProvider.GetRequiredService(typeof(PeriodicCheckService));\\n</code></pre>\\n<ul>\\n<li>You need to store the reference to the instance somewhere to ensure it doesn't get prematurely cleaned up.</li>\\n</ul>\\n<p>In DI cases we don't want instances until the logic needs them, DI only instantiates and provides instances when they are required, executing the above magic code without letting you see it.</p>\\n<p>If you have no logical DI container to force the instance to be created then <code>GetRequiredService()</code> is the appropriate way to resolve the injected instance on demand.</p>\\n<p>Anything else you do in this space is likely to look less <em>clean</em> and hide the logic in a way that you don't notice it, which is just more technical debt you don't need.</p>\\n\""
      ]
     },
     "metadata": {},
     "output_type": "display_data"
    },
    {
     "data": {
      "text/plain": [
       "'A:'"
      ]
     },
     "metadata": {},
     "output_type": "display_data"
    },
    {
     "data": {
      "text/plain": [
       "'<p>When looking at <a href=\"https://www.rfc-editor.org/rfc/rfc3164#section-4.1.1\" rel=\"nofollow noreferrer\">4.1.1 PRI Part</a> in <strong>RFC 3164</strong> (which has been obsoleted by <a href=\"https://www.rfc-editor.org/rfc/rfc5424\" rel=\"nofollow noreferrer\">RFC5424</a>), you can find &quot;(note 1)&quot; or &quot;(note 2)&quot; next to the duplicated fields - as well as some others.</p>\\n<pre><code>Numerical Code            Facility\\n4                         security/authorization messages (note 1)\\n9                         clock daemon (note 2)\\n10                        security/authorization messages (note 1)\\n15                        clock daemon (note 2)\\n</code></pre>\\n<p>... with the following description below the table:</p>\\n<blockquote>\\n<p>Note 1 - Various operating systems have been found to utilize\\nFacilities 4, 10, 13 and 14 for security/authorization, audit,\\nand alert messages which seem to be similar.</p>\\n</blockquote>\\n<blockquote>\\n<p>Note 2 - Various operating systems have been found to utilize\\nboth Facilities 9 and 15 for clock (cron/at) messages.</p>\\n</blockquote>\\n'"
      ]
     },
     "metadata": {},
     "output_type": "display_data"
    },
    {
     "data": {
      "text/plain": [
       "'A:'"
      ]
     },
     "metadata": {},
     "output_type": "display_data"
    },
    {
     "data": {
      "text/plain": [
       "'<blockquote>\\n<p>The UI/UX is good and no users ever complained about it, but the lower part of the page contains consumes a lot of room.</p>\\n</blockquote>\\n<p>You\\'d be surprised how many people don\\'t complain, but still find layout shifts annoying and bad UX.</p>\\n<blockquote>\\n<p>Will a pointer-event:none on the lower DOM elements save &quot;CLS&quot; score in Core Web Vitals?</p>\\n</blockquote>\\n<p>In the comments you added to this saying &quot;IMO, Google should punish the content shift that actually interfere user\\'s actions, like click, tap, mousemove, etc.&quot;.</p>\\n<p>CLS measures all items moving - whether it interferes with interactions or not. For example, one of the most annoying instances of CLS is when an article loads and you start reading, and then other content (an image, an ad...etc.) loads above it and the text shifts and you lose your place. There are no interactions there but the shifts are a bad experience. Hence are included in CLS.</p>\\n<p>In fact, CLS actually gives you some leeway for interactions by <a href=\"https://web.dev/cls/#expected-vs-unexpected-layout-shifts\" rel=\"nofollow noreferrer\">excluding shifts after certain interactions</a>, as some interactions are expected to cause shifts. For example, clicking a summary/details element will show more content and shift it down - but that\\'s an expected shift that will not annoy the user.</p>\\n<p>So in answer to your question, not using <code>pointer-event:none</code> will not &quot;save \\'CLS\\' scores&quot;.</p>\\n'"
      ]
     },
     "metadata": {},
     "output_type": "display_data"
    },
    {
     "data": {
      "text/plain": [
       "'A:'"
      ]
     },
     "metadata": {},
     "output_type": "display_data"
    },
    {
     "data": {
      "text/plain": [
       "'<p>Okay, finaly I found the problem.</p>\\n<p>I have to add <code>foreign_key</code> option in my <code>has_many</code> association too.</p>\\n<pre><code>class PurchaseOfferWrapper &lt; OfferWrapper\\n  has_many :purchase_offers, foreign_key: :offer_wrapper_id, dependent: :destroy\\nend\\n</code></pre>\\n'"
      ]
     },
     "metadata": {},
     "output_type": "display_data"
    },
    {
     "data": {
      "text/plain": [
       "'A:'"
      ]
     },
     "metadata": {},
     "output_type": "display_data"
    },
    {
     "data": {
      "text/plain": [
       "\"<p>This is what I ended up doing which worked for me.</p>\\n<p>I added a <code>gunicorn</code> hook <code>post_request</code> and I added the response I want to post process to the <code>falcon.request.env</code> attribute and then I extracted it in the hook.</p>\\n<p>My code looks something like:</p>\\n<p>api.py:</p>\\n<pre><code>class FalconApi\\n    def on_post(self, request: falcon.Request, response: falcon.Response):\\n        response = &lt;something&gt;\\n        request.env['response'] = response\\n</code></pre>\\n<p>hooks.py:</p>\\n<pre><code>def post_request(worker: SyncWorker, request: gunicorn.http.Request, environ: dict,\\n                 response: gunicorn.http.wsgi.Response) -&gt; None:\\n    response = environ.get('response')\\n    if not response:\\n        logger.error(f'could not post process')\\n    PostProcessingRoute().post_process_response(response_body)\\n</code></pre>\\n<p>and then I run it using <code>gunicorn -c hooks.py</code></p>\\n\""
      ]
     },
     "metadata": {},
     "output_type": "display_data"
    },
    {
     "data": {
      "text/plain": [
       "'A:'"
      ]
     },
     "metadata": {},
     "output_type": "display_data"
    },
    {
     "data": {
      "text/plain": [
       "'<p>Based on @Faizal Hussain you could optimise the code performance because you should not call a function direcly in the template</p>\\n<pre class=\"lang-js prettyprint-override\"><code>export class AppComponent implements OnInit {\\n  name = \\'Angular \\' + VERSION.major;\\n  names = [\\n    \\'richard rick\\',\\n    \\'alphonse dave\\',\\n    \\'kilin mbappe\\',\\n    \\'brock lesnae\\',\\n    \\'kane wills\\',\\n    \\'Mark angel\\',\\n    \\'astro boy\\',\\n  ];\\n\\n  initials = [];\\n\\n  ngOnInit(): void {\\n    this.getInitials();\\n  }\\n\\n  getInitials(): void {\\n    this.names.forEach((name) =&gt; {\\n      const fullName = name.split(\\' \\');\\n      const initials = fullName.shift().charAt(0) + fullName.pop().charAt(0);\\n      initials.toUpperCase();\\n      this.initials.push(initials);\\n    });\\n  }\\n}\\n</code></pre>\\n<pre class=\"lang-html prettyprint-override\"><code>&lt;div class=&quot;rows&quot;&gt;\\n  &lt;div class=&quot;circles&quot; *ngFor=&quot;let initial of initials; let i = index&quot;&gt;\\n    {{ i + 1 &lt; 4 ? initial : \\'+\\' + (initials.length - i) }}\\n  &lt;/div&gt;\\n&lt;/div&gt;\\n\\n</code></pre>\\n'"
      ]
     },
     "metadata": {},
     "output_type": "display_data"
    },
    {
     "data": {
      "text/plain": [
       "'A:'"
      ]
     },
     "metadata": {},
     "output_type": "display_data"
    },
    {
     "data": {
      "text/plain": [
       "\"<blockquote>\\n<p>This looks better, but it runs job for every other event (not only merge_request_event).</p>\\n</blockquote>\\n<p>If you want to run <em>only</em> on merge request, you have to invert the logic:</p>\\n<pre><code>    - if: '$CI_PIPELINE_SOURCE != &quot;merge_request_event&quot;'\\n      when: never\\n</code></pre>\\n\""
      ]
     },
     "metadata": {},
     "output_type": "display_data"
    },
    {
     "data": {
      "text/plain": [
       "'A:'"
      ]
     },
     "metadata": {},
     "output_type": "display_data"
    },
    {
     "data": {
      "text/plain": [
       "'<p>I would separate the creation and the laying out of panels, like this:</p>\\n<pre><code>public Form1()\\n{\\n    InitializeComponent();\\n\\n    // ...\\n\\n    panelCameras.Layout += panelCameras_Layout;\\n}\\n\\nprivate void CreatePictureBoxes(int num)\\n{\\n    panelCameras.Controls.Clear();\\n\\n    for (int i = 0; i &lt; num; i++)\\n    {\\n        PictureBox pb = new PictureBox();\\n        pb.BackColor = Color.Black;\\n        pb.SizeMode = PictureBoxSizeMode.StretchImage;\\n        pb.Dock = DockStyle.None;\\n        pb.Anchor = AnchorStyles.None;\\n\\n        Label lbl = new Label();\\n        lbl.Text = (i + 1).ToString();\\n        lbl.ForeColor = Color.White;\\n        lbl.AutoSize = false;\\n        lbl.Dock = DockStyle.Fill;\\n        lbl.TextAlign = ContentAlignment.MiddleCenter;\\n        pb.Controls.Add(lbl);\\n\\n        panelCameras.Controls.Add(pb);\\n    }\\n}\\n\\nprotected void panelCameras_Layout(object? sender, LayoutEventArgs levent)\\n{\\n    var num = panelCameras.Controls.Count;\\n\\n    for (var i = 0; i &lt; num; ++i)\\n    {\\n        int spacing = 2;\\n        int numRows = (int)Math.Ceiling((double)num / 2);\\n\\n        int pbWidth = (panelCameras.ClientSize.Width - (3 * spacing)) / 2;\\n        int pbHeight = (panelCameras.ClientSize.Height - ((numRows + 1) * spacing)) / numRows;\\n\\n        if (num == 1)\\n        {\\n            pbWidth = panelCameras.ClientSize.Width - (2 * spacing);\\n            pbHeight = panelCameras.ClientSize.Height - (2 * spacing);\\n        }\\n        else if (num == 2)\\n        {\\n            pbWidth = (panelCameras.ClientSize.Width - (2 * spacing)) / 2;\\n            pbHeight = panelCameras.ClientSize.Height - (2 * spacing);\\n        }\\n\\n        var pb = panelCameras.Controls[i];\\n        pb.Location = new Point((i % 2) * (pbWidth + spacing) + spacing, (i / 2) * (pbHeight + spacing) + spacing);\\n        pb.Size = new Size(pbWidth, pbHeight);\\n    }\\n}\\n</code></pre>\\n<p>Note that I removed setting the Size and Location from CreatePictureBoxes and I also removed changing the Anchor style!</p>\\n'"
      ]
     },
     "metadata": {},
     "output_type": "display_data"
    },
    {
     "data": {
      "text/plain": [
       "'A:'"
      ]
     },
     "metadata": {},
     "output_type": "display_data"
    },
    {
     "data": {
      "text/plain": [
       "'<p>As <a href=\"https://stackoverflow.com/a/76032651/773156\">suggested</a> by @anothermh, drilling down into the AST of an <code>enum</code> with <code>@typescript-eslint/parser</code> reveals which nodes to use in the selector. Link to <a href=\"https://astexplorer.net/#/gist/53cfa640454431d0bdc3c0cf89dbb924/c85b74ea9c7c0d131d0526718bd5d9aca1c59879\" rel=\"nofollow noreferrer\">gist</a>.</p>\\n<p>The following rule works as intended:</p>\\n<pre class=\"lang-json prettyprint-override\"><code>{\\n  &quot;rules&quot;: {\\n    &quot;no-restricted-syntax&quot;: [\\n      &quot;error&quot;,\\n      {\\n        &quot;selector&quot;: &quot;TSEnumDeclaration &gt; TSEnumMember &gt; Literal&quot;,\\n        &quot;message&quot;: &quot;Use a string union type instead.&quot;\\n      }\\n    ]\\n  }\\n}\\n\\n</code></pre>\\n<p>When linting, it will flag only the literal of a declaration with the defined message.</p>\\n<p>E.g.:</p>\\n<pre class=\"lang-js prettyprint-override\"><code>enum test1 {\\n  member11,\\n  member12 = &quot;test12&quot;,\\n}\\n</code></pre>\\n<p>✗</p>\\n<pre class=\"lang-js prettyprint-override\"><code>enum test2 {\\n  member21 = &quot;test21&quot;,\\n  member22 = &quot;test22&quot;,\\n}\\n</code></pre>\\n<p>✗</p>\\n<pre class=\"lang-js prettyprint-override\"><code>enum test3 {\\n  member31 = 31,\\n  member32,\\n}\\n</code></pre>\\n<p>✗</p>\\n<pre class=\"lang-js prettyprint-override\"><code>enum test4 {\\n  member41,\\n  member42,\\n}\\n</code></pre>\\n<p>✓</p>\\n<p>This is sufficient for my purposes currently. Then there are ways to <a href=\"https://eslint.org/docs/latest/extend/custom-rules#applying-fixes\" rel=\"nofollow noreferrer\">automate the fixing</a> of these errors by replacing the entire expression (for another time).</p>\\n'"
      ]
     },
     "metadata": {},
     "output_type": "display_data"
    },
    {
     "data": {
      "text/plain": [
       "'A:'"
      ]
     },
     "metadata": {},
     "output_type": "display_data"
    },
    {
     "data": {
      "text/plain": [
       "'<p>if let searchTextField = self.searchBar.value(forKey: &quot;searchField&quot;) as? UITextField,\\nlet clearButton = searchTextField.value(forKey: &quot;clearButton&quot;) as? UIButton {\\nclearButton.isAccessibilityElement = true\\nclearButton.tintColor = .red\\nclearButton.accessibilityLabel = NSLocalizedString(&quot;Clear Button accessibility labe;&quot;, comment: &quot;&quot;)\\n}</p>\\n'"
      ]
     },
     "metadata": {},
     "output_type": "display_data"
    },
    {
     "data": {
      "text/plain": [
       "'A:'"
      ]
     },
     "metadata": {},
     "output_type": "display_data"
    },
    {
     "data": {
      "text/plain": [
       "'<p><div class=\"snippet\" data-lang=\"js\" data-hide=\"false\" data-console=\"true\" data-babel=\"false\">\\r\\n<div class=\"snippet-code\">\\r\\n<pre class=\"snippet-code-js lang-js prettyprint-override\"><code>    var textarea = document.querySelector(\\'textarea\\');\\n    var p = document.querySelector(\\'p\\');\\n    var range = document.querySelector(\\'input[type=\"range\"]\\');\\n    var output = document.querySelector(\\'output\\');\\n    var checkbox = document.querySelector(\\'input[type=\"checkbox\"]\\');\\n    var span = document.querySelector(\\'span\\');\\n    \\n    document.querySelector(\\'textarea\\').value = \\'Hello, world!\\';\\n    document.querySelector(\\'input[type=\"range\"]\\').value = 50;\\n    document.querySelector(\\'input[type=\"checkbox\"]\\').checked = false;\\n    \\n\\n    function write() {\\n      p.textContent = textarea.value;\\n      output.textContent = range.value;\\n      span.textContent = checkbox.checked;\\n    }\\n\\n    textarea.addEventListener(\\'input\\', write);\\n    range.addEventListener(\\'input\\', write);\\n    checkbox.addEventListener(\\'change\\', write);\\n\\n    write();</code></pre>\\r\\n<pre class=\"snippet-code-css lang-css prettyprint-override\"><code>  body {\\n      display: grid;\\n      grid-template-columns: repeat(2, max-content);\\n      gap: 1em 0.5em;\\n    }</code></pre>\\r\\n<pre class=\"snippet-code-html lang-html prettyprint-override\"><code>  \\n\\n\\n\\n\\n    &lt;textarea&gt;Hello, world!&lt;/textarea&gt;\\n    &lt;p&gt;&lt;/p&gt;\\n    &lt;input type=\"range\"&gt;\\n    &lt;output&gt;&lt;/output&gt;\\n    &lt;input type=\"checkbox\"&gt;\\n    &lt;span&gt;&lt;/span&gt;</code></pre>\\r\\n</div>\\r\\n</div>\\r\\n</p>\\n'"
      ]
     },
     "metadata": {},
     "output_type": "display_data"
    },
    {
     "data": {
      "text/plain": [
       "'A:'"
      ]
     },
     "metadata": {},
     "output_type": "display_data"
    },
    {
     "data": {
      "text/plain": [
       "'<p>Below link contains an example code depicting how to modify the source code of the process that needs to be distributed which I\\'d found to be useful.</p>\\n<p><a href=\"https://github.com/aws/amazon-sagemaker-examples/issues/2852\" rel=\"nofollow noreferrer\">https://github.com/aws/amazon-sagemaker-examples/issues/2852</a></p>\\n'"
      ]
     },
     "metadata": {},
     "output_type": "display_data"
    },
    {
     "data": {
      "text/plain": [
       "'A:'"
      ]
     },
     "metadata": {},
     "output_type": "display_data"
    },
    {
     "data": {
      "text/plain": [
       "'<p>//write this code into your controller and attach a view to its GetJiraProject method</p>\\n<pre><code>using System;\\nusing System.IO;\\nusing System.Net;\\nusing System.Text;\\nusing System.Web.Mvc;\\n\\n\\nnamespace Worklog2.Controllers\\n{\\n    public class JiraController : Controller\\n    {\\n        private string baseUrl = &quot;https://xxxxxx.atlassian.net&quot;;\\n        private string UserName = &quot;abc@gmail.io&quot;;\\n      private string Password = &quot;ATATT3xFfGF0__LJW3SYJQhj7zKXlmbay6_PJu9ZmyK9AOxdlCQnS6zY_Dhyg2KWsDlxrNLdSMAbyWSYD7dxOUNdlswwy38PWdx4iILeTqBeBRq-QwMLk1tC9sMSzoO_HapCia3gF61DugB3CWensXWGLGmgWNt1MqOdAVwm_ILlpy87eho_tmQ=A9F58D0F&quot;;\\n\\n        public static string GetEncodedCredentials(string UserName, string Password)\\n        {\\n            string mergedCredentials = String.Format(&quot;{0}:{1}&quot;, UserName, Password);\\n            byte[] byteCredentials = Encoding.UTF8.GetBytes(mergedCredentials);\\n            return Convert.ToBase64String(byteCredentials);\\n        }\\n\\n        public ActionResult GetJiraProject()\\n        {\\n            string restUrl = String.Format(&quot;{0}/rest/api/3/project&quot;, baseUrl);\\n            HttpWebResponse response = null;\\n            HttpWebRequest request = WebRequest.Create(restUrl) as HttpWebRequest;\\n            request.Method = &quot;GET&quot;;\\n            request.Accept = &quot;application/json&quot;;\\n            request.ContentType = &quot;application/json&quot;;\\n            request.Headers.Add(&quot;Authorization&quot;, &quot;Basic &quot; + GetEncodedCredentials(UserName, Password));\\n\\n            using (response = request.GetResponse() as HttpWebResponse)\\n            {\\n                StreamReader reader = new StreamReader(response.GetResponseStream());\\n                string responseContent = reader.ReadToEnd();\\n                ViewBag.ResponseContent = responseContent;\\n            }\\n\\n            return View();\\n        }\\n\\n\\n    }\\n\\n}\\n</code></pre>\\n'"
      ]
     },
     "metadata": {},
     "output_type": "display_data"
    },
    {
     "data": {
      "text/plain": [
       "'A:'"
      ]
     },
     "metadata": {},
     "output_type": "display_data"
    },
    {
     "data": {
      "text/plain": [
       "\"<p>If I really understood your issue, you want the value of status to be either &quot;Open&quot; or &quot;Close&quot; when name is &quot;a&quot;.</p>\\n<p>If this is what you're looking for, then you can do something like:</p>\\n<pre><code>obj.map(o =&gt; o.name === &quot;a&quot;).every(item =&gt; item.status === &quot;Open&quot; || item.status === &quot;Close&quot;)\\n</code></pre>\\n<p>Let me know if this is what you're looking for. If not then it would be great if you clarify more your issue.</p>\\n\""
      ]
     },
     "metadata": {},
     "output_type": "display_data"
    },
    {
     "data": {
      "text/plain": [
       "'A:'"
      ]
     },
     "metadata": {},
     "output_type": "display_data"
    },
    {
     "data": {
      "text/plain": [
       "'<p>I managed to find the orphan properties when an user get removed. Here you can see the aggregation:</p>\\n<pre><code>db.users.aggregate([\\n  {\\n    $match: {\\n      _id: ObjectId(&quot;60fc97b7431c6e3d7d3e3c79&quot;)\\n    }\\n  },\\n  {\\n    $lookup: {\\n      from: &quot;properties&quot;,\\n      localField: &quot;properties&quot;,\\n      foreignField: &quot;_id&quot;,\\n      as: &quot;properties&quot;\\n    }\\n  },\\n  {\\n    $unwind: &quot;$properties&quot;\\n  },\\n  {\\n    $lookup: {\\n      from: &quot;users&quot;,\\n      localField: &quot;properties._id&quot;,\\n      foreignField: &quot;properties&quot;,\\n      as: &quot;users&quot;\\n    }\\n  },\\n  {\\n    $unwind: &quot;$users&quot;\\n  },\\n  {\\n    $match: {\\n      &quot;users._id&quot;: {\\n        $ne: ObjectId(&quot;60fc97b7431c6e3d7d3e3c79&quot;)\\n      }\\n    }\\n  },\\n  {\\n    $group: {\\n      _id: &quot;$properties._id&quot;,\\n      count: {\\n        $sum: 1\\n      }\\n    }\\n  },\\n  {\\n    $project: {\\n      _id: 1\\n    }\\n  }\\n])\\n</code></pre>\\n<p>You can see a working example on this <a href=\"https://mongoplayground.net/p/Y0Mh6L3M1iE\" rel=\"nofollow noreferrer\">playground</a>:</p>\\n<p>After you find the ids of the properties, you can delete them like this:</p>\\n<pre><code>properties.forEach(function(doc) {\\n  db.properties.deleteOne({ _id: doc._id });\\n});\\n</code></pre>\\n<p>Feel free to ask me if you have any questions!</p>\\n'"
      ]
     },
     "metadata": {},
     "output_type": "display_data"
    },
    {
     "data": {
      "text/plain": [
       "'A:'"
      ]
     },
     "metadata": {},
     "output_type": "display_data"
    },
    {
     "data": {
      "text/plain": [
       "'<p>I know it\\'s a pretty clumsy solution, but it was my first thought. For now, I\\'ll leave it here, it serves its purpose. I\\'m still thinking about how to solve it more elegantly without modifying the HTML code.</p>\\n<p>In relation to the relative position, the absolutely positioned element can be aligned to its parent instead of the entire page.</p>\\n<p><div class=\"snippet\" data-lang=\"js\" data-hide=\"false\" data-console=\"true\" data-babel=\"false\">\\r\\n<div class=\"snippet-code\">\\r\\n<pre class=\"snippet-code-css lang-css prettyprint-override\"><code>.wrapper {\\n  margin: auto;\\n  max-width: 600px;\\n  background-color: #fef;\\n}\\n\\ntable {\\n  width: 100%;\\n}\\n\\n/* added for scroll --------------- */\\ntfoot td {\\n  position: relative;\\n}\\n/* -------------------------------- */\\n\\n.pagination {\\n  /* added for scroll ------------- */\\n  position: absolute;\\n  width: 100%;\\n  overflow: auto;\\n  /* ------------------------------ */\\n  \\n  /* added for padding ------------ */\\n  padding: 8px;\\n  box-sizing: border-box;\\n  /* ------------------------------ */\\n  \\n  display: flex;\\n  background-color: #efe;\\n}</code></pre>\\r\\n<pre class=\"snippet-code-html lang-html prettyprint-override\"><code>&lt;div class=\"wrapper\"&gt;\\n  &lt;table&gt;\\n    &lt;thead&gt;\\n      &lt;tr&gt; \\n        &lt;th&gt;first name&lt;/th&gt;\\n        &lt;th&gt;last name&lt;/th&gt;\\n      &lt;/tr&gt;\\n    &lt;/thead&gt;\\n    &lt;tbody&gt;\\n      &lt;tr&gt;\\n        &lt;td&gt;aa&lt;/td&gt;\\n        &lt;td&gt;aa&lt;/td&gt;\\n      &lt;/tr&gt;\\n      &lt;tr&gt;\\n        &lt;td&gt;bb&lt;/td&gt;\\n        &lt;td&gt;bb&lt;/td&gt;\\n      &lt;/tr&gt;\\n      &lt;tr&gt;\\n        &lt;td&gt;cc&lt;/td&gt;\\n        &lt;td&gt;cc&lt;/td&gt;\\n      &lt;/tr&gt;\\n    &lt;/tbody&gt;\\n    &lt;tfoot&gt;\\n      &lt;tr&gt;\\n        &lt;td colspan=\"2\"&gt;\\n          &lt;div class=\"pagination\"&gt;\\n            &lt;button&gt;1&lt;/button&gt;\\n            &lt;button&gt;2&lt;/button&gt;\\n            &lt;button&gt;3&lt;/button&gt;\\n            &lt;button&gt;4&lt;/button&gt;\\n            &lt;button&gt;5&lt;/button&gt;\\n            &lt;button&gt;6&lt;/button&gt;\\n            &lt;button&gt;7&lt;/button&gt;\\n            &lt;button&gt;8&lt;/button&gt;\\n            &lt;button&gt;9&lt;/button&gt;\\n            &lt;button&gt;10&lt;/button&gt;\\n            &lt;button&gt;11&lt;/button&gt;\\n            &lt;button&gt;12&lt;/button&gt;\\n            &lt;button&gt;13&lt;/button&gt;\\n            &lt;button&gt;14&lt;/button&gt;\\n            &lt;button&gt;15&lt;/button&gt;\\n            &lt;button&gt;16&lt;/button&gt;\\n            &lt;button&gt;17&lt;/button&gt;\\n            &lt;button&gt;18&lt;/button&gt;\\n            &lt;button&gt;19&lt;/button&gt;\\n            &lt;button&gt;20&lt;/button&gt;\\n            &lt;button&gt;21&lt;/button&gt;\\n            &lt;button&gt;22&lt;/button&gt;\\n            &lt;button&gt;23&lt;/button&gt;\\n            &lt;button&gt;24&lt;/button&gt;\\n            &lt;button&gt;25&lt;/button&gt;\\n            &lt;button&gt;26&lt;/button&gt;\\n            &lt;button&gt;27&lt;/button&gt;\\n            &lt;button&gt;28&lt;/button&gt;\\n            &lt;button&gt;29&lt;/button&gt;\\n            &lt;button&gt;30&lt;/button&gt;\\n            &lt;button&gt;31&lt;/button&gt;\\n            &lt;button&gt;32&lt;/button&gt;\\n            &lt;button&gt;33&lt;/button&gt;\\n            &lt;button&gt;34&lt;/button&gt;\\n            &lt;button&gt;35&lt;/button&gt;\\n            &lt;button&gt;36&lt;/button&gt;\\n            &lt;button&gt;37&lt;/button&gt;\\n            &lt;button&gt;38&lt;/button&gt;\\n            &lt;button&gt;39&lt;/button&gt;\\n            &lt;button&gt;40&lt;/button&gt;\\n            &lt;button&gt;41&lt;/button&gt;\\n            &lt;button&gt;42&lt;/button&gt;\\n            &lt;button&gt;43&lt;/button&gt;\\n            &lt;button&gt;44&lt;/button&gt;\\n            &lt;button&gt;45&lt;/button&gt;\\n            &lt;button&gt;46&lt;/button&gt;\\n            &lt;button&gt;47&lt;/button&gt;\\n            &lt;button&gt;48&lt;/button&gt;\\n            &lt;button&gt;49&lt;/button&gt;\\n            &lt;button&gt;50&lt;/button&gt;\\n            &lt;button&gt;51&lt;/button&gt;\\n            &lt;button&gt;52&lt;/button&gt;\\n            &lt;button&gt;53&lt;/button&gt;\\n            &lt;button&gt;54&lt;/button&gt;\\n            &lt;button&gt;55&lt;/button&gt;\\n            &lt;button&gt;56&lt;/button&gt;\\n            &lt;button&gt;57&lt;/button&gt;\\n            &lt;button&gt;58&lt;/button&gt;\\n            &lt;button&gt;59&lt;/button&gt;\\n            &lt;button&gt;60&lt;/button&gt;\\n            &lt;button&gt;61&lt;/button&gt;\\n            &lt;button&gt;62&lt;/button&gt;\\n            &lt;button&gt;63&lt;/button&gt;\\n            &lt;button&gt;64&lt;/button&gt;\\n            &lt;button&gt;65&lt;/button&gt;\\n            &lt;button&gt;66&lt;/button&gt;\\n            &lt;button&gt;67&lt;/button&gt;\\n            &lt;button&gt;68&lt;/button&gt;\\n            &lt;button&gt;69&lt;/button&gt;\\n            &lt;button&gt;70&lt;/button&gt;\\n            &lt;button&gt;71&lt;/button&gt;\\n            &lt;button&gt;72&lt;/button&gt;\\n            &lt;button&gt;73&lt;/button&gt;\\n            &lt;button&gt;74&lt;/button&gt;\\n            &lt;button&gt;75&lt;/button&gt;\\n            &lt;button&gt;76&lt;/button&gt;\\n            &lt;button&gt;77&lt;/button&gt;\\n            &lt;button&gt;78&lt;/button&gt;\\n            &lt;button&gt;79&lt;/button&gt;\\n            &lt;button&gt;80&lt;/button&gt;\\n            &lt;button&gt;81&lt;/button&gt;\\n            &lt;button&gt;82&lt;/button&gt;\\n            &lt;button&gt;83&lt;/button&gt;\\n            &lt;button&gt;84&lt;/button&gt;\\n            &lt;button&gt;85&lt;/button&gt;\\n            &lt;button&gt;86&lt;/button&gt;\\n            &lt;button&gt;87&lt;/button&gt;\\n            &lt;button&gt;88&lt;/button&gt;\\n            &lt;button&gt;89&lt;/button&gt;\\n            &lt;button&gt;90&lt;/button&gt;\\n            &lt;button&gt;91&lt;/button&gt;\\n            &lt;button&gt;92&lt;/button&gt;\\n            &lt;button&gt;93&lt;/button&gt;\\n            &lt;button&gt;94&lt;/button&gt;\\n            &lt;button&gt;95&lt;/button&gt;\\n            &lt;button&gt;96&lt;/button&gt;\\n            &lt;button&gt;97&lt;/button&gt;\\n            &lt;button&gt;98&lt;/button&gt;\\n            &lt;button&gt;99&lt;/button&gt;\\n            &lt;button&gt;100&lt;/button&gt;\\n          &lt;/div&gt;\\n        &lt;/td&gt;\\n      &lt;/tr&gt;\\n    &lt;/tfoot&gt;\\n  &lt;/table&gt;\\n&lt;/div&gt;</code></pre>\\r\\n</div>\\r\\n</div>\\r\\n</p>\\n'"
      ]
     },
     "metadata": {},
     "output_type": "display_data"
    },
    {
     "data": {
      "text/plain": [
       "'A:'"
      ]
     },
     "metadata": {},
     "output_type": "display_data"
    },
    {
     "data": {
      "text/plain": [
       "'<p>Is that what you\\'re trying to achieve ?</p>\\n<p><div class=\"snippet\" data-lang=\"js\" data-hide=\"false\" data-console=\"true\" data-babel=\"false\">\\r\\n<div class=\"snippet-code\">\\r\\n<pre class=\"snippet-code-js lang-js prettyprint-override\"><code>function isValid(array) {\\n  let valid = true;\\n  let counter = 1;\\n\\n  for (let i = 0; i &lt; array.length; i++) {\\n    \\n    // Remove the line below if not relevant to your case\\n    // I assumed that when there is no character, the pattern is invalid?\\n    if (counter === 0) {\\n      valid = false;\\n      break;\\n    };\\n\\n    if (array[i].length === counter) {\\n      continue;\\n    }\\n\\n    if (array[i].length === counter + 1) {\\n      counter++;\\n      continue;\\n    }\\n\\n    if (array[i].length === counter - 1) {\\n      counter--;\\n      continue;\\n    }\\n\\n    valid = false;\\n    break;\\n  }\\n\\n  if (valid) {\\n    console.log(array + \" is a valid pattern\");\\n  } else {\\n    console.log(array + \" is NOT a valid pattern\");\\n  }\\n}\\n\\nisValid([\"*\", \"**\", \"***\", \"*****\"]); // is NOT a valid pattern (skips one ascending)\\nisValid([\"*\", \"**\", \"**\", \"***\", \"****\", \"**\", \"*\", \"**\"]); // is NOT a valid pattern (skips one descending)\\nisValid([\"*\", \"\", \"*\"]); // is NOT a valid pattern (blank character)\\nisValid([\"*\", \"**\", \"***\", \"****\"]); // is a valid pattern\\nisValid([\"*\", \"**\", \"**\", \"***\", \"****\", \"***\", \"**\", \"*\", \"**\", \"***\"]); // is a valid pattern</code></pre>\\r\\n</div>\\r\\n</div>\\r\\n</p>\\n'"
      ]
     },
     "metadata": {},
     "output_type": "display_data"
    },
    {
     "data": {
      "text/plain": [
       "'A:'"
      ]
     },
     "metadata": {},
     "output_type": "display_data"
    },
    {
     "data": {
      "text/plain": [
       "'<p>The type attribute is swapped</p>\\n<pre><code>&lt;link rel=&quot;stylesheet&quot; type=&quot;text/css&quot; href=&quot;main.css&quot; /&gt;\\n</code></pre>\\n'"
      ]
     },
     "metadata": {},
     "output_type": "display_data"
    },
    {
     "data": {
      "text/plain": [
       "'A:'"
      ]
     },
     "metadata": {},
     "output_type": "display_data"
    },
    {
     "data": {
      "text/plain": [
       "'<p>Adding a templated constructor accepting a <code>std::shared_ptr&lt;T&gt;</code> should work:</p>\\n<pre class=\"lang-cpp prettyprint-override\"><code>template&lt;typename C&gt;\\nclass shared_const_ptr : public std::shared_ptr&lt;const C&gt;\\n{\\npublic :\\n    // ...\\n\\n    template &lt;typename T&gt;\\n    shared_const_ptr(std::shared_ptr&lt;const T&gt; const&amp; other) : std::shared_ptr&lt;const C&gt;(other) {}\\n\\n};\\n\\nstruct Base {};\\nstruct Derived : Base {};\\n\\nint main()\\n{\\n    shared_const_ptr&lt;Base&gt; b;\\n    shared_const_ptr d(new Derived{});\\n    b = d;\\n}\\n</code></pre>\\n<p><a href=\"https://godbolt.org/z/n45PKE9ff\" rel=\"nofollow noreferrer\">https://godbolt.org/z/n45PKE9ff</a></p>\\n<p>When constructing <code>b</code> from<code>d</code>, argument conversion will convert <code>d</code> to a <code>std::shared_ptr&lt;const Derived&gt;</code>. The constructor is viable because <code>std::shared_ptr&lt;const Derived&gt;</code> is convertible to <code>std::shared_ptr&lt;const Base&gt;</code>.</p>\\n'"
      ]
     },
     "metadata": {},
     "output_type": "display_data"
    },
    {
     "data": {
      "text/plain": [
       "'A:'"
      ]
     },
     "metadata": {},
     "output_type": "display_data"
    },
    {
     "data": {
      "text/plain": [
       "'<p>Is there a way of solving this for Poetry?</p>\\n'"
      ]
     },
     "metadata": {},
     "output_type": "display_data"
    },
    {
     "data": {
      "text/plain": [
       "'A:'"
      ]
     },
     "metadata": {},
     "output_type": "display_data"
    },
    {
     "data": {
      "text/plain": [
       "'<p>If you use <a href=\"https://springdoc.org\" rel=\"nofollow noreferrer\">SpringDoc</a> as a framework for OpenAPI generation, you could write a test in order to save <code>api-spec.json</code> into a file.</p>\\n<pre class=\"lang-java prettyprint-override\"><code>@ActiveProfiles(&quot;test&quot;)\\n@SpringBootTest\\npublic class ApiSpecJsonFileExtractor {\\n    @Value(&quot;${extraction.api-spec.json}&quot;)\\n    String filename;\\n    @Value(&quot;${springdoc.api-docs.path}&quot;)\\n    String apiDocJsonPath;\\n\\n    @Test\\n    void extractApiSpecJsonFile() throws Exception {\\n        File file = new File(filename);\\n        Path filePath = file.toPath();\\n        if (file.exists()) {\\n            Assertions.assertThat(file.isFile()).isTrue();\\n        } else {\\n            Path path = file.getParentFile().toPath();\\n            if (Files.notExists(path)) {\\n                Files.createDirectory(path);\\n            }\\n            if (Files.notExists(filePath)) {\\n                Files.createFile(file.toPath());\\n            }\\n        }\\n        mockMvc.perform(MockMvcRequestBuilders.get(apiDocJsonPath))\\n                .andDo(result -&gt; Files.write(file.toPath(), result.getResponse().getContentAsString().getBytes()));\\n    }\\n</code></pre>\\n<p>And I recommend you to separate OpenAPI annotated interfaces from the business code (classes) into another module (gradle, i.e.). You can create simple App into that module to untie your OpenAPI application from business properties.</p>\\n'"
      ]
     },
     "metadata": {},
     "output_type": "display_data"
    },
    {
     "data": {
      "text/plain": [
       "'A:'"
      ]
     },
     "metadata": {},
     "output_type": "display_data"
    },
    {
     "data": {
      "text/plain": [
       "\"<p>It's practically impossible to work on a pdf on Android without downloading it. Android browsers do not have pdf viewers.</p>\\n\""
      ]
     },
     "metadata": {},
     "output_type": "display_data"
    },
    {
     "data": {
      "text/plain": [
       "'A:'"
      ]
     },
     "metadata": {},
     "output_type": "display_data"
    },
    {
     "data": {
      "text/plain": [
       "'<p>Rolling support over one level of a MultiIndex is still imperfect, see: <a href=\"https://github.com/pandas-dev/pandas/issues/34642\" rel=\"nofollow noreferrer\">https://github.com/pandas-dev/pandas/issues/34642</a></p>\\n<p>Alternatively to @JohnE\\'s solution, one can use the <a href=\"https://pandas.pydata.org/docs/reference/api/pandas.core.groupby.SeriesGroupBy.transform.html#\" rel=\"nofollow noreferrer\">transform</a> method:</p>\\n<pre><code>df.groupby(level=\\'Name\\')\\\\\\n  .Vals\\\\\\n  .transform(lambda d: d.rolling(\\'30D\\', on=d.index.levels[1])\\\\\\n                        .mean()\\n            )\\n</code></pre>\\n<p>Notice that the code without <code>transform</code>:</p>\\n<pre><code>df.groupby(level=\\'Name\\')\\\\\\n  .Vals\\\\\\n  .rolling(\\'30D\\', on=df.index.levels[1])\\\\\\n  .mean()\\n</code></pre>\\n<p>throws an <code>IndexError</code> (at least on Pandas 1.5).</p>\\n'"
      ]
     },
     "metadata": {},
     "output_type": "display_data"
    },
    {
     "data": {
      "text/plain": [
       "'A:'"
      ]
     },
     "metadata": {},
     "output_type": "display_data"
    },
    {
     "data": {
      "text/plain": [
       "\"<p>The Marcin Orlowski's answer actually works, however I found a shorter way, which is :</p>\\n<pre><code>override fun onDraw(canvas: Canvas) {\\n    if (isInEditMode) return\\n    ...\\n}\\n</code></pre>\\n\""
      ]
     },
     "metadata": {},
     "output_type": "display_data"
    },
    {
     "data": {
      "text/plain": [
       "'A:'"
      ]
     },
     "metadata": {},
     "output_type": "display_data"
    },
    {
     "data": {
      "text/plain": [
       "'<p>There is no fundamental reason they <em>have</em> to be implemented at the root, for all the reasons you mention. This answer will be specifically for c#, but I would guess many of the arguments apply to java as well.</p>\\n<p>We can only speculate why the language designers used this model, but it is likely influenced by the lack of generics in the first version of C#. Influence from java, that also lacked generics, may also have played a part. Note that in c# your proposed interface does exist in the form of <a href=\"https://learn.microsoft.com/en-us/dotnet/api/system.iequatable-1?view=net-8.0\" rel=\"nofollow noreferrer\"><code>IEquatable&lt;T&gt;</code></a>.</p>\\n<p>However If I understand your argument correctly, <code>HashSet</code> would be constrained to <code>IEquatable&lt;T&gt;</code>. This would only be implemented for types using value equality. Therefore <code>HashSet</code> could not be used with types using reference equality, and this seem like an obvious problem. Dictionaries and HashSets are still very useful for objects using reference equality.</p>\\n<p>That is not to say I think the equality system, as it is now, is well designed. To compare two objects you may use</p>\\n<ol>\\n<li><code>.Equals(object obj)</code></li>\\n<li><code>IEquatable&lt;T&gt;.Equals(T obj)</code></li>\\n<li>Equality operators, <code>==</code> / <code>!=</code>, (and each of these require explicit implementation)</li>\\n<li><code>IEqualityComparer&lt;T&gt;.Equals(T a, T b)</code></li>\\n</ol>\\n<p>This is confusing for new developers, and tend to lead to a quite significant amount of boiler plate code. This, as many other things, is partially due to the language evolution. New features have to be carefully designed work with existing code. If c# where rewritten from scratch you could almost certainly make improvements, and that would likely include removal or redesign of <code>.Equals(object obj)</code>. But that is not really feasible since it would break decades of existing code.</p>\\n<p>If you are designing a new language please <em>do</em> consider ways to handle equality better. But I would expect this to require some major design work to make it as easy to understand and use as possible while still allowing for necessary flexibility. Designing languages is not easy! Looking around at other languages there are several that has problems in the equality area, C# is at least better than <a href=\"https://dorey.github.io/JavaScript-Equality-Table/\" rel=\"nofollow noreferrer\">javascript</a>.</p>\\n<p>As for similar languages, both java and c# where in some sense intended as an easier to use c++. And that just avoid the problem by not having a common type root at all. But there are some usability downsides with that approach.</p>\\n'"
      ]
     },
     "metadata": {},
     "output_type": "display_data"
    },
    {
     "data": {
      "text/plain": [
       "'A:'"
      ]
     },
     "metadata": {},
     "output_type": "display_data"
    },
    {
     "data": {
      "text/plain": [
       "'<p>That\\'s a prudent decision you took in the end. I\\'ve been building a solution that is passkey-first and uses email links as fallback if something fails or if the device is not ready. Currently also creating a sample integration of it in Flutter: <a href=\"https://github.com/corbado/example-passkeys-api-flutter\" rel=\"nofollow noreferrer\">https://github.com/corbado/example-passkeys-api-flutter</a></p>\\n<p>As I\\'ve gathered quite some data regarding devices\\' passkey-readiness, I can share that too if that helps.</p>\\n'"
      ]
     },
     "metadata": {},
     "output_type": "display_data"
    },
    {
     "data": {
      "text/plain": [
       "'A:'"
      ]
     },
     "metadata": {},
     "output_type": "display_data"
    },
    {
     "data": {
      "text/plain": [
       "'<p>you can add simply power shall plugin and create a job and add a build step choose power shall option</p>\\n<p>Copy-Item -Path “D:\\\\repo\\\\test-Jenkin*” -Destination “E:\\\\new copy\\\\repo1” -Recurse</p>\\n'"
      ]
     },
     "metadata": {},
     "output_type": "display_data"
    },
    {
     "data": {
      "text/plain": [
       "'A:'"
      ]
     },
     "metadata": {},
     "output_type": "display_data"
    },
    {
     "data": {
      "text/plain": [
       "'<p>You can use a <a href=\"https://github.com/awaitility/awaitility/wiki/Usage#condition-evaluation-listener\" rel=\"nofollow noreferrer\">condition evaluation listener</a>:</p>\\n<pre><code>await()\\n        .conditionEvaluationListener(condition -&gt; {\\n            if (condition.getRemainingTimeInMS() &lt;= 0) {\\n                // Do stuff!\\n            }\\n        })\\n        .until(myCondition)\\n</code></pre>\\n'"
      ]
     },
     "metadata": {},
     "output_type": "display_data"
    },
    {
     "data": {
      "text/plain": [
       "'A:'"
      ]
     },
     "metadata": {},
     "output_type": "display_data"
    },
    {
     "data": {
      "text/plain": [
       "'<p>If you want to store Date and time in separate fields than use <a href=\"https://docs.oracle.com/javase/8/docs/api/java/time/LocalDate.html\" rel=\"nofollow noreferrer\">LocalDate</a> and <a href=\"https://docs.oracle.com/javase/8/docs/api/java/time/LocalTime.html\" rel=\"nofollow noreferrer\">LocalTime</a> classes. If you want to keep them in one field you can use <a href=\"https://docs.oracle.com/javase/8/docs/api/java/time/LocalDateTime.html\" rel=\"nofollow noreferrer\">LocalDateTime</a> or if you want to have a reference to exact moment you will have to have offset reference, and than you will need to use <a href=\"https://docs.oracle.com/javase/8/docs/api/java/time/OffsetDateTime.html\" rel=\"nofollow noreferrer\">OffsetDateTime</a> or <a href=\"https://docs.oracle.com/javase/8/docs/api/java/time/ZonedDateTime.html\" rel=\"nofollow noreferrer\">ZonedDateTime</a>. In general, read up on package java.time.</p>\\n'"
      ]
     },
     "metadata": {},
     "output_type": "display_data"
    },
    {
     "data": {
      "text/plain": [
       "'A:'"
      ]
     },
     "metadata": {},
     "output_type": "display_data"
    },
    {
     "data": {
      "text/plain": [
       "\"<p>I suggest using something I'd call &quot;TurningPoints&quot;. Basically whenever you change direction, you save the point where you have to turn and which direction. Then whenever a segment reaches this point, you turn it according to the saved direction. In your case, you don't have to actually track a point on the grid, instead you can simply track the index of the segment to turn. After each turn you increment the index to point it to the next segment, until you turned all segments, then you remove the TurningPoint. To demonstrate here a small code sample:</p>\\n<pre><code>public struct TurningPoint {\\n    public int Index;\\n    public Vector2 Direction\\n}\\n\\nprivate List&lt;TurningPoint&gt; _turningPoints = new List&lt;TurningPoint&gt;();\\n\\nvoid Update(){\\n    // ...\\n    // It would be the same for all other directions\\n    if(Input.GetKeyDown(KeyCode.W) &amp;&amp; lastHitKey != KeyCode.S)\\n    {\\n        this.gameObject.GetComponent&lt;SpriteRenderer&gt;().sprite = SnakeHeadUp;\\n        lastHitKey = KeyCode.W;\\n        _direction = Vector2.up; \\n        _turningPoints.Add(new TurningPoint(){\\n            Index = 0,\\n            Direction = _direction\\n        };\\n    }\\n}\\n\\nvoid FixedUpdate(){\\n    // ...\\n    for(int i = 0;i &lt; _turningPoints.Count;i++){\\n        TurningPoint p = _turningPoints[i]\\n        Transform segmentToTurn = _segments[p.Index];\\n        // We're in 2D so we rotate around the Z-Axis\\n        segmentToTurn.Rotate(0f, 0f, 90f);\\n        p.Index += 1;\\n        // because TurningPoint is a struct we need to write the changed index back to the list\\n        _turningPoints[i] = p;\\n    }\\n    // now we check if we need to remove the oldest turning point because all segments already passed it\\n    if(_turningPoints.Count &gt; 0 &amp;&amp; _turningPoints[0].Index &gt;= _segments.Count){\\n        _turningPoints.RemoveAt(0);\\n    }\\n}\\nvoid ResetState(){\\n    // ...\\n    _turningPoints.Clear();\\n}\\n</code></pre>\\n\""
      ]
     },
     "metadata": {},
     "output_type": "display_data"
    },
    {
     "data": {
      "text/plain": [
       "'A:'"
      ]
     },
     "metadata": {},
     "output_type": "display_data"
    },
    {
     "data": {
      "text/plain": [
       "'<p>Had this same discussion with Microsoft a few months back and their developer working with B2C confirmed that GCM cipher mode is not supported by B2C in saml assertions.</p>\\n<p>On the other hand the potential security vulnerability related to CBC has not been observed in the wild. On top of that if the saml assertions are properly signed and verified then the risk is even lower.</p>\\n'"
      ]
     },
     "metadata": {},
     "output_type": "display_data"
    },
    {
     "data": {
      "text/plain": [
       "'A:'"
      ]
     },
     "metadata": {},
     "output_type": "display_data"
    },
    {
     "data": {
      "text/plain": [
       "'<p>This is indeed possible, you can find some inspiration in <a href=\"https://community.deepnote.com/c/showcase/typescript-in-deepnote\" rel=\"nofollow noreferrer\">my post in Deepnote Community</a> or clone <a href=\"https://deepnote.com/workspace/jz-d0f7bed4-4e26-4bb6-812a-fd327eb3edc1/project/TypeScript-environment-ecd62d8f-d48d-4e99-a11d-b381d99ed9b7/notebook/notebook-12852eaa582d4c7394a995c1f0153264\" rel=\"nofollow noreferrer\">this particular notebook</a>.</p>\\n<p>It is based on the <a href=\"https://github.com/yunabe/tslab\" rel=\"nofollow noreferrer\">tslab kernel</a> for Jupyter. Here is how my Dockerfile looks like exactly:</p>\\n<pre><code>FROM deepnote/python:3.10\\n\\nENV NODE_VERSION=18.16.0\\nENV NVM_DIR=/opt/nvm\\nRUN mkdir $NVM_DIR\\n\\nRUN curl -o- https://raw.githubusercontent.com/creationix/nvm/v0.39.3/install.sh | bash\\nRUN . &quot;$NVM_DIR/nvm.sh&quot; &amp;&amp; nvm install ${NODE_VERSION}\\nRUN . &quot;$NVM_DIR/nvm.sh&quot; &amp;&amp; nvm use v${NODE_VERSION}\\nRUN . &quot;$NVM_DIR/nvm.sh&quot; &amp;&amp; nvm alias default v${NODE_VERSION}\\nENV PATH=&quot;${NVM_DIR}/versions/node/v${NODE_VERSION}/bin/:${PATH}&quot;\\nRUN node --version\\nRUN npm --version\\n\\n# Installing tslab is problematic as root\\nRUN useradd -ms /bin/bash tslab-installer\\nRUN chmod -R 777 /opt/nvm\\nRUN sudo -u tslab-installer sh -c \\' \\\\\\n    export NVM_DIR=/opt/nvm; \\\\\\n    . &quot;$NVM_DIR/nvm.sh&quot; &amp;&amp; nvm install ${NODE_VERSION}; \\\\\\n    . &quot;$NVM_DIR/nvm.sh&quot; &amp;&amp; nvm use v${NODE_VERSION}; \\\\\\n    . &quot;$NVM_DIR/nvm.sh&quot; &amp;&amp; nvm alias default v${NODE_VERSION}; \\\\\\n    PATH=&quot;/opt/nvm/versions/node/v${NODE_VERSION}/bin/:${PATH}&quot;; \\\\\\n    /opt/nvm/versions/node/v18.16.0/bin/npm i -g tslab\\'\\n\\nRUN pip install jupyter\\nRUN tslab install\\n\\nENV NODE_PATH &quot;${NVM_DIR}/versions/node/v${NODE_VERSION}/lib/node_modules&quot;\\nENV DEFAULT_KERNEL_NAME &quot;tslab&quot;\\n</code></pre>\\n<p>Here is a bit more info about <a href=\"https://deepnote.com/docs/custom-environments\" rel=\"nofollow noreferrer\">Custom Environments</a> and <a href=\"https://deepnote.com/docs/running-your-own-kernel\" rel=\"nofollow noreferrer\">Custom kernels</a> in Deepnote docs.</p>\\n'"
      ]
     },
     "metadata": {},
     "output_type": "display_data"
    },
    {
     "data": {
      "text/plain": [
       "'A:'"
      ]
     },
     "metadata": {},
     "output_type": "display_data"
    },
    {
     "data": {
      "text/plain": [
       "'<p>To change the text color in ImGui without a border, you can use the <code>ImGui::TextColored()</code> function. This function allows you to set the color of the text without the border.</p>\\n<p>example code</p>\\n<pre><code>ImGui::SetCursorPos(ImVec2(10, 45));\\nImGui::Text(&quot;Cheat Status&quot;);\\n\\nImGui::SetCursorPos(ImVec2(10, 65));\\nImGui::TextColored(ImVec4(0, 1, 0, 1), &quot;Undetected&quot;);\\n</code></pre>\\n<p>In the above code, the <code>ImGui::TextColored()</code> function is used to set the color of the text to green <code>(RGB: 0, 1, 0)</code>. You can replace these values with the color of your choice.</p>\\n<p>Note that the <code>ImGui::TextColored()</code> function takes an ImVec4 vector as its first argument, which represents the color in RGBA format. The last value (alpha) controls the opacity of the color.</p>\\n<p>I hope this helps!</p>\\n'"
      ]
     },
     "metadata": {},
     "output_type": "display_data"
    },
    {
     "data": {
      "text/plain": [
       "'A:'"
      ]
     },
     "metadata": {},
     "output_type": "display_data"
    },
    {
     "data": {
      "text/plain": [
       "'<p>Just add them to <code>IMAGE_INSTALL</code></p>\\n<pre><code>IMAGE_INSTALL:append = &quot; libiio libiio-iiod libiio-python3&quot;\\n</code></pre>\\n'"
      ]
     },
     "metadata": {},
     "output_type": "display_data"
    },
    {
     "data": {
      "text/plain": [
       "'A:'"
      ]
     },
     "metadata": {},
     "output_type": "display_data"
    },
    {
     "data": {
      "text/plain": [
       "'<p>I have write on Powershell\\n$env:PYTHONPATH = &quot;C:\\\\Users\\\\adolfo\\\\Desktop\\\\borrar&quot;\\nwith the route of the root folder of the project</p>\\n'"
      ]
     },
     "metadata": {},
     "output_type": "display_data"
    },
    {
     "data": {
      "text/plain": [
       "'A:'"
      ]
     },
     "metadata": {},
     "output_type": "display_data"
    },
    {
     "data": {
      "text/plain": [
       "'<p>Try using a DataOutputStream like below:</p>\\n<pre><code>        try (DataOutputStream wr = new DataOutputStream(con.getOutputStream())) {\\n            wr.writeBytes(json);\\n            wr.flush();\\n        }\\n</code></pre>\\n'"
      ]
     },
     "metadata": {},
     "output_type": "display_data"
    },
    {
     "data": {
      "text/plain": [
       "'A:'"
      ]
     },
     "metadata": {},
     "output_type": "display_data"
    },
    {
     "data": {
      "text/plain": [
       "'<p><div class=\"snippet\" data-lang=\"js\" data-hide=\"false\" data-console=\"true\" data-babel=\"false\">\\r\\n<div class=\"snippet-code\">\\r\\n<pre class=\"snippet-code-js lang-js prettyprint-override\"><code>window.addEventListener(\\'scroll\\', function() {\\n  let offset = window.pageYOffset;\\n  document.querySelector(\\'.title\\').style.backgroundPositionY = offset * 0.7 + \\'px\\';\\n});</code></pre>\\r\\n<pre class=\"snippet-code-css lang-css prettyprint-override\"><code>.title {\\n  background-image: url(\\'https://cdn.firstcry.com/education/2022/04/25155522/1378635314.jpg\\');\\n  background-size: cover;\\n  background-attachment: fixed;\\n  height: 100vh;\\n  overflow-x: hidden;\\n  overflow-y: auto;\\n  background-repeat: no-repeat;\\n}\\n\\n.title-text {\\n  position: relative;\\n  top: 50%;\\n  transform: translateY(-50%);\\n  text-align: center;\\n  color: white;\\n  padding: 10px;\\n}</code></pre>\\r\\n<pre class=\"snippet-code-html lang-html prettyprint-override\"><code>&lt;div class=\"title\"&gt;\\n  &lt;div class=\"title-text\"&gt;\\n    &lt;h1&gt;I\\'m Travis&lt;/h1&gt;\\n    &lt;h2&gt;\\n    The developer\\n    &lt;/h2&gt;\\n  &lt;/div&gt;\\n&lt;/div&gt;</code></pre>\\r\\n</div>\\r\\n</div>\\r\\n</p>\\n<p>put this line in css</p>\\n<pre><code>.title{\\nbackground-attachment: fixed;\\n}\\n</code></pre>\\n'"
      ]
     },
     "metadata": {},
     "output_type": "display_data"
    },
    {
     "data": {
      "text/plain": [
       "'A:'"
      ]
     },
     "metadata": {},
     "output_type": "display_data"
    },
    {
     "data": {
      "text/plain": [
       "'<p>first you must Made a connection in SSDT Project that better connection in Project LEvel</p>\\n<p>then you can made Environment in SSIS Catalog</p>\\n<p>then you can Set connection based on Environment Operation and decrypt the\\npassword</p>\\n<p>example:\\n<a href=\"https://www.mssqltips.com/sqlservertip/4810/setup-environment-variables-in-sql-server-integration-services/\" rel=\"nofollow noreferrer\">https://www.mssqltips.com/sqlservertip/4810/setup-environment-variables-in-sql-server-integration-services/</a></p>\\n'"
      ]
     },
     "metadata": {},
     "output_type": "display_data"
    },
    {
     "data": {
      "text/plain": [
       "'A:'"
      ]
     },
     "metadata": {},
     "output_type": "display_data"
    },
    {
     "data": {
      "text/plain": [
       "\"<p>The closest thing to what you want to achieve is to simply pass <code>userModel</code> into function's parameters (I also passed args as object because it's not good to have a bunch of unnamed arguments):</p>\\n<pre><code>export async function isFriends({\\n    userID,\\n    friendID,\\n    userModel,\\n}: {\\n    userID: string;\\n    friendID: string;\\n    userModel: Model&lt;UserDocument&gt;;\\n}) {\\n    const user1 = await userModel.findById(userID);\\n}\\n</code></pre>\\n\""
      ]
     },
     "metadata": {},
     "output_type": "display_data"
    },
    {
     "data": {
      "text/plain": [
       "'A:'"
      ]
     },
     "metadata": {},
     "output_type": "display_data"
    },
    {
     "data": {
      "text/plain": [
       "'<p>The KeyError is only thrown if it is really a KeyError.</p>\\n<p>Try this for example:</p>\\n<pre><code>def search_contact(self,name):    #its the search contact function to search if there is a contact that given name in the dictionary I used try and except block\\n    try:\\n        if dictionary[name]:\\n            print(&quot;Contact name :&quot;,name)\\n            print(&quot;Contact phone number:&quot;,dictionary[name])\\n    except KeyError:\\n        print(&quot;There is no user in this name&quot;)\\n</code></pre>\\n<p>The KeyError only occurs when you try to access a key which is not existing. And the Code does nothing if you check the existing of the key with an if statement because it doesnt access the given key in the dictionary.</p>\\n<p>For modify_contact try to update the value with:</p>\\n<pre><code>dictionary[name] = x\\n</code></pre>\\n<p>and delete the else-clause.\\nThen edit the if statement to:</p>\\n<pre><code>if dictionary[name]:\\n</code></pre>\\n'"
      ]
     },
     "metadata": {},
     "output_type": "display_data"
    },
    {
     "data": {
      "text/plain": [
       "'A:'"
      ]
     },
     "metadata": {},
     "output_type": "display_data"
    },
    {
     "data": {
      "text/plain": [
       "'<p>This <em>can</em> be done without using <code>:has()</code> (which still has no support in FIrefox, unless the user explicitly enables it), and without JavaScript.</p>\\n<p>First of all, the <code>.mega-menu</code> is a sibling of the UL - so we use <code>.nav-menu:hover + .mega-menu</code> as our selector, to make it visible, when the UL gets hovered.</p>\\n<p>But you probably don\\'t want it to show already when the list itself gets hovered, but only when one of the actual navigation items gets hovered?</p>\\n<p>That can be achieved here by putting <code>pointer-events: none</code> on the UL, and &quot;reversing&quot; that again with <code>pointer-events: all</code> on the LI.</p>\\n<p><div class=\"snippet\" data-lang=\"js\" data-hide=\"false\" data-console=\"true\" data-babel=\"false\">\\r\\n<div class=\"snippet-code\">\\r\\n<pre class=\"snippet-code-css lang-css prettyprint-override\"><code>.nav-menu {\\n  min-height: 112px;\\n  padding-left: 5.6rem;\\n  padding-right: 5.6rem;\\n  background-color: green;\\n  display: flex;\\n  gap: 24px;\\n  align-items: center;\\n  justify-content: center;\\n  pointer-events: none;\\n}\\n\\n.nav-menu li {\\n  list-style: none;\\n  pointer-events: all;\\n}\\n\\n.nav-menu li a {\\n  color: white;\\n  text-decoration: none;\\n}\\n\\n.nav-menu li a:hover{\\n  text-decoration: underline;\\n}\\n\\n.mega-menu {\\n  visibility: hidden;\\n  opacity: 0;\\n  position: absolute;\\n  background-color: lightblue;\\n  width: 100%;\\n  min-height: 250px;\\n  top: 128px;\\n  text-align: center;\\n}\\n\\n.nav-menu:hover + .mega-menu {\\n  visibility: visible; \\n  opacity: 1;\\n}</code></pre>\\r\\n<pre class=\"snippet-code-html lang-html prettyprint-override\"><code>&lt;div class=\"container\"&gt;\\n  &lt;ul class=\"nav-menu\"&gt;\\n    &lt;li&gt;\\n      &lt;a href=\"#\"&gt;Navigation item&lt;/a&gt;\\n    &lt;/li&gt;\\n    &lt;li&gt;\\n      &lt;a href=\"#\"&gt;Navigation item&lt;/a&gt;\\n    &lt;/li&gt;\\n    &lt;li&gt;\\n      &lt;a href=\"#\"&gt;Navigation item&lt;/a&gt;\\n    &lt;/li&gt;\\n    &lt;li&gt;\\n      &lt;a href=\"#\"&gt;Navigation item&lt;/a&gt;\\n    &lt;/li&gt;\\n    &lt;li&gt;\\n      &lt;a href=\"#\"&gt;Navigation item&lt;/a&gt;\\n    &lt;/li&gt;\\n  &lt;/ul&gt;\\n\\n  &lt;div class=\"mega-menu\"&gt;\\n    This mega menu should only be visible when one of the list items in the nav\\n    menu is hovered on (and then once open will close when no longer hovering on\\n    the mega menu)\\n  &lt;/div&gt;\\n&lt;/div&gt;</code></pre>\\r\\n</div>\\r\\n</div>\\r\\n</p>\\n'"
      ]
     },
     "metadata": {},
     "output_type": "display_data"
    },
    {
     "data": {
      "text/plain": [
       "'A:'"
      ]
     },
     "metadata": {},
     "output_type": "display_data"
    },
    {
     "data": {
      "text/plain": [
       "\"<p>If you're fine with rounding down to the nearest quarter-hour, doing <code>.dt.to_freq('15min')</code> would also work. Note that it would change the dtype, which might be desired.</p>\\n\""
      ]
     },
     "metadata": {},
     "output_type": "display_data"
    },
    {
     "data": {
      "text/plain": [
       "'A:'"
      ]
     },
     "metadata": {},
     "output_type": "display_data"
    },
    {
     "data": {
      "text/plain": [
       "'<p>Probably this line fails:</p>\\n<pre class=\"lang-kotlin prettyprint-override\"><code>binding.dropdownUser.setAdapter(dropdownAdapter)\\n</code></pre>\\n<p>Because, you initialize <code>dropdownAdapter</code> asynchronously in <code>launchWhenCreated</code>, but before it can get initialized, you try to use it like <code>.setAdapter(dropdownAdapter)</code>.</p>\\n<p>You could either:</p>\\n<ol>\\n<li>Create <code>dropdownAdapter</code> in <code>setupRecyclerView</code>, just like <code>todoAdapter</code>, and fill the <code>userResponse.body</code> later.</li>\\n<li>Or call <code>binding.dropdownUser.setAdapter(dropdownAdapter)</code> inside <code>launchWhenCreated</code>, after you initialize <code>dropdownAdapter</code></li>\\n</ol>\\n<p>Also, before you return from <code>todosResponse</code> with <code>return@launchWhenCreated</code>, you should cancel users API, because you won\\'t use it: <code>usersDeferred.cancel()</code></p>\\n'"
      ]
     },
     "metadata": {},
     "output_type": "display_data"
    },
    {
     "data": {
      "text/plain": [
       "'A:'"
      ]
     },
     "metadata": {},
     "output_type": "display_data"
    },
    {
     "data": {
      "text/plain": [
       "'<p>From <a href=\"https://es.quarkus.io/guides/deploying-to-kubernetes\" rel=\"nofollow noreferrer\">the official docs</a>, there are several options like:</p>\\n<pre><code>quarkus.kubernetes.init-containers.&quot;init-containers&quot;.resources.limits.cpu\\nquarkus.kubernetes.init-containers.&quot;init-containers&quot;.resources.limits.memory\\n</code></pre>\\n'"
      ]
     },
     "metadata": {},
     "output_type": "display_data"
    },
    {
     "data": {
      "text/plain": [
       "'A:'"
      ]
     },
     "metadata": {},
     "output_type": "display_data"
    },
    {
     "data": {
      "text/plain": [
       "'<p>If you\\'re using resources, say <code>icons.qrc</code> you need to compile it using <code>pyrcc5</code> like this:</p>\\n<pre class=\"lang-bash prettyprint-override\"><code>pyrcc5 -o icons_rc.py icons.qrc\\n</code></pre>\\n<p>And import somewhere in your program before creating window</p>\\n<pre class=\"lang-py prettyprint-override\"><code>import icons_rc\\n</code></pre>\\n<p>If you dont have <code>pyrcc5</code> you need to install <code>pyqt5-tools</code></p>\\n<pre class=\"lang-bash prettyprint-override\"><code>pip install pyqt5-tools\\n</code></pre>\\n'"
      ]
     },
     "metadata": {},
     "output_type": "display_data"
    },
    {
     "data": {
      "text/plain": [
       "'A:'"
      ]
     },
     "metadata": {},
     "output_type": "display_data"
    },
    {
     "data": {
      "text/plain": [
       "'<p>First of all, if <code>@angular/material/theming</code> has a preceeding <code>~</code> then remove it.</p>\\n<p>As for the lost styles this is because in Material 15 many components were completely re-written and others got a style updates. A migration tool is provided that helps you with the migration. For that run <code>ng generate @angular/material:mdc-migration</code>.</p>\\n<p>However, practially you\\'ll probably still have to do a lot of manuel changes depending on the complexity of your application. My advice when migrating is to migrate component by component and check your application each time for changes.</p>\\n<p>Use <a href=\"https://rc.material.angular.io/guide/mdc-migration\" rel=\"nofollow noreferrer\">this</a> guide as a reference</p>\\n'"
      ]
     },
     "metadata": {},
     "output_type": "display_data"
    },
    {
     "data": {
      "text/plain": [
       "'A:'"
      ]
     },
     "metadata": {},
     "output_type": "display_data"
    },
    {
     "data": {
      "text/plain": [
       "'<p>There is no native <code>v-change</code> <a href=\"https://vuejs.org/api/built-in-directives.html\" rel=\"nofollow noreferrer\">Vue Directive</a></p>\\n<p>But it works, since you have</p>\\n<pre><code>@change=&quot;changeSelecterStatus&quot;\\nv-on:change=&quot;changeSelecterStatus&quot;\\n</code></pre>\\n<p>Which are doing the same thing: <code>@</code> is a shortcut for <a href=\"https://vuejs.org/api/built-in-directives.html#v-on\" rel=\"nofollow noreferrer\"><code>v-on</code></a>, so <code>@change</code> = <code>v-on:change</code></p>\\n<p>The <code>v-change</code> and <code>on-change</code> have no effect and do nothing.</p>\\n<p>Replace all this</p>\\n<pre><code>on-change=&quot;changeSelecterStatus&quot;\\nv-on:change=&quot;changeSelecterStatus&quot;\\nv-on:input=&quot;changeSelecterStatus&quot;\\nv-change=&quot;changeSelecterStatus()&quot;\\n</code></pre>\\n<p>with</p>\\n<pre><code>  @change=&quot;changeSelecterStatus&quot;\\n</code></pre>\\n<p>It is enough to catch the <code>onChange</code> event.</p>\\n'"
      ]
     },
     "metadata": {},
     "output_type": "display_data"
    },
    {
     "data": {
      "text/plain": [
       "'A:'"
      ]
     },
     "metadata": {},
     "output_type": "display_data"
    },
    {
     "data": {
      "text/plain": [
       "\"<p>This is because protected members of a base class can only be accessed from derived classes' scope.</p>\\n<p>The reason this part of the following code;</p>\\n<pre><code>MyClass myClassCopy = (MyClass)myClass.MemberwiseClone();\\n</code></pre>\\n<p>cannot access the 'MemberwiseClone' method is, simply 'myClassCopy' object is outside of the derived class scope, that's why it can't be reached through object.</p>\\n\""
      ]
     },
     "metadata": {},
     "output_type": "display_data"
    },
    {
     "data": {
      "text/plain": [
       "'A:'"
      ]
     },
     "metadata": {},
     "output_type": "display_data"
    },
    {
     "data": {
      "text/plain": [
       "'<p>Going by what is in <a href=\"https://github.com/apache/age/blob/master/README.md\" rel=\"nofollow noreferrer\">AGE Github documentation</a>, I don\\'t think running <code>make installcheck</code> is necessary after running <code>make install</code>. I encountered similar challenges but, after following the exact steps in the documentation, there was no challenge.</p>\\n'"
      ]
     },
     "metadata": {},
     "output_type": "display_data"
    },
    {
     "data": {
      "text/plain": [
       "'A:'"
      ]
     },
     "metadata": {},
     "output_type": "display_data"
    },
    {
     "data": {
      "text/plain": [
       "'<p>Yes, it is possible to specify a version number when registering a model with some machine learning frameworks and platforms. However, this may depend on the specific framework or platform you are using.</p>\\n<p>For example, in TensorFlow, you can specify the version number by setting the version parameter when calling the tf.saved_model.save() function. Similarly, in PyTorch, you can set the version number by including it in the model path when saving the model using torch.save().</p>\\n<p>It is best to refer to the documentation of the specific framework or platform you are using to determine if and how you can specify a version number when registering a model.</p>\\n'"
      ]
     },
     "metadata": {},
     "output_type": "display_data"
    },
    {
     "data": {
      "text/plain": [
       "'A:'"
      ]
     },
     "metadata": {},
     "output_type": "display_data"
    },
    {
     "data": {
      "text/plain": [
       "\"<p>so i'm just bad at coding here's updated code that works</p>\\n<pre><code>function addFont(font, fontName){\\n  const link = document.createElement(&quot;link&quot;)\\n  link.href = font;\\n  link.rel = &quot;stylesheet&quot;\\n  document.body.insertBefore(link, target);\\n  console.log(link)\\n  document.body.style.fontFamily = fontName;\\n}\\naddFont(&quot;https://fonts.googleapis.com/css2?family=Roboto&amp;display=swap&quot;, &quot;'Roboto', sans-serif&quot;)\\n</code></pre>\\n\""
      ]
     },
     "metadata": {},
     "output_type": "display_data"
    },
    {
     "data": {
      "text/plain": [
       "'A:'"
      ]
     },
     "metadata": {},
     "output_type": "display_data"
    },
    {
     "data": {
      "text/plain": [
       "'<p>I had the same issue and fixed it just by updating OData dependent packages through the Nugget package manager window.</p>\\n<p><strong>1. Open Package manager</strong></p>\\n<p><a href=\"https://i.stack.imgur.com/1S9X4.jpg\" rel=\"nofollow noreferrer\"><img src=\"https://i.stack.imgur.com/1S9X4.jpg\" alt=\"enter image description here\" /></a></p>\\n<p><strong>2. Update these packages</strong></p>\\n<p><a href=\"https://i.stack.imgur.com/eWtjE.jpg\" rel=\"nofollow noreferrer\"><img src=\"https://i.stack.imgur.com/eWtjE.jpg\" alt=\"enter image description here\" /></a></p>\\n<p><strong>3. Rebuild your application</strong></p>\\n'"
      ]
     },
     "metadata": {},
     "output_type": "display_data"
    },
    {
     "data": {
      "text/plain": [
       "'A:'"
      ]
     },
     "metadata": {},
     "output_type": "display_data"
    },
    {
     "data": {
      "text/plain": [
       "'<p>A quick google search leads to <a href=\"https://learn.microsoft.com/en-us/powershell/module/microsoft.powershell.security/get-acl?view=powershell-7.3\" rel=\"nofollow noreferrer\">Get-ACL</a> and <a href=\"https://learn.microsoft.com/en-us/powershell/module/microsoft.powershell.security/set-acl?view=powershell-7.3\" rel=\"nofollow noreferrer\">Set-ACL</a></p>\\n<p>A guide for your task:\\n<a href=\"https://petri.com/how-to-use-powershell-to-manage-folder-permissions/\" rel=\"nofollow noreferrer\">https://petri.com/how-to-use-powershell-to-manage-folder-permissions/</a></p>\\n'"
      ]
     },
     "metadata": {},
     "output_type": "display_data"
    },
    {
     "data": {
      "text/plain": [
       "'A:'"
      ]
     },
     "metadata": {},
     "output_type": "display_data"
    },
    {
     "data": {
      "text/plain": [
       "'<p>So I understand your question to be asking for suggestions on optimizing a raffle site that needs to support multiple people simultaneously. You are concerned about the performance impact of verifying available numbers in the database, and are looking for alternative solutions to avoid repetitive queries.</p>\\n<ol>\\n<li><p>You could use a caching mechanism to store the undrawn numbers temporarily in memory, rather than continuously querying the database for available numbers. This can significantly reduce the database load and improve performance.</p>\\n</li>\\n<li><p>You could generate a pool of random numbers upfront and store them in a file or in memory, then select from this pool when needed. You would only need to generate new numbers once the pool is exhausted, reducing the frequency of database queries.</p>\\n</li>\\n<li><p>You could use a distributed or NoSQL database that can handle large volumes of simultaneous requests more efficiently than traditional relational databases. This can help ensure that the raffle site remains responsive even during periods of high traffic.</p>\\n</li>\\n</ol>\\n'"
      ]
     },
     "metadata": {},
     "output_type": "display_data"
    },
    {
     "data": {
      "text/plain": [
       "'A:'"
      ]
     },
     "metadata": {},
     "output_type": "display_data"
    },
    {
     "data": {
      "text/plain": [
       "\"<p>You can for example, sort an array using data-index as a criteria.\\nThen get first element in the sorted array:</p>\\n<pre><code>  const getMaxIndex = () =&gt; {\\n\\n    const sorted = $(&quot;.repeater-item&quot;).sort(function (a, b) {\\n\\n      const indexANumeric = +$(a).data('index').replace(&quot;-&quot;, &quot;&quot;);\\n      const indexBNumeric = +$(b).data('index').replace(&quot;-&quot;, &quot;&quot;);\\n\\n      return indexBNumeric - indexANumeric;\\n\\n    }).get();\\n\\n    return $(sorted[0]).data('index');\\n  }\\n</code></pre>\\n\""
      ]
     },
     "metadata": {},
     "output_type": "display_data"
    },
    {
     "data": {
      "text/plain": [
       "'A:'"
      ]
     },
     "metadata": {},
     "output_type": "display_data"
    },
    {
     "data": {
      "text/plain": [
       "\"<p>First of all: if the <code>collapse(3)</code> makes the loop slower, try another compiler. Some compilers are not great with index calculations in collapsed loops. You can also try <code>collapse(2)</code> or even leaving it out if the outer loop has enough iterations. Speaking of which: how many <code>i,j,k</code> iterations are there combined? That number probably has to be at least some thousands.</p>\\n<p>More about those loops. You are indexing by <code>(k,i,j)</code> but your loops are arranged differently. Since (as @PierU points out) Eigen arrays are column-major, you should order your loops with <code>j</code> outer, <code>i</code> middle, and <code>k</code> inner.</p>\\n<p>About your attempt to formulate this as a reduction: you don't have a reduction. For a reduction some quantity (usually a scalar) needs to appear both left and right hand side.</p>\\n<p>About your compile error: you can only reduce on scalars or C-style arrays. That explains your error message about no &quot;used defined reduction&quot;. To reduce on any C++ container you could extract its <code>.data()</code> member. I'm not sure if Eigen supports that. Alternatively, Eigen needs to support the <code>operator+</code> on whatever object you have here. But as noted you don't have a reduction. I just thought I'd explain what that error message is about.</p>\\n\""
      ]
     },
     "metadata": {},
     "output_type": "display_data"
    },
    {
     "data": {
      "text/plain": [
       "'A:'"
      ]
     },
     "metadata": {},
     "output_type": "display_data"
    },
    {
     "data": {
      "text/plain": [
       "'<p>We can create one widget which will take take and return bullet text. you can use this widget.</p>\\n<pre><code>class BulletText extends StatelessWidget {\\n  final String text;\\n  const BulletText({\\n    super.key,\\n    required this.text,\\n  });\\n\\n  @override\\n  Widget build(BuildContext context) {\\n    return Text(\\n      &quot;• $text&quot;,\\n      style: TextStyle(\\n        color: Colors.black,\\n        fontWeight: FontWeight.normal,\\n        \\n        \\n      ),\\n    );\\n  }\\n}\\n</code></pre>\\n<p>You can Use This anywhere you want like this</p>\\n<pre><code>BulletText(text: &quot;Scrap cars&quot;),\\n</code></pre>\\n'"
      ]
     },
     "metadata": {},
     "output_type": "display_data"
    },
    {
     "data": {
      "text/plain": [
       "'A:'"
      ]
     },
     "metadata": {},
     "output_type": "display_data"
    },
    {
     "data": {
      "text/plain": [
       "'<p>The method <code>update</code> of element just update the architecture of tkinter/PysimpleGUI, not update the GUI immediately.</p>\\n<p>Try to call <code>window.refresh()</code> if you want the GUI updated immediately, not until back to <code>window.read()</code>.</p>\\n<p>The function <code>predefined_choco_packages</code> will be called in other thread by <code>window.perform_long_operation</code>, better change all GUI updates, like <code>window[&quot;-OUTPUT-&quot;].print</code>, to <code>window.write_event_value</code>, then handle this event in your event loop.</p>\\n<p>Update the max value by <code>window[&quot;-PBAR-&quot;].update(max=pbar_value)</code>.</p>\\n<p>Demo code</p>\\n<pre class=\"lang-py prettyprint-override\"><code>from time import sleep\\nfrom random import randint\\nimport threading\\nimport PySimpleGUI as sg\\n\\ndef func(window, job_list):\\n    for i, job in enumerate(job_list):\\n        sleep(job)      # simulate the job to do.\\n        window.write_event_value(&quot;JOB&quot;, i+1)\\n    window.write_event_value(&quot;JOB Done&quot;, None)\\n\\nlayout = [\\n    [sg.ProgressBar(10, orientation= &quot;h&quot;, size=(40,25), key=&quot;-PROGRESS-&quot;),\\n     sg.Text(&quot;00/00&quot;, size=5, key=\\'-STEPS-\\')],\\n    [sg.Push(), sg.Button(&quot;GO&quot;), sg.Push()],\\n]\\nwindow = sg.Window(\\'Demo\\', layout)\\nrunning = False\\n\\nwhile True:\\n\\n    event, values = window.read()\\n\\n    if event == sg.WIN_CLOSED:\\n        break\\n    elif event == &quot;GO&quot; and not running:\\n        running = True\\n        job_list = [randint(1, 10)/10 for i in range(randint(3, 20))]\\n        steps = len(job_list)\\n        window[&quot;GO&quot;].update(disabled=True)\\n        window[&quot;-STEPS-&quot;].update(f&quot;00/{steps:0&gt;2d}&quot;)\\n        window[\\'-PROGRESS-\\'].update(current_count=0, max=steps)\\n        threading.Thread(target=func, args=(window, job_list), daemon=True).start()\\n    elif event == \\'JOB\\':\\n        current_count = values[event]\\n        window[&quot;-STEPS-&quot;].update(f&quot;{current_count:0&gt;2d}/{steps:0&gt;2d}&quot;)\\n        window[\\'-PROGRESS-\\'].update(current_count=current_count, max=len(job_list))\\n    elif event == \\'JOB Done\\':\\n        running = False\\n        window[&quot;GO&quot;].update(disabled=False)\\n\\nwindow.close()\\n</code></pre>\\n'"
      ]
     },
     "metadata": {},
     "output_type": "display_data"
    },
    {
     "data": {
      "text/plain": [
       "'A:'"
      ]
     },
     "metadata": {},
     "output_type": "display_data"
    },
    {
     "data": {
      "text/plain": [
       "'<p>I guess, i solved this on my own. By removing curves under animation.</p>\\n'"
      ]
     },
     "metadata": {},
     "output_type": "display_data"
    },
    {
     "data": {
      "text/plain": [
       "'A:'"
      ]
     },
     "metadata": {},
     "output_type": "display_data"
    },
    {
     "data": {
      "text/plain": [
       "'<p>One common approach for including longer examples in an npm package is to include them in a <code>examples/</code> directory in the package\\'s root directory. You can structure the examples as subdirectories of <code>examples/</code>, each containing the necessary files for the example.</p>\\n<p>To avoid burdening the original module with additional dependencies needed for the examples, you can include the necessary dependencies as \"devDependencies\" in the <code>package.json</code> file of the <code>examples/</code> directory. This way, users who only want to use the module itself don\\'t need to install these dependencies.</p>\\n<p>Here\\'s an example <code>package.json</code> file for the <code>examples/</code> directory:</p>\\n<pre><code>{\\n  &quot;name&quot;: &quot;mymodule-examples&quot;,\\n  &quot;version&quot;: &quot;1.0.0&quot;,\\n  &quot;description&quot;: &quot;Examples for mymodule&quot;,\\n  &quot;devDependencies&quot;: {\\n    &quot;svelte&quot;: &quot;^3.0.0&quot;\\n    // Other dev dependencies for the examples\\n  }\\n}\\n</code></pre>\\n<p>To make it easy for users to run the examples, you can include a \"start\" script in the <code>package.json</code> file of the <code>examples/</code> directory that runs a development server. For example:</p>\\n<pre><code>{\\n  &quot;name&quot;: &quot;mymodule-examples&quot;,\\n  &quot;version&quot;: &quot;1.0.0&quot;,\\n  &quot;description&quot;: &quot;Examples for mymodule&quot;,\\n  &quot;devDependencies&quot;: {\\n    &quot;svelte&quot;: &quot;^3.0.0&quot;,\\n    &quot;sirv-cli&quot;: &quot;^1.0.0&quot;\\n  },\\n  &quot;scripts&quot;: {\\n    &quot;start&quot;: &quot;sirv public --dev&quot;\\n  }\\n}\\n</code></pre>\\n<p>With this script, users can run <code>npm start</code> in the <code>examples/</code> directory to start a development server that serves the example files.</p>\\n<p>Finally, to make it easy for users to find the examples, you can include a link to the <code>examples/</code> directory in the <code>README.md</code> file of the module. For example:</p>\\n<pre><code># MyModule\\n\\nThis is a module that does something useful.\\n\\n## Examples\\n\\nSee the [examples/](./examples) directory for usage examples.\\n</code></pre>\\n<p>By following these conventions, you can include longer examples in your npm package without burdening the original module with additional dependencies, and without separating the module and examples into two repositories.</p>\\n'"
      ]
     },
     "metadata": {},
     "output_type": "display_data"
    },
    {
     "data": {
      "text/plain": [
       "'A:'"
      ]
     },
     "metadata": {},
     "output_type": "display_data"
    },
    {
     "data": {
      "text/plain": [
       "'<p>There\\'s no need to zip the lists\\nThis is enough:</p>\\n<pre><code>curves1 = [sublist[:-1] for sublist in curves]\\nvectors1 = [sublist[:-1] for sublist in vectors]\\n</code></pre>\\n<p>Or, in the spirit of <a href=\"https://en.wikipedia.org/wiki/Don%27t_repeat_yourself\" rel=\"nofollow noreferrer\">DRY</a>, make a function that returns a list with truncated sublists and feed curves and vectors into that.</p>\\n<pre><code>def truncate_sublists(inp_list: list):\\n    return [sublist[:-1] for sublist in inp_list]\\n\\ncurves1 = truncate_sublists(curves)\\nvectors1 = truncate_sublists(vectors)\\n</code></pre>\\n'"
      ]
     },
     "metadata": {},
     "output_type": "display_data"
    },
    {
     "data": {
      "text/plain": [
       "'A:'"
      ]
     },
     "metadata": {},
     "output_type": "display_data"
    },
    {
     "data": {
      "text/plain": [
       "'<p>I was facing the same issue while running the nginx container under AWS EC2 instance with Ubuntu 22.X. The following actions worked for me:</p>\\n<ol>\\n<li>Forward IPV4 packets to all interfaces (You can also choose specific interface if you like):</li>\\n</ol>\\n<blockquote>\\n<pre><code>sudo sysctl net.ipv4.conf.all.forwarding=1\\n</code></pre>\\n</blockquote>\\n<ol start=\"2\">\\n<li>Set the default policy for the FORWARD chain to ACCEPT in the linux iptables firewall:</li>\\n</ol>\\n<blockquote>\\n<pre><code> sudo iptables -P FORWARD ACCEPT\\n</code></pre>\\n</blockquote>\\n<p>Please note that through the above 2 commands, you are allowing all the traffic to be forwarded between interfaces. You can go more specific if you like though.</p>\\n<p>Also these iptable rules will not persist after the reboot so you may need to write these permanently into concerned configuration files.</p>\\n<hr />\\n<p>The following commands may be useful for tracing purposes:</p>\\n<ol>\\n<li>TCP dump for the docker bridge to see the incoming traffic:  <code>sudo tcpdump -i docker0</code></li>\\n<li>Listing Kernel NAT Rules:  <code>sudo iptables -t nat -L -n</code></li>\\n</ol>\\n'"
      ]
     },
     "metadata": {},
     "output_type": "display_data"
    },
    {
     "data": {
      "text/plain": [
       "'A:'"
      ]
     },
     "metadata": {},
     "output_type": "display_data"
    },
    {
     "data": {
      "text/plain": [
       "\"<p>Considering you've already created the required relations so i'm shooting this one in the dark.\\nLets say you created the roles and associated them with users, you can get the user roles with something like this:</p>\\n<pre><code>Route::middleware('auth:api')-&gt;group(function () {\\n    Route::get('/user', function (Request $request) {\\n        $user = $request-&gt;user();\\n        $role = $user-&gt;roles()-&gt;first(); // Assuming your user has a &quot;roles&quot; relationship\\n        return response()-&gt;json(['user' =&gt; $user, 'role' =&gt; $role-&gt;name])-&gt;header('X-User-Role', $role-&gt;name);\\n    });\\n});\\n</code></pre>\\n<p>Once that's done then in your ajax call or vue router to intercept the request and then check the user roles to render vue js components based on the required role. You can do something like this in your vuejs :</p>\\n<p>// Vue router/index.js</p>\\n<pre><code>import Router from 'vue-router'\\n\\nVue.use(Router)\\n\\nconst router = new Router({\\n  // ...\\n})\\n\\nrouter.beforeEach((to, from, next) =&gt; {\\n  const userRole = localStorage.getItem('userRole') || null // Retrieve the user's role from local storage or set it to null\\n  const xhr = new XMLHttpRequest()\\n  xhr.open('GET', '/api/user')\\n  xhr.setRequestHeader('Authorization', `Bearer ${localStorage.getItem('token')}`)\\n  xhr.onload = () =&gt; {\\n    if (xhr.status === 200) {\\n      const response = JSON.parse(xhr.responseText)\\n      localStorage.setItem('userRole', response.role) // Store the user's role in local storage\\n      next(vm =&gt; {\\n        vm.$options.propsData.userRole = response.role // Attach the user's role as a prop to the current route\\n      })\\n    } else {\\n      next()\\n    }\\n  }\\n  xhr.send()\\n})\\n</code></pre>\\n<p>This way you can easily render the required pages based on the roles. You can easily modify it according to your requirement it's not accurate but this can give you an idea how to implement it.</p>\\n\""
      ]
     },
     "metadata": {},
     "output_type": "display_data"
    },
    {
     "data": {
      "text/plain": [
       "'A:'"
      ]
     },
     "metadata": {},
     "output_type": "display_data"
    },
    {
     "data": {
      "text/plain": [
       "'<p>I agree with <em>@user2250152</em>, you are using wrong <strong>resource</strong> value to generate access token.</p>\\n<p>You can just change the value of <code>resource</code> parameter to <strong><a href=\"https://graph.microsoft.com\" rel=\"nofollow noreferrer\">https://graph.microsoft.com</a></strong> while generating access token like below:</p>\\n<pre><code>curl -X GET \\\\\\n    -H \\'Content-Type: application/x-www-form-urlencoded\\' \\\\\\n    -d \\'grant_type=client_credentials&amp;client_id=&lt;azure-client-id&gt;&amp;resource=https://graph.microsoft.com&amp;client_secret=&lt;azure-client-secret&gt;\\' \\\\\\n    https://login.microsoftonline.com/&lt;tenant-id&gt;/oauth2/token\\n</code></pre>\\n<p>When I ran the same in Postman, I got <strong>access token</strong> with Microsoft Graph as <code>resource</code> like below:</p>\\n<p><img src=\"https://i.imgur.com/jWIEqO7.png\" alt=\"enter image description here\" /></p>\\n<p>Now, use below <strong>curl command</strong> to run Graph query by including above access token like this:</p>\\n<pre><code>curl -X -H \\'Authorization: Bearer &lt;auth-token&gt;\\' \\\\\\n    https://graph.microsoft.com/beta/groups\\n</code></pre>\\n<p>When I ran same query in Postman, I got groups successfully like below:</p>\\n<pre class=\"lang-http prettyprint-override\"><code>GET https://graph.microsoft.com/beta/groups\\nAuthorization: Bearer &lt;auth-token&gt;\\n</code></pre>\\n<p><strong>Response:</strong></p>\\n<p><img src=\"https://i.imgur.com/gBj9wzs.png\" alt=\"enter image description here\" /></p>\\n'"
      ]
     },
     "metadata": {},
     "output_type": "display_data"
    },
    {
     "data": {
      "text/plain": [
       "'A:'"
      ]
     },
     "metadata": {},
     "output_type": "display_data"
    },
    {
     "data": {
      "text/plain": [
       "'<p>I should have started recorded the original macro from the default main sheets of the source and the tracking workbooks.  My error was in having the sheets I would be working on open, so I had not recorded the navigation to those sheets.  Ugly, but no one else will ever see it.  Thank you all for your help.</p>\\n<pre><code>Sheets(&quot;Export Table&quot;).Select\\nRange(&quot;$A$1:$K$&quot; &amp; Range(&quot;M1&quot;)).Select\\nApplication.CutCopyMode = False\\nSelection.Copy\\nWorkbooks.Open Filename:= _\\n    &quot;C:\\\\Users\\\\Michelle\\\\Documents\\\\Maple Inventory System\\\\YYYY\\\\YYYY SYRUP \\nMANAGEMENT\\\\test YYYY SYRUP INVENTORY TRACKING.xlsm&quot;\\nActiveWindow.ScrollWorkbookTabs Sheets:=5\\nSheets(&quot;Sales&quot;).Select\\nRange(&quot;$B$&quot; &amp; (1 + Range(&quot;Y1&quot;))).Select\\nSelection.PasteSpecial Paste:=xlPasteValuesAndNumberFormats, Operation:= _\\n    xlNone, SkipBlanks:=False, Transpose:=False\\n</code></pre>\\n'"
      ]
     },
     "metadata": {},
     "output_type": "display_data"
    },
    {
     "data": {
      "text/plain": [
       "'A:'"
      ]
     },
     "metadata": {},
     "output_type": "display_data"
    },
    {
     "data": {
      "text/plain": [
       "'<p>One way to do it using CSS only is by using the <code>has</code> selector on the common container, for example:</p>\\n<pre><code>.container:has(a:hover) .mega-menu{\\n  visibility: visible;\\n  opacity: 1;\\n}\\n</code></pre>\\n<p>The problem is that right now the <code>has</code> selector is not available on all browsers, Firefox does not implement it yet for example.</p>\\n'"
      ]
     },
     "metadata": {},
     "output_type": "display_data"
    },
    {
     "data": {
      "text/plain": [
       "'A:'"
      ]
     },
     "metadata": {},
     "output_type": "display_data"
    },
    {
     "data": {
      "text/plain": [
       "\"<p>The reason is in the error description:</p>\\n<blockquote>\\n<p>Error: Distinct group key 'userIdSection' is of a 'dynamic' type. Please use an explicit cast as grouping by a 'dynamic' type is not supported.</p>\\n</blockquote>\\n<p>The result type of split is <code>dynamic</code>, you need to convert it to a string like this:</p>\\n<pre><code>union isfuzzy=true requests \\n| where cloud_RoleName contains &quot;my-app&quot; \\n| project timestamp, id, name, userIdSection = tostring(split(parse_url(url).Path, &quot;/&quot;)[-1]), success \\n| distinct userIdSection\\n</code></pre>\\n<p>to get the count of distinct values use <code>summarize dcount(userIdSection)</code> instead of <code>distinct userIdSection</code></p>\\n\""
      ]
     },
     "metadata": {},
     "output_type": "display_data"
    },
    {
     "data": {
      "text/plain": [
       "'A:'"
      ]
     },
     "metadata": {},
     "output_type": "display_data"
    },
    {
     "data": {
      "text/plain": [
       "'<p>You can use path module to join the current path with __dirname variable which is given by node. __dirname returns the current directory.</p>\\n<pre class=\"lang-js prettyprint-override\"><code>const path = require(\\'path\\');\\nconst express = require(\\'express\\');\\nconst app = express();\\n\\napp.use(express.static(path.join(__dirname, \\'public\\')));\\n</code></pre>\\n<p>Public directory here are the front end files which are sent to the browser. In your case it will be the <code>client</code> directory.</p>\\n<p>When using</p>\\n<pre class=\"lang-js prettyprint-override\"><code>res.send(\\'index\\');\\n</code></pre>\\n<p>above can be used with only the view name instead of full path.</p>\\n'"
      ]
     },
     "metadata": {},
     "output_type": "display_data"
    },
    {
     "data": {
      "text/plain": [
       "'A:'"
      ]
     },
     "metadata": {},
     "output_type": "display_data"
    },
    {
     "data": {
      "text/plain": [
       "\"<p>Not sure if you have resolved this or not, here is how I would go about it</p>\\n<pre><code>    /* Create custom Informat to indicate flagged code values */\\n    proc format lib=work;\\n        invalue cohort\\n        '0DTJ0ZZ' = 1\\n        '0DTJ4ZZ' = 1\\n        other = 0\\n        ;\\n    run;\\n\\n    /* Declare a macro to compose the final cohorts data set */\\n    %MACRO getCohorts(\\n      p_inLibname= /* SAS Libname containing your State level data sets */\\n    , p_stYear= /* Starting Years range */\\n    , p_endYear= /* Ending Years range */\\n    , p_colCount= /* Number of I10_PR columns to search through */\\n    , p_fmtName= /* Name of the custom informat */\\n    , p_outCohorDsName= /* Final cohorts output data set name */\\n    );\\n     \\n        %local l_cnt l_dsName;\\n        %let l_cnt=0;\\n    \\n        /* Reset the final cohorts record collection */\\n        %if (%sysfunc(exist(&amp;p_outCohorDsName)) gt 0) %then\\n        %do;\\n            proc delete data=&amp;p_outCohorDsName; run;\\n        %end;\\n        \\n        /* Get a complete list of all State level data sets */\\n        proc sql noprint;\\n            SELECT MEMNAME\\n            INTO :l_ds1 - :l_ds1000\\n            FROM dictionary.tables\\n            WHERE LIBNAME = UPCASE(&quot;&amp;p_inLibname&quot;)\\n            AND MEMTYPE = 'DATA'\\n            AND (MEMNAME LIKE %unquote(%nrbquote('%%_%superq(p_stYear)'))\\n            %do y=%eval(&amp;p_stYear+1) %to &amp;p_endYear;\\n                 OR MEMNAME LIKE %unquote(%nrbquote('%%_%superq(y)'))\\n            %end;\\n            )\\n            ORDER BY MEMNAME;\\n        quit;\\n        %let l_cnt=&amp;sqlobs;\\n        %put &amp;=l_cnt;\\n        \\n        %if (&amp;l_cnt GT 0) %then\\n        %do d=1 %to &amp;l_cnt; \\n            %let l_dsName = %superq(l_ds&amp;d);\\n    \\n            /* Create a subset of the desired cohort records only */\\n            data state_sub(drop=i);\\n                if (0) then SET &amp;l_dsName; \\n                Array prcode {&amp;p_colCount} I10_PR:;\\n                Array prcoden {&amp;p_colCount} _temporary_;\\n    \\n                SET &amp;l_dsName;\\n                do i=1 to &amp;p_colCount;\\n                    prcoden[i]=input(prcode[i],&amp;p_fmtName..);\\n                end;\\n                if (sum (of prcoden{*}) GE 1);\\n            run;\\n    \\n            /* Append to the final collection */\\n            proc append base=&amp;p_outCohorDsName data=state_sub; run;\\n    \\n            /* Clean-up */\\n            proc delete data=state_sub; run;\\n        %end;\\n    %MEND getCohorts;\\n    /* for insight on what &amp; how SAS processing */\\n    options mprint fullstimer msglevel=i;\\n    \\n    %getCohorts(p_inLibname=work,p_stYear=2017, p_endYear=2020, p_colCount=25, p_fmtName=cohort, p_outCohorDsName=work.final); \\n</code></pre>\\n<p>The above macro should be faster than using the SET statement against multiple data sets, because</p>\\n<ol>\\n<li>Using Informat for the columns avoids the IF condition looping</li>\\n<li>Using Proc Append would use Block I/O to read multiple records from the subset at a time, while the SET statement would read single record at a time!</li>\\n</ol>\\n<p>Hope this helps</p>\\n\""
      ]
     },
     "metadata": {},
     "output_type": "display_data"
    },
    {
     "data": {
      "text/plain": [
       "'A:'"
      ]
     },
     "metadata": {},
     "output_type": "display_data"
    },
    {
     "data": {
      "text/plain": [
       "'<p>The error message suggests that the logChannel variable is undefined, which means that the channel with the specified ID cannot be found in the cache. This could happen for a few reasons:</p>\\n<ol>\\n<li>The bot does not have permission to access the channel. Make sure\\nthat the bot has the necessary permissions to view and send messages\\nin the channel.</li>\\n<li>The ID is incorrect. Double-check that the ID is correct and matches\\nthe ID of the intended channel.</li>\\n<li>The channel is not yet cached. <code>Discord.js</code> caches channels and\\nother objects to reduce the number of API calls it has to make. If\\nthe channel has not yet been cached, you will need to wait for it to\\nbe fetched before you can send messages to it. You can use the\\n<code>fetch()</code> method to fetch the channel, like so:</li>\\n</ol>\\n<p><div class=\"snippet\" data-lang=\"js\" data-hide=\"false\" data-console=\"false\" data-babel=\"false\">\\r\\n<div class=\"snippet-code\">\\r\\n<pre class=\"snippet-code-js lang-js prettyprint-override\"><code>const guild = client.guilds.cache.get(1069212856278581258)\\nconst logChannel = await guild.channels.fetch(1098111857367187506);</code></pre>\\r\\n</div>\\r\\n</div>\\r\\n</p>\\n<p>Note that the <code>await</code> keyword is used to wait for the promise returned by the <code>fetch()</code> method to resolve before continuing with the rest of the code.</p>\\n'"
      ]
     },
     "metadata": {},
     "output_type": "display_data"
    },
    {
     "data": {
      "text/plain": [
       "'A:'"
      ]
     },
     "metadata": {},
     "output_type": "display_data"
    },
    {
     "data": {
      "text/plain": [
       "'<p><a href=\"https://docs.oracle.com/en/database/oracle/oracle-database/21/sqlrf/ROUND-number.html#GUID-849F6C45-0D72-4464-9C0F-8B6822BA85E1\" rel=\"nofollow noreferrer\"><code>ROUND(value, precision)</code></a> will round to the nearest 10<sup>-precision</sup>.</p>\\n<p>So:</p>\\n<pre class=\"lang-sql prettyprint-override\"><code>SELECT ROUND(455.23456,-3) FROM DUAL;\\n</code></pre>\\n<p>Will round to the nearest 10<sup>-(-3)</sup> = 10<sup>+3</sup> = 1000 and will output:</p>\\n<div class=\"s-table-container\">\\n<table class=\"s-table\">\\n<thead>\\n<tr>\\n<th style=\"text-align: right;\">ROUND(455.23456,-3)</th>\\n</tr>\\n</thead>\\n<tbody>\\n<tr>\\n<td style=\"text-align: right;\">0</td>\\n</tr>\\n</tbody>\\n</table>\\n</div>\\n<p>Since 455.23456 is closer to 0 than 1000.</p>\\n<p>And:</p>\\n<pre><code>SELECT ROUND(455.23456,-2), ROUND(455.23456,-1) FROM DUAL;\\n</code></pre>\\n<p>Outputs:</p>\\n<div class=\"s-table-container\">\\n<table class=\"s-table\">\\n<thead>\\n<tr>\\n<th style=\"text-align: right;\">ROUND(455.23456,-2)</th>\\n<th style=\"text-align: right;\">ROUND(455.23456,-1)</th>\\n</tr>\\n</thead>\\n<tbody>\\n<tr>\\n<td style=\"text-align: right;\">500</td>\\n<td style=\"text-align: right;\">460</td>\\n</tr>\\n</tbody>\\n</table>\\n</div>\\n<p>(Rounding to the nearest 100 and 10 respectively.)</p>\\n<p><a href=\"https://dbfiddle.uk/tov4eNIR\" rel=\"nofollow noreferrer\">fiddle</a></p>\\n'"
      ]
     },
     "metadata": {},
     "output_type": "display_data"
    },
    {
     "data": {
      "text/plain": [
       "'A:'"
      ]
     },
     "metadata": {},
     "output_type": "display_data"
    },
    {
     "data": {
      "text/plain": [
       "'<p>The better solution is to loop over the <code>$slice</code> array and append <code>px</code> to each each value of the array, you can use a <code>@for</code> loop, for achieving this:</p>\\n<pre class=\"lang-scss prettyprint-override\"><code>@mixin nine-border-slice($imagePath, $slice) {\\n  $width: ();\\n  @for $i from 1 through length($slice) {\\n    $width: append($width, nth($slice, $i) + px);\\n  }\\n  border-image-source: url($imagePath);\\n  border-image-slice: $slice fill;\\n  border-width: $width;\\n  border-style: solid;\\n}\\n</code></pre>\\n'"
      ]
     },
     "metadata": {},
     "output_type": "display_data"
    },
    {
     "data": {
      "text/plain": [
       "'A:'"
      ]
     },
     "metadata": {},
     "output_type": "display_data"
    },
    {
     "data": {
      "text/plain": [
       "'<p>Your Xdebug version is no longer supported. <a href=\"https://xdebug.org/docs/compat#versions\" rel=\"nofollow noreferrer\">Only Xdebug 3 is</a>. I can\\'t see anything wrong with your cachegrind file (mostly, because it\\'s all squished in one line), so I would recommend you file a bug report with the VS Code PHP Plugin people: <a href=\"https://github.com/xdebug/vscode-php-debug/issues\" rel=\"nofollow noreferrer\">https://github.com/xdebug/vscode-php-debug/issues</a></p>\\n'"
      ]
     },
     "metadata": {},
     "output_type": "display_data"
    },
    {
     "data": {
      "text/plain": [
       "'A:'"
      ]
     },
     "metadata": {},
     "output_type": "display_data"
    },
    {
     "data": {
      "text/plain": [
       "\"<p>I figured it out. I needed to use a StreamBuilder so i can monitor <code>FirebaseAuth.instance.authStateChanges()</code>.  I also tried something similar with Riverpod StreamProvider and got that to work too.</p>\\n<p>This makes sense since you need to display something on log out.  Even if you are changing to a different page right away, you need to have your stream controlled by <code>FirebaseAuth.instance.authStateChanges()</code>.</p>\\n<pre><code>   body: StreamBuilder&lt;User?&gt;(\\n      stream: FirebaseAuth.instance.authStateChanges(),\\n      builder: (BuildContext context, AsyncSnapshot&lt;User?&gt; snapshot) {\\n        if (snapshot.hasData) {\\n          // The user is signed in\\n          return Column(\\n            children: [\\n              Expanded(\\n                child: FirebaseAnimatedList(\\n                  query: FirebaseDatabase.instance.ref().child('msg'),\\n                  itemBuilder: (BuildContext context, DataSnapshot snapshot,\\n                      Animation&lt;double&gt; animation, int index) {\\n                    return ListTile(\\n                      title: Text(&quot;message.content&quot;),\\n                    );\\n                  },\\n                ),\\n              ),\\n            ],\\n          );\\n        } else {\\n          // The user is not signed in, show a different widget\\n          return const Center(\\n            child: Text('Please sign in'),\\n          );\\n        }\\n      },\\n    ),\\n</code></pre>\\n\""
      ]
     },
     "metadata": {},
     "output_type": "display_data"
    },
    {
     "data": {
      "text/plain": [
       "'A:'"
      ]
     },
     "metadata": {},
     "output_type": "display_data"
    },
    {
     "data": {
      "text/plain": [
       "'<p>Just give a &quot;x:Name&quot; to your window:</p>\\n<pre><code>&lt;Window x:Name = &quot;Window&quot; ...\\n</code></pre>\\n'"
      ]
     },
     "metadata": {},
     "output_type": "display_data"
    },
    {
     "data": {
      "text/plain": [
       "'A:'"
      ]
     },
     "metadata": {},
     "output_type": "display_data"
    },
    {
     "data": {
      "text/plain": [
       "'<p>Yes, the best way is to create a new extension on String model like this</p>\\n<pre class=\"lang-dart prettyprint-override\"><code>extension StringColor on String {\\n  Color textToColor() {\\n    if(isEmpty){\\n      return Colors.black;\\n    }\\n    var hash = 0;\\n    for (var i = 0; i &lt; length; i++) {\\n      hash = codeUnitAt(i) + ((hash &lt;&lt; 5) - hash);\\n    }\\n    return Color(hash + 0xFF000000);\\n  }\\n}\\n\\n</code></pre>\\n'"
      ]
     },
     "metadata": {},
     "output_type": "display_data"
    },
    {
     "data": {
      "text/plain": [
       "'A:'"
      ]
     },
     "metadata": {},
     "output_type": "display_data"
    },
    {
     "data": {
      "text/plain": [
       "'<p>Tiptoeing to AWS is certainly possible. As you mentioned, AWS Route 53 can do automatic health checks and give the IP of the healthy server to the client. The failover time depends on the TTL of the DNS record and the client configuration and is usually not in the ballpark of &quot;within seconds&quot;.</p>\\n<p>There are basically only two solutions that fall under &quot;failover within seconds&quot; category:</p>\\n<ul>\\n<li>client failover - the client finds the healthy server</li>\\n<li>load balancers - ever request is routed to a central server which then forwards it to a healthy server</li>\\n</ul>\\n<p>It depends on you use cases on how you achieve these in your infrastructure. You can use AWS components (ALB, NLB) as a load balancer or have the client failover. To give advice on this, more details about the architecture and requirements are necessary.</p>\\n'"
      ]
     },
     "metadata": {},
     "output_type": "display_data"
    },
    {
     "data": {
      "text/plain": [
       "'A:'"
      ]
     },
     "metadata": {},
     "output_type": "display_data"
    },
    {
     "data": {
      "text/plain": [
       "'<p><strong>A simpler and elegant solution:</strong></p>\\n<pre><code>import torch.nn.functional as F\\n\\nsimilarity_matrix = F.cosine_similarity(image.unsqueeze(0), text.unsqueeze(1), dim=2)\\n</code></pre>\\n<p><code>similarity_matrix</code> has the shape 128x128.</p>\\n<p><strong>Explanation:</strong></p>\\n<p>As explained in its <a href=\"https://pytorch.org/docs/stable/generated/torch.nn.functional.cosine_similarity.html#torch.nn.functional.cosine_similarity\" rel=\"nofollow noreferrer\">documentation</a>, <code>F.cosine_similarity(x1, x2, dim)</code> returns the cosine similarity between <code>x1</code> and <code>x2</code> along <code>dim</code>, as long as <code>x1</code>and <code>x2</code> can be broadcasted to a common shape.</p>\\n<p>Your original tensors <code>image</code> and <code>text</code> have the shape 128x512 each, so after applying the <code>F.cosine_similarity</code> function on <code>dim=1</code>, you get as output a one-dimensional tensor of size 128.</p>\\n<p>To get an output of shape 128x128, you must make <code>image</code> and <code>text</code> broadcastable to that shape. In other words, you must reshape <code>image</code> to 1x128x512 and <code>text</code> to 128x1x512.</p>\\n<p><strong>Reference:</strong></p>\\n<p><a href=\"https://zablo.net/blog/post/pytorch-13-features-you-should-know/\" rel=\"nofollow noreferrer\">Item 6 on this blog post</a></p>\\n'"
      ]
     },
     "metadata": {},
     "output_type": "display_data"
    },
    {
     "data": {
      "text/plain": [
       "'A:'"
      ]
     },
     "metadata": {},
     "output_type": "display_data"
    },
    {
     "data": {
      "text/plain": [
       "'<p>For ARM64, the answer is yes. I had deployed .NET 6/7 on my Raspberry pi following the guidance, <a href=\"https://learn.microsoft.com/en-us/dotnet/iot/deployment\" rel=\"nofollow noreferrer\">https://learn.microsoft.com/en-us/dotnet/iot/deployment</a>. It worked very well. So, it is similar deployment on other ARM system. BTW, there are download links for ARM32/ARM64 on the official website, <a href=\"https://dotnet.microsoft.com/en-us/download/dotnet/7.0\" rel=\"nofollow noreferrer\">https://dotnet.microsoft.com/en-us/download/dotnet/7.0</a>.</p>\\n<p>For RISC-V, the answer is not completed. They are doing this and there had been multiple PRs merged into main branch. It is OK to print &quot;Hello World!&quot; on RISC-V. You could track the process by issue thread, <a href=\"https://github.com/dotnet/runtime/issues/36748\" rel=\"nofollow noreferrer\">https://github.com/dotnet/runtime/issues/36748</a>.</p>\\n'"
      ]
     },
     "metadata": {},
     "output_type": "display_data"
    },
    {
     "data": {
      "text/plain": [
       "'A:'"
      ]
     },
     "metadata": {},
     "output_type": "display_data"
    },
    {
     "data": {
      "text/plain": [
       "\"<p>To set the indentUnit to a specific number of spaces in CodeMirror 6, you can use the Facet called indentUnit and set its value to the number of spaces you want to use.</p>\\n<p>Here's an example of how you can set the indentUnit to 10 spaces in your JSON viewer:</p>\\n<pre><code>import { EditorState, basicSetup } from &quot;@codemirror/basic-setup&quot;;\\nimport { EditorView, keymap } from &quot;@codemirror/view&quot;;\\nimport { json } from &quot;@codemirror/lang-json&quot;;\\nimport { Facet, EditorStateTabSize } from &quot;@codemirror/state&quot;;\\n\\nconst indentUnit = Facet.define&lt;number, number&gt;({\\n  combine: (values) =&gt; values[0],\\n  default: 2,\\n});\\n\\nconst state = EditorState.create({\\n  extensions: [\\n    basicSetup,\\n    json(),\\n    indentUnit.of(10), // set the indentUnit to 10 spaces\\n    EditorStateTabSize.of(10), // set the tab size to 10\\n  ],\\n});\\n\\nconst view = new EditorView({\\n  state,\\n  parent: document.body,\\n});\\n</code></pre>\\n<p>we define a new indentUnit facet that allows us to set the value of the indent unit. We then set the value of this facet to 10 using the of method when creating the editor state.</p>\\n<p>Additionally, we set the tabSize to 10 spaces using the EditorStateTabSize.of(10) extension.</p>\\n<p>I hope this helps! Let me know if you have any questions.</p>\\n\""
      ]
     },
     "metadata": {},
     "output_type": "display_data"
    },
    {
     "data": {
      "text/plain": [
       "'A:'"
      ]
     },
     "metadata": {},
     "output_type": "display_data"
    },
    {
     "data": {
      "text/plain": [
       "\"<p><strong>You can do this:</strong></p>\\n<pre><code> &lt;div&gt;\\n   {{toJSON this}}   \\n&lt;/div&gt;\\n</code></pre>\\n<p><strong>Define toJSON() in helper.js:</strong></p>\\n<pre><code>var helper = {};\\nmodule.exports = helper;\\n    helper.toJSON = function (context) {\\n        return JSON.stringify(context);\\n    };\\n</code></pre>\\n<p><strong>In App.js:</strong></p>\\n<pre><code>const helper = require('./helper/helper');\\napp.engine('hbs', handlebars({\\n  layoutsDir: __dirname + '/views/layouts',\\n  extname: 'hbs',\\n  helpers: helper\\n}));\\n</code></pre>\\n\""
      ]
     },
     "metadata": {},
     "output_type": "display_data"
    },
    {
     "data": {
      "text/plain": [
       "'A:'"
      ]
     },
     "metadata": {},
     "output_type": "display_data"
    },
    {
     "data": {
      "text/plain": [
       "'<p>Instead of adding offsets and messing the view up, you can embed your <code>ScrollView</code> in a <code>ScrollViewReader</code>:</p>\\n<pre><code>ScrollViewReader { reader in\\n    ScrollView {\\n        Text(longText)\\n            .id(1)//any id. 1 for simplicity\\n        Spacer ()\\n    }.padding(EdgeInsets (top: 10, leading: 10, bottom: 10, trailing: 10))\\n    .frame(maxHeight: proxy.size.height, alignment: .leading)\\n    .onAppear {\\n        reader.scrollTo(1, anchor: .bottom)\\n    }\\n}\\n</code></pre>\\n<p>The above code scrolls your <code>ScrollView</code> to position the <code>View</code> with id 1 &amp; anchors it to the bottom when it appears.</p>\\n'"
      ]
     },
     "metadata": {},
     "output_type": "display_data"
    },
    {
     "data": {
      "text/plain": [
       "'A:'"
      ]
     },
     "metadata": {},
     "output_type": "display_data"
    },
    {
     "data": {
      "text/plain": [
       "'<p>Sorted out, seems to be tricky</p>\\n<pre><code> Period period = Period.between(startDate, endDate);\\n    if ((endDate.getMonth() == Month.FEBRUARY &amp;&amp; period.getDays() &gt;= Month.FEBRUARY.length(Year.isLeap(endDate.getYear())) &amp;&amp;\\n            endDate.isEqual(getLastDayofTheMonth(endDate))) ||\\n            (startDate.isEqual(getLastDayofTheMonth(startDate)) &amp;&amp;\\n                    endDate.isEqual(getLastDayofTheMonth(endDate)) &amp;&amp;\\n                    endDate.getDayOfMonth() == ODD_MONTH_DAYS)) {\\n        period = period.plusMonths(1);\\n    }\\n\\n    return period.getYears() * 12 + period.getMonths();\\n</code></pre>\\n'"
      ]
     },
     "metadata": {},
     "output_type": "display_data"
    },
    {
     "data": {
      "text/plain": [
       "'A:'"
      ]
     },
     "metadata": {},
     "output_type": "display_data"
    },
    {
     "data": {
      "text/plain": [
       "'<p>With base R, we can use <code>subset</code> + <code>ave</code> like below</p>\\n<pre><code>&gt; subset(df, as.logical(ave(var1, name, FUN = \\\\(x) all(c(&quot;car&quot;, &quot;house&quot;) %in% x))))\\n    name  var1\\n1    Jay   car\\n2    Jay house\\n5 Ashley   car\\n6 Ashley house\\n</code></pre>\\n'"
      ]
     },
     "metadata": {},
     "output_type": "display_data"
    },
    {
     "data": {
      "text/plain": [
       "'A:'"
      ]
     },
     "metadata": {},
     "output_type": "display_data"
    },
    {
     "data": {
      "text/plain": [
       "'<p>Data</p>\\n<pre><code>df=structure(list(var1 = c(&quot;car&quot;, &quot;car&quot;, &quot;car&quot;, &quot;car&quot;, &quot;house&quot;, \\n&quot;house&quot;, &quot;house&quot;), name = c(&quot;Jay&quot;, &quot;Kate&quot;, &quot;Ashley&quot;, &quot;Mike&quot;, \\n&quot;Jay&quot;, &quot;Miranda&quot;, &quot;Ashley&quot;), w = c(1, 1, 1, 1, 1, 1, 1)), row.names = c(NA, \\n-7L), class = &quot;data.frame&quot;)\\n</code></pre>\\n<p>first option</p>\\n<pre><code>do.call(\\n  rbind,\\n  by(df,list(df$name),function(x){\\n    if (all(c(&quot;house&quot;,&quot;car&quot;) %in% unlist(x[&quot;var1&quot;]))) x else NULL\\n  })\\n)\\n\\n           name  var1\\nAshley.5 Ashley   car\\nAshley.6 Ashley house\\nJay.1       Jay   car\\nJay.2       Jay house\\n</code></pre>\\n<p>second option</p>\\n<pre><code>x=data.frame(\\n  &quot;var1&quot;=c(&quot;house&quot;,&quot;car&quot;),\\n  &quot;w&quot;=1\\n)\\ndf=merge(df,x,by=&quot;var1&quot;)\\ndf[ave(df$w,df$name,FUN=sum)==nrow(x),]\\n\\n   var1   name w\\n1   car    Jay 1\\n3   car Ashley 1\\n5 house    Jay 1\\n7 house Ashley 1\\n</code></pre>\\n'"
      ]
     },
     "metadata": {},
     "output_type": "display_data"
    },
    {
     "data": {
      "text/plain": [
       "'A:'"
      ]
     },
     "metadata": {},
     "output_type": "display_data"
    },
    {
     "data": {
      "text/plain": [
       "'<p>Yes you can publish your .net 7 app as a self-contained executable.</p>\\n<p>Here\\'s the link for <a href=\"https://learn.microsoft.com/en-us/dotnet/core/deploying/\" rel=\"nofollow noreferrer\">.NET application publishing</a></p>\\n<p>Which states: &quot;When publishing your app and creating an executable, you can publish the app as <strong>self-contained</strong> or framework-dependent. Publishing an app as self-contained <strong>includes the .NET runtime with the app</strong>, and users of the app don\\'t have to worry about installing .NET before running the app.&quot;</p>\\n'"
      ]
     },
     "metadata": {},
     "output_type": "display_data"
    },
    {
     "data": {
      "text/plain": [
       "'A:'"
      ]
     },
     "metadata": {},
     "output_type": "display_data"
    },
    {
     "data": {
      "text/plain": [
       "'<p>You need to keys wrap quotes\\nfirst Example:-</p>\\n<p><div class=\"snippet\" data-lang=\"js\" data-hide=\"false\" data-console=\"true\" data-babel=\"false\">\\r\\n<div class=\"snippet-code\">\\r\\n<pre class=\"snippet-code-js lang-js prettyprint-override\"><code>const keys = [\"RACE_DRIVER\",\"TEAM_MANAGER\"];\\nconst roles = {\\n    [keys[0]]: {\\n      title: \\'Race driver\\',\\n      titleShort: \\'Driver\\',\\n      description: \\'This is a driver description\\'\\n    },\\n    [keys[1]]: {\\n      title: \\'Team manager\\',\\n      titleShort: \\'Manager\\',\\n      description: \\'This is a team description\\'\\n    }\\n }\\n console.log(roles[\"RACE_DRIVER\"]?.title)</code></pre>\\r\\n</div>\\r\\n</div>\\r\\n</p>\\n<p>Second Example:-</p>\\n<p><div class=\"snippet\" data-lang=\"js\" data-hide=\"false\" data-console=\"true\" data-babel=\"false\">\\r\\n<div class=\"snippet-code\">\\r\\n<pre class=\"snippet-code-js lang-js prettyprint-override\"><code>const roles = {\\n    [\"RACE_DRIVER\"]: {\\n      title: \\'Race driver\\',\\n      titleShort: \\'Driver\\',\\n      description: \\'This is a driver description\\'\\n    },\\n    [\"TEAM_MANAGER\"]: {\\n      title: \\'Team manager\\',\\n      titleShort: \\'Manager\\',\\n      description: \\'This is a team description\\'\\n    }\\n }\\n console.log(roles[\"RACE_DRIVER\"]?.title)\\n    </code></pre>\\r\\n</div>\\r\\n</div>\\r\\n</p>\\n<p><div class=\"snippet\" data-lang=\"js\" data-hide=\"false\" data-console=\"true\" data-babel=\"false\">\\r\\n<div class=\"snippet-code\">\\r\\n<pre class=\"snippet-code-js lang-js prettyprint-override\"><code>    const Race_Driver = \"RACE_DRIVER\"\\n    const TEAM_MANAGER = \"TEAM_MANAGER\"\\n    const roles = {\\n        [Race_Driver]: {\\n          title: \\'Race driver\\',\\n          titleShort: \\'Driver\\',\\n          description: \\'This is a driver description\\'\\n        },\\n        [TEAM_MANAGER]: {\\n          title: \\'Team manager\\',\\n          titleShort: \\'Manager\\',\\n          description: \\'This is a team description\\'\\n        }\\n     }\\n     //console.log(roles[\"RACE_DRIVER\"]?.title)\\n              \\n      console.log(roles.RACE_DRIVER?.title)\\n                   \\n        </code></pre>\\r\\n</div>\\r\\n</div>\\r\\n</p>\\n'"
      ]
     },
     "metadata": {},
     "output_type": "display_data"
    },
    {
     "data": {
      "text/plain": [
       "'A:'"
      ]
     },
     "metadata": {},
     "output_type": "display_data"
    },
    {
     "data": {
      "text/plain": [
       "\"<p>Added below const and used it as reference</p>\\n<p><code>const tooltiptext = &quot;Status for non-leaf nodes: count of healthy, unhealthy, warning and missing leaf nodes.\\\\nStatus for leaf nodes: health status.&quot;</code></p>\\n<p>and used above as reference:</p>\\n<p><code>&lt;Column columnKey=&quot;status&quot; header=&quot;Status&quot; body={status} style={{ width: '150px', textAlign: &quot;center&quot; }} headerTooltipOptions={{event:&quot;both&quot;, hideDelay: 1000 }} headerTooltip={tooltiptext}/&gt;</code></p>\\n\""
      ]
     },
     "metadata": {},
     "output_type": "display_data"
    },
    {
     "data": {
      "text/plain": [
       "'A:'"
      ]
     },
     "metadata": {},
     "output_type": "display_data"
    },
    {
     "data": {
      "text/plain": [
       "'<p>Here are my solution:</p>\\n<p>Check all subnodes of node:</p>\\n<pre><code>internal static void CheckAllSubNodesRecursive(\\n    TreeNode treeNode,\\n    bool checkNode)\\n{\\n    foreach (TreeNode node in treeNode.Nodes)\\n    {\\n        if (!node.Checked &amp;&amp; checkNode)\\n        {\\n            node.Checked = true;\\n        }\\n        if (node.Checked &amp;&amp; !checkNode)\\n        {\\n            node.Checked = false;\\n        }\\n\\n        if (node.Nodes.Count &gt; 0)\\n        {\\n            CheckAllSubNodesRecursive(node, checkNode);\\n        }\\n    }\\n}\\n</code></pre>\\n<p>Handle parent node checking:</p>\\n<pre><code>internal static void ValidateParentNodeCheckRecursive(\\n    TreeNode treeNode)\\n{\\n    if (treeNode.Parent == null ||\\n        treeNode.Parent.GetType() != typeof(TreeNode))\\n    {\\n        return;\\n    }\\n\\n    foreach (TreeNode subNode in treeNode.Parent.Nodes)\\n    {\\n        if (subNode.Nodes.Count &gt; 0)\\n        {\\n            ValidateParentNodeCheckRecursive(subNode);\\n        }\\n\\n        subNode.Parent.Checked = subNode.Parent.Nodes\\n            .Cast&lt;TreeNode&gt;()\\n            .ToList()\\n            .All(c =&gt; c.Checked);\\n    }\\n}\\n</code></pre>\\n<p>These functions can be added to a static class, e.g, <code>ViewExtensions</code>.\\nRemember to disable/enable treeView_AfterCheck events.</p>\\n'"
      ]
     },
     "metadata": {},
     "output_type": "display_data"
    },
    {
     "data": {
      "text/plain": [
       "'A:'"
      ]
     },
     "metadata": {},
     "output_type": "display_data"
    },
    {
     "data": {
      "text/plain": [
       "'<p>Usually this happens when the size of the data exceeds the memory available in system.</p>\\n<p>a workaround for this is using limit()</p>\\n<pre><code>df.limit(20).show()\\n</code></pre>\\n<p>Another work around is using sample() or repartition()</p>\\n<pre><code>df.sample(withReplacement=False, fraction=0.1)\\n</code></pre>\\n'"
      ]
     },
     "metadata": {},
     "output_type": "display_data"
    },
    {
     "data": {
      "text/plain": [
       "'A:'"
      ]
     },
     "metadata": {},
     "output_type": "display_data"
    },
    {
     "data": {
      "text/plain": [
       "'<p>I needed some custom fading, so I came up with this solution.\\nThe methods are added to the HTMLElement prototype for an easier workflow.\\nSupports a fadeIn to display:flex and can fadeIn to a predefined opacity value from data-op attribute(didn\\'t need it for fadeOut, but that\\'s an easy upgrade).\\nThe method returns <code>this</code>, for chaining..</p>\\n<p><div class=\"snippet\" data-lang=\"js\" data-hide=\"false\" data-console=\"true\" data-babel=\"false\">\\r\\n<div class=\"snippet-code\">\\r\\n<pre class=\"snippet-code-js lang-js prettyprint-override\"><code>(()=&gt;{\\n    const ndt = () =&gt; +new Date(),\\n        anim = (f) =&gt; (window.requestAnimationFrame &amp;&amp; requestAnimationFrame(f)) || setTimeout(f, 16),\\n        fader = (el, time, out, last, flex = false) =&gt; {\\n            if (!el.style.opacity) el.style.opacity = out ? \\'1\\' : \\'0\\';\\n            const op = el.dataset.op ?? \\'1\\';  \\n                hide = () =&gt; {\\n                    el.style.display = \\'none\\';\\n                    el.style.opacity = \\'0\\';\\n                },\\n                show = (done) =&gt; {\\n                    el.style.display = !flex ? \\'block\\' : \\'flex\\';\\n                    if (done) el.style.opacity = op;\\n                },\\n                calc = (o, t) =&gt; out ? o - t : o + t,\\n                tick = () =&gt; {\\n                    el.style.opacity = calc(+el.style.opacity, (ndt() - last) / time);\\n                    last = ndt();\\n                    const o = +el.style.opacity,\\n                        a = out &amp;&amp; o &gt; 0 || !out &amp;&amp; o &lt; +op;\\n                    console.log(\\'opacity\\', o)\\n                    if (!a) return out ? hide() : show(true);\\n                    anim(tick);\\n                };\\n            if (!out) show(false);\\n            tick();\\n        };\\n    HTMLElement.prototype.fadeIn = function (time, flex = false) {\\n        fader(this, time, false, ndt(), flex);\\n        return this;\\n    };\\n    HTMLElement.prototype.fadeOut = function (time) {\\n        fader(this, time, true, ndt());\\n        return this;\\n    };\\n})();\\n\\nconst parent = document.getElementById(\\'parent\\');\\ndocument.getElementById(\\'fadeIn\\').addEventListener(\\'click\\', e=&gt; {\\n  parent.fadeIn(1000, true);\\n});\\ndocument.getElementById(\\'fadeOut\\').addEventListener(\\'click\\', e=&gt; {\\n  parent.fadeOut(1000);\\n});</code></pre>\\r\\n<pre class=\"snippet-code-css lang-css prettyprint-override\"><code>div#parent {\\n  display: flex;\\n}\\ndiv#parent div {\\n  height: 300px;\\n  width: 300px;\\n}\\ndiv#red {\\n  background: red;\\n}\\ndiv#green {\\n  background: green;\\n}</code></pre>\\r\\n<pre class=\"snippet-code-html lang-html prettyprint-override\"><code>&lt;button id=\"fadeIn\"&gt;fadeIn&lt;/button&gt;\\n&lt;button id=\"fadeOut\"&gt;fadeOut&lt;/button&gt;\\n&lt;div id=\"parent\" style=\"display:none;\" data-op=\"0.5\"&gt;\\n  &lt;div id=\"red\"&gt;&lt;/div&gt;\\n  &lt;div id=\"green\"&gt;&lt;/div&gt;\\n&lt;/div&gt;</code></pre>\\r\\n</div>\\r\\n</div>\\r\\n</p>\\n'"
      ]
     },
     "metadata": {},
     "output_type": "display_data"
    },
    {
     "data": {
      "text/plain": [
       "'A:'"
      ]
     },
     "metadata": {},
     "output_type": "display_data"
    },
    {
     "data": {
      "text/plain": [
       "'<p>Create a pipe using this command :   &quot;ng g p customePipe/timeAgo&quot;</p>\\n<p><div class=\"snippet\" data-lang=\"js\" data-hide=\"false\" data-console=\"true\" data-babel=\"false\">\\r\\n<div class=\"snippet-code\">\\r\\n<pre class=\"snippet-code-js lang-js prettyprint-override\"><code>import { Pipe, PipeTransform } from \\'@angular/core\\';\\n\\n@Pipe({\\n  name: \\'timeAgo\\'\\n})\\nexport class TimeAgoPipe implements PipeTransform {\\n  transform(value: string): string {\\n    const time = new Date(value);\\n    const now = new Date();\\n    const seconds = Math.floor((now.getTime() - time.getTime()) / 1000);\\n\\n    if (seconds &lt; 60) {\\n      return \\'just now\\';\\n    } else if (seconds &lt; 120) {\\n      return \\'a minute ago\\';\\n    } else if (seconds &lt; 3600) {\\n      return Math.floor(seconds / 60) + \\' minutes ago\\';\\n    } else if (seconds &lt; 7200) {\\n      return \\'an hour ago\\';\\n    } else if (seconds &lt; 86400) {\\n      return Math.floor(seconds / 3600) + \\' hours ago\\';\\n    } else {\\n      return time.toLocaleString();\\n    }\\n  }\\n}</code></pre>\\r\\n</div>\\r\\n</div>\\r\\n</p>\\n'"
      ]
     },
     "metadata": {},
     "output_type": "display_data"
    },
    {
     "data": {
      "text/plain": [
       "'A:'"
      ]
     },
     "metadata": {},
     "output_type": "display_data"
    },
    {
     "data": {
      "text/plain": [
       "'<p>I can see it, probably you have chosen the templates for a compose activity which now are the default ones, if the app is in compose it can only use kotlin and I guess that\\'s why if the compose option is selected it doesn\\'t allow you to choose java then.</p>\\n<p>After selecting <strong>Empty Activity</strong> (in compose):</p>\\n<p><a href=\"https://i.stack.imgur.com/3LUvsm.png\" rel=\"nofollow noreferrer\"><img src=\"https://i.stack.imgur.com/3LUvsm.png\" alt=\"enter image description here\" /></a></p>\\n<p>After selecting one of the java options like the <strong>Basic Views Activity</strong>:</p>\\n<p><a href=\"https://i.stack.imgur.com/xJMtRm.png\" rel=\"nofollow noreferrer\"><img src=\"https://i.stack.imgur.com/xJMtRm.png\" alt=\"enter image description here\" /></a></p>\\n'"
      ]
     },
     "metadata": {},
     "output_type": "display_data"
    },
    {
     "data": {
      "text/plain": [
       "'A:'"
      ]
     },
     "metadata": {},
     "output_type": "display_data"
    },
    {
     "data": {
      "text/plain": [
       "'<p>It looks like your code should work as-is, assuming that the website is not blocking the use of Selenium. However, there are a few things you can try to make sure that the click is successful:</p>\\n<ol>\\n<li><p>Wait for the button to be clickable: The button may not be immediately clickable when the page loads. You can wait for the button to become clickable using the <code>WebDriverWait</code> method before clicking on it. For example:</p>\\n</li>\\n</ol>\\n<pre><code>from selenium.webdriver.common.by import By\\nfrom selenium.webdriver.support.ui import WebDriverWait\\nfrom selenium.webdriver.support import expected_conditions as EC\\n\\ndriver.get(&quot;https://www.sreality.cz/hledani/prodej/domy&quot;)\\n\\nbutton = WebDriverWait(driver, 20).until(EC.element_to_be_clickable((By.CSS_SELECTOR, &quot;button[data-testid=\\'button-agree\\']&quot;)))\\nbutton.click()\\n</code></pre>\\n<ol start=\"2\">\\n<li><p>Scroll into view: The button may not be visible on the page when the page loads. You can scroll the button into view using the <code>execute_script</code> method before clicking on it. For example:</p>\\n</li>\\n</ol>\\n<pre><code>driver.get(&quot;https://www.sreality.cz/hledani/prodej/domy&quot;)\\n\\nbutton = driver.find_element_by_css_selector(&quot;button[data-testid=\\'button-agree\\']&quot;)\\ndriver.execute_script(&quot;arguments[0].scrollIntoView();&quot;, button)\\nbutton.click()\\n</code></pre>\\n'"
      ]
     },
     "metadata": {},
     "output_type": "display_data"
    },
    {
     "data": {
      "text/plain": [
       "'A:'"
      ]
     },
     "metadata": {},
     "output_type": "display_data"
    },
    {
     "data": {
      "text/plain": [
       "\"<p>It seems your JSON is in a table.  Use a CROSS APPLY</p>\\n<p><strong>Example</strong></p>\\n<pre><code>Declare @Yourtable table (id int,DMDetails varchar(max))\\nInsert Into @Yourtable values \\n(1, '[{&quot;DocumentFormStatus&quot;:&quot;Submitted&quot;,&quot;DocumentType&quot;:&quot;DocType1&quot;},{&quot;DocumentFormStatus&quot;:&quot;Submitted&quot;,&quot;DocumentType&quot;:&quot;DocType2&quot;},{&quot;DocumentFormStatus&quot;:&quot;Submitted&quot;,&quot;DocumentType&quot;:&quot;DocType3&quot;},{&quot;DocumentFormStatus&quot;:&quot;Submitted&quot;,&quot;DocumentType&quot;:&quot;DocType4&quot;}]')\\n\\nSelect A.ID\\n      ,B.*\\n From  @Yourtable A\\n Cross Apply OpenJSON(DMDetails)\\n     with ( DocumentFormStatus  varchar(150)\\n           ,DocumentType        varchar(150)\\n          )  B\\n</code></pre>\\n<p><strong>Results</strong></p>\\n<pre><code>ID  DocumentFormStatus  DocumentType\\n1   Submitted           DocType1\\n1   Submitted           DocType2\\n1   Submitted           DocType3\\n1   Submitted           DocType4\\n</code></pre>\\n\""
      ]
     },
     "metadata": {},
     "output_type": "display_data"
    },
    {
     "data": {
      "text/plain": [
       "'A:'"
      ]
     },
     "metadata": {},
     "output_type": "display_data"
    },
    {
     "data": {
      "text/plain": [
       "'<p>You can easily freeze your weight by passing --freeze argument, try different number from small to big to get best results</p>\\n'"
      ]
     },
     "metadata": {},
     "output_type": "display_data"
    },
    {
     "data": {
      "text/plain": [
       "'A:'"
      ]
     },
     "metadata": {},
     "output_type": "display_data"
    },
    {
     "data": {
      "text/plain": [
       "'<p>Try to <code>cast</code> <code>ROWID</code>s to <code>VARCHAR2</code> datatype, e.g.</p>\\n<pre><code>SQL&gt; select cast(rowid as varchar2(30)) from dual\\n  2  union all\\n  3  select cast(rowid as varchar2(30)) from dual@dbl;\\n\\nCAST(ROWIDASVARCHAR2(30))\\n------------------------------\\nAAAAB0AABAAAAOhAAA\\nAAAAECAABAAAAgiAAA\\n\\nSQL&gt;\\n</code></pre>\\n'"
      ]
     },
     "metadata": {},
     "output_type": "display_data"
    },
    {
     "data": {
      "text/plain": [
       "'A:'"
      ]
     },
     "metadata": {},
     "output_type": "display_data"
    },
    {
     "data": {
      "text/plain": [
       "'<p>Your class instance was made <code>Reactive</code> somewhere, making it unref <code>deferred_invoicing</code> property</p>\\n<p>Use</p>\\n<pre><code>    watch(toRaw(this).deferred_invoicing, (newValue, oldValue) =&gt; {\\n      console.log(newValue)\\n    }\\n</code></pre>\\n'"
      ]
     },
     "metadata": {},
     "output_type": "display_data"
    },
    {
     "data": {
      "text/plain": [
       "'A:'"
      ]
     },
     "metadata": {},
     "output_type": "display_data"
    },
    {
     "data": {
      "text/plain": [
       "'<p>This happens when you suspend all threads instead of the thread at the breakpoint. This setting can be change by right clicking on the breakpoint.</p>\\n<p>Suspending only the thread will solve the issue.</p>\\n<p><a href=\"https://i.stack.imgur.com/UyQc4.png\" rel=\"nofollow noreferrer\"><img src=\"https://i.stack.imgur.com/UyQc4.png\" alt=\"enter image description here\" /></a></p>\\n'"
      ]
     },
     "metadata": {},
     "output_type": "display_data"
    },
    {
     "data": {
      "text/plain": [
       "'A:'"
      ]
     },
     "metadata": {},
     "output_type": "display_data"
    },
    {
     "data": {
      "text/plain": [
       "'<p>You could specify the sorted colors:</p>\\n<pre><code>library(vtree)\\nvtree(mtcars, &quot;cyl am&quot;, rootfillcolor = &quot;yellow&quot;,\\n      specfill = list(\\n          cyl = c(&quot;blue&quot;, &quot;green&quot;, &quot;yellow&quot;),\\n          am = c(&quot;pink&quot;, &quot;brown&quot;)\\n          )\\n     )\\n</code></pre>\\n<p><a href=\"https://i.stack.imgur.com/X1h0km.png\" rel=\"nofollow noreferrer\"><img src=\"https://i.stack.imgur.com/X1h0km.png\" alt=\"enter image description here\" /></a></p>\\n<p>Or if you need a proper mapping, you could use something like this:</p>\\n<pre><code>helper &lt;- function(x, colmap) {\\n if (!all(x %in% names(colmap))) {\\n   stop(&quot;you did not map all values to colors&quot;)\\n }\\n  colmap[as.character(sort(unique(x)))]\\n}\\n\\namcol &lt;- c(&quot;0&quot; = &quot;pink&quot;, &quot;1&quot; = &quot;brown&quot;)\\namcol2 &lt;- c(&quot;1&quot; = &quot;brown&quot;, &quot;0&quot; = &quot;pink&quot;)\\ncylcol &lt;- c(&quot;4&quot; = &quot;blue&quot;, &quot;6&quot; = &quot;green&quot;, &quot;8&quot; = &quot;yellow&quot;) \\n\\nvtree(mtcars, &quot;cyl am&quot;, rootfillcolor = &quot;yellow&quot;, \\n      specfill = list(cyl = helper(mtcars$cyl, cylcol),\\n                      am = helper(mtcars$am, amcol)))\\n\\nvtree(mtcars, &quot;cyl am&quot;, rootfillcolor = &quot;yellow&quot;, \\n      specfill = list(cyl = helper(mtcars$cyl, cylcol), \\n                      am = helper(mtcars$am, amcol2)))\\n</code></pre>\\n<p>Of course this could be further improved so that <code>mtcars$cyl</code> and <code>mtcars$am</code> are automatically derived.</p>\\n'"
      ]
     },
     "metadata": {},
     "output_type": "display_data"
    },
    {
     "data": {
      "text/plain": [
       "'A:'"
      ]
     },
     "metadata": {},
     "output_type": "display_data"
    },
    {
     "data": {
      "text/plain": [
       "'<p>I modified your fiddle code\\nin fiddle <a href=\"https://jsfiddle.net/z2k5roLy/1/\" rel=\"nofollow noreferrer\">https://jsfiddle.net/z2k5roLy/1/</a></p>\\n<p>those css lines helps</p>\\n<pre><code>select.select2:required + .select2-container .select2-selection--single {\\n  border-color: #FF0000;\\n}\\n\\nselect.select2:required:valid + .select2-container .select2-selection--single {\\n  border-color: black;\\n}\\n</code></pre>\\n'"
      ]
     },
     "metadata": {},
     "output_type": "display_data"
    },
    {
     "data": {
      "text/plain": [
       "'A:'"
      ]
     },
     "metadata": {},
     "output_type": "display_data"
    },
    {
     "data": {
      "text/plain": [
       "\"<p>Simple mechanical refactoring:</p>\\n<pre><code>def pil_to_latents(dataset):\\n    '''\\n    Function to convert image to latents\\n    '''\\n    latents = []\\n    for img in dataset['train']['image']:\\n        image = img.convert('RGB').resize((config.image_size, config.image_size))\\n        ima = tfms.ToTensor()(image).unsqueeze(0) * 2.0 - 1.0\\n        init_image = ima.to(device=&quot;cuda&quot;, dtype=torch.float16) \\n        init_latent_dist = vae.encode(init_image).latent_dist.sample() * 0.18215\\n        latents.append(init_latest_dist)\\n    dataset['train']['latents'] = latents\\n    return dataset\\n</code></pre>\\n\""
      ]
     },
     "metadata": {},
     "output_type": "display_data"
    },
    {
     "data": {
      "text/plain": [
       "'A:'"
      ]
     },
     "metadata": {},
     "output_type": "display_data"
    },
    {
     "data": {
      "text/plain": [
       "'<p>You need to specify on which field you want to find.\\nSo if you want to find on title field, you need to use like this:</p>\\n<pre><code>  Article.find({title: &quot;title&quot;})\\n</code></pre>\\n'"
      ]
     },
     "metadata": {},
     "output_type": "display_data"
    },
    {
     "data": {
      "text/plain": [
       "'A:'"
      ]
     },
     "metadata": {},
     "output_type": "display_data"
    },
    {
     "data": {
      "text/plain": [
       "'<p>You can try to write this and it should match one or more characters:</p>\\n<pre><code>&quot;/session/.+/example&quot;\\n</code></pre>\\n<p>or only for number:</p>\\n<pre><code>/session/\\\\d+/example\\n</code></pre>\\n<p>and the last one. you can easily find your all endpoints and just check manually</p>\\n<pre><code>/session\\n</code></pre>\\n<p>However, check the site regex online <a href=\"https://regex101.com/\" rel=\"nofollow noreferrer\">regexOnline</a> and put there your regex and link what should it match without &quot;&quot; quotes.</p>\\n'"
      ]
     },
     "metadata": {},
     "output_type": "display_data"
    },
    {
     "data": {
      "text/plain": [
       "'A:'"
      ]
     },
     "metadata": {},
     "output_type": "display_data"
    },
    {
     "data": {
      "text/plain": [
       "\"<p>The error message you're getting suggests that the STR_TO_DATE() function is not able to parse the input date string in the format 'MMM YYYY'. This is because the '%b' format specifier in the function expects the month abbreviation to be in all uppercase letters, but your input strings have the first letter capitalized.</p>\\n<p>To fix this, you can convert the first letter of the month abbreviation to uppercase before applying the STR_TO_DATE() function. Here's an example query that does this and calculates the start and end dates as requested:</p>\\n<pre><code>    SELECT delivery, \\n       DATE_FORMAT(STR_TO_DATE(CONCAT('01 ', UPPER(LEFT(delivery, 3)), SUBSTRING(delivery, 4)), '%d %b %Y'), '%Y-%m-%d') AS startdate, \\n       DATE_FORMAT(LAST_DAY(STR_TO_DATE(CONCAT('01 ', UPPER(LEFT(delivery, 3)), SUBSTRING(delivery, 4)), '%d %b %Y')), '%Y-%m-%d') AS enddate\\nFROM staging_table_2;\\n</code></pre>\\n<p>In this query, the UPPER() function is used to convert the first letter of the month abbreviation to uppercase, and the LEFT() and SUBSTRING() functions are used to extract the month abbreviation and year from the 'MMM YYYY' format.</p>\\n<p>The resulting date strings are formatted using the %Y-%m-%d format specifier, which gives dates in the format 'YYYY-MM-DD'. This format is equivalent to the ISO 8601 standard and is a good choice for storing dates in a database.</p>\\n\""
      ]
     },
     "metadata": {},
     "output_type": "display_data"
    },
    {
     "data": {
      "text/plain": [
       "'A:'"
      ]
     },
     "metadata": {},
     "output_type": "display_data"
    },
    {
     "data": {
      "text/plain": [
       "\"<p>In addition to @Rob Kennedy's answer, besides the option &quot;toShowButtons&quot;, the other option that might be needed (for the top hierarchical level) is the option &quot;toShowRoot&quot;</p>\\n\""
      ]
     },
     "metadata": {},
     "output_type": "display_data"
    },
    {
     "data": {
      "text/plain": [
       "'A:'"
      ]
     },
     "metadata": {},
     "output_type": "display_data"
    },
    {
     "data": {
      "text/plain": [
       "\"<p>There is not a way to do what you're trying to accomplish and this is likely intentional on Google's part. While I don't know EXACTLY what your requirement is, it could be used to track individual data about users' submissions <em>without them being aware of it.</em>  Google (and Microsoft) seem committed to properly apprising form users when their submissions are and are not anonymous. As a result, there are certain roadblocks you might encounter such as....</p>\\n<ol>\\n<li><p>A pre-filled form must have the pre-populated link within the URL. You could try to trick someone by using a shortened link, but the identification will still be in the URL after it loads. It will appear after the <code>...viewform</code> with a <code>?</code> after it with the exact item ID and response. It disappears once loaded, so maybe you could get around it using link shortener, but it would still be visible to the user.</p>\\n</li>\\n<li><p>One workaround that I just considered was having a section that the form skipped, but had a pre-populated URL. So if you had three sections, and section 1 jumpted to section 3 with section 2 having the pre-written URL... it does not work, meaning the pre-populated information is not part of the form response.</p>\\n</li>\\n</ol>\\n\""
      ]
     },
     "metadata": {},
     "output_type": "display_data"
    },
    {
     "data": {
      "text/plain": [
       "'A:'"
      ]
     },
     "metadata": {},
     "output_type": "display_data"
    },
    {
     "data": {
      "text/plain": [
       "'<p><strong>I Tried to reproduce the same in my environment to Transfer the Files to Linux VM using FileZilla:</strong></p>\\n<p>I have followed below steps to transfer the files to <strong>Linux VM</strong> using <strong>FileZilla</strong>.</p>\\n<ol>\\n<li><p>Install <strong>FTP Server</strong> on <strong>Linux VM</strong> using below commands.</p>\\n<pre><code> #Navigate to root folder\\n   sudo su\\n   #Install FTP Server\\n   sudo yum install vsftpd*\\n   #Enable FTP Service\\n   sudo systemctl enable vsftpd\\n   #Start FTP Server\\n   sudo systemctl start vsftpd\\n   # Check FTP Server Status\\n   sudo systemctl status vsftpd\\n   #Add FTP service to Firewall\\n   sudo firewall-cmd  --permanent -add- service=ftp\\n   #Stop Firewall Service\\n   sudo systemctl stop firewalld\\n   #Check Local IP Address\\n   ip a\\n\\n   Note: If you are using Azure VM, try to access with public IP.\\n\\n   #Assign the permission to your Directory\\n   sudo chmod 777 &lt;Directory Name&gt;\\n   # Restart the vsftpd service\\n   sudo systemctl restart vsftpd\\n</code></pre>\\n</li>\\n</ol>\\n<p><strong>FTP Server Status:</strong></p>\\n<p><img src=\"https://i.imgur.com/djWJj9S.png\" alt=\"enter image description here\" /></p>\\n<ol start=\"2\">\\n<li><p>Make sure to allow ports <strong>21</strong> and <strong>22</strong> in the <strong>Network Security Group</strong> to enable traffic from your local public <strong>IP</strong>.</p>\\n</li>\\n<li><p>After completing the installation of the <strong>FTP Server</strong>, transfer the files to an <strong>Azure VM</strong> using <strong>FileZilla</strong></p>\\n<p><strong>Hostname</strong> is your <strong>Azure VM</strong> public IP\\n<strong>Password</strong>: Your VM Password.</p>\\n</li>\\n<li><p>After connecting to the <strong>FTP Server</strong>, you will be able to see all the directories in the <strong>Azure VM</strong>. select the folder in the <strong>local machine</strong> that you want to copy files from, and also choose the directory in the <strong>Azure VM</strong> where you want to copy the files.</p>\\n</li>\\n</ol>\\n<p><img src=\"https://i.imgur.com/DrMsHkv.png\" alt=\"enter image description here\" /></p>\\n<p>Successfully uploaded the files to <strong>Azure VM</strong>.</p>\\n<p><img src=\"https://i.imgur.com/n9fBPRM.png\" alt=\"enter image description here\" /></p>\\n<p>Thanks to <code>Anthony Norwood</code> for suggesting the same.</p>\\n'"
      ]
     },
     "metadata": {},
     "output_type": "display_data"
    },
    {
     "data": {
      "text/plain": [
       "'A:'"
      ]
     },
     "metadata": {},
     "output_type": "display_data"
    },
    {
     "data": {
      "text/plain": [
       "\"<p>you can use OPENJSON</p>\\n<pre><code>declare @Json nvarchar(max)='\\n[{&quot;DocumentFormStatus&quot;:&quot;Submitted&quot;,&quot;DocumentType&quot;:&quot;DocType1&quot;}\\n,{&quot;DocumentFormStatus&quot;:&quot;Submitted&quot;,&quot;DocumentType&quot;:&quot;DocType2&quot;}\\n,{&quot;DocumentFormStatus&quot;:&quot;Submitted&quot;,&quot;DocumentType&quot;:&quot;DocType3&quot;}\\n,{&quot;DocumentFormStatus&quot;:&quot;Submitted&quot;,&quot;DocumentType&quot;:&quot;DocType4&quot;}]\\n'\\n\\n\\n\\nSELECT  \\n         DocumentFormStatus,DocumentType\\n   \\n\\n    FROM\\n    OPENJSON(@json)\\n    WITH\\n    (\\n            DocumentFormStatus varchar(100) N'$.DocumentFormStatus'\\n            ,DocumentType varchar(100) N'$.DocumentType' \\n       \\n\\n        \\n) AS a \\n\\n\\n</code></pre>\\n\""
      ]
     },
     "metadata": {},
     "output_type": "display_data"
    },
    {
     "data": {
      "text/plain": [
       "'A:'"
      ]
     },
     "metadata": {},
     "output_type": "display_data"
    },
    {
     "data": {
      "text/plain": [
       "'<p>I may be a little bit help but I hope my answer will help someone.\\nAs LoahL already said, it is possible to send an ephemeral message with an object of <strong>discord.Interaction</strong> class.</p>\\n<p>Here as a code example:</p>\\n<pre><code>@discord.app_commands.command(description=&quot;It is my_command&quot;)\\nasync def my_command(interaction: discord.Interaction):\\n    await interaction.response.send_message(&quot;Hello!&quot;, ephemeral=True)\\n</code></pre>\\n<p>As you may noticed I use the <strong>discord.app_commands</strong> module which passes a <strong>discord.Interaction</strong> to the command.</p>\\n<p>There is also one more way to create commands with <strong>discord.py</strong> - using <strong>@bot.command()</strong> or similar <strong>@discord.ext.commands.command()</strong>. Those decorators pass a <strong>discord.ext.commands.Context</strong> to function and the code will be something like:</p>\\n<pre><code>from discord.ext import commands\\n\\n@commands.command(description=&quot;It is my_command&quot;)\\nasync def my_command(ctx):\\n    await ctx.send(&quot;Hello!&quot;, ephemeral=True)\\n</code></pre>\\n<p>I am not sure about the second part of the code, but, according to <a href=\"https://discordpy.readthedocs.io/en/stable/ext/commands/api.html?highlight=context#discord.ext.commands.Context.send\" rel=\"nofollow noreferrer\">docs</a> it has to work.</p>\\n'"
      ]
     },
     "metadata": {},
     "output_type": "display_data"
    },
    {
     "data": {
      "text/plain": [
       "'A:'"
      ]
     },
     "metadata": {},
     "output_type": "display_data"
    },
    {
     "data": {
      "text/plain": [
       "'<p>Strings are of type <code>object</code>. Here, first I make the column type <code>int</code> and print it, then I convert it to a <code>string</code> type. Checking the type with <a href=\"https://pandas.pydata.org/pandas-docs/stable/reference/api/pandas.DataFrame.dtypes.html\" rel=\"nofollow noreferrer\">dtypes</a>.</p>\\n<pre><code>import pandas as pd\\n\\ndf_final = pd.DataFrame({\\'Columna 1\\': [1, 2, 3]})\\n    \\ndf_final[\\'Columna 1\\'] = df_final[\\'Columna 1\\'].astype(int)\\nprint(df_final.dtypes[\\'Columna 1\\'])# type int\\n\\ndf_final[\\'Columna 1\\'] = df_final[\\'Columna 1\\'].astype(str)\\nprint(df_final.dtypes[\\'Columna 1\\'])# type object\\n</code></pre>\\n<p>You can also check for a string type through <a href=\"https://pandas.pydata.org/pandas-docs/stable/reference/api/pandas.api.types.is_string_dtype.html\" rel=\"nofollow noreferrer\">is_string_dtype</a>.</p>\\n<pre><code>from pandas.api.types import is_string_dtype\\n\\ndf_final[\\'Columna 1\\'] = df_final[\\'Columna 1\\'].astype(str)\\n\\nprint(is_string_dtype(df_final.dtypes[\\'Columna 1\\']))#True\\n</code></pre>\\n'"
      ]
     },
     "metadata": {},
     "output_type": "display_data"
    },
    {
     "data": {
      "text/plain": [
       "'A:'"
      ]
     },
     "metadata": {},
     "output_type": "display_data"
    },
    {
     "data": {
      "text/plain": [
       "'<p>Without using a nested field – <a href=\"https://stackoverflow.com/a/76019781/10871073\">as Musab Dogan suggested</a> – which will boost the number of documents in your index and therefore may have performance impacts, I see another possibility to fix, but you have to change the mapping of the index and the indexing of your documents.</p>\\n<p>This is introducing a <code>null_value</code> for <code>items.to</code>. But you will have to explicitly define those (currently just missing) properties of your documents with <code>null</code>.</p>\\n<p><strong>To explain, why your query is not working:</strong> Arrays respectively the values in an array are flattened by default\\n(See: <a href=\"https://www.elastic.co/guide/en/elasticsearch/reference/current/array.html\" rel=\"nofollow noreferrer\">https://www.elastic.co/guide/en/elasticsearch/reference/current/array.html</a>) and not existing fields / values are skipped:</p>\\n<blockquote>\\n<p>An array may contain null values, which are either replaced by the configured null_value or skipped entirely. An empty array [] is treated as a missing field — a field with no values.</p>\\n</blockquote>\\n<p>Thus, the document you are querying looks like:</p>\\n<pre><code>{\\n    id: 1234,\\n    items.from: [ 1993-01-01, 2007-11-13 ],\\n    items.to: [ 2007-11-12 ]\\n}\\n</code></pre>\\n<p>See <a href=\"https://www.elastic.co/guide/en/elasticsearch/reference/8.7/nested.html#nested-arrays-flattening-objects\" rel=\"nofollow noreferrer\">https://www.elastic.co/guide/en/elasticsearch/reference/8.7/nested.html#nested-arrays-flattening-objects</a></p>\\n<p>But if you define the field <code>items.to</code> with an applicable and reasonable <code>null_value</code> in your use case (assuming, no <code>items.to</code> means something like &quot;not yet known but in the future&quot; this probably could be &quot;2999-12-31&quot;), change the mapping accordingly <em>and</em> index the <code>items.to</code> with explicit <code>null</code> if not given, your query would work as expected.</p>\\n<p>So, if you change the mapping to:</p>\\n<pre><code>{\\n   ....\\n    &quot;mappings&quot;: {\\n        &quot;_doc&quot;: {\\n            &quot;properties&quot;: {\\n                ....\\n                &quot;items&quot;: {\\n                    &quot;properties&quot;: {\\n                        ....\\n                        &quot;to&quot;: {\\n                          &quot;type&quot;: &quot;date&quot;,\\n                          &quot;null_value&quot;: &quot;2999-12-31&quot;\\n                        }\\n                    }\\n                }\\n            }\\n        }\\n    }\\n}\\n</code></pre>\\n<p>and index documents with an explicit <code>null</code> as <code>items.to</code>:</p>\\n<pre><code>{\\n   &quot;id&quot;: 1234,\\n   &quot;items&quot;: [\\n     {\\n       &quot;from&quot;: &quot;1993-01-01&quot;,\\n       &quot;to&quot;: &quot;2007-11-12&quot;\\n     },\\n     {\\n       &quot;from&quot;: &quot;2007-11-13&quot;,\\n       &quot;to&quot;: null\\n     }\\n   ]\\n}\\n</code></pre>\\n<p>your query would work as expected, because the flattened document you are querying looked like this:</p>\\n<pre><code>{\\n    id: 1234,\\n    items.from: [ 1993-01-01, 2007-11-13 ],\\n    items.to: [ 2007-11-12, 2999-12-31 ]\\n}\\n</code></pre>\\n<hr />\\n<p><strong>Edit:</strong> There is a BUT ...\\nAssuming, you are looking for one item in the <code>items</code> array, which fulfill the conditions (this is one item has a <code>from</code> and <code>to</code> within a certain time range), this way is not accurate, because the hits refers to any of the dates in each of the flattened arrays.\\nThus, you will also find a document which has a first item with <code>from</code> and <code>to</code> both before the range you are searching for and another item with <code>from</code> and <code>to</code> both after the range you are searching for.\\nTo prevent this, using a nested array – as @musab-dogan said – is the only way to achieve the desired.</p>\\n'"
      ]
     },
     "metadata": {},
     "output_type": "display_data"
    },
    {
     "data": {
      "text/plain": [
       "'A:'"
      ]
     },
     "metadata": {},
     "output_type": "display_data"
    },
    {
     "data": {
      "text/plain": [
       "'<p>For anyone stumbling upon this problem <a href=\"https://github.com/vuejs/pinia/discussions/2051\" rel=\"nofollow noreferrer\">this</a> might be a helpful source. It uses <a href=\"https://vitejs.dev/\" rel=\"nofollow noreferrer\">Vite</a> for bundling.</p>\\n'"
      ]
     },
     "metadata": {},
     "output_type": "display_data"
    },
    {
     "data": {
      "text/plain": [
       "'A:'"
      ]
     },
     "metadata": {},
     "output_type": "display_data"
    },
    {
     "data": {
      "text/plain": [
       "'<p>This works for me with below commands \\\\</p>\\n<p>first\\nbin\\\\windows\\\\kafka-topics.bat --create --bootstrap-server localhost:9092 --topic connect-configs --replication-factor 3 --partitions 1 --config cleanup.policy=compact</p>\\n<p>after\\nbin\\\\windows\\\\kafka-topics.bat --create --bootstrap-server localhost:9092 --topic connect-configs --replication-factor 1 --partitions 1</p>\\n'"
      ]
     },
     "metadata": {},
     "output_type": "display_data"
    },
    {
     "data": {
      "text/plain": [
       "'A:'"
      ]
     },
     "metadata": {},
     "output_type": "display_data"
    },
    {
     "data": {
      "text/plain": [
       "\"<p>If you're looking to use the user system python to interpret Python instead of the build machine python, there are several steps involved in achieving this.</p>\\n<p>First, you need to determine the path to the user system python installation. This can be done using platform-specific methods such as the Registry API on Windows or the which command on Linux or macOS.</p>\\n<p>Once you have the path, you can load the Python dynamic link library using the LoadLibrary function on Windows or the dlopen function on Linux/macOS.</p>\\n<p>Next, you'll need to use the Python C API to initialize the interpreter and create the necessary built-in modules. This involves calling various functions provided by the API, such as Py_Initialize() and PyImport_AppendInittab(), which are defined in the Python header files.</p>\\n<p>To avoid multiple definitions of the Python API macros, it's recommended to define the PY_SSIZE_T_CLEAN macro before including the Python header files. This ensures that the header files only define the &quot;clean&quot; versions of the macros, which are compatible with different Python configurations.</p>\\n<p>Overall, using the user system python to interpret Python in your C++ application can be a complex process that requires a good understanding of the Python C API. However, by following the steps outlined above, you should be able to successfully achieve this functionality.</p>\\n\""
      ]
     },
     "metadata": {},
     "output_type": "display_data"
    },
    {
     "data": {
      "text/plain": [
       "'A:'"
      ]
     },
     "metadata": {},
     "output_type": "display_data"
    },
    {
     "data": {
      "text/plain": [
       "'<p>You can also use <code>SUMPRODUCT</code>.</p>\\n<p>Formula:</p>\\n<p><code>=SUMPRODUCT(($G$2:$L$7)*($F$2:$F$7=$A2)*($G$1:$L$1&gt;=DATEVALUE(&quot;01/01/&quot;&amp;B$1))*($G$1:$L$1&lt;=DATEVALUE(&quot;31/12/&quot;&amp;B$1)))</code></p>\\n<p>Sample:</p>\\n<p><a href=\"https://i.stack.imgur.com/4NB5E.png\" rel=\"nofollow noreferrer\"><img src=\"https://i.stack.imgur.com/4NB5E.png\" alt=\"enter image description here\" /></a></p>\\n'"
      ]
     },
     "metadata": {},
     "output_type": "display_data"
    },
    {
     "data": {
      "text/plain": [
       "'A:'"
      ]
     },
     "metadata": {},
     "output_type": "display_data"
    },
    {
     "data": {
      "text/plain": [
       "'<p>I think the solution is to highlight the entire code block and then run it.\\nThe issue is DBeaver is not able to handle the more complex operations, such as creating stored procedures, as easily as other clients.\\nSolution from here: <a href=\"https://dbeaver.io/forum/viewtopic.php?f=2&amp;t=1170\" rel=\"nofollow noreferrer\">https://dbeaver.io/forum/viewtopic.php?f=2&amp;t=1170</a></p>\\n'"
      ]
     },
     "metadata": {},
     "output_type": "display_data"
    },
    {
     "data": {
      "text/plain": [
       "'A:'"
      ]
     },
     "metadata": {},
     "output_type": "display_data"
    },
    {
     "data": {
      "text/plain": [
       "\"<pre><code>curves = [['curve1', 'curve2', 'curve3', 'curve4', 'curve5'], ['curve6', 'curve7', 'curve8', 'curve9'], ['curve10', 'curve11', 'curve12'], ['curve13', 'curve14']]\\nvectors = [['vector1', 'vector2', 'vector3', 'vector4', 'vector5'], ['vector6', 'vector7', 'vector8', 'vector9'], ['vector10', 'vector11', 'vector12'], ['vector13', 'vector14']]\\n\\ncurves1 = []\\nvectors1 = []\\n\\nfor sublist1, sublist2 in zip(curves, vectors):\\n    curves1.append(sublist1[:-1])\\n    vectors1.append(sublist2[:-1])\\n\\n\\nprint(curves1)\\nprint(vectors1)\\n</code></pre>\\n<p>Hope it works</p>\\n\""
      ]
     },
     "metadata": {},
     "output_type": "display_data"
    },
    {
     "data": {
      "text/plain": [
       "'A:'"
      ]
     },
     "metadata": {},
     "output_type": "display_data"
    },
    {
     "data": {
      "text/plain": [
       "'<p>You can do this:</p>\\n<pre><code>    &lt;div&gt;\\n        {{#each react}}\\n            {{#ifCond @index \\'&lt;\\' 5}} \\n                &lt;h3&gt;{{@index}} {{name}}&lt;/h3&gt;&lt;/a&gt;\\n            {{/ifCond}}\\n        {{/each}}\\n    &lt;/div&gt;\\n</code></pre>\\n<p><strong>Define ifCond:</strong>\\nhelper.js:</p>\\n<pre><code>var helper = {};\\nmodule.exports = helper;\\n\\nhelper.ifCond = function (v1, operator, v2, options) {   \\n    switch (operator) {\\n        case \\'==\\':\\n            return (v1 == v2) ? options.fn(this) : options.inverse(this);\\n        case \\'===\\':\\n            return (v1 === v2) ? options.fn(this) : options.inverse(this);\\n        case \\'!=\\':\\n            return (v1 != v2) ? options.fn(this) : options.inverse(this);\\n        case \\'!==\\':\\n            return (v1 !== v2) ? options.fn(this) : options.inverse(this);\\n        case \\'&lt;\\':\\n            return (v1 &lt; v2) ? options.fn(this) : options.inverse(this);\\n        case \\'&lt;=\\':\\n            return (v1 &lt;= v2) ? options.fn(this) : options.inverse(this);\\n        case \\'&gt;\\':\\n            return (v1 &gt; v2) ? options.fn(this) : options.inverse(this);\\n        case \\'&gt;=\\':\\n            return (v1 &gt;= v2) ? options.fn(this) : options.inverse(this);\\n        case \\'&amp;&amp;\\':\\n            return (v1 &amp;&amp; v2) ? options.fn(this) : options.inverse(this);\\n        case \\'||\\':\\n            return (v1 || v2) ? options.fn(this) : options.inverse(this);\\n        default:\\n            return options.inverse(this);\\n    }\\n};\\n</code></pre>\\n<p>In App.js:</p>\\n<pre><code>const helper = require(\\'./helper/helper\\');\\napp.engine(\\'hbs\\', handlebars({\\n  layoutsDir: __dirname + \\'/views/layouts\\',\\n  extname: \\'hbs\\',\\n  helpers: helper\\n}));\\n</code></pre>\\n<p>Output:\\n<a href=\"https://i.stack.imgur.com/TSEb0.png\" rel=\"nofollow noreferrer\"><img src=\"https://i.stack.imgur.com/TSEb0.png\" alt=\"enter image description here\" /></a></p>\\n'"
      ]
     },
     "metadata": {},
     "output_type": "display_data"
    },
    {
     "data": {
      "text/plain": [
       "'A:'"
      ]
     },
     "metadata": {},
     "output_type": "display_data"
    },
    {
     "data": {
      "text/plain": [
       "'<p>Actually, it says you have an old Macbook and must buy a new one and update your OS and XCode.</p>\\n<p>If you have the latest Macbook then simply update your OS and XCode.</p>\\n'"
      ]
     },
     "metadata": {},
     "output_type": "display_data"
    }
   ],
   "source": [
    "# your code here\n",
    "import datetime\n",
    "from stackapi import StackAPI\n",
    "\n",
    "SITE = StackAPI('stackoverflow')\n",
    "\n",
    "end_date = datetime.datetime.now()\n",
    "start_date = end_date - datetime.timedelta(days=30)\n",
    "\n",
    "questions = SITE.fetch('questions', fromdate=start_date, todate=end_date)\n",
    "answers = SITE.fetch('answers', fromdate=start_date, todate=end_date, filter='!nOedRLqQ19')\n",
    "\n",
    "\n",
    "for question in questions['items']:\n",
    "    print('Q:',question['title'])\n",
    "\n",
    "for answer in answers['items']:\n",
    "    display('A:',answer['body'])\n"
   ]
  },
  {
   "cell_type": "markdown",
   "metadata": {},
   "source": [
    "#### Question 2: Find the most voted question today with at least a score of 5 and tagged with 'python'. "
   ]
  },
  {
   "cell_type": "code",
   "execution_count": 61,
   "metadata": {},
   "outputs": [
    {
     "data": {
      "text/plain": [
       "{'backoff': 0,\n",
       " 'has_more': False,\n",
       " 'page': 1,\n",
       " 'quota_max': 300,\n",
       " 'quota_remaining': 130,\n",
       " 'total': 0,\n",
       " 'items': [{'tags': ['python', 'recursion', 'limit'],\n",
       "   'owner': {'reputation': 221,\n",
       "    'user_id': 21605529,\n",
       "    'user_type': 'registered',\n",
       "    'profile_image': 'https://lh3.googleusercontent.com/a/AGNmyxZj4NnCmoE0ZsOTZ3cp1oX_BdP_FV-1mIUHH3J2=k-s256',\n",
       "    'display_name': 'dormeur20092010',\n",
       "    'link': 'https://stackoverflow.com/users/21605529/dormeur20092010'},\n",
       "   'is_answered': True,\n",
       "   'view_count': 1579,\n",
       "   'answer_count': 4,\n",
       "   'score': 22,\n",
       "   'last_activity_date': 1681157955,\n",
       "   'creation_date': 1681087722,\n",
       "   'last_edit_date': 1681157955,\n",
       "   'question_id': 75973613,\n",
       "   'content_license': 'CC BY-SA 4.0',\n",
       "   'link': 'https://stackoverflow.com/questions/75973613/can-you-explain-this-difference-of-recursion-depth-in-python-using-these-seeming',\n",
       "   'title': 'Can you explain this difference of recursion depth in Python using these seemingly equivalent functions?'},\n",
       "  {'tags': ['python',\n",
       "    'cookies',\n",
       "    'python-requests',\n",
       "    'session-cookies',\n",
       "    'cloudflare'],\n",
       "   'owner': {'reputation': 308,\n",
       "    'user_id': 21502948,\n",
       "    'user_type': 'registered',\n",
       "    'profile_image': 'https://lh3.googleusercontent.com/a/AGNmyxa0E6ALVA8Kti_kfqDEPBGgR70ZR5Ado7R1MpD0=k-s256',\n",
       "    'display_name': 'Anm',\n",
       "    'link': 'https://stackoverflow.com/users/21502948/anm'},\n",
       "   'is_answered': True,\n",
       "   'view_count': 922,\n",
       "   'answer_count': 3,\n",
       "   'score': 15,\n",
       "   'last_activity_date': 1681221965,\n",
       "   'creation_date': 1679932189,\n",
       "   'last_edit_date': 1680209636,\n",
       "   'question_id': 75857794,\n",
       "   'content_license': 'CC BY-SA 4.0',\n",
       "   'link': 'https://stackoverflow.com/questions/75857794/how-does-cloudflare-detect-that-i-am-a-bot-even-though-i-have-provided-the-cf-cl',\n",
       "   'title': 'How does Cloudflare detect that I am a bot even though I have provided the cf_clearance cookie?'},\n",
       "  {'tags': ['python', 'regex'],\n",
       "   'owner': {'reputation': 60974,\n",
       "    'user_id': 4001592,\n",
       "    'user_type': 'registered',\n",
       "    'profile_image': 'https://i.stack.imgur.com/LvJCz.png?s=256&g=1',\n",
       "    'display_name': 'Dani Mesejo',\n",
       "    'link': 'https://stackoverflow.com/users/4001592/dani-mesejo'},\n",
       "   'is_answered': True,\n",
       "   'view_count': 375,\n",
       "   'bounty_amount': 100,\n",
       "   'bounty_closes_date': 1681988783,\n",
       "   'answer_count': 3,\n",
       "   'score': 13,\n",
       "   'last_activity_date': 1681894573,\n",
       "   'creation_date': 1681207797,\n",
       "   'question_id': 75984731,\n",
       "   'content_license': 'CC BY-SA 4.0',\n",
       "   'link': 'https://stackoverflow.com/questions/75984731/what-is-the-meaning-of-the-re-debug-flag',\n",
       "   'title': 'What is the meaning of the re.DEBUG flag?'},\n",
       "  {'tags': ['python', 'openai-api', 'gpt-3', 'llama-index'],\n",
       "   'owner': {'reputation': 167,\n",
       "    'user_id': 6421492,\n",
       "    'user_type': 'registered',\n",
       "    'profile_image': 'https://www.gravatar.com/avatar/d969344dbfceda798a82b9a8e563d38e?s=256&d=identicon&r=PG&f=1',\n",
       "    'display_name': 't25',\n",
       "    'link': 'https://stackoverflow.com/users/6421492/t25'},\n",
       "   'is_answered': True,\n",
       "   'view_count': 841,\n",
       "   'answer_count': 2,\n",
       "   'score': 8,\n",
       "   'last_activity_date': 1681894494,\n",
       "   'creation_date': 1680560835,\n",
       "   'question_id': 75924179,\n",
       "   'content_license': 'CC BY-SA 4.0',\n",
       "   'link': 'https://stackoverflow.com/questions/75924179/llama-index-unexpected-keyword-argument-error-on-chatgpt-model-python',\n",
       "   'title': 'Llama_index unexpected keyword argument error on ChatGPT Model Python'},\n",
       "  {'tags': ['python'],\n",
       "   'owner': {'reputation': 326,\n",
       "    'user_id': 11294747,\n",
       "    'user_type': 'registered',\n",
       "    'profile_image': 'https://i.stack.imgur.com/3GhMT.jpg?s=256&g=1',\n",
       "    'display_name': 'sgalpha01',\n",
       "    'link': 'https://stackoverflow.com/users/11294747/sgalpha01'},\n",
       "   'is_answered': True,\n",
       "   'view_count': 238,\n",
       "   'accepted_answer_id': 75837604,\n",
       "   'answer_count': 1,\n",
       "   'score': 7,\n",
       "   'last_activity_date': 1679740437,\n",
       "   'creation_date': 1679345446,\n",
       "   'last_edit_date': 1679587958,\n",
       "   'question_id': 75795170,\n",
       "   'content_license': 'CC BY-SA 4.0',\n",
       "   'link': 'https://stackoverflow.com/questions/75795170/how-to-design-codeforces-interactive-grader',\n",
       "   'title': 'How to design Codeforces interactive grader?'},\n",
       "  {'tags': ['python', 'pandas', 'numpy'],\n",
       "   'owner': {'reputation': 4026,\n",
       "    'user_id': 5942100,\n",
       "    'user_type': 'registered',\n",
       "    'profile_image': 'https://www.gravatar.com/avatar/13bec6be9e439b3c91581672ce909adf?s=256&d=identicon&r=PG&f=1',\n",
       "    'display_name': 'Lynn',\n",
       "    'link': 'https://stackoverflow.com/users/5942100/lynn'},\n",
       "   'is_answered': True,\n",
       "   'view_count': 102,\n",
       "   'accepted_answer_id': 75945934,\n",
       "   'answer_count': 4,\n",
       "   'score': 6,\n",
       "   'last_activity_date': 1680777689,\n",
       "   'creation_date': 1680755041,\n",
       "   'last_edit_date': 1680761480,\n",
       "   'question_id': 75945804,\n",
       "   'content_license': 'CC BY-SA 4.0',\n",
       "   'link': 'https://stackoverflow.com/questions/75945804/tricky-long-pivot-by-reverse-aggregation-transformation-pandas',\n",
       "   'title': 'Tricky Long Pivot by Reverse Aggregation transformation (Pandas)'},\n",
       "  {'tags': ['python', 'pandas', 'dataframe', 'conditional-statements'],\n",
       "   'owner': {'reputation': 73,\n",
       "    'user_id': 16586886,\n",
       "    'user_type': 'registered',\n",
       "    'profile_image': 'https://www.gravatar.com/avatar/481e1d59e5fb2cc48b8385bf8581adb3?s=256&d=identicon&r=PG&f=1',\n",
       "    'display_name': 'Pratik Dutta',\n",
       "    'link': 'https://stackoverflow.com/users/16586886/pratik-dutta'},\n",
       "   'is_answered': True,\n",
       "   'view_count': 146,\n",
       "   'answer_count': 6,\n",
       "   'score': 6,\n",
       "   'last_activity_date': 1679981277,\n",
       "   'creation_date': 1679958737,\n",
       "   'question_id': 75861122,\n",
       "   'content_license': 'CC BY-SA 4.0',\n",
       "   'link': 'https://stackoverflow.com/questions/75861122/find-columns-where-at-least-one-row-value-is-greater-than-0-7-and-all-others-are',\n",
       "   'title': 'Find columns where at least one row value is greater than 0.7 and all others are less than 0.3'},\n",
       "  {'tags': ['python', 'overloading', 'type-hinting', 'mypy', 'python-typing'],\n",
       "   'owner': {'reputation': 1219,\n",
       "    'user_id': 1667423,\n",
       "    'user_type': 'registered',\n",
       "    'accept_rate': 36,\n",
       "    'profile_image': 'https://www.gravatar.com/avatar/e802a9085c02ec77592aa93bfd03d05c?s=256&d=identicon&r=PG',\n",
       "    'display_name': 'user76284',\n",
       "    'link': 'https://stackoverflow.com/users/1667423/user76284'},\n",
       "   'is_answered': True,\n",
       "   'view_count': 178,\n",
       "   'answer_count': 1,\n",
       "   'score': 6,\n",
       "   'last_activity_date': 1680010218,\n",
       "   'creation_date': 1679863675,\n",
       "   'last_edit_date': 1679870723,\n",
       "   'question_id': 75850480,\n",
       "   'content_license': 'CC BY-SA 4.0',\n",
       "   'link': 'https://stackoverflow.com/questions/75850480/type-annotation-for-at-least-one-argument-is-of-type-x',\n",
       "   'title': 'Type annotation for &quot;at least one argument is of type X&quot;'},\n",
       "  {'tags': ['python', 'tkinter', 'canvas'],\n",
       "   'owner': {'reputation': 400,\n",
       "    'user_id': 19198552,\n",
       "    'user_type': 'registered',\n",
       "    'profile_image': 'https://www.gravatar.com/avatar/b927a783b73c0a58f15d93a0410651ca?s=256&d=identicon&r=PG',\n",
       "    'display_name': 'Matthias Schweikart',\n",
       "    'link': 'https://stackoverflow.com/users/19198552/matthias-schweikart'},\n",
       "   'is_answered': True,\n",
       "   'view_count': 64,\n",
       "   'accepted_answer_id': 75976690,\n",
       "   'answer_count': 2,\n",
       "   'score': 6,\n",
       "   'last_activity_date': 1681126128,\n",
       "   'creation_date': 1680533235,\n",
       "   'question_id': 75920755,\n",
       "   'content_license': 'CC BY-SA 4.0',\n",
       "   'link': 'https://stackoverflow.com/questions/75920755/why-does-the-parameter-disabledwidth-of-a-tkinter-canvas-rectangle-not-work',\n",
       "   'title': 'Why does the parameter &quot;disabledwidth&quot; of a tkinter canvas rectangle not work?'},\n",
       "  {'tags': ['python', 'svg', 'rendering'],\n",
       "   'owner': {'reputation': 554,\n",
       "    'user_id': 1651481,\n",
       "    'user_type': 'registered',\n",
       "    'accept_rate': 91,\n",
       "    'profile_image': 'https://i.stack.imgur.com/cMu22.jpg?s=256&g=1',\n",
       "    'display_name': 'XuMuK',\n",
       "    'link': 'https://stackoverflow.com/users/1651481/xumuk'},\n",
       "   'is_answered': True,\n",
       "   'view_count': 147,\n",
       "   'accepted_answer_id': 75883170,\n",
       "   'answer_count': 1,\n",
       "   'score': 6,\n",
       "   'last_activity_date': 1680266290,\n",
       "   'creation_date': 1679565052,\n",
       "   'last_edit_date': 1680266290,\n",
       "   'question_id': 75821466,\n",
       "   'content_license': 'CC BY-SA 4.0',\n",
       "   'link': 'https://stackoverflow.com/questions/75821466/python-render-svg-image-with-the-python-only-modules',\n",
       "   'title': 'Python render svg image with the python only modules'},\n",
       "  {'tags': ['python', 'pickle'],\n",
       "   'owner': {'reputation': 411,\n",
       "    'user_id': 2644016,\n",
       "    'user_type': 'registered',\n",
       "    'profile_image': 'https://www.gravatar.com/avatar/102a047a971e75e99b79b22520157fa2?s=256&d=identicon&r=PG',\n",
       "    'display_name': 'parched',\n",
       "    'link': 'https://stackoverflow.com/users/2644016/parched'},\n",
       "   'is_answered': True,\n",
       "   'view_count': 81,\n",
       "   'accepted_answer_id': 75999799,\n",
       "   'answer_count': 2,\n",
       "   'score': 5,\n",
       "   'last_activity_date': 1681356079,\n",
       "   'creation_date': 1681331594,\n",
       "   'question_id': 75999612,\n",
       "   'content_license': 'CC BY-SA 4.0',\n",
       "   'link': 'https://stackoverflow.com/questions/75999612/why-is-a-pickled-object-with-slots-bigger-than-one-without-slots',\n",
       "   'title': 'Why is a pickled object with slots bigger than one without slots?'},\n",
       "  {'tags': ['python', 'pandas', 'apache-spark', 'databricks', 'iteritems'],\n",
       "   'owner': {'reputation': 325,\n",
       "    'user_id': 19079397,\n",
       "    'user_type': 'registered',\n",
       "    'profile_image': 'https://lh3.googleusercontent.com/a/AATXAJzT2kqy12xZ5zftPWk8cYxLZSGPzAmKQK3RThXP=k-s256',\n",
       "    'display_name': 'data en',\n",
       "    'link': 'https://stackoverflow.com/users/19079397/data-en'},\n",
       "   'is_answered': True,\n",
       "   'view_count': 1374,\n",
       "   'accepted_answer_id': 75926954,\n",
       "   'answer_count': 3,\n",
       "   'score': 5,\n",
       "   'last_activity_date': 1681299670,\n",
       "   'creation_date': 1680593571,\n",
       "   'question_id': 75926636,\n",
       "   'content_license': 'CC BY-SA 4.0',\n",
       "   'link': 'https://stackoverflow.com/questions/75926636/databricks-issue-while-creating-spark-data-frame-from-pandas',\n",
       "   'title': 'Databricks: Issue while creating spark data frame from pandas'},\n",
       "  {'tags': ['python'],\n",
       "   'owner': {'reputation': 77,\n",
       "    'user_id': 21083252,\n",
       "    'user_type': 'registered',\n",
       "    'profile_image': 'https://www.gravatar.com/avatar/f1fe92203f6d546d85dcd534e98f5c77?s=256&d=identicon&r=PG',\n",
       "    'display_name': 'Daniel_DS',\n",
       "    'link': 'https://stackoverflow.com/users/21083252/daniel-ds'},\n",
       "   'is_answered': True,\n",
       "   'view_count': 2397,\n",
       "   'answer_count': 1,\n",
       "   'score': 5,\n",
       "   'last_activity_date': 1681843963,\n",
       "   'creation_date': 1681510031,\n",
       "   'last_edit_date': 1681514371,\n",
       "   'question_id': 76019272,\n",
       "   'content_license': 'CC BY-SA 4.0',\n",
       "   'link': 'https://stackoverflow.com/questions/76019272/error-when-i-open-spyder-pylsp-1-7-2-1-8-0-1-7-1-nok',\n",
       "   'title': 'Error when I open Spyder: pylsp &gt;=1.7.2,&lt;1.8.0 : 1.7.1 (NOK)'},\n",
       "  {'tags': ['python', 'pandas', 'dataframe'],\n",
       "   'owner': {'reputation': 116,\n",
       "    'user_id': 13595011,\n",
       "    'user_type': 'registered',\n",
       "    'profile_image': 'https://lh3.googleusercontent.com/a-/AOh14Gja1Bf3zfNP7LY4HSFgp6beG2pul2AVcXIsoLC52g=k-s256',\n",
       "    'display_name': 'Maksimjeet Chowdhary',\n",
       "    'link': 'https://stackoverflow.com/users/13595011/maksimjeet-chowdhary'},\n",
       "   'is_answered': True,\n",
       "   'view_count': 4310,\n",
       "   'answer_count': 1,\n",
       "   'score': 5,\n",
       "   'last_activity_date': 1680851397,\n",
       "   'creation_date': 1680851159,\n",
       "   'question_id': 75956209,\n",
       "   'content_license': 'CC BY-SA 4.0',\n",
       "   'link': 'https://stackoverflow.com/questions/75956209/dataframe-object-has-no-attribute-append',\n",
       "   'title': 'DataFrame object has no attribute append'},\n",
       "  {'tags': ['python', 'regex', 'regex-greedy'],\n",
       "   'owner': {'reputation': 2064,\n",
       "    'user_id': 6656081,\n",
       "    'user_type': 'registered',\n",
       "    'profile_image': 'https://i.stack.imgur.com/3F1XI.jpg?s=256&g=1',\n",
       "    'display_name': 'Anton Ganichev',\n",
       "    'link': 'https://stackoverflow.com/users/6656081/anton-ganichev'},\n",
       "   'is_answered': True,\n",
       "   'view_count': 123,\n",
       "   'answer_count': 1,\n",
       "   'score': 5,\n",
       "   'last_activity_date': 1679701018,\n",
       "   'creation_date': 1679686776,\n",
       "   'last_edit_date': 1679701018,\n",
       "   'question_id': 75837570,\n",
       "   'content_license': 'CC BY-SA 4.0',\n",
       "   'link': 'https://stackoverflow.com/questions/75837570/why-is-the-regex-quantifier-n-more-greedy-than-in-python',\n",
       "   'title': 'Why is the regex quantifier {n,} more greedy than + (in Python)?'},\n",
       "  {'tags': ['python', 'class'],\n",
       "   'owner': {'reputation': 153,\n",
       "    'user_id': 2128654,\n",
       "    'user_type': 'registered',\n",
       "    'profile_image': 'https://www.gravatar.com/avatar/579ff437353337f5fa00f06981cdb647?s=256&d=identicon&r=PG',\n",
       "    'display_name': 'Abdullah Khalid',\n",
       "    'link': 'https://stackoverflow.com/users/2128654/abdullah-khalid'},\n",
       "   'is_answered': True,\n",
       "   'view_count': 135,\n",
       "   'accepted_answer_id': 75980864,\n",
       "   'answer_count': 5,\n",
       "   'score': 5,\n",
       "   'last_activity_date': 1681223417,\n",
       "   'creation_date': 1681157842,\n",
       "   'last_edit_date': 1681172700,\n",
       "   'question_id': 75980399,\n",
       "   'content_license': 'CC BY-SA 4.0',\n",
       "   'link': 'https://stackoverflow.com/questions/75980399/python-linear-getitem-for-a-pair-of-list-of-lists',\n",
       "   'title': 'Python: linear __getitem__ for a pair of list of lists'},\n",
       "  {'tags': ['python', 'dataframe', 'apache-spark', 'pyspark'],\n",
       "   'owner': {'reputation': 145,\n",
       "    'user_id': 7323820,\n",
       "    'user_type': 'registered',\n",
       "    'profile_image': 'https://i.stack.imgur.com/0prQE.jpg?s=256&g=1',\n",
       "    'display_name': 'Leonard',\n",
       "    'link': 'https://stackoverflow.com/users/7323820/leonard'},\n",
       "   'is_answered': True,\n",
       "   'view_count': 57,\n",
       "   'accepted_answer_id': 75955334,\n",
       "   'answer_count': 2,\n",
       "   'score': 5,\n",
       "   'last_activity_date': 1680840283,\n",
       "   'creation_date': 1680838390,\n",
       "   'question_id': 75955276,\n",
       "   'content_license': 'CC BY-SA 4.0',\n",
       "   'link': 'https://stackoverflow.com/questions/75955276/pyspark-json-to-pyspark-dataframe',\n",
       "   'title': 'Pyspark: JSON to Pyspark dataframe'},\n",
       "  {'tags': ['python', 'subprocess', 'popen'],\n",
       "   'owner': {'reputation': 197,\n",
       "    'user_id': 9042093,\n",
       "    'user_type': 'registered',\n",
       "    'profile_image': 'https://www.gravatar.com/avatar/c2c9aa2c240a03ba9be09074706a1bf0?s=256&d=identicon&r=PG',\n",
       "    'display_name': 'bad_coder9042093',\n",
       "    'link': 'https://stackoverflow.com/users/9042093/bad-coder9042093'},\n",
       "   'is_answered': True,\n",
       "   'view_count': 48,\n",
       "   'accepted_answer_id': 75945993,\n",
       "   'answer_count': 2,\n",
       "   'score': 5,\n",
       "   'last_activity_date': 1680757604,\n",
       "   'creation_date': 1680755523,\n",
       "   'last_edit_date': 1680756012,\n",
       "   'question_id': 75945832,\n",
       "   'content_license': 'CC BY-SA 4.0',\n",
       "   'link': 'https://stackoverflow.com/questions/75945832/what-is-the-output-type-of-subprocess-communicate',\n",
       "   'title': 'What is the output type of Subprocess.communicate?'},\n",
       "  {'tags': ['python', 'numpy', 'matrix-multiplication'],\n",
       "   'owner': {'reputation': 77,\n",
       "    'user_id': 20420772,\n",
       "    'user_type': 'registered',\n",
       "    'profile_image': 'https://lh3.googleusercontent.com/a/ALm5wu2V4zNUih0xRFWxVATFgOM9jtu8b66Ua_RABdZY=k-s256',\n",
       "    'display_name': 'Zuba Tupaki',\n",
       "    'link': 'https://stackoverflow.com/users/20420772/zuba-tupaki'},\n",
       "   'is_answered': True,\n",
       "   'view_count': 185,\n",
       "   'accepted_answer_id': 75840049,\n",
       "   'answer_count': 1,\n",
       "   'score': 5,\n",
       "   'last_activity_date': 1679846840,\n",
       "   'creation_date': 1679632429,\n",
       "   'last_edit_date': 1679664647,\n",
       "   'question_id': 75830063,\n",
       "   'content_license': 'CC BY-SA 4.0',\n",
       "   'link': 'https://stackoverflow.com/questions/75830063/how-to-optimize-and-speed-up-this-matrices-multiplication-in-python',\n",
       "   'title': 'How to optimize and speed up this matrices multiplication in Python'},\n",
       "  {'tags': ['python', 'plotly', 'plotly-python'],\n",
       "   'owner': {'reputation': 6812,\n",
       "    'user_id': 1245262,\n",
       "    'user_type': 'registered',\n",
       "    'accept_rate': 88,\n",
       "    'profile_image': 'https://www.gravatar.com/avatar/83503cef6b0550864d3a1c9ca5d87701?s=256&d=identicon&r=PG',\n",
       "    'display_name': 'user1245262',\n",
       "    'link': 'https://stackoverflow.com/users/1245262/user1245262'},\n",
       "   'is_answered': True,\n",
       "   'view_count': 67,\n",
       "   'accepted_answer_id': 75883703,\n",
       "   'answer_count': 2,\n",
       "   'score': 5,\n",
       "   'last_activity_date': 1680370547,\n",
       "   'creation_date': 1680118717,\n",
       "   'question_id': 75881502,\n",
       "   'content_license': 'CC BY-SA 4.0',\n",
       "   'link': 'https://stackoverflow.com/questions/75881502/how-can-i-reverse-direction-of-plotlys-colorbar-so-that-small-values-at-top-an',\n",
       "   'title': 'How can I reverse direction of Plotly&#39;s Colorbar, so that small values at top and large values at bottom'},\n",
       "  {'tags': ['python', 'web-scraping', 'beautifulsoup'],\n",
       "   'owner': {'reputation': 755,\n",
       "    'user_id': 12214867,\n",
       "    'user_type': 'registered',\n",
       "    'profile_image': 'https://lh5.googleusercontent.com/-RCjV0xfzAWk/AAAAAAAAAAI/AAAAAAAAAAA/ACHi3rdopK4Nj0yLOC-VAKly278w63sD8w/mo/photo.jpg?sz=256',\n",
       "    'display_name': 'JJJohn',\n",
       "    'link': 'https://stackoverflow.com/users/12214867/jjjohn'},\n",
       "   'is_answered': True,\n",
       "   'view_count': 164,\n",
       "   'accepted_answer_id': 75897298,\n",
       "   'answer_count': 3,\n",
       "   'score': 5,\n",
       "   'last_activity_date': 1680285067,\n",
       "   'creation_date': 1679494910,\n",
       "   'last_edit_date': 1679785612,\n",
       "   'question_id': 75813474,\n",
       "   'content_license': 'CC BY-SA 4.0',\n",
       "   'link': 'https://stackoverflow.com/questions/75813474/im-trying-to-scrape-a-bing-dict-page-with-beautifulsoup-however-response-cont',\n",
       "   'title': 'I&#39;m trying to scrape a Bing dict page with BeautifulSoup. However, response.content doesn&#39;t contain the actual data, how do I do?'},\n",
       "  {'tags': ['python', 'numpy', 'performance'],\n",
       "   'owner': {'reputation': 180,\n",
       "    'user_id': 17638323,\n",
       "    'user_type': 'registered',\n",
       "    'profile_image': 'https://www.gravatar.com/avatar/5b4d94e74f52bc71094aa7996de0c0af?s=256&d=identicon&r=PG',\n",
       "    'display_name': 'Simon Tartakovksy',\n",
       "    'link': 'https://stackoverflow.com/users/17638323/simon-tartakovksy'},\n",
       "   'is_answered': True,\n",
       "   'view_count': 73,\n",
       "   'accepted_answer_id': 76010625,\n",
       "   'answer_count': 1,\n",
       "   'score': 5,\n",
       "   'last_activity_date': 1681488436,\n",
       "   'creation_date': 1681417928,\n",
       "   'question_id': 76009612,\n",
       "   'content_license': 'CC BY-SA 4.0',\n",
       "   'link': 'https://stackoverflow.com/questions/76009612/numpy-matmul-performs-100-times-worse-than-dot-on-array-views',\n",
       "   'title': 'Numpy `matmul` performs ~100 times worse than `dot` on array views'},\n",
       "  {'tags': ['python', 'pandas', 'python-polars'],\n",
       "   'owner': {'reputation': 73,\n",
       "    'user_id': 10619123,\n",
       "    'user_type': 'registered',\n",
       "    'profile_image': 'https://www.gravatar.com/avatar/0972236755607e71cd5aa0094a5e678b?s=256&d=identicon&r=PG&f=1',\n",
       "    'display_name': 'Joris Medeišis',\n",
       "    'link': 'https://stackoverflow.com/users/10619123/joris-medei%c5%a1is'},\n",
       "   'is_answered': True,\n",
       "   'view_count': 58,\n",
       "   'accepted_answer_id': 75998645,\n",
       "   'answer_count': 1,\n",
       "   'score': 5,\n",
       "   'last_activity_date': 1681341302,\n",
       "   'creation_date': 1681322759,\n",
       "   'last_edit_date': 1681341302,\n",
       "   'question_id': 75998574,\n",
       "   'content_license': 'CC BY-SA 4.0',\n",
       "   'link': 'https://stackoverflow.com/questions/75998574/how-to-implement-rolling-mean-ignoring-null-values',\n",
       "   'title': 'How to implement rolling mean ignoring null values'},\n",
       "  {'tags': ['python', 'pandas', 'dataframe', 'missing-data'],\n",
       "   'owner': {'reputation': 317,\n",
       "    'user_id': 18091040,\n",
       "    'user_type': 'registered',\n",
       "    'profile_image': 'https://www.gravatar.com/avatar/baad7fe31c56feea5edba1353e3f9b88?s=256&d=identicon&r=PG',\n",
       "    'display_name': 'brenodacosta',\n",
       "    'link': 'https://stackoverflow.com/users/18091040/brenodacosta'},\n",
       "   'is_answered': True,\n",
       "   'view_count': 73,\n",
       "   'answer_count': 1,\n",
       "   'score': 5,\n",
       "   'last_activity_date': 1680689757,\n",
       "   'creation_date': 1680684071,\n",
       "   'last_edit_date': 1680684407,\n",
       "   'question_id': 75937355,\n",
       "   'content_license': 'CC BY-SA 4.0',\n",
       "   'link': 'https://stackoverflow.com/questions/75937355/fill-pandas-dataframe-missing-data-based-on-correlation-with-other-columns',\n",
       "   'title': 'Fill pandas dataframe missing data based on correlation with other columns'},\n",
       "  {'tags': ['python', 'azure', 'azure-web-app-service'],\n",
       "   'owner': {'reputation': 1672,\n",
       "    'user_id': 4594063,\n",
       "    'user_type': 'registered',\n",
       "    'accept_rate': 89,\n",
       "    'profile_image': 'https://www.gravatar.com/avatar/746e474603a169a3456a4039381a740d?s=256&d=identicon&r=PG&f=1',\n",
       "    'display_name': 'Wessi',\n",
       "    'link': 'https://stackoverflow.com/users/4594063/wessi'},\n",
       "   'is_answered': True,\n",
       "   'view_count': 226,\n",
       "   'accepted_answer_id': 75960742,\n",
       "   'answer_count': 2,\n",
       "   'score': 5,\n",
       "   'last_activity_date': 1680888877,\n",
       "   'creation_date': 1679908355,\n",
       "   'last_edit_date': 1680162916,\n",
       "   'question_id': 75853973,\n",
       "   'content_license': 'CC BY-SA 4.0',\n",
       "   'link': 'https://stackoverflow.com/questions/75853973/azure-app-service-app-not-in-root-directory',\n",
       "   'title': 'Azure app service - app not in root directory'}]}"
      ]
     },
     "execution_count": 61,
     "metadata": {},
     "output_type": "execute_result"
    }
   ],
   "source": [
    "# your code here\n",
    "end_date = datetime.datetime.now()\n",
    "start_date = end_date - datetime.timedelta(days=30)\n",
    "most_voted = SITE.fetch('questions', fromdate=start_date, todate=end_date, min=5, tagged='python', sort='votes')\n",
    "most_voted"
   ]
  },
  {
   "cell_type": "markdown",
   "metadata": {},
   "source": [
    "#### Question 3: Find the answers with id 6784 and 6473."
   ]
  },
  {
   "cell_type": "code",
   "execution_count": 64,
   "metadata": {},
   "outputs": [
    {
     "name": "stdout",
     "output_type": "stream",
     "text": [
      "{'owner': {'reputation': 30649, 'user_id': 758, 'user_type': 'registered', 'accept_rate': 77, 'profile_image': 'https://www.gravatar.com/avatar/0b4adc19284ed0751844d610555dc6b2?s=256&d=identicon&r=PG', 'display_name': 'Mark Renouf', 'link': 'https://stackoverflow.com/users/758/mark-renouf'}, 'is_accepted': False, 'score': 0, 'last_activity_date': 1218291583, 'creation_date': 1218291583, 'answer_id': 6784, 'question_id': 6778, 'content_license': 'CC BY-SA 2.5'}\n"
     ]
    }
   ],
   "source": [
    "# your code here\n",
    "answer_ids = [6784, 6473]\n",
    "answers = SITE.fetch('answers/{ids}', ids=answer_ids)\n",
    "for answer in answers['items']:\n",
    "    print(answer)"
   ]
  }
 ],
 "metadata": {
  "kernelspec": {
   "display_name": "Python 3 (ipykernel)",
   "language": "python",
   "name": "python3"
  },
  "language_info": {
   "codemirror_mode": {
    "name": "ipython",
    "version": 3
   },
   "file_extension": ".py",
   "mimetype": "text/x-python",
   "name": "python",
   "nbconvert_exporter": "python",
   "pygments_lexer": "ipython3",
   "version": "3.9.13"
  }
 },
 "nbformat": 4,
 "nbformat_minor": 2
}
