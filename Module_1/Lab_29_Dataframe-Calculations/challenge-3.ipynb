{
 "cells": [
  {
   "cell_type": "markdown",
   "metadata": {
    "toc": true
   },
   "source": [
    "<h1>Table of Contents<span class=\"tocSkip\"></span></h1>\n",
    "<div class=\"toc\"><ul class=\"toc-item\"><li><span><a href=\"#Challenge-3\" data-toc-modified-id=\"Challenge-3-1\"><span class=\"toc-item-num\">1&nbsp;&nbsp;</span>Challenge 3</a></span><ul class=\"toc-item\"><li><span><a href=\"#Q1:-How-to-identify-VIP-&amp;-Preferred-Customers?\" data-toc-modified-id=\"Q1:-How-to-identify-VIP-&amp;-Preferred-Customers?-1.1\"><span class=\"toc-item-num\">1.1&nbsp;&nbsp;</span>Q1: How to identify VIP &amp; Preferred Customers?</a></span></li><li><span><a href=\"#How-to-label-customers-whose-aggregated-amount_spent-is-in-a-given-quantile-range?\" data-toc-modified-id=\"How-to-label-customers-whose-aggregated-amount_spent-is-in-a-given-quantile-range?-1.2\"><span class=\"toc-item-num\">1.2&nbsp;&nbsp;</span>How to label customers whose aggregated <code>amount_spent</code> is in a given quantile range?</a></span><ul class=\"toc-item\"><li><ul class=\"toc-item\"><li><span><a href=\"#Sub-Problem-1:-How-to-aggregate-the--amount_spent-for-unique-customers?\" data-toc-modified-id=\"Sub-Problem-1:-How-to-aggregate-the--amount_spent-for-unique-customers?-1.2.0.1\"><span class=\"toc-item-num\">1.2.0.1&nbsp;&nbsp;</span>Sub Problem 1: How to aggregate the  <code>amount_spent</code> for unique customers?</a></span></li><li><span><a href=\"#Sub-Problem-2:-How-to-select-customers-whose-aggregated-amount_spent-is-in-a-given-quantile-range?\" data-toc-modified-id=\"Sub-Problem-2:-How-to-select-customers-whose-aggregated-amount_spent-is-in-a-given-quantile-range?-1.2.0.2\"><span class=\"toc-item-num\">1.2.0.2&nbsp;&nbsp;</span>Sub Problem 2: How to select customers whose aggregated <code>amount_spent</code> is in a given quantile range?</a></span></li><li><span><a href=\"#Sub-Problem-3:-How-to-label-selected-customers-as-&quot;VIP&quot;-or-&quot;Preferred&quot;?\" data-toc-modified-id=\"Sub-Problem-3:-How-to-label-selected-customers-as-&quot;VIP&quot;-or-&quot;Preferred&quot;?-1.2.0.3\"><span class=\"toc-item-num\">1.2.0.3&nbsp;&nbsp;</span>Sub Problem 3: How to label selected customers as \"VIP\" or \"Preferred\"?</a></span></li></ul></li></ul></li><li><span><a href=\"#Q2:-How-to-identify-which-country-has-the-most-VIP-Customers?\" data-toc-modified-id=\"Q2:-How-to-identify-which-country-has-the-most-VIP-Customers?-1.3\"><span class=\"toc-item-num\">1.3&nbsp;&nbsp;</span>Q2: How to identify which country has the most VIP Customers?</a></span></li><li><span><a href=\"#Q3:-How-to-identify-which-country-has-the-most-VIP+Preferred-Customers-combined?\" data-toc-modified-id=\"Q3:-How-to-identify-which-country-has-the-most-VIP+Preferred-Customers-combined?-1.4\"><span class=\"toc-item-num\">1.4&nbsp;&nbsp;</span>Q3: How to identify which country has the most VIP+Preferred Customers combined?</a></span></li></ul></li></ul></div>"
   ]
  },
  {
   "cell_type": "markdown",
   "metadata": {},
   "source": [
    "# Challenge 3\n",
    "\n",
    "In this challenge we will work on the `Orders` data set (https://drive.google.com/file/d/1xUzMpyQgC5IaK61ehUH2C5P4jCPmLa-s/view?usp=sharing). In your work you will apply the thinking process and workflow we showed you in Challenge 2.\n",
    "\n",
    "You are serving as a Data Analyst at the headquarter of an international fashion goods chain store. Your boss today asked you to do two things for her:\n",
    "\n",
    "**First, identify two groups of customers from the data set.** The first group is **VIP Customers** whose **aggregated expenses** at your global chain stores are **above the 95th percentile** (aka. 0.95 quantile). The second group is **Preferred Customers** whose **aggregated expenses** are **between the 75th and 95th percentile**.\n",
    "\n",
    "**Second, identify which country has the most of your VIP customers, and which country has the most of your VIP+Preferred Customers combined.**"
   ]
  },
  {
   "cell_type": "markdown",
   "metadata": {},
   "source": [
    "## Q1: How to identify VIP & Preferred Customers?\n",
    "\n",
    "We start by importing all the required libraries:"
   ]
  },
  {
   "cell_type": "code",
   "execution_count": 1,
   "metadata": {},
   "outputs": [],
   "source": [
    "# import required libraries\n",
    "import numpy as np\n",
    "import pandas as pd"
   ]
  },
  {
   "cell_type": "markdown",
   "metadata": {},
   "source": [
    "Next, import `Orders` from Ironhack's database into a dataframe variable called `orders`. Print the head of `orders` to overview the data:"
   ]
  },
  {
   "cell_type": "code",
   "execution_count": 4,
   "metadata": {},
   "outputs": [],
   "source": [
    "# your code here\n",
    "orders = pd.read_csv('Orders.csv')"
   ]
  },
  {
   "cell_type": "code",
   "execution_count": 40,
   "metadata": {},
   "outputs": [
    {
     "name": "stdout",
     "output_type": "stream",
     "text": [
      "   Unnamed: 0  InvoiceNo StockCode  year  month  day  hour  \\\n",
      "0           0     536365    85123A  2010     12    3     8   \n",
      "1           1     536365     71053  2010     12    3     8   \n",
      "2           2     536365    84406B  2010     12    3     8   \n",
      "3           3     536365    84029G  2010     12    3     8   \n",
      "4           4     536365    84029E  2010     12    3     8   \n",
      "5           5     536365     22752  2010     12    3     8   \n",
      "6           6     536365     21730  2010     12    3     8   \n",
      "7           7     536366     22633  2010     12    3     8   \n",
      "8           8     536366     22632  2010     12    3     8   \n",
      "9           9     536367     84879  2010     12    3     8   \n",
      "\n",
      "                           Description  Quantity          InvoiceDate  \\\n",
      "0   white hanging heart t-light holder         6  2010-12-01 08:26:00   \n",
      "1                  white metal lantern         6  2010-12-01 08:26:00   \n",
      "2       cream cupid hearts coat hanger         8  2010-12-01 08:26:00   \n",
      "3  knitted union flag hot water bottle         6  2010-12-01 08:26:00   \n",
      "4       red woolly hottie white heart.         6  2010-12-01 08:26:00   \n",
      "5         set 7 babushka nesting boxes         2  2010-12-01 08:26:00   \n",
      "6    glass star frosted t-light holder         6  2010-12-01 08:26:00   \n",
      "7               hand warmer union jack         6  2010-12-01 08:28:00   \n",
      "8            hand warmer red polka dot         6  2010-12-01 08:28:00   \n",
      "9        assorted colour bird ornament        32  2010-12-01 08:34:00   \n",
      "\n",
      "   UnitPrice  CustomerID         Country  amount_spent CustomerType  \n",
      "0       2.55       17850  United Kingdom         15.30          NaN  \n",
      "1       3.39       17850  United Kingdom         20.34          NaN  \n",
      "2       2.75       17850  United Kingdom         22.00          NaN  \n",
      "3       3.39       17850  United Kingdom         20.34          NaN  \n",
      "4       3.39       17850  United Kingdom         20.34          NaN  \n",
      "5       7.65       17850  United Kingdom         15.30          NaN  \n",
      "6       4.25       17850  United Kingdom         25.50          NaN  \n",
      "7       1.85       17850  United Kingdom         11.10          NaN  \n",
      "8       1.85       17850  United Kingdom         11.10          NaN  \n",
      "9       1.69       13047  United Kingdom         54.08          NaN  \n"
     ]
    }
   ],
   "source": [
    "\n",
    "print(orders.head(10))"
   ]
  },
  {
   "cell_type": "markdown",
   "metadata": {},
   "source": [
    "---\n",
    "\n",
    "\"Identify VIP and Preferred Customers\" is the non-technical goal of your boss. You need to translate that goal into technical languages that data analysts use:\n",
    "\n",
    "## How to label customers whose aggregated `amount_spent` is in a given quantile range?\n"
   ]
  },
  {
   "cell_type": "markdown",
   "metadata": {},
   "source": [
    "We break down the main problem into several sub problems:\n",
    "\n",
    "#### Sub Problem 1: How to aggregate the  `amount_spent` for unique customers?\n",
    "\n",
    "#### Sub Problem 2: How to select customers whose aggregated `amount_spent` is in a given quantile range?\n",
    "\n",
    "#### Sub Problem 3: How to label selected customers as \"VIP\" or \"Preferred\"?\n",
    "\n",
    "*Note: If you want to break down the main problem in a different way, please feel free to revise the sub problems above.*\n",
    "\n",
    "Now in the workspace below, tackle each of the sub problems using the iterative problem solving workflow. Insert cells as necessary to write your codes and explain your steps."
   ]
  },
  {
   "cell_type": "code",
   "execution_count": 19,
   "metadata": {},
   "outputs": [
    {
     "name": "stdout",
     "output_type": "stream",
     "text": [
      "      CustomerID  amount_spent\n",
      "0          12346      77183.60\n",
      "1          12347       4310.00\n",
      "2          12348       1797.24\n",
      "3          12349       1757.55\n",
      "4          12350        334.40\n",
      "...          ...           ...\n",
      "4334       18280        180.60\n",
      "4335       18281         80.82\n",
      "4336       18282        178.05\n",
      "4337       18283       2094.88\n",
      "4338       18287       1837.28\n",
      "\n",
      "[4339 rows x 2 columns]\n"
     ]
    }
   ],
   "source": [
    "# your code here\n",
    "#PB1\n",
    "SP1 = orders.groupby(\"CustomerID\",as_index=False)[[\"amount_spent\"]].sum()\n",
    "print(SP1)\n"
   ]
  },
  {
   "cell_type": "code",
   "execution_count": 27,
   "metadata": {},
   "outputs": [
    {
     "name": "stdout",
     "output_type": "stream",
     "text": [
      "      CustomerID  amount_spent\n",
      "0          12346      77183.60\n",
      "10         12357       6207.67\n",
      "12         12359       6372.58\n",
      "50         12409      11072.67\n",
      "55         12415     124914.53\n",
      "...          ...           ...\n",
      "4207       18109       8052.97\n",
      "4229       18139       8438.34\n",
      "4253       18172       7561.68\n",
      "4292       18223       6484.54\n",
      "4298       18229       7276.90\n",
      "\n",
      "[217 rows x 2 columns]\n",
      "      CustomerID  amount_spent\n",
      "1          12347       4310.00\n",
      "2          12348       1797.24\n",
      "3          12349       1757.55\n",
      "5          12352       2506.04\n",
      "9          12356       2811.43\n",
      "...          ...           ...\n",
      "4319       18259       2338.60\n",
      "4320       18260       2643.20\n",
      "4328       18272       3078.58\n",
      "4337       18283       2094.88\n",
      "4338       18287       1837.28\n",
      "\n",
      "[1086 rows x 2 columns]\n"
     ]
    }
   ],
   "source": [
    "#PB2\n",
    "SP2_VIP = SP1.loc[SP1['amount_spent']>=SP1.amount_spent.quantile(0.95)]\n",
    "print(SP2_VIP)\n",
    "SP2_PREF = SP1.loc[(SP1['amount_spent']<SP1.amount_spent.quantile(0.95)) & (SP1['amount_spent']>=SP1.amount_spent.quantile(0.7))]\n",
    "print(SP2_PREF)\n"
   ]
  },
  {
   "cell_type": "code",
   "execution_count": 41,
   "metadata": {},
   "outputs": [],
   "source": [
    "#PB3\n",
    "\n",
    "orders.loc[orders[\"CustomerID\"].isin(SP2_VIP[\"CustomerID\"]), \"CustomerType\"] = \"VIP\"\n",
    "orders.loc[orders[\"CustomerID\"].isin(SP2_PREF[\"CustomerID\"]), \"CustomerType\"] = \"Preferred\""
   ]
  },
  {
   "cell_type": "markdown",
   "metadata": {},
   "source": [
    "Now we'll leave it to you to solve Q2 & Q3, which you can leverage from your solution for Q1:\n",
    "\n",
    "## Q2: How to identify which country has the most VIP Customers?"
   ]
  },
  {
   "cell_type": "code",
   "execution_count": 56,
   "metadata": {},
   "outputs": [
    {
     "name": "stdout",
     "output_type": "stream",
     "text": [
      "           Country  CustomerID\n",
      "17  United Kingdom         177\n"
     ]
    }
   ],
   "source": [
    "# your code here\n",
    "country_VIP = pd.merge(orders,SP2_VIP, on = 'CustomerID').groupby('Country',as_index=False).agg({'CustomerID':'nunique'})\n",
    "print(country_VIP.sort_values(\"CustomerID\",ascending=False).head(1))"
   ]
  },
  {
   "cell_type": "markdown",
   "metadata": {},
   "source": [
    "## Q3: How to identify which country has the most VIP+Preferred Customers combined?"
   ]
  },
  {
   "cell_type": "code",
   "execution_count": 61,
   "metadata": {},
   "outputs": [
    {
     "name": "stdout",
     "output_type": "stream",
     "text": [
      "           Country  CustomerID\n",
      "28  United Kingdom        1134\n"
     ]
    }
   ],
   "source": [
    "# your code here\n",
    "\n",
    "SP3 = pd.concat([SP2_VIP, SP2_PREF], axis=0)\n",
    "\n",
    "country_VIP_PREF = pd.merge(orders,SP3, on = 'CustomerID').groupby('Country',as_index=False).agg({'CustomerID':'nunique'})\n",
    "print(country_VIP_PREF.sort_values(\"CustomerID\",ascending=False).head(1))"
   ]
  }
 ],
 "metadata": {
  "kernelspec": {
   "display_name": "Python 3",
   "language": "python",
   "name": "python3"
  },
  "language_info": {
   "codemirror_mode": {
    "name": "ipython",
    "version": 3
   },
   "file_extension": ".py",
   "mimetype": "text/x-python",
   "name": "python",
   "nbconvert_exporter": "python",
   "pygments_lexer": "ipython3",
   "version": "3.9.13"
  },
  "toc": {
   "base_numbering": 1,
   "nav_menu": {},
   "number_sections": true,
   "sideBar": true,
   "skip_h1_title": false,
   "title_cell": "Table of Contents",
   "title_sidebar": "Contents",
   "toc_cell": true,
   "toc_position": {},
   "toc_section_display": true,
   "toc_window_display": false
  }
 },
 "nbformat": 4,
 "nbformat_minor": 2
}
