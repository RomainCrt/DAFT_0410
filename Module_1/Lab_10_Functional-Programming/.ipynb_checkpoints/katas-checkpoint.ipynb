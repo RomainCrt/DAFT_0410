{
 "cells": [
  {
   "cell_type": "code",
   "execution_count": 8,
   "id": "a55e40a5",
   "metadata": {},
   "outputs": [
    {
     "name": "stdout",
     "output_type": "stream",
     "text": [
      "17\n"
     ]
    }
   ],
   "source": [
    "sheeps = [True,  True,  True,  False,  True,  True,  True,  True ,  True,  False, True,  False,  True,  False, False, True ,  True,  True,  True,  True ,  False, False, True,  True]\n",
    "def SheepCount(InSheeps):\n",
    "    return InSheeps.count(True)\n",
    "\n",
    "print(SheepCount(sheeps))\n"
   ]
  },
  {
   "cell_type": "code",
   "execution_count": 10,
   "id": "e1a7aca9",
   "metadata": {},
   "outputs": [
    {
     "name": "stdout",
     "output_type": "stream",
     "text": [
      "['Keep', 'Keep', 'Keep']\n"
     ]
    }
   ],
   "source": [
    "Ar1 = [\"Keep\", \"Remove\", \"Keep\", \"Remove\", \"Keep\", ...]\n",
    "Ar2 = []\n",
    "for el in Ar1:\n",
    "    if el == 'Keep':\n",
    "        Ar2.append('Keep')\n",
    "print(Ar2)\n"
   ]
  },
  {
   "cell_type": "code",
   "execution_count": 18,
   "id": "fe6231b7",
   "metadata": {},
   "outputs": [
    {
     "name": "stdout",
     "output_type": "stream",
     "text": [
      "24852254\n"
     ]
    }
   ],
   "source": [
    "x = 45225842\n",
    "list1 = []\n",
    "x = str(x)\n",
    "x = x[::-1]\n",
    "x= int(x)\n",
    "print(x)"
   ]
  },
  {
   "cell_type": "code",
   "execution_count": 30,
   "id": "bc662758",
   "metadata": {},
   "outputs": [
    {
     "name": "stdout",
     "output_type": "stream",
     "text": [
      "811181\n"
     ]
    }
   ],
   "source": [
    "x = 9119\n",
    "def squareAll(MyInt):\n",
    "    Tot = ''\n",
    "    MyStr = str(MyInt)\n",
    "    MyLst = list(MyStr)\n",
    "    for i in MyLst:\n",
    "        Tot= Tot + str(int(i)**2)\n",
    "    return Tot\n",
    "    \n",
    "print(squareAll(x))\n",
    "    "
   ]
  }
 ],
 "metadata": {
  "kernelspec": {
   "display_name": "Python 3 (ipykernel)",
   "language": "python",
   "name": "python3"
  },
  "language_info": {
   "codemirror_mode": {
    "name": "ipython",
    "version": 3
   },
   "file_extension": ".py",
   "mimetype": "text/x-python",
   "name": "python",
   "nbconvert_exporter": "python",
   "pygments_lexer": "ipython3",
   "version": "3.9.13"
  }
 },
 "nbformat": 4,
 "nbformat_minor": 5
}
