{
 "cells": [
  {
   "attachments": {},
   "cell_type": "markdown",
   "metadata": {},
   "source": [
    "## Project Week 6 : Spotify\n",
    "Ismael & Romain"
   ]
  },
  {
   "cell_type": "code",
   "execution_count": 4,
   "metadata": {},
   "outputs": [],
   "source": [
    "#Import Libraries\n",
    "import spotipy\n",
    "import pandas as pd\n",
    "import json"
   ]
  },
  {
   "cell_type": "code",
   "execution_count": 5,
   "metadata": {},
   "outputs": [],
   "source": [
    "#Import spotipy Libraries & credentials\n",
    "from spotipy.oauth2 import SpotifyClientCredentials\n",
    "from dotenv import load_dotenv\n",
    "import os\n",
    "\n",
    "load_dotenv('.env')\n",
    "c_id = os.environ['USER_ID']\n",
    "c_se = os.environ['USER_Q']\n",
    "\n",
    "sp = spotipy.Spotify(auth_manager=SpotifyClientCredentials(client_id=c_id, client_secret=c_se))\n",
    "\n"
   ]
  },
  {
   "cell_type": "code",
   "execution_count": 3,
   "metadata": {},
   "outputs": [
    {
     "name": "stdout",
     "output_type": "stream",
     "text": [
      "333  genres\n"
     ]
    }
   ],
   "source": [
    "#Init Genre List\n",
    "genres = ['A Cappella','Acid House','Acid Jazz','Acid Techno','Acoustic Blues','Acoustic Pop','African Percussion','Afrobeat','Alternative Country','Albuquerque Indie','Alternative Americana','Alternative Country','Alternative Dance','Alternative Emo','Alternative Hardcore','Alternative Hip Hop','Alternative Metal','Alternative Metalcore','Alternative New Age','Alternative Pop','Alternative Pop Rock','Alternative R&b','Alternative Rock']\n",
    "genres = genres + ['Baroque','Bebop','Black Metal','Blues','Blues-rock','Bossa Nova','Brazilian Gospel','Breakbeat','Britpop']\n",
    "genres = genres + ['Cabaret','Cajun','Calypso','Candy Pop','Capoeira','Cello','Celtic','Celtic Rock','Chanson','Chill Groove','Chill Lounge','Choral','Christmas']\n",
    "genres = genres + ['Classic Afrobeat','Classic Belgian Pop','Classic Chinese Pop','Classic Colombian Pop','Classic Czech Pop','Classic Danish Pop','Classic Dutch Pop','Classic Eurovision','Classic Finnish Pop','Classic Finnish Rock','Classic French Pop','Classic Funk Rock','Classic Garage Rock','Classic Italian Pop','Classic Norwegian Pop','Classic Peruvian Pop','Classic Polish Pop','Classic Psychedelic Rock','Classic Rock','Classic Russian Pop','Classic Russian Rock','Classic Schlager','Classic Soundtrack','Classic Swedish Pop','Classic Turkish Pop','Classic Venezuelan Pop','Classical','Classical Christmas','Classical Flute','Classical Guitar','Classical Organ','Classical Performance','Classical Period','Classical Piano']\n",
    "genres = genres + ['Comedy','Concert Piano','Country Blues','Country Christmas','Country Dawn','Country Gospel','Country Road','Country Rock']\n",
    "genres = genres + ['Dance Pop','Dance Rock','Dance-punk','Digital Hardcore','Dirty South Rap','Dirty Texas Rap','Disco','Dubstep']\n",
    "genres = genres + ['Electric Blues','Electro','Electro Dub','Electro House','Electro Jazz','Electro Latino','Electro Swing','Electro Trash','Electro-industrial','Eurovision']\n",
    "genres = genres + ['Experimental','Experimental Dubstep','Experimental Psych','Experimental Rock']\n",
    "genres = genres + ['Flamenco','Folk','Folk Christmas','Folk Metal','Folk Punk','Folk Rock','Folk-pop','Folk-prog','Folklore Argentino','Folkmusik','Free Jazz','Freestyle','French Folk','French Folk Pop','French Hip Hop','French Indie Pop','French Movie Tunes','French Pop','French Punk','French Reggae','French Rock']\n",
    "genres = genres + ['Funk','Funk Carioca','Funk Metal','Funk Rock','Gangster Rap','Garage Pop','Garage Punk','Garage Punk Blues','Garage Rock','Gangster Rap','Garage Pop','Garage Punk','Garage Punk Blues','Garage Rock']\n",
    "genres = genres + ['Groove Metal','Grunge','Grunge Pop','Gypsy Jazz','Hard Alternative','Hard Bop','Hard Glam','Hard House','Hard Rock','Hard Stoner Rock','Hard Trance','Hardcore','Hardcore Breaks','Hardcore Hip Hop','Hardcore Punk','Hardcore Techno']\n",
    "genres = genres + ['Harmonica Blues','Heavy Alternative','Hip Hop','Hip Pop','Indie Dream Pop','Indie Emo','Indie Emo Rock','Indie Folk','Indie Fuzzpop','Indie Pop','Indie Pop Rock','Indie Post-punk','Indie Psych-pop','Indie R&b','Indie Rock','Indie Shoegaze','Indie Singer-songwriter']\n",
    "genres = genres + ['Indorock','Industrial','Industrial Metal','Industrial Rock','Instrumental Post Rock','Jazz','Jazz Bass','Jazz Blues','Jazz Brass','Jazz Christmas','Jazz Funk','Jazz Fusion','Jazz Metal','Jazz Orchestra','Jazz Trio']\n",
    "genres = genres + ['K-hop','Latin','Latin Alternative','Latin Christian','Latin Christmas','Latin Electronica','Latin Hip Hop','Latin Jazz','Latin Metal','Latin Pop']\n",
    "genres = genres + ['Lounge','Lounge House','Mambo','Mariachi','Mashup','Medieval','Metal','Military Band','Minimal','Minimal Dub','Minimal Dubstep','Minimal Melodic Techno','Minimal Tech House','Minimal Techno','Minimal Wave']\n",
    "genres = genres + ['Modern Blues','Modern Classical','Modern Country Rock','Modern Downshift','Modern Free Jazz','Modern Performance','Modern Southern Rock','Motown','Musique Pour Enfants']\n",
    "genres = genres + ['Neo Classical Metal','Neo Honky Tonk','Neo Mellow','Neo Metal','Neo Soul','Neo Soul-jazz','Neo-industrial Rock','Neo-pagan','Neo-progressive','Neo-psychedelic','Neo-rockabilly','Neo-singer-songwriter','Neo-synthpop','Neo-trad Metal','Neo-traditional Country','Neoclassical','Neofolk']\n",
    "genres = genres + ['New Age','New Beat','New Wave','Old School Hip Hop','Opera','Orchestral','Piano Rock','Pop','Pop Christmas','Pop Emo','Pop House','Pop Punk','Pop Rap','Pop Rock']\n",
    "genres = genres + ['Progressive Alternative','Progressive Bluegrass','Progressive Electro House','Progressive House','Progressive Metal','Progressive Psytrance','Progressive Rock','Progressive Trance','Progressive Trance House','Progressive Uplifting Trance']\n",
    "genres = genres + ['Psychedelic Blues-rock','Psychedelic Rock','Psychedelic Trance','Punk','Punk Blues','Punk Christmas','Punk Ska','R&b','Ragga Jungle','Rap','Rap Metal','Rap Metalcore','Rap Rock','Raw Black Metal']\n",
    "genres = genres + ['Reggae','Reggae Fusion','Reggae Rock','Reggaeton','Rock','Rock Catala','Rock En Espanol','Rock Gaucho','Rock Noise','Rock Steady','Rock-and-roll','Rockabilly']\n",
    "genres = genres + ['Rumba','Salsa','Samba','Ska','Ska Punk','Ska Revival','Smooth Jazz','Soul','Soul Blues','Soul Christmas','Soul Flow','Soul Jazz','Soundtrack']\n",
    "genres = genres + ['Space Rock','Surf Music','Swamp Blues','Swamp Pop','Tango','Tech House','Techno','Texas Blues','Traditional Blues','Traditional British Folk','Traditional Country','Traditional Folk','Traditional Funk','Traditional Irish Fol','Traditional Reggae','Traditional Rockabilly','Traditional Scottish Folk','Traditional Ska','Traditional Soul','Traditional Swing','Trance']\n",
    "genres = genres + ['Trash Rock','Tribal House','Trip Hop','Violin','Zouk','Zydeco']\n",
    "print(len(genres),' genres')\n"
   ]
  },
  {
   "cell_type": "code",
   "execution_count": 23,
   "metadata": {},
   "outputs": [
    {
     "name": "stdout",
     "output_type": "stream",
     "text": [
      "1 | 333  Len Tracks for  A Cappella :  2\n",
      "{'id1': '2ZGw2hi8B11APAU6v7rt5K', 'item': 0, 'genre': 'A Cappella', 'name': 'Ultimate A Cappella Mashup: 25 Hits, 25 Years', 'artist': 'BYU Vocal Point', 'danceability': 0.4, 'energy': 0.452, 'key': 0, 'loudness': -9.465, 'mode': 1, 'speechiness': 0.076, 'acousticness': 0.148, 'instrumentalness': 0, 'liveness': 0.129, 'valence': 0.534, 'tempo': 150.036, 'type': 'audio_features', 'id': '2ZGw2hi8B11APAU6v7rt5K', 'uri': 'spotify:track:2ZGw2hi8B11APAU6v7rt5K', 'track_href': 'https://api.spotify.com/v1/tracks/2ZGw2hi8B11APAU6v7rt5K', 'analysis_url': 'https://api.spotify.com/v1/audio-analysis/2ZGw2hi8B11APAU6v7rt5K', 'duration_ms': 223174, 'time_signature': 4}\n",
      "{'id1': '5skWzpBeu4HylDI3yRbAyL', 'item': 1, 'genre': 'A Cappella', 'name': 'Alone (with Nicki Minaj) - A Cappella', 'artist': 'Kim Petras', 'danceability': 0.737, 'energy': 0.407, 'key': 10, 'loudness': -9.442, 'mode': 0, 'speechiness': 0.296, 'acousticness': 0.816, 'instrumentalness': 0, 'liveness': 0.0606, 'valence': 0.705, 'tempo': 136.64, 'type': 'audio_features', 'id': '5skWzpBeu4HylDI3yRbAyL', 'uri': 'spotify:track:5skWzpBeu4HylDI3yRbAyL', 'track_href': 'https://api.spotify.com/v1/tracks/5skWzpBeu4HylDI3yRbAyL', 'analysis_url': 'https://api.spotify.com/v1/audio-analysis/5skWzpBeu4HylDI3yRbAyL', 'duration_ms': 183635, 'time_signature': 4}\n",
      "Get audio_features for  A Cappella  :  2  Total :  2\n",
      "2 | 333  Len Tracks for  Acid House :  2\n",
      "{'id1': '3XxBSvDZKH5YvZZjTpn6eR', 'item': 2, 'genre': 'Acid House', 'name': 'Red House', 'artist': 'Jimi Hendrix', 'danceability': 0.277, 'energy': 0.479, 'key': 5, 'loudness': -8.483, 'mode': 0, 'speechiness': 0.0495, 'acousticness': 0.585, 'instrumentalness': 0.0224, 'liveness': 0.16, 'valence': 0.483, 'tempo': 53.905, 'type': 'audio_features', 'id': '3XxBSvDZKH5YvZZjTpn6eR', 'uri': 'spotify:track:3XxBSvDZKH5YvZZjTpn6eR', 'track_href': 'https://api.spotify.com/v1/tracks/3XxBSvDZKH5YvZZjTpn6eR', 'analysis_url': 'https://api.spotify.com/v1/audio-analysis/3XxBSvDZKH5YvZZjTpn6eR', 'duration_ms': 230360, 'time_signature': 4}\n",
      "{'id1': '1ska3YnfMLiOJ6YH7EpZa9', 'item': 3, 'genre': 'Acid House', 'name': 'Red House', 'artist': 'Jimi Hendrix', 'danceability': 0.294, 'energy': 0.385, 'key': 11, 'loudness': -11.146, 'mode': 1, 'speechiness': 0.0494, 'acousticness': 0.731, 'instrumentalness': 0.043, 'liveness': 0.651, 'valence': 0.564, 'tempo': 198.492, 'type': 'audio_features', 'id': '1ska3YnfMLiOJ6YH7EpZa9', 'uri': 'spotify:track:1ska3YnfMLiOJ6YH7EpZa9', 'track_href': 'https://api.spotify.com/v1/tracks/1ska3YnfMLiOJ6YH7EpZa9', 'analysis_url': 'https://api.spotify.com/v1/audio-analysis/1ska3YnfMLiOJ6YH7EpZa9', 'duration_ms': 223907, 'time_signature': 3}\n",
      "Get audio_features for  Acid House  :  2  Total :  4\n",
      "3 | 333  Len Tracks for  Acid Jazz :  2\n",
      "{'id1': '3i4AOqloOwc33r7pwJGLXh', 'item': 4, 'genre': 'Acid Jazz', 'name': 'Around Me', 'artist': 'Soulstance', 'danceability': 0.762, 'energy': 0.427, 'key': 0, 'loudness': -8.129, 'mode': 0, 'speechiness': 0.0301, 'acousticness': 0.602, 'instrumentalness': 0.873, 'liveness': 0.0713, 'valence': 0.559, 'tempo': 121.084, 'type': 'audio_features', 'id': '3i4AOqloOwc33r7pwJGLXh', 'uri': 'spotify:track:3i4AOqloOwc33r7pwJGLXh', 'track_href': 'https://api.spotify.com/v1/tracks/3i4AOqloOwc33r7pwJGLXh', 'analysis_url': 'https://api.spotify.com/v1/audio-analysis/3i4AOqloOwc33r7pwJGLXh', 'duration_ms': 274970, 'time_signature': 4}\n",
      "{'id1': '7j9R8UwGYw4Ne76lJN2SO0', 'item': 5, 'genre': 'Acid Jazz', 'name': 'Linda Cançao', 'artist': 'Barrio Jazz Gang', 'danceability': 0.805, 'energy': 0.693, 'key': 9, 'loudness': -10.266, 'mode': 0, 'speechiness': 0.0409, 'acousticness': 0.0605, 'instrumentalness': 0.831, 'liveness': 0.06, 'valence': 0.861, 'tempo': 120.023, 'type': 'audio_features', 'id': '7j9R8UwGYw4Ne76lJN2SO0', 'uri': 'spotify:track:7j9R8UwGYw4Ne76lJN2SO0', 'track_href': 'https://api.spotify.com/v1/tracks/7j9R8UwGYw4Ne76lJN2SO0', 'analysis_url': 'https://api.spotify.com/v1/audio-analysis/7j9R8UwGYw4Ne76lJN2SO0', 'duration_ms': 245056, 'time_signature': 4}\n",
      "Get audio_features for  Acid Jazz  :  2  Total :  6\n",
      "4 | 333  Len Tracks for  Acid Techno :  2\n",
      "{'id1': '19jVovrS1mj0MQ5a3Fpg8C', 'item': 6, 'genre': 'Acid Techno', 'name': \"Universe of 90's Techno Parties\", 'artist': 'AIROD', 'danceability': 0.557, 'energy': 0.971, 'key': 7, 'loudness': -6.874, 'mode': 1, 'speechiness': 0.0447, 'acousticness': 7.76e-05, 'instrumentalness': 0.762, 'liveness': 0.343, 'valence': 0.524, 'tempo': 145.995, 'type': 'audio_features', 'id': '19jVovrS1mj0MQ5a3Fpg8C', 'uri': 'spotify:track:19jVovrS1mj0MQ5a3Fpg8C', 'track_href': 'https://api.spotify.com/v1/tracks/19jVovrS1mj0MQ5a3Fpg8C', 'analysis_url': 'https://api.spotify.com/v1/audio-analysis/19jVovrS1mj0MQ5a3Fpg8C', 'duration_ms': 476599, 'time_signature': 4}\n",
      "{'id1': '2YLEpysWjLHCAcSVIot92u', 'item': 7, 'genre': 'Acid Techno', 'name': '303 Disorder', 'artist': 'Chris Liberator', 'danceability': 0.611, 'energy': 0.975, 'key': 11, 'loudness': -7.01, 'mode': 1, 'speechiness': 0.0515, 'acousticness': 0.000486, 'instrumentalness': 0.797, 'liveness': 0.143, 'valence': 0.27, 'tempo': 144.98, 'type': 'audio_features', 'id': '2YLEpysWjLHCAcSVIot92u', 'uri': 'spotify:track:2YLEpysWjLHCAcSVIot92u', 'track_href': 'https://api.spotify.com/v1/tracks/2YLEpysWjLHCAcSVIot92u', 'analysis_url': 'https://api.spotify.com/v1/audio-analysis/2YLEpysWjLHCAcSVIot92u', 'duration_ms': 428690, 'time_signature': 4}\n",
      "Get audio_features for  Acid Techno  :  2  Total :  8\n",
      "5 | 333  Len Tracks for  Acoustic Blues :  2\n",
      "{'id1': '1NoIZ1658UHpicKQ9rcWYh', 'item': 8, 'genre': 'Acoustic Blues', 'name': \"Corinna - From The Natch'l Blues\", 'artist': 'Taj Mahal', 'danceability': 0.623, 'energy': 0.286, 'key': 9, 'loudness': -13.288, 'mode': 1, 'speechiness': 0.0991, 'acousticness': 0.486, 'instrumentalness': 4.44e-05, 'liveness': 0.0884, 'valence': 0.734, 'tempo': 79.106, 'type': 'audio_features', 'id': '1NoIZ1658UHpicKQ9rcWYh', 'uri': 'spotify:track:1NoIZ1658UHpicKQ9rcWYh', 'track_href': 'https://api.spotify.com/v1/tracks/1NoIZ1658UHpicKQ9rcWYh', 'analysis_url': 'https://api.spotify.com/v1/audio-analysis/1NoIZ1658UHpicKQ9rcWYh', 'duration_ms': 182507, 'time_signature': 4}\n",
      "{'id1': '4uIHPormmUH31qyjP7CU4d', 'item': 9, 'genre': 'Acoustic Blues', 'name': 'Statesboro Blues', 'artist': 'Taj Mahal', 'danceability': 0.673, 'energy': 0.481, 'key': 9, 'loudness': -9.88, 'mode': 1, 'speechiness': 0.0488, 'acousticness': 0.0764, 'instrumentalness': 4e-05, 'liveness': 0.127, 'valence': 0.767, 'tempo': 117.087, 'type': 'audio_features', 'id': '4uIHPormmUH31qyjP7CU4d', 'uri': 'spotify:track:4uIHPormmUH31qyjP7CU4d', 'track_href': 'https://api.spotify.com/v1/tracks/4uIHPormmUH31qyjP7CU4d', 'analysis_url': 'https://api.spotify.com/v1/audio-analysis/4uIHPormmUH31qyjP7CU4d', 'duration_ms': 178973, 'time_signature': 4}\n",
      "Get audio_features for  Acoustic Blues  :  2  Total :  10\n",
      "6 | 333  Len Tracks for  Acoustic Pop :  2\n",
      "{'id1': '1LPZsVhKKvVx7JPQJ39a6S', 'item': 10, 'genre': 'Acoustic Pop', 'name': 'I’m Yours', 'artist': 'Jason Mraz', 'danceability': 0.698, 'energy': 0.45, 'key': 11, 'loudness': -8.784, 'mode': 1, 'speechiness': 0.0442, 'acousticness': 0.571, 'instrumentalness': 0, 'liveness': 0.113, 'valence': 0.68, 'tempo': 150.999, 'type': 'audio_features', 'id': '1LPZsVhKKvVx7JPQJ39a6S', 'uri': 'spotify:track:1LPZsVhKKvVx7JPQJ39a6S', 'track_href': 'https://api.spotify.com/v1/tracks/1LPZsVhKKvVx7JPQJ39a6S', 'analysis_url': 'https://api.spotify.com/v1/audio-analysis/1LPZsVhKKvVx7JPQJ39a6S', 'duration_ms': 242040, 'time_signature': 4}\n",
      "{'id1': '1NdT7s0ymIx1KBRrE92bKe', 'item': 11, 'genre': 'Acoustic Pop', 'name': 'Love Someone - Acoustic Version', 'artist': 'Jason Mraz', 'danceability': 0.58, 'energy': 0.363, 'key': 7, 'loudness': -14.185, 'mode': 1, 'speechiness': 0.0306, 'acousticness': 0.306, 'instrumentalness': 0.00677, 'liveness': 0.111, 'valence': 0.0745, 'tempo': 97.97, 'type': 'audio_features', 'id': '1NdT7s0ymIx1KBRrE92bKe', 'uri': 'spotify:track:1NdT7s0ymIx1KBRrE92bKe', 'track_href': 'https://api.spotify.com/v1/tracks/1NdT7s0ymIx1KBRrE92bKe', 'analysis_url': 'https://api.spotify.com/v1/audio-analysis/1NdT7s0ymIx1KBRrE92bKe', 'duration_ms': 256973, 'time_signature': 4}\n",
      "Get audio_features for  Acoustic Pop  :  2  Total :  12\n",
      "7 | 333  Len Tracks for  African Percussion :  2\n",
      "{'id1': '16E9tvQUsIDE9IMTPXhCwD', 'item': 12, 'genre': 'African Percussion', 'name': 'Agboju Logun - Mr Bongo 7 Edit', 'artist': 'Shina Williams & His African Percussionists', 'danceability': 0.754, 'energy': 0.655, 'key': 6, 'loudness': -9.064, 'mode': 0, 'speechiness': 0.211, 'acousticness': 0.13, 'instrumentalness': 0.259, 'liveness': 0.0578, 'valence': 0.785, 'tempo': 120.333, 'type': 'audio_features', 'id': '16E9tvQUsIDE9IMTPXhCwD', 'uri': 'spotify:track:16E9tvQUsIDE9IMTPXhCwD', 'track_href': 'https://api.spotify.com/v1/tracks/16E9tvQUsIDE9IMTPXhCwD', 'analysis_url': 'https://api.spotify.com/v1/audio-analysis/16E9tvQUsIDE9IMTPXhCwD', 'duration_ms': 245133, 'time_signature': 4}\n",
      "{'id1': '4ztjpMUYHr7N9SLeNNi58i', 'item': 13, 'genre': 'African Percussion', 'name': 'Agboju Logun', 'artist': 'Shina Williams & His African Percussionists', 'danceability': 0.777, 'energy': 0.608, 'key': 6, 'loudness': -10.165, 'mode': 0, 'speechiness': 0.106, 'acousticness': 0.0934, 'instrumentalness': 0.537, 'liveness': 0.0517, 'valence': 0.756, 'tempo': 120.789, 'type': 'audio_features', 'id': '4ztjpMUYHr7N9SLeNNi58i', 'uri': 'spotify:track:4ztjpMUYHr7N9SLeNNi58i', 'track_href': 'https://api.spotify.com/v1/tracks/4ztjpMUYHr7N9SLeNNi58i', 'analysis_url': 'https://api.spotify.com/v1/audio-analysis/4ztjpMUYHr7N9SLeNNi58i', 'duration_ms': 702053, 'time_signature': 4}\n",
      "Get audio_features for  African Percussion  :  2  Total :  14\n",
      "8 | 333  Len Tracks for  Afrobeat :  2\n",
      "{'id1': '0WtM2NBVQNNJLh6scP13H8', 'item': 14, 'genre': 'Afrobeat', 'name': 'Calm Down (with Selena Gomez)', 'artist': 'Rema', 'danceability': 0.801, 'energy': 0.806, 'key': 11, 'loudness': -5.206, 'mode': 1, 'speechiness': 0.0381, 'acousticness': 0.382, 'instrumentalness': 0.000669, 'liveness': 0.114, 'valence': 0.802, 'tempo': 106.999, 'type': 'audio_features', 'id': '0WtM2NBVQNNJLh6scP13H8', 'uri': 'spotify:track:0WtM2NBVQNNJLh6scP13H8', 'track_href': 'https://api.spotify.com/v1/tracks/0WtM2NBVQNNJLh6scP13H8', 'analysis_url': 'https://api.spotify.com/v1/audio-analysis/0WtM2NBVQNNJLh6scP13H8', 'duration_ms': 239318, 'time_signature': 4}\n",
      "{'id1': '26b3oVLrRUaaybJulow9kz', 'item': 15, 'genre': 'Afrobeat', 'name': 'People', 'artist': 'Libianca', 'danceability': 0.573, 'energy': 0.422, 'key': 10, 'loudness': -7.621, 'mode': 0, 'speechiness': 0.0678, 'acousticness': 0.551, 'instrumentalness': 1.31e-05, 'liveness': 0.102, 'valence': 0.693, 'tempo': 124.357, 'type': 'audio_features', 'id': '26b3oVLrRUaaybJulow9kz', 'uri': 'spotify:track:26b3oVLrRUaaybJulow9kz', 'track_href': 'https://api.spotify.com/v1/tracks/26b3oVLrRUaaybJulow9kz', 'analysis_url': 'https://api.spotify.com/v1/audio-analysis/26b3oVLrRUaaybJulow9kz', 'duration_ms': 184791, 'time_signature': 5}\n",
      "Get audio_features for  Afrobeat  :  2  Total :  16\n",
      "9 | 333  Len Tracks for  Alternative Country :  2\n",
      "{'id1': '3sHH7lklbfpcraDDvYnjo7', 'item': 16, 'genre': 'Alternative Country', 'name': 'Bat Country', 'artist': 'Avenged Sevenfold', 'danceability': 0.541, 'energy': 0.968, 'key': 0, 'loudness': -4.129, 'mode': 1, 'speechiness': 0.0396, 'acousticness': 0.000248, 'instrumentalness': 8.28e-06, 'liveness': 0.423, 'valence': 0.505, 'tempo': 125.04, 'type': 'audio_features', 'id': '3sHH7lklbfpcraDDvYnjo7', 'uri': 'spotify:track:3sHH7lklbfpcraDDvYnjo7', 'track_href': 'https://api.spotify.com/v1/tracks/3sHH7lklbfpcraDDvYnjo7', 'analysis_url': 'https://api.spotify.com/v1/audio-analysis/3sHH7lklbfpcraDDvYnjo7', 'duration_ms': 311813, 'time_signature': 4}\n",
      "{'id1': '2abHKI9Oox4NBEhOh3HMbq', 'item': 17, 'genre': 'Alternative Country', 'name': 'Country Song', 'artist': 'Seether', 'danceability': 0.63, 'energy': 0.86, 'key': 0, 'loudness': -6.117, 'mode': 1, 'speechiness': 0.0327, 'acousticness': 0.00115, 'instrumentalness': 1.19e-06, 'liveness': 0.231, 'valence': 0.911, 'tempo': 95.978, 'type': 'audio_features', 'id': '2abHKI9Oox4NBEhOh3HMbq', 'uri': 'spotify:track:2abHKI9Oox4NBEhOh3HMbq', 'track_href': 'https://api.spotify.com/v1/tracks/2abHKI9Oox4NBEhOh3HMbq', 'analysis_url': 'https://api.spotify.com/v1/audio-analysis/2abHKI9Oox4NBEhOh3HMbq', 'duration_ms': 229720, 'time_signature': 4}\n",
      "Get audio_features for  Alternative Country  :  2  Total :  18\n",
      "10 | 333  Len Tracks for  Albuquerque Indie :  2\n",
      "{'id1': '3islcQv5vld6l1vjKQmygJ', 'item': 18, 'genre': 'Albuquerque Indie', 'name': 'The Great Divide - Flipped', 'artist': 'The Shins', 'danceability': 0.423, 'energy': 0.724, 'key': 7, 'loudness': -6.112, 'mode': 1, 'speechiness': 0.0434, 'acousticness': 0.0607, 'instrumentalness': 0.000418, 'liveness': 0.112, 'valence': 0.17, 'tempo': 171.983, 'type': 'audio_features', 'id': '3islcQv5vld6l1vjKQmygJ', 'uri': 'spotify:track:3islcQv5vld6l1vjKQmygJ', 'track_href': 'https://api.spotify.com/v1/tracks/3islcQv5vld6l1vjKQmygJ', 'analysis_url': 'https://api.spotify.com/v1/audio-analysis/3islcQv5vld6l1vjKQmygJ', 'duration_ms': 241333, 'time_signature': 4}\n",
      "{'id1': '7M8elKwCyi9oJuDJI9mjpx', 'item': 19, 'genre': 'Albuquerque Indie', 'name': 'Wonderful Christmastime', 'artist': 'The Shins', 'danceability': 0.634, 'energy': 0.689, 'key': 11, 'loudness': -5.406, 'mode': 1, 'speechiness': 0.0307, 'acousticness': 0.0109, 'instrumentalness': 0, 'liveness': 0.114, 'valence': 0.899, 'tempo': 140.071, 'type': 'audio_features', 'id': '7M8elKwCyi9oJuDJI9mjpx', 'uri': 'spotify:track:7M8elKwCyi9oJuDJI9mjpx', 'track_href': 'https://api.spotify.com/v1/tracks/7M8elKwCyi9oJuDJI9mjpx', 'analysis_url': 'https://api.spotify.com/v1/audio-analysis/7M8elKwCyi9oJuDJI9mjpx', 'duration_ms': 146520, 'time_signature': 4}\n",
      "Get audio_features for  Albuquerque Indie  :  2  Total :  20\n",
      "11 | 333  Len Tracks for  Alternative Americana :  2\n",
      "{'id1': '4EchqUKQ3qAQuRNKmeIpnf', 'item': 20, 'genre': 'Alternative Americana', 'name': \"The Kids Aren't Alright\", 'artist': 'The Offspring', 'danceability': 0.523, 'energy': 0.943, 'key': 1, 'loudness': -4.203, 'mode': 1, 'speechiness': 0.0337, 'acousticness': 0.00704, 'instrumentalness': 3.81e-05, 'liveness': 0.0579, 'valence': 0.766, 'tempo': 99.607, 'type': 'audio_features', 'id': '4EchqUKQ3qAQuRNKmeIpnf', 'uri': 'spotify:track:4EchqUKQ3qAQuRNKmeIpnf', 'track_href': 'https://api.spotify.com/v1/tracks/4EchqUKQ3qAQuRNKmeIpnf', 'analysis_url': 'https://api.spotify.com/v1/audio-analysis/4EchqUKQ3qAQuRNKmeIpnf', 'duration_ms': 180160, 'time_signature': 4}\n",
      "{'id1': '3SFXsFpeGmBTtQvKiwYMDA', 'item': 21, 'genre': 'Alternative Americana', 'name': 'Pretty Fly (For A White Guy)', 'artist': 'The Offspring', 'danceability': 0.723, 'energy': 0.895, 'key': 11, 'loudness': -3.707, 'mode': 0, 'speechiness': 0.102, 'acousticness': 0.088, 'instrumentalness': 0, 'liveness': 0.0717, 'valence': 0.963, 'tempo': 143.373, 'type': 'audio_features', 'id': '3SFXsFpeGmBTtQvKiwYMDA', 'uri': 'spotify:track:3SFXsFpeGmBTtQvKiwYMDA', 'track_href': 'https://api.spotify.com/v1/tracks/3SFXsFpeGmBTtQvKiwYMDA', 'analysis_url': 'https://api.spotify.com/v1/audio-analysis/3SFXsFpeGmBTtQvKiwYMDA', 'duration_ms': 188667, 'time_signature': 4}\n",
      "Get audio_features for  Alternative Americana  :  2  Total :  22\n",
      "12 | 333  Len Tracks for  Alternative Country :  2\n",
      "{'id1': '3sHH7lklbfpcraDDvYnjo7', 'item': 22, 'genre': 'Alternative Country', 'name': 'Bat Country', 'artist': 'Avenged Sevenfold', 'danceability': 0.541, 'energy': 0.968, 'key': 0, 'loudness': -4.129, 'mode': 1, 'speechiness': 0.0396, 'acousticness': 0.000248, 'instrumentalness': 8.28e-06, 'liveness': 0.423, 'valence': 0.505, 'tempo': 125.04, 'type': 'audio_features', 'id': '3sHH7lklbfpcraDDvYnjo7', 'uri': 'spotify:track:3sHH7lklbfpcraDDvYnjo7', 'track_href': 'https://api.spotify.com/v1/tracks/3sHH7lklbfpcraDDvYnjo7', 'analysis_url': 'https://api.spotify.com/v1/audio-analysis/3sHH7lklbfpcraDDvYnjo7', 'duration_ms': 311813, 'time_signature': 4}\n",
      "{'id1': '2abHKI9Oox4NBEhOh3HMbq', 'item': 23, 'genre': 'Alternative Country', 'name': 'Country Song', 'artist': 'Seether', 'danceability': 0.63, 'energy': 0.86, 'key': 0, 'loudness': -6.117, 'mode': 1, 'speechiness': 0.0327, 'acousticness': 0.00115, 'instrumentalness': 1.19e-06, 'liveness': 0.231, 'valence': 0.911, 'tempo': 95.978, 'type': 'audio_features', 'id': '2abHKI9Oox4NBEhOh3HMbq', 'uri': 'spotify:track:2abHKI9Oox4NBEhOh3HMbq', 'track_href': 'https://api.spotify.com/v1/tracks/2abHKI9Oox4NBEhOh3HMbq', 'analysis_url': 'https://api.spotify.com/v1/audio-analysis/2abHKI9Oox4NBEhOh3HMbq', 'duration_ms': 229720, 'time_signature': 4}\n",
      "Get audio_features for  Alternative Country  :  2  Total :  24\n",
      "13 | 333  Len Tracks for  Alternative Dance :  2\n",
      "{'id1': '1ciQU7ZQGHq129m3njp9en', 'item': 24, 'genre': 'Alternative Dance', 'name': 'dirty dancer', 'artist': 'Orion Sun', 'danceability': 0.702, 'energy': 0.525, 'key': 7, 'loudness': -5.028, 'mode': 0, 'speechiness': 0.0313, 'acousticness': 0.376, 'instrumentalness': 0.0667, 'liveness': 0.119, 'valence': 0.515, 'tempo': 113.856, 'type': 'audio_features', 'id': '1ciQU7ZQGHq129m3njp9en', 'uri': 'spotify:track:1ciQU7ZQGHq129m3njp9en', 'track_href': 'https://api.spotify.com/v1/tracks/1ciQU7ZQGHq129m3njp9en', 'analysis_url': 'https://api.spotify.com/v1/audio-analysis/1ciQU7ZQGHq129m3njp9en', 'duration_ms': 169720, 'time_signature': 4}\n",
      "{'id1': '10ASBwZsp7oUUDsJEYz3uS', 'item': 25, 'genre': 'Alternative Dance', 'name': 'Dance With The Devil', 'artist': 'Breaking Benjamin', 'danceability': 0.345, 'energy': 0.929, 'key': 3, 'loudness': -4.469, 'mode': 0, 'speechiness': 0.142, 'acousticness': 0.00015, 'instrumentalness': 0.00106, 'liveness': 0.129, 'valence': 0.181, 'tempo': 155.041, 'type': 'audio_features', 'id': '10ASBwZsp7oUUDsJEYz3uS', 'uri': 'spotify:track:10ASBwZsp7oUUDsJEYz3uS', 'track_href': 'https://api.spotify.com/v1/tracks/10ASBwZsp7oUUDsJEYz3uS', 'analysis_url': 'https://api.spotify.com/v1/audio-analysis/10ASBwZsp7oUUDsJEYz3uS', 'duration_ms': 227107, 'time_signature': 3}\n",
      "Get audio_features for  Alternative Dance  :  2  Total :  26\n",
      "14 | 333  Len Tracks for  Alternative Emo :  2\n",
      "{'id1': '0qhGOjVl3uY2N6CAafVmCa', 'item': 26, 'genre': 'Alternative Emo', 'name': 'Emotion Sickness', 'artist': 'Queens of the Stone Age', 'danceability': 0.477, 'energy': 0.448, 'key': 4, 'loudness': -6.372, 'mode': 1, 'speechiness': 0.0495, 'acousticness': 0.00244, 'instrumentalness': 0.000507, 'liveness': 0.715, 'valence': 0.679, 'tempo': 121.882, 'type': 'audio_features', 'id': '0qhGOjVl3uY2N6CAafVmCa', 'uri': 'spotify:track:0qhGOjVl3uY2N6CAafVmCa', 'track_href': 'https://api.spotify.com/v1/tracks/0qhGOjVl3uY2N6CAafVmCa', 'analysis_url': 'https://api.spotify.com/v1/audio-analysis/0qhGOjVl3uY2N6CAafVmCa', 'duration_ms': 271076, 'time_signature': 4}\n",
      "{'id1': '03YZnK3XQWKpvo9TyNZzXf', 'item': 27, 'genre': 'Alternative Emo', 'name': 'The Emotion', 'artist': 'BØRNS', 'danceability': 0.418, 'energy': 0.688, 'key': 11, 'loudness': -5.515, 'mode': 1, 'speechiness': 0.0265, 'acousticness': 0.212, 'instrumentalness': 0.00964, 'liveness': 0.705, 'valence': 0.319, 'tempo': 150.03, 'type': 'audio_features', 'id': '03YZnK3XQWKpvo9TyNZzXf', 'uri': 'spotify:track:03YZnK3XQWKpvo9TyNZzXf', 'track_href': 'https://api.spotify.com/v1/tracks/03YZnK3XQWKpvo9TyNZzXf', 'analysis_url': 'https://api.spotify.com/v1/audio-analysis/03YZnK3XQWKpvo9TyNZzXf', 'duration_ms': 224787, 'time_signature': 4}\n",
      "Get audio_features for  Alternative Emo  :  2  Total :  28\n",
      "15 | 333  Len Tracks for  Alternative Hardcore :  2\n",
      "{'id1': '43u5j2bJ6E9nZV3PbPAoAe', 'item': 28, 'genre': 'Alternative Hardcore', 'name': 'Hardcore Hustle', 'artist': 'Madvillain', 'danceability': 0.578, 'energy': 0.84, 'key': 10, 'loudness': -7.435, 'mode': 0, 'speechiness': 0.345, 'acousticness': 0.482, 'instrumentalness': 0, 'liveness': 0.48, 'valence': 0.529, 'tempo': 95.565, 'type': 'audio_features', 'id': '43u5j2bJ6E9nZV3PbPAoAe', 'uri': 'spotify:track:43u5j2bJ6E9nZV3PbPAoAe', 'track_href': 'https://api.spotify.com/v1/tracks/43u5j2bJ6E9nZV3PbPAoAe', 'analysis_url': 'https://api.spotify.com/v1/audio-analysis/43u5j2bJ6E9nZV3PbPAoAe', 'duration_ms': 81920, 'time_signature': 4}\n",
      "{'id1': '1N7SOR6A67pMZ5AfhPnMNM', 'item': 29, 'genre': 'Alternative Hardcore', 'name': 'Hardcore', 'artist': 'Reignwolf', 'danceability': 0.543, 'energy': 0.596, 'key': 8, 'loudness': -7.544, 'mode': 1, 'speechiness': 0.0709, 'acousticness': 0.0753, 'instrumentalness': 0.00183, 'liveness': 0.118, 'valence': 0.499, 'tempo': 144.924, 'type': 'audio_features', 'id': '1N7SOR6A67pMZ5AfhPnMNM', 'uri': 'spotify:track:1N7SOR6A67pMZ5AfhPnMNM', 'track_href': 'https://api.spotify.com/v1/tracks/1N7SOR6A67pMZ5AfhPnMNM', 'analysis_url': 'https://api.spotify.com/v1/audio-analysis/1N7SOR6A67pMZ5AfhPnMNM', 'duration_ms': 204507, 'time_signature': 4}\n",
      "Get audio_features for  Alternative Hardcore  :  2  Total :  30\n",
      "16 | 333  Len Tracks for  Alternative Hip Hop :  2\n",
      "{'id1': '2HoDr1yVksl19omOhc1zWy', 'item': 30, 'genre': 'Alternative Hip Hop', 'name': 'Hip-Hop', 'artist': 'Dead Prez', 'danceability': 0.725, 'energy': 0.737, 'key': 4, 'loudness': -7.453, 'mode': 1, 'speechiness': 0.324, 'acousticness': 0.000633, 'instrumentalness': 0.00417, 'liveness': 0.109, 'valence': 0.219, 'tempo': 77.162, 'type': 'audio_features', 'id': '2HoDr1yVksl19omOhc1zWy', 'uri': 'spotify:track:2HoDr1yVksl19omOhc1zWy', 'track_href': 'https://api.spotify.com/v1/tracks/2HoDr1yVksl19omOhc1zWy', 'analysis_url': 'https://api.spotify.com/v1/audio-analysis/2HoDr1yVksl19omOhc1zWy', 'duration_ms': 214067, 'time_signature': 4}\n",
      "{'id1': '0ieS2bue78yadTdPiyzsaO', 'item': 31, 'genre': 'Alternative Hip Hop', 'name': 'Love Of My Life (An Ode To Hip Hop) - Longer Album Version', 'artist': 'Erykah Badu', 'danceability': 0.618, 'energy': 0.413, 'key': 5, 'loudness': -9.311, 'mode': 0, 'speechiness': 0.398, 'acousticness': 0.134, 'instrumentalness': 0.000338, 'liveness': 0.0913, 'valence': 0.462, 'tempo': 87.412, 'type': 'audio_features', 'id': '0ieS2bue78yadTdPiyzsaO', 'uri': 'spotify:track:0ieS2bue78yadTdPiyzsaO', 'track_href': 'https://api.spotify.com/v1/tracks/0ieS2bue78yadTdPiyzsaO', 'analysis_url': 'https://api.spotify.com/v1/audio-analysis/0ieS2bue78yadTdPiyzsaO', 'duration_ms': 337573, 'time_signature': 4}\n",
      "Get audio_features for  Alternative Hip Hop  :  2  Total :  32\n",
      "17 | 333  Len Tracks for  Alternative Metal :  2\n",
      "{'id1': '3UULkHdmLDqBDPmBYltoRE', 'item': 32, 'genre': 'Alternative Metal', 'name': 'Metalingus', 'artist': 'Alter Bridge', 'danceability': 0.496, 'energy': 0.981, 'key': 8, 'loudness': -3.268, 'mode': 1, 'speechiness': 0.108, 'acousticness': 9.33e-06, 'instrumentalness': 0, 'liveness': 0.0958, 'valence': 0.163, 'tempo': 109.905, 'type': 'audio_features', 'id': '3UULkHdmLDqBDPmBYltoRE', 'uri': 'spotify:track:3UULkHdmLDqBDPmBYltoRE', 'track_href': 'https://api.spotify.com/v1/tracks/3UULkHdmLDqBDPmBYltoRE', 'analysis_url': 'https://api.spotify.com/v1/audio-analysis/3UULkHdmLDqBDPmBYltoRE', 'duration_ms': 259960, 'time_signature': 4}\n",
      "{'id1': '3pYKJaLiixRcDFfcNhxZKK', 'item': 33, 'genre': 'Alternative Metal', 'name': 'The Metal', 'artist': 'Tenacious D', 'danceability': 0.623, 'energy': 0.938, 'key': 0, 'loudness': -4.161, 'mode': 1, 'speechiness': 0.123, 'acousticness': 0.00296, 'instrumentalness': 0.000852, 'liveness': 0.48, 'valence': 0.308, 'tempo': 112.022, 'type': 'audio_features', 'id': '3pYKJaLiixRcDFfcNhxZKK', 'uri': 'spotify:track:3pYKJaLiixRcDFfcNhxZKK', 'track_href': 'https://api.spotify.com/v1/tracks/3pYKJaLiixRcDFfcNhxZKK', 'analysis_url': 'https://api.spotify.com/v1/audio-analysis/3pYKJaLiixRcDFfcNhxZKK', 'duration_ms': 165960, 'time_signature': 4}\n",
      "Get audio_features for  Alternative Metal  :  2  Total :  34\n",
      "18 | 333  Len Tracks for  Alternative Metalcore :  2\n",
      "{'id1': '3wWFYZzIJLStmkSa6Tjs4w', 'item': 34, 'genre': 'Alternative Metalcore', 'name': 'One Wish', 'artist': 'Grade 8', 'danceability': 0.595, 'energy': 0.919, 'key': 3, 'loudness': -4.746, 'mode': 0, 'speechiness': 0.08, 'acousticness': 0.000239, 'instrumentalness': 0.0018, 'liveness': 0.0733, 'valence': 0.749, 'tempo': 136.071, 'type': 'audio_features', 'id': '3wWFYZzIJLStmkSa6Tjs4w', 'uri': 'spotify:track:3wWFYZzIJLStmkSa6Tjs4w', 'track_href': 'https://api.spotify.com/v1/tracks/3wWFYZzIJLStmkSa6Tjs4w', 'analysis_url': 'https://api.spotify.com/v1/audio-analysis/3wWFYZzIJLStmkSa6Tjs4w', 'duration_ms': 251173, 'time_signature': 4}\n",
      "{'id1': '2PBROSI2LYEYM4tIUUltF9', 'item': 35, 'genre': 'Alternative Metalcore', 'name': 'Taking Life', 'artist': 'We As Human', 'danceability': 0.527, 'energy': 0.936, 'key': 8, 'loudness': -3.898, 'mode': 1, 'speechiness': 0.0619, 'acousticness': 0.00491, 'instrumentalness': 0, 'liveness': 0.274, 'valence': 0.472, 'tempo': 115.069, 'type': 'audio_features', 'id': '2PBROSI2LYEYM4tIUUltF9', 'uri': 'spotify:track:2PBROSI2LYEYM4tIUUltF9', 'track_href': 'https://api.spotify.com/v1/tracks/2PBROSI2LYEYM4tIUUltF9', 'analysis_url': 'https://api.spotify.com/v1/audio-analysis/2PBROSI2LYEYM4tIUUltF9', 'duration_ms': 196267, 'time_signature': 4}\n",
      "Get audio_features for  Alternative Metalcore  :  2  Total :  36\n",
      "19 | 333  Len Tracks for  Alternative New Age :  2\n",
      "{'id1': '3C84jaEdYxiq8LC4jwYqj6', 'item': 36, 'genre': 'Alternative New Age', 'name': 'This Is The New S**t', 'artist': 'Marilyn Manson', 'danceability': 0.566, 'energy': 0.869, 'key': 2, 'loudness': -6.084, 'mode': 1, 'speechiness': 0.1, 'acousticness': 0.000916, 'instrumentalness': 0.00346, 'liveness': 0.114, 'valence': 0.647, 'tempo': 178.113, 'type': 'audio_features', 'id': '3C84jaEdYxiq8LC4jwYqj6', 'uri': 'spotify:track:3C84jaEdYxiq8LC4jwYqj6', 'track_href': 'https://api.spotify.com/v1/tracks/3C84jaEdYxiq8LC4jwYqj6', 'analysis_url': 'https://api.spotify.com/v1/audio-analysis/3C84jaEdYxiq8LC4jwYqj6', 'duration_ms': 259667, 'time_signature': 4}\n",
      "{'id1': '3Ddr3lrq9nBMMsoGyb7ppq', 'item': 37, 'genre': 'Alternative New Age', 'name': 'What You Say', 'artist': 'Cold War Kids', 'danceability': 0.687, 'energy': 0.814, 'key': 7, 'loudness': -5.678, 'mode': 1, 'speechiness': 0.0511, 'acousticness': 0.0128, 'instrumentalness': 1.44e-05, 'liveness': 0.36, 'valence': 0.631, 'tempo': 116.936, 'type': 'audio_features', 'id': '3Ddr3lrq9nBMMsoGyb7ppq', 'uri': 'spotify:track:3Ddr3lrq9nBMMsoGyb7ppq', 'track_href': 'https://api.spotify.com/v1/tracks/3Ddr3lrq9nBMMsoGyb7ppq', 'analysis_url': 'https://api.spotify.com/v1/audio-analysis/3Ddr3lrq9nBMMsoGyb7ppq', 'duration_ms': 208973, 'time_signature': 4}\n",
      "Get audio_features for  Alternative New Age  :  2  Total :  38\n",
      "20 | 333  Len Tracks for  Alternative Pop :  2\n",
      "{'id1': '3MAo4L60oFKI2uE8yEYgE7', 'item': 38, 'genre': 'Alternative Pop', 'name': 'Lost', 'artist': 'Linkin Park', 'danceability': 0.596, 'energy': 0.798, 'key': 0, 'loudness': -4.63, 'mode': 1, 'speechiness': 0.0285, 'acousticness': 0.00412, 'instrumentalness': 0, 'liveness': 0.338, 'valence': 0.459, 'tempo': 105.01, 'type': 'audio_features', 'id': '3MAo4L60oFKI2uE8yEYgE7', 'uri': 'spotify:track:3MAo4L60oFKI2uE8yEYgE7', 'track_href': 'https://api.spotify.com/v1/tracks/3MAo4L60oFKI2uE8yEYgE7', 'analysis_url': 'https://api.spotify.com/v1/audio-analysis/3MAo4L60oFKI2uE8yEYgE7', 'duration_ms': 199342, 'time_signature': 4}\n",
      "{'id1': '3VtZXrunTYGrLTx8ZDIyVg', 'item': 39, 'genre': 'Alternative Pop', 'name': 'Lost', 'artist': 'Linkin Park', 'danceability': 0.596, 'energy': 0.798, 'key': 0, 'loudness': -4.63, 'mode': 1, 'speechiness': 0.0285, 'acousticness': 0.00412, 'instrumentalness': 0, 'liveness': 0.338, 'valence': 0.459, 'tempo': 105.01, 'type': 'audio_features', 'id': '3VtZXrunTYGrLTx8ZDIyVg', 'uri': 'spotify:track:3VtZXrunTYGrLTx8ZDIyVg', 'track_href': 'https://api.spotify.com/v1/tracks/3VtZXrunTYGrLTx8ZDIyVg', 'analysis_url': 'https://api.spotify.com/v1/audio-analysis/3VtZXrunTYGrLTx8ZDIyVg', 'duration_ms': 199342, 'time_signature': 4}\n",
      "Get audio_features for  Alternative Pop  :  2  Total :  40\n",
      "21 | 333  Len Tracks for  Alternative Pop Rock :  2\n",
      "{'id1': '1BF9cC72sfpuwqGOMRSpRe', 'item': 40, 'genre': 'Alternative Pop Rock', 'name': 'Frenzy', 'artist': 'Iggy Pop', 'danceability': 0.391, 'energy': 0.985, 'key': 8, 'loudness': -2.806, 'mode': 1, 'speechiness': 0.158, 'acousticness': 9.2e-06, 'instrumentalness': 0, 'liveness': 0.115, 'valence': 0.199, 'tempo': 75.013, 'type': 'audio_features', 'id': '1BF9cC72sfpuwqGOMRSpRe', 'uri': 'spotify:track:1BF9cC72sfpuwqGOMRSpRe', 'track_href': 'https://api.spotify.com/v1/tracks/1BF9cC72sfpuwqGOMRSpRe', 'analysis_url': 'https://api.spotify.com/v1/audio-analysis/1BF9cC72sfpuwqGOMRSpRe', 'duration_ms': 180586, 'time_signature': 4}\n",
      "{'id1': '6NPPIrWUNGE83OZtR7l8ik', 'item': 41, 'genre': 'Alternative Pop Rock', 'name': 'Comments', 'artist': 'Iggy Pop', 'danceability': 0.548, 'energy': 0.926, 'key': 5, 'loudness': -3.919, 'mode': 1, 'speechiness': 0.0855, 'acousticness': 0.000545, 'instrumentalness': 0.226, 'liveness': 0.108, 'valence': 0.472, 'tempo': 154.957, 'type': 'audio_features', 'id': '6NPPIrWUNGE83OZtR7l8ik', 'uri': 'spotify:track:6NPPIrWUNGE83OZtR7l8ik', 'track_href': 'https://api.spotify.com/v1/tracks/6NPPIrWUNGE83OZtR7l8ik', 'analysis_url': 'https://api.spotify.com/v1/audio-analysis/6NPPIrWUNGE83OZtR7l8ik', 'duration_ms': 233752, 'time_signature': 4}\n",
      "Get audio_features for  Alternative Pop Rock  :  2  Total :  42\n",
      "22 | 333  Len Tracks for  Alternative R&b :  2\n",
      "{'id1': '0YfNXMKlh46m6aAhHOrmls', 'item': 42, 'genre': 'Alternative R&b', 'name': 'Doo Wop (That Thing) - Edit', 'artist': 'Ms. Lauryn Hill', 'danceability': 0.795, 'energy': 0.56, 'key': 2, 'loudness': -8.908, 'mode': 1, 'speechiness': 0.0659, 'acousticness': 0.00867, 'instrumentalness': 0, 'liveness': 0.226, 'valence': 0.635, 'tempo': 99.922, 'type': 'audio_features', 'id': '0YfNXMKlh46m6aAhHOrmls', 'uri': 'spotify:track:0YfNXMKlh46m6aAhHOrmls', 'track_href': 'https://api.spotify.com/v1/tracks/0YfNXMKlh46m6aAhHOrmls', 'analysis_url': 'https://api.spotify.com/v1/audio-analysis/0YfNXMKlh46m6aAhHOrmls', 'duration_ms': 240667, 'time_signature': 4}\n"
     ]
    },
    {
     "ename": "KeyboardInterrupt",
     "evalue": "",
     "output_type": "error",
     "traceback": [
      "\u001b[1;31m---------------------------------------------------------------------------\u001b[0m",
      "\u001b[1;31mKeyboardInterrupt\u001b[0m                         Traceback (most recent call last)",
      "\u001b[1;32m~\\AppData\\Local\\Temp\\ipykernel_23384\\341169947.py\u001b[0m in \u001b[0;36m<module>\u001b[1;34m\u001b[0m\n\u001b[0;32m     36\u001b[0m                 \u001b[1;32mtry\u001b[0m\u001b[1;33m:\u001b[0m\u001b[1;33m\u001b[0m\u001b[1;33m\u001b[0m\u001b[0m\n\u001b[0;32m     37\u001b[0m                     \u001b[1;31m#adding audio features to dic\u001b[0m\u001b[1;33m\u001b[0m\u001b[1;33m\u001b[0m\u001b[0m\n\u001b[1;32m---> 38\u001b[1;33m                     \u001b[0mMyDic\u001b[0m\u001b[1;33m.\u001b[0m\u001b[0mupdate\u001b[0m\u001b[1;33m(\u001b[0m\u001b[0msp\u001b[0m\u001b[1;33m.\u001b[0m\u001b[0maudio_features\u001b[0m\u001b[1;33m(\u001b[0m\u001b[0mTracks\u001b[0m\u001b[1;33m[\u001b[0m\u001b[0mitem\u001b[0m\u001b[1;33m]\u001b[0m\u001b[1;33m[\u001b[0m\u001b[1;34m\"id\"\u001b[0m\u001b[1;33m]\u001b[0m\u001b[1;33m)\u001b[0m\u001b[1;33m[\u001b[0m\u001b[1;36m0\u001b[0m\u001b[1;33m]\u001b[0m\u001b[1;33m)\u001b[0m\u001b[1;33m\u001b[0m\u001b[1;33m\u001b[0m\u001b[0m\n\u001b[0m\u001b[0;32m     39\u001b[0m                     \u001b[0mprint\u001b[0m\u001b[1;33m(\u001b[0m\u001b[0mMyDic\u001b[0m\u001b[1;33m)\u001b[0m\u001b[1;33m\u001b[0m\u001b[1;33m\u001b[0m\u001b[0m\n\u001b[0;32m     40\u001b[0m                     \u001b[0mlist_of_audio_features\u001b[0m\u001b[1;33m.\u001b[0m\u001b[0mappend\u001b[0m\u001b[1;33m(\u001b[0m\u001b[0mMyDic\u001b[0m\u001b[1;33m)\u001b[0m\u001b[1;33m\u001b[0m\u001b[1;33m\u001b[0m\u001b[0m\n",
      "\u001b[1;32mc:\\Users\\romai\\anaconda3\\lib\\site-packages\\spotipy\\client.py\u001b[0m in \u001b[0;36maudio_features\u001b[1;34m(self, tracks)\u001b[0m\n\u001b[0;32m   1732\u001b[0m         \u001b[1;32mif\u001b[0m \u001b[0misinstance\u001b[0m\u001b[1;33m(\u001b[0m\u001b[0mtracks\u001b[0m\u001b[1;33m,\u001b[0m \u001b[0mstr\u001b[0m\u001b[1;33m)\u001b[0m\u001b[1;33m:\u001b[0m\u001b[1;33m\u001b[0m\u001b[1;33m\u001b[0m\u001b[0m\n\u001b[0;32m   1733\u001b[0m             \u001b[0mtrackid\u001b[0m \u001b[1;33m=\u001b[0m \u001b[0mself\u001b[0m\u001b[1;33m.\u001b[0m\u001b[0m_get_id\u001b[0m\u001b[1;33m(\u001b[0m\u001b[1;34m\"track\"\u001b[0m\u001b[1;33m,\u001b[0m \u001b[0mtracks\u001b[0m\u001b[1;33m)\u001b[0m\u001b[1;33m\u001b[0m\u001b[1;33m\u001b[0m\u001b[0m\n\u001b[1;32m-> 1734\u001b[1;33m             \u001b[0mresults\u001b[0m \u001b[1;33m=\u001b[0m \u001b[0mself\u001b[0m\u001b[1;33m.\u001b[0m\u001b[0m_get\u001b[0m\u001b[1;33m(\u001b[0m\u001b[1;34m\"audio-features/?ids=\"\u001b[0m \u001b[1;33m+\u001b[0m \u001b[0mtrackid\u001b[0m\u001b[1;33m)\u001b[0m\u001b[1;33m\u001b[0m\u001b[1;33m\u001b[0m\u001b[0m\n\u001b[0m\u001b[0;32m   1735\u001b[0m         \u001b[1;32melse\u001b[0m\u001b[1;33m:\u001b[0m\u001b[1;33m\u001b[0m\u001b[1;33m\u001b[0m\u001b[0m\n\u001b[0;32m   1736\u001b[0m             \u001b[0mtlist\u001b[0m \u001b[1;33m=\u001b[0m \u001b[1;33m[\u001b[0m\u001b[0mself\u001b[0m\u001b[1;33m.\u001b[0m\u001b[0m_get_id\u001b[0m\u001b[1;33m(\u001b[0m\u001b[1;34m\"track\"\u001b[0m\u001b[1;33m,\u001b[0m \u001b[0mt\u001b[0m\u001b[1;33m)\u001b[0m \u001b[1;32mfor\u001b[0m \u001b[0mt\u001b[0m \u001b[1;32min\u001b[0m \u001b[0mtracks\u001b[0m\u001b[1;33m]\u001b[0m\u001b[1;33m\u001b[0m\u001b[1;33m\u001b[0m\u001b[0m\n",
      "\u001b[1;32mc:\\Users\\romai\\anaconda3\\lib\\site-packages\\spotipy\\client.py\u001b[0m in \u001b[0;36m_get\u001b[1;34m(self, url, args, payload, **kwargs)\u001b[0m\n\u001b[0;32m    321\u001b[0m             \u001b[0mkwargs\u001b[0m\u001b[1;33m.\u001b[0m\u001b[0mupdate\u001b[0m\u001b[1;33m(\u001b[0m\u001b[0margs\u001b[0m\u001b[1;33m)\u001b[0m\u001b[1;33m\u001b[0m\u001b[1;33m\u001b[0m\u001b[0m\n\u001b[0;32m    322\u001b[0m \u001b[1;33m\u001b[0m\u001b[0m\n\u001b[1;32m--> 323\u001b[1;33m         \u001b[1;32mreturn\u001b[0m \u001b[0mself\u001b[0m\u001b[1;33m.\u001b[0m\u001b[0m_internal_call\u001b[0m\u001b[1;33m(\u001b[0m\u001b[1;34m\"GET\"\u001b[0m\u001b[1;33m,\u001b[0m \u001b[0murl\u001b[0m\u001b[1;33m,\u001b[0m \u001b[0mpayload\u001b[0m\u001b[1;33m,\u001b[0m \u001b[0mkwargs\u001b[0m\u001b[1;33m)\u001b[0m\u001b[1;33m\u001b[0m\u001b[1;33m\u001b[0m\u001b[0m\n\u001b[0m\u001b[0;32m    324\u001b[0m \u001b[1;33m\u001b[0m\u001b[0m\n\u001b[0;32m    325\u001b[0m     \u001b[1;32mdef\u001b[0m \u001b[0m_post\u001b[0m\u001b[1;33m(\u001b[0m\u001b[0mself\u001b[0m\u001b[1;33m,\u001b[0m \u001b[0murl\u001b[0m\u001b[1;33m,\u001b[0m \u001b[0margs\u001b[0m\u001b[1;33m=\u001b[0m\u001b[1;32mNone\u001b[0m\u001b[1;33m,\u001b[0m \u001b[0mpayload\u001b[0m\u001b[1;33m=\u001b[0m\u001b[1;32mNone\u001b[0m\u001b[1;33m,\u001b[0m \u001b[1;33m**\u001b[0m\u001b[0mkwargs\u001b[0m\u001b[1;33m)\u001b[0m\u001b[1;33m:\u001b[0m\u001b[1;33m\u001b[0m\u001b[1;33m\u001b[0m\u001b[0m\n",
      "\u001b[1;32mc:\\Users\\romai\\anaconda3\\lib\\site-packages\\spotipy\\client.py\u001b[0m in \u001b[0;36m_internal_call\u001b[1;34m(self, method, url, payload, params)\u001b[0m\n\u001b[0;32m    264\u001b[0m \u001b[1;33m\u001b[0m\u001b[0m\n\u001b[0;32m    265\u001b[0m         \u001b[1;32mtry\u001b[0m\u001b[1;33m:\u001b[0m\u001b[1;33m\u001b[0m\u001b[1;33m\u001b[0m\u001b[0m\n\u001b[1;32m--> 266\u001b[1;33m             response = self._session.request(\n\u001b[0m\u001b[0;32m    267\u001b[0m                 \u001b[0mmethod\u001b[0m\u001b[1;33m,\u001b[0m \u001b[0murl\u001b[0m\u001b[1;33m,\u001b[0m \u001b[0mheaders\u001b[0m\u001b[1;33m=\u001b[0m\u001b[0mheaders\u001b[0m\u001b[1;33m,\u001b[0m \u001b[0mproxies\u001b[0m\u001b[1;33m=\u001b[0m\u001b[0mself\u001b[0m\u001b[1;33m.\u001b[0m\u001b[0mproxies\u001b[0m\u001b[1;33m,\u001b[0m\u001b[1;33m\u001b[0m\u001b[1;33m\u001b[0m\u001b[0m\n\u001b[0;32m    268\u001b[0m                 \u001b[0mtimeout\u001b[0m\u001b[1;33m=\u001b[0m\u001b[0mself\u001b[0m\u001b[1;33m.\u001b[0m\u001b[0mrequests_timeout\u001b[0m\u001b[1;33m,\u001b[0m \u001b[1;33m**\u001b[0m\u001b[0margs\u001b[0m\u001b[1;33m\u001b[0m\u001b[1;33m\u001b[0m\u001b[0m\n",
      "\u001b[1;32mc:\\Users\\romai\\anaconda3\\lib\\site-packages\\requests\\sessions.py\u001b[0m in \u001b[0;36mrequest\u001b[1;34m(self, method, url, params, data, headers, cookies, files, auth, timeout, allow_redirects, proxies, hooks, stream, verify, cert, json)\u001b[0m\n\u001b[0;32m    585\u001b[0m         }\n\u001b[0;32m    586\u001b[0m         \u001b[0msend_kwargs\u001b[0m\u001b[1;33m.\u001b[0m\u001b[0mupdate\u001b[0m\u001b[1;33m(\u001b[0m\u001b[0msettings\u001b[0m\u001b[1;33m)\u001b[0m\u001b[1;33m\u001b[0m\u001b[1;33m\u001b[0m\u001b[0m\n\u001b[1;32m--> 587\u001b[1;33m         \u001b[0mresp\u001b[0m \u001b[1;33m=\u001b[0m \u001b[0mself\u001b[0m\u001b[1;33m.\u001b[0m\u001b[0msend\u001b[0m\u001b[1;33m(\u001b[0m\u001b[0mprep\u001b[0m\u001b[1;33m,\u001b[0m \u001b[1;33m**\u001b[0m\u001b[0msend_kwargs\u001b[0m\u001b[1;33m)\u001b[0m\u001b[1;33m\u001b[0m\u001b[1;33m\u001b[0m\u001b[0m\n\u001b[0m\u001b[0;32m    588\u001b[0m \u001b[1;33m\u001b[0m\u001b[0m\n\u001b[0;32m    589\u001b[0m         \u001b[1;32mreturn\u001b[0m \u001b[0mresp\u001b[0m\u001b[1;33m\u001b[0m\u001b[1;33m\u001b[0m\u001b[0m\n",
      "\u001b[1;32mc:\\Users\\romai\\anaconda3\\lib\\site-packages\\requests\\sessions.py\u001b[0m in \u001b[0;36msend\u001b[1;34m(self, request, **kwargs)\u001b[0m\n\u001b[0;32m    699\u001b[0m \u001b[1;33m\u001b[0m\u001b[0m\n\u001b[0;32m    700\u001b[0m         \u001b[1;31m# Send the request\u001b[0m\u001b[1;33m\u001b[0m\u001b[1;33m\u001b[0m\u001b[0m\n\u001b[1;32m--> 701\u001b[1;33m         \u001b[0mr\u001b[0m \u001b[1;33m=\u001b[0m \u001b[0madapter\u001b[0m\u001b[1;33m.\u001b[0m\u001b[0msend\u001b[0m\u001b[1;33m(\u001b[0m\u001b[0mrequest\u001b[0m\u001b[1;33m,\u001b[0m \u001b[1;33m**\u001b[0m\u001b[0mkwargs\u001b[0m\u001b[1;33m)\u001b[0m\u001b[1;33m\u001b[0m\u001b[1;33m\u001b[0m\u001b[0m\n\u001b[0m\u001b[0;32m    702\u001b[0m \u001b[1;33m\u001b[0m\u001b[0m\n\u001b[0;32m    703\u001b[0m         \u001b[1;31m# Total elapsed time of the request (approximately)\u001b[0m\u001b[1;33m\u001b[0m\u001b[1;33m\u001b[0m\u001b[0m\n",
      "\u001b[1;32mc:\\Users\\romai\\anaconda3\\lib\\site-packages\\requests\\adapters.py\u001b[0m in \u001b[0;36msend\u001b[1;34m(self, request, stream, timeout, verify, cert, proxies)\u001b[0m\n\u001b[0;32m    487\u001b[0m         \u001b[1;32mtry\u001b[0m\u001b[1;33m:\u001b[0m\u001b[1;33m\u001b[0m\u001b[1;33m\u001b[0m\u001b[0m\n\u001b[0;32m    488\u001b[0m             \u001b[1;32mif\u001b[0m \u001b[1;32mnot\u001b[0m \u001b[0mchunked\u001b[0m\u001b[1;33m:\u001b[0m\u001b[1;33m\u001b[0m\u001b[1;33m\u001b[0m\u001b[0m\n\u001b[1;32m--> 489\u001b[1;33m                 resp = conn.urlopen(\n\u001b[0m\u001b[0;32m    490\u001b[0m                     \u001b[0mmethod\u001b[0m\u001b[1;33m=\u001b[0m\u001b[0mrequest\u001b[0m\u001b[1;33m.\u001b[0m\u001b[0mmethod\u001b[0m\u001b[1;33m,\u001b[0m\u001b[1;33m\u001b[0m\u001b[1;33m\u001b[0m\u001b[0m\n\u001b[0;32m    491\u001b[0m                     \u001b[0murl\u001b[0m\u001b[1;33m=\u001b[0m\u001b[0murl\u001b[0m\u001b[1;33m,\u001b[0m\u001b[1;33m\u001b[0m\u001b[1;33m\u001b[0m\u001b[0m\n",
      "\u001b[1;32mc:\\Users\\romai\\anaconda3\\lib\\site-packages\\urllib3\\connectionpool.py\u001b[0m in \u001b[0;36murlopen\u001b[1;34m(self, method, url, body, headers, retries, redirect, assert_same_host, timeout, pool_timeout, release_conn, chunked, body_pos, **response_kw)\u001b[0m\n\u001b[0;32m    874\u001b[0m \u001b[1;33m\u001b[0m\u001b[0m\n\u001b[0;32m    875\u001b[0m             \u001b[0mresponse\u001b[0m\u001b[1;33m.\u001b[0m\u001b[0mdrain_conn\u001b[0m\u001b[1;33m(\u001b[0m\u001b[1;33m)\u001b[0m\u001b[1;33m\u001b[0m\u001b[1;33m\u001b[0m\u001b[0m\n\u001b[1;32m--> 876\u001b[1;33m             \u001b[0mretries\u001b[0m\u001b[1;33m.\u001b[0m\u001b[0msleep\u001b[0m\u001b[1;33m(\u001b[0m\u001b[0mresponse\u001b[0m\u001b[1;33m)\u001b[0m\u001b[1;33m\u001b[0m\u001b[1;33m\u001b[0m\u001b[0m\n\u001b[0m\u001b[0;32m    877\u001b[0m             \u001b[0mlog\u001b[0m\u001b[1;33m.\u001b[0m\u001b[0mdebug\u001b[0m\u001b[1;33m(\u001b[0m\u001b[1;34m\"Retry: %s\"\u001b[0m\u001b[1;33m,\u001b[0m \u001b[0murl\u001b[0m\u001b[1;33m)\u001b[0m\u001b[1;33m\u001b[0m\u001b[1;33m\u001b[0m\u001b[0m\n\u001b[0;32m    878\u001b[0m             return self.urlopen(\n",
      "\u001b[1;32mc:\\Users\\romai\\anaconda3\\lib\\site-packages\\urllib3\\util\\retry.py\u001b[0m in \u001b[0;36msleep\u001b[1;34m(self, response)\u001b[0m\n\u001b[0;32m    426\u001b[0m \u001b[1;33m\u001b[0m\u001b[0m\n\u001b[0;32m    427\u001b[0m         \u001b[1;32mif\u001b[0m \u001b[0mself\u001b[0m\u001b[1;33m.\u001b[0m\u001b[0mrespect_retry_after_header\u001b[0m \u001b[1;32mand\u001b[0m \u001b[0mresponse\u001b[0m\u001b[1;33m:\u001b[0m\u001b[1;33m\u001b[0m\u001b[1;33m\u001b[0m\u001b[0m\n\u001b[1;32m--> 428\u001b[1;33m             \u001b[0mslept\u001b[0m \u001b[1;33m=\u001b[0m \u001b[0mself\u001b[0m\u001b[1;33m.\u001b[0m\u001b[0msleep_for_retry\u001b[0m\u001b[1;33m(\u001b[0m\u001b[0mresponse\u001b[0m\u001b[1;33m)\u001b[0m\u001b[1;33m\u001b[0m\u001b[1;33m\u001b[0m\u001b[0m\n\u001b[0m\u001b[0;32m    429\u001b[0m             \u001b[1;32mif\u001b[0m \u001b[0mslept\u001b[0m\u001b[1;33m:\u001b[0m\u001b[1;33m\u001b[0m\u001b[1;33m\u001b[0m\u001b[0m\n\u001b[0;32m    430\u001b[0m                 \u001b[1;32mreturn\u001b[0m\u001b[1;33m\u001b[0m\u001b[1;33m\u001b[0m\u001b[0m\n",
      "\u001b[1;32mc:\\Users\\romai\\anaconda3\\lib\\site-packages\\urllib3\\util\\retry.py\u001b[0m in \u001b[0;36msleep_for_retry\u001b[1;34m(self, response)\u001b[0m\n\u001b[0;32m    405\u001b[0m         \u001b[0mretry_after\u001b[0m \u001b[1;33m=\u001b[0m \u001b[0mself\u001b[0m\u001b[1;33m.\u001b[0m\u001b[0mget_retry_after\u001b[0m\u001b[1;33m(\u001b[0m\u001b[0mresponse\u001b[0m\u001b[1;33m)\u001b[0m\u001b[1;33m\u001b[0m\u001b[1;33m\u001b[0m\u001b[0m\n\u001b[0;32m    406\u001b[0m         \u001b[1;32mif\u001b[0m \u001b[0mretry_after\u001b[0m\u001b[1;33m:\u001b[0m\u001b[1;33m\u001b[0m\u001b[1;33m\u001b[0m\u001b[0m\n\u001b[1;32m--> 407\u001b[1;33m             \u001b[0mtime\u001b[0m\u001b[1;33m.\u001b[0m\u001b[0msleep\u001b[0m\u001b[1;33m(\u001b[0m\u001b[0mretry_after\u001b[0m\u001b[1;33m)\u001b[0m\u001b[1;33m\u001b[0m\u001b[1;33m\u001b[0m\u001b[0m\n\u001b[0m\u001b[0;32m    408\u001b[0m             \u001b[1;32mreturn\u001b[0m \u001b[1;32mTrue\u001b[0m\u001b[1;33m\u001b[0m\u001b[1;33m\u001b[0m\u001b[0m\n\u001b[0;32m    409\u001b[0m \u001b[1;33m\u001b[0m\u001b[0m\n",
      "\u001b[1;31mKeyboardInterrupt\u001b[0m: "
     ]
    }
   ],
   "source": [
    "\n",
    "start = 0   #Starting position for i search tracks by genre query. Keep 0 or else if you whant arts of list\n",
    "Limit=2    # Limit <=50, more is not accepted. If you want less than 50 tracks, set this variable\n",
    "maxi = 45 # Upper limit for i search tracks by genre \n",
    "Compteur = 0    #rows count\n",
    "CptGenre=0      #genre count\n",
    "Header=True     #Header for csv file, only on first export\n",
    "CptGenreTot = len(genres) #genre total count\n",
    "\n",
    "#main loop\n",
    "for genre in genres:\n",
    "    Track_ids = []\n",
    "    Tracks = []\n",
    "    #Get track list\n",
    "    for i in range(start,maxi,50):\n",
    "        try:\n",
    "            Results = sp.search(q='genre:' + genre, type='track',offset=i, limit=Limit)\n",
    "            Tracks = Tracks + Results['tracks']['items'] #useless\n",
    "        except spotipy.SpotifyException as e:\n",
    "            print(e.msg)\n",
    "\n",
    "    Track_ids = Track_ids + [Track['id'] for Track in Tracks] #useless\n",
    "    CptGenre += 1\n",
    "    print(CptGenre,'|',CptGenreTot,' Len Tracks for ',genre,': ',len(Tracks))\n",
    "    \n",
    "    try:\n",
    "        if len(Tracks) > 0:\n",
    "            #Get audio_features\n",
    "            list_of_audio_features=[]\n",
    "            for item in range(0,len(Tracks)):\n",
    "                MyDic = {}\n",
    "                #Building a dic with genre, name, artist\n",
    "                MyDic= '{ \"id1\":\"' + Tracks[item][\"id\"] + '\", \"item\" : ' + str(Compteur) + ',\"genre\" : \"' + genre + '\" , \"name\" : \"' + Tracks[item]['name'].replace('\"','')  +  '\" ,\"artist\" : \"' + Tracks[item]['artists'][0]['name'].replace('\"','') + '\"}'\n",
    "                #print(MyDic)\n",
    "                Compteur += 1\n",
    "                MyDic = json.loads(MyDic)\n",
    "                try:\n",
    "                    #adding audio features to dic\n",
    "                    MyDic.update(sp.audio_features(Tracks[item][\"id\"])[0])\n",
    "                    print(MyDic)\n",
    "                    list_of_audio_features.append(MyDic)\n",
    "                except spotipy.SpotifyException as e:\n",
    "                    print(e.msg)\n",
    "            print('Get audio_features for ',genre,' : ', item + 1, ' Total : ',Compteur) \n",
    "\n",
    "            #save to file\n",
    "            df=pd.DataFrame(list_of_audio_features)    \n",
    "            df=df[[\"item\",\"genre\",\"id\",\"name\",\"artist\",\"danceability\",\"energy\",\"key\",\"mode\",\"loudness\",\"speechiness\",\"acousticness\",\"instrumentalness\",\"liveness\",\"valence\",\"tempo\",\"duration_ms\"]]\n",
    "            #append to csv\n",
    "            df.to_csv('audio_features.csv',mode='a',index=False, header=Header)\n",
    "            Header = False\n",
    "    except Exception as e:\n",
    "        print(repr(e))\n",
    "\n",
    "print(\"\\n\\n\\nDone\")\n",
    "\n"
   ]
  },
  {
   "cell_type": "code",
   "execution_count": 22,
   "metadata": {},
   "outputs": [
    {
     "name": "stdout",
     "output_type": "stream",
     "text": [
      "Bodies\n",
      "{'danceability': 0.656, 'energy': 0.932, 'key': 4, 'loudness': -3.405, 'mode': 0, 'speechiness': 0.0708, 'acousticness': 0.00347, 'instrumentalness': 0.00147, 'liveness': 0.144, 'valence': 0.544, 'tempo': 130.936, 'type': 'audio_features', 'id': '7CpbhqKUedOIrcvc94p60Y', 'uri': 'spotify:track:7CpbhqKUedOIrcvc94p60Y', 'track_href': 'https://api.spotify.com/v1/tracks/7CpbhqKUedOIrcvc94p60Y', 'analysis_url': 'https://api.spotify.com/v1/audio-analysis/7CpbhqKUedOIrcvc94p60Y', 'duration_ms': 201960, 'time_signature': 4}\n"
     ]
    }
   ],
   "source": [
    "print(Tracks[item]['name'])\n",
    "print(sp.audio_features(Tracks[item][\"id\"])[0])"
   ]
  },
  {
   "cell_type": "code",
   "execution_count": 24,
   "metadata": {},
   "outputs": [
    {
     "data": {
      "text/plain": [
       "[{'danceability': 0.784,\n",
       "  'energy': 0.499,\n",
       "  'key': 5,\n",
       "  'loudness': -5.363,\n",
       "  'mode': 0,\n",
       "  'speechiness': 0.125,\n",
       "  'acousticness': 0.206,\n",
       "  'instrumentalness': 0,\n",
       "  'liveness': 0.848,\n",
       "  'valence': 0.341,\n",
       "  'tempo': 126.007,\n",
       "  'type': 'audio_features',\n",
       "  'id': '49prCAJ75eE02AQhfEcol4',\n",
       "  'uri': 'spotify:track:49prCAJ75eE02AQhfEcol4',\n",
       "  'track_href': 'https://api.spotify.com/v1/tracks/49prCAJ75eE02AQhfEcol4',\n",
       "  'analysis_url': 'https://api.spotify.com/v1/audio-analysis/49prCAJ75eE02AQhfEcol4',\n",
       "  'duration_ms': 242167,\n",
       "  'time_signature': 4}]"
      ]
     },
     "execution_count": 24,
     "metadata": {},
     "output_type": "execute_result"
    }
   ],
   "source": [
    "sp.audio_features(Tracks[item][\"id\"])"
   ]
  },
  {
   "attachments": {},
   "cell_type": "markdown",
   "metadata": {},
   "source": []
  }
 ],
 "metadata": {
  "kernelspec": {
   "display_name": "base",
   "language": "python",
   "name": "python3"
  },
  "language_info": {
   "codemirror_mode": {
    "name": "ipython",
    "version": 3
   },
   "file_extension": ".py",
   "mimetype": "text/x-python",
   "name": "python",
   "nbconvert_exporter": "python",
   "pygments_lexer": "ipython3",
   "version": "3.9.13"
  },
  "orig_nbformat": 4
 },
 "nbformat": 4,
 "nbformat_minor": 2
}
