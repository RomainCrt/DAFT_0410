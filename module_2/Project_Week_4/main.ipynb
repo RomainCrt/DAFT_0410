{
 "cells": [
  {
   "attachments": {},
   "cell_type": "markdown",
   "metadata": {},
   "source": [
    "# Project Week 4"
   ]
  },
  {
   "cell_type": "code",
   "execution_count": 131,
   "metadata": {},
   "outputs": [],
   "source": [
    "import pandas as pd\n",
    "import numpy as np\n",
    "import scipy as sp\n",
    "from scipy import stats\n",
    "from matplotlib import pyplot as plt\n",
    "from datetime import datetime\n",
    "import seaborn as sns"
   ]
  },
  {
   "cell_type": "code",
   "execution_count": 55,
   "metadata": {},
   "outputs": [],
   "source": [
    "df = pd.read_csv(\"beer_reviews.csv\")"
   ]
  },
  {
   "cell_type": "code",
   "execution_count": 56,
   "metadata": {},
   "outputs": [
    {
     "data": {
      "text/html": [
       "<div>\n",
       "<style scoped>\n",
       "    .dataframe tbody tr th:only-of-type {\n",
       "        vertical-align: middle;\n",
       "    }\n",
       "\n",
       "    .dataframe tbody tr th {\n",
       "        vertical-align: top;\n",
       "    }\n",
       "\n",
       "    .dataframe thead th {\n",
       "        text-align: right;\n",
       "    }\n",
       "</style>\n",
       "<table border=\"1\" class=\"dataframe\">\n",
       "  <thead>\n",
       "    <tr style=\"text-align: right;\">\n",
       "      <th></th>\n",
       "      <th>index</th>\n",
       "      <th>brewery_id</th>\n",
       "      <th>brewery_name</th>\n",
       "      <th>review_time</th>\n",
       "      <th>review_overall</th>\n",
       "      <th>review_aroma</th>\n",
       "      <th>review_appearance</th>\n",
       "      <th>review_profilename</th>\n",
       "      <th>beer_style</th>\n",
       "      <th>review_palate</th>\n",
       "      <th>review_taste</th>\n",
       "      <th>beer_name</th>\n",
       "      <th>beer_abv</th>\n",
       "      <th>beer_beerid</th>\n",
       "    </tr>\n",
       "  </thead>\n",
       "  <tbody>\n",
       "    <tr>\n",
       "      <th>0</th>\n",
       "      <td>0</td>\n",
       "      <td>10325</td>\n",
       "      <td>Vecchio Birraio</td>\n",
       "      <td>1234817823</td>\n",
       "      <td>1.5</td>\n",
       "      <td>2.0</td>\n",
       "      <td>2.5</td>\n",
       "      <td>stcules</td>\n",
       "      <td>Hefeweizen</td>\n",
       "      <td>1.5</td>\n",
       "      <td>1.5</td>\n",
       "      <td>Sausa Weizen</td>\n",
       "      <td>5.0</td>\n",
       "      <td>47986</td>\n",
       "    </tr>\n",
       "    <tr>\n",
       "      <th>1</th>\n",
       "      <td>1</td>\n",
       "      <td>10325</td>\n",
       "      <td>Vecchio Birraio</td>\n",
       "      <td>1235915097</td>\n",
       "      <td>3.0</td>\n",
       "      <td>2.5</td>\n",
       "      <td>3.0</td>\n",
       "      <td>stcules</td>\n",
       "      <td>English Strong Ale</td>\n",
       "      <td>3.0</td>\n",
       "      <td>3.0</td>\n",
       "      <td>Red Moon</td>\n",
       "      <td>6.2</td>\n",
       "      <td>48213</td>\n",
       "    </tr>\n",
       "    <tr>\n",
       "      <th>2</th>\n",
       "      <td>2</td>\n",
       "      <td>10325</td>\n",
       "      <td>Vecchio Birraio</td>\n",
       "      <td>1235916604</td>\n",
       "      <td>3.0</td>\n",
       "      <td>2.5</td>\n",
       "      <td>3.0</td>\n",
       "      <td>stcules</td>\n",
       "      <td>Foreign / Export Stout</td>\n",
       "      <td>3.0</td>\n",
       "      <td>3.0</td>\n",
       "      <td>Black Horse Black Beer</td>\n",
       "      <td>6.5</td>\n",
       "      <td>48215</td>\n",
       "    </tr>\n",
       "    <tr>\n",
       "      <th>3</th>\n",
       "      <td>3</td>\n",
       "      <td>10325</td>\n",
       "      <td>Vecchio Birraio</td>\n",
       "      <td>1234725145</td>\n",
       "      <td>3.0</td>\n",
       "      <td>3.0</td>\n",
       "      <td>3.5</td>\n",
       "      <td>stcules</td>\n",
       "      <td>German Pilsener</td>\n",
       "      <td>2.5</td>\n",
       "      <td>3.0</td>\n",
       "      <td>Sausa Pils</td>\n",
       "      <td>5.0</td>\n",
       "      <td>47969</td>\n",
       "    </tr>\n",
       "    <tr>\n",
       "      <th>4</th>\n",
       "      <td>4</td>\n",
       "      <td>1075</td>\n",
       "      <td>Caldera Brewing Company</td>\n",
       "      <td>1293735206</td>\n",
       "      <td>4.0</td>\n",
       "      <td>4.5</td>\n",
       "      <td>4.0</td>\n",
       "      <td>johnmichaelsen</td>\n",
       "      <td>American Double / Imperial IPA</td>\n",
       "      <td>4.0</td>\n",
       "      <td>4.5</td>\n",
       "      <td>Cauldron DIPA</td>\n",
       "      <td>7.7</td>\n",
       "      <td>64883</td>\n",
       "    </tr>\n",
       "    <tr>\n",
       "      <th>5</th>\n",
       "      <td>5</td>\n",
       "      <td>1075</td>\n",
       "      <td>Caldera Brewing Company</td>\n",
       "      <td>1325524659</td>\n",
       "      <td>3.0</td>\n",
       "      <td>3.5</td>\n",
       "      <td>3.5</td>\n",
       "      <td>oline73</td>\n",
       "      <td>Herbed / Spiced Beer</td>\n",
       "      <td>3.0</td>\n",
       "      <td>3.5</td>\n",
       "      <td>Caldera Ginger Beer</td>\n",
       "      <td>4.7</td>\n",
       "      <td>52159</td>\n",
       "    </tr>\n",
       "    <tr>\n",
       "      <th>6</th>\n",
       "      <td>6</td>\n",
       "      <td>1075</td>\n",
       "      <td>Caldera Brewing Company</td>\n",
       "      <td>1318991115</td>\n",
       "      <td>3.5</td>\n",
       "      <td>3.5</td>\n",
       "      <td>3.5</td>\n",
       "      <td>Reidrover</td>\n",
       "      <td>Herbed / Spiced Beer</td>\n",
       "      <td>4.0</td>\n",
       "      <td>4.0</td>\n",
       "      <td>Caldera Ginger Beer</td>\n",
       "      <td>4.7</td>\n",
       "      <td>52159</td>\n",
       "    </tr>\n",
       "    <tr>\n",
       "      <th>7</th>\n",
       "      <td>7</td>\n",
       "      <td>1075</td>\n",
       "      <td>Caldera Brewing Company</td>\n",
       "      <td>1306276018</td>\n",
       "      <td>3.0</td>\n",
       "      <td>2.5</td>\n",
       "      <td>3.5</td>\n",
       "      <td>alpinebryant</td>\n",
       "      <td>Herbed / Spiced Beer</td>\n",
       "      <td>2.0</td>\n",
       "      <td>3.5</td>\n",
       "      <td>Caldera Ginger Beer</td>\n",
       "      <td>4.7</td>\n",
       "      <td>52159</td>\n",
       "    </tr>\n",
       "    <tr>\n",
       "      <th>8</th>\n",
       "      <td>8</td>\n",
       "      <td>1075</td>\n",
       "      <td>Caldera Brewing Company</td>\n",
       "      <td>1290454503</td>\n",
       "      <td>4.0</td>\n",
       "      <td>3.0</td>\n",
       "      <td>3.5</td>\n",
       "      <td>LordAdmNelson</td>\n",
       "      <td>Herbed / Spiced Beer</td>\n",
       "      <td>3.5</td>\n",
       "      <td>4.0</td>\n",
       "      <td>Caldera Ginger Beer</td>\n",
       "      <td>4.7</td>\n",
       "      <td>52159</td>\n",
       "    </tr>\n",
       "    <tr>\n",
       "      <th>9</th>\n",
       "      <td>9</td>\n",
       "      <td>1075</td>\n",
       "      <td>Caldera Brewing Company</td>\n",
       "      <td>1285632924</td>\n",
       "      <td>4.5</td>\n",
       "      <td>3.5</td>\n",
       "      <td>5.0</td>\n",
       "      <td>augustgarage</td>\n",
       "      <td>Herbed / Spiced Beer</td>\n",
       "      <td>4.0</td>\n",
       "      <td>4.0</td>\n",
       "      <td>Caldera Ginger Beer</td>\n",
       "      <td>4.7</td>\n",
       "      <td>52159</td>\n",
       "    </tr>\n",
       "  </tbody>\n",
       "</table>\n",
       "</div>"
      ],
      "text/plain": [
       "   index  brewery_id             brewery_name  review_time  review_overall  \\\n",
       "0      0       10325          Vecchio Birraio   1234817823             1.5   \n",
       "1      1       10325          Vecchio Birraio   1235915097             3.0   \n",
       "2      2       10325          Vecchio Birraio   1235916604             3.0   \n",
       "3      3       10325          Vecchio Birraio   1234725145             3.0   \n",
       "4      4        1075  Caldera Brewing Company   1293735206             4.0   \n",
       "5      5        1075  Caldera Brewing Company   1325524659             3.0   \n",
       "6      6        1075  Caldera Brewing Company   1318991115             3.5   \n",
       "7      7        1075  Caldera Brewing Company   1306276018             3.0   \n",
       "8      8        1075  Caldera Brewing Company   1290454503             4.0   \n",
       "9      9        1075  Caldera Brewing Company   1285632924             4.5   \n",
       "\n",
       "   review_aroma  review_appearance review_profilename  \\\n",
       "0           2.0                2.5            stcules   \n",
       "1           2.5                3.0            stcules   \n",
       "2           2.5                3.0            stcules   \n",
       "3           3.0                3.5            stcules   \n",
       "4           4.5                4.0     johnmichaelsen   \n",
       "5           3.5                3.5            oline73   \n",
       "6           3.5                3.5          Reidrover   \n",
       "7           2.5                3.5       alpinebryant   \n",
       "8           3.0                3.5      LordAdmNelson   \n",
       "9           3.5                5.0       augustgarage   \n",
       "\n",
       "                       beer_style  review_palate  review_taste  \\\n",
       "0                      Hefeweizen            1.5           1.5   \n",
       "1              English Strong Ale            3.0           3.0   \n",
       "2          Foreign / Export Stout            3.0           3.0   \n",
       "3                 German Pilsener            2.5           3.0   \n",
       "4  American Double / Imperial IPA            4.0           4.5   \n",
       "5            Herbed / Spiced Beer            3.0           3.5   \n",
       "6            Herbed / Spiced Beer            4.0           4.0   \n",
       "7            Herbed / Spiced Beer            2.0           3.5   \n",
       "8            Herbed / Spiced Beer            3.5           4.0   \n",
       "9            Herbed / Spiced Beer            4.0           4.0   \n",
       "\n",
       "                beer_name  beer_abv  beer_beerid  \n",
       "0            Sausa Weizen       5.0        47986  \n",
       "1                Red Moon       6.2        48213  \n",
       "2  Black Horse Black Beer       6.5        48215  \n",
       "3              Sausa Pils       5.0        47969  \n",
       "4           Cauldron DIPA       7.7        64883  \n",
       "5     Caldera Ginger Beer       4.7        52159  \n",
       "6     Caldera Ginger Beer       4.7        52159  \n",
       "7     Caldera Ginger Beer       4.7        52159  \n",
       "8     Caldera Ginger Beer       4.7        52159  \n",
       "9     Caldera Ginger Beer       4.7        52159  "
      ]
     },
     "execution_count": 56,
     "metadata": {},
     "output_type": "execute_result"
    }
   ],
   "source": [
    "df.head(10)"
   ]
  },
  {
   "cell_type": "code",
   "execution_count": 6,
   "metadata": {},
   "outputs": [
    {
     "name": "stdout",
     "output_type": "stream",
     "text": [
      "<class 'pandas.core.frame.DataFrame'>\n",
      "RangeIndex: 1586614 entries, 0 to 1586613\n",
      "Data columns (total 14 columns):\n",
      " #   Column              Non-Null Count    Dtype  \n",
      "---  ------              --------------    -----  \n",
      " 0   index               1586614 non-null  int64  \n",
      " 1   brewery_id          1586614 non-null  int64  \n",
      " 2   brewery_name        1586599 non-null  object \n",
      " 3   review_time         1586614 non-null  int64  \n",
      " 4   review_overall      1586614 non-null  float64\n",
      " 5   review_aroma        1586614 non-null  float64\n",
      " 6   review_appearance   1586614 non-null  float64\n",
      " 7   review_profilename  1586266 non-null  object \n",
      " 8   beer_style          1586614 non-null  object \n",
      " 9   review_palate       1586614 non-null  float64\n",
      " 10  review_taste        1586614 non-null  float64\n",
      " 11  beer_name           1586614 non-null  object \n",
      " 12  beer_abv            1518829 non-null  float64\n",
      " 13  beer_beerid         1586614 non-null  int64  \n",
      "dtypes: float64(6), int64(4), object(4)\n",
      "memory usage: 169.5+ MB\n"
     ]
    }
   ],
   "source": [
    "df.info()"
   ]
  },
  {
   "cell_type": "code",
   "execution_count": 57,
   "metadata": {},
   "outputs": [
    {
     "name": "stdout",
     "output_type": "stream",
     "text": [
      "columns #1: index  is type: <class 'str'>\n",
      "Missing values 0\n"
     ]
    },
    {
     "data": {
      "text/plain": [
       "brewery_id\n",
       "35       39444\n",
       "10099    33839\n",
       "147      33066\n",
       "140      28751\n",
       "287      25191\n",
       "         ...  \n",
       "24502        1\n",
       "17224        1\n",
       "24526        1\n",
       "17216        1\n",
       "15048        1\n",
       "Length: 5840, dtype: int64"
      ]
     },
     "metadata": {},
     "output_type": "display_data"
    },
    {
     "data": {
      "text/plain": [
       "Text(0.5, 1.0, 'brewery_id')"
      ]
     },
     "metadata": {},
     "output_type": "display_data"
    },
    {
     "data": {
      "image/png": "[encoded data removed]",
      "text/plain": [
       "<Figure size 400x400 with 1 Axes>"
      ]
     },
     "metadata": {},
     "output_type": "display_data"
    }
   ],
   "source": [
    "# 1 - brewery_id          \n",
    "print('columns #1:', df.columns[0] , ' is type:', type( df.columns[0]) )\n",
    "print('Missing values',df['brewery_id'].isna().sum())\n",
    "#display(df['brewery_id'].describe())\n",
    "display(df.value_counts('brewery_id'))\n",
    "display(df[\"brewery_id\"].plot.hist(bins=43, figsize=(4, 4)).set_title('brewery_id'))"
   ]
  },
  {
   "cell_type": "code",
   "execution_count": 58,
   "metadata": {},
   "outputs": [
    {
     "data": {
      "text/plain": [
       "5840"
      ]
     },
     "execution_count": 58,
     "metadata": {},
     "output_type": "execute_result"
    }
   ],
   "source": [
    "df['brewery_id'].nunique()"
   ]
  },
  {
   "cell_type": "code",
   "execution_count": 87,
   "metadata": {},
   "outputs": [
    {
     "name": "stdout",
     "output_type": "stream",
     "text": [
      "columns #3: brewery_name  is type: <class 'str'>\n",
      "Missing values 0\n"
     ]
    },
    {
     "data": {
      "text/plain": [
       "count    1.586614e+06\n",
       "mean     3.815581e+00\n",
       "std      7.206219e-01\n",
       "min      0.000000e+00\n",
       "25%      3.500000e+00\n",
       "50%      4.000000e+00\n",
       "75%      4.500000e+00\n",
       "max      5.000000e+00\n",
       "Name: review_overall, dtype: float64"
      ]
     },
     "metadata": {},
     "output_type": "display_data"
    },
    {
     "data": {
      "text/plain": [
       "review_overall\n",
       "4.0    582764\n",
       "4.5    324385\n",
       "3.5    301817\n",
       "3.0    165644\n",
       "5.0     91320\n",
       "2.5     58523\n",
       "2.0     38225\n",
       "1.5     12975\n",
       "1.0     10954\n",
       "0.0         7\n",
       "dtype: int64"
      ]
     },
     "metadata": {},
     "output_type": "display_data"
    }
   ],
   "source": [
    "# 2 - review_overall                 \n",
    "print('columns #3:', df.columns[1] , ' is type:', type( df.columns[1]) )\n",
    "print('Missing values',df['brewery_name'].isna().sum())\n",
    "#display(df['brewery_id'].describe())\n",
    "display(df.value_counts('brewery_name'))\n"
   ]
  },
  {
   "cell_type": "code",
   "execution_count": 62,
   "metadata": {},
   "outputs": [
    {
     "data": {
      "text/plain": [
       "Series([], Name: brewery_id, dtype: int64)"
      ]
     },
     "execution_count": 62,
     "metadata": {},
     "output_type": "execute_result"
    }
   ],
   "source": [
    "df.loc[df['brewery_name'].isna()]['brewery_id']"
   ]
  },
  {
   "cell_type": "code",
   "execution_count": 61,
   "metadata": {},
   "outputs": [],
   "source": [
    "# Data cleanning\n",
    "df.loc[df['brewery_id'] == 1193,'brewery_name'] = 'Unknow brewery2'\n",
    "df.loc[df['brewery_id'] == 27,'brewery_name'] = 'Unknow brewery'"
   ]
  },
  {
   "cell_type": "code",
   "execution_count": 67,
   "metadata": {},
   "outputs": [
    {
     "name": "stdout",
     "output_type": "stream",
     "text": [
      "columns #3: brewery_name  is type: <class 'str'>\n",
      "Missing values 0\n"
     ]
    },
    {
     "data": {
      "text/plain": [
       "count    1.586614e+06\n",
       "mean     1.224089e+09\n",
       "std      7.654427e+07\n",
       "min      8.406720e+08\n",
       "25%      1.173224e+09\n",
       "50%      1.239203e+09\n",
       "75%      1.288568e+09\n",
       "max      1.326285e+09\n",
       "Name: review_time, dtype: float64"
      ]
     },
     "metadata": {},
     "output_type": "display_data"
    },
    {
     "data": {
      "text/plain": [
       "review_time\n",
       "1101772800    21\n",
       "926380801      8\n",
       "1031101200     8\n",
       "980812801      7\n",
       "897091201      7\n",
       "              ..\n",
       "1201481258     1\n",
       "1201481128     1\n",
       "1201481119     1\n",
       "1201481073     1\n",
       "1326285348     1\n",
       "Length: 1577960, dtype: int64"
      ]
     },
     "metadata": {},
     "output_type": "display_data"
    },
    {
     "data": {
      "text/plain": [
       "Text(0.5, 1.0, 'review_time')"
      ]
     },
     "metadata": {},
     "output_type": "display_data"
    },
    {
     "data": {
      "image/png": "[encoded data removed]",
      "text/plain": [
       "<Figure size 400x400 with 1 Axes>"
      ]
     },
     "metadata": {},
     "output_type": "display_data"
    }
   ],
   "source": [
    "# 3 - review_time             \n",
    "print('columns #3:', df.columns[2] , ' is type:', type( df.columns[2]) )\n",
    "print('Missing values',df['review_time'].isna().sum())\n",
    "display(df['review_time'].describe())\n",
    "display(df.value_counts('review_time'))\n",
    "display(df[\"review_time\"].plot.hist(bins=43, figsize=(4, 4)).set_title('review_time'))"
   ]
  },
  {
   "cell_type": "code",
   "execution_count": 138,
   "metadata": {},
   "outputs": [],
   "source": [
    "df[\"review_date\"] = df[\"review_time\"].apply(lambda x: datetime.fromtimestamp(x).strftime(\"%d/%m/%y\"))"
   ]
  },
  {
   "cell_type": "code",
   "execution_count": 90,
   "metadata": {},
   "outputs": [
    {
     "name": "stdout",
     "output_type": "stream",
     "text": [
      "columns #3: review_overall  is type: <class 'str'>\n",
      "Missing values 0\n"
     ]
    },
    {
     "data": {
      "text/plain": [
       "count    1.586614e+06\n",
       "mean     3.815585e+00\n",
       "std      7.206016e-01\n",
       "min      1.000000e+00\n",
       "25%      3.500000e+00\n",
       "50%      4.000000e+00\n",
       "75%      4.500000e+00\n",
       "max      5.000000e+00\n",
       "Name: review_overall, dtype: float64"
      ]
     },
     "metadata": {},
     "output_type": "display_data"
    },
    {
     "data": {
      "text/plain": [
       "review_overall\n",
       "4.0    582764\n",
       "4.5    324385\n",
       "3.5    301817\n",
       "3.0    165644\n",
       "5.0     91320\n",
       "2.5     58523\n",
       "2.0     38225\n",
       "1.5     12975\n",
       "1.0     10961\n",
       "dtype: int64"
      ]
     },
     "metadata": {},
     "output_type": "display_data"
    },
    {
     "data": {
      "text/plain": [
       "Text(0.5, 1.0, 'review_overall')"
      ]
     },
     "metadata": {},
     "output_type": "display_data"
    },
    {
     "data": {
      "image/png": "[encoded data removed]",
      "text/plain": [
       "<Figure size 400x400 with 1 Axes>"
      ]
     },
     "metadata": {},
     "output_type": "display_data"
    }
   ],
   "source": [
    "# 4 - review_overall            \n",
    "print('columns #4:', df.columns[3] , ' is type:', type( df.columns[3]) )\n",
    "print('Missing values',df['review_overall'].isna().sum())\n",
    "display(df['review_overall'].describe())\n",
    "display(df.value_counts('review_overall'))\n",
    "display(df[\"review_overall\"].plot.hist(bins=43, figsize=(4, 4)).set_title('review_overall'))"
   ]
  },
  {
   "cell_type": "code",
   "execution_count": 89,
   "metadata": {},
   "outputs": [],
   "source": [
    "# Data cleanning\n",
    "df.loc[df['review_overall'] == 0,'review_overall'] = 1"
   ]
  },
  {
   "cell_type": "code",
   "execution_count": 91,
   "metadata": {},
   "outputs": [
    {
     "name": "stdout",
     "output_type": "stream",
     "text": [
      "columns #5: review_overall  is type: <class 'str'>\n",
      "Missing values 0\n"
     ]
    },
    {
     "data": {
      "text/plain": [
       "count    1.586614e+06\n",
       "mean     3.815585e+00\n",
       "std      7.206016e-01\n",
       "min      1.000000e+00\n",
       "25%      3.500000e+00\n",
       "50%      4.000000e+00\n",
       "75%      4.500000e+00\n",
       "max      5.000000e+00\n",
       "Name: review_overall, dtype: float64"
      ]
     },
     "metadata": {},
     "output_type": "display_data"
    },
    {
     "data": {
      "text/plain": [
       "review_aroma\n",
       "4.0    557383\n",
       "3.5    365312\n",
       "4.5    271450\n",
       "3.0    200030\n",
       "2.5     66359\n",
       "5.0     64117\n",
       "2.0     42566\n",
       "1.5     12524\n",
       "1.0      6873\n",
       "dtype: int64"
      ]
     },
     "metadata": {},
     "output_type": "display_data"
    },
    {
     "data": {
      "text/plain": [
       "Text(0.5, 1.0, 'review_aroma')"
      ]
     },
     "metadata": {},
     "output_type": "display_data"
    },
    {
     "data": {
      "image/png": "[encoded data removed]",
      "text/plain": [
       "<Figure size 400x400 with 1 Axes>"
      ]
     },
     "metadata": {},
     "output_type": "display_data"
    }
   ],
   "source": [
    "# 5 - review_aroma           \n",
    "print('columns #5:', df.columns[4] , ' is type:', type( df.columns[4]) )\n",
    "print('Missing values',df['review_aroma'].isna().sum())\n",
    "display(df['review_overall'].describe())\n",
    "display(df.value_counts('review_aroma'))\n",
    "display(df[\"review_aroma\"].plot.hist(bins=43, figsize=(4, 4)).set_title('review_aroma'))"
   ]
  },
  {
   "cell_type": "code",
   "execution_count": 94,
   "metadata": {},
   "outputs": [
    {
     "name": "stdout",
     "output_type": "stream",
     "text": [
      "columns #6: review_aroma  is type: <class 'str'>\n",
      "Missing values 0\n"
     ]
    },
    {
     "data": {
      "text/plain": [
       "count    1.586614e+06\n",
       "mean     3.841646e+00\n",
       "std      6.160688e-01\n",
       "min      1.000000e+00\n",
       "25%      3.500000e+00\n",
       "50%      4.000000e+00\n",
       "75%      4.000000e+00\n",
       "max      5.000000e+00\n",
       "Name: review_appearance, dtype: float64"
      ]
     },
     "metadata": {},
     "output_type": "display_data"
    },
    {
     "data": {
      "text/plain": [
       "review_appearance\n",
       "4.0    674186\n",
       "3.5    318529\n",
       "4.5    288108\n",
       "3.0    166009\n",
       "5.0     65398\n",
       "2.5     39493\n",
       "2.0     25414\n",
       "1.5      6147\n",
       "1.0      3330\n",
       "dtype: int64"
      ]
     },
     "metadata": {},
     "output_type": "display_data"
    },
    {
     "data": {
      "text/plain": [
       "Text(0.5, 1.0, 'review_appearance')"
      ]
     },
     "metadata": {},
     "output_type": "display_data"
    },
    {
     "data": {
      "image/png": "[encoded data removed]",
      "text/plain": [
       "<Figure size 400x400 with 1 Axes>"
      ]
     },
     "metadata": {},
     "output_type": "display_data"
    }
   ],
   "source": [
    "# 6 - review_appearance           \n",
    "print('columns #6:', df.columns[5] , ' is type:', type( df.columns[5]) )\n",
    "print('Missing values',df['review_appearance'].isna().sum())\n",
    "display(df['review_appearance'].describe())\n",
    "display(df.value_counts('review_appearance'))\n",
    "display(df[\"review_appearance\"].plot.hist(bins=43, figsize=(4, 4)).set_title('review_appearance'))"
   ]
  },
  {
   "cell_type": "code",
   "execution_count": 93,
   "metadata": {},
   "outputs": [],
   "source": [
    "# Data cleanning\n",
    "df.loc[df['review_appearance'] == 0,'review_appearance'] = 1"
   ]
  },
  {
   "cell_type": "code",
   "execution_count": 97,
   "metadata": {},
   "outputs": [
    {
     "name": "stdout",
     "output_type": "stream",
     "text": [
      "columns #7: review_appearance  is type: <class 'str'>\n",
      "Missing values 348\n"
     ]
    },
    {
     "data": {
      "text/plain": [
       "review_profilename\n",
       "northyorksammy    5817\n",
       "BuckeyeNation     4661\n",
       "mikesgroove       4617\n",
       "Thorpe429         3518\n",
       "womencantsail     3497\n",
       "                  ... \n",
       "clwaldin             1\n",
       "cm1165               1\n",
       "cmartin45            1\n",
       "cmaude               1\n",
       "zzajjber             1\n",
       "Length: 33387, dtype: int64"
      ]
     },
     "metadata": {},
     "output_type": "display_data"
    }
   ],
   "source": [
    "# 7 - review_profilename           \n",
    "print('columns #7:', df.columns[6] , ' is type:', type( df.columns[6]) )\n",
    "print('Missing values',df['review_profilename'].isna().sum())\n",
    "#display(df['review_profilename'].describe())\n",
    "display(df.value_counts('review_profilename'))\n",
    "#display(df[\"review_profilename\"].plot.hist(bins=43, figsize=(4, 4)).set_title('review_profilename'))"
   ]
  },
  {
   "cell_type": "code",
   "execution_count": 100,
   "metadata": {},
   "outputs": [
    {
     "data": {
      "text/plain": [
       "Text(0.5, 1.0, 'review_overall from northyorksammy')"
      ]
     },
     "metadata": {},
     "output_type": "display_data"
    },
    {
     "data": {
      "image/png": "[encoded data removed]",
      "text/plain": [
       "<Figure size 400x400 with 1 Axes>"
      ]
     },
     "metadata": {},
     "output_type": "display_data"
    }
   ],
   "source": [
    "\n",
    "display(df.loc[df['review_profilename'] == 'northyorksammy','review_overall'].plot.hist(bins=43, figsize=(4, 4)).set_title('review_overall from northyorksammy'))"
   ]
  },
  {
   "cell_type": "code",
   "execution_count": 105,
   "metadata": {},
   "outputs": [
    {
     "name": "stdout",
     "output_type": "stream",
     "text": [
      "columns #8: review_profilename  is type: <class 'str'>\n",
      "Missing values 0\n"
     ]
    },
    {
     "data": {
      "text/plain": [
       "beer_style\n",
       "American IPA                        117586\n",
       "American Double / Imperial IPA       85977\n",
       "American Pale Ale (APA)              63469\n",
       "Russian Imperial Stout               54129\n",
       "American Double / Imperial Stout     50705\n",
       "                                     ...  \n",
       "Gose                                   686\n",
       "Faro                                   609\n",
       "Roggenbier                             466\n",
       "Kvass                                  297\n",
       "Happoshu                               241\n",
       "Length: 104, dtype: int64"
      ]
     },
     "metadata": {},
     "output_type": "display_data"
    }
   ],
   "source": [
    "# 8 - review_profilename           \n",
    "print('columns #8:', df.columns[7] , ' is type:', type( df.columns[7]) )\n",
    "print('Missing values',df['beer_style'].isna().sum())\n",
    "#display(df['beer_style'].describe())\n",
    "display(df.value_counts('beer_style'))\n",
    "#display(df[\"beer_style\"].plot.hist(bins=43, figsize=(4, 4)).set_title('beer_style'))\n",
    "#display(df[\"beer_style\"].value_counts().plot(kind='bar', figsize=(4, 4)).set_title('beer_style Distribution'))\n"
   ]
  },
  {
   "cell_type": "code",
   "execution_count": 107,
   "metadata": {},
   "outputs": [
    {
     "name": "stdout",
     "output_type": "stream",
     "text": [
      "columns #9: beer_style  is type: <class 'str'>\n",
      "Missing values 0\n"
     ]
    },
    {
     "data": {
      "text/plain": [
       "review_palate\n",
       "4.0    606711\n",
       "3.5    338585\n",
       "4.5    253102\n",
       "3.0    206932\n",
       "2.5     62842\n",
       "5.0     62190\n",
       "2.0     38333\n",
       "1.5     11045\n",
       "1.0      6874\n",
       "dtype: int64"
      ]
     },
     "metadata": {},
     "output_type": "display_data"
    },
    {
     "data": {
      "text/plain": [
       "Text(0.5, 1.0, 'review_palate')"
      ]
     },
     "metadata": {},
     "output_type": "display_data"
    },
    {
     "data": {
      "image/png": "[encoded data removed]",
      "text/plain": [
       "<Figure size 400x400 with 1 Axes>"
      ]
     },
     "metadata": {},
     "output_type": "display_data"
    }
   ],
   "source": [
    "# 9 - review_palate          \n",
    "print('columns #9:', df.columns[8] , ' is type:', type( df.columns[8]) )\n",
    "print('Missing values',df['review_palate'].isna().sum())\n",
    "#display(df['review_palate'].describe())\n",
    "display(df.value_counts('review_palate'))\n",
    "display(df[\"review_palate\"].plot.hist(bins=43, figsize=(4, 4)).set_title('review_palate'))\n",
    "#display(df[\"review_palate\"].value_counts().plot(kind='bar', figsize=(4, 4)).set_title('review_palate Distribution'))\n"
   ]
  },
  {
   "cell_type": "code",
   "execution_count": 108,
   "metadata": {},
   "outputs": [
    {
     "name": "stdout",
     "output_type": "stream",
     "text": [
      "columns #9: review_palate  is type: <class 'str'>\n",
      "Missing values 0\n"
     ]
    },
    {
     "data": {
      "text/plain": [
       "review_taste\n",
       "4.0    541429\n",
       "4.5    336162\n",
       "3.5    324541\n",
       "3.0    166860\n",
       "5.0     83977\n",
       "2.5     66534\n",
       "2.0     41992\n",
       "1.5     15128\n",
       "1.0      9991\n",
       "dtype: int64"
      ]
     },
     "metadata": {},
     "output_type": "display_data"
    },
    {
     "data": {
      "text/plain": [
       "Text(0.5, 1.0, 'review_taste')"
      ]
     },
     "metadata": {},
     "output_type": "display_data"
    },
    {
     "data": {
      "image/png": "[encoded data removed]",
      "text/plain": [
       "<Figure size 400x400 with 1 Axes>"
      ]
     },
     "metadata": {},
     "output_type": "display_data"
    }
   ],
   "source": [
    "# 10 - review_palate          \n",
    "print('columns #10:', df.columns[9] , ' is type:', type( df.columns[9]) )\n",
    "print('Missing values',df['review_taste'].isna().sum())\n",
    "#display(df['review_taste'].describe())\n",
    "display(df.value_counts('review_taste'))\n",
    "display(df[\"review_taste\"].plot.hist(bins=43, figsize=(4, 4)).set_title('review_taste'))\n",
    "#display(df[\"review_taste\"].value_counts().plot(kind='bar', figsize=(4, 4)).set_title('review_taste Distribution'))\n"
   ]
  },
  {
   "cell_type": "code",
   "execution_count": 110,
   "metadata": {},
   "outputs": [
    {
     "name": "stdout",
     "output_type": "stream",
     "text": [
      "columns #11: review_taste  is type: <class 'str'>\n",
      "Missing values 0\n"
     ]
    },
    {
     "data": {
      "text/plain": [
       "beer_name\n",
       "90 Minute IPA                          3290\n",
       "India Pale Ale                         3130\n",
       "Old Rasputin Russian Imperial Stout    3111\n",
       "Sierra Nevada Celebration Ale          3000\n",
       "Two Hearted Ale                        2728\n",
       "                                       ... \n",
       "Krug-Bräu Pilsner                         1\n",
       "Krug-Bräu Festbier                        1\n",
       "Krug Premium                              1\n",
       "Kross Maibock                             1\n",
       "葉山ビール (Hayama Beer)                       1\n",
       "Length: 56857, dtype: int64"
      ]
     },
     "metadata": {},
     "output_type": "display_data"
    }
   ],
   "source": [
    "# 11 - review_palate          \n",
    "print('columns #11:', df.columns[10] , ' is type:', type( df.columns[10]) )\n",
    "print('Missing values',df['beer_name'].isna().sum())\n",
    "#display(df['beer_name'].describe())\n",
    "display(df.value_counts('beer_name'))\n",
    "#display(df[\"beer_name\"].plot.hist(bins=43, figsize=(4, 4)).set_title('beer_name'))\n",
    "#display(df[\"beer_name\"].value_counts().plot(kind='bar', figsize=(4, 4)).set_title('beer_name Distribution'))\n"
   ]
  },
  {
   "cell_type": "code",
   "execution_count": 113,
   "metadata": {},
   "outputs": [
    {
     "name": "stdout",
     "output_type": "stream",
     "text": [
      "columns #12: beer_name  is type: <class 'str'>\n",
      "Missing values 67785\n"
     ]
    },
    {
     "data": {
      "text/plain": [
       "count    1.518829e+06\n",
       "mean     7.042387e+00\n",
       "std      2.322526e+00\n",
       "min      1.000000e-02\n",
       "25%      5.200000e+00\n",
       "50%      6.500000e+00\n",
       "75%      8.500000e+00\n",
       "max      5.770000e+01\n",
       "Name: beer_abv, dtype: float64"
      ]
     },
     "metadata": {},
     "output_type": "display_data"
    },
    {
     "data": {
      "text/plain": [
       "beer_abv\n",
       "5.00     109144\n",
       "8.00      67744\n",
       "6.00      65383\n",
       "7.00      59460\n",
       "9.00      59183\n",
       "          ...  \n",
       "7.51          1\n",
       "7.21          1\n",
       "7.17          1\n",
       "6.27          1\n",
       "57.70         1\n",
       "Length: 530, dtype: int64"
      ]
     },
     "metadata": {},
     "output_type": "display_data"
    },
    {
     "data": {
      "text/plain": [
       "Text(0.5, 1.0, 'beer_abv')"
      ]
     },
     "metadata": {},
     "output_type": "display_data"
    },
    {
     "data": {
      "image/png": "[encoded data removed]",
      "text/plain": [
       "<Figure size 400x400 with 1 Axes>"
      ]
     },
     "metadata": {},
     "output_type": "display_data"
    }
   ],
   "source": [
    "# 12 - beer_abv          \n",
    "print('columns #12:', df.columns[11] , ' is type:', type( df.columns[11]) )\n",
    "print('Missing values',df['beer_abv'].isna().sum())\n",
    "display(df['beer_abv'].describe())\n",
    "display(df.value_counts('beer_abv'))\n",
    "display(df[\"beer_abv\"].plot.hist(bins=43, figsize=(4, 4)).set_title('beer_abv'))\n",
    "#display(df[\"beer_abv\"].value_counts().plot(kind='bar', figsize=(4, 4)).set_title('beer_name Distribution'))\n"
   ]
  },
  {
   "cell_type": "code",
   "execution_count": 118,
   "metadata": {},
   "outputs": [
    {
     "data": {
      "text/html": [
       "<div>\n",
       "<style scoped>\n",
       "    .dataframe tbody tr th:only-of-type {\n",
       "        vertical-align: middle;\n",
       "    }\n",
       "\n",
       "    .dataframe tbody tr th {\n",
       "        vertical-align: top;\n",
       "    }\n",
       "\n",
       "    .dataframe thead th {\n",
       "        text-align: right;\n",
       "    }\n",
       "</style>\n",
       "<table border=\"1\" class=\"dataframe\">\n",
       "  <thead>\n",
       "    <tr style=\"text-align: right;\">\n",
       "      <th></th>\n",
       "      <th>index</th>\n",
       "      <th>brewery_id</th>\n",
       "      <th>brewery_name</th>\n",
       "      <th>review_time</th>\n",
       "      <th>review_overall</th>\n",
       "      <th>review_aroma</th>\n",
       "      <th>review_appearance</th>\n",
       "      <th>review_profilename</th>\n",
       "      <th>beer_style</th>\n",
       "      <th>review_palate</th>\n",
       "      <th>review_taste</th>\n",
       "      <th>beer_name</th>\n",
       "      <th>beer_abv</th>\n",
       "      <th>beer_beerid</th>\n",
       "    </tr>\n",
       "  </thead>\n",
       "  <tbody>\n",
       "    <tr>\n",
       "      <th>12918</th>\n",
       "      <td>12918</td>\n",
       "      <td>6513</td>\n",
       "      <td>Schorschbräu</td>\n",
       "      <td>1248785936</td>\n",
       "      <td>3.5</td>\n",
       "      <td>4.0</td>\n",
       "      <td>4.0</td>\n",
       "      <td>kappldav123</td>\n",
       "      <td>Eisbock</td>\n",
       "      <td>4.0</td>\n",
       "      <td>4.5</td>\n",
       "      <td>Schorschbräu Schorschbock 31%</td>\n",
       "      <td>30.86</td>\n",
       "      <td>51466</td>\n",
       "    </tr>\n",
       "    <tr>\n",
       "      <th>12919</th>\n",
       "      <td>12919</td>\n",
       "      <td>6513</td>\n",
       "      <td>Schorschbräu</td>\n",
       "      <td>1316780901</td>\n",
       "      <td>4.0</td>\n",
       "      <td>4.0</td>\n",
       "      <td>4.0</td>\n",
       "      <td>kappldav123</td>\n",
       "      <td>Eisbock</td>\n",
       "      <td>4.0</td>\n",
       "      <td>3.5</td>\n",
       "      <td>Schorschbräu Schorschbock 57%</td>\n",
       "      <td>57.70</td>\n",
       "      <td>73368</td>\n",
       "    </tr>\n",
       "    <tr>\n",
       "      <th>12934</th>\n",
       "      <td>12934</td>\n",
       "      <td>6513</td>\n",
       "      <td>Schorschbräu</td>\n",
       "      <td>1264684153</td>\n",
       "      <td>4.0</td>\n",
       "      <td>4.5</td>\n",
       "      <td>4.5</td>\n",
       "      <td>kappldav123</td>\n",
       "      <td>Eisbock</td>\n",
       "      <td>4.0</td>\n",
       "      <td>4.5</td>\n",
       "      <td>Schorschbräu Schorschbock 40%</td>\n",
       "      <td>39.44</td>\n",
       "      <td>55712</td>\n",
       "    </tr>\n",
       "    <tr>\n",
       "      <th>12939</th>\n",
       "      <td>12939</td>\n",
       "      <td>6513</td>\n",
       "      <td>Schorschbräu</td>\n",
       "      <td>1309974178</td>\n",
       "      <td>4.0</td>\n",
       "      <td>4.0</td>\n",
       "      <td>3.5</td>\n",
       "      <td>Sunnanek</td>\n",
       "      <td>Eisbock</td>\n",
       "      <td>4.0</td>\n",
       "      <td>4.0</td>\n",
       "      <td>Schorschbräu Schorschbock 43%</td>\n",
       "      <td>43.00</td>\n",
       "      <td>57856</td>\n",
       "    </tr>\n",
       "    <tr>\n",
       "      <th>12940</th>\n",
       "      <td>12940</td>\n",
       "      <td>6513</td>\n",
       "      <td>Schorschbräu</td>\n",
       "      <td>1274469798</td>\n",
       "      <td>3.5</td>\n",
       "      <td>4.0</td>\n",
       "      <td>4.0</td>\n",
       "      <td>kappldav123</td>\n",
       "      <td>Eisbock</td>\n",
       "      <td>4.0</td>\n",
       "      <td>4.5</td>\n",
       "      <td>Schorschbräu Schorschbock 43%</td>\n",
       "      <td>43.00</td>\n",
       "      <td>57856</td>\n",
       "    </tr>\n",
       "    <tr>\n",
       "      <th>...</th>\n",
       "      <td>...</td>\n",
       "      <td>...</td>\n",
       "      <td>...</td>\n",
       "      <td>...</td>\n",
       "      <td>...</td>\n",
       "      <td>...</td>\n",
       "      <td>...</td>\n",
       "      <td>...</td>\n",
       "      <td>...</td>\n",
       "      <td>...</td>\n",
       "      <td>...</td>\n",
       "      <td>...</td>\n",
       "      <td>...</td>\n",
       "      <td>...</td>\n",
       "    </tr>\n",
       "    <tr>\n",
       "      <th>1386403</th>\n",
       "      <td>1386403</td>\n",
       "      <td>1924</td>\n",
       "      <td>DuClaw Brewing Company</td>\n",
       "      <td>1265957224</td>\n",
       "      <td>2.5</td>\n",
       "      <td>4.0</td>\n",
       "      <td>4.0</td>\n",
       "      <td>willPS21</td>\n",
       "      <td>American Strong Ale</td>\n",
       "      <td>4.0</td>\n",
       "      <td>3.5</td>\n",
       "      <td>Colossus</td>\n",
       "      <td>21.92</td>\n",
       "      <td>48881</td>\n",
       "    </tr>\n",
       "    <tr>\n",
       "      <th>1386404</th>\n",
       "      <td>1386404</td>\n",
       "      <td>1924</td>\n",
       "      <td>DuClaw Brewing Company</td>\n",
       "      <td>1243749469</td>\n",
       "      <td>3.0</td>\n",
       "      <td>3.5</td>\n",
       "      <td>4.0</td>\n",
       "      <td>ChainGangGuy</td>\n",
       "      <td>American Strong Ale</td>\n",
       "      <td>4.0</td>\n",
       "      <td>4.0</td>\n",
       "      <td>Colossus</td>\n",
       "      <td>21.92</td>\n",
       "      <td>48881</td>\n",
       "    </tr>\n",
       "    <tr>\n",
       "      <th>1386405</th>\n",
       "      <td>1386405</td>\n",
       "      <td>1924</td>\n",
       "      <td>DuClaw Brewing Company</td>\n",
       "      <td>1238893861</td>\n",
       "      <td>3.5</td>\n",
       "      <td>3.5</td>\n",
       "      <td>4.0</td>\n",
       "      <td>BeerSox</td>\n",
       "      <td>American Strong Ale</td>\n",
       "      <td>4.0</td>\n",
       "      <td>4.0</td>\n",
       "      <td>Colossus</td>\n",
       "      <td>21.92</td>\n",
       "      <td>48881</td>\n",
       "    </tr>\n",
       "    <tr>\n",
       "      <th>1386406</th>\n",
       "      <td>1386406</td>\n",
       "      <td>1924</td>\n",
       "      <td>DuClaw Brewing Company</td>\n",
       "      <td>1238768944</td>\n",
       "      <td>4.5</td>\n",
       "      <td>4.5</td>\n",
       "      <td>4.5</td>\n",
       "      <td>beermantimmie</td>\n",
       "      <td>American Strong Ale</td>\n",
       "      <td>4.5</td>\n",
       "      <td>4.0</td>\n",
       "      <td>Colossus</td>\n",
       "      <td>21.92</td>\n",
       "      <td>48881</td>\n",
       "    </tr>\n",
       "    <tr>\n",
       "      <th>1386407</th>\n",
       "      <td>1386407</td>\n",
       "      <td>1924</td>\n",
       "      <td>DuClaw Brewing Company</td>\n",
       "      <td>1238680017</td>\n",
       "      <td>4.0</td>\n",
       "      <td>3.5</td>\n",
       "      <td>4.0</td>\n",
       "      <td>DBoone</td>\n",
       "      <td>American Strong Ale</td>\n",
       "      <td>4.5</td>\n",
       "      <td>4.0</td>\n",
       "      <td>Colossus</td>\n",
       "      <td>21.92</td>\n",
       "      <td>48881</td>\n",
       "    </tr>\n",
       "  </tbody>\n",
       "</table>\n",
       "<p>756 rows × 14 columns</p>\n",
       "</div>"
      ],
      "text/plain": [
       "           index  brewery_id            brewery_name  review_time  \\\n",
       "12918      12918        6513            Schorschbräu   1248785936   \n",
       "12919      12919        6513            Schorschbräu   1316780901   \n",
       "12934      12934        6513            Schorschbräu   1264684153   \n",
       "12939      12939        6513            Schorschbräu   1309974178   \n",
       "12940      12940        6513            Schorschbräu   1274469798   \n",
       "...          ...         ...                     ...          ...   \n",
       "1386403  1386403        1924  DuClaw Brewing Company   1265957224   \n",
       "1386404  1386404        1924  DuClaw Brewing Company   1243749469   \n",
       "1386405  1386405        1924  DuClaw Brewing Company   1238893861   \n",
       "1386406  1386406        1924  DuClaw Brewing Company   1238768944   \n",
       "1386407  1386407        1924  DuClaw Brewing Company   1238680017   \n",
       "\n",
       "         review_overall  review_aroma  review_appearance review_profilename  \\\n",
       "12918               3.5           4.0                4.0        kappldav123   \n",
       "12919               4.0           4.0                4.0        kappldav123   \n",
       "12934               4.0           4.5                4.5        kappldav123   \n",
       "12939               4.0           4.0                3.5           Sunnanek   \n",
       "12940               3.5           4.0                4.0        kappldav123   \n",
       "...                 ...           ...                ...                ...   \n",
       "1386403             2.5           4.0                4.0           willPS21   \n",
       "1386404             3.0           3.5                4.0       ChainGangGuy   \n",
       "1386405             3.5           3.5                4.0            BeerSox   \n",
       "1386406             4.5           4.5                4.5      beermantimmie   \n",
       "1386407             4.0           3.5                4.0             DBoone   \n",
       "\n",
       "                  beer_style  review_palate  review_taste  \\\n",
       "12918                Eisbock            4.0           4.5   \n",
       "12919                Eisbock            4.0           3.5   \n",
       "12934                Eisbock            4.0           4.5   \n",
       "12939                Eisbock            4.0           4.0   \n",
       "12940                Eisbock            4.0           4.5   \n",
       "...                      ...            ...           ...   \n",
       "1386403  American Strong Ale            4.0           3.5   \n",
       "1386404  American Strong Ale            4.0           4.0   \n",
       "1386405  American Strong Ale            4.0           4.0   \n",
       "1386406  American Strong Ale            4.5           4.0   \n",
       "1386407  American Strong Ale            4.5           4.0   \n",
       "\n",
       "                             beer_name  beer_abv  beer_beerid  \n",
       "12918    Schorschbräu Schorschbock 31%     30.86        51466  \n",
       "12919    Schorschbräu Schorschbock 57%     57.70        73368  \n",
       "12934    Schorschbräu Schorschbock 40%     39.44        55712  \n",
       "12939    Schorschbräu Schorschbock 43%     43.00        57856  \n",
       "12940    Schorschbräu Schorschbock 43%     43.00        57856  \n",
       "...                                ...       ...          ...  \n",
       "1386403                       Colossus     21.92        48881  \n",
       "1386404                       Colossus     21.92        48881  \n",
       "1386405                       Colossus     21.92        48881  \n",
       "1386406                       Colossus     21.92        48881  \n",
       "1386407                       Colossus     21.92        48881  \n",
       "\n",
       "[756 rows x 14 columns]"
      ]
     },
     "execution_count": 118,
     "metadata": {},
     "output_type": "execute_result"
    }
   ],
   "source": [
    "df.loc[df['beer_abv'] >= 20]"
   ]
  },
  {
   "cell_type": "code",
   "execution_count": 119,
   "metadata": {},
   "outputs": [
    {
     "name": "stdout",
     "output_type": "stream",
     "text": [
      "columns #13: beer_abv  is type: <class 'str'>\n",
      "Missing values 0\n"
     ]
    },
    {
     "data": {
      "text/plain": [
       "count    1.586614e+06\n",
       "mean     2.171279e+04\n",
       "std      2.181834e+04\n",
       "min      3.000000e+00\n",
       "25%      1.717000e+03\n",
       "50%      1.390600e+04\n",
       "75%      3.944100e+04\n",
       "max      7.731700e+04\n",
       "Name: beer_beerid, dtype: float64"
      ]
     },
     "metadata": {},
     "output_type": "display_data"
    },
    {
     "data": {
      "text/plain": [
       "beer_beerid\n",
       "2093     3290\n",
       "412      3111\n",
       "1904     3000\n",
       "1093     2728\n",
       "4083     2704\n",
       "         ... \n",
       "43345       1\n",
       "43344       1\n",
       "43340       1\n",
       "43331       1\n",
       "77317       1\n",
       "Length: 66055, dtype: int64"
      ]
     },
     "metadata": {},
     "output_type": "display_data"
    },
    {
     "data": {
      "text/plain": [
       "Text(0.5, 1.0, 'beer_beerid')"
      ]
     },
     "metadata": {},
     "output_type": "display_data"
    },
    {
     "data": {
      "image/png": "[encoded data removed]",
      "text/plain": [
       "<Figure size 400x400 with 1 Axes>"
      ]
     },
     "metadata": {},
     "output_type": "display_data"
    }
   ],
   "source": [
    "# 13 - beer_beerid          \n",
    "print('columns #13:', df.columns[12] , ' is type:', type( df.columns[12]) )\n",
    "print('Missing values',df['beer_beerid'].isna().sum())\n",
    "display(df['beer_beerid'].describe())\n",
    "display(df.value_counts('beer_beerid'))\n",
    "display(df[\"beer_beerid\"].plot.hist(bins=43, figsize=(4, 4)).set_title('beer_beerid'))\n",
    "#display(df[\"beer_beerid\"].value_counts().plot(kind='bar', figsize=(4, 4)).set_title('beer_beerid Distribution'))\n"
   ]
  },
  {
   "cell_type": "code",
   "execution_count": 120,
   "metadata": {},
   "outputs": [
    {
     "data": {
      "text/html": [
       "<div>\n",
       "<style scoped>\n",
       "    .dataframe tbody tr th:only-of-type {\n",
       "        vertical-align: middle;\n",
       "    }\n",
       "\n",
       "    .dataframe tbody tr th {\n",
       "        vertical-align: top;\n",
       "    }\n",
       "\n",
       "    .dataframe thead th {\n",
       "        text-align: right;\n",
       "    }\n",
       "</style>\n",
       "<table border=\"1\" class=\"dataframe\">\n",
       "  <thead>\n",
       "    <tr style=\"text-align: right;\">\n",
       "      <th></th>\n",
       "      <th>index</th>\n",
       "      <th>brewery_id</th>\n",
       "      <th>brewery_name</th>\n",
       "      <th>review_time</th>\n",
       "      <th>review_overall</th>\n",
       "      <th>review_aroma</th>\n",
       "      <th>review_appearance</th>\n",
       "      <th>review_profilename</th>\n",
       "      <th>beer_style</th>\n",
       "      <th>review_palate</th>\n",
       "      <th>review_taste</th>\n",
       "      <th>beer_name</th>\n",
       "      <th>beer_abv</th>\n",
       "      <th>beer_beerid</th>\n",
       "    </tr>\n",
       "  </thead>\n",
       "  <tbody>\n",
       "    <tr>\n",
       "      <th>1166284</th>\n",
       "      <td>1166284</td>\n",
       "      <td>10099</td>\n",
       "      <td>Dogfish Head Brewery</td>\n",
       "      <td>1266775164</td>\n",
       "      <td>4.0</td>\n",
       "      <td>4.5</td>\n",
       "      <td>4.5</td>\n",
       "      <td>DmanGTR</td>\n",
       "      <td>American Double / Imperial IPA</td>\n",
       "      <td>4.5</td>\n",
       "      <td>4.5</td>\n",
       "      <td>90 Minute IPA</td>\n",
       "      <td>9.0</td>\n",
       "      <td>2093</td>\n",
       "    </tr>\n",
       "    <tr>\n",
       "      <th>1166905</th>\n",
       "      <td>1166905</td>\n",
       "      <td>10099</td>\n",
       "      <td>Dogfish Head Brewery</td>\n",
       "      <td>1296628385</td>\n",
       "      <td>4.0</td>\n",
       "      <td>4.0</td>\n",
       "      <td>4.0</td>\n",
       "      <td>nickadams2</td>\n",
       "      <td>American Double / Imperial IPA</td>\n",
       "      <td>3.5</td>\n",
       "      <td>4.0</td>\n",
       "      <td>90 Minute IPA</td>\n",
       "      <td>9.0</td>\n",
       "      <td>2093</td>\n",
       "    </tr>\n",
       "    <tr>\n",
       "      <th>1170249</th>\n",
       "      <td>1170249</td>\n",
       "      <td>10099</td>\n",
       "      <td>Dogfish Head Brewery</td>\n",
       "      <td>1250389086</td>\n",
       "      <td>4.0</td>\n",
       "      <td>4.0</td>\n",
       "      <td>4.0</td>\n",
       "      <td>kegger22</td>\n",
       "      <td>American Double / Imperial IPA</td>\n",
       "      <td>4.0</td>\n",
       "      <td>4.5</td>\n",
       "      <td>90 Minute IPA</td>\n",
       "      <td>9.0</td>\n",
       "      <td>2093</td>\n",
       "    </tr>\n",
       "    <tr>\n",
       "      <th>1170904</th>\n",
       "      <td>1170904</td>\n",
       "      <td>10099</td>\n",
       "      <td>Dogfish Head Brewery</td>\n",
       "      <td>1230224468</td>\n",
       "      <td>5.0</td>\n",
       "      <td>5.0</td>\n",
       "      <td>5.0</td>\n",
       "      <td>fairway31533</td>\n",
       "      <td>American Double / Imperial IPA</td>\n",
       "      <td>5.0</td>\n",
       "      <td>5.0</td>\n",
       "      <td>90 Minute IPA</td>\n",
       "      <td>9.0</td>\n",
       "      <td>2093</td>\n",
       "    </tr>\n",
       "    <tr>\n",
       "      <th>1171046</th>\n",
       "      <td>1171046</td>\n",
       "      <td>10099</td>\n",
       "      <td>Dogfish Head Brewery</td>\n",
       "      <td>1229312994</td>\n",
       "      <td>4.0</td>\n",
       "      <td>4.5</td>\n",
       "      <td>4.0</td>\n",
       "      <td>Bung</td>\n",
       "      <td>American Double / Imperial IPA</td>\n",
       "      <td>4.0</td>\n",
       "      <td>4.0</td>\n",
       "      <td>90 Minute IPA</td>\n",
       "      <td>9.0</td>\n",
       "      <td>2093</td>\n",
       "    </tr>\n",
       "    <tr>\n",
       "      <th>...</th>\n",
       "      <td>...</td>\n",
       "      <td>...</td>\n",
       "      <td>...</td>\n",
       "      <td>...</td>\n",
       "      <td>...</td>\n",
       "      <td>...</td>\n",
       "      <td>...</td>\n",
       "      <td>...</td>\n",
       "      <td>...</td>\n",
       "      <td>...</td>\n",
       "      <td>...</td>\n",
       "      <td>...</td>\n",
       "      <td>...</td>\n",
       "      <td>...</td>\n",
       "    </tr>\n",
       "    <tr>\n",
       "      <th>1176277</th>\n",
       "      <td>1176277</td>\n",
       "      <td>10099</td>\n",
       "      <td>Dogfish Head Brewery</td>\n",
       "      <td>1319407302</td>\n",
       "      <td>4.5</td>\n",
       "      <td>4.0</td>\n",
       "      <td>4.5</td>\n",
       "      <td>kennylopez</td>\n",
       "      <td>American Double / Imperial IPA</td>\n",
       "      <td>4.5</td>\n",
       "      <td>4.0</td>\n",
       "      <td>90 Minute IPA</td>\n",
       "      <td>9.0</td>\n",
       "      <td>2093</td>\n",
       "    </tr>\n",
       "    <tr>\n",
       "      <th>1176278</th>\n",
       "      <td>1176278</td>\n",
       "      <td>10099</td>\n",
       "      <td>Dogfish Head Brewery</td>\n",
       "      <td>1319326828</td>\n",
       "      <td>4.0</td>\n",
       "      <td>4.0</td>\n",
       "      <td>4.0</td>\n",
       "      <td>firedog23</td>\n",
       "      <td>American Double / Imperial IPA</td>\n",
       "      <td>4.5</td>\n",
       "      <td>4.0</td>\n",
       "      <td>90 Minute IPA</td>\n",
       "      <td>9.0</td>\n",
       "      <td>2093</td>\n",
       "    </tr>\n",
       "    <tr>\n",
       "      <th>1176279</th>\n",
       "      <td>1176279</td>\n",
       "      <td>10099</td>\n",
       "      <td>Dogfish Head Brewery</td>\n",
       "      <td>1319211417</td>\n",
       "      <td>4.5</td>\n",
       "      <td>4.5</td>\n",
       "      <td>4.5</td>\n",
       "      <td>heysuz</td>\n",
       "      <td>American Double / Imperial IPA</td>\n",
       "      <td>4.5</td>\n",
       "      <td>4.5</td>\n",
       "      <td>90 Minute IPA</td>\n",
       "      <td>9.0</td>\n",
       "      <td>2093</td>\n",
       "    </tr>\n",
       "    <tr>\n",
       "      <th>1176280</th>\n",
       "      <td>1176280</td>\n",
       "      <td>10099</td>\n",
       "      <td>Dogfish Head Brewery</td>\n",
       "      <td>1319161135</td>\n",
       "      <td>4.5</td>\n",
       "      <td>4.5</td>\n",
       "      <td>5.0</td>\n",
       "      <td>match1112</td>\n",
       "      <td>American Double / Imperial IPA</td>\n",
       "      <td>4.0</td>\n",
       "      <td>4.5</td>\n",
       "      <td>90 Minute IPA</td>\n",
       "      <td>9.0</td>\n",
       "      <td>2093</td>\n",
       "    </tr>\n",
       "    <tr>\n",
       "      <th>1176281</th>\n",
       "      <td>1176281</td>\n",
       "      <td>10099</td>\n",
       "      <td>Dogfish Head Brewery</td>\n",
       "      <td>1319143049</td>\n",
       "      <td>4.0</td>\n",
       "      <td>4.0</td>\n",
       "      <td>4.0</td>\n",
       "      <td>tbeckett</td>\n",
       "      <td>American Double / Imperial IPA</td>\n",
       "      <td>4.0</td>\n",
       "      <td>4.0</td>\n",
       "      <td>90 Minute IPA</td>\n",
       "      <td>9.0</td>\n",
       "      <td>2093</td>\n",
       "    </tr>\n",
       "  </tbody>\n",
       "</table>\n",
       "<p>3290 rows × 14 columns</p>\n",
       "</div>"
      ],
      "text/plain": [
       "           index  brewery_id          brewery_name  review_time  \\\n",
       "1166284  1166284       10099  Dogfish Head Brewery   1266775164   \n",
       "1166905  1166905       10099  Dogfish Head Brewery   1296628385   \n",
       "1170249  1170249       10099  Dogfish Head Brewery   1250389086   \n",
       "1170904  1170904       10099  Dogfish Head Brewery   1230224468   \n",
       "1171046  1171046       10099  Dogfish Head Brewery   1229312994   \n",
       "...          ...         ...                   ...          ...   \n",
       "1176277  1176277       10099  Dogfish Head Brewery   1319407302   \n",
       "1176278  1176278       10099  Dogfish Head Brewery   1319326828   \n",
       "1176279  1176279       10099  Dogfish Head Brewery   1319211417   \n",
       "1176280  1176280       10099  Dogfish Head Brewery   1319161135   \n",
       "1176281  1176281       10099  Dogfish Head Brewery   1319143049   \n",
       "\n",
       "         review_overall  review_aroma  review_appearance review_profilename  \\\n",
       "1166284             4.0           4.5                4.5            DmanGTR   \n",
       "1166905             4.0           4.0                4.0         nickadams2   \n",
       "1170249             4.0           4.0                4.0           kegger22   \n",
       "1170904             5.0           5.0                5.0       fairway31533   \n",
       "1171046             4.0           4.5                4.0               Bung   \n",
       "...                 ...           ...                ...                ...   \n",
       "1176277             4.5           4.0                4.5         kennylopez   \n",
       "1176278             4.0           4.0                4.0          firedog23   \n",
       "1176279             4.5           4.5                4.5             heysuz   \n",
       "1176280             4.5           4.5                5.0          match1112   \n",
       "1176281             4.0           4.0                4.0           tbeckett   \n",
       "\n",
       "                             beer_style  review_palate  review_taste  \\\n",
       "1166284  American Double / Imperial IPA            4.5           4.5   \n",
       "1166905  American Double / Imperial IPA            3.5           4.0   \n",
       "1170249  American Double / Imperial IPA            4.0           4.5   \n",
       "1170904  American Double / Imperial IPA            5.0           5.0   \n",
       "1171046  American Double / Imperial IPA            4.0           4.0   \n",
       "...                                 ...            ...           ...   \n",
       "1176277  American Double / Imperial IPA            4.5           4.0   \n",
       "1176278  American Double / Imperial IPA            4.5           4.0   \n",
       "1176279  American Double / Imperial IPA            4.5           4.5   \n",
       "1176280  American Double / Imperial IPA            4.0           4.5   \n",
       "1176281  American Double / Imperial IPA            4.0           4.0   \n",
       "\n",
       "             beer_name  beer_abv  beer_beerid  \n",
       "1166284  90 Minute IPA       9.0         2093  \n",
       "1166905  90 Minute IPA       9.0         2093  \n",
       "1170249  90 Minute IPA       9.0         2093  \n",
       "1170904  90 Minute IPA       9.0         2093  \n",
       "1171046  90 Minute IPA       9.0         2093  \n",
       "...                ...       ...          ...  \n",
       "1176277  90 Minute IPA       9.0         2093  \n",
       "1176278  90 Minute IPA       9.0         2093  \n",
       "1176279  90 Minute IPA       9.0         2093  \n",
       "1176280  90 Minute IPA       9.0         2093  \n",
       "1176281  90 Minute IPA       9.0         2093  \n",
       "\n",
       "[3290 rows x 14 columns]"
      ]
     },
     "execution_count": 120,
     "metadata": {},
     "output_type": "execute_result"
    }
   ],
   "source": [
    "df.loc[df['beer_beerid'] == 2093]"
   ]
  },
  {
   "attachments": {},
   "cell_type": "markdown",
   "metadata": {},
   "source": [
    "# Correlation"
   ]
  },
  {
   "cell_type": "code",
   "execution_count": 137,
   "metadata": {},
   "outputs": [
    {
     "data": {
      "text/html": [
       "<div>\n",
       "<style scoped>\n",
       "    .dataframe tbody tr th:only-of-type {\n",
       "        vertical-align: middle;\n",
       "    }\n",
       "\n",
       "    .dataframe tbody tr th {\n",
       "        vertical-align: top;\n",
       "    }\n",
       "\n",
       "    .dataframe thead th {\n",
       "        text-align: right;\n",
       "    }\n",
       "</style>\n",
       "<table border=\"1\" class=\"dataframe\">\n",
       "  <thead>\n",
       "    <tr style=\"text-align: right;\">\n",
       "      <th></th>\n",
       "      <th>review_time</th>\n",
       "      <th>review_overall</th>\n",
       "      <th>review_aroma</th>\n",
       "      <th>review_appearance</th>\n",
       "      <th>review_palate</th>\n",
       "      <th>review_taste</th>\n",
       "      <th>beer_abv</th>\n",
       "    </tr>\n",
       "  </thead>\n",
       "  <tbody>\n",
       "    <tr>\n",
       "      <th>review_time</th>\n",
       "      <td>1.000000</td>\n",
       "      <td>0.028710</td>\n",
       "      <td>0.067453</td>\n",
       "      <td>0.058217</td>\n",
       "      <td>0.057247</td>\n",
       "      <td>0.044498</td>\n",
       "      <td>0.144885</td>\n",
       "    </tr>\n",
       "    <tr>\n",
       "      <th>review_overall</th>\n",
       "      <td>0.028710</td>\n",
       "      <td>1.000000</td>\n",
       "      <td>0.616020</td>\n",
       "      <td>0.501700</td>\n",
       "      <td>0.701923</td>\n",
       "      <td>0.789824</td>\n",
       "      <td>0.138507</td>\n",
       "    </tr>\n",
       "    <tr>\n",
       "      <th>review_aroma</th>\n",
       "      <td>0.067453</td>\n",
       "      <td>0.616020</td>\n",
       "      <td>1.000000</td>\n",
       "      <td>0.561039</td>\n",
       "      <td>0.616947</td>\n",
       "      <td>0.716776</td>\n",
       "      <td>0.332570</td>\n",
       "    </tr>\n",
       "    <tr>\n",
       "      <th>review_appearance</th>\n",
       "      <td>0.058217</td>\n",
       "      <td>0.501700</td>\n",
       "      <td>0.561039</td>\n",
       "      <td>1.000000</td>\n",
       "      <td>0.566643</td>\n",
       "      <td>0.546986</td>\n",
       "      <td>0.263942</td>\n",
       "    </tr>\n",
       "    <tr>\n",
       "      <th>review_palate</th>\n",
       "      <td>0.057247</td>\n",
       "      <td>0.701923</td>\n",
       "      <td>0.616947</td>\n",
       "      <td>0.566643</td>\n",
       "      <td>1.000000</td>\n",
       "      <td>0.734135</td>\n",
       "      <td>0.286711</td>\n",
       "    </tr>\n",
       "    <tr>\n",
       "      <th>review_taste</th>\n",
       "      <td>0.044498</td>\n",
       "      <td>0.789824</td>\n",
       "      <td>0.716776</td>\n",
       "      <td>0.546986</td>\n",
       "      <td>0.734135</td>\n",
       "      <td>1.000000</td>\n",
       "      <td>0.290827</td>\n",
       "    </tr>\n",
       "    <tr>\n",
       "      <th>beer_abv</th>\n",
       "      <td>0.144885</td>\n",
       "      <td>0.138507</td>\n",
       "      <td>0.332570</td>\n",
       "      <td>0.263942</td>\n",
       "      <td>0.286711</td>\n",
       "      <td>0.290827</td>\n",
       "      <td>1.000000</td>\n",
       "    </tr>\n",
       "  </tbody>\n",
       "</table>\n",
       "</div>"
      ],
      "text/plain": [
       "                   review_time  review_overall  review_aroma  \\\n",
       "review_time           1.000000        0.028710      0.067453   \n",
       "review_overall        0.028710        1.000000      0.616020   \n",
       "review_aroma          0.067453        0.616020      1.000000   \n",
       "review_appearance     0.058217        0.501700      0.561039   \n",
       "review_palate         0.057247        0.701923      0.616947   \n",
       "review_taste          0.044498        0.789824      0.716776   \n",
       "beer_abv              0.144885        0.138507      0.332570   \n",
       "\n",
       "                   review_appearance  review_palate  review_taste  beer_abv  \n",
       "review_time                 0.058217       0.057247      0.044498  0.144885  \n",
       "review_overall              0.501700       0.701923      0.789824  0.138507  \n",
       "review_aroma                0.561039       0.616947      0.716776  0.332570  \n",
       "review_appearance           1.000000       0.566643      0.546986  0.263942  \n",
       "review_palate               0.566643       1.000000      0.734135  0.286711  \n",
       "review_taste                0.546986       0.734135      1.000000  0.290827  \n",
       "beer_abv                    0.263942       0.286711      0.290827  1.000000  "
      ]
     },
     "metadata": {},
     "output_type": "display_data"
    },
    {
     "data": {
      "image/png": "[encoded data removed]",
      "text/plain": [
       "<Figure size 1000x800 with 2 Axes>"
      ]
     },
     "metadata": {},
     "output_type": "display_data"
    }
   ],
   "source": [
    "columns = ['review_time','review_overall','review_aroma','review_appearance','review_palate','review_taste','beer_abv']\n",
    "f, ax = plt.subplots(figsize=(10,8))\n",
    "\n",
    "cor_fit = df[columns].corr()\n",
    "display(cor_fit)\n",
    "sns.heatmap(cor_fit, annot=True);\n"
   ]
  },
  {
   "cell_type": "code",
   "execution_count": null,
   "metadata": {},
   "outputs": [],
   "source": []
  },
  {
   "cell_type": "code",
   "execution_count": 123,
   "metadata": {},
   "outputs": [
    {
     "data": {
      "text/html": [
       "<div>\n",
       "<style scoped>\n",
       "    .dataframe tbody tr th:only-of-type {\n",
       "        vertical-align: middle;\n",
       "    }\n",
       "\n",
       "    .dataframe tbody tr th {\n",
       "        vertical-align: top;\n",
       "    }\n",
       "\n",
       "    .dataframe thead th {\n",
       "        text-align: right;\n",
       "    }\n",
       "</style>\n",
       "<table border=\"1\" class=\"dataframe\">\n",
       "  <thead>\n",
       "    <tr style=\"text-align: right;\">\n",
       "      <th></th>\n",
       "      <th>index</th>\n",
       "      <th>brewery_id</th>\n",
       "      <th>brewery_name</th>\n",
       "      <th>review_time</th>\n",
       "      <th>review_overall</th>\n",
       "      <th>review_aroma</th>\n",
       "      <th>review_appearance</th>\n",
       "      <th>review_profilename</th>\n",
       "      <th>beer_style</th>\n",
       "      <th>review_palate</th>\n",
       "      <th>review_taste</th>\n",
       "      <th>beer_name</th>\n",
       "      <th>beer_abv</th>\n",
       "      <th>beer_beerid</th>\n",
       "    </tr>\n",
       "  </thead>\n",
       "  <tbody>\n",
       "    <tr>\n",
       "      <th>0</th>\n",
       "      <td>0</td>\n",
       "      <td>10325</td>\n",
       "      <td>Vecchio Birraio</td>\n",
       "      <td>1234817823</td>\n",
       "      <td>1.5</td>\n",
       "      <td>2.0</td>\n",
       "      <td>2.5</td>\n",
       "      <td>stcules</td>\n",
       "      <td>Hefeweizen</td>\n",
       "      <td>1.5</td>\n",
       "      <td>1.5</td>\n",
       "      <td>Sausa Weizen</td>\n",
       "      <td>5.0</td>\n",
       "      <td>47986</td>\n",
       "    </tr>\n",
       "    <tr>\n",
       "      <th>1</th>\n",
       "      <td>1</td>\n",
       "      <td>10325</td>\n",
       "      <td>Vecchio Birraio</td>\n",
       "      <td>1235915097</td>\n",
       "      <td>3.0</td>\n",
       "      <td>2.5</td>\n",
       "      <td>3.0</td>\n",
       "      <td>stcules</td>\n",
       "      <td>English Strong Ale</td>\n",
       "      <td>3.0</td>\n",
       "      <td>3.0</td>\n",
       "      <td>Red Moon</td>\n",
       "      <td>6.2</td>\n",
       "      <td>48213</td>\n",
       "    </tr>\n",
       "    <tr>\n",
       "      <th>2</th>\n",
       "      <td>2</td>\n",
       "      <td>10325</td>\n",
       "      <td>Vecchio Birraio</td>\n",
       "      <td>1235916604</td>\n",
       "      <td>3.0</td>\n",
       "      <td>2.5</td>\n",
       "      <td>3.0</td>\n",
       "      <td>stcules</td>\n",
       "      <td>Foreign / Export Stout</td>\n",
       "      <td>3.0</td>\n",
       "      <td>3.0</td>\n",
       "      <td>Black Horse Black Beer</td>\n",
       "      <td>6.5</td>\n",
       "      <td>48215</td>\n",
       "    </tr>\n",
       "    <tr>\n",
       "      <th>3</th>\n",
       "      <td>3</td>\n",
       "      <td>10325</td>\n",
       "      <td>Vecchio Birraio</td>\n",
       "      <td>1234725145</td>\n",
       "      <td>3.0</td>\n",
       "      <td>3.0</td>\n",
       "      <td>3.5</td>\n",
       "      <td>stcules</td>\n",
       "      <td>German Pilsener</td>\n",
       "      <td>2.5</td>\n",
       "      <td>3.0</td>\n",
       "      <td>Sausa Pils</td>\n",
       "      <td>5.0</td>\n",
       "      <td>47969</td>\n",
       "    </tr>\n",
       "    <tr>\n",
       "      <th>4</th>\n",
       "      <td>4</td>\n",
       "      <td>1075</td>\n",
       "      <td>Caldera Brewing Company</td>\n",
       "      <td>1293735206</td>\n",
       "      <td>4.0</td>\n",
       "      <td>4.5</td>\n",
       "      <td>4.0</td>\n",
       "      <td>johnmichaelsen</td>\n",
       "      <td>American Double / Imperial IPA</td>\n",
       "      <td>4.0</td>\n",
       "      <td>4.5</td>\n",
       "      <td>Cauldron DIPA</td>\n",
       "      <td>7.7</td>\n",
       "      <td>64883</td>\n",
       "    </tr>\n",
       "    <tr>\n",
       "      <th>5</th>\n",
       "      <td>5</td>\n",
       "      <td>1075</td>\n",
       "      <td>Caldera Brewing Company</td>\n",
       "      <td>1325524659</td>\n",
       "      <td>3.0</td>\n",
       "      <td>3.5</td>\n",
       "      <td>3.5</td>\n",
       "      <td>oline73</td>\n",
       "      <td>Herbed / Spiced Beer</td>\n",
       "      <td>3.0</td>\n",
       "      <td>3.5</td>\n",
       "      <td>Caldera Ginger Beer</td>\n",
       "      <td>4.7</td>\n",
       "      <td>52159</td>\n",
       "    </tr>\n",
       "    <tr>\n",
       "      <th>6</th>\n",
       "      <td>6</td>\n",
       "      <td>1075</td>\n",
       "      <td>Caldera Brewing Company</td>\n",
       "      <td>1318991115</td>\n",
       "      <td>3.5</td>\n",
       "      <td>3.5</td>\n",
       "      <td>3.5</td>\n",
       "      <td>Reidrover</td>\n",
       "      <td>Herbed / Spiced Beer</td>\n",
       "      <td>4.0</td>\n",
       "      <td>4.0</td>\n",
       "      <td>Caldera Ginger Beer</td>\n",
       "      <td>4.7</td>\n",
       "      <td>52159</td>\n",
       "    </tr>\n",
       "    <tr>\n",
       "      <th>7</th>\n",
       "      <td>7</td>\n",
       "      <td>1075</td>\n",
       "      <td>Caldera Brewing Company</td>\n",
       "      <td>1306276018</td>\n",
       "      <td>3.0</td>\n",
       "      <td>2.5</td>\n",
       "      <td>3.5</td>\n",
       "      <td>alpinebryant</td>\n",
       "      <td>Herbed / Spiced Beer</td>\n",
       "      <td>2.0</td>\n",
       "      <td>3.5</td>\n",
       "      <td>Caldera Ginger Beer</td>\n",
       "      <td>4.7</td>\n",
       "      <td>52159</td>\n",
       "    </tr>\n",
       "    <tr>\n",
       "      <th>8</th>\n",
       "      <td>8</td>\n",
       "      <td>1075</td>\n",
       "      <td>Caldera Brewing Company</td>\n",
       "      <td>1290454503</td>\n",
       "      <td>4.0</td>\n",
       "      <td>3.0</td>\n",
       "      <td>3.5</td>\n",
       "      <td>LordAdmNelson</td>\n",
       "      <td>Herbed / Spiced Beer</td>\n",
       "      <td>3.5</td>\n",
       "      <td>4.0</td>\n",
       "      <td>Caldera Ginger Beer</td>\n",
       "      <td>4.7</td>\n",
       "      <td>52159</td>\n",
       "    </tr>\n",
       "    <tr>\n",
       "      <th>9</th>\n",
       "      <td>9</td>\n",
       "      <td>1075</td>\n",
       "      <td>Caldera Brewing Company</td>\n",
       "      <td>1285632924</td>\n",
       "      <td>4.5</td>\n",
       "      <td>3.5</td>\n",
       "      <td>5.0</td>\n",
       "      <td>augustgarage</td>\n",
       "      <td>Herbed / Spiced Beer</td>\n",
       "      <td>4.0</td>\n",
       "      <td>4.0</td>\n",
       "      <td>Caldera Ginger Beer</td>\n",
       "      <td>4.7</td>\n",
       "      <td>52159</td>\n",
       "    </tr>\n",
       "  </tbody>\n",
       "</table>\n",
       "</div>"
      ],
      "text/plain": [
       "   index  brewery_id             brewery_name  review_time  review_overall  \\\n",
       "0      0       10325          Vecchio Birraio   1234817823             1.5   \n",
       "1      1       10325          Vecchio Birraio   1235915097             3.0   \n",
       "2      2       10325          Vecchio Birraio   1235916604             3.0   \n",
       "3      3       10325          Vecchio Birraio   1234725145             3.0   \n",
       "4      4        1075  Caldera Brewing Company   1293735206             4.0   \n",
       "5      5        1075  Caldera Brewing Company   1325524659             3.0   \n",
       "6      6        1075  Caldera Brewing Company   1318991115             3.5   \n",
       "7      7        1075  Caldera Brewing Company   1306276018             3.0   \n",
       "8      8        1075  Caldera Brewing Company   1290454503             4.0   \n",
       "9      9        1075  Caldera Brewing Company   1285632924             4.5   \n",
       "\n",
       "   review_aroma  review_appearance review_profilename  \\\n",
       "0           2.0                2.5            stcules   \n",
       "1           2.5                3.0            stcules   \n",
       "2           2.5                3.0            stcules   \n",
       "3           3.0                3.5            stcules   \n",
       "4           4.5                4.0     johnmichaelsen   \n",
       "5           3.5                3.5            oline73   \n",
       "6           3.5                3.5          Reidrover   \n",
       "7           2.5                3.5       alpinebryant   \n",
       "8           3.0                3.5      LordAdmNelson   \n",
       "9           3.5                5.0       augustgarage   \n",
       "\n",
       "                       beer_style  review_palate  review_taste  \\\n",
       "0                      Hefeweizen            1.5           1.5   \n",
       "1              English Strong Ale            3.0           3.0   \n",
       "2          Foreign / Export Stout            3.0           3.0   \n",
       "3                 German Pilsener            2.5           3.0   \n",
       "4  American Double / Imperial IPA            4.0           4.5   \n",
       "5            Herbed / Spiced Beer            3.0           3.5   \n",
       "6            Herbed / Spiced Beer            4.0           4.0   \n",
       "7            Herbed / Spiced Beer            2.0           3.5   \n",
       "8            Herbed / Spiced Beer            3.5           4.0   \n",
       "9            Herbed / Spiced Beer            4.0           4.0   \n",
       "\n",
       "                beer_name  beer_abv  beer_beerid  \n",
       "0            Sausa Weizen       5.0        47986  \n",
       "1                Red Moon       6.2        48213  \n",
       "2  Black Horse Black Beer       6.5        48215  \n",
       "3              Sausa Pils       5.0        47969  \n",
       "4           Cauldron DIPA       7.7        64883  \n",
       "5     Caldera Ginger Beer       4.7        52159  \n",
       "6     Caldera Ginger Beer       4.7        52159  \n",
       "7     Caldera Ginger Beer       4.7        52159  \n",
       "8     Caldera Ginger Beer       4.7        52159  \n",
       "9     Caldera Ginger Beer       4.7        52159  "
      ]
     },
     "execution_count": 123,
     "metadata": {},
     "output_type": "execute_result"
    }
   ],
   "source": [
    "df.head(10)"
   ]
  },
  {
   "attachments": {},
   "cell_type": "markdown",
   "metadata": {},
   "source": [
    "# END"
   ]
  }
 ],
 "metadata": {
  "kernelspec": {
   "display_name": "base",
   "language": "python",
   "name": "python3"
  },
  "language_info": {
   "codemirror_mode": {
    "name": "ipython",
    "version": 3
   },
   "file_extension": ".py",
   "mimetype": "text/x-python",
   "name": "python",
   "nbconvert_exporter": "python",
   "pygments_lexer": "ipython3",
   "version": "3.9.13"
  },
  "orig_nbformat": 4
 },
 "nbformat": 4,
 "nbformat_minor": 2
}
